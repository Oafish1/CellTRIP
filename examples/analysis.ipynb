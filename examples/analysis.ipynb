{
 "cells": [
  {
   "cell_type": "code",
   "execution_count": 1,
   "metadata": {},
   "outputs": [],
   "source": [
    "# High Priority Analysis Changes\n",
    "# Standardize dataset loading\n",
    "# First frame is slightly different\n",
    "\n",
    "## Analyses\n",
    "# Try running with high-dimension latent space and using UMAP to visualize\n",
    "# Perturbation analysis (altering a single gene and observing the change) in a continual manner"
   ]
  },
  {
   "cell_type": "code",
   "execution_count": 2,
   "metadata": {
    "execution": {
     "iopub.execute_input": "2024-04-10T05:35:00.358200Z",
     "iopub.status.busy": "2024-04-10T05:35:00.357945Z",
     "iopub.status.idle": "2024-04-10T05:35:00.373301Z",
     "shell.execute_reply": "2024-04-10T05:35:00.372912Z"
    }
   },
   "outputs": [
    {
     "name": "stdout",
     "output_type": "stream",
     "text": [
      "env: WANDB_NOTEBOOK_NAME=exploration.ipynb\n",
      "env: WANDB_SILENT=true\n"
     ]
    }
   ],
   "source": [
    "%load_ext autoreload\n",
    "%autoreload 2\n",
    "%env WANDB_NOTEBOOK_NAME exploration.ipynb\n",
    "%env WANDB_SILENT true"
   ]
  },
  {
   "cell_type": "code",
   "execution_count": 3,
   "metadata": {
    "execution": {
     "iopub.execute_input": "2024-04-10T05:35:00.407869Z",
     "iopub.status.busy": "2024-04-10T05:35:00.407710Z",
     "iopub.status.idle": "2024-04-10T05:35:02.130225Z",
     "shell.execute_reply": "2024-04-10T05:35:02.129771Z"
    }
   },
   "outputs": [],
   "source": [
    "from collections import defaultdict\n",
    "import os\n",
    "\n",
    "import inept\n",
    "from IPython import display\n",
    "import matplotlib.animation as animation\n",
    "import matplotlib.pyplot as plt\n",
    "import numpy as np\n",
    "import pandas as pd\n",
    "import seaborn as sns\n",
    "import torch\n",
    "import wandb\n",
    "\n",
    "# Set params\n",
    "DEVICE = 'cuda' if torch.cuda.is_available() else 'cpu'\n",
    "DATA_FOLDER = os.path.join(os.path.abspath(''), '../data')\n",
    "PLOT_FOLDER = os.path.join(os.path.abspath(''), '../plots')\n",
    "TEMP_FOLDER = os.path.join(os.path.abspath(''), 'temp')\n",
    "\n",
    "# Disable gradients\n",
    "torch.set_grad_enabled(False)\n",
    "\n",
    "# Style\n",
    "sns.set_context('paper', font_scale=1.25)\n",
    "sns.set_style('darkgrid')\n",
    "sns.set_palette('Accent')\n",
    "PALETTE = 'husl'"
   ]
  },
  {
   "cell_type": "markdown",
   "metadata": {},
   "source": [
    "### Load Files"
   ]
  },
  {
   "cell_type": "code",
   "execution_count": 4,
   "metadata": {},
   "outputs": [],
   "source": [
    "# Animation parameters\n",
    "generalize = True\n",
    "num_nodes_max = 300\n",
    "run_id = '3iiibc12'"
   ]
  },
  {
   "cell_type": "code",
   "execution_count": 5,
   "metadata": {
    "execution": {
     "iopub.execute_input": "2024-04-10T05:35:02.168359Z",
     "iopub.status.busy": "2024-04-10T05:35:02.168204Z",
     "iopub.status.idle": "2024-04-10T05:35:02.476163Z",
     "shell.execute_reply": "2024-04-10T05:35:02.475711Z"
    }
   },
   "outputs": [],
   "source": [
    "# Load run from the wandb API\n",
    "api = wandb.Api()\n",
    "run = api.run(f'oafish/INEPT/{run_id}')\n",
    "\n",
    "# Load configs\n",
    "config = defaultdict(lambda: {})\n",
    "for k, v in run.config.items():\n",
    "    dict_name, key = k.split('/')\n",
    "    config[dict_name][key] = v\n",
    "config = dict(config)\n",
    "\n",
    "# Load model\n",
    "fname = f'trained_models/policy_{run.summary[\"stage\"]:02}.mdl'\n",
    "run.file(fname).download(TEMP_FOLDER, replace=True)\n",
    "policy = torch.load(os.path.join(TEMP_FOLDER, fname)).to(DEVICE).eval()\n",
    "policy.actor.set_action_std(1e-7)  # Place in execution mode (TODO: 0)"
   ]
  },
  {
   "cell_type": "code",
   "execution_count": 6,
   "metadata": {},
   "outputs": [],
   "source": [
    "# Reproducibility\n",
    "torch.manual_seed(config['note']['seed'])\n",
    "if DEVICE == 'cuda': torch.cuda.manual_seed(config['note']['seed'])\n",
    "np.random.seed(config['note']['seed'])"
   ]
  },
  {
   "cell_type": "code",
   "execution_count": 7,
   "metadata": {},
   "outputs": [],
   "source": [
    "# Load data\n",
    "dataset_name = config['data']['dataset']\n",
    "\n",
    "if dataset_name == 'scNMT':\n",
    "    dataset_dir = os.path.join(DATA_FOLDER, 'UnionCom/scNMT')\n",
    "    M1 = pd.read_csv(os.path.join(dataset_dir, 'Paccessibility_300.txt'), delimiter=' ', header=None).to_numpy()\n",
    "    M2 = pd.read_csv(os.path.join(dataset_dir, 'Pmethylation_300.txt'), delimiter=' ', header=None).to_numpy()\n",
    "    M3 = pd.read_csv(os.path.join(dataset_dir, 'RNA_300.txt'), delimiter=' ', header=None).to_numpy()\n",
    "    T1 = pd.read_csv(os.path.join(dataset_dir, 'type1.txt'), delimiter=' ', header=None).to_numpy().flatten()\n",
    "    T2 = pd.read_csv(os.path.join(dataset_dir, 'type2.txt'), delimiter=' ', header=None).to_numpy().flatten()\n",
    "    T3 = pd.read_csv(os.path.join(dataset_dir, 'type3.txt'), delimiter=' ', header=None).to_numpy().flatten()\n",
    "\n",
    "elif dataset_name == 'BrainChromatin':\n",
    "    nrows = None\n",
    "    M1 = pd.read_csv(os.path.join(DATA_FOLDER, 'brainchromatin/multiome_rna_counts.tsv'), delimiter='\\t', nrows=nrows).transpose()\n",
    "    M2 = pd.read_csv(os.path.join(DATA_FOLDER, 'brainchromatin/multiome_atac_gene_activities.tsv'), delimiter='\\t', nrows=nrows).transpose()\n",
    "    M2 = M2.transpose()[M1.index].transpose()\n",
    "    meta = pd.read_csv(os.path.join(DATA_FOLDER, 'brainchromatin/multiome_cell_metadata.txt'), delimiter='\\t')\n",
    "    meta_names = pd.read_csv(os.path.join(DATA_FOLDER, 'brainchromatin/multiome_cluster_names.txt'), delimiter='\\t')\n",
    "    meta_names = meta_names[meta_names['Assay'] == 'Multiome ATAC']\n",
    "    meta = pd.merge(meta, meta_names, left_on='ATAC_cluster', right_on='Cluster.ID', how='left')\n",
    "    meta.index = meta['Cell.ID']\n",
    "    T1 = T2 = np.array(meta.transpose()[M1.index].transpose()['Cluster.Name'])\n",
    "    F1, F2 = M1.columns, M2.columns\n",
    "    M1, M2 = M1.to_numpy(), M2.to_numpy()\n",
    "\n",
    "elif dataset_name == 'scGEM':\n",
    "    M1 = pd.read_csv(os.path.join(DATA_FOLDER, 'UnionCom/scGEM/GeneExpression.txt'), delimiter=' ', header=None).to_numpy()\n",
    "    M2 = pd.read_csv(os.path.join(DATA_FOLDER, 'UnionCom/scGEM/DNAmethylation.txt'), delimiter=' ', header=None).to_numpy()\n",
    "    T1 = pd.read_csv(os.path.join(DATA_FOLDER, 'UnionCom/scGEM/type1.txt'), delimiter=' ', header=None).to_numpy()\n",
    "    T2 = pd.read_csv(os.path.join(DATA_FOLDER, 'UnionCom/scGEM/type2.txt'), delimiter=' ', header=None).to_numpy()\n",
    "    F1 = np.loadtxt(os.path.join(DATA_FOLDER, 'UnionCom/scGEM/gex_names.txt'), dtype='str')\n",
    "    F2 = np.loadtxt(os.path.join(DATA_FOLDER, 'UnionCom/scGEM/dm_names.txt'), dtype='str')\n",
    "\n",
    "# MMD-MA data\n",
    "elif dataset_name == 'MMD-MA':\n",
    "    M1 = pd.read_csv(os.path.join(DATA_FOLDER, 'UnionCom/MMD/s1_mapped1.txt'), delimiter='\\t', header=None).to_numpy()\n",
    "    M2 = pd.read_csv(os.path.join(DATA_FOLDER, 'UnionCom/MMD/s1_mapped2.txt'), delimiter='\\t', header=None).to_numpy()\n",
    "    T1 = pd.read_csv(os.path.join(DATA_FOLDER, 'UnionCom/MMD/s1_type1.txt'), delimiter='\\t', header=None).to_numpy()\n",
    "    T2 = pd.read_csv(os.path.join(DATA_FOLDER, 'UnionCom/MMD/s1_type2.txt'), delimiter='\\t', header=None).to_numpy()\n",
    "\n",
    "# Random data\n",
    "elif dataset_name == 'Random':\n",
    "    num_nodes = 100\n",
    "    M1 = torch.rand((num_nodes, 8), device=DEVICE)\n",
    "    M2 = torch.rand((num_nodes, 16), device=DEVICE)\n",
    "\n",
    "else: assert False, 'No matching dataset found.'\n",
    "\n",
    "# Parameters\n",
    "num_nodes = M1.shape[0] if generalize else config['data']['num_nodes']\n",
    "num_nodes = min(num_nodes, num_nodes_max)\n",
    "modalities = [[M1, M2, M3][2]]\n",
    "types = [[T1, T2, T3][2]]\n",
    "\n",
    "# Modify data\n",
    "modalities = inept.utilities.normalize(*modalities, keep_array=True)  # Normalize\n",
    "# modalities = inept.utilities.pca_features(*modalities, num_features=(512, 512), keep_array=True)  # PCA features (2 min for 8k x 35+k)\n",
    "subsample = inept.utilities.subsample_nodes(*modalities, *types, num_nodes=num_nodes, keep_array=True)  # Subsample nodes\n",
    "modalities, types = subsample[:len(modalities)], subsample[len(modalities):]\n",
    "# modalities = inept.utilities.subsample_features(*modalities, num_features=(16, 16), keep_array=True)  # Subsample features\n",
    "\n",
    "# Cast types\n",
    "modalities = [torch.tensor(Mx, dtype=torch.float32, device=DEVICE) for Mx in modalities]"
   ]
  },
  {
   "cell_type": "code",
   "execution_count": 8,
   "metadata": {},
   "outputs": [],
   "source": [
    "# Initialize environment\n",
    "env = inept.environments.trajectory(*modalities, **config['env'], device=DEVICE)\n",
    "for stage in config['stages']['env']: env.set_rewards(stage)  # Set to final stage"
   ]
  },
  {
   "cell_type": "markdown",
   "metadata": {},
   "source": [
    "### Plot Performance"
   ]
  },
  {
   "cell_type": "code",
   "execution_count": 9,
   "metadata": {
    "execution": {
     "iopub.execute_input": "2024-04-10T06:13:07.854834Z",
     "iopub.status.busy": "2024-04-10T06:13:07.854628Z",
     "iopub.status.idle": "2024-04-10T06:13:08.452522Z",
     "shell.execute_reply": "2024-04-10T06:13:08.452084Z"
    }
   },
   "outputs": [
    {
     "data": {
      "image/png": "[encoded data removed]",
      "text/plain": [
       "<Figure size 500x500 with 3 Axes>"
      ]
     },
     "metadata": {},
     "output_type": "display_data"
    }
   ],
   "source": [
    "# Load history from wandb\n",
    "history = run.history(samples=2000)\n",
    "history['timestep'] = history['end_timestep']\n",
    "history['Runtime (h)'] = history['_runtime'] / 60**2\n",
    "\n",
    "# Plot\n",
    "fig, axs = plt.subplots(3, 1, figsize=(5, 5), sharex=True, layout='constrained')\n",
    "axs = axs.flatten()\n",
    "sns.lineplot(history, x='timestep', y='Runtime (h)', ax=axs[0])\n",
    "sns.lineplot(history, x='timestep', y='action_std', ax=axs[1])\n",
    "sns.lineplot(history, x='timestep', y='average_reward', ax=axs[2])\n",
    "plt.show()"
   ]
  },
  {
   "cell_type": "markdown",
   "metadata": {},
   "source": [
    "### Animate Latent Space"
   ]
  },
  {
   "cell_type": "markdown",
   "metadata": {},
   "source": [
    "##### Functions"
   ]
  },
  {
   "cell_type": "code",
   "execution_count": 10,
   "metadata": {},
   "outputs": [],
   "source": [
    "def animate(\n",
    "    policy,\n",
    "    env,\n",
    "    create_func,\n",
    "    update_func,\n",
    "    steps=config['train']['max_ep_timesteps'],\n",
    "    timescale=10,  # Factor speedup\n",
    "    skip=None,  # Only show frames (frame % skip) == 0\n",
    "    save_to_file=True,\n",
    "    fname=config['data']['dataset'],\n",
    "    file_type='mp4',  # gif for export, mp4 for preview\n",
    "    verbose=True,\n",
    "    **kwargs,\n",
    "):\n",
    "    \"Generate animation with provided hyperparameters\"\n",
    "    # Default parameters\n",
    "    if skip is None: skip = 3 if file_type == 'gif' else 1\n",
    "    assert file_type in ('mp4', 'gif'), f'File type {file_type} not supported.'\n",
    "\n",
    "    # Calculated parameters\n",
    "    frames = int(steps / skip) + 1  # +1 for initial state\n",
    "    interval = int(1e3 * env.delta * skip / timescale)\n",
    "    fps = int(1e3 / interval)  # fps should be ~30 for gif\n",
    "\n",
    "    # Create figure and reset environment\n",
    "    fig, ax, attributes = create_func(env, **kwargs)\n",
    "\n",
    "    # Formatting\n",
    "    ax.set_aspect('equal')\n",
    "    ax.set_xlim([-env.pos_bound-.2, env.pos_bound+.2])\n",
    "    ax.set_ylim([-env.pos_bound-.2, env.pos_bound+.2])\n",
    "\n",
    "    # Update function\n",
    "    update = lambda frame: update_func(frame, policy=policy, env=env, skip=skip, verbose=verbose, ax=ax, **attributes, **kwargs)\n",
    "\n",
    "    # CLI\n",
    "    if verbose: print(f'Total Steps: {steps}')\n",
    "\n",
    "    # Run animation\n",
    "    ani = animation.FuncAnimation(fig=fig, func=update, frames=frames, interval=interval)\n",
    "    if save_to_file:\n",
    "        if file_type == 'mp4': writer = animation.FFMpegWriter(fps=fps, metadata={'artist': 'INEPT'}, extra_args=['-vcodec', 'libx264'], bitrate=8e3)\n",
    "        elif file_type == 'gif': writer = animation.FFMpegWriter(fps=fps)\n",
    "        ani.save(os.path.join(PLOT_FOLDER, f'{fname}.{file_type}'), writer=writer)  # Save\n",
    "    else: display(ani.to_jshtml())  # Display\n",
    "\n",
    "    # CLI\n",
    "    if verbose: print()\n",
    "\n",
    "def env_step(policy, env):\n",
    "    \"Step environment\"\n",
    "    with torch.no_grad():\n",
    "            state = env.get_state(include_modalities=True)\n",
    "            rewards, finished = env.step(policy.act_macro(state, max_batch=config['train']['max_batch']).detach())\n",
    "    return rewards, finished\n",
    "\n",
    "def create_integration(\n",
    "    env,\n",
    "    c=None,\n",
    "    center=False,\n",
    "    **kwargs,\n",
    "):\n",
    "    \"Generic figure creation function\"\n",
    "    fig, ax = plt.subplots(figsize=(5, 5), layout='constrained')\n",
    "    pos = env.get_state().cpu()[:, :2]\n",
    "    if center: pos = pos - pos.mean(dim=0)  # Center for visualization\n",
    "    sct = ax.scatter(*pos.T, c=[sns.color_palette(PALETTE, c.max()+1).as_hex()[i] for i in c])\n",
    "\n",
    "    return fig, ax, dict(sct=sct)\n",
    "\n",
    "def update_integration(\n",
    "    frame,\n",
    "    policy,\n",
    "    env,\n",
    "    sct,\n",
    "    ax,\n",
    "    skip=1,\n",
    "    center=False,\n",
    "    verbose=True,\n",
    "    **kwargs,\n",
    "):\n",
    "    \"Figure update function for integration\"\n",
    "    # CLI\n",
    "    if verbose: print(f'Processed: {frame:04}', end='\\r')\n",
    "\n",
    "    # Escape on initial frame\n",
    "    if frame == 0:\n",
    "        ax.set_title(f'Reward: {0: 0.4f}')\n",
    "        return sct\n",
    "\n",
    "    # Escape if finished\n",
    "    if env.finished(): ax.set_title(f'Finished'); return\n",
    "\n",
    "    # Step environment\n",
    "    for _ in range(skip):\n",
    "        rewards, finished = env_step(policy, env)\n",
    "        if finished: break\n",
    "\n",
    "    # Draw\n",
    "    pos = env.get_state().cpu()[:, :2]\n",
    "    if center: pos = pos - pos.mean(dim=0)  # Center for visualization\n",
    "    sct.set_offsets(pos)\n",
    "    ax.set_title(f'Reward: {rewards.cpu().mean().item(): 0.4f}')\n",
    "    return sct\n",
    "\n",
    "def create_trajectory(*args, **kwargs): return create_integration(*args, **kwargs)\n",
    "\n",
    "def update_trajectory(\n",
    "    frame,\n",
    "    policy,\n",
    "    env,\n",
    "    sct,\n",
    "    ax,\n",
    "    tracked_node_idx,\n",
    "    skip=1,\n",
    "    arrow_kwargs={},\n",
    "    verbose=True,\n",
    "    **kwargs,\n",
    "):\n",
    "    \"Figure update function for trajectory\"\n",
    "    # Default arguments\n",
    "    arrow_kwargs_default = dict(width=.1, color='blue', head_width=0)\n",
    "    for k, v in arrow_kwargs_default.items():\n",
    "        if k not in arrow_kwargs: arrow_kwargs[k] = v\n",
    "\n",
    "    # CLI\n",
    "    if verbose: print(f'Processed: {frame:04}', end='\\r')\n",
    "\n",
    "    # Escape on initial frame\n",
    "    if frame == 0:\n",
    "        ax.set_title(f'Reward: {0: 0.4f}')\n",
    "        return sct\n",
    "\n",
    "    # Escape if finished\n",
    "    if env.finished(): ax.set_title(f'Finished'); return\n",
    "\n",
    "    # Save old position\n",
    "    pos_old = env.get_state().cpu()[:, :2]\n",
    "\n",
    "    # Step environment\n",
    "    for _ in range(skip):\n",
    "        rewards, finished = env_step(policy, env)\n",
    "        if finished: break\n",
    "\n",
    "    # Draw\n",
    "    pos = env.get_state().cpu()[:, :2]\n",
    "    sct.set_offsets(pos)\n",
    "    ax.set_title(f'Reward: {rewards.cpu().mean().item(): 0.4f}')\n",
    "\n",
    "    # Draw trajectory arrow\n",
    "    dpos = pos[tracked_node_idx] - pos_old[tracked_node_idx]\n",
    "    ax.arrow(*pos_old[tracked_node_idx], *dpos, **arrow_kwargs)\n",
    "\n",
    "    return sct"
   ]
  },
  {
   "cell_type": "markdown",
   "metadata": {},
   "source": [
    "##### Running"
   ]
  },
  {
   "cell_type": "code",
   "execution_count": 11,
   "metadata": {},
   "outputs": [],
   "source": [
    "# Universal animation parameters\n",
    "seed = 42\n",
    "file_type = 'mp4'\n",
    "max_steps = 400\n",
    "suffix = '-3'\n",
    "\n",
    "# Process\n",
    "steps = config['train']['max_ep_timesteps'] if max_steps is None else min(max_steps, config['train']['max_ep_timesteps'])\n",
    "c = np.unique(types[0].flatten(), return_inverse=True)[1]  # TODO: Extend to non-matching modalities"
   ]
  },
  {
   "cell_type": "code",
   "execution_count": 12,
   "metadata": {
    "execution": {
     "iopub.execute_input": "2024-04-10T06:13:08.454443Z",
     "iopub.status.busy": "2024-04-10T06:13:08.454272Z",
     "iopub.status.idle": "2024-04-10T06:14:20.893461Z",
     "shell.execute_reply": "2024-04-10T06:14:20.892791Z"
    }
   },
   "outputs": [
    {
     "name": "stdout",
     "output_type": "stream",
     "text": [
      "Total Steps: 400\n",
      "Processed: 0400\n",
      "Centering square distance: 0.127\n"
     ]
    }
   ],
   "source": [
    "%matplotlib agg\n",
    "# Reproducibility\n",
    "torch.manual_seed(seed)\n",
    "\n",
    "# Integration animation\n",
    "env.reset()\n",
    "animate(\n",
    "    policy,\n",
    "    env,\n",
    "    steps=steps,\n",
    "    create_func=create_integration,\n",
    "    update_func=update_integration,\n",
    "    c=c,\n",
    "    fname=f'{config[\"data\"][\"dataset\"]}{suffix}',\n",
    "    file_type=file_type)\n",
    "pos, vel = env.pos.detach().clone(), env.vel.detach().clone()  # Save steady state\n",
    "\n",
    "# Get distance from origin for steady state\n",
    "print(f'Centering square distance: {pos.mean(dim=0).square().sum().cpu().item():.3f}')"
   ]
  },
  {
   "cell_type": "code",
   "execution_count": 13,
   "metadata": {},
   "outputs": [
    {
     "name": "stdout",
     "output_type": "stream",
     "text": [
      "Total Steps: 400\n",
      "Processed: 0400\n"
     ]
    }
   ],
   "source": [
    "%matplotlib agg\n",
    "# Reproducibility\n",
    "torch.manual_seed(seed)\n",
    "\n",
    "# Trajectory analysis\n",
    "node_to_analyze, node_to_copy = 0, 2  # Which node will be analyzed\n",
    "env.pos, env.vel = pos.detach().clone(), vel.detach().clone()  # Reset env to steady state\n",
    "if node_to_copy is None: env.pos[node_to_analyze] = env.pos_bound * 2 * (torch.rand(2) - .5)  # Randomize node position\n",
    "else: env.pos[node_to_analyze] = env.pos[node_to_copy]  # Copy node position\n",
    "animate(\n",
    "    policy,\n",
    "    env,\n",
    "    steps=steps,\n",
    "    create_func=create_trajectory,\n",
    "    update_func=update_trajectory,\n",
    "    c=c,\n",
    "    tracked_node_idx=node_to_analyze,\n",
    "    fname=f'{config[\"data\"][\"dataset\"]}{suffix}_trajectory',\n",
    "    file_type=file_type)"
   ]
  },
  {
   "cell_type": "code",
   "execution_count": 14,
   "metadata": {},
   "outputs": [
    {
     "name": "stdout",
     "output_type": "stream",
     "text": [
      "Total Steps: 400\n",
      "Processed: 0400\n"
     ]
    }
   ],
   "source": [
    "%matplotlib agg\n",
    "# Reproducibility\n",
    "torch.manual_seed(seed)\n",
    "\n",
    "# Feature modification\n",
    "features_to_randomize = [(0, list(range(len(modalities[0]) // 2)))]  # (modality, [features])\n",
    "env.pos, env.vel = pos.detach().clone(), vel.detach().clone()  # Reset env to steady state\n",
    "# env.reset()  # Reset env to new\n",
    "old_modalities = [m.detach().clone() for m in env.modalities]\n",
    "for modality, features in features_to_randomize:\n",
    "    for feature in features:\n",
    "        env.modalities[modality][:, feature] = torch.normal(\n",
    "            env.modalities[modality][:, feature].mean().expand(env.modalities[modality].shape[0]),\n",
    "            env.modalities[modality][:, feature].std().expand(env.modalities[modality].shape[0]),\n",
    ")\n",
    "animate(\n",
    "    policy,\n",
    "    env,\n",
    "    steps=steps,\n",
    "    create_func=create_integration,\n",
    "    update_func=update_integration,\n",
    "    c=c,\n",
    "    fname=f'{config[\"data\"][\"dataset\"]}{suffix}_feature',\n",
    "    file_type=file_type)\n",
    "env.modalities = old_modalities"
   ]
  }
 ],
 "metadata": {
  "kernelspec": {
   "display_name": "inept",
   "language": "python",
   "name": "python3"
  },
  "language_info": {
   "codemirror_mode": {
    "name": "ipython",
    "version": 3
   },
   "file_extension": ".py",
   "mimetype": "text/x-python",
   "name": "python",
   "nbconvert_exporter": "python",
   "pygments_lexer": "ipython3",
   "version": "3.10.14"
  }
 },
 "nbformat": 4,
 "nbformat_minor": 2
}
