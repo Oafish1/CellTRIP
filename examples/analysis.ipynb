{
 "cells": [
  {
   "cell_type": "code",
   "execution_count": 1,
   "metadata": {
    "execution": {
     "iopub.execute_input": "2024-11-18T15:58:21.141945Z",
     "iopub.status.busy": "2024-11-18T15:58:21.141776Z",
     "iopub.status.idle": "2024-11-18T15:58:23.315609Z",
     "shell.execute_reply": "2024-11-18T15:58:23.315089Z"
    }
   },
   "outputs": [
    {
     "name": "stdout",
     "output_type": "stream",
     "text": [
      "env: WANDB_NOTEBOOK_NAME=analysis.ipynb\n",
      "env: WANDB_SILENT=true\n"
     ]
    }
   ],
   "source": [
    "%load_ext autoreload\n",
    "%autoreload 2\n",
    "%env WANDB_NOTEBOOK_NAME analysis.ipynb\n",
    "%env WANDB_SILENT true\n",
    "%matplotlib agg\n",
    "# ipympl\n",
    "\n",
    "from collections import defaultdict\n",
    "from itertools import product\n",
    "import re\n",
    "import os\n",
    "import tempfile\n",
    "\n",
    "import matplotlib as mpl\n",
    "import matplotlib.collections as mpl_col\n",
    "import matplotlib.gridspec as mpl_grid\n",
    "import matplotlib.pyplot as plt\n",
    "import matplotlib.animation as animation\n",
    "import mpl_toolkits.mplot3d as mp3d\n",
    "import numpy as np\n",
    "import seaborn as sns\n",
    "import sklearn.metrics\n",
    "import torch\n",
    "from tqdm import tqdm\n",
    "import wandb\n",
    "\n",
    "import data\n",
    "import inept\n",
    "\n",
    "# Set params\n",
    "DEVICE = 'cuda:0' if torch.cuda.is_available() else 'cpu'\n",
    "BASE_FOLDER = os.path.abspath('')\n",
    "DATA_FOLDER = os.path.join(BASE_FOLDER, '../data')\n",
    "PLOT_FOLDER = os.path.join(BASE_FOLDER, '../plots')\n",
    "\n",
    "# Style\n",
    "sns.set_context('paper', font_scale=1.25)\n",
    "sns.set_style('white')\n",
    "sns.set_palette('husl')\n",
    "\n",
    "# MPL params\n",
    "mpl.rcParams['animation.embed_limit'] = 100\n",
    "\n",
    "# Disable gradients\n",
    "torch.set_grad_enabled(False);"
   ]
  },
  {
   "cell_type": "markdown",
   "metadata": {},
   "source": [
    "- HIGH PRIORITY\n",
    "  - Add more accuracy metrics\n",
    "  - Perturbation analysis with inverse transform\n",
    "  - Add 2D functionality\n",
    "  - Add optional UMAP\n",
    "\n",
    "- LOW PRIORITY\n",
    "  - Switch to `mayavi` instead of mpl to have true 3d and proper layering"
   ]
  },
  {
   "cell_type": "markdown",
   "metadata": {},
   "source": [
    "### Load All Classes"
   ]
  },
  {
   "cell_type": "code",
   "execution_count": null,
   "metadata": {
    "execution": {
     "iopub.execute_input": "2024-11-18T15:58:23.318141Z",
     "iopub.status.busy": "2024-11-18T15:58:23.317848Z",
     "iopub.status.idle": "2024-11-18T15:58:24.938019Z",
     "shell.execute_reply": "2024-11-18T15:58:24.937531Z"
    }
   },
   "outputs": [
    {
     "name": "stdout",
     "output_type": "stream",
     "text": [
      "Policy found at stage 14\n"
     ]
    }
   ],
   "source": [
    "# Parameters\n",
    "run_id = (\n",
    "    'maofk1f2',  # ExSeq NR\n",
    "    'f6ajo2am',  # smFish NR\n",
    "    'vb1x7bae',  # MERFISH NR\n",
    "    '473vyon2',  # ISS NR\n",
    "    '4i9rhkfe',  # ISS Random 200 20k\n",
    "    'k52g4dx3',  # Random 100x\n",
    "    '2dt27jy2',  # No random 20k\n",
    ")[1]\n",
    "stage_override = None  # Manually override policy stage selection\n",
    "num_nodes = None\n",
    "seed_override = None  # 43\n",
    "\n",
    "# Load run\n",
    "api = wandb.Api()\n",
    "run = api.run(f'oafish/INEPT/{run_id}')\n",
    "config = defaultdict(lambda: {})\n",
    "for k, v in run.config.items():\n",
    "    dict_name, key = k.split('/')\n",
    "    config[dict_name][key] = v\n",
    "config = dict(config)\n",
    "\n",
    "# Reproducibility\n",
    "seed = seed_override if seed_override is not None else config['note']['seed']\n",
    "torch.manual_seed(seed)\n",
    "if torch.cuda.is_available(): torch.cuda.manual_seed(seed)\n",
    "np.random.seed(seed)\n",
    "\n",
    "# Load data\n",
    "modalities, types, features = data.load_data(config['data']['dataset'], DATA_FOLDER)\n",
    "data_dict = config['data']\n",
    "# data_dict = inept.utilities.overwrite_dict(data_dict, {'standardize': True})\n",
    "if num_nodes is not None: data_dict = inept.utilities.overwrite_dict(data_dict, {'num_nodes': num_nodes})\n",
    "ppc = inept.utilities.Preprocessing(**data_dict, device=DEVICE)\n",
    "modalities = ppc.fit_transform(modalities)\n",
    "modalities, types = ppc.subsample(modalities, types)\n",
    "modalities = ppc.cast(modalities)\n",
    "\n",
    "# Load env\n",
    "env = inept.environments.trajectory(*modalities, **config['env'], device=DEVICE)\n",
    "\n",
    "# Get latest policy\n",
    "latest_mdl = [-1, None]  # Pkl\n",
    "latest_wgt = [-1, None]  # State dict\n",
    "for file in run.files():\n",
    "    # Find mdl files\n",
    "    matches = re.findall(f'^(?:models|trained_models)/policy_(\\w+).(mdl|wgt)$', file.name)\n",
    "    if len(matches) > 0: stage = int(matches[0][0]); ftype = matches[0][1]\n",
    "    else: continue\n",
    "\n",
    "    # Record\n",
    "    latest_known_stage = latest_mdl[0] if ftype == 'mdl' else latest_wgt[0]\n",
    "    if (stage_override is None and stage > latest_known_stage) or (stage_override is not None and stage == stage_override):\n",
    "        if ftype == 'mdl': latest_mdl = [stage, file]\n",
    "        elif ftype == 'wgt': latest_wgt = [stage, file]\n",
    "print(f'Policy found at stage {latest_mdl[0]}')\n",
    "\n",
    "# Load file\n",
    "load_type = 'wgt'\n",
    "if load_type == 'mdl':\n",
    "    with tempfile.TemporaryDirectory() as tmpdir:\n",
    "        latest_mdl[1].download(tmpdir, replace=True)\n",
    "        policy = torch.load(os.path.join(tmpdir, latest_mdl[1].name))\n",
    "elif load_type == 'wgt':\n",
    "    # Mainly used in the case of old argument names, also more secure\n",
    "    with tempfile.TemporaryDirectory() as tmpdir:\n",
    "        latest_wgt[1].download(tmpdir, replace=True)\n",
    "        config_to_use = config['policy']\n",
    "        # config_to_use = inept.utilities.overwrite_dict(config['policy'], {'positional_dim': 6, 'modal_dims': [76]})\n",
    "        policy = inept.models.PPO(**config_to_use)\n",
    "        incompatible_keys = policy.load_state_dict(torch.load(os.path.join(tmpdir, latest_wgt[1].name), weights_only=True))\n",
    "policy = policy.to(DEVICE).eval()\n",
    "policy.actor.set_action_std(1e-7)"
   ]
  },
  {
   "cell_type": "markdown",
   "metadata": {},
   "source": [
    "### Generate Runs"
   ]
  },
  {
   "cell_type": "code",
   "execution_count": 3,
   "metadata": {
    "execution": {
     "iopub.execute_input": "2024-11-18T15:58:24.940382Z",
     "iopub.status.busy": "2024-11-18T15:58:24.940123Z",
     "iopub.status.idle": "2024-11-18T15:58:24.961115Z",
     "shell.execute_reply": "2024-11-18T15:58:24.960634Z"
    }
   },
   "outputs": [],
   "source": [
    "# Initialize memories\n",
    "memories = {}"
   ]
  },
  {
   "cell_type": "markdown",
   "metadata": {},
   "source": [
    "##### Integration"
   ]
  },
  {
   "cell_type": "code",
   "execution_count": 4,
   "metadata": {
    "execution": {
     "iopub.execute_input": "2024-11-18T15:58:24.963351Z",
     "iopub.status.busy": "2024-11-18T15:58:24.963178Z",
     "iopub.status.idle": "2024-11-18T15:58:24.986117Z",
     "shell.execute_reply": "2024-11-18T15:58:24.985647Z"
    }
   },
   "outputs": [],
   "source": [
    "def get_present(timestep, present, labels, *args, deployment, state=None):\n",
    "    # Copy status\n",
    "    present = present.clone()\n",
    "    if state is not None: state = state.clone()\n",
    "\n",
    "    # Iterate over each label\n",
    "    for label, delay, rate, origin in zip(*deployment.values()):\n",
    "        # If delay has been reached\n",
    "        if timestep >= delay:\n",
    "            # Look at each node\n",
    "            for i in range(len(present)):\n",
    "                # If label matches and not already present\n",
    "                if labels[i] == label and not present[i]:\n",
    "                    # Roll for appearance\n",
    "                    if np.random.rand() < rate:\n",
    "                        # Mark as present and set origin\n",
    "                        if origin is not None:\n",
    "                            state[i] = state[np.random.choice(np.argwhere((labels==origin)*present.cpu().numpy()).flatten())]\n",
    "                        present[i] = True\n",
    "\n",
    "    # Return nicely\n",
    "    ret = (present,)\n",
    "    if state is not None: ret += (state,)\n",
    "    return inept.utilities.clean_return(ret)"
   ]
  },
  {
   "cell_type": "code",
   "execution_count": 5,
   "metadata": {
    "execution": {
     "iopub.execute_input": "2024-11-18T15:58:24.988334Z",
     "iopub.status.busy": "2024-11-18T15:58:24.988149Z",
     "iopub.status.idle": "2024-11-18T15:58:33.425488Z",
     "shell.execute_reply": "2024-11-18T15:58:33.425048Z"
    }
   },
   "outputs": [
    {
     "name": "stderr",
     "output_type": "stream",
     "text": [
      "\r\n",
      "  0%|                                                                                                                                                                                                    | 0/1000 [00:00<?, ?it/s]"
     ]
    },
    {
     "name": "stderr",
     "output_type": "stream",
     "text": [
      "\r\n",
      "  0%|▏                                                                                                                                                                                           | 1/1000 [00:00<06:19,  2.64it/s]"
     ]
    },
    {
     "name": "stderr",
     "output_type": "stream",
     "text": [
      "\r\n",
      "  1%|██                                                                                                                                                                                         | 11/1000 [00:00<00:33, 29.23it/s]"
     ]
    },
    {
     "name": "stderr",
     "output_type": "stream",
     "text": [
      "\r\n",
      "  2%|████                                                                                                                                                                                       | 22/1000 [00:00<00:19, 50.64it/s]"
     ]
    },
    {
     "name": "stderr",
     "output_type": "stream",
     "text": [
      "\r\n",
      "  3%|██████▏                                                                                                                                                                                    | 33/1000 [00:00<00:14, 65.86it/s]"
     ]
    },
    {
     "name": "stderr",
     "output_type": "stream",
     "text": [
      "\r\n",
      "  4%|████████▏                                                                                                                                                                                  | 44/1000 [00:00<00:12, 76.56it/s]"
     ]
    },
    {
     "name": "stderr",
     "output_type": "stream",
     "text": [
      "\r\n",
      "  6%|██████████▎                                                                                                                                                                                | 55/1000 [00:00<00:11, 84.12it/s]"
     ]
    },
    {
     "name": "stderr",
     "output_type": "stream",
     "text": [
      "\r\n",
      "  7%|████████████▎                                                                                                                                                                              | 66/1000 [00:01<00:10, 89.48it/s]"
     ]
    },
    {
     "name": "stderr",
     "output_type": "stream",
     "text": [
      "\r\n",
      "  8%|██████████████▍                                                                                                                                                                            | 77/1000 [00:01<00:09, 93.22it/s]"
     ]
    },
    {
     "name": "stderr",
     "output_type": "stream",
     "text": [
      "\r\n",
      "  9%|████████████████▍                                                                                                                                                                          | 88/1000 [00:01<00:09, 95.84it/s]"
     ]
    },
    {
     "name": "stderr",
     "output_type": "stream",
     "text": [
      "\r\n",
      " 10%|██████████████████▌                                                                                                                                                                        | 99/1000 [00:01<00:09, 97.66it/s]"
     ]
    },
    {
     "name": "stderr",
     "output_type": "stream",
     "text": [
      "\r\n",
      " 11%|████████████████████▍                                                                                                                                                                     | 110/1000 [00:01<00:08, 98.92it/s]"
     ]
    },
    {
     "name": "stderr",
     "output_type": "stream",
     "text": [
      "\r\n",
      " 12%|██████████████████████▌                                                                                                                                                                   | 121/1000 [00:01<00:08, 99.77it/s]"
     ]
    },
    {
     "name": "stderr",
     "output_type": "stream",
     "text": [
      "\r\n",
      " 13%|████████████████████████▍                                                                                                                                                                | 132/1000 [00:01<00:08, 100.36it/s]"
     ]
    },
    {
     "name": "stderr",
     "output_type": "stream",
     "text": [
      "\r\n",
      " 14%|██████████████████████████▍                                                                                                                                                              | 143/1000 [00:01<00:08, 100.74it/s]"
     ]
    },
    {
     "name": "stderr",
     "output_type": "stream",
     "text": [
      "\r\n",
      " 15%|████████████████████████████▍                                                                                                                                                            | 154/1000 [00:01<00:08, 100.98it/s]"
     ]
    },
    {
     "name": "stderr",
     "output_type": "stream",
     "text": [
      "\r\n",
      " 16%|██████████████████████████████▌                                                                                                                                                          | 165/1000 [00:01<00:08, 101.20it/s]"
     ]
    },
    {
     "name": "stderr",
     "output_type": "stream",
     "text": [
      "\r\n",
      " 18%|████████████████████████████████▌                                                                                                                                                        | 176/1000 [00:02<00:08, 101.33it/s]"
     ]
    },
    {
     "name": "stderr",
     "output_type": "stream",
     "text": [
      "\r\n",
      " 19%|██████████████████████████████████▌                                                                                                                                                      | 187/1000 [00:02<00:08, 101.45it/s]"
     ]
    },
    {
     "name": "stderr",
     "output_type": "stream",
     "text": [
      "\r\n",
      " 20%|████████████████████████████████████▋                                                                                                                                                    | 198/1000 [00:02<00:07, 101.57it/s]"
     ]
    },
    {
     "name": "stderr",
     "output_type": "stream",
     "text": [
      "\r\n",
      " 21%|██████████████████████████████████████▋                                                                                                                                                  | 209/1000 [00:02<00:07, 101.19it/s]"
     ]
    },
    {
     "name": "stderr",
     "output_type": "stream",
     "text": [
      "\r\n",
      " 22%|████████████████████████████████████████▋                                                                                                                                                | 220/1000 [00:02<00:07, 100.85it/s]"
     ]
    },
    {
     "name": "stderr",
     "output_type": "stream",
     "text": [
      "\r\n",
      " 23%|██████████████████████████████████████████▋                                                                                                                                              | 231/1000 [00:02<00:07, 101.05it/s]"
     ]
    },
    {
     "name": "stderr",
     "output_type": "stream",
     "text": [
      "\r\n",
      " 24%|████████████████████████████████████████████▊                                                                                                                                            | 242/1000 [00:02<00:07, 101.27it/s]"
     ]
    },
    {
     "name": "stderr",
     "output_type": "stream",
     "text": [
      "\r\n",
      " 25%|██████████████████████████████████████████████▊                                                                                                                                          | 253/1000 [00:02<00:07, 100.29it/s]"
     ]
    },
    {
     "name": "stderr",
     "output_type": "stream",
     "text": [
      "\r\n",
      " 26%|████████████████████████████████████████████████▊                                                                                                                                        | 264/1000 [00:02<00:07, 100.03it/s]"
     ]
    },
    {
     "name": "stderr",
     "output_type": "stream",
     "text": [
      "\r\n",
      " 28%|██████████████████████████████████████████████████▉                                                                                                                                      | 275/1000 [00:03<00:07, 100.58it/s]"
     ]
    },
    {
     "name": "stderr",
     "output_type": "stream",
     "text": [
      "\r\n",
      " 29%|████████████████████████████████████████████████████▉                                                                                                                                    | 286/1000 [00:03<00:07, 100.93it/s]"
     ]
    },
    {
     "name": "stderr",
     "output_type": "stream",
     "text": [
      "\r\n",
      " 30%|██████████████████████████████████████████████████████▉                                                                                                                                  | 297/1000 [00:03<00:06, 101.21it/s]"
     ]
    },
    {
     "name": "stderr",
     "output_type": "stream",
     "text": [
      "\r\n",
      " 31%|████████████████████████████████████████████████████████▉                                                                                                                                | 308/1000 [00:03<00:06, 101.29it/s]"
     ]
    },
    {
     "name": "stderr",
     "output_type": "stream",
     "text": [
      "\r\n",
      " 32%|███████████████████████████████████████████████████████████                                                                                                                              | 319/1000 [00:03<00:06, 101.42it/s]"
     ]
    },
    {
     "name": "stderr",
     "output_type": "stream",
     "text": [
      "\r\n",
      " 33%|█████████████████████████████████████████████████████████████                                                                                                                            | 330/1000 [00:03<00:06, 101.53it/s]"
     ]
    },
    {
     "name": "stderr",
     "output_type": "stream",
     "text": [
      "\r\n",
      " 34%|███████████████████████████████████████████████████████████████                                                                                                                          | 341/1000 [00:03<00:06, 101.69it/s]"
     ]
    },
    {
     "name": "stderr",
     "output_type": "stream",
     "text": [
      "\r\n",
      " 35%|█████████████████████████████████████████████████████████████████                                                                                                                        | 352/1000 [00:03<00:06, 101.68it/s]"
     ]
    },
    {
     "name": "stderr",
     "output_type": "stream",
     "text": [
      "\r\n",
      " 36%|███████████████████████████████████████████████████████████████████▏                                                                                                                     | 363/1000 [00:03<00:06, 101.76it/s]"
     ]
    },
    {
     "name": "stderr",
     "output_type": "stream",
     "text": [
      "\r\n",
      " 37%|█████████████████████████████████████████████████████████████████████▏                                                                                                                   | 374/1000 [00:04<00:06, 101.60it/s]"
     ]
    },
    {
     "name": "stderr",
     "output_type": "stream",
     "text": [
      "\r\n",
      " 38%|███████████████████████████████████████████████████████████████████████▏                                                                                                                 | 385/1000 [00:04<00:06, 101.60it/s]"
     ]
    },
    {
     "name": "stderr",
     "output_type": "stream",
     "text": [
      "\r\n",
      " 40%|█████████████████████████████████████████████████████████████████████████▎                                                                                                               | 396/1000 [00:04<00:05, 101.62it/s]"
     ]
    },
    {
     "name": "stderr",
     "output_type": "stream",
     "text": [
      "\r\n",
      " 41%|███████████████████████████████████████████████████████████████████████████▎                                                                                                             | 407/1000 [00:04<00:05, 101.58it/s]"
     ]
    },
    {
     "name": "stderr",
     "output_type": "stream",
     "text": [
      "\r\n",
      " 42%|█████████████████████████████████████████████████████████████████████████████▌                                                                                                           | 419/1000 [00:04<00:05, 105.57it/s]"
     ]
    },
    {
     "name": "stderr",
     "output_type": "stream",
     "text": [
      "\r\n",
      " 44%|████████████████████████████████████████████████████████████████████████████████▍                                                                                                        | 435/1000 [00:04<00:04, 119.76it/s]"
     ]
    },
    {
     "name": "stderr",
     "output_type": "stream",
     "text": [
      "\r\n",
      " 45%|███████████████████████████████████████████████████████████████████████████████████▍                                                                                                     | 451/1000 [00:04<00:04, 131.20it/s]"
     ]
    },
    {
     "name": "stderr",
     "output_type": "stream",
     "text": [
      "\r\n",
      " 47%|██████████████████████████████████████████████████████████████████████████████████████▌                                                                                                  | 468/1000 [00:04<00:03, 140.01it/s]"
     ]
    },
    {
     "name": "stderr",
     "output_type": "stream",
     "text": [
      "\r\n",
      " 48%|█████████████████████████████████████████████████████████████████████████████████████████▌                                                                                               | 484/1000 [00:04<00:03, 145.68it/s]"
     ]
    },
    {
     "name": "stderr",
     "output_type": "stream",
     "text": [
      "\r\n",
      " 50%|████████████████████████████████████████████████████████████████████████████████████████████▌                                                                                            | 500/1000 [00:04<00:03, 149.37it/s]"
     ]
    },
    {
     "name": "stderr",
     "output_type": "stream",
     "text": [
      "\r\n",
      " 52%|███████████████████████████████████████████████████████████████████████████████████████████████▍                                                                                         | 516/1000 [00:05<00:03, 151.51it/s]"
     ]
    },
    {
     "name": "stderr",
     "output_type": "stream",
     "text": [
      "\r\n",
      " 53%|██████████████████████████████████████████████████████████████████████████████████████████████████▍                                                                                      | 532/1000 [00:05<00:03, 151.85it/s]"
     ]
    },
    {
     "name": "stderr",
     "output_type": "stream",
     "text": [
      "\r\n",
      " 55%|█████████████████████████████████████████████████████████████████████████████████████████████████████▍                                                                                   | 548/1000 [00:05<00:02, 153.16it/s]"
     ]
    },
    {
     "name": "stderr",
     "output_type": "stream",
     "text": [
      "\r\n",
      " 56%|████████████████████████████████████████████████████████████████████████████████████████████████████████▎                                                                                | 564/1000 [00:05<00:02, 146.77it/s]"
     ]
    },
    {
     "name": "stderr",
     "output_type": "stream",
     "text": [
      "\r\n",
      " 58%|███████████████████████████████████████████████████████████████████████████████████████████████████████████▎                                                                             | 580/1000 [00:05<00:02, 148.67it/s]"
     ]
    },
    {
     "name": "stderr",
     "output_type": "stream",
     "text": [
      "\r\n",
      " 60%|██████████████████████████████████████████████████████████████████████████████████████████████████████████████▍                                                                          | 597/1000 [00:05<00:02, 152.29it/s]"
     ]
    },
    {
     "name": "stderr",
     "output_type": "stream",
     "text": [
      "\r\n",
      " 61%|█████████████████████████████████████████████████████████████████████████████████████████████████████████████████▍                                                                       | 613/1000 [00:05<00:02, 147.69it/s]"
     ]
    },
    {
     "name": "stderr",
     "output_type": "stream",
     "text": [
      "\r\n",
      " 63%|████████████████████████████████████████████████████████████████████████████████████████████████████████████████████▏                                                                    | 628/1000 [00:05<00:02, 143.71it/s]"
     ]
    },
    {
     "name": "stderr",
     "output_type": "stream",
     "text": [
      "\r\n",
      " 64%|██████████████████████████████████████████████████████████████████████████████████████████████████████████████████████▉                                                                  | 643/1000 [00:05<00:02, 145.45it/s]"
     ]
    },
    {
     "name": "stderr",
     "output_type": "stream",
     "text": [
      "\r\n",
      " 66%|█████████████████████████████████████████████████████████████████████████████████████████████████████████████████████████▋                                                               | 658/1000 [00:06<00:02, 143.32it/s]"
     ]
    },
    {
     "name": "stderr",
     "output_type": "stream",
     "text": [
      "\r\n",
      " 67%|████████████████████████████████████████████████████████████████████████████████████████████████████████████████████████████▋                                                            | 674/1000 [00:06<00:02, 148.06it/s]"
     ]
    },
    {
     "name": "stderr",
     "output_type": "stream",
     "text": [
      "\r\n",
      " 69%|███████████████████████████████████████████████████████████████████████████████████████████████████████████████████████████████▍                                                         | 689/1000 [00:06<00:02, 145.16it/s]"
     ]
    },
    {
     "name": "stderr",
     "output_type": "stream",
     "text": [
      "\r\n",
      " 70%|██████████████████████████████████████████████████████████████████████████████████████████████████████████████████████████████████▏                                                      | 704/1000 [00:06<00:02, 141.91it/s]"
     ]
    },
    {
     "name": "stderr",
     "output_type": "stream",
     "text": [
      "\r\n",
      " 72%|█████████████████████████████████████████████████████████████████████████████████████████████████████████████████████████████████████                                                    | 719/1000 [00:06<00:01, 143.99it/s]"
     ]
    },
    {
     "name": "stderr",
     "output_type": "stream",
     "text": [
      "\r\n",
      " 73%|███████████████████████████████████████████████████████████████████████████████████████████████████████████████████████████████████████▊                                                 | 734/1000 [00:06<00:01, 145.49it/s]"
     ]
    },
    {
     "name": "stderr",
     "output_type": "stream",
     "text": [
      "\r\n",
      " 75%|██████████████████████████████████████████████████████████████████████████████████████████████████████████████████████████████████████████▊                                              | 750/1000 [00:06<00:01, 148.91it/s]"
     ]
    },
    {
     "name": "stderr",
     "output_type": "stream",
     "text": [
      "\r\n",
      " 76%|█████████████████████████████████████████████████████████████████████████████████████████████████████████████████████████████████████████████▌                                           | 765/1000 [00:06<00:01, 148.78it/s]"
     ]
    },
    {
     "name": "stderr",
     "output_type": "stream",
     "text": [
      "\r\n",
      " 78%|████████████████████████████████████████████████████████████████████████████████████████████████████████████████████████████████████████████████▎                                        | 780/1000 [00:06<00:01, 146.74it/s]"
     ]
    },
    {
     "name": "stderr",
     "output_type": "stream",
     "text": [
      "\r\n",
      " 80%|███████████████████████████████████████████████████████████████████████████████████████████████████████████████████████████████████████████████████                                      | 795/1000 [00:07<00:01, 140.97it/s]"
     ]
    },
    {
     "name": "stderr",
     "output_type": "stream",
     "text": [
      "\r\n",
      " 81%|█████████████████████████████████████████████████████████████████████████████████████████████████████████████████████████████████████████████████████▊                                   | 810/1000 [00:07<00:01, 141.27it/s]"
     ]
    },
    {
     "name": "stderr",
     "output_type": "stream",
     "text": [
      "\r\n",
      " 83%|████████████████████████████████████████████████████████████████████████████████████████████████████████████████████████████████████████████████████████▊                                | 826/1000 [00:07<00:01, 144.51it/s]"
     ]
    },
    {
     "name": "stderr",
     "output_type": "stream",
     "text": [
      "\r\n",
      " 84%|███████████████████████████████████████████████████████████████████████████████████████████████████████████████████████████████████████████████████████████▊                             | 842/1000 [00:07<00:01, 148.46it/s]"
     ]
    },
    {
     "name": "stderr",
     "output_type": "stream",
     "text": [
      "\r\n",
      " 86%|██████████████████████████████████████████████████████████████████████████████████████████████████████████████████████████████████████████████████████████████▌                          | 857/1000 [00:07<00:00, 143.92it/s]"
     ]
    },
    {
     "name": "stderr",
     "output_type": "stream",
     "text": [
      "\r\n",
      " 87%|█████████████████████████████████████████████████████████████████████████████████████████████████████████████████████████████████████████████████████████████████▎                       | 872/1000 [00:07<00:00, 140.03it/s]"
     ]
    },
    {
     "name": "stderr",
     "output_type": "stream",
     "text": [
      "\r\n",
      " 89%|████████████████████████████████████████████████████████████████████████████████████████████████████████████████████████████████████████████████████████████████████▎                    | 888/1000 [00:07<00:00, 143.22it/s]"
     ]
    },
    {
     "name": "stderr",
     "output_type": "stream",
     "text": [
      "\r\n",
      " 90%|███████████████████████████████████████████████████████████████████████████████████████████████████████████████████████████████████████████████████████████████████████▏                 | 904/1000 [00:07<00:00, 145.43it/s]"
     ]
    },
    {
     "name": "stderr",
     "output_type": "stream",
     "text": [
      "\r\n",
      " 92%|██████████████████████████████████████████████████████████████████████████████████████████████████████████████████████████████████████████████████████████████████████████▍              | 921/1000 [00:07<00:00, 149.84it/s]"
     ]
    },
    {
     "name": "stderr",
     "output_type": "stream",
     "text": [
      "\r\n",
      " 94%|█████████████████████████████████████████████████████████████████████████████████████████████████████████████████████████████████████████████████████████████████████████████▎           | 937/1000 [00:07<00:00, 147.52it/s]"
     ]
    },
    {
     "name": "stderr",
     "output_type": "stream",
     "text": [
      "\r\n",
      " 95%|████████████████████████████████████████████████████████████████████████████████████████████████████████████████████████████████████████████████████████████████████████████████▎        | 953/1000 [00:08<00:00, 148.54it/s]"
     ]
    },
    {
     "name": "stderr",
     "output_type": "stream",
     "text": [
      "\r\n",
      " 97%|███████████████████████████████████████████████████████████████████████████████████████████████████████████████████████████████████████████████████████████████████████████████████▎     | 969/1000 [00:08<00:00, 149.65it/s]"
     ]
    },
    {
     "name": "stderr",
     "output_type": "stream",
     "text": [
      "\r\n",
      " 98%|██████████████████████████████████████████████████████████████████████████████████████████████████████████████████████████████████████████████████████████████████████████████████████   | 984/1000 [00:08<00:00, 149.47it/s]"
     ]
    },
    {
     "name": "stderr",
     "output_type": "stream",
     "text": [
      "\r\n",
      "100%|████████████████████████████████████████████████████████████████████████████████████████████████████████████████████████████████████████████████████████████████████████████████████████| 1000/1000 [00:08<00:00, 152.41it/s]"
     ]
    },
    {
     "name": "stderr",
     "output_type": "stream",
     "text": [
      "\r\n",
      "100%|████████████████████████████████████████████████████████████████████████████████████████████████████████████████████████████████████████████████████████████████████████████████████████| 1000/1000 [00:08<00:00, 119.04it/s]"
     ]
    },
    {
     "name": "stderr",
     "output_type": "stream",
     "text": [
      "\n"
     ]
    }
   ],
   "source": [
    "# Variable deployment times\n",
    "deployment_MouseVisual = {\n",
    "    'labels': ['Lwm', 'L6', 'L5', 'L4', 'L2/3'],\n",
    "    'delay': 50*np.arange(5),\n",
    "    'rates': [1, .015, .015, .015, .015],\n",
    "    'origins': [None, 'Lwm', 'L6', 'L5', 'L4'],\n",
    "}\n",
    "deployment = [\n",
    "    None,\n",
    "    deployment_MouseVisual\n",
    "][0]\n",
    "\n",
    "# Initialize\n",
    "env.reset(); memories['discovery'] = defaultdict(lambda: [])\n",
    "if deployment is not None:\n",
    "    present = torch.zeros(modalities[0].shape[0], dtype=bool, device=DEVICE)\n",
    "    present, state = get_present(0, present, types[0], deployment=deployment, state=env.get_state())\n",
    "    env.set_state(state)\n",
    "else:\n",
    "    present = torch.ones(modalities[0].shape[0], dtype=bool)\n",
    "memories['discovery']['present'].append(present)\n",
    "memories['discovery']['states'].append(env.get_state())\n",
    "memories['discovery']['rewards'].append(torch.zeros(modalities[0].shape[0], device=DEVICE))\n",
    "\n",
    "# Simulate\n",
    "for timestep in tqdm(range(config['train']['max_ep_timesteps'])):\n",
    "    # Step\n",
    "    state = env.get_state(include_modalities=True)\n",
    "    actions = torch.zeros((modalities[0].shape[0], env.dim), device=DEVICE)\n",
    "    actions[present] = policy.act_macro(\n",
    "        state[present],\n",
    "        keys=torch.arange(modalities[0].shape[0], device=DEVICE)[present],\n",
    "        max_batch=config['train']['max_batch'],\n",
    "        max_nodes=config['train']['max_nodes'],\n",
    "    )\n",
    "    rewards = torch.zeros(modalities[0].shape[0])\n",
    "    # TODO: Currently, rewards factor in non-present nodes\n",
    "    rewards, _, _ = env.step(actions, return_itemized_rewards=True)\n",
    "    new_state = env.get_state()\n",
    "    new_state[~present] = state[~present, :2*env.dim]  # Don't move un-spawned nodes\n",
    "    env.set_state(new_state)\n",
    "\n",
    "    # Record\n",
    "    if deployment is not None:\n",
    "        present, state = get_present(timestep+1, present, types[0], deployment=deployment, state=env.get_state())\n",
    "        env.set_state(state)\n",
    "    memories['discovery']['present'].append(present)\n",
    "    memories['discovery']['states'].append(env.get_state())\n",
    "    memories['discovery']['rewards'].append(rewards)\n",
    "\n",
    "# Stack\n",
    "memories['discovery']['present'] = torch.stack(memories['discovery']['present'])\n",
    "memories['discovery']['states'] = torch.stack(memories['discovery']['states'])\n",
    "memories['discovery']['rewards'] = torch.stack(memories['discovery']['rewards'])\n",
    "memories['discovery'] = dict(memories['discovery'])"
   ]
  },
  {
   "cell_type": "markdown",
   "metadata": {},
   "source": [
    "### Plot Memories"
   ]
  },
  {
   "cell_type": "markdown",
   "metadata": {},
   "source": [
    "##### Integration"
   ]
  },
  {
   "cell_type": "code",
   "execution_count": 6,
   "metadata": {
    "execution": {
     "iopub.execute_input": "2024-11-18T15:58:33.427553Z",
     "iopub.status.busy": "2024-11-18T15:58:33.427370Z",
     "iopub.status.idle": "2024-11-18T16:01:58.371783Z",
     "shell.execute_reply": "2024-11-18T16:01:58.371340Z"
    }
   },
   "outputs": [
    {
     "name": "stdout",
     "output_type": "stream",
     "text": [
      "0 / 292\r"
     ]
    },
    {
     "name": "stdout",
     "output_type": "stream",
     "text": [
      "0 / 292\r"
     ]
    },
    {
     "name": "stdout",
     "output_type": "stream",
     "text": [
      "1 / 292\r"
     ]
    },
    {
     "name": "stdout",
     "output_type": "stream",
     "text": [
      "2 / 292\r"
     ]
    },
    {
     "name": "stdout",
     "output_type": "stream",
     "text": [
      "3 / 292\r"
     ]
    },
    {
     "name": "stdout",
     "output_type": "stream",
     "text": [
      "4 / 292\r"
     ]
    },
    {
     "name": "stdout",
     "output_type": "stream",
     "text": [
      "5 / 292\r"
     ]
    },
    {
     "name": "stdout",
     "output_type": "stream",
     "text": [
      "6 / 292\r"
     ]
    },
    {
     "name": "stdout",
     "output_type": "stream",
     "text": [
      "7 / 292\r"
     ]
    },
    {
     "name": "stdout",
     "output_type": "stream",
     "text": [
      "8 / 292\r"
     ]
    },
    {
     "name": "stdout",
     "output_type": "stream",
     "text": [
      "9 / 292\r"
     ]
    },
    {
     "name": "stdout",
     "output_type": "stream",
     "text": [
      "10 / 292\r"
     ]
    },
    {
     "name": "stdout",
     "output_type": "stream",
     "text": [
      "11 / 292\r"
     ]
    },
    {
     "name": "stdout",
     "output_type": "stream",
     "text": [
      "12 / 292\r"
     ]
    },
    {
     "name": "stdout",
     "output_type": "stream",
     "text": [
      "13 / 292\r"
     ]
    },
    {
     "name": "stdout",
     "output_type": "stream",
     "text": [
      "14 / 292\r"
     ]
    },
    {
     "name": "stdout",
     "output_type": "stream",
     "text": [
      "15 / 292\r"
     ]
    },
    {
     "name": "stdout",
     "output_type": "stream",
     "text": [
      "16 / 292\r"
     ]
    },
    {
     "name": "stdout",
     "output_type": "stream",
     "text": [
      "17 / 292\r"
     ]
    },
    {
     "name": "stdout",
     "output_type": "stream",
     "text": [
      "18 / 292\r"
     ]
    },
    {
     "name": "stdout",
     "output_type": "stream",
     "text": [
      "19 / 292\r"
     ]
    },
    {
     "name": "stdout",
     "output_type": "stream",
     "text": [
      "20 / 292\r"
     ]
    },
    {
     "name": "stdout",
     "output_type": "stream",
     "text": [
      "21 / 292\r"
     ]
    },
    {
     "name": "stdout",
     "output_type": "stream",
     "text": [
      "22 / 292\r"
     ]
    },
    {
     "name": "stdout",
     "output_type": "stream",
     "text": [
      "23 / 292\r"
     ]
    },
    {
     "name": "stdout",
     "output_type": "stream",
     "text": [
      "24 / 292\r"
     ]
    },
    {
     "name": "stdout",
     "output_type": "stream",
     "text": [
      "25 / 292\r"
     ]
    },
    {
     "name": "stdout",
     "output_type": "stream",
     "text": [
      "26 / 292\r"
     ]
    },
    {
     "name": "stdout",
     "output_type": "stream",
     "text": [
      "27 / 292\r"
     ]
    },
    {
     "name": "stdout",
     "output_type": "stream",
     "text": [
      "28 / 292\r"
     ]
    },
    {
     "name": "stdout",
     "output_type": "stream",
     "text": [
      "29 / 292\r"
     ]
    },
    {
     "name": "stdout",
     "output_type": "stream",
     "text": [
      "30 / 292\r"
     ]
    },
    {
     "name": "stdout",
     "output_type": "stream",
     "text": [
      "31 / 292\r"
     ]
    },
    {
     "name": "stdout",
     "output_type": "stream",
     "text": [
      "32 / 292\r"
     ]
    },
    {
     "name": "stdout",
     "output_type": "stream",
     "text": [
      "33 / 292\r"
     ]
    },
    {
     "name": "stdout",
     "output_type": "stream",
     "text": [
      "34 / 292\r"
     ]
    },
    {
     "name": "stdout",
     "output_type": "stream",
     "text": [
      "35 / 292\r"
     ]
    },
    {
     "name": "stdout",
     "output_type": "stream",
     "text": [
      "36 / 292\r"
     ]
    },
    {
     "name": "stdout",
     "output_type": "stream",
     "text": [
      "37 / 292\r"
     ]
    },
    {
     "name": "stdout",
     "output_type": "stream",
     "text": [
      "38 / 292\r"
     ]
    },
    {
     "name": "stdout",
     "output_type": "stream",
     "text": [
      "39 / 292\r"
     ]
    },
    {
     "name": "stdout",
     "output_type": "stream",
     "text": [
      "40 / 292\r"
     ]
    },
    {
     "name": "stdout",
     "output_type": "stream",
     "text": [
      "41 / 292\r"
     ]
    },
    {
     "name": "stdout",
     "output_type": "stream",
     "text": [
      "42 / 292\r"
     ]
    },
    {
     "name": "stdout",
     "output_type": "stream",
     "text": [
      "43 / 292\r"
     ]
    },
    {
     "name": "stdout",
     "output_type": "stream",
     "text": [
      "44 / 292\r"
     ]
    },
    {
     "name": "stdout",
     "output_type": "stream",
     "text": [
      "45 / 292\r"
     ]
    },
    {
     "name": "stdout",
     "output_type": "stream",
     "text": [
      "46 / 292\r"
     ]
    },
    {
     "name": "stdout",
     "output_type": "stream",
     "text": [
      "47 / 292\r"
     ]
    },
    {
     "name": "stdout",
     "output_type": "stream",
     "text": [
      "48 / 292\r"
     ]
    },
    {
     "name": "stdout",
     "output_type": "stream",
     "text": [
      "49 / 292\r"
     ]
    },
    {
     "name": "stdout",
     "output_type": "stream",
     "text": [
      "50 / 292\r"
     ]
    },
    {
     "name": "stdout",
     "output_type": "stream",
     "text": [
      "51 / 292\r"
     ]
    },
    {
     "name": "stdout",
     "output_type": "stream",
     "text": [
      "52 / 292\r"
     ]
    },
    {
     "name": "stdout",
     "output_type": "stream",
     "text": [
      "53 / 292\r"
     ]
    },
    {
     "name": "stdout",
     "output_type": "stream",
     "text": [
      "54 / 292\r"
     ]
    },
    {
     "name": "stdout",
     "output_type": "stream",
     "text": [
      "55 / 292\r"
     ]
    },
    {
     "name": "stdout",
     "output_type": "stream",
     "text": [
      "56 / 292\r"
     ]
    },
    {
     "name": "stdout",
     "output_type": "stream",
     "text": [
      "57 / 292\r"
     ]
    },
    {
     "name": "stdout",
     "output_type": "stream",
     "text": [
      "58 / 292\r"
     ]
    },
    {
     "name": "stdout",
     "output_type": "stream",
     "text": [
      "59 / 292\r"
     ]
    },
    {
     "name": "stdout",
     "output_type": "stream",
     "text": [
      "60 / 292\r"
     ]
    },
    {
     "name": "stdout",
     "output_type": "stream",
     "text": [
      "61 / 292\r"
     ]
    },
    {
     "name": "stdout",
     "output_type": "stream",
     "text": [
      "62 / 292\r"
     ]
    },
    {
     "name": "stdout",
     "output_type": "stream",
     "text": [
      "63 / 292\r"
     ]
    },
    {
     "name": "stdout",
     "output_type": "stream",
     "text": [
      "64 / 292\r"
     ]
    },
    {
     "name": "stdout",
     "output_type": "stream",
     "text": [
      "65 / 292\r"
     ]
    },
    {
     "name": "stdout",
     "output_type": "stream",
     "text": [
      "66 / 292\r"
     ]
    },
    {
     "name": "stdout",
     "output_type": "stream",
     "text": [
      "67 / 292\r"
     ]
    },
    {
     "name": "stdout",
     "output_type": "stream",
     "text": [
      "68 / 292\r"
     ]
    },
    {
     "name": "stdout",
     "output_type": "stream",
     "text": [
      "69 / 292\r"
     ]
    },
    {
     "name": "stdout",
     "output_type": "stream",
     "text": [
      "70 / 292\r"
     ]
    },
    {
     "name": "stdout",
     "output_type": "stream",
     "text": [
      "71 / 292\r"
     ]
    },
    {
     "name": "stdout",
     "output_type": "stream",
     "text": [
      "72 / 292\r"
     ]
    },
    {
     "name": "stdout",
     "output_type": "stream",
     "text": [
      "73 / 292\r"
     ]
    },
    {
     "name": "stdout",
     "output_type": "stream",
     "text": [
      "74 / 292\r"
     ]
    },
    {
     "name": "stdout",
     "output_type": "stream",
     "text": [
      "75 / 292\r"
     ]
    },
    {
     "name": "stdout",
     "output_type": "stream",
     "text": [
      "76 / 292\r"
     ]
    },
    {
     "name": "stdout",
     "output_type": "stream",
     "text": [
      "77 / 292\r"
     ]
    },
    {
     "name": "stdout",
     "output_type": "stream",
     "text": [
      "78 / 292\r"
     ]
    },
    {
     "name": "stdout",
     "output_type": "stream",
     "text": [
      "79 / 292\r"
     ]
    },
    {
     "name": "stdout",
     "output_type": "stream",
     "text": [
      "80 / 292\r"
     ]
    },
    {
     "name": "stdout",
     "output_type": "stream",
     "text": [
      "81 / 292\r"
     ]
    },
    {
     "name": "stdout",
     "output_type": "stream",
     "text": [
      "82 / 292\r"
     ]
    },
    {
     "name": "stdout",
     "output_type": "stream",
     "text": [
      "83 / 292\r"
     ]
    },
    {
     "name": "stdout",
     "output_type": "stream",
     "text": [
      "84 / 292\r"
     ]
    },
    {
     "name": "stdout",
     "output_type": "stream",
     "text": [
      "85 / 292\r"
     ]
    },
    {
     "name": "stdout",
     "output_type": "stream",
     "text": [
      "86 / 292\r"
     ]
    },
    {
     "name": "stdout",
     "output_type": "stream",
     "text": [
      "87 / 292\r"
     ]
    },
    {
     "name": "stdout",
     "output_type": "stream",
     "text": [
      "88 / 292\r"
     ]
    },
    {
     "name": "stdout",
     "output_type": "stream",
     "text": [
      "89 / 292\r"
     ]
    },
    {
     "name": "stdout",
     "output_type": "stream",
     "text": [
      "90 / 292\r"
     ]
    },
    {
     "name": "stdout",
     "output_type": "stream",
     "text": [
      "91 / 292\r"
     ]
    },
    {
     "name": "stdout",
     "output_type": "stream",
     "text": [
      "92 / 292\r"
     ]
    },
    {
     "name": "stdout",
     "output_type": "stream",
     "text": [
      "93 / 292\r"
     ]
    },
    {
     "name": "stdout",
     "output_type": "stream",
     "text": [
      "94 / 292\r"
     ]
    },
    {
     "name": "stdout",
     "output_type": "stream",
     "text": [
      "95 / 292\r"
     ]
    },
    {
     "name": "stdout",
     "output_type": "stream",
     "text": [
      "96 / 292\r"
     ]
    },
    {
     "name": "stdout",
     "output_type": "stream",
     "text": [
      "97 / 292\r"
     ]
    },
    {
     "name": "stdout",
     "output_type": "stream",
     "text": [
      "98 / 292\r"
     ]
    },
    {
     "name": "stdout",
     "output_type": "stream",
     "text": [
      "99 / 292\r"
     ]
    },
    {
     "name": "stdout",
     "output_type": "stream",
     "text": [
      "100 / 292\r"
     ]
    },
    {
     "name": "stdout",
     "output_type": "stream",
     "text": [
      "101 / 292\r"
     ]
    },
    {
     "name": "stdout",
     "output_type": "stream",
     "text": [
      "102 / 292\r"
     ]
    },
    {
     "name": "stdout",
     "output_type": "stream",
     "text": [
      "103 / 292\r"
     ]
    },
    {
     "name": "stdout",
     "output_type": "stream",
     "text": [
      "104 / 292\r"
     ]
    },
    {
     "name": "stdout",
     "output_type": "stream",
     "text": [
      "105 / 292\r"
     ]
    },
    {
     "name": "stdout",
     "output_type": "stream",
     "text": [
      "106 / 292\r"
     ]
    },
    {
     "name": "stdout",
     "output_type": "stream",
     "text": [
      "107 / 292\r"
     ]
    },
    {
     "name": "stdout",
     "output_type": "stream",
     "text": [
      "108 / 292\r"
     ]
    },
    {
     "name": "stdout",
     "output_type": "stream",
     "text": [
      "109 / 292\r"
     ]
    },
    {
     "name": "stdout",
     "output_type": "stream",
     "text": [
      "110 / 292\r"
     ]
    },
    {
     "name": "stdout",
     "output_type": "stream",
     "text": [
      "111 / 292\r"
     ]
    },
    {
     "name": "stdout",
     "output_type": "stream",
     "text": [
      "112 / 292\r"
     ]
    },
    {
     "name": "stdout",
     "output_type": "stream",
     "text": [
      "113 / 292\r"
     ]
    },
    {
     "name": "stdout",
     "output_type": "stream",
     "text": [
      "114 / 292\r"
     ]
    },
    {
     "name": "stdout",
     "output_type": "stream",
     "text": [
      "115 / 292\r"
     ]
    },
    {
     "name": "stdout",
     "output_type": "stream",
     "text": [
      "116 / 292\r"
     ]
    },
    {
     "name": "stdout",
     "output_type": "stream",
     "text": [
      "117 / 292\r"
     ]
    },
    {
     "name": "stdout",
     "output_type": "stream",
     "text": [
      "118 / 292\r"
     ]
    },
    {
     "name": "stdout",
     "output_type": "stream",
     "text": [
      "119 / 292\r"
     ]
    },
    {
     "name": "stdout",
     "output_type": "stream",
     "text": [
      "120 / 292\r"
     ]
    },
    {
     "name": "stdout",
     "output_type": "stream",
     "text": [
      "121 / 292\r"
     ]
    },
    {
     "name": "stdout",
     "output_type": "stream",
     "text": [
      "122 / 292\r"
     ]
    },
    {
     "name": "stdout",
     "output_type": "stream",
     "text": [
      "123 / 292\r"
     ]
    },
    {
     "name": "stdout",
     "output_type": "stream",
     "text": [
      "124 / 292\r"
     ]
    },
    {
     "name": "stdout",
     "output_type": "stream",
     "text": [
      "125 / 292\r"
     ]
    },
    {
     "name": "stdout",
     "output_type": "stream",
     "text": [
      "126 / 292\r"
     ]
    },
    {
     "name": "stdout",
     "output_type": "stream",
     "text": [
      "127 / 292\r"
     ]
    },
    {
     "name": "stdout",
     "output_type": "stream",
     "text": [
      "128 / 292\r"
     ]
    },
    {
     "name": "stdout",
     "output_type": "stream",
     "text": [
      "129 / 292\r"
     ]
    },
    {
     "name": "stdout",
     "output_type": "stream",
     "text": [
      "130 / 292\r"
     ]
    },
    {
     "name": "stdout",
     "output_type": "stream",
     "text": [
      "131 / 292\r"
     ]
    },
    {
     "name": "stdout",
     "output_type": "stream",
     "text": [
      "132 / 292\r"
     ]
    },
    {
     "name": "stdout",
     "output_type": "stream",
     "text": [
      "133 / 292\r"
     ]
    },
    {
     "name": "stdout",
     "output_type": "stream",
     "text": [
      "134 / 292\r"
     ]
    },
    {
     "name": "stdout",
     "output_type": "stream",
     "text": [
      "135 / 292\r"
     ]
    },
    {
     "name": "stdout",
     "output_type": "stream",
     "text": [
      "136 / 292\r"
     ]
    },
    {
     "name": "stdout",
     "output_type": "stream",
     "text": [
      "137 / 292\r"
     ]
    },
    {
     "name": "stdout",
     "output_type": "stream",
     "text": [
      "138 / 292\r"
     ]
    },
    {
     "name": "stdout",
     "output_type": "stream",
     "text": [
      "139 / 292\r"
     ]
    },
    {
     "name": "stdout",
     "output_type": "stream",
     "text": [
      "140 / 292\r"
     ]
    },
    {
     "name": "stdout",
     "output_type": "stream",
     "text": [
      "141 / 292\r"
     ]
    },
    {
     "name": "stdout",
     "output_type": "stream",
     "text": [
      "142 / 292\r"
     ]
    },
    {
     "name": "stdout",
     "output_type": "stream",
     "text": [
      "143 / 292\r"
     ]
    },
    {
     "name": "stdout",
     "output_type": "stream",
     "text": [
      "144 / 292\r"
     ]
    },
    {
     "name": "stdout",
     "output_type": "stream",
     "text": [
      "145 / 292\r"
     ]
    },
    {
     "name": "stdout",
     "output_type": "stream",
     "text": [
      "146 / 292\r"
     ]
    },
    {
     "name": "stdout",
     "output_type": "stream",
     "text": [
      "147 / 292\r"
     ]
    },
    {
     "name": "stdout",
     "output_type": "stream",
     "text": [
      "148 / 292\r"
     ]
    },
    {
     "name": "stdout",
     "output_type": "stream",
     "text": [
      "149 / 292\r"
     ]
    },
    {
     "name": "stdout",
     "output_type": "stream",
     "text": [
      "150 / 292\r"
     ]
    },
    {
     "name": "stdout",
     "output_type": "stream",
     "text": [
      "151 / 292\r"
     ]
    },
    {
     "name": "stdout",
     "output_type": "stream",
     "text": [
      "152 / 292\r"
     ]
    },
    {
     "name": "stdout",
     "output_type": "stream",
     "text": [
      "153 / 292\r"
     ]
    },
    {
     "name": "stdout",
     "output_type": "stream",
     "text": [
      "154 / 292\r"
     ]
    },
    {
     "name": "stdout",
     "output_type": "stream",
     "text": [
      "155 / 292\r"
     ]
    },
    {
     "name": "stdout",
     "output_type": "stream",
     "text": [
      "156 / 292\r"
     ]
    },
    {
     "name": "stdout",
     "output_type": "stream",
     "text": [
      "157 / 292\r"
     ]
    },
    {
     "name": "stdout",
     "output_type": "stream",
     "text": [
      "158 / 292\r"
     ]
    },
    {
     "name": "stdout",
     "output_type": "stream",
     "text": [
      "159 / 292\r"
     ]
    },
    {
     "name": "stdout",
     "output_type": "stream",
     "text": [
      "160 / 292\r"
     ]
    },
    {
     "name": "stdout",
     "output_type": "stream",
     "text": [
      "161 / 292\r"
     ]
    },
    {
     "name": "stdout",
     "output_type": "stream",
     "text": [
      "162 / 292\r"
     ]
    },
    {
     "name": "stdout",
     "output_type": "stream",
     "text": [
      "163 / 292\r"
     ]
    },
    {
     "name": "stdout",
     "output_type": "stream",
     "text": [
      "164 / 292\r"
     ]
    },
    {
     "name": "stdout",
     "output_type": "stream",
     "text": [
      "165 / 292\r"
     ]
    },
    {
     "name": "stdout",
     "output_type": "stream",
     "text": [
      "166 / 292\r"
     ]
    },
    {
     "name": "stdout",
     "output_type": "stream",
     "text": [
      "167 / 292\r"
     ]
    },
    {
     "name": "stdout",
     "output_type": "stream",
     "text": [
      "168 / 292\r"
     ]
    },
    {
     "name": "stdout",
     "output_type": "stream",
     "text": [
      "169 / 292\r"
     ]
    },
    {
     "name": "stdout",
     "output_type": "stream",
     "text": [
      "170 / 292\r"
     ]
    },
    {
     "name": "stdout",
     "output_type": "stream",
     "text": [
      "171 / 292\r"
     ]
    },
    {
     "name": "stdout",
     "output_type": "stream",
     "text": [
      "172 / 292\r"
     ]
    },
    {
     "name": "stdout",
     "output_type": "stream",
     "text": [
      "173 / 292\r"
     ]
    },
    {
     "name": "stdout",
     "output_type": "stream",
     "text": [
      "174 / 292\r"
     ]
    },
    {
     "name": "stdout",
     "output_type": "stream",
     "text": [
      "175 / 292\r"
     ]
    },
    {
     "name": "stdout",
     "output_type": "stream",
     "text": [
      "176 / 292\r"
     ]
    },
    {
     "name": "stdout",
     "output_type": "stream",
     "text": [
      "177 / 292\r"
     ]
    },
    {
     "name": "stdout",
     "output_type": "stream",
     "text": [
      "178 / 292\r"
     ]
    },
    {
     "name": "stdout",
     "output_type": "stream",
     "text": [
      "179 / 292\r"
     ]
    },
    {
     "name": "stdout",
     "output_type": "stream",
     "text": [
      "180 / 292\r"
     ]
    },
    {
     "name": "stdout",
     "output_type": "stream",
     "text": [
      "181 / 292\r"
     ]
    },
    {
     "name": "stdout",
     "output_type": "stream",
     "text": [
      "182 / 292\r"
     ]
    },
    {
     "name": "stdout",
     "output_type": "stream",
     "text": [
      "183 / 292\r"
     ]
    },
    {
     "name": "stdout",
     "output_type": "stream",
     "text": [
      "184 / 292\r"
     ]
    },
    {
     "name": "stdout",
     "output_type": "stream",
     "text": [
      "185 / 292\r"
     ]
    },
    {
     "name": "stdout",
     "output_type": "stream",
     "text": [
      "186 / 292\r"
     ]
    },
    {
     "name": "stdout",
     "output_type": "stream",
     "text": [
      "187 / 292\r"
     ]
    },
    {
     "name": "stdout",
     "output_type": "stream",
     "text": [
      "188 / 292\r"
     ]
    },
    {
     "name": "stdout",
     "output_type": "stream",
     "text": [
      "189 / 292\r"
     ]
    },
    {
     "name": "stdout",
     "output_type": "stream",
     "text": [
      "190 / 292\r"
     ]
    },
    {
     "name": "stdout",
     "output_type": "stream",
     "text": [
      "191 / 292\r"
     ]
    },
    {
     "name": "stdout",
     "output_type": "stream",
     "text": [
      "192 / 292\r"
     ]
    },
    {
     "name": "stdout",
     "output_type": "stream",
     "text": [
      "193 / 292\r"
     ]
    },
    {
     "name": "stdout",
     "output_type": "stream",
     "text": [
      "194 / 292\r"
     ]
    },
    {
     "name": "stdout",
     "output_type": "stream",
     "text": [
      "195 / 292\r"
     ]
    },
    {
     "name": "stdout",
     "output_type": "stream",
     "text": [
      "196 / 292\r"
     ]
    },
    {
     "name": "stdout",
     "output_type": "stream",
     "text": [
      "197 / 292\r"
     ]
    },
    {
     "name": "stdout",
     "output_type": "stream",
     "text": [
      "198 / 292\r"
     ]
    },
    {
     "name": "stdout",
     "output_type": "stream",
     "text": [
      "199 / 292\r"
     ]
    },
    {
     "name": "stdout",
     "output_type": "stream",
     "text": [
      "200 / 292\r"
     ]
    },
    {
     "name": "stdout",
     "output_type": "stream",
     "text": [
      "201 / 292\r"
     ]
    },
    {
     "name": "stdout",
     "output_type": "stream",
     "text": [
      "202 / 292\r"
     ]
    },
    {
     "name": "stdout",
     "output_type": "stream",
     "text": [
      "203 / 292\r"
     ]
    },
    {
     "name": "stdout",
     "output_type": "stream",
     "text": [
      "204 / 292\r"
     ]
    },
    {
     "name": "stdout",
     "output_type": "stream",
     "text": [
      "205 / 292\r"
     ]
    },
    {
     "name": "stdout",
     "output_type": "stream",
     "text": [
      "206 / 292\r"
     ]
    },
    {
     "name": "stdout",
     "output_type": "stream",
     "text": [
      "207 / 292\r"
     ]
    },
    {
     "name": "stdout",
     "output_type": "stream",
     "text": [
      "208 / 292\r"
     ]
    },
    {
     "name": "stdout",
     "output_type": "stream",
     "text": [
      "209 / 292\r"
     ]
    },
    {
     "name": "stdout",
     "output_type": "stream",
     "text": [
      "210 / 292\r"
     ]
    },
    {
     "name": "stdout",
     "output_type": "stream",
     "text": [
      "211 / 292\r"
     ]
    },
    {
     "name": "stdout",
     "output_type": "stream",
     "text": [
      "212 / 292\r"
     ]
    },
    {
     "name": "stdout",
     "output_type": "stream",
     "text": [
      "213 / 292\r"
     ]
    },
    {
     "name": "stdout",
     "output_type": "stream",
     "text": [
      "214 / 292\r"
     ]
    },
    {
     "name": "stdout",
     "output_type": "stream",
     "text": [
      "215 / 292\r"
     ]
    },
    {
     "name": "stdout",
     "output_type": "stream",
     "text": [
      "216 / 292\r"
     ]
    },
    {
     "name": "stdout",
     "output_type": "stream",
     "text": [
      "217 / 292\r"
     ]
    },
    {
     "name": "stdout",
     "output_type": "stream",
     "text": [
      "218 / 292\r"
     ]
    },
    {
     "name": "stdout",
     "output_type": "stream",
     "text": [
      "219 / 292\r"
     ]
    },
    {
     "name": "stdout",
     "output_type": "stream",
     "text": [
      "220 / 292\r"
     ]
    },
    {
     "name": "stdout",
     "output_type": "stream",
     "text": [
      "221 / 292\r"
     ]
    },
    {
     "name": "stdout",
     "output_type": "stream",
     "text": [
      "222 / 292\r"
     ]
    },
    {
     "name": "stdout",
     "output_type": "stream",
     "text": [
      "223 / 292\r"
     ]
    },
    {
     "name": "stdout",
     "output_type": "stream",
     "text": [
      "224 / 292\r"
     ]
    },
    {
     "name": "stdout",
     "output_type": "stream",
     "text": [
      "225 / 292\r"
     ]
    },
    {
     "name": "stdout",
     "output_type": "stream",
     "text": [
      "226 / 292\r"
     ]
    },
    {
     "name": "stdout",
     "output_type": "stream",
     "text": [
      "227 / 292\r"
     ]
    },
    {
     "name": "stdout",
     "output_type": "stream",
     "text": [
      "228 / 292\r"
     ]
    },
    {
     "name": "stdout",
     "output_type": "stream",
     "text": [
      "229 / 292\r"
     ]
    },
    {
     "name": "stdout",
     "output_type": "stream",
     "text": [
      "230 / 292\r"
     ]
    },
    {
     "name": "stdout",
     "output_type": "stream",
     "text": [
      "231 / 292\r"
     ]
    },
    {
     "name": "stdout",
     "output_type": "stream",
     "text": [
      "232 / 292\r"
     ]
    },
    {
     "name": "stdout",
     "output_type": "stream",
     "text": [
      "233 / 292\r"
     ]
    },
    {
     "name": "stdout",
     "output_type": "stream",
     "text": [
      "234 / 292\r"
     ]
    },
    {
     "name": "stdout",
     "output_type": "stream",
     "text": [
      "235 / 292\r"
     ]
    },
    {
     "name": "stdout",
     "output_type": "stream",
     "text": [
      "236 / 292\r"
     ]
    },
    {
     "name": "stdout",
     "output_type": "stream",
     "text": [
      "237 / 292\r"
     ]
    },
    {
     "name": "stdout",
     "output_type": "stream",
     "text": [
      "238 / 292\r"
     ]
    },
    {
     "name": "stdout",
     "output_type": "stream",
     "text": [
      "239 / 292\r"
     ]
    },
    {
     "name": "stdout",
     "output_type": "stream",
     "text": [
      "240 / 292\r"
     ]
    },
    {
     "name": "stdout",
     "output_type": "stream",
     "text": [
      "241 / 292\r"
     ]
    },
    {
     "name": "stdout",
     "output_type": "stream",
     "text": [
      "242 / 292\r"
     ]
    },
    {
     "name": "stdout",
     "output_type": "stream",
     "text": [
      "243 / 292\r"
     ]
    },
    {
     "name": "stdout",
     "output_type": "stream",
     "text": [
      "244 / 292\r"
     ]
    },
    {
     "name": "stdout",
     "output_type": "stream",
     "text": [
      "245 / 292\r"
     ]
    },
    {
     "name": "stdout",
     "output_type": "stream",
     "text": [
      "246 / 292\r"
     ]
    },
    {
     "name": "stdout",
     "output_type": "stream",
     "text": [
      "247 / 292\r"
     ]
    },
    {
     "name": "stdout",
     "output_type": "stream",
     "text": [
      "248 / 292\r"
     ]
    },
    {
     "name": "stdout",
     "output_type": "stream",
     "text": [
      "249 / 292\r"
     ]
    },
    {
     "name": "stdout",
     "output_type": "stream",
     "text": [
      "250 / 292\r"
     ]
    },
    {
     "name": "stdout",
     "output_type": "stream",
     "text": [
      "251 / 292\r"
     ]
    },
    {
     "name": "stdout",
     "output_type": "stream",
     "text": [
      "252 / 292\r"
     ]
    },
    {
     "name": "stdout",
     "output_type": "stream",
     "text": [
      "253 / 292\r"
     ]
    },
    {
     "name": "stdout",
     "output_type": "stream",
     "text": [
      "254 / 292\r"
     ]
    },
    {
     "name": "stdout",
     "output_type": "stream",
     "text": [
      "255 / 292\r"
     ]
    },
    {
     "name": "stdout",
     "output_type": "stream",
     "text": [
      "256 / 292\r"
     ]
    },
    {
     "name": "stdout",
     "output_type": "stream",
     "text": [
      "257 / 292\r"
     ]
    },
    {
     "name": "stdout",
     "output_type": "stream",
     "text": [
      "258 / 292\r"
     ]
    },
    {
     "name": "stdout",
     "output_type": "stream",
     "text": [
      "259 / 292\r"
     ]
    },
    {
     "name": "stdout",
     "output_type": "stream",
     "text": [
      "260 / 292\r"
     ]
    },
    {
     "name": "stdout",
     "output_type": "stream",
     "text": [
      "261 / 292\r"
     ]
    },
    {
     "name": "stdout",
     "output_type": "stream",
     "text": [
      "262 / 292\r"
     ]
    },
    {
     "name": "stdout",
     "output_type": "stream",
     "text": [
      "263 / 292\r"
     ]
    },
    {
     "name": "stdout",
     "output_type": "stream",
     "text": [
      "264 / 292\r"
     ]
    },
    {
     "name": "stdout",
     "output_type": "stream",
     "text": [
      "265 / 292\r"
     ]
    },
    {
     "name": "stdout",
     "output_type": "stream",
     "text": [
      "266 / 292\r"
     ]
    },
    {
     "name": "stdout",
     "output_type": "stream",
     "text": [
      "267 / 292\r"
     ]
    },
    {
     "name": "stdout",
     "output_type": "stream",
     "text": [
      "268 / 292\r"
     ]
    },
    {
     "name": "stdout",
     "output_type": "stream",
     "text": [
      "269 / 292\r"
     ]
    },
    {
     "name": "stdout",
     "output_type": "stream",
     "text": [
      "270 / 292\r"
     ]
    },
    {
     "name": "stdout",
     "output_type": "stream",
     "text": [
      "271 / 292\r"
     ]
    },
    {
     "name": "stdout",
     "output_type": "stream",
     "text": [
      "272 / 292\r"
     ]
    },
    {
     "name": "stdout",
     "output_type": "stream",
     "text": [
      "273 / 292\r"
     ]
    },
    {
     "name": "stdout",
     "output_type": "stream",
     "text": [
      "274 / 292\r"
     ]
    },
    {
     "name": "stdout",
     "output_type": "stream",
     "text": [
      "275 / 292\r"
     ]
    },
    {
     "name": "stdout",
     "output_type": "stream",
     "text": [
      "276 / 292\r"
     ]
    },
    {
     "name": "stdout",
     "output_type": "stream",
     "text": [
      "277 / 292\r"
     ]
    },
    {
     "name": "stdout",
     "output_type": "stream",
     "text": [
      "278 / 292\r"
     ]
    },
    {
     "name": "stdout",
     "output_type": "stream",
     "text": [
      "279 / 292\r"
     ]
    },
    {
     "name": "stdout",
     "output_type": "stream",
     "text": [
      "280 / 292\r"
     ]
    },
    {
     "name": "stdout",
     "output_type": "stream",
     "text": [
      "281 / 292\r"
     ]
    },
    {
     "name": "stdout",
     "output_type": "stream",
     "text": [
      "282 / 292\r"
     ]
    },
    {
     "name": "stdout",
     "output_type": "stream",
     "text": [
      "283 / 292\r"
     ]
    },
    {
     "name": "stdout",
     "output_type": "stream",
     "text": [
      "284 / 292\r"
     ]
    },
    {
     "name": "stdout",
     "output_type": "stream",
     "text": [
      "285 / 292\r"
     ]
    },
    {
     "name": "stdout",
     "output_type": "stream",
     "text": [
      "286 / 292\r"
     ]
    },
    {
     "name": "stdout",
     "output_type": "stream",
     "text": [
      "287 / 292\r"
     ]
    },
    {
     "name": "stdout",
     "output_type": "stream",
     "text": [
      "288 / 292\r"
     ]
    },
    {
     "name": "stdout",
     "output_type": "stream",
     "text": [
      "289 / 292\r"
     ]
    },
    {
     "name": "stdout",
     "output_type": "stream",
     "text": [
      "290 / 292\r"
     ]
    },
    {
     "name": "stdout",
     "output_type": "stream",
     "text": [
      "291 / 292\r"
     ]
    },
    {
     "name": "stdout",
     "output_type": "stream",
     "text": [
      "292 / 292\r\n"
     ]
    },
    {
     "name": "stdout",
     "output_type": "stream",
     "text": [
      "0 / 292\r"
     ]
    }
   ],
   "source": [
    "# Prepare data\n",
    "present = memories['discovery']['present'].cpu()\n",
    "states = memories['discovery']['states'].cpu()\n",
    "rewards = memories['discovery']['rewards'].cpu()\n",
    "\n",
    "# Parameters\n",
    "interval = 1e3*env.delta/3  # Time between frames (3x speedup)\n",
    "min_max_vel = 1e-2  # Stop at first frame all vels are below target\n",
    "frame_override = None  # Manually enter number of frames to draw\n",
    "num_lines = 25  # Number of attraction and repulsion lines\n",
    "rotations_per_second = .1  # Camera azimuthal rotations per second\n",
    "\n",
    "# Create plot\n",
    "figsize = (17, 10)\n",
    "fig = plt.figure(figsize=figsize)\n",
    "# grid = mpl_grid.GridSpec(1, 2, width_ratios=(2, 1))\n",
    "# ax1 = fig.add_subplot(grid[0], projection='3d')\n",
    "# ax2 = fig.add_subplot(grid[1])\n",
    "# fig.tight_layout(pad=2)\n",
    "ax1 = fig.add_axes([1 /figsize[0], 1 /figsize[1], 8 /figsize[0], 8 /figsize[1]], projection='3d')\n",
    "ax2 = fig.add_axes([12 /figsize[0], 1 /figsize[1], 4 /figsize[0], 8 /figsize[1]])\n",
    "\n",
    "# Initialize nodes\n",
    "get_node_data = lambda frame: states[frame, :, :3]\n",
    "nodes = [\n",
    "    ax1.plot(\n",
    "        # *get_node_data(0)[types[0]==l].T,\n",
    "        [], [],\n",
    "        label=l,\n",
    "        linestyle='',\n",
    "        marker='o',\n",
    "        ms=6,\n",
    "        zorder=2.3,\n",
    "    )[0]\n",
    "    for l in np.unique(types[0])\n",
    "]\n",
    "\n",
    "# Initialize velocity arrows\n",
    "arrow_length_scale = 1\n",
    "get_arrow_xyz_uvw = lambda frame: (states[frame, :, :3], states[frame, :, env.dim:env.dim+3])\n",
    "arrows = ax1.quiver(\n",
    "    [], [], [],\n",
    "    [], [], [],\n",
    "    arrow_length_ratio=0,\n",
    "    length=arrow_length_scale,\n",
    "    lw=2,\n",
    "    color='gray',\n",
    "    alpha=.4,\n",
    "    zorder=2.2,\n",
    ")\n",
    "\n",
    "# Initialize modal lines\n",
    "# relative_connection_strength = [np.array([(1-dist[j, k].item()/dist.max().item())**2 for j, k in product(*[range(s) for s in dist.shape]) if j < k]) for dist in env.dist]\n",
    "get_distance_discrepancy = lambda frame: [np.array([((states[frame, j, :3] - states[frame, k, :3]).square().sum().sqrt() - dist[j, k].cpu()).item() for j, k in product(*[range(s) for s in dist.shape]) if j < k]) for dist in env.dist]\n",
    "get_modal_lines_segments = lambda frame, dist: np.array(states[frame, [[j, k] for j, k in product(*[range(s) for s in dist.shape]) if j < k], :3])\n",
    "clip_dd_to_alpha = lambda dd: np.clip(np.abs(dd), 0, 2) / 2\n",
    "# Randomly select lines to show\n",
    "line_indices = [[j, k] for j, k in product(*[range(s) for s in env.dist[0].shape]) if j < k]\n",
    "total_lines = int((env.dist[0].shape[0]**2 - env.dist[0].shape[0]) / 2)  # Only considers first modality\n",
    "line_selection = [\n",
    "    np.random.choice(total_lines, num_lines, replace=False) if num_lines is not None else list(range(total_lines)) for dist in env.dist\n",
    "]\n",
    "modal_lines = [\n",
    "    mp3d.art3d.Line3DCollection(\n",
    "        get_modal_lines_segments(0, dist)[line_selection[i]],\n",
    "        label=f'Modality {i}',\n",
    "        lw=2,\n",
    "        zorder=2.1,\n",
    "    )\n",
    "    for i, dist in enumerate(env.dist)\n",
    "]\n",
    "for ml in modal_lines: ax1.add_collection(ml)\n",
    "\n",
    "# Silhouette scoring\n",
    "get_silhouette_samples = lambda frame: sklearn.metrics.silhouette_samples(states[frame, :, :3].cpu(), types[0])\n",
    "bars = [ax2.bar(l, 0) for l in np.unique(types[0])]\n",
    "ax2.axhline(y=0, color='black')\n",
    "\n",
    "# Limits\n",
    "# TODO: Double-check that the `present` indexing works\n",
    "ax1.set(\n",
    "    xlim=(states[present][:, 0].min(), states[present][:, 0].max()),\n",
    "    ylim=(states[present][:, 1].min(), states[present][:, 1].max()),\n",
    "    zlim=(states[present][:, 2].min(), states[present][:, 2].max()),\n",
    ")\n",
    "ax2.set(ylim=(-1, 1))\n",
    "\n",
    "# Legends\n",
    "l1 = ax1.legend(handles=nodes, loc='upper left')\n",
    "ax1.add_artist(l1)\n",
    "l2 = ax1.legend(handles=[\n",
    "    ax1.plot([], [], color='red', label='Repulsion')[0],\n",
    "    ax1.plot([], [], color='blue', label='Attraction')[0],\n",
    "], loc='upper right')\n",
    "ax1.add_artist(l2)\n",
    "ax2.spines[['right', 'top', 'bottom', 'left']].set_visible(False)\n",
    "\n",
    "# Styling\n",
    "ax1.set(xlabel='x', ylabel='y', zlabel='z')\n",
    "get_angle = lambda frame: (30, (360*rotations_per_second)*(frame*interval/1000)-60, 0)\n",
    "ax1.view_init(*get_angle(0))\n",
    "\n",
    "# Update function\n",
    "def update(frame, nodes, arrows, modal_lines, bars):\n",
    "    # Adjust nodes\n",
    "    for i, l in enumerate(np.unique(types[0])):\n",
    "        present_labels = present[frame] * torch.tensor(types[0]==l)\n",
    "        data = get_node_data(frame)[present_labels].T\n",
    "        nodes[i].set_data(*data[:2])\n",
    "        nodes[i].set_3d_properties(data[2])\n",
    "\n",
    "    # Adjust arrows\n",
    "    xyz_xyz = [[xyz, xyz+arrow_length_scale*uvw] for i, (xyz, uvw) in enumerate(zip(*get_arrow_xyz_uvw(frame))) if present[frame, i]]\n",
    "    arrows.set_segments(xyz_xyz)\n",
    "\n",
    "    # Adjust lines\n",
    "    for i, (dist, ml) in enumerate(zip(env.dist, modal_lines)):\n",
    "        ml.set_segments(get_modal_lines_segments(frame, dist)[line_selection[i]])\n",
    "        distance_discrepancy = get_distance_discrepancy(frame)[i][line_selection[i]]\n",
    "        color = np.array([(0., 0., 1.) if dd > 0 else (1., 0., 0.) for dd in distance_discrepancy])\n",
    "        alpha = np.expand_dims(clip_dd_to_alpha(distance_discrepancy), -1)\n",
    "        for j, line_index in enumerate(line_selection[i]):\n",
    "            if not present[frame, line_indices[line_index]].all(): alpha[j] = 0.\n",
    "        ml.set_color(np.concatenate((color, alpha), axis=-1))\n",
    "\n",
    "    # Barplots\n",
    "    for bar, l in zip(bars, np.unique(types[0])):\n",
    "        bar[0].set_height(get_silhouette_samples(frame)[types[0]==l].mean())\n",
    "\n",
    "    # Styling\n",
    "    ax1.set_title(f'{frame: 4} : {rewards[frame].mean():5.2f}')\n",
    "    ax2.set_title(f'Silhouette Coefficient : {get_silhouette_samples(frame).mean():5.2f}')   \n",
    "    ax1.view_init(*get_angle(frame))\n",
    "\n",
    "    # CLI\n",
    "    print(f'{frame} / {frames-1}', end='\\r')\n",
    "    if frame == frames-1: print()\n",
    "\n",
    "    return nodes, arrows, modal_lines\n",
    "\n",
    "# Compile animation\n",
    "frames = states[..., env.dim:env.dim+3].square().sum(dim=2).sqrt().max(dim=1).values < min_max_vel\n",
    "frames = np.array([(frames[i] or frames[i+1]) if i != len(frames)-1 else frames[i] for i in range(len(frames))])  # Disregard interrupted sections of low movement\n",
    "frames = np.argwhere(frames)\n",
    "frames = frames[0, 0].item()+1 if len(frames) > 0 else states.shape[0]\n",
    "frames = frames if frame_override is None else frame_override\n",
    "ani = animation.FuncAnimation(\n",
    "    fig=fig,\n",
    "    func=update,\n",
    "    fargs=(nodes, arrows, modal_lines, bars),\n",
    "    frames=frames,\n",
    "    interval=interval,\n",
    ")\n",
    "\n",
    "# Display animation as it renders\n",
    "# plt.show()\n",
    "\n",
    "# Display complete animation\n",
    "# from IPython.display import HTML\n",
    "# HTML(ani.to_jshtml())\n",
    "\n",
    "# Save animation\n",
    "file_type = 'mp4'\n",
    "if file_type == 'mp4': writer = animation.FFMpegWriter(fps=int(1e3/interval), extra_args=['-vcodec', 'libx264'], bitrate=8e3)  # Faster\n",
    "elif file_type == 'gif': writer = animation.FFMpegWriter(fps=int(1e3/interval))  # Slower\n",
    "ani.save(os.path.join(PLOT_FOLDER, f'{config[\"data\"][\"dataset\"]}_discovery.{file_type}'), writer=writer, dpi=300)"
   ]
  }
 ],
 "metadata": {
  "kernelspec": {
   "display_name": "inept",
   "language": "python",
   "name": "python3"
  },
  "language_info": {
   "codemirror_mode": {
    "name": "ipython",
    "version": 3
   },
   "file_extension": ".py",
   "mimetype": "text/x-python",
   "name": "python",
   "nbconvert_exporter": "python",
   "pygments_lexer": "ipython3",
   "version": "3.10.14"
  }
 },
 "nbformat": 4,
 "nbformat_minor": 2
}
