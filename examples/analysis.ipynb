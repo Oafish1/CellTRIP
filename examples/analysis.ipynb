{
 "cells": [
  {
   "cell_type": "code",
   "execution_count": 1,
   "metadata": {
    "execution": {
     "iopub.execute_input": "2024-09-25T04:48:03.114558Z",
     "iopub.status.busy": "2024-09-25T04:48:03.114097Z",
     "iopub.status.idle": "2024-09-25T04:48:03.117694Z",
     "shell.execute_reply": "2024-09-25T04:48:03.117203Z"
    }
   },
   "outputs": [],
   "source": [
    "# High Priority Analysis Changes\n",
    "# Standardize dataset loading\n",
    "# First frame is slightly different\n",
    "\n",
    "## Analyses\n",
    "# Try running with high-dimension latent space and using UMAP to visualize\n",
    "# Perturbation analysis (altering a single gene and observing the change) in a continual manner"
   ]
  },
  {
   "cell_type": "code",
   "execution_count": 2,
   "metadata": {
    "execution": {
     "iopub.execute_input": "2024-09-25T04:48:03.119906Z",
     "iopub.status.busy": "2024-09-25T04:48:03.119718Z",
     "iopub.status.idle": "2024-09-25T04:48:03.134263Z",
     "shell.execute_reply": "2024-09-25T04:48:03.133697Z"
    }
   },
   "outputs": [
    {
     "name": "stdout",
     "output_type": "stream",
     "text": [
      "env: WANDB_NOTEBOOK_NAME=exploration.ipynb\n",
      "env: WANDB_SILENT=true\n"
     ]
    }
   ],
   "source": [
    "%load_ext autoreload\n",
    "%autoreload 2\n",
    "%env WANDB_NOTEBOOK_NAME exploration.ipynb\n",
    "%env WANDB_SILENT true"
   ]
  },
  {
   "cell_type": "code",
   "execution_count": 3,
   "metadata": {
    "execution": {
     "iopub.execute_input": "2024-09-25T04:48:03.164274Z",
     "iopub.status.busy": "2024-09-25T04:48:03.164067Z",
     "iopub.status.idle": "2024-09-25T04:48:08.712527Z",
     "shell.execute_reply": "2024-09-25T04:48:08.712064Z"
    }
   },
   "outputs": [
    {
     "name": "stderr",
     "output_type": "stream",
     "text": [
      "/home/thema/miniconda3/envs/inept/lib/python3.10/site-packages/tqdm/auto.py:21: TqdmWarning: IProgress not found. Please update jupyter and ipywidgets. See https://ipywidgets.readthedocs.io/en/stable/user_install.html\n",
      "  from .autonotebook import tqdm as notebook_tqdm\n"
     ]
    }
   ],
   "source": [
    "from collections import defaultdict\n",
    "import os\n",
    "\n",
    "import inept\n",
    "from IPython import display\n",
    "import matplotlib.animation as animation\n",
    "import matplotlib.pyplot as plt\n",
    "import numpy as np\n",
    "import pandas as pd\n",
    "import seaborn as sns\n",
    "import torch\n",
    "import umap\n",
    "import wandb\n",
    "\n",
    "# Set params\n",
    "DEVICE = 'cuda' if torch.cuda.is_available() else 'cpu'\n",
    "DATA_FOLDER = os.path.join(os.path.abspath(''), '../data')\n",
    "PLOT_FOLDER = os.path.join(os.path.abspath(''), '../plots')\n",
    "TEMP_FOLDER = os.path.join(os.path.abspath(''), 'temp')\n",
    "\n",
    "# Disable gradients\n",
    "torch.set_grad_enabled(False)\n",
    "\n",
    "# Style\n",
    "sns.set_context('paper', font_scale=1.25)\n",
    "sns.set_style('darkgrid')\n",
    "sns.set_palette('Accent')\n",
    "PALETTE = 'husl'"
   ]
  },
  {
   "cell_type": "markdown",
   "metadata": {},
   "source": [
    "### Parameters"
   ]
  },
  {
   "cell_type": "code",
   "execution_count": 4,
   "metadata": {
    "execution": {
     "iopub.execute_input": "2024-09-25T04:48:08.714690Z",
     "iopub.status.busy": "2024-09-25T04:48:08.714530Z",
     "iopub.status.idle": "2024-09-25T04:48:08.736507Z",
     "shell.execute_reply": "2024-09-25T04:48:08.736097Z"
    }
   },
   "outputs": [],
   "source": [
    "# Animation parameters\n",
    "generalize = True\n",
    "num_nodes_max = 1_000\n",
    "MAX_BATCH = 100\n",
    "MAX_NODES = None\n",
    "run_id = 'g8ex944e'  # BC: g8ex944e, "
   ]
  },
  {
   "cell_type": "markdown",
   "metadata": {},
   "source": [
    "### Load Files"
   ]
  },
  {
   "cell_type": "code",
   "execution_count": 5,
   "metadata": {
    "execution": {
     "iopub.execute_input": "2024-09-25T04:48:08.738425Z",
     "iopub.status.busy": "2024-09-25T04:48:08.738262Z",
     "iopub.status.idle": "2024-09-25T04:48:12.861901Z",
     "shell.execute_reply": "2024-09-25T04:48:12.861408Z"
    }
   },
   "outputs": [],
   "source": [
    "# Load run from the wandb API\n",
    "api = wandb.Api()\n",
    "run = api.run(f'oafish/INEPT/{run_id}')\n",
    "\n",
    "# Load configs\n",
    "config = defaultdict(lambda: {})\n",
    "for k, v in run.config.items():\n",
    "    dict_name, key = k.split('/')\n",
    "    config[dict_name][key] = v\n",
    "config = dict(config)\n",
    "\n",
    "# Load model\n",
    "fname = f'trained_models/policy_{run.summary[\"stage\"]:02}.mdl'\n",
    "run.file(fname).download(TEMP_FOLDER, replace=True)\n",
    "policy = torch.load(os.path.join(TEMP_FOLDER, fname)).to(DEVICE).eval()\n",
    "policy.actor.set_action_std(1e-7)  # Place in execution mode (TODO: 0)"
   ]
  },
  {
   "cell_type": "code",
   "execution_count": 6,
   "metadata": {
    "execution": {
     "iopub.execute_input": "2024-09-25T04:48:12.864016Z",
     "iopub.status.busy": "2024-09-25T04:48:12.863873Z",
     "iopub.status.idle": "2024-09-25T04:48:12.883820Z",
     "shell.execute_reply": "2024-09-25T04:48:12.883370Z"
    }
   },
   "outputs": [],
   "source": [
    "# Reproducibility\n",
    "torch.manual_seed(config['note']['seed'])\n",
    "if DEVICE == 'cuda': torch.cuda.manual_seed(config['note']['seed'])\n",
    "np.random.seed(config['note']['seed'])"
   ]
  },
  {
   "cell_type": "code",
   "execution_count": 7,
   "metadata": {
    "execution": {
     "iopub.execute_input": "2024-09-25T04:48:12.885784Z",
     "iopub.status.busy": "2024-09-25T04:48:12.885644Z",
     "iopub.status.idle": "2024-09-25T04:50:29.465777Z",
     "shell.execute_reply": "2024-09-25T04:50:29.465286Z"
    }
   },
   "outputs": [],
   "source": [
    "# Load data\n",
    "dataset_name = config['data']['dataset']\n",
    "\n",
    "if dataset_name == 'scNMT':\n",
    "    dataset_dir = os.path.join(DATA_FOLDER, 'UnionCom/scNMT')\n",
    "    M1 = pd.read_csv(os.path.join(dataset_dir, 'Paccessibility_300.txt'), delimiter=' ', header=None).to_numpy()\n",
    "    M2 = pd.read_csv(os.path.join(dataset_dir, 'Pmethylation_300.txt'), delimiter=' ', header=None).to_numpy()\n",
    "    M3 = pd.read_csv(os.path.join(dataset_dir, 'RNA_300.txt'), delimiter=' ', header=None).to_numpy()\n",
    "    T1 = pd.read_csv(os.path.join(dataset_dir, 'type1.txt'), delimiter=' ', header=None).to_numpy().flatten()\n",
    "    T2 = pd.read_csv(os.path.join(dataset_dir, 'type2.txt'), delimiter=' ', header=None).to_numpy().flatten()\n",
    "    T3 = pd.read_csv(os.path.join(dataset_dir, 'type3.txt'), delimiter=' ', header=None).to_numpy().flatten()\n",
    "\n",
    "    modalities = [M1, M2, M3][1]\n",
    "    types = [T1, T2, T3][1]\n",
    "    features = [[i for i in range(M.shape[1])] for M in modalities]\n",
    "\n",
    "elif dataset_name == 'BrainChromatin':\n",
    "    nrows = None  # 2_000\n",
    "    dataset_dir = os.path.join(DATA_FOLDER, 'brainchromatin')\n",
    "    M1 = pd.read_csv(os.path.join(dataset_dir, 'multiome_rna_counts.tsv'), delimiter='\\t', nrows=nrows).transpose()  # 4.6 Gb in memory\n",
    "    M2 = pd.read_csv(os.path.join(dataset_dir, 'multiome_atac_gene_activities.tsv'), delimiter='\\t', nrows=nrows).transpose()  # 2.6 Gb in memory\n",
    "    M2 = M2.transpose()[M1.index].transpose()\n",
    "    meta = pd.read_csv(os.path.join(dataset_dir, 'multiome_cell_metadata.txt'), delimiter='\\t')\n",
    "    meta_names = pd.read_csv(os.path.join(dataset_dir, 'multiome_cluster_names.txt'), delimiter='\\t')\n",
    "    meta_names = meta_names[meta_names['Assay'] == 'Multiome ATAC']\n",
    "    meta = pd.merge(meta, meta_names, left_on='ATAC_cluster', right_on='Cluster.ID', how='left')\n",
    "    meta.index = meta['Cell.ID']\n",
    "    T1 = T2 = np.array(meta.transpose()[M1.index].transpose()['Cluster.Name'])\n",
    "    F1, F2 = M1.columns, M2.columns\n",
    "    M1, M2 = M1.to_numpy(), M2.to_numpy()\n",
    "\n",
    "    modalities = [M1, M2]\n",
    "    types = [T1, T2]\n",
    "    features = [F1, F2]\n",
    "\n",
    "    del meta, meta_names\n",
    "\n",
    "elif dataset_name == 'scGLUE':\n",
    "    import scanpy as sc\n",
    "    dataset_dir = os.path.join(DATA_FOLDER, 'scglue')\n",
    "    D1 = sc.read_h5ad(os.path.join(dataset_dir, 'Chen-2019-RNA.h5ad'))\n",
    "    D2 = sc.read_h5ad(os.path.join(dataset_dir, 'Chen-2019-ATAC.h5ad'))\n",
    "    M1 = np.asarray(D1.X.todense())\n",
    "    M2 = np.asarray(D2.X.todense())\n",
    "    T1 = D1.obs.cell_type.to_numpy()\n",
    "    T2 = D2.obs.cell_type.to_numpy()\n",
    "    F1 = D1.var.index.to_numpy()\n",
    "    F2 = D2.var.index.to_numpy()\n",
    "\n",
    "    modalities = [M1, M2]\n",
    "    types = [T1, T2]\n",
    "    features = [F1, F2]\n",
    "\n",
    "    del D1, D2\n",
    "\n",
    "elif dataset_name == 'scGEM':\n",
    "    dataset_dir = os.path.join(DATA_FOLDER, 'UnionCom/scGEM')\n",
    "    M1 = pd.read_csv(os.path.join(dataset_dir, 'GeneExpression.txt'), delimiter=' ', header=None).to_numpy()\n",
    "    M2 = pd.read_csv(os.path.join(dataset_dir, 'DNAmethylation.txt'), delimiter=' ', header=None).to_numpy()\n",
    "    T1 = pd.read_csv(os.path.join(dataset_dir, 'type1.txt'), delimiter=' ', header=None).to_numpy()\n",
    "    T2 = pd.read_csv(os.path.join(dataset_dir, 'type2.txt'), delimiter=' ', header=None).to_numpy()\n",
    "    F1 = np.loadtxt(os.path.join(dataset_dir, 'gex_names.txt'), dtype='str')\n",
    "    F2 = np.loadtxt(os.path.join(dataset_dir, 'dm_names.txt'), dtype='str')\n",
    "\n",
    "    modalities = [M1, M2]\n",
    "    types = [T1, T2]\n",
    "    features = [F1, F2]\n",
    "\n",
    "# MMD-MA data\n",
    "elif dataset_name == 'MMD-MA':\n",
    "    dataset_dir = os.path.join(DATA_FOLDER, 'UnionCom/MMD')\n",
    "    M1 = pd.read_csv(os.path.join(dataset_dir, 's1_mapped1.txt'), delimiter='\\t', header=None).to_numpy()\n",
    "    M2 = pd.read_csv(os.path.join(dataset_dir, 's1_mapped2.txt'), delimiter='\\t', header=None).to_numpy()\n",
    "    T1 = pd.read_csv(os.path.join(dataset_dir, 's1_type1.txt'), delimiter='\\t', header=None).to_numpy()\n",
    "    T2 = pd.read_csv(os.path.join(dataset_dir, 's1_type2.txt'), delimiter='\\t', header=None).to_numpy()\n",
    "\n",
    "    modalities = [M1, M2]\n",
    "    types = [T1, T2]\n",
    "    features = [[i for i in range(M.shape[1])] for M in modalities]\n",
    "\n",
    "# Random data\n",
    "elif dataset_name == 'Random':\n",
    "    num_nodes = 100\n",
    "    M1 = torch.rand((num_nodes, 8), device=DEVICE)\n",
    "    M2 = torch.rand((num_nodes, 16), device=DEVICE)\n",
    "\n",
    "    modalities = [M1, M2]\n",
    "    types = [2*[0 for _ in range(num_nodes)]]\n",
    "    features = [[i for i in range(M.shape[1])] for M in modalities]\n",
    "\n",
    "else: assert False, 'No matching dataset found.'\n",
    "\n",
    "# Parameters\n",
    "num_nodes = M1.shape[0] if generalize else config['data']['num_nodes']\n",
    "pca_dim = config['policy']['modal_sizes']\n",
    "\n",
    "# Modify data\n",
    "# modalities = inept.utilities.normalize(*modalities, keep_array=True)  # Normalize\n",
    "modalities = inept.utilities.pca_features(*modalities, num_features=pca_dim, keep_array=True)  # PCA features (2 min for 8k x 35+k)\n",
    "subsample = inept.utilities.subsample_nodes(*modalities, *types, num_nodes=num_nodes, keep_array=True)  # Subsample nodes\n",
    "modalities, types = subsample[:len(modalities)], subsample[len(modalities):]\n",
    "# modalities = inept.utilities.subsample_features(*modalities, num_features=(16, 16), keep_array=True)  # Subsample features\n",
    "\n",
    "# Cast types\n",
    "modalities = [torch.tensor(Mx, dtype=torch.float32, device=DEVICE) for Mx in modalities]"
   ]
  },
  {
   "cell_type": "code",
   "execution_count": 8,
   "metadata": {
    "execution": {
     "iopub.execute_input": "2024-09-25T04:50:29.467935Z",
     "iopub.status.busy": "2024-09-25T04:50:29.467768Z",
     "iopub.status.idle": "2024-09-25T04:50:29.496515Z",
     "shell.execute_reply": "2024-09-25T04:50:29.496058Z"
    }
   },
   "outputs": [],
   "source": [
    "# Initialize environment\n",
    "env = inept.environments.trajectory(*modalities, **config['env'], device=DEVICE)\n",
    "for stage in config['stages']['env']: env.set_rewards(stage)  # Set to final stage"
   ]
  },
  {
   "cell_type": "markdown",
   "metadata": {},
   "source": [
    "### Plot Performance"
   ]
  },
  {
   "cell_type": "code",
   "execution_count": 9,
   "metadata": {
    "execution": {
     "iopub.execute_input": "2024-09-25T04:50:29.498708Z",
     "iopub.status.busy": "2024-09-25T04:50:29.498548Z",
     "iopub.status.idle": "2024-09-25T04:50:30.386666Z",
     "shell.execute_reply": "2024-09-25T04:50:30.386217Z"
    }
   },
   "outputs": [
    {
     "data": {
      "image/png": "[encoded data removed]",
      "text/plain": [
       "<Figure size 500x500 with 3 Axes>"
      ]
     },
     "metadata": {},
     "output_type": "display_data"
    }
   ],
   "source": [
    "# Load history from wandb\n",
    "history = run.history(samples=2000)\n",
    "history['timestep'] = history['end_timestep']\n",
    "history['Runtime (h)'] = history['_runtime'] / 60**2\n",
    "\n",
    "# Plot\n",
    "fig, axs = plt.subplots(3, 1, figsize=(5, 5), sharex=True, layout='constrained')\n",
    "axs = axs.flatten()\n",
    "sns.lineplot(history, x='timestep', y='Runtime (h)', ax=axs[0])\n",
    "sns.lineplot(history, x='timestep', y='action_std', ax=axs[1])\n",
    "sns.lineplot(history, x='timestep', y='average_reward', ax=axs[2])\n",
    "plt.show()"
   ]
  },
  {
   "cell_type": "markdown",
   "metadata": {},
   "source": [
    "### Animate Latent Space"
   ]
  },
  {
   "cell_type": "markdown",
   "metadata": {},
   "source": [
    "##### Functions"
   ]
  },
  {
   "cell_type": "code",
   "execution_count": 10,
   "metadata": {
    "execution": {
     "iopub.execute_input": "2024-09-25T04:50:30.388768Z",
     "iopub.status.busy": "2024-09-25T04:50:30.388627Z",
     "iopub.status.idle": "2024-09-25T04:50:30.418696Z",
     "shell.execute_reply": "2024-09-25T04:50:30.418238Z"
    }
   },
   "outputs": [],
   "source": [
    "def animate(\n",
    "    policy,\n",
    "    env,\n",
    "    create_func,\n",
    "    update_func,\n",
    "    steps=config['train']['max_ep_timesteps'],\n",
    "    timescale=10,  # Factor speedup\n",
    "    skip=None,  # Only show frames (frame % skip) == 0\n",
    "    save_to_file=True,\n",
    "    fname=config['data']['dataset'],\n",
    "    file_type='mp4',  # gif for export, mp4 for preview\n",
    "    verbose=True,\n",
    "    **kwargs,\n",
    "):\n",
    "    \"Generate animation with provided hyperparameters\"\n",
    "    # Default parameters\n",
    "    if skip is None: skip = 3 if file_type == 'gif' else 1\n",
    "    assert file_type in ('mp4', 'gif'), f'File type {file_type} not supported.'\n",
    "\n",
    "    # Calculated parameters\n",
    "    frames = int(steps / skip) + 1  # +1 for initial state\n",
    "    interval = int(1e3 * env.delta * skip / timescale)\n",
    "    fps = int(1e3 / interval)  # fps should be ~30 for gif\n",
    "\n",
    "    # Create figure and reset environment\n",
    "    fig, ax, attributes = create_func(env, **kwargs)\n",
    "\n",
    "    # Formatting\n",
    "    ax.set_aspect('equal')\n",
    "    # pos_bound = env.pos_bound\n",
    "    # ax.set_xlim([-pos_bound-.2, pos_bound+.2])\n",
    "    # ax.set_ylim([-pos_bound-.2, pos_bound+.2])\n",
    "    # Update function\n",
    "    update = lambda frame: update_func(frame, policy=policy, env=env, skip=skip, verbose=verbose, ax=ax, **attributes, **kwargs)\n",
    "\n",
    "    # CLI\n",
    "    if verbose: print(f'Total Steps: {steps}')\n",
    "\n",
    "    # Run animation\n",
    "    ani = animation.FuncAnimation(fig=fig, func=update, frames=frames, interval=interval)\n",
    "    if save_to_file:\n",
    "        if file_type == 'mp4': writer = animation.FFMpegWriter(fps=fps, metadata={'artist': 'INEPT'}, extra_args=['-vcodec', 'libx264'], bitrate=8e3)\n",
    "        elif file_type == 'gif': writer = animation.FFMpegWriter(fps=fps)\n",
    "        ani.save(os.path.join(PLOT_FOLDER, f'{fname}.{file_type}'), writer=writer)  # Save\n",
    "    else: display(ani.to_jshtml())  # Display\n",
    "\n",
    "    # CLI\n",
    "    if verbose: print()\n",
    "\n",
    "def env_step(policy, env):\n",
    "    \"Step environment\"\n",
    "    with torch.no_grad():\n",
    "            state = env.get_state(include_modalities=True)\n",
    "            rewards, finished = env.step(policy.act_macro(state, max_batch=MAX_BATCH, max_nodes=MAX_NODES).detach())  # config['train']['max_batch']\n",
    "    return rewards, finished\n",
    "\n",
    "def create_integration(\n",
    "    env,\n",
    "    transform=None,\n",
    "    c=None,\n",
    "    center=False,\n",
    "    crop=None,\n",
    "    s=10,\n",
    "    **kwargs,\n",
    "):\n",
    "    \"Generic figure creation function\"\n",
    "    fig, ax = plt.subplots(figsize=(5, 5), layout='constrained')\n",
    "    pos = env.pos.detach().cpu()\n",
    "    if transform is not None: pos = transform(pos)\n",
    "    pos = pos[:, :2]\n",
    "    if center: pos = pos - pos.mean(dim=0)  # Center for visualization\n",
    "    if crop == 'Dynamic':\n",
    "        ax.set_xlim([pos[:, 0].min() - .2, pos[:, 0].max() + .2])\n",
    "        ax.set_ylim([pos[:, 1].min() - .2, pos[:, 1].max() + .2])\n",
    "    elif crop is not None:\n",
    "        ax.set_xlim([-crop, crop])\n",
    "        ax.set_ylim([-crop, crop])\n",
    "    sct = ax.scatter(*pos.T, c=[sns.color_palette(PALETTE, c.max()+1).as_hex()[i] for i in c])\n",
    "\n",
    "    return fig, ax, dict(sct=sct)\n",
    "\n",
    "def update_integration(\n",
    "    frame,\n",
    "    policy,\n",
    "    env,\n",
    "    sct,\n",
    "    ax,\n",
    "    transform=None,\n",
    "    skip=1,\n",
    "    center=False,\n",
    "    crop=None,\n",
    "    verbose=True,\n",
    "    **kwargs,\n",
    "):\n",
    "    \"Figure update function for integration\"\n",
    "    # CLI\n",
    "    if verbose: print(f'Processed: {frame}', end='\\r')\n",
    "\n",
    "    # Escape on initial frame\n",
    "    if frame == 0:\n",
    "        ax.set_title(f'Reward: {0: 0.4f}')\n",
    "        return sct\n",
    "\n",
    "    # Escape if finished\n",
    "    if env.finished(): ax.set_title(f'Finished'); return\n",
    "\n",
    "    # Step environment\n",
    "    for _ in range(skip):\n",
    "        rewards, finished = env_step(policy, env)\n",
    "        if finished: break\n",
    "\n",
    "    # Draw\n",
    "    pos = env.pos.detach().cpu()\n",
    "    if transform is not None: pos = transform(pos)\n",
    "    pos = pos[:, :2]\n",
    "    if center: pos = pos - pos.mean(dim=0)  # Center for visualization\n",
    "    if crop == 'Dynamic':\n",
    "        ax.set_xlim([pos[:, 0].min() - .2, pos[:, 0].max() + .2])\n",
    "        ax.set_ylim([pos[:, 1].min() - .2, pos[:, 1].max() + .2])\n",
    "    elif crop is not None:\n",
    "        ax.set_xlim([-crop, crop])\n",
    "        ax.set_ylim([-crop, crop])\n",
    "    sct.set_offsets(pos)\n",
    "    ax.set_title(f'Reward: {rewards.cpu().mean().item(): 0.4f}')\n",
    "    return sct\n",
    "\n",
    "def create_trajectory(*args, **kwargs): return create_integration(*args, **kwargs)\n",
    "\n",
    "def update_trajectory(\n",
    "    frame,\n",
    "    policy,\n",
    "    env,\n",
    "    sct,\n",
    "    ax,\n",
    "    tracked_node_idx,\n",
    "    transform=None,\n",
    "    skip=1,\n",
    "    arrow_kwargs={},\n",
    "    crop=None,\n",
    "    verbose=True,\n",
    "    **kwargs,\n",
    "):\n",
    "    \"Figure update function for trajectory\"\n",
    "    # Default arguments\n",
    "    arrow_kwargs_default = dict(width=.1, color='blue', head_width=0)\n",
    "    for k, v in arrow_kwargs_default.items():\n",
    "        if k not in arrow_kwargs: arrow_kwargs[k] = v\n",
    "\n",
    "    # CLI\n",
    "    if verbose: print(f'Processed: {frame}', end='\\r')\n",
    "\n",
    "    # Escape on initial frame\n",
    "    if frame == 0:\n",
    "        ax.set_title(f'Reward: {0: 0.4f}')\n",
    "        return sct\n",
    "\n",
    "    # Escape if finished\n",
    "    if env.finished(): ax.set_title(f'Finished'); return\n",
    "\n",
    "    # Save old position\n",
    "    pos_old = env.pos.detach().cpu()\n",
    "    if transform is not None: pos_old = transform(pos_old)\n",
    "    pos_old = pos_old[:, :2]\n",
    "\n",
    "    # Step environment\n",
    "    for _ in range(skip):\n",
    "        rewards, finished = env_step(policy, env)\n",
    "        if finished: break\n",
    "\n",
    "    # Draw\n",
    "    pos = env.pos.detach().cpu()\n",
    "    if transform is not None: pos = transform(pos)\n",
    "    pos = pos[:, :2]\n",
    "    if crop == 'Dynamic':\n",
    "        ax.set_xlim([pos[:, 0].min() - .2, pos[:, 0].max() + .2])\n",
    "        ax.set_ylim([pos[:, 1].min() - .2, pos[:, 1].max() + .2])\n",
    "    elif crop is not None:\n",
    "        ax.set_xlim([-crop, crop])\n",
    "        ax.set_ylim([-crop, crop])\n",
    "    sct.set_offsets(pos)\n",
    "    ax.set_title(f'Reward: {rewards.cpu().mean().item(): 0.4f}')\n",
    "\n",
    "    # Draw trajectory arrow\n",
    "    dpos = pos[tracked_node_idx] - pos_old[tracked_node_idx]\n",
    "    ax.arrow(*pos_old[tracked_node_idx], *dpos, **arrow_kwargs)\n",
    "\n",
    "    return sct"
   ]
  },
  {
   "cell_type": "markdown",
   "metadata": {},
   "source": [
    "##### Running"
   ]
  },
  {
   "cell_type": "code",
   "execution_count": 11,
   "metadata": {
    "execution": {
     "iopub.execute_input": "2024-09-25T04:50:30.420811Z",
     "iopub.status.busy": "2024-09-25T04:50:30.420667Z",
     "iopub.status.idle": "2024-09-25T04:50:30.441813Z",
     "shell.execute_reply": "2024-09-25T04:50:30.441350Z"
    }
   },
   "outputs": [],
   "source": [
    "# Universal animation parameters\n",
    "seed = 42\n",
    "file_type = 'mp4'\n",
    "max_steps = 400\n",
    "skip = 10\n",
    "suffix = ''\n",
    "\n",
    "# Plot parameters\n",
    "s = 2\n",
    "\n",
    "# View parameters\n",
    "transform_type = 'UMAP'  # None, 'UMAP'\n",
    "transform_dim = 2\n",
    "center = True\n",
    "crop = 10  # None, 'Dynamic', Positive Float\n",
    "\n",
    "# Process\n",
    "steps = config['train']['max_ep_timesteps'] if max_steps is None else min(max_steps, config['train']['max_ep_timesteps'])\n",
    "c = np.unique(types[0].flatten(), return_inverse=True)[1]  # TODO: Extend to non-matching modalities"
   ]
  },
  {
   "cell_type": "code",
   "execution_count": null,
   "metadata": {
    "execution": {
     "iopub.execute_input": "2024-09-25T04:50:30.443774Z",
     "iopub.status.busy": "2024-09-25T04:50:30.443617Z",
     "iopub.status.idle": "2024-09-25T04:50:46.753212Z",
     "shell.execute_reply": "2024-09-25T04:50:46.752769Z"
    }
   },
   "outputs": [],
   "source": [
    "%matplotlib inline\n",
    "\n",
    "# Reproducibility\n",
    "torch.manual_seed(seed)\n",
    "\n",
    "# Get steady-state\n",
    "env.reset()\n",
    "print(f'Total Steps: {max_steps}')\n",
    "for i in range(max_steps):\n",
    "    env_step(policy, env)\n",
    "    print(f'Processed: {i+1}', end='\\r')\n",
    "print()\n",
    "pos, vel = env.pos.detach().clone(), env.vel.detach().clone()\n",
    "\n",
    "# Make UMAP based on steady-state\n",
    "if transform_type == 'UMAP':\n",
    "    ss_trans = umap.UMAP(\n",
    "        n_components=transform_dim,\n",
    "        n_neighbors=500,\n",
    "        min_dist=.1,\n",
    "        # metric='manhattan',\n",
    "        n_jobs=1,\n",
    "        random_state=seed,\n",
    "    ).fit(pos.cpu())\n",
    "    transform = lambda x: torch.tensor(ss_trans.transform(x))\n",
    "else:\n",
    "    if transform_type is not None: print(f'Transformation type \"{transform_type}\" unknown, defaulting to `None`')\n",
    "    transform = None\n",
    "\n",
    "# Show steady state\n",
    "fig = plt.figure()\n",
    "if transform_dim < 3: projection = None\n",
    "elif transform_dim == 3: projection = '3d'\n",
    "else: print(f'Unkown dim \"{transform_dim}\" found, plotting may fail')\n",
    "ax = fig.add_subplot(111, projection=projection)\n",
    "transformed_data = pos.cpu()\n",
    "if transform is not None: transformed_data = transform(transformed_data)\n",
    "transformed_data = transformed_data[:, :transform_dim].T\n",
    "ax.scatter(*transformed_data, c=[sns.color_palette(PALETTE, c.max()+1).as_hex()[i] for i in c])\n",
    "plt.show()"
   ]
  },
  {
   "cell_type": "code",
   "execution_count": null,
   "metadata": {
    "execution": {
     "iopub.execute_input": "2024-09-25T04:50:46.755197Z",
     "iopub.status.busy": "2024-09-25T04:50:46.755013Z",
     "iopub.status.idle": "2024-09-25T04:57:54.401900Z",
     "shell.execute_reply": "2024-09-25T04:57:54.401393Z"
    }
   },
   "outputs": [],
   "source": [
    "%matplotlib agg\n",
    "\n",
    "# Reproducibility\n",
    "torch.manual_seed(seed)\n",
    "\n",
    "# Integration animation\n",
    "env.reset()\n",
    "animate(\n",
    "    policy,\n",
    "    env,\n",
    "    transform=transform,\n",
    "    steps=steps,\n",
    "    skip=skip,\n",
    "    create_func=create_integration,\n",
    "    update_func=update_integration,\n",
    "    c=c,\n",
    "    s=s,\n",
    "    center=center,\n",
    "    crop=crop,\n",
    "    fname=f'{config[\"data\"][\"dataset\"]}{suffix}',\n",
    "    file_type=file_type)\n",
    "# pos, vel = env.pos.detach().clone(), env.vel.detach().clone()  # Save steady state\n",
    "\n",
    "# Get distance from origin for steady state\n",
    "print(f'Centering square distance: {pos.mean(dim=0).square().sum().cpu().item():.3f}')"
   ]
  },
  {
   "cell_type": "code",
   "execution_count": null,
   "metadata": {
    "execution": {
     "iopub.execute_input": "2024-09-25T04:57:54.404129Z",
     "iopub.status.busy": "2024-09-25T04:57:54.403826Z",
     "iopub.status.idle": "2024-09-25T05:10:31.880014Z",
     "shell.execute_reply": "2024-09-25T05:10:31.879563Z"
    }
   },
   "outputs": [],
   "source": [
    "%matplotlib agg\n",
    "\n",
    "# Reproducibility\n",
    "torch.manual_seed(seed)\n",
    "\n",
    "# Trajectory analysis\n",
    "node_to_analyze, node_to_copy = 0, 2  # Which node will be analyzed\n",
    "env.pos, env.vel = pos.detach().clone(), vel.detach().clone()  # Reset env to steady state\n",
    "if node_to_copy is None: env.pos[node_to_analyze] = env.pos_bound * 2 * (torch.rand(2) - .5)  # Randomize node position\n",
    "else: env.pos[node_to_analyze] = env.pos[node_to_copy]  # Copy node position\n",
    "animate(\n",
    "    policy,\n",
    "    env,\n",
    "    transform=transform,\n",
    "    steps=steps,\n",
    "    skip=skip,\n",
    "    create_func=create_trajectory,\n",
    "    update_func=update_trajectory,\n",
    "    c=c,\n",
    "    s=s,\n",
    "    tracked_node_idx=node_to_analyze,\n",
    "    center=center,\n",
    "    crop=crop,\n",
    "    fname=f'{config[\"data\"][\"dataset\"]}{suffix}_trajectory',\n",
    "    file_type=file_type)"
   ]
  },
  {
   "cell_type": "code",
   "execution_count": null,
   "metadata": {
    "execution": {
     "iopub.execute_input": "2024-09-25T05:10:31.881868Z",
     "iopub.status.busy": "2024-09-25T05:10:31.881721Z",
     "iopub.status.idle": "2024-09-25T05:17:53.370705Z",
     "shell.execute_reply": "2024-09-25T05:17:53.370240Z"
    }
   },
   "outputs": [],
   "source": [
    "%matplotlib agg\n",
    "\n",
    "# Reproducibility\n",
    "torch.manual_seed(seed)\n",
    "\n",
    "# Feature modification\n",
    "features_to_randomize = [(0, list(range(len(modalities[0]) // 2)))]  # (modality, [features])\n",
    "env.pos, env.vel = pos.detach().clone(), vel.detach().clone()  # Reset env to steady state\n",
    "# env.reset()  # Reset env to new\n",
    "old_modalities = [m.detach().clone() for m in env.modalities]\n",
    "for modality, features in features_to_randomize:\n",
    "    for feature in features:\n",
    "        env.modalities[modality][:, feature] = torch.normal(\n",
    "            env.modalities[modality][:, feature].mean().expand(env.modalities[modality].shape[0]),\n",
    "            env.modalities[modality][:, feature].std().expand(env.modalities[modality].shape[0]),\n",
    ")\n",
    "animate(\n",
    "    policy,\n",
    "    env,\n",
    "    transform=transform,\n",
    "    steps=steps,\n",
    "    skip=skip,\n",
    "    create_func=create_integration,\n",
    "    update_func=update_integration,\n",
    "    c=c,\n",
    "    s=s,\n",
    "    center=center,\n",
    "    crop=crop,\n",
    "    fname=f'{config[\"data\"][\"dataset\"]}{suffix}_feature',\n",
    "    file_type=file_type)\n",
    "env.modalities = old_modalities"
   ]
  }
 ],
 "metadata": {
  "kernelspec": {
   "display_name": "inept",
   "language": "python",
   "name": "python3"
  },
  "language_info": {
   "codemirror_mode": {
    "name": "ipython",
    "version": 3
   },
   "file_extension": ".py",
   "mimetype": "text/x-python",
   "name": "python",
   "nbconvert_exporter": "python",
   "pygments_lexer": "ipython3",
   "version": "3.10.14"
  }
 },
 "nbformat": 4,
 "nbformat_minor": 2
}
