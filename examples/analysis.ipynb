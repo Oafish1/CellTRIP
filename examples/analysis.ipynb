{
 "cells": [
  {
   "cell_type": "code",
   "execution_count": 1,
   "metadata": {
    "execution": {
     "iopub.execute_input": "2024-04-10T05:35:00.358200Z",
     "iopub.status.busy": "2024-04-10T05:35:00.357945Z",
     "iopub.status.idle": "2024-04-10T05:35:00.373301Z",
     "shell.execute_reply": "2024-04-10T05:35:00.372912Z"
    }
   },
   "outputs": [
    {
     "name": "stdout",
     "output_type": "stream",
     "text": [
      "env: WANDB_NOTEBOOK_NAME=exploration.ipynb\n",
      "env: WANDB_SILENT=true\n"
     ]
    }
   ],
   "source": [
    "%load_ext autoreload\n",
    "%autoreload 2\n",
    "%env WANDB_NOTEBOOK_NAME exploration.ipynb\n",
    "%env WANDB_SILENT true"
   ]
  },
  {
   "cell_type": "code",
   "execution_count": 2,
   "metadata": {
    "execution": {
     "iopub.execute_input": "2024-04-10T05:35:00.407869Z",
     "iopub.status.busy": "2024-04-10T05:35:00.407710Z",
     "iopub.status.idle": "2024-04-10T05:35:02.130225Z",
     "shell.execute_reply": "2024-04-10T05:35:02.129771Z"
    }
   },
   "outputs": [],
   "source": [
    "from collections import defaultdict\n",
    "import itertools\n",
    "import os\n",
    "\n",
    "import inept\n",
    "from IPython import display\n",
    "import matplotlib.animation as animation\n",
    "import matplotlib.pyplot as plt\n",
    "import numpy as np\n",
    "import pandas as pd\n",
    "import seaborn as sns\n",
    "import torch\n",
    "import wandb\n",
    "\n",
    "# Set params\n",
    "DEVICE = 'cuda' if torch.cuda.is_available() else 'cpu'\n",
    "DATA_FOLDER = os.path.join(os.path.abspath(''), '../data')\n",
    "PLOT_FOLDER = os.path.join(os.path.abspath(''), '../plots')\n",
    "TEMP_FOLDER = os.path.join(os.path.abspath(''), 'temp')\n",
    "\n",
    "# Disable gradients\n",
    "torch.set_grad_enabled(False)\n",
    "\n",
    "# Style\n",
    "sns.set_theme(context='paper', style='white', palette='Set2')"
   ]
  },
  {
   "cell_type": "markdown",
   "metadata": {},
   "source": [
    "### Load Files"
   ]
  },
  {
   "cell_type": "code",
   "execution_count": 3,
   "metadata": {
    "execution": {
     "iopub.execute_input": "2024-04-10T05:35:02.168359Z",
     "iopub.status.busy": "2024-04-10T05:35:02.168204Z",
     "iopub.status.idle": "2024-04-10T05:35:02.476163Z",
     "shell.execute_reply": "2024-04-10T05:35:02.475711Z"
    }
   },
   "outputs": [],
   "source": [
    "# Load run from the wandb API\n",
    "api = wandb.Api()\n",
    "run = api.run('oafish/INEPT/t0vuvlm2')\n",
    "\n",
    "# Load configs\n",
    "config = defaultdict(lambda: {})\n",
    "for k, v in run.config.items():\n",
    "    dict_name, key = k.split('/')\n",
    "    config[dict_name][key] = v\n",
    "config = dict(config)\n",
    "\n",
    "# Load model\n",
    "run.file('trained_models/policy.mdl').download(TEMP_FOLDER, replace=True)\n",
    "policy = torch.load(os.path.join(TEMP_FOLDER, 'trained_models/policy.mdl')).to(DEVICE)\n",
    "policy.actor.set_action_std(1e-7)  # Place in execution mode"
   ]
  },
  {
   "cell_type": "code",
   "execution_count": 4,
   "metadata": {},
   "outputs": [],
   "source": [
    "# MMD-MA data\n",
    "M1 = pd.read_csv(os.path.join(DATA_FOLDER, 'UnionCom/MMD/s1_mapped1.txt'), delimiter='\\t', header=None).to_numpy()\n",
    "M2 = pd.read_csv(os.path.join(DATA_FOLDER, 'UnionCom/MMD/s1_mapped2.txt'), delimiter='\\t', header=None).to_numpy()\n",
    "T1 = pd.read_csv(os.path.join(DATA_FOLDER, 'UnionCom/MMD/s1_type1.txt'), delimiter='\\t', header=None).to_numpy()\n",
    "T2 = pd.read_csv(os.path.join(DATA_FOLDER, 'UnionCom/MMD/s1_type2.txt'), delimiter='\\t', header=None).to_numpy()"
   ]
  },
  {
   "cell_type": "code",
   "execution_count": 5,
   "metadata": {},
   "outputs": [],
   "source": [
    "# Reproducibility\n",
    "torch.manual_seed(config['note']['seed'])\n",
    "if DEVICE == 'cuda': torch.cuda.manual_seed(config['note']['seed'])\n",
    "np.random.seed(config['note']['seed'])\n",
    "\n",
    "# Load config\n",
    "num_nodes = config['data']['num_nodes']\n",
    "generalize = True\n",
    "\n",
    "if config['data']['dataset'] == 'MMD-MA':\n",
    "    # MMD-MA data\n",
    "    M1 = pd.read_csv(os.path.join(DATA_FOLDER, 'UnionCom/MMD/s1_mapped1.txt'), delimiter='\\t', header=None).to_numpy()\n",
    "    M2 = pd.read_csv(os.path.join(DATA_FOLDER, 'UnionCom/MMD/s1_mapped2.txt'), delimiter='\\t', header=None).to_numpy()\n",
    "    T1 = pd.read_csv(os.path.join(DATA_FOLDER, 'UnionCom/MMD/s1_type1.txt'), delimiter='\\t', header=None).to_numpy()\n",
    "    T2 = pd.read_csv(os.path.join(DATA_FOLDER, 'UnionCom/MMD/s1_type2.txt'), delimiter='\\t', header=None).to_numpy()\n",
    "    # Params\n",
    "    if generalize: num_nodes = M1.shape[0]\n",
    "    # Subsample\n",
    "    np.random.seed(config['note']['seed'])\n",
    "    idx = np.random.choice(M1.shape[0], num_nodes, replace=False)\n",
    "    idx_1 = np.random.choice(M1.shape[1], 16, replace=False)\n",
    "    idx_2 = np.random.choice(M2.shape[1], 16, replace=False)\n",
    "    M1 = torch.tensor(M1[idx][:, idx_1], dtype=torch.float32, device=DEVICE)\n",
    "    M2 = torch.tensor(M2[idx][:, idx_2], dtype=torch.float32, device=DEVICE)\n",
    "    T1 = torch.tensor(T1[idx], dtype=torch.long, device=DEVICE)\n",
    "    T2 = torch.tensor(T2[idx], dtype=torch.long, device=DEVICE)\n",
    "    modalities = (M1, M2)\n",
    "\n",
    "elif config['data']['dataset'] == 'Random':\n",
    "    # Random data\n",
    "    torch.manual_seed(config['note']['seed'])\n",
    "    M1 = torch.rand((num_nodes, 8), device=DEVICE)\n",
    "    M2 = torch.rand((num_nodes, 16), device=DEVICE)\n",
    "    T1 = torch.zeros(num_nodes, dtype=torch.long, device=DEVICE)\n",
    "    modalities = (M1, M2)\n",
    "\n",
    "else: assert False, 'No matching dataset found.'\n",
    "\n",
    "# Environment\n",
    "# config['env']['reward_distance_type'] = config['env'].pop('reward_type')\n",
    "env = inept.environments.trajectory(*modalities, **config['env'], device=DEVICE)"
   ]
  },
  {
   "cell_type": "markdown",
   "metadata": {},
   "source": [
    "### Plot Performance"
   ]
  },
  {
   "cell_type": "code",
   "execution_count": 6,
   "metadata": {
    "execution": {
     "iopub.execute_input": "2024-04-10T06:13:07.854834Z",
     "iopub.status.busy": "2024-04-10T06:13:07.854628Z",
     "iopub.status.idle": "2024-04-10T06:13:08.452522Z",
     "shell.execute_reply": "2024-04-10T06:13:08.452084Z"
    }
   },
   "outputs": [
    {
     "data": {
      "image/png": "[encoded data removed]",
      "text/plain": [
       "<Figure size 500x500 with 3 Axes>"
      ]
     },
     "metadata": {},
     "output_type": "display_data"
    }
   ],
   "source": [
    "# Load history from wandb\n",
    "history = run.history(samples=2000)\n",
    "history['timestep'] = history['end_timestep']\n",
    "history['Runtime (h)'] = history['_runtime'] / 60**2\n",
    "\n",
    "# Plot\n",
    "fig, axs = plt.subplots(3, 1, figsize=(5, 5), sharex=True, layout='constrained')\n",
    "axs = axs.flatten()\n",
    "sns.lineplot(history, x='timestep', y='Runtime (h)', ax=axs[0])\n",
    "sns.lineplot(history, x='timestep', y='action_std', ax=axs[1])\n",
    "sns.lineplot(history, x='timestep', y='average_reward', ax=axs[2])\n",
    "plt.show()"
   ]
  },
  {
   "cell_type": "markdown",
   "metadata": {},
   "source": [
    "### Animate Latent Space"
   ]
  },
  {
   "cell_type": "code",
   "execution_count": 7,
   "metadata": {
    "execution": {
     "iopub.execute_input": "2024-04-10T06:13:08.454443Z",
     "iopub.status.busy": "2024-04-10T06:13:08.454272Z",
     "iopub.status.idle": "2024-04-10T06:14:20.893461Z",
     "shell.execute_reply": "2024-04-10T06:14:20.892791Z"
    }
   },
   "outputs": [
    {
     "name": "stdout",
     "output_type": "stream",
     "text": [
      "0.407\n"
     ]
    }
   ],
   "source": [
    "%matplotlib agg\n",
    "\n",
    "# Animation parameters\n",
    "timescale = 10  # Factor speedup\n",
    "skip = 3  # Only show frames (frame % skip) == 0\n",
    "center = False\n",
    "save_to_file = True\n",
    "file_type = 'mp4'  # gif for export, mp4 for preview\n",
    "\n",
    "# Calculated parameters\n",
    "frames = int(config['train']['max_ep_timesteps'] / skip)\n",
    "interval = int(1e3 * env.delta * skip / timescale)\n",
    "fps = int(1e3 / interval)  # fps should be ~30 for gif\n",
    "\n",
    "# Create figure and reset environment\n",
    "fig, ax = plt.subplots(figsize=(5, 5), layout='constrained')\n",
    "env.reset()\n",
    "pos = env.get_state().cpu()[:, :2]\n",
    "if center: pos = pos - pos.mean(dim=0)  # Center for visualization\n",
    "sct = ax.scatter(*pos.T, c=T1.cpu().flatten())\n",
    "\n",
    "# Formatting\n",
    "ax.set_aspect('equal')\n",
    "ax.set_xlim([-env.pos_bound-.2, env.pos_bound+.2])\n",
    "ax.set_ylim([-env.pos_bound-.2, env.pos_bound+.2])\n",
    "\n",
    "# Update function\n",
    "def update(frame):\n",
    "    # Escape if finished\n",
    "    if env.finished(): ax.set_title(f'Finished'); return\n",
    "\n",
    "    # Step environment\n",
    "    for _ in range(skip):\n",
    "        with torch.no_grad():\n",
    "            state = env.get_state(include_modalities=True)\n",
    "            self_entity = state\n",
    "            idx = torch.zeros((num_nodes, num_nodes), dtype=torch.bool)\n",
    "            for i, j in itertools.product(*[range(x) for x in idx.shape]):\n",
    "                idx[i, j] = i!=j\n",
    "            node_entities = state.unsqueeze(0).expand(num_nodes, *state.shape)\n",
    "            node_entities = node_entities[idx].reshape(num_nodes, num_nodes-1, run.config['policy/num_features_per_node'])\n",
    "            rewards, finished = env.step(policy.act(self_entity, node_entities).detach())\n",
    "        if finished: break\n",
    "\n",
    "    # Draw\n",
    "    pos = env.get_state().cpu()[:, :2]\n",
    "    if center: pos = pos - pos.mean(dim=0)  # Center for visualization\n",
    "    sct.set_offsets(pos)\n",
    "    ax.set_title(f'Reward: {rewards.cpu().mean().item(): 0.4f}')\n",
    "    return sct\n",
    "\n",
    "# Run animation\n",
    "ani = animation.FuncAnimation(fig=fig, func=update, frames=frames, interval=interval)\n",
    "if file_type == 'mp4':\n",
    "    writer = animation.FFMpegWriter(fps=fps, metadata={'artist': 'INEPT'}, extra_args=['-vcodec', 'libx264'], bitrate=8e3)\n",
    "    fname = config['data']['dataset']\n",
    "elif file_type == 'gif':\n",
    "    writer = animation.FFMpegWriter(fps=fps)\n",
    "    fname = 'sample'\n",
    "if save_to_file: ani.save(os.path.join(PLOT_FOLDER, f'{fname}.{file_type}'), writer=writer)  # Save\n",
    "else: display(ani.to_jshtml())  # Display\n",
    "\n",
    "# Will be near zero if centered\n",
    "print(f'{env.pos.mean(dim=0).square().sum().cpu().item():.3f}')"
   ]
  }
 ],
 "metadata": {
  "kernelspec": {
   "display_name": "inept",
   "language": "python",
   "name": "python3"
  },
  "language_info": {
   "codemirror_mode": {
    "name": "ipython",
    "version": 3
   },
   "file_extension": ".py",
   "mimetype": "text/x-python",
   "name": "python",
   "nbconvert_exporter": "python",
   "pygments_lexer": "ipython3",
   "version": "3.10.14"
  }
 },
 "nbformat": 4,
 "nbformat_minor": 2
}
