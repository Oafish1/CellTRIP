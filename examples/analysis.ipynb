{
 "cells": [
  {
   "cell_type": "code",
   "execution_count": 1,
   "metadata": {
    "execution": {
     "iopub.execute_input": "2024-11-08T20:43:12.389299Z",
     "iopub.status.busy": "2024-11-08T20:43:12.388980Z",
     "iopub.status.idle": "2024-11-08T20:43:14.530645Z",
     "shell.execute_reply": "2024-11-08T20:43:14.530180Z"
    }
   },
   "outputs": [
    {
     "name": "stdout",
     "output_type": "stream",
     "text": [
      "env: WANDB_NOTEBOOK_NAME=analysis.ipynb\n",
      "env: WANDB_SILENT=true\n"
     ]
    }
   ],
   "source": [
    "%load_ext autoreload\n",
    "%autoreload 2\n",
    "%env WANDB_NOTEBOOK_NAME analysis.ipynb\n",
    "%env WANDB_SILENT true\n",
    "%matplotlib agg\n",
    "# ipympl\n",
    "\n",
    "from collections import defaultdict\n",
    "from itertools import product\n",
    "import re\n",
    "import os\n",
    "import tempfile\n",
    "\n",
    "import matplotlib as mpl\n",
    "import matplotlib.collections as mpl_col\n",
    "import matplotlib.gridspec as mpl_grid\n",
    "import matplotlib.pyplot as plt\n",
    "import matplotlib.animation as animation\n",
    "import mpl_toolkits.mplot3d as mp3d\n",
    "import numpy as np\n",
    "import seaborn as sns\n",
    "import sklearn.metrics\n",
    "import torch\n",
    "from tqdm import tqdm\n",
    "import wandb\n",
    "\n",
    "import data\n",
    "import inept\n",
    "\n",
    "# Set params\n",
    "DEVICE = 'cuda:0' if torch.cuda.is_available() else 'cpu'\n",
    "BASE_FOLDER = os.path.abspath('')\n",
    "DATA_FOLDER = os.path.join(BASE_FOLDER, '../data')\n",
    "PLOT_FOLDER = os.path.join(BASE_FOLDER, '../plots')\n",
    "\n",
    "# Style\n",
    "sns.set_context('paper', font_scale=1.25)\n",
    "sns.set_style('white')\n",
    "sns.set_palette('husl')\n",
    "\n",
    "# MPL params\n",
    "mpl.rcParams['animation.embed_limit'] = 100\n",
    "\n",
    "# Disable gradients\n",
    "torch.set_grad_enabled(False);"
   ]
  },
  {
   "cell_type": "markdown",
   "metadata": {},
   "source": [
    "- HIGH PRIORITY\n",
    "  - Add more accuracy metrics\n",
    "  - Perturbation analysis with inverse transform\n",
    "  - Add 2D functionality\n",
    "  - Add optional UMAP\n",
    "\n",
    "- LOW PRIORITY\n",
    "  - Switch to `mayavi` instead of mpl to have true 3d and proper layering"
   ]
  },
  {
   "cell_type": "markdown",
   "metadata": {},
   "source": [
    "### Load All Classes"
   ]
  },
  {
   "cell_type": "code",
   "execution_count": 2,
   "metadata": {
    "execution": {
     "iopub.execute_input": "2024-11-08T20:43:14.533099Z",
     "iopub.status.busy": "2024-11-08T20:43:14.532855Z",
     "iopub.status.idle": "2024-11-08T20:43:16.010332Z",
     "shell.execute_reply": "2024-11-08T20:43:16.009821Z"
    }
   },
   "outputs": [
    {
     "name": "stdout",
     "output_type": "stream",
     "text": [
      "Policy found at stage 9\n"
     ]
    }
   ],
   "source": [
    "# Parameters\n",
    "run_id = (\n",
    "    '4i9rhkfe', # ISS Random 200 20k\n",
    "    'k52g4dx3',  # Random 100x\n",
    "    '2dt27jy2',  # No random 20k\n",
    ")[0]\n",
    "stage_override = None  # Manually override policy stage selection\n",
    "num_nodes = int(2e2)\n",
    "seed_override = None  # 43\n",
    "\n",
    "# Load run\n",
    "api = wandb.Api()\n",
    "run = api.run(f'oafish/INEPT/{run_id}')\n",
    "config = defaultdict(lambda: {})\n",
    "for k, v in run.config.items():\n",
    "    dict_name, key = k.split('/')\n",
    "    config[dict_name][key] = v\n",
    "config = dict(config)\n",
    "\n",
    "# Reproducibility\n",
    "seed = seed_override if seed_override is not None else config['note']['seed']\n",
    "torch.manual_seed(seed)\n",
    "if torch.cuda.is_available(): torch.cuda.manual_seed(seed)\n",
    "np.random.seed(seed)\n",
    "\n",
    "# Load data\n",
    "modalities, types, features = data.load_data(config['data']['dataset'], DATA_FOLDER)\n",
    "ppc = inept.utilities.Preprocessing(\n",
    "    **inept.utilities.overwrite_dict(config['data'], {'standardize': True, 'num_nodes': num_nodes}),\n",
    "    device=DEVICE)\n",
    "modalities = ppc.fit_transform(modalities)\n",
    "modalities, types = ppc.subsample(modalities, types)\n",
    "modalities = ppc.cast(modalities)\n",
    "\n",
    "# Load env\n",
    "env = inept.environments.trajectory(*modalities, **config['env'], device=DEVICE)\n",
    "\n",
    "# Get latest policy\n",
    "latest_mdl = [-1, None]  # Pkl\n",
    "latest_wgt = [-1, None]  # State dict\n",
    "for file in run.files():\n",
    "    # Find mdl files\n",
    "    matches = re.findall(f'^(?:models|trained_models)/policy_(\\w+).(mdl|wgt)$', file.name)\n",
    "    if len(matches) > 0: stage = int(matches[0][0]); ftype = matches[0][1]\n",
    "    else: continue\n",
    "\n",
    "    # Record\n",
    "    latest_known_stage = latest_mdl[0] if ftype == 'mdl' else latest_wgt[0]\n",
    "    if (stage_override is None and stage > latest_known_stage) or (stage_override is not None and stage == stage_override):\n",
    "        if ftype == 'mdl': latest_mdl = [stage, file]\n",
    "        elif ftype == 'wgt': latest_wgt = [stage, file]\n",
    "print(f'Policy found at stage {latest_mdl[0]}')\n",
    "\n",
    "# Load file\n",
    "load_type = 'wgt'\n",
    "if load_type == 'mdl':\n",
    "    with tempfile.TemporaryDirectory() as tmpdir:\n",
    "        latest_mdl[1].download(tmpdir, replace=True)\n",
    "        policy = torch.load(os.path.join(tmpdir, latest_mdl[1].name))\n",
    "elif load_type == 'wgt':\n",
    "    # Mainly used in the case of old argument names, also more secure\n",
    "    with tempfile.TemporaryDirectory() as tmpdir:\n",
    "        latest_wgt[1].download(tmpdir, replace=True)\n",
    "        config_to_use = config['policy']\n",
    "        # config_to_use = inept.utilities.overwrite_dict(config['policy'], {'positional_dim': 6, 'modal_dims': [76]})\n",
    "        policy = inept.models.PPO(**config_to_use)\n",
    "        incompatible_keys = policy.load_state_dict(torch.load(os.path.join(tmpdir, latest_wgt[1].name), weights_only=True))\n",
    "policy = policy.to(DEVICE).eval()\n",
    "policy.actor.set_action_std(1e-7)"
   ]
  },
  {
   "cell_type": "markdown",
   "metadata": {},
   "source": [
    "### Generate Runs"
   ]
  },
  {
   "cell_type": "code",
   "execution_count": 3,
   "metadata": {
    "execution": {
     "iopub.execute_input": "2024-11-08T20:43:16.012632Z",
     "iopub.status.busy": "2024-11-08T20:43:16.012385Z",
     "iopub.status.idle": "2024-11-08T20:43:16.035749Z",
     "shell.execute_reply": "2024-11-08T20:43:16.035317Z"
    }
   },
   "outputs": [],
   "source": [
    "# Initialize memories\n",
    "memories = {}"
   ]
  },
  {
   "cell_type": "markdown",
   "metadata": {},
   "source": [
    "##### Integration"
   ]
  },
  {
   "cell_type": "code",
   "execution_count": 4,
   "metadata": {
    "execution": {
     "iopub.execute_input": "2024-11-08T20:43:16.037648Z",
     "iopub.status.busy": "2024-11-08T20:43:16.037508Z",
     "iopub.status.idle": "2024-11-08T20:43:16.061132Z",
     "shell.execute_reply": "2024-11-08T20:43:16.060711Z"
    }
   },
   "outputs": [],
   "source": [
    "def get_present(timestep, present, labels, *args, deployment, state=None):\n",
    "    # Copy status\n",
    "    present = present.clone()\n",
    "    if state is not None: state = state.clone()\n",
    "\n",
    "    # Iterate over each label\n",
    "    for label, delay, rate, origin in zip(*deployment.values()):\n",
    "        # If delay has been reached\n",
    "        if timestep >= delay:\n",
    "            # Look at each node\n",
    "            for i in range(len(present)):\n",
    "                # If label matches and not already present\n",
    "                if labels[i] == label and not present[i]:\n",
    "                    # Roll for appearance\n",
    "                    if np.random.rand() < rate:\n",
    "                        # Mark as present and set origin\n",
    "                        if origin is not None:\n",
    "                            state[i] = state[np.random.choice(np.argwhere((labels==origin)*present.cpu().numpy()).flatten())]\n",
    "                        present[i] = True\n",
    "\n",
    "    # Return nicely\n",
    "    ret = (present,)\n",
    "    if state is not None: ret += (state,)\n",
    "    return inept.utilities.clean_return(ret)"
   ]
  },
  {
   "cell_type": "code",
   "execution_count": 5,
   "metadata": {
    "execution": {
     "iopub.execute_input": "2024-11-08T20:43:16.063098Z",
     "iopub.status.busy": "2024-11-08T20:43:16.062931Z",
     "iopub.status.idle": "2024-11-08T20:43:39.590702Z",
     "shell.execute_reply": "2024-11-08T20:43:39.590232Z"
    }
   },
   "outputs": [
    {
     "name": "stderr",
     "output_type": "stream",
     "text": [
      "\r",
      "  0%|                                                                                                                                                                   | 0/1000 [00:00<?, ?it/s]"
     ]
    },
    {
     "name": "stderr",
     "output_type": "stream",
     "text": [
      "\r",
      "  0%|▏                                                                                                                                                          | 1/1000 [00:00<07:01,  2.37it/s]"
     ]
    },
    {
     "name": "stderr",
     "output_type": "stream",
     "text": [
      "\r",
      "  0%|▊                                                                                                                                                          | 5/1000 [00:00<01:24, 11.76it/s]"
     ]
    },
    {
     "name": "stderr",
     "output_type": "stream",
     "text": [
      "\r",
      "  1%|█▌                                                                                                                                                        | 10/1000 [00:00<00:47, 20.64it/s]"
     ]
    },
    {
     "name": "stderr",
     "output_type": "stream",
     "text": [
      "\r",
      "  2%|██▎                                                                                                                                                       | 15/1000 [00:00<00:36, 27.07it/s]"
     ]
    },
    {
     "name": "stderr",
     "output_type": "stream",
     "text": [
      "\r",
      "  2%|███                                                                                                                                                       | 20/1000 [00:00<00:30, 31.86it/s]"
     ]
    },
    {
     "name": "stderr",
     "output_type": "stream",
     "text": [
      "\r",
      "  2%|███▊                                                                                                                                                      | 25/1000 [00:00<00:27, 35.32it/s]"
     ]
    },
    {
     "name": "stderr",
     "output_type": "stream",
     "text": [
      "\r",
      "  3%|████▌                                                                                                                                                     | 30/1000 [00:01<00:25, 37.78it/s]"
     ]
    },
    {
     "name": "stderr",
     "output_type": "stream",
     "text": [
      "\r",
      "  4%|█████▍                                                                                                                                                    | 35/1000 [00:01<00:24, 39.52it/s]"
     ]
    },
    {
     "name": "stderr",
     "output_type": "stream",
     "text": [
      "\r",
      "  4%|██████▏                                                                                                                                                   | 40/1000 [00:01<00:23, 40.74it/s]"
     ]
    },
    {
     "name": "stderr",
     "output_type": "stream",
     "text": [
      "\r",
      "  4%|██████▉                                                                                                                                                   | 45/1000 [00:01<00:22, 41.61it/s]"
     ]
    },
    {
     "name": "stderr",
     "output_type": "stream",
     "text": [
      "\r",
      "  5%|███████▋                                                                                                                                                  | 50/1000 [00:01<00:22, 42.20it/s]"
     ]
    },
    {
     "name": "stderr",
     "output_type": "stream",
     "text": [
      "\r",
      "  6%|████████▍                                                                                                                                                 | 55/1000 [00:01<00:22, 42.63it/s]"
     ]
    },
    {
     "name": "stderr",
     "output_type": "stream",
     "text": [
      "\r",
      "  6%|█████████▏                                                                                                                                                | 60/1000 [00:01<00:21, 42.96it/s]"
     ]
    },
    {
     "name": "stderr",
     "output_type": "stream",
     "text": [
      "\r",
      "  6%|██████████                                                                                                                                                | 65/1000 [00:01<00:21, 42.91it/s]"
     ]
    },
    {
     "name": "stderr",
     "output_type": "stream",
     "text": [
      "\r",
      "  7%|██████████▊                                                                                                                                               | 70/1000 [00:02<00:21, 42.89it/s]"
     ]
    },
    {
     "name": "stderr",
     "output_type": "stream",
     "text": [
      "\r",
      "  8%|███████████▌                                                                                                                                              | 75/1000 [00:02<00:21, 42.87it/s]"
     ]
    },
    {
     "name": "stderr",
     "output_type": "stream",
     "text": [
      "\r",
      "  8%|████████████▎                                                                                                                                             | 80/1000 [00:02<00:21, 42.82it/s]"
     ]
    },
    {
     "name": "stderr",
     "output_type": "stream",
     "text": [
      "\r",
      "  8%|█████████████                                                                                                                                             | 85/1000 [00:02<00:21, 42.79it/s]"
     ]
    },
    {
     "name": "stderr",
     "output_type": "stream",
     "text": [
      "\r",
      "  9%|█████████████▊                                                                                                                                            | 90/1000 [00:02<00:21, 42.76it/s]"
     ]
    },
    {
     "name": "stderr",
     "output_type": "stream",
     "text": [
      "\r",
      " 10%|██████████████▋                                                                                                                                           | 95/1000 [00:02<00:21, 42.78it/s]"
     ]
    },
    {
     "name": "stderr",
     "output_type": "stream",
     "text": [
      "\r",
      " 10%|███████████████▎                                                                                                                                         | 100/1000 [00:02<00:21, 42.80it/s]"
     ]
    },
    {
     "name": "stderr",
     "output_type": "stream",
     "text": [
      "\r",
      " 10%|████████████████                                                                                                                                         | 105/1000 [00:02<00:20, 42.82it/s]"
     ]
    },
    {
     "name": "stderr",
     "output_type": "stream",
     "text": [
      "\r",
      " 11%|████████████████▊                                                                                                                                        | 110/1000 [00:02<00:20, 42.81it/s]"
     ]
    },
    {
     "name": "stderr",
     "output_type": "stream",
     "text": [
      "\r",
      " 12%|█████████████████▌                                                                                                                                       | 115/1000 [00:03<00:20, 42.82it/s]"
     ]
    },
    {
     "name": "stderr",
     "output_type": "stream",
     "text": [
      "\r",
      " 12%|██████████████████▎                                                                                                                                      | 120/1000 [00:03<00:20, 43.05it/s]"
     ]
    },
    {
     "name": "stderr",
     "output_type": "stream",
     "text": [
      "\r",
      " 12%|███████████████████▏                                                                                                                                     | 125/1000 [00:03<00:20, 43.25it/s]"
     ]
    },
    {
     "name": "stderr",
     "output_type": "stream",
     "text": [
      "\r",
      " 13%|███████████████████▉                                                                                                                                     | 130/1000 [00:03<00:20, 43.39it/s]"
     ]
    },
    {
     "name": "stderr",
     "output_type": "stream",
     "text": [
      "\r",
      " 14%|████████████████████▋                                                                                                                                    | 135/1000 [00:03<00:19, 43.49it/s]"
     ]
    },
    {
     "name": "stderr",
     "output_type": "stream",
     "text": [
      "\r",
      " 14%|█████████████████████▍                                                                                                                                   | 140/1000 [00:03<00:19, 43.54it/s]"
     ]
    },
    {
     "name": "stderr",
     "output_type": "stream",
     "text": [
      "\r",
      " 14%|██████████████████████▏                                                                                                                                  | 145/1000 [00:03<00:19, 43.59it/s]"
     ]
    },
    {
     "name": "stderr",
     "output_type": "stream",
     "text": [
      "\r",
      " 15%|██████████████████████▉                                                                                                                                  | 150/1000 [00:03<00:19, 43.62it/s]"
     ]
    },
    {
     "name": "stderr",
     "output_type": "stream",
     "text": [
      "\r",
      " 16%|███████████████████████▋                                                                                                                                 | 155/1000 [00:03<00:19, 43.65it/s]"
     ]
    },
    {
     "name": "stderr",
     "output_type": "stream",
     "text": [
      "\r",
      " 16%|████████████████████████▍                                                                                                                                | 160/1000 [00:04<00:19, 43.64it/s]"
     ]
    },
    {
     "name": "stderr",
     "output_type": "stream",
     "text": [
      "\r",
      " 16%|█████████████████████████▏                                                                                                                               | 165/1000 [00:04<00:19, 43.66it/s]"
     ]
    },
    {
     "name": "stderr",
     "output_type": "stream",
     "text": [
      "\r",
      " 17%|██████████████████████████                                                                                                                               | 170/1000 [00:04<00:19, 43.68it/s]"
     ]
    },
    {
     "name": "stderr",
     "output_type": "stream",
     "text": [
      "\r",
      " 18%|██████████████████████████▊                                                                                                                              | 175/1000 [00:04<00:18, 43.68it/s]"
     ]
    },
    {
     "name": "stderr",
     "output_type": "stream",
     "text": [
      "\r",
      " 18%|███████████████████████████▌                                                                                                                             | 180/1000 [00:04<00:18, 43.68it/s]"
     ]
    },
    {
     "name": "stderr",
     "output_type": "stream",
     "text": [
      "\r",
      " 18%|████████████████████████████▎                                                                                                                            | 185/1000 [00:04<00:18, 43.70it/s]"
     ]
    },
    {
     "name": "stderr",
     "output_type": "stream",
     "text": [
      "\r",
      " 19%|█████████████████████████████                                                                                                                            | 190/1000 [00:04<00:18, 43.71it/s]"
     ]
    },
    {
     "name": "stderr",
     "output_type": "stream",
     "text": [
      "\r",
      " 20%|█████████████████████████████▊                                                                                                                           | 195/1000 [00:04<00:18, 43.72it/s]"
     ]
    },
    {
     "name": "stderr",
     "output_type": "stream",
     "text": [
      "\r",
      " 20%|██████████████████████████████▌                                                                                                                          | 200/1000 [00:05<00:18, 43.69it/s]"
     ]
    },
    {
     "name": "stderr",
     "output_type": "stream",
     "text": [
      "\r",
      " 20%|███████████████████████████████▎                                                                                                                         | 205/1000 [00:05<00:18, 43.69it/s]"
     ]
    },
    {
     "name": "stderr",
     "output_type": "stream",
     "text": [
      "\r",
      " 21%|████████████████████████████████▏                                                                                                                        | 210/1000 [00:05<00:18, 43.70it/s]"
     ]
    },
    {
     "name": "stderr",
     "output_type": "stream",
     "text": [
      "\r",
      " 22%|████████████████████████████████▉                                                                                                                        | 215/1000 [00:05<00:17, 43.70it/s]"
     ]
    },
    {
     "name": "stderr",
     "output_type": "stream",
     "text": [
      "\r",
      " 22%|█████████████████████████████████▋                                                                                                                       | 220/1000 [00:05<00:17, 43.71it/s]"
     ]
    },
    {
     "name": "stderr",
     "output_type": "stream",
     "text": [
      "\r",
      " 22%|██████████████████████████████████▍                                                                                                                      | 225/1000 [00:05<00:17, 43.69it/s]"
     ]
    },
    {
     "name": "stderr",
     "output_type": "stream",
     "text": [
      "\r",
      " 23%|███████████████████████████████████▏                                                                                                                     | 230/1000 [00:05<00:17, 43.68it/s]"
     ]
    },
    {
     "name": "stderr",
     "output_type": "stream",
     "text": [
      "\r",
      " 24%|███████████████████████████████████▉                                                                                                                     | 235/1000 [00:05<00:17, 43.66it/s]"
     ]
    },
    {
     "name": "stderr",
     "output_type": "stream",
     "text": [
      "\r",
      " 24%|████████████████████████████████████▋                                                                                                                    | 240/1000 [00:05<00:17, 43.66it/s]"
     ]
    },
    {
     "name": "stderr",
     "output_type": "stream",
     "text": [
      "\r",
      " 24%|█████████████████████████████████████▍                                                                                                                   | 245/1000 [00:06<00:17, 43.66it/s]"
     ]
    },
    {
     "name": "stderr",
     "output_type": "stream",
     "text": [
      "\r",
      " 25%|██████████████████████████████████████▎                                                                                                                  | 250/1000 [00:06<00:17, 43.68it/s]"
     ]
    },
    {
     "name": "stderr",
     "output_type": "stream",
     "text": [
      "\r",
      " 26%|███████████████████████████████████████                                                                                                                  | 255/1000 [00:06<00:17, 43.70it/s]"
     ]
    },
    {
     "name": "stderr",
     "output_type": "stream",
     "text": [
      "\r",
      " 26%|███████████████████████████████████████▊                                                                                                                 | 260/1000 [00:06<00:16, 43.71it/s]"
     ]
    },
    {
     "name": "stderr",
     "output_type": "stream",
     "text": [
      "\r",
      " 26%|████████████████████████████████████████▌                                                                                                                | 265/1000 [00:06<00:16, 43.72it/s]"
     ]
    },
    {
     "name": "stderr",
     "output_type": "stream",
     "text": [
      "\r",
      " 27%|█████████████████████████████████████████▎                                                                                                               | 270/1000 [00:06<00:16, 43.72it/s]"
     ]
    },
    {
     "name": "stderr",
     "output_type": "stream",
     "text": [
      "\r",
      " 28%|██████████████████████████████████████████                                                                                                               | 275/1000 [00:06<00:16, 43.71it/s]"
     ]
    },
    {
     "name": "stderr",
     "output_type": "stream",
     "text": [
      "\r",
      " 28%|██████████████████████████████████████████▊                                                                                                              | 280/1000 [00:06<00:16, 43.69it/s]"
     ]
    },
    {
     "name": "stderr",
     "output_type": "stream",
     "text": [
      "\r",
      " 28%|███████████████████████████████████████████▌                                                                                                             | 285/1000 [00:06<00:16, 43.69it/s]"
     ]
    },
    {
     "name": "stderr",
     "output_type": "stream",
     "text": [
      "\r",
      " 29%|████████████████████████████████████████████▎                                                                                                            | 290/1000 [00:07<00:16, 43.69it/s]"
     ]
    },
    {
     "name": "stderr",
     "output_type": "stream",
     "text": [
      "\r",
      " 30%|█████████████████████████████████████████████▏                                                                                                           | 295/1000 [00:07<00:16, 43.70it/s]"
     ]
    },
    {
     "name": "stderr",
     "output_type": "stream",
     "text": [
      "\r",
      " 30%|█████████████████████████████████████████████▉                                                                                                           | 300/1000 [00:07<00:16, 43.68it/s]"
     ]
    },
    {
     "name": "stderr",
     "output_type": "stream",
     "text": [
      "\r",
      " 30%|██████████████████████████████████████████████▋                                                                                                          | 305/1000 [00:07<00:15, 43.68it/s]"
     ]
    },
    {
     "name": "stderr",
     "output_type": "stream",
     "text": [
      "\r",
      " 31%|███████████████████████████████████████████████▍                                                                                                         | 310/1000 [00:07<00:15, 43.68it/s]"
     ]
    },
    {
     "name": "stderr",
     "output_type": "stream",
     "text": [
      "\r",
      " 32%|████████████████████████████████████████████████▏                                                                                                        | 315/1000 [00:07<00:15, 43.66it/s]"
     ]
    },
    {
     "name": "stderr",
     "output_type": "stream",
     "text": [
      "\r",
      " 32%|████████████████████████████████████████████████▉                                                                                                        | 320/1000 [00:07<00:15, 43.67it/s]"
     ]
    },
    {
     "name": "stderr",
     "output_type": "stream",
     "text": [
      "\r",
      " 32%|█████████████████████████████████████████████████▋                                                                                                       | 325/1000 [00:07<00:15, 43.58it/s]"
     ]
    },
    {
     "name": "stderr",
     "output_type": "stream",
     "text": [
      "\r",
      " 33%|██████████████████████████████████████████████████▍                                                                                                      | 330/1000 [00:08<00:15, 43.51it/s]"
     ]
    },
    {
     "name": "stderr",
     "output_type": "stream",
     "text": [
      "\r",
      " 34%|███████████████████████████████████████████████████▎                                                                                                     | 335/1000 [00:08<00:15, 43.48it/s]"
     ]
    },
    {
     "name": "stderr",
     "output_type": "stream",
     "text": [
      "\r",
      " 34%|████████████████████████████████████████████████████                                                                                                     | 340/1000 [00:08<00:15, 43.46it/s]"
     ]
    },
    {
     "name": "stderr",
     "output_type": "stream",
     "text": [
      "\r",
      " 34%|████████████████████████████████████████████████████▊                                                                                                    | 345/1000 [00:08<00:15, 43.46it/s]"
     ]
    },
    {
     "name": "stderr",
     "output_type": "stream",
     "text": [
      "\r",
      " 35%|█████████████████████████████████████████████████████▌                                                                                                   | 350/1000 [00:08<00:14, 43.46it/s]"
     ]
    },
    {
     "name": "stderr",
     "output_type": "stream",
     "text": [
      "\r",
      " 36%|██████████████████████████████████████████████████████▎                                                                                                  | 355/1000 [00:08<00:14, 43.47it/s]"
     ]
    },
    {
     "name": "stderr",
     "output_type": "stream",
     "text": [
      "\r",
      " 36%|███████████████████████████████████████████████████████                                                                                                  | 360/1000 [00:08<00:14, 43.44it/s]"
     ]
    },
    {
     "name": "stderr",
     "output_type": "stream",
     "text": [
      "\r",
      " 36%|███████████████████████████████████████████████████████▊                                                                                                 | 365/1000 [00:08<00:14, 43.44it/s]"
     ]
    },
    {
     "name": "stderr",
     "output_type": "stream",
     "text": [
      "\r",
      " 37%|████████████████████████████████████████████████████████▌                                                                                                | 370/1000 [00:08<00:14, 43.45it/s]"
     ]
    },
    {
     "name": "stderr",
     "output_type": "stream",
     "text": [
      "\r",
      " 38%|█████████████████████████████████████████████████████████▍                                                                                               | 375/1000 [00:09<00:14, 43.43it/s]"
     ]
    },
    {
     "name": "stderr",
     "output_type": "stream",
     "text": [
      "\r",
      " 38%|██████████████████████████████████████████████████████████▏                                                                                              | 380/1000 [00:09<00:14, 43.39it/s]"
     ]
    },
    {
     "name": "stderr",
     "output_type": "stream",
     "text": [
      "\r",
      " 38%|██████████████████████████████████████████████████████████▉                                                                                              | 385/1000 [00:09<00:14, 43.14it/s]"
     ]
    },
    {
     "name": "stderr",
     "output_type": "stream",
     "text": [
      "\r",
      " 39%|███████████████████████████████████████████████████████████▋                                                                                             | 390/1000 [00:09<00:14, 42.96it/s]"
     ]
    },
    {
     "name": "stderr",
     "output_type": "stream",
     "text": [
      "\r",
      " 40%|████████████████████████████████████████████████████████████▍                                                                                            | 395/1000 [00:09<00:14, 42.84it/s]"
     ]
    },
    {
     "name": "stderr",
     "output_type": "stream",
     "text": [
      "\r",
      " 40%|█████████████████████████████████████████████████████████████▏                                                                                           | 400/1000 [00:09<00:14, 42.75it/s]"
     ]
    },
    {
     "name": "stderr",
     "output_type": "stream",
     "text": [
      "\r",
      " 40%|█████████████████████████████████████████████████████████████▉                                                                                           | 405/1000 [00:09<00:13, 42.70it/s]"
     ]
    },
    {
     "name": "stderr",
     "output_type": "stream",
     "text": [
      "\r",
      " 41%|██████████████████████████████████████████████████████████████▋                                                                                          | 410/1000 [00:09<00:13, 42.65it/s]"
     ]
    },
    {
     "name": "stderr",
     "output_type": "stream",
     "text": [
      "\r",
      " 42%|███████████████████████████████████████████████████████████████▍                                                                                         | 415/1000 [00:09<00:13, 42.62it/s]"
     ]
    },
    {
     "name": "stderr",
     "output_type": "stream",
     "text": [
      "\r",
      " 42%|████████████████████████████████████████████████████████████████▎                                                                                        | 420/1000 [00:10<00:13, 42.59it/s]"
     ]
    },
    {
     "name": "stderr",
     "output_type": "stream",
     "text": [
      "\r",
      " 42%|█████████████████████████████████████████████████████████████████                                                                                        | 425/1000 [00:10<00:13, 42.59it/s]"
     ]
    },
    {
     "name": "stderr",
     "output_type": "stream",
     "text": [
      "\r",
      " 43%|█████████████████████████████████████████████████████████████████▊                                                                                       | 430/1000 [00:10<00:13, 42.57it/s]"
     ]
    },
    {
     "name": "stderr",
     "output_type": "stream",
     "text": [
      "\r",
      " 44%|██████████████████████████████████████████████████████████████████▌                                                                                      | 435/1000 [00:10<00:13, 42.58it/s]"
     ]
    },
    {
     "name": "stderr",
     "output_type": "stream",
     "text": [
      "\r",
      " 44%|███████████████████████████████████████████████████████████████████▎                                                                                     | 440/1000 [00:10<00:13, 42.58it/s]"
     ]
    },
    {
     "name": "stderr",
     "output_type": "stream",
     "text": [
      "\r",
      " 44%|████████████████████████████████████████████████████████████████████                                                                                     | 445/1000 [00:10<00:13, 42.57it/s]"
     ]
    },
    {
     "name": "stderr",
     "output_type": "stream",
     "text": [
      "\r",
      " 45%|████████████████████████████████████████████████████████████████████▊                                                                                    | 450/1000 [00:10<00:12, 42.57it/s]"
     ]
    },
    {
     "name": "stderr",
     "output_type": "stream",
     "text": [
      "\r",
      " 46%|█████████████████████████████████████████████████████████████████████▌                                                                                   | 455/1000 [00:10<00:12, 42.57it/s]"
     ]
    },
    {
     "name": "stderr",
     "output_type": "stream",
     "text": [
      "\r",
      " 46%|██████████████████████████████████████████████████████████████████████▍                                                                                  | 460/1000 [00:11<00:12, 42.55it/s]"
     ]
    },
    {
     "name": "stderr",
     "output_type": "stream",
     "text": [
      "\r",
      " 46%|███████████████████████████████████████████████████████████████████████▏                                                                                 | 465/1000 [00:11<00:12, 42.55it/s]"
     ]
    },
    {
     "name": "stderr",
     "output_type": "stream",
     "text": [
      "\r",
      " 47%|███████████████████████████████████████████████████████████████████████▉                                                                                 | 470/1000 [00:11<00:12, 42.64it/s]"
     ]
    },
    {
     "name": "stderr",
     "output_type": "stream",
     "text": [
      "\r",
      " 48%|████████████████████████████████████████████████████████████████████████▋                                                                                | 475/1000 [00:11<00:12, 42.84it/s]"
     ]
    },
    {
     "name": "stderr",
     "output_type": "stream",
     "text": [
      "\r",
      " 48%|█████████████████████████████████████████████████████████████████████████▍                                                                               | 480/1000 [00:11<00:12, 42.99it/s]"
     ]
    },
    {
     "name": "stderr",
     "output_type": "stream",
     "text": [
      "\r",
      " 48%|██████████████████████████████████████████████████████████████████████████▏                                                                              | 485/1000 [00:11<00:11, 43.07it/s]"
     ]
    },
    {
     "name": "stderr",
     "output_type": "stream",
     "text": [
      "\r",
      " 49%|██████████████████████████████████████████████████████████████████████████▉                                                                              | 490/1000 [00:11<00:11, 43.15it/s]"
     ]
    },
    {
     "name": "stderr",
     "output_type": "stream",
     "text": [
      "\r",
      " 50%|███████████████████████████████████████████████████████████████████████████▋                                                                             | 495/1000 [00:11<00:11, 43.22it/s]"
     ]
    },
    {
     "name": "stderr",
     "output_type": "stream",
     "text": [
      "\r",
      " 50%|████████████████████████████████████████████████████████████████████████████▌                                                                            | 500/1000 [00:11<00:11, 43.28it/s]"
     ]
    },
    {
     "name": "stderr",
     "output_type": "stream",
     "text": [
      "\r",
      " 50%|█████████████████████████████████████████████████████████████████████████████▎                                                                           | 505/1000 [00:12<00:11, 43.31it/s]"
     ]
    },
    {
     "name": "stderr",
     "output_type": "stream",
     "text": [
      "\r",
      " 51%|██████████████████████████████████████████████████████████████████████████████                                                                           | 510/1000 [00:12<00:11, 43.32it/s]"
     ]
    },
    {
     "name": "stderr",
     "output_type": "stream",
     "text": [
      "\r",
      " 52%|██████████████████████████████████████████████████████████████████████████████▊                                                                          | 515/1000 [00:12<00:11, 43.33it/s]"
     ]
    },
    {
     "name": "stderr",
     "output_type": "stream",
     "text": [
      "\r",
      " 52%|███████████████████████████████████████████████████████████████████████████████▌                                                                         | 520/1000 [00:12<00:11, 43.33it/s]"
     ]
    },
    {
     "name": "stderr",
     "output_type": "stream",
     "text": [
      "\r",
      " 52%|████████████████████████████████████████████████████████████████████████████████▎                                                                        | 525/1000 [00:12<00:10, 43.36it/s]"
     ]
    },
    {
     "name": "stderr",
     "output_type": "stream",
     "text": [
      "\r",
      " 53%|█████████████████████████████████████████████████████████████████████████████████                                                                        | 530/1000 [00:12<00:10, 43.35it/s]"
     ]
    },
    {
     "name": "stderr",
     "output_type": "stream",
     "text": [
      "\r",
      " 54%|█████████████████████████████████████████████████████████████████████████████████▊                                                                       | 535/1000 [00:12<00:10, 43.35it/s]"
     ]
    },
    {
     "name": "stderr",
     "output_type": "stream",
     "text": [
      "\r",
      " 54%|██████████████████████████████████████████████████████████████████████████████████▌                                                                      | 540/1000 [00:12<00:10, 43.37it/s]"
     ]
    },
    {
     "name": "stderr",
     "output_type": "stream",
     "text": [
      "\r",
      " 55%|███████████████████████████████████████████████████████████████████████████████████▍                                                                     | 545/1000 [00:13<00:10, 43.38it/s]"
     ]
    },
    {
     "name": "stderr",
     "output_type": "stream",
     "text": [
      "\r",
      " 55%|████████████████████████████████████████████████████████████████████████████████████▏                                                                    | 550/1000 [00:13<00:10, 43.36it/s]"
     ]
    },
    {
     "name": "stderr",
     "output_type": "stream",
     "text": [
      "\r",
      " 56%|████████████████████████████████████████████████████████████████████████████████████▉                                                                    | 555/1000 [00:13<00:10, 43.37it/s]"
     ]
    },
    {
     "name": "stderr",
     "output_type": "stream",
     "text": [
      "\r",
      " 56%|█████████████████████████████████████████████████████████████████████████████████████▋                                                                   | 560/1000 [00:13<00:10, 43.38it/s]"
     ]
    },
    {
     "name": "stderr",
     "output_type": "stream",
     "text": [
      "\r",
      " 56%|██████████████████████████████████████████████████████████████████████████████████████▍                                                                  | 565/1000 [00:13<00:10, 43.37it/s]"
     ]
    },
    {
     "name": "stderr",
     "output_type": "stream",
     "text": [
      "\r",
      " 57%|███████████████████████████████████████████████████████████████████████████████████████▏                                                                 | 570/1000 [00:13<00:09, 43.35it/s]"
     ]
    },
    {
     "name": "stderr",
     "output_type": "stream",
     "text": [
      "\r",
      " 57%|███████████████████████████████████████████████████████████████████████████████████████▉                                                                 | 575/1000 [00:13<00:09, 43.36it/s]"
     ]
    },
    {
     "name": "stderr",
     "output_type": "stream",
     "text": [
      "\r",
      " 58%|████████████████████████████████████████████████████████████████████████████████████████▋                                                                | 580/1000 [00:13<00:09, 43.34it/s]"
     ]
    },
    {
     "name": "stderr",
     "output_type": "stream",
     "text": [
      "\r",
      " 58%|█████████████████████████████████████████████████████████████████████████████████████████▌                                                               | 585/1000 [00:13<00:09, 43.34it/s]"
     ]
    },
    {
     "name": "stderr",
     "output_type": "stream",
     "text": [
      "\r",
      " 59%|██████████████████████████████████████████████████████████████████████████████████████████▎                                                              | 590/1000 [00:14<00:09, 43.33it/s]"
     ]
    },
    {
     "name": "stderr",
     "output_type": "stream",
     "text": [
      "\r",
      " 60%|███████████████████████████████████████████████████████████████████████████████████████████                                                              | 595/1000 [00:14<00:09, 43.31it/s]"
     ]
    },
    {
     "name": "stderr",
     "output_type": "stream",
     "text": [
      "\r",
      " 60%|███████████████████████████████████████████████████████████████████████████████████████████▊                                                             | 600/1000 [00:14<00:09, 43.33it/s]"
     ]
    },
    {
     "name": "stderr",
     "output_type": "stream",
     "text": [
      "\r",
      " 60%|████████████████████████████████████████████████████████████████████████████████████████████▌                                                            | 605/1000 [00:14<00:09, 43.34it/s]"
     ]
    },
    {
     "name": "stderr",
     "output_type": "stream",
     "text": [
      "\r",
      " 61%|█████████████████████████████████████████████████████████████████████████████████████████████▎                                                           | 610/1000 [00:14<00:08, 43.34it/s]"
     ]
    },
    {
     "name": "stderr",
     "output_type": "stream",
     "text": [
      "\r",
      " 62%|██████████████████████████████████████████████████████████████████████████████████████████████                                                           | 615/1000 [00:14<00:08, 43.33it/s]"
     ]
    },
    {
     "name": "stderr",
     "output_type": "stream",
     "text": [
      "\r",
      " 62%|██████████████████████████████████████████████████████████████████████████████████████████████▊                                                          | 620/1000 [00:14<00:08, 43.34it/s]"
     ]
    },
    {
     "name": "stderr",
     "output_type": "stream",
     "text": [
      "\r",
      " 62%|███████████████████████████████████████████████████████████████████████████████████████████████▋                                                         | 625/1000 [00:14<00:08, 43.34it/s]"
     ]
    },
    {
     "name": "stderr",
     "output_type": "stream",
     "text": [
      "\r",
      " 63%|████████████████████████████████████████████████████████████████████████████████████████████████▍                                                        | 630/1000 [00:14<00:08, 43.32it/s]"
     ]
    },
    {
     "name": "stderr",
     "output_type": "stream",
     "text": [
      "\r",
      " 64%|█████████████████████████████████████████████████████████████████████████████████████████████████▏                                                       | 635/1000 [00:15<00:08, 43.33it/s]"
     ]
    },
    {
     "name": "stderr",
     "output_type": "stream",
     "text": [
      "\r",
      " 64%|█████████████████████████████████████████████████████████████████████████████████████████████████▉                                                       | 640/1000 [00:15<00:08, 43.31it/s]"
     ]
    },
    {
     "name": "stderr",
     "output_type": "stream",
     "text": [
      "\r",
      " 64%|██████████████████████████████████████████████████████████████████████████████████████████████████▋                                                      | 645/1000 [00:15<00:08, 43.35it/s]"
     ]
    },
    {
     "name": "stderr",
     "output_type": "stream",
     "text": [
      "\r",
      " 65%|███████████████████████████████████████████████████████████████████████████████████████████████████▍                                                     | 650/1000 [00:15<00:08, 43.36it/s]"
     ]
    },
    {
     "name": "stderr",
     "output_type": "stream",
     "text": [
      "\r",
      " 66%|████████████████████████████████████████████████████████████████████████████████████████████████████▏                                                    | 655/1000 [00:15<00:07, 43.36it/s]"
     ]
    },
    {
     "name": "stderr",
     "output_type": "stream",
     "text": [
      "\r",
      " 66%|████████████████████████████████████████████████████████████████████████████████████████████████████▉                                                    | 660/1000 [00:15<00:07, 43.37it/s]"
     ]
    },
    {
     "name": "stderr",
     "output_type": "stream",
     "text": [
      "\r",
      " 66%|█████████████████████████████████████████████████████████████████████████████████████████████████████▋                                                   | 665/1000 [00:15<00:07, 43.39it/s]"
     ]
    },
    {
     "name": "stderr",
     "output_type": "stream",
     "text": [
      "\r",
      " 67%|██████████████████████████████████████████████████████████████████████████████████████████████████████▌                                                  | 670/1000 [00:15<00:07, 43.42it/s]"
     ]
    },
    {
     "name": "stderr",
     "output_type": "stream",
     "text": [
      "\r",
      " 68%|███████████████████████████████████████████████████████████████████████████████████████████████████████▎                                                 | 675/1000 [00:15<00:07, 43.43it/s]"
     ]
    },
    {
     "name": "stderr",
     "output_type": "stream",
     "text": [
      "\r",
      " 68%|████████████████████████████████████████████████████████████████████████████████████████████████████████                                                 | 680/1000 [00:16<00:07, 43.43it/s]"
     ]
    },
    {
     "name": "stderr",
     "output_type": "stream",
     "text": [
      "\r",
      " 68%|████████████████████████████████████████████████████████████████████████████████████████████████████████▊                                                | 685/1000 [00:16<00:07, 43.41it/s]"
     ]
    },
    {
     "name": "stderr",
     "output_type": "stream",
     "text": [
      "\r",
      " 69%|█████████████████████████████████████████████████████████████████████████████████████████████████████████▌                                               | 690/1000 [00:16<00:07, 43.43it/s]"
     ]
    },
    {
     "name": "stderr",
     "output_type": "stream",
     "text": [
      "\r",
      " 70%|██████████████████████████████████████████████████████████████████████████████████████████████████████████▎                                              | 695/1000 [00:16<00:07, 43.43it/s]"
     ]
    },
    {
     "name": "stderr",
     "output_type": "stream",
     "text": [
      "\r",
      " 70%|███████████████████████████████████████████████████████████████████████████████████████████████████████████                                              | 700/1000 [00:16<00:06, 43.43it/s]"
     ]
    },
    {
     "name": "stderr",
     "output_type": "stream",
     "text": [
      "\r",
      " 70%|███████████████████████████████████████████████████████████████████████████████████████████████████████████▊                                             | 705/1000 [00:16<00:06, 43.45it/s]"
     ]
    },
    {
     "name": "stderr",
     "output_type": "stream",
     "text": [
      "\r",
      " 71%|████████████████████████████████████████████████████████████████████████████████████████████████████████████▋                                            | 710/1000 [00:16<00:06, 43.43it/s]"
     ]
    },
    {
     "name": "stderr",
     "output_type": "stream",
     "text": [
      "\r",
      " 72%|█████████████████████████████████████████████████████████████████████████████████████████████████████████████▍                                           | 715/1000 [00:16<00:06, 43.41it/s]"
     ]
    },
    {
     "name": "stderr",
     "output_type": "stream",
     "text": [
      "\r",
      " 72%|██████████████████████████████████████████████████████████████████████████████████████████████████████████████▏                                          | 720/1000 [00:17<00:06, 43.40it/s]"
     ]
    },
    {
     "name": "stderr",
     "output_type": "stream",
     "text": [
      "\r",
      " 72%|██████████████████████████████████████████████████████████████████████████████████████████████████████████████▉                                          | 725/1000 [00:17<00:06, 43.42it/s]"
     ]
    },
    {
     "name": "stderr",
     "output_type": "stream",
     "text": [
      "\r",
      " 73%|███████████████████████████████████████████████████████████████████████████████████████████████████████████████▋                                         | 730/1000 [00:17<00:06, 43.42it/s]"
     ]
    },
    {
     "name": "stderr",
     "output_type": "stream",
     "text": [
      "\r",
      " 74%|████████████████████████████████████████████████████████████████████████████████████████████████████████████████▍                                        | 735/1000 [00:17<00:06, 43.43it/s]"
     ]
    },
    {
     "name": "stderr",
     "output_type": "stream",
     "text": [
      "\r",
      " 74%|█████████████████████████████████████████████████████████████████████████████████████████████████████████████████▏                                       | 740/1000 [00:17<00:05, 43.45it/s]"
     ]
    },
    {
     "name": "stderr",
     "output_type": "stream",
     "text": [
      "\r",
      " 74%|█████████████████████████████████████████████████████████████████████████████████████████████████████████████████▉                                       | 745/1000 [00:17<00:05, 43.45it/s]"
     ]
    },
    {
     "name": "stderr",
     "output_type": "stream",
     "text": [
      "\r",
      " 75%|██████████████████████████████████████████████████████████████████████████████████████████████████████████████████▊                                      | 750/1000 [00:17<00:05, 43.46it/s]"
     ]
    },
    {
     "name": "stderr",
     "output_type": "stream",
     "text": [
      "\r",
      " 76%|███████████████████████████████████████████████████████████████████████████████████████████████████████████████████▌                                     | 755/1000 [00:17<00:05, 43.46it/s]"
     ]
    },
    {
     "name": "stderr",
     "output_type": "stream",
     "text": [
      "\r",
      " 76%|████████████████████████████████████████████████████████████████████████████████████████████████████████████████████▎                                    | 760/1000 [00:17<00:05, 43.46it/s]"
     ]
    },
    {
     "name": "stderr",
     "output_type": "stream",
     "text": [
      "\r",
      " 76%|█████████████████████████████████████████████████████████████████████████████████████████████████████████████████████                                    | 765/1000 [00:18<00:05, 43.43it/s]"
     ]
    },
    {
     "name": "stderr",
     "output_type": "stream",
     "text": [
      "\r",
      " 77%|█████████████████████████████████████████████████████████████████████████████████████████████████████████████████████▊                                   | 770/1000 [00:18<00:05, 43.43it/s]"
     ]
    },
    {
     "name": "stderr",
     "output_type": "stream",
     "text": [
      "\r",
      " 78%|██████████████████████████████████████████████████████████████████████████████████████████████████████████████████████▌                                  | 775/1000 [00:18<00:05, 43.43it/s]"
     ]
    },
    {
     "name": "stderr",
     "output_type": "stream",
     "text": [
      "\r",
      " 78%|███████████████████████████████████████████████████████████████████████████████████████████████████████████████████████▎                                 | 780/1000 [00:18<00:05, 43.43it/s]"
     ]
    },
    {
     "name": "stderr",
     "output_type": "stream",
     "text": [
      "\r",
      " 78%|████████████████████████████████████████████████████████████████████████████████████████████████████████████████████████                                 | 785/1000 [00:18<00:04, 43.41it/s]"
     ]
    },
    {
     "name": "stderr",
     "output_type": "stream",
     "text": [
      "\r",
      " 79%|████████████████████████████████████████████████████████████████████████████████████████████████████████████████████████▊                                | 790/1000 [00:18<00:04, 43.42it/s]"
     ]
    },
    {
     "name": "stderr",
     "output_type": "stream",
     "text": [
      "\r",
      " 80%|█████████████████████████████████████████████████████████████████████████████████████████████████████████████████████████▋                               | 795/1000 [00:18<00:04, 43.40it/s]"
     ]
    },
    {
     "name": "stderr",
     "output_type": "stream",
     "text": [
      "\r",
      " 80%|██████████████████████████████████████████████████████████████████████████████████████████████████████████████████████████▍                              | 800/1000 [00:18<00:04, 43.39it/s]"
     ]
    },
    {
     "name": "stderr",
     "output_type": "stream",
     "text": [
      "\r",
      " 80%|███████████████████████████████████████████████████████████████████████████████████████████████████████████████████████████▏                             | 805/1000 [00:18<00:04, 43.38it/s]"
     ]
    },
    {
     "name": "stderr",
     "output_type": "stream",
     "text": [
      "\r",
      " 81%|███████████████████████████████████████████████████████████████████████████████████████████████████████████████████████████▉                             | 810/1000 [00:19<00:04, 43.39it/s]"
     ]
    },
    {
     "name": "stderr",
     "output_type": "stream",
     "text": [
      "\r",
      " 82%|████████████████████████████████████████████████████████████████████████████████████████████████████████████████████████████▋                            | 815/1000 [00:19<00:04, 43.41it/s]"
     ]
    },
    {
     "name": "stderr",
     "output_type": "stream",
     "text": [
      "\r",
      " 82%|█████████████████████████████████████████████████████████████████████████████████████████████████████████████████████████████▍                           | 820/1000 [00:19<00:04, 43.42it/s]"
     ]
    },
    {
     "name": "stderr",
     "output_type": "stream",
     "text": [
      "\r",
      " 82%|██████████████████████████████████████████████████████████████████████████████████████████████████████████████████████████████▏                          | 825/1000 [00:19<00:04, 43.43it/s]"
     ]
    },
    {
     "name": "stderr",
     "output_type": "stream",
     "text": [
      "\r",
      " 83%|██████████████████████████████████████████████████████████████████████████████████████████████████████████████████████████████▉                          | 830/1000 [00:19<00:03, 43.42it/s]"
     ]
    },
    {
     "name": "stderr",
     "output_type": "stream",
     "text": [
      "\r",
      " 84%|███████████████████████████████████████████████████████████████████████████████████████████████████████████████████████████████▊                         | 835/1000 [00:19<00:03, 43.43it/s]"
     ]
    },
    {
     "name": "stderr",
     "output_type": "stream",
     "text": [
      "\r",
      " 84%|████████████████████████████████████████████████████████████████████████████████████████████████████████████████████████████████▌                        | 840/1000 [00:19<00:03, 43.45it/s]"
     ]
    },
    {
     "name": "stderr",
     "output_type": "stream",
     "text": [
      "\r",
      " 84%|█████████████████████████████████████████████████████████████████████████████████████████████████████████████████████████████████▎                       | 845/1000 [00:19<00:03, 43.44it/s]"
     ]
    },
    {
     "name": "stderr",
     "output_type": "stream",
     "text": [
      "\r",
      " 85%|██████████████████████████████████████████████████████████████████████████████████████████████████████████████████████████████████                       | 850/1000 [00:20<00:03, 43.41it/s]"
     ]
    },
    {
     "name": "stderr",
     "output_type": "stream",
     "text": [
      "\r",
      " 86%|██████████████████████████████████████████████████████████████████████████████████████████████████████████████████████████████████▊                      | 855/1000 [00:20<00:03, 43.43it/s]"
     ]
    },
    {
     "name": "stderr",
     "output_type": "stream",
     "text": [
      "\r",
      " 86%|███████████████████████████████████████████████████████████████████████████████████████████████████████████████████████████████████▌                     | 860/1000 [00:20<00:03, 43.44it/s]"
     ]
    },
    {
     "name": "stderr",
     "output_type": "stream",
     "text": [
      "\r",
      " 86%|████████████████████████████████████████████████████████████████████████████████████████████████████████████████████████████████████▎                    | 865/1000 [00:20<00:03, 43.43it/s]"
     ]
    },
    {
     "name": "stderr",
     "output_type": "stream",
     "text": [
      "\r",
      " 87%|█████████████████████████████████████████████████████████████████████████████████████████████████████████████████████████████████████                    | 870/1000 [00:20<00:02, 43.43it/s]"
     ]
    },
    {
     "name": "stderr",
     "output_type": "stream",
     "text": [
      "\r",
      " 88%|█████████████████████████████████████████████████████████████████████████████████████████████████████████████████████████████████████▉                   | 875/1000 [00:20<00:02, 43.42it/s]"
     ]
    },
    {
     "name": "stderr",
     "output_type": "stream",
     "text": [
      "\r",
      " 88%|██████████████████████████████████████████████████████████████████████████████████████████████████████████████████████████████████████▋                  | 880/1000 [00:20<00:02, 43.44it/s]"
     ]
    },
    {
     "name": "stderr",
     "output_type": "stream",
     "text": [
      "\r",
      " 88%|███████████████████████████████████████████████████████████████████████████████████████████████████████████████████████████████████████▍                 | 885/1000 [00:20<00:02, 43.42it/s]"
     ]
    },
    {
     "name": "stderr",
     "output_type": "stream",
     "text": [
      "\r",
      " 89%|████████████████████████████████████████████████████████████████████████████████████████████████████████████████████████████████████████▏                | 890/1000 [00:20<00:02, 43.41it/s]"
     ]
    },
    {
     "name": "stderr",
     "output_type": "stream",
     "text": [
      "\r",
      " 90%|████████████████████████████████████████████████████████████████████████████████████████████████████████████████████████████████████████▉                | 895/1000 [00:21<00:02, 43.41it/s]"
     ]
    },
    {
     "name": "stderr",
     "output_type": "stream",
     "text": [
      "\r",
      " 90%|█████████████████████████████████████████████████████████████████████████████████████████████████████████████████████████████████████████▋               | 900/1000 [00:21<00:02, 43.41it/s]"
     ]
    },
    {
     "name": "stderr",
     "output_type": "stream",
     "text": [
      "\r",
      " 90%|██████████████████████████████████████████████████████████████████████████████████████████████████████████████████████████████████████████▍              | 905/1000 [00:21<00:02, 43.42it/s]"
     ]
    },
    {
     "name": "stderr",
     "output_type": "stream",
     "text": [
      "\r",
      " 91%|███████████████████████████████████████████████████████████████████████████████████████████████████████████████████████████████████████████▏             | 910/1000 [00:21<00:02, 43.41it/s]"
     ]
    },
    {
     "name": "stderr",
     "output_type": "stream",
     "text": [
      "\r",
      " 92%|███████████████████████████████████████████████████████████████████████████████████████████████████████████████████████████████████████████▉             | 915/1000 [00:21<00:01, 43.41it/s]"
     ]
    },
    {
     "name": "stderr",
     "output_type": "stream",
     "text": [
      "\r",
      " 92%|████████████████████████████████████████████████████████████████████████████████████████████████████████████████████████████████████████████▊            | 920/1000 [00:21<00:01, 43.43it/s]"
     ]
    },
    {
     "name": "stderr",
     "output_type": "stream",
     "text": [
      "\r",
      " 92%|█████████████████████████████████████████████████████████████████████████████████████████████████████████████████████████████████████████████▌           | 925/1000 [00:21<00:01, 43.43it/s]"
     ]
    },
    {
     "name": "stderr",
     "output_type": "stream",
     "text": [
      "\r",
      " 93%|██████████████████████████████████████████████████████████████████████████████████████████████████████████████████████████████████████████████▎          | 930/1000 [00:21<00:01, 43.44it/s]"
     ]
    },
    {
     "name": "stderr",
     "output_type": "stream",
     "text": [
      "\r",
      " 94%|███████████████████████████████████████████████████████████████████████████████████████████████████████████████████████████████████████████████          | 935/1000 [00:21<00:01, 43.44it/s]"
     ]
    },
    {
     "name": "stderr",
     "output_type": "stream",
     "text": [
      "\r",
      " 94%|███████████████████████████████████████████████████████████████████████████████████████████████████████████████████████████████████████████████▊         | 940/1000 [00:22<00:01, 43.43it/s]"
     ]
    },
    {
     "name": "stderr",
     "output_type": "stream",
     "text": [
      "\r",
      " 94%|████████████████████████████████████████████████████████████████████████████████████████████████████████████████████████████████████████████████▌        | 945/1000 [00:22<00:01, 43.42it/s]"
     ]
    },
    {
     "name": "stderr",
     "output_type": "stream",
     "text": [
      "\r",
      " 95%|█████████████████████████████████████████████████████████████████████████████████████████████████████████████████████████████████████████████████▎       | 950/1000 [00:22<00:01, 43.42it/s]"
     ]
    },
    {
     "name": "stderr",
     "output_type": "stream",
     "text": [
      "\r",
      " 96%|██████████████████████████████████████████████████████████████████████████████████████████████████████████████████████████████████████████████████       | 955/1000 [00:22<00:01, 43.42it/s]"
     ]
    },
    {
     "name": "stderr",
     "output_type": "stream",
     "text": [
      "\r",
      " 96%|██████████████████████████████████████████████████████████████████████████████████████████████████████████████████████████████████████████████████▉      | 960/1000 [00:22<00:00, 43.40it/s]"
     ]
    },
    {
     "name": "stderr",
     "output_type": "stream",
     "text": [
      "\r",
      " 96%|███████████████████████████████████████████████████████████████████████████████████████████████████████████████████████████████████████████████████▋     | 965/1000 [00:22<00:00, 43.40it/s]"
     ]
    },
    {
     "name": "stderr",
     "output_type": "stream",
     "text": [
      "\r",
      " 97%|████████████████████████████████████████████████████████████████████████████████████████████████████████████████████████████████████████████████████▍    | 970/1000 [00:22<00:00, 43.35it/s]"
     ]
    },
    {
     "name": "stderr",
     "output_type": "stream",
     "text": [
      "\r",
      " 98%|█████████████████████████████████████████████████████████████████████████████████████████████████████████████████████████████████████████████████████▏   | 975/1000 [00:22<00:00, 43.32it/s]"
     ]
    },
    {
     "name": "stderr",
     "output_type": "stream",
     "text": [
      "\r",
      " 98%|█████████████████████████████████████████████████████████████████████████████████████████████████████████████████████████████████████████████████████▉   | 980/1000 [00:23<00:00, 43.33it/s]"
     ]
    },
    {
     "name": "stderr",
     "output_type": "stream",
     "text": [
      "\r",
      " 98%|██████████████████████████████████████████████████████████████████████████████████████████████████████████████████████████████████████████████████████▋  | 985/1000 [00:23<00:00, 43.33it/s]"
     ]
    },
    {
     "name": "stderr",
     "output_type": "stream",
     "text": [
      "\r",
      " 99%|███████████████████████████████████████████████████████████████████████████████████████████████████████████████████████████████████████████████████████▍ | 990/1000 [00:23<00:00, 43.34it/s]"
     ]
    },
    {
     "name": "stderr",
     "output_type": "stream",
     "text": [
      "\r",
      "100%|████████████████████████████████████████████████████████████████████████████████████████████████████████████████████████████████████████████████████████▏| 995/1000 [00:23<00:00, 43.29it/s]"
     ]
    },
    {
     "name": "stderr",
     "output_type": "stream",
     "text": [
      "\r",
      "100%|████████████████████████████████████████████████████████████████████████████████████████████████████████████████████████████████████████████████████████| 1000/1000 [00:23<00:00, 43.31it/s]"
     ]
    },
    {
     "name": "stderr",
     "output_type": "stream",
     "text": [
      "\r",
      "100%|████████████████████████████████████████████████████████████████████████████████████████████████████████████████████████████████████████████████████████| 1000/1000 [00:23<00:00, 42.58it/s]"
     ]
    },
    {
     "name": "stderr",
     "output_type": "stream",
     "text": [
      "\n"
     ]
    }
   ],
   "source": [
    "# Variable deployment times\n",
    "deployment_MouseVisual = {\n",
    "    'labels': ['Lwm', 'L6', 'L5', 'L4', 'L2/3'],\n",
    "    'delay': 50*np.arange(5),\n",
    "    'rates': [1, .015, .015, .015, .015],\n",
    "    'origins': [None, 'Lwm', 'L6', 'L5', 'L4'],\n",
    "}\n",
    "deployment = None  # deployment_MouseVisual\n",
    "\n",
    "# Initialize\n",
    "env.reset(); memories['discovery'] = defaultdict(lambda: [])\n",
    "if deployment is not None:\n",
    "    present = torch.zeros(num_nodes, dtype=bool, device=DEVICE)\n",
    "    present, state = get_present(0, present, types[0], deployment=deployment, state=env.get_state())\n",
    "    env.set_state(state)\n",
    "else:\n",
    "    present = torch.ones(num_nodes, dtype=bool)\n",
    "memories['discovery']['present'].append(present)\n",
    "memories['discovery']['states'].append(env.get_state())\n",
    "memories['discovery']['rewards'].append(torch.zeros(num_nodes, device=DEVICE))\n",
    "\n",
    "# Simulate\n",
    "for timestep in tqdm(range(config['train']['max_ep_timesteps'])):\n",
    "    # Step\n",
    "    state = env.get_state(include_modalities=True)\n",
    "    actions = torch.zeros((num_nodes, env.dim), device=DEVICE)\n",
    "    actions[present] = policy.act_macro(\n",
    "        state[present],\n",
    "        keys=torch.arange(num_nodes, device=DEVICE)[present],\n",
    "        max_batch=config['train']['max_batch'],\n",
    "        max_nodes=config['train']['max_nodes'],\n",
    "    )\n",
    "    rewards = torch.zeros(num_nodes)\n",
    "    # TODO: Currently, rewards factor in non-present nodes\n",
    "    rewards, _, _ = env.step(actions, return_itemized_rewards=True)\n",
    "    new_state = env.get_state()\n",
    "    new_state[~present] = state[~present, :2*env.dim]  # Don't move un-spawned nodes\n",
    "    env.set_state(new_state)\n",
    "\n",
    "    # Record\n",
    "    if deployment is not None:\n",
    "        present, state = get_present(timestep+1, present, types[0], deployment=deployment, state=env.get_state())\n",
    "        env.set_state(state)\n",
    "    memories['discovery']['present'].append(present)\n",
    "    memories['discovery']['states'].append(env.get_state())\n",
    "    memories['discovery']['rewards'].append(rewards)\n",
    "\n",
    "# Stack\n",
    "memories['discovery']['present'] = torch.stack(memories['discovery']['present'])\n",
    "memories['discovery']['states'] = torch.stack(memories['discovery']['states'])\n",
    "memories['discovery']['rewards'] = torch.stack(memories['discovery']['rewards'])\n",
    "memories['discovery'] = dict(memories['discovery'])"
   ]
  },
  {
   "cell_type": "markdown",
   "metadata": {},
   "source": [
    "### Plot Memories"
   ]
  },
  {
   "cell_type": "markdown",
   "metadata": {},
   "source": [
    "##### Integration"
   ]
  },
  {
   "cell_type": "code",
   "execution_count": 6,
   "metadata": {
    "execution": {
     "iopub.execute_input": "2024-11-08T20:43:39.593054Z",
     "iopub.status.busy": "2024-11-08T20:43:39.592842Z",
     "iopub.status.idle": "2024-11-08T21:06:16.144590Z",
     "shell.execute_reply": "2024-11-08T21:06:16.143921Z"
    }
   },
   "outputs": [
    {
     "name": "stdout",
     "output_type": "stream",
     "text": [
      "0 / 1000\r"
     ]
    },
    {
     "name": "stdout",
     "output_type": "stream",
     "text": [
      "0 / 1000\r"
     ]
    },
    {
     "name": "stdout",
     "output_type": "stream",
     "text": [
      "1 / 1000\r"
     ]
    },
    {
     "name": "stdout",
     "output_type": "stream",
     "text": [
      "2 / 1000\r"
     ]
    },
    {
     "name": "stdout",
     "output_type": "stream",
     "text": [
      "3 / 1000\r"
     ]
    },
    {
     "name": "stdout",
     "output_type": "stream",
     "text": [
      "4 / 1000\r"
     ]
    },
    {
     "name": "stdout",
     "output_type": "stream",
     "text": [
      "5 / 1000\r"
     ]
    },
    {
     "name": "stdout",
     "output_type": "stream",
     "text": [
      "6 / 1000\r"
     ]
    },
    {
     "name": "stdout",
     "output_type": "stream",
     "text": [
      "7 / 1000\r"
     ]
    },
    {
     "name": "stdout",
     "output_type": "stream",
     "text": [
      "8 / 1000\r"
     ]
    },
    {
     "name": "stdout",
     "output_type": "stream",
     "text": [
      "9 / 1000\r"
     ]
    },
    {
     "name": "stdout",
     "output_type": "stream",
     "text": [
      "10 / 1000\r"
     ]
    },
    {
     "name": "stdout",
     "output_type": "stream",
     "text": [
      "11 / 1000\r"
     ]
    },
    {
     "name": "stdout",
     "output_type": "stream",
     "text": [
      "12 / 1000\r"
     ]
    },
    {
     "name": "stdout",
     "output_type": "stream",
     "text": [
      "13 / 1000\r"
     ]
    },
    {
     "name": "stdout",
     "output_type": "stream",
     "text": [
      "14 / 1000\r"
     ]
    },
    {
     "name": "stdout",
     "output_type": "stream",
     "text": [
      "15 / 1000\r"
     ]
    },
    {
     "name": "stdout",
     "output_type": "stream",
     "text": [
      "16 / 1000\r"
     ]
    },
    {
     "name": "stdout",
     "output_type": "stream",
     "text": [
      "17 / 1000\r"
     ]
    },
    {
     "name": "stdout",
     "output_type": "stream",
     "text": [
      "18 / 1000\r"
     ]
    },
    {
     "name": "stdout",
     "output_type": "stream",
     "text": [
      "19 / 1000\r"
     ]
    },
    {
     "name": "stdout",
     "output_type": "stream",
     "text": [
      "20 / 1000\r"
     ]
    },
    {
     "name": "stdout",
     "output_type": "stream",
     "text": [
      "21 / 1000\r"
     ]
    },
    {
     "name": "stdout",
     "output_type": "stream",
     "text": [
      "22 / 1000\r"
     ]
    },
    {
     "name": "stdout",
     "output_type": "stream",
     "text": [
      "23 / 1000\r"
     ]
    },
    {
     "name": "stdout",
     "output_type": "stream",
     "text": [
      "24 / 1000\r"
     ]
    },
    {
     "name": "stdout",
     "output_type": "stream",
     "text": [
      "25 / 1000\r"
     ]
    },
    {
     "name": "stdout",
     "output_type": "stream",
     "text": [
      "26 / 1000\r"
     ]
    },
    {
     "name": "stdout",
     "output_type": "stream",
     "text": [
      "27 / 1000\r"
     ]
    },
    {
     "name": "stdout",
     "output_type": "stream",
     "text": [
      "28 / 1000\r"
     ]
    },
    {
     "name": "stdout",
     "output_type": "stream",
     "text": [
      "29 / 1000\r"
     ]
    },
    {
     "name": "stdout",
     "output_type": "stream",
     "text": [
      "30 / 1000\r"
     ]
    },
    {
     "name": "stdout",
     "output_type": "stream",
     "text": [
      "31 / 1000\r"
     ]
    },
    {
     "name": "stdout",
     "output_type": "stream",
     "text": [
      "32 / 1000\r"
     ]
    },
    {
     "name": "stdout",
     "output_type": "stream",
     "text": [
      "33 / 1000\r"
     ]
    },
    {
     "name": "stdout",
     "output_type": "stream",
     "text": [
      "34 / 1000\r"
     ]
    },
    {
     "name": "stdout",
     "output_type": "stream",
     "text": [
      "35 / 1000\r"
     ]
    },
    {
     "name": "stdout",
     "output_type": "stream",
     "text": [
      "36 / 1000\r"
     ]
    },
    {
     "name": "stdout",
     "output_type": "stream",
     "text": [
      "37 / 1000\r"
     ]
    },
    {
     "name": "stdout",
     "output_type": "stream",
     "text": [
      "38 / 1000\r"
     ]
    },
    {
     "name": "stdout",
     "output_type": "stream",
     "text": [
      "39 / 1000\r"
     ]
    },
    {
     "name": "stdout",
     "output_type": "stream",
     "text": [
      "40 / 1000\r"
     ]
    },
    {
     "name": "stdout",
     "output_type": "stream",
     "text": [
      "41 / 1000\r"
     ]
    },
    {
     "name": "stdout",
     "output_type": "stream",
     "text": [
      "42 / 1000\r"
     ]
    },
    {
     "name": "stdout",
     "output_type": "stream",
     "text": [
      "43 / 1000\r"
     ]
    },
    {
     "name": "stdout",
     "output_type": "stream",
     "text": [
      "44 / 1000\r"
     ]
    },
    {
     "name": "stdout",
     "output_type": "stream",
     "text": [
      "45 / 1000\r"
     ]
    },
    {
     "name": "stdout",
     "output_type": "stream",
     "text": [
      "46 / 1000\r"
     ]
    },
    {
     "name": "stdout",
     "output_type": "stream",
     "text": [
      "47 / 1000\r"
     ]
    },
    {
     "name": "stdout",
     "output_type": "stream",
     "text": [
      "48 / 1000\r"
     ]
    },
    {
     "name": "stdout",
     "output_type": "stream",
     "text": [
      "49 / 1000\r"
     ]
    },
    {
     "name": "stdout",
     "output_type": "stream",
     "text": [
      "50 / 1000\r"
     ]
    },
    {
     "name": "stdout",
     "output_type": "stream",
     "text": [
      "51 / 1000\r"
     ]
    },
    {
     "name": "stdout",
     "output_type": "stream",
     "text": [
      "52 / 1000\r"
     ]
    },
    {
     "name": "stdout",
     "output_type": "stream",
     "text": [
      "53 / 1000\r"
     ]
    },
    {
     "name": "stdout",
     "output_type": "stream",
     "text": [
      "54 / 1000\r"
     ]
    },
    {
     "name": "stdout",
     "output_type": "stream",
     "text": [
      "55 / 1000\r"
     ]
    },
    {
     "name": "stdout",
     "output_type": "stream",
     "text": [
      "56 / 1000\r"
     ]
    },
    {
     "name": "stdout",
     "output_type": "stream",
     "text": [
      "57 / 1000\r"
     ]
    },
    {
     "name": "stdout",
     "output_type": "stream",
     "text": [
      "58 / 1000\r"
     ]
    },
    {
     "name": "stdout",
     "output_type": "stream",
     "text": [
      "59 / 1000\r"
     ]
    },
    {
     "name": "stdout",
     "output_type": "stream",
     "text": [
      "60 / 1000\r"
     ]
    },
    {
     "name": "stdout",
     "output_type": "stream",
     "text": [
      "61 / 1000\r"
     ]
    },
    {
     "name": "stdout",
     "output_type": "stream",
     "text": [
      "62 / 1000\r"
     ]
    },
    {
     "name": "stdout",
     "output_type": "stream",
     "text": [
      "63 / 1000\r"
     ]
    },
    {
     "name": "stdout",
     "output_type": "stream",
     "text": [
      "64 / 1000\r"
     ]
    },
    {
     "name": "stdout",
     "output_type": "stream",
     "text": [
      "65 / 1000\r"
     ]
    },
    {
     "name": "stdout",
     "output_type": "stream",
     "text": [
      "66 / 1000\r"
     ]
    },
    {
     "name": "stdout",
     "output_type": "stream",
     "text": [
      "67 / 1000\r"
     ]
    },
    {
     "name": "stdout",
     "output_type": "stream",
     "text": [
      "68 / 1000\r"
     ]
    },
    {
     "name": "stdout",
     "output_type": "stream",
     "text": [
      "69 / 1000\r"
     ]
    },
    {
     "name": "stdout",
     "output_type": "stream",
     "text": [
      "70 / 1000\r"
     ]
    },
    {
     "name": "stdout",
     "output_type": "stream",
     "text": [
      "71 / 1000\r"
     ]
    },
    {
     "name": "stdout",
     "output_type": "stream",
     "text": [
      "72 / 1000\r"
     ]
    },
    {
     "name": "stdout",
     "output_type": "stream",
     "text": [
      "73 / 1000\r"
     ]
    },
    {
     "name": "stdout",
     "output_type": "stream",
     "text": [
      "74 / 1000\r"
     ]
    },
    {
     "name": "stdout",
     "output_type": "stream",
     "text": [
      "75 / 1000\r"
     ]
    },
    {
     "name": "stdout",
     "output_type": "stream",
     "text": [
      "76 / 1000\r"
     ]
    },
    {
     "name": "stdout",
     "output_type": "stream",
     "text": [
      "77 / 1000\r"
     ]
    },
    {
     "name": "stdout",
     "output_type": "stream",
     "text": [
      "78 / 1000\r"
     ]
    },
    {
     "name": "stdout",
     "output_type": "stream",
     "text": [
      "79 / 1000\r"
     ]
    },
    {
     "name": "stdout",
     "output_type": "stream",
     "text": [
      "80 / 1000\r"
     ]
    },
    {
     "name": "stdout",
     "output_type": "stream",
     "text": [
      "81 / 1000\r"
     ]
    },
    {
     "name": "stdout",
     "output_type": "stream",
     "text": [
      "82 / 1000\r"
     ]
    },
    {
     "name": "stdout",
     "output_type": "stream",
     "text": [
      "83 / 1000\r"
     ]
    },
    {
     "name": "stdout",
     "output_type": "stream",
     "text": [
      "84 / 1000\r"
     ]
    },
    {
     "name": "stdout",
     "output_type": "stream",
     "text": [
      "85 / 1000\r"
     ]
    },
    {
     "name": "stdout",
     "output_type": "stream",
     "text": [
      "86 / 1000\r"
     ]
    },
    {
     "name": "stdout",
     "output_type": "stream",
     "text": [
      "87 / 1000\r"
     ]
    },
    {
     "name": "stdout",
     "output_type": "stream",
     "text": [
      "88 / 1000\r"
     ]
    },
    {
     "name": "stdout",
     "output_type": "stream",
     "text": [
      "89 / 1000\r"
     ]
    },
    {
     "name": "stdout",
     "output_type": "stream",
     "text": [
      "90 / 1000\r"
     ]
    },
    {
     "name": "stdout",
     "output_type": "stream",
     "text": [
      "91 / 1000\r"
     ]
    },
    {
     "name": "stdout",
     "output_type": "stream",
     "text": [
      "92 / 1000\r"
     ]
    },
    {
     "name": "stdout",
     "output_type": "stream",
     "text": [
      "93 / 1000\r"
     ]
    },
    {
     "name": "stdout",
     "output_type": "stream",
     "text": [
      "94 / 1000\r"
     ]
    },
    {
     "name": "stdout",
     "output_type": "stream",
     "text": [
      "95 / 1000\r"
     ]
    },
    {
     "name": "stdout",
     "output_type": "stream",
     "text": [
      "96 / 1000\r"
     ]
    },
    {
     "name": "stdout",
     "output_type": "stream",
     "text": [
      "97 / 1000\r"
     ]
    },
    {
     "name": "stdout",
     "output_type": "stream",
     "text": [
      "98 / 1000\r"
     ]
    },
    {
     "name": "stdout",
     "output_type": "stream",
     "text": [
      "99 / 1000\r"
     ]
    },
    {
     "name": "stdout",
     "output_type": "stream",
     "text": [
      "100 / 1000\r"
     ]
    },
    {
     "name": "stdout",
     "output_type": "stream",
     "text": [
      "101 / 1000\r"
     ]
    },
    {
     "name": "stdout",
     "output_type": "stream",
     "text": [
      "102 / 1000\r"
     ]
    },
    {
     "name": "stdout",
     "output_type": "stream",
     "text": [
      "103 / 1000\r"
     ]
    },
    {
     "name": "stdout",
     "output_type": "stream",
     "text": [
      "104 / 1000\r"
     ]
    },
    {
     "name": "stdout",
     "output_type": "stream",
     "text": [
      "105 / 1000\r"
     ]
    },
    {
     "name": "stdout",
     "output_type": "stream",
     "text": [
      "106 / 1000\r"
     ]
    },
    {
     "name": "stdout",
     "output_type": "stream",
     "text": [
      "107 / 1000\r"
     ]
    },
    {
     "name": "stdout",
     "output_type": "stream",
     "text": [
      "108 / 1000\r"
     ]
    },
    {
     "name": "stdout",
     "output_type": "stream",
     "text": [
      "109 / 1000\r"
     ]
    },
    {
     "name": "stdout",
     "output_type": "stream",
     "text": [
      "110 / 1000\r"
     ]
    },
    {
     "name": "stdout",
     "output_type": "stream",
     "text": [
      "111 / 1000\r"
     ]
    },
    {
     "name": "stdout",
     "output_type": "stream",
     "text": [
      "112 / 1000\r"
     ]
    },
    {
     "name": "stdout",
     "output_type": "stream",
     "text": [
      "113 / 1000\r"
     ]
    },
    {
     "name": "stdout",
     "output_type": "stream",
     "text": [
      "114 / 1000\r"
     ]
    },
    {
     "name": "stdout",
     "output_type": "stream",
     "text": [
      "115 / 1000\r"
     ]
    },
    {
     "name": "stdout",
     "output_type": "stream",
     "text": [
      "116 / 1000\r"
     ]
    },
    {
     "name": "stdout",
     "output_type": "stream",
     "text": [
      "117 / 1000\r"
     ]
    },
    {
     "name": "stdout",
     "output_type": "stream",
     "text": [
      "118 / 1000\r"
     ]
    },
    {
     "name": "stdout",
     "output_type": "stream",
     "text": [
      "119 / 1000\r"
     ]
    },
    {
     "name": "stdout",
     "output_type": "stream",
     "text": [
      "120 / 1000\r"
     ]
    },
    {
     "name": "stdout",
     "output_type": "stream",
     "text": [
      "121 / 1000\r"
     ]
    },
    {
     "name": "stdout",
     "output_type": "stream",
     "text": [
      "122 / 1000\r"
     ]
    },
    {
     "name": "stdout",
     "output_type": "stream",
     "text": [
      "123 / 1000\r"
     ]
    },
    {
     "name": "stdout",
     "output_type": "stream",
     "text": [
      "124 / 1000\r"
     ]
    },
    {
     "name": "stdout",
     "output_type": "stream",
     "text": [
      "125 / 1000\r"
     ]
    },
    {
     "name": "stdout",
     "output_type": "stream",
     "text": [
      "126 / 1000\r"
     ]
    },
    {
     "name": "stdout",
     "output_type": "stream",
     "text": [
      "127 / 1000\r"
     ]
    },
    {
     "name": "stdout",
     "output_type": "stream",
     "text": [
      "128 / 1000\r"
     ]
    },
    {
     "name": "stdout",
     "output_type": "stream",
     "text": [
      "129 / 1000\r"
     ]
    },
    {
     "name": "stdout",
     "output_type": "stream",
     "text": [
      "130 / 1000\r"
     ]
    },
    {
     "name": "stdout",
     "output_type": "stream",
     "text": [
      "131 / 1000\r"
     ]
    },
    {
     "name": "stdout",
     "output_type": "stream",
     "text": [
      "132 / 1000\r"
     ]
    },
    {
     "name": "stdout",
     "output_type": "stream",
     "text": [
      "133 / 1000\r"
     ]
    },
    {
     "name": "stdout",
     "output_type": "stream",
     "text": [
      "134 / 1000\r"
     ]
    },
    {
     "name": "stdout",
     "output_type": "stream",
     "text": [
      "135 / 1000\r"
     ]
    },
    {
     "name": "stdout",
     "output_type": "stream",
     "text": [
      "136 / 1000\r"
     ]
    },
    {
     "name": "stdout",
     "output_type": "stream",
     "text": [
      "137 / 1000\r"
     ]
    },
    {
     "name": "stdout",
     "output_type": "stream",
     "text": [
      "138 / 1000\r"
     ]
    },
    {
     "name": "stdout",
     "output_type": "stream",
     "text": [
      "139 / 1000\r"
     ]
    },
    {
     "name": "stdout",
     "output_type": "stream",
     "text": [
      "140 / 1000\r"
     ]
    },
    {
     "name": "stdout",
     "output_type": "stream",
     "text": [
      "141 / 1000\r"
     ]
    },
    {
     "name": "stdout",
     "output_type": "stream",
     "text": [
      "142 / 1000\r"
     ]
    },
    {
     "name": "stdout",
     "output_type": "stream",
     "text": [
      "143 / 1000\r"
     ]
    },
    {
     "name": "stdout",
     "output_type": "stream",
     "text": [
      "144 / 1000\r"
     ]
    },
    {
     "name": "stdout",
     "output_type": "stream",
     "text": [
      "145 / 1000\r"
     ]
    },
    {
     "name": "stdout",
     "output_type": "stream",
     "text": [
      "146 / 1000\r"
     ]
    },
    {
     "name": "stdout",
     "output_type": "stream",
     "text": [
      "147 / 1000\r"
     ]
    },
    {
     "name": "stdout",
     "output_type": "stream",
     "text": [
      "148 / 1000\r"
     ]
    },
    {
     "name": "stdout",
     "output_type": "stream",
     "text": [
      "149 / 1000\r"
     ]
    },
    {
     "name": "stdout",
     "output_type": "stream",
     "text": [
      "150 / 1000\r"
     ]
    },
    {
     "name": "stdout",
     "output_type": "stream",
     "text": [
      "151 / 1000\r"
     ]
    },
    {
     "name": "stdout",
     "output_type": "stream",
     "text": [
      "152 / 1000\r"
     ]
    },
    {
     "name": "stdout",
     "output_type": "stream",
     "text": [
      "153 / 1000\r"
     ]
    },
    {
     "name": "stdout",
     "output_type": "stream",
     "text": [
      "154 / 1000\r"
     ]
    },
    {
     "name": "stdout",
     "output_type": "stream",
     "text": [
      "155 / 1000\r"
     ]
    },
    {
     "name": "stdout",
     "output_type": "stream",
     "text": [
      "156 / 1000\r"
     ]
    },
    {
     "name": "stdout",
     "output_type": "stream",
     "text": [
      "157 / 1000\r"
     ]
    },
    {
     "name": "stdout",
     "output_type": "stream",
     "text": [
      "158 / 1000\r"
     ]
    },
    {
     "name": "stdout",
     "output_type": "stream",
     "text": [
      "159 / 1000\r"
     ]
    },
    {
     "name": "stdout",
     "output_type": "stream",
     "text": [
      "160 / 1000\r"
     ]
    },
    {
     "name": "stdout",
     "output_type": "stream",
     "text": [
      "161 / 1000\r"
     ]
    },
    {
     "name": "stdout",
     "output_type": "stream",
     "text": [
      "162 / 1000\r"
     ]
    },
    {
     "name": "stdout",
     "output_type": "stream",
     "text": [
      "163 / 1000\r"
     ]
    },
    {
     "name": "stdout",
     "output_type": "stream",
     "text": [
      "164 / 1000\r"
     ]
    },
    {
     "name": "stdout",
     "output_type": "stream",
     "text": [
      "165 / 1000\r"
     ]
    },
    {
     "name": "stdout",
     "output_type": "stream",
     "text": [
      "166 / 1000\r"
     ]
    },
    {
     "name": "stdout",
     "output_type": "stream",
     "text": [
      "167 / 1000\r"
     ]
    },
    {
     "name": "stdout",
     "output_type": "stream",
     "text": [
      "168 / 1000\r"
     ]
    },
    {
     "name": "stdout",
     "output_type": "stream",
     "text": [
      "169 / 1000\r"
     ]
    },
    {
     "name": "stdout",
     "output_type": "stream",
     "text": [
      "170 / 1000\r"
     ]
    },
    {
     "name": "stdout",
     "output_type": "stream",
     "text": [
      "171 / 1000\r"
     ]
    },
    {
     "name": "stdout",
     "output_type": "stream",
     "text": [
      "172 / 1000\r"
     ]
    },
    {
     "name": "stdout",
     "output_type": "stream",
     "text": [
      "173 / 1000\r"
     ]
    },
    {
     "name": "stdout",
     "output_type": "stream",
     "text": [
      "174 / 1000\r"
     ]
    },
    {
     "name": "stdout",
     "output_type": "stream",
     "text": [
      "175 / 1000\r"
     ]
    },
    {
     "name": "stdout",
     "output_type": "stream",
     "text": [
      "176 / 1000\r"
     ]
    },
    {
     "name": "stdout",
     "output_type": "stream",
     "text": [
      "177 / 1000\r"
     ]
    },
    {
     "name": "stdout",
     "output_type": "stream",
     "text": [
      "178 / 1000\r"
     ]
    },
    {
     "name": "stdout",
     "output_type": "stream",
     "text": [
      "179 / 1000\r"
     ]
    },
    {
     "name": "stdout",
     "output_type": "stream",
     "text": [
      "180 / 1000\r"
     ]
    },
    {
     "name": "stdout",
     "output_type": "stream",
     "text": [
      "181 / 1000\r"
     ]
    },
    {
     "name": "stdout",
     "output_type": "stream",
     "text": [
      "182 / 1000\r"
     ]
    },
    {
     "name": "stdout",
     "output_type": "stream",
     "text": [
      "183 / 1000\r"
     ]
    },
    {
     "name": "stdout",
     "output_type": "stream",
     "text": [
      "184 / 1000\r"
     ]
    },
    {
     "name": "stdout",
     "output_type": "stream",
     "text": [
      "185 / 1000\r"
     ]
    },
    {
     "name": "stdout",
     "output_type": "stream",
     "text": [
      "186 / 1000\r"
     ]
    },
    {
     "name": "stdout",
     "output_type": "stream",
     "text": [
      "187 / 1000\r"
     ]
    },
    {
     "name": "stdout",
     "output_type": "stream",
     "text": [
      "188 / 1000\r"
     ]
    },
    {
     "name": "stdout",
     "output_type": "stream",
     "text": [
      "189 / 1000\r"
     ]
    },
    {
     "name": "stdout",
     "output_type": "stream",
     "text": [
      "190 / 1000\r"
     ]
    },
    {
     "name": "stdout",
     "output_type": "stream",
     "text": [
      "191 / 1000\r"
     ]
    },
    {
     "name": "stdout",
     "output_type": "stream",
     "text": [
      "192 / 1000\r"
     ]
    },
    {
     "name": "stdout",
     "output_type": "stream",
     "text": [
      "193 / 1000\r"
     ]
    },
    {
     "name": "stdout",
     "output_type": "stream",
     "text": [
      "194 / 1000\r"
     ]
    },
    {
     "name": "stdout",
     "output_type": "stream",
     "text": [
      "195 / 1000\r"
     ]
    },
    {
     "name": "stdout",
     "output_type": "stream",
     "text": [
      "196 / 1000\r"
     ]
    },
    {
     "name": "stdout",
     "output_type": "stream",
     "text": [
      "197 / 1000\r"
     ]
    },
    {
     "name": "stdout",
     "output_type": "stream",
     "text": [
      "198 / 1000\r"
     ]
    },
    {
     "name": "stdout",
     "output_type": "stream",
     "text": [
      "199 / 1000\r"
     ]
    },
    {
     "name": "stdout",
     "output_type": "stream",
     "text": [
      "200 / 1000\r"
     ]
    },
    {
     "name": "stdout",
     "output_type": "stream",
     "text": [
      "201 / 1000\r"
     ]
    },
    {
     "name": "stdout",
     "output_type": "stream",
     "text": [
      "202 / 1000\r"
     ]
    },
    {
     "name": "stdout",
     "output_type": "stream",
     "text": [
      "203 / 1000\r"
     ]
    },
    {
     "name": "stdout",
     "output_type": "stream",
     "text": [
      "204 / 1000\r"
     ]
    },
    {
     "name": "stdout",
     "output_type": "stream",
     "text": [
      "205 / 1000\r"
     ]
    },
    {
     "name": "stdout",
     "output_type": "stream",
     "text": [
      "206 / 1000\r"
     ]
    },
    {
     "name": "stdout",
     "output_type": "stream",
     "text": [
      "207 / 1000\r"
     ]
    },
    {
     "name": "stdout",
     "output_type": "stream",
     "text": [
      "208 / 1000\r"
     ]
    },
    {
     "name": "stdout",
     "output_type": "stream",
     "text": [
      "209 / 1000\r"
     ]
    },
    {
     "name": "stdout",
     "output_type": "stream",
     "text": [
      "210 / 1000\r"
     ]
    },
    {
     "name": "stdout",
     "output_type": "stream",
     "text": [
      "211 / 1000\r"
     ]
    },
    {
     "name": "stdout",
     "output_type": "stream",
     "text": [
      "212 / 1000\r"
     ]
    },
    {
     "name": "stdout",
     "output_type": "stream",
     "text": [
      "213 / 1000\r"
     ]
    },
    {
     "name": "stdout",
     "output_type": "stream",
     "text": [
      "214 / 1000\r"
     ]
    },
    {
     "name": "stdout",
     "output_type": "stream",
     "text": [
      "215 / 1000\r"
     ]
    },
    {
     "name": "stdout",
     "output_type": "stream",
     "text": [
      "216 / 1000\r"
     ]
    },
    {
     "name": "stdout",
     "output_type": "stream",
     "text": [
      "217 / 1000\r"
     ]
    },
    {
     "name": "stdout",
     "output_type": "stream",
     "text": [
      "218 / 1000\r"
     ]
    },
    {
     "name": "stdout",
     "output_type": "stream",
     "text": [
      "219 / 1000\r"
     ]
    },
    {
     "name": "stdout",
     "output_type": "stream",
     "text": [
      "220 / 1000\r"
     ]
    },
    {
     "name": "stdout",
     "output_type": "stream",
     "text": [
      "221 / 1000\r"
     ]
    },
    {
     "name": "stdout",
     "output_type": "stream",
     "text": [
      "222 / 1000\r"
     ]
    },
    {
     "name": "stdout",
     "output_type": "stream",
     "text": [
      "223 / 1000\r"
     ]
    },
    {
     "name": "stdout",
     "output_type": "stream",
     "text": [
      "224 / 1000\r"
     ]
    },
    {
     "name": "stdout",
     "output_type": "stream",
     "text": [
      "225 / 1000\r"
     ]
    },
    {
     "name": "stdout",
     "output_type": "stream",
     "text": [
      "226 / 1000\r"
     ]
    },
    {
     "name": "stdout",
     "output_type": "stream",
     "text": [
      "227 / 1000\r"
     ]
    },
    {
     "name": "stdout",
     "output_type": "stream",
     "text": [
      "228 / 1000\r"
     ]
    },
    {
     "name": "stdout",
     "output_type": "stream",
     "text": [
      "229 / 1000\r"
     ]
    },
    {
     "name": "stdout",
     "output_type": "stream",
     "text": [
      "230 / 1000\r"
     ]
    },
    {
     "name": "stdout",
     "output_type": "stream",
     "text": [
      "231 / 1000\r"
     ]
    },
    {
     "name": "stdout",
     "output_type": "stream",
     "text": [
      "232 / 1000\r"
     ]
    },
    {
     "name": "stdout",
     "output_type": "stream",
     "text": [
      "233 / 1000\r"
     ]
    },
    {
     "name": "stdout",
     "output_type": "stream",
     "text": [
      "234 / 1000\r"
     ]
    },
    {
     "name": "stdout",
     "output_type": "stream",
     "text": [
      "235 / 1000\r"
     ]
    },
    {
     "name": "stdout",
     "output_type": "stream",
     "text": [
      "236 / 1000\r"
     ]
    },
    {
     "name": "stdout",
     "output_type": "stream",
     "text": [
      "237 / 1000\r"
     ]
    },
    {
     "name": "stdout",
     "output_type": "stream",
     "text": [
      "238 / 1000\r"
     ]
    },
    {
     "name": "stdout",
     "output_type": "stream",
     "text": [
      "239 / 1000\r"
     ]
    },
    {
     "name": "stdout",
     "output_type": "stream",
     "text": [
      "240 / 1000\r"
     ]
    },
    {
     "name": "stdout",
     "output_type": "stream",
     "text": [
      "241 / 1000\r"
     ]
    },
    {
     "name": "stdout",
     "output_type": "stream",
     "text": [
      "242 / 1000\r"
     ]
    },
    {
     "name": "stdout",
     "output_type": "stream",
     "text": [
      "243 / 1000\r"
     ]
    },
    {
     "name": "stdout",
     "output_type": "stream",
     "text": [
      "244 / 1000\r"
     ]
    },
    {
     "name": "stdout",
     "output_type": "stream",
     "text": [
      "245 / 1000\r"
     ]
    },
    {
     "name": "stdout",
     "output_type": "stream",
     "text": [
      "246 / 1000\r"
     ]
    },
    {
     "name": "stdout",
     "output_type": "stream",
     "text": [
      "247 / 1000\r"
     ]
    },
    {
     "name": "stdout",
     "output_type": "stream",
     "text": [
      "248 / 1000\r"
     ]
    },
    {
     "name": "stdout",
     "output_type": "stream",
     "text": [
      "249 / 1000\r"
     ]
    },
    {
     "name": "stdout",
     "output_type": "stream",
     "text": [
      "250 / 1000\r"
     ]
    },
    {
     "name": "stdout",
     "output_type": "stream",
     "text": [
      "251 / 1000\r"
     ]
    },
    {
     "name": "stdout",
     "output_type": "stream",
     "text": [
      "252 / 1000\r"
     ]
    },
    {
     "name": "stdout",
     "output_type": "stream",
     "text": [
      "253 / 1000\r"
     ]
    },
    {
     "name": "stdout",
     "output_type": "stream",
     "text": [
      "254 / 1000\r"
     ]
    },
    {
     "name": "stdout",
     "output_type": "stream",
     "text": [
      "255 / 1000\r"
     ]
    },
    {
     "name": "stdout",
     "output_type": "stream",
     "text": [
      "256 / 1000\r"
     ]
    },
    {
     "name": "stdout",
     "output_type": "stream",
     "text": [
      "257 / 1000\r"
     ]
    },
    {
     "name": "stdout",
     "output_type": "stream",
     "text": [
      "258 / 1000\r"
     ]
    },
    {
     "name": "stdout",
     "output_type": "stream",
     "text": [
      "259 / 1000\r"
     ]
    },
    {
     "name": "stdout",
     "output_type": "stream",
     "text": [
      "260 / 1000\r"
     ]
    },
    {
     "name": "stdout",
     "output_type": "stream",
     "text": [
      "261 / 1000\r"
     ]
    },
    {
     "name": "stdout",
     "output_type": "stream",
     "text": [
      "262 / 1000\r"
     ]
    },
    {
     "name": "stdout",
     "output_type": "stream",
     "text": [
      "263 / 1000\r"
     ]
    },
    {
     "name": "stdout",
     "output_type": "stream",
     "text": [
      "264 / 1000\r"
     ]
    },
    {
     "name": "stdout",
     "output_type": "stream",
     "text": [
      "265 / 1000\r"
     ]
    },
    {
     "name": "stdout",
     "output_type": "stream",
     "text": [
      "266 / 1000\r"
     ]
    },
    {
     "name": "stdout",
     "output_type": "stream",
     "text": [
      "267 / 1000\r"
     ]
    },
    {
     "name": "stdout",
     "output_type": "stream",
     "text": [
      "268 / 1000\r"
     ]
    },
    {
     "name": "stdout",
     "output_type": "stream",
     "text": [
      "269 / 1000\r"
     ]
    },
    {
     "name": "stdout",
     "output_type": "stream",
     "text": [
      "270 / 1000\r"
     ]
    },
    {
     "name": "stdout",
     "output_type": "stream",
     "text": [
      "271 / 1000\r"
     ]
    },
    {
     "name": "stdout",
     "output_type": "stream",
     "text": [
      "272 / 1000\r"
     ]
    },
    {
     "name": "stdout",
     "output_type": "stream",
     "text": [
      "273 / 1000\r"
     ]
    },
    {
     "name": "stdout",
     "output_type": "stream",
     "text": [
      "274 / 1000\r"
     ]
    },
    {
     "name": "stdout",
     "output_type": "stream",
     "text": [
      "275 / 1000\r"
     ]
    },
    {
     "name": "stdout",
     "output_type": "stream",
     "text": [
      "276 / 1000\r"
     ]
    },
    {
     "name": "stdout",
     "output_type": "stream",
     "text": [
      "277 / 1000\r"
     ]
    },
    {
     "name": "stdout",
     "output_type": "stream",
     "text": [
      "278 / 1000\r"
     ]
    },
    {
     "name": "stdout",
     "output_type": "stream",
     "text": [
      "279 / 1000\r"
     ]
    },
    {
     "name": "stdout",
     "output_type": "stream",
     "text": [
      "280 / 1000\r"
     ]
    },
    {
     "name": "stdout",
     "output_type": "stream",
     "text": [
      "281 / 1000\r"
     ]
    },
    {
     "name": "stdout",
     "output_type": "stream",
     "text": [
      "282 / 1000\r"
     ]
    },
    {
     "name": "stdout",
     "output_type": "stream",
     "text": [
      "283 / 1000\r"
     ]
    },
    {
     "name": "stdout",
     "output_type": "stream",
     "text": [
      "284 / 1000\r"
     ]
    },
    {
     "name": "stdout",
     "output_type": "stream",
     "text": [
      "285 / 1000\r"
     ]
    },
    {
     "name": "stdout",
     "output_type": "stream",
     "text": [
      "286 / 1000\r"
     ]
    },
    {
     "name": "stdout",
     "output_type": "stream",
     "text": [
      "287 / 1000\r"
     ]
    },
    {
     "name": "stdout",
     "output_type": "stream",
     "text": [
      "288 / 1000\r"
     ]
    },
    {
     "name": "stdout",
     "output_type": "stream",
     "text": [
      "289 / 1000\r"
     ]
    },
    {
     "name": "stdout",
     "output_type": "stream",
     "text": [
      "290 / 1000\r"
     ]
    },
    {
     "name": "stdout",
     "output_type": "stream",
     "text": [
      "291 / 1000\r"
     ]
    },
    {
     "name": "stdout",
     "output_type": "stream",
     "text": [
      "292 / 1000\r"
     ]
    },
    {
     "name": "stdout",
     "output_type": "stream",
     "text": [
      "293 / 1000\r"
     ]
    },
    {
     "name": "stdout",
     "output_type": "stream",
     "text": [
      "294 / 1000\r"
     ]
    },
    {
     "name": "stdout",
     "output_type": "stream",
     "text": [
      "295 / 1000\r"
     ]
    },
    {
     "name": "stdout",
     "output_type": "stream",
     "text": [
      "296 / 1000\r"
     ]
    },
    {
     "name": "stdout",
     "output_type": "stream",
     "text": [
      "297 / 1000\r"
     ]
    },
    {
     "name": "stdout",
     "output_type": "stream",
     "text": [
      "298 / 1000\r"
     ]
    },
    {
     "name": "stdout",
     "output_type": "stream",
     "text": [
      "299 / 1000\r"
     ]
    },
    {
     "name": "stdout",
     "output_type": "stream",
     "text": [
      "300 / 1000\r"
     ]
    },
    {
     "name": "stdout",
     "output_type": "stream",
     "text": [
      "301 / 1000\r"
     ]
    },
    {
     "name": "stdout",
     "output_type": "stream",
     "text": [
      "302 / 1000\r"
     ]
    },
    {
     "name": "stdout",
     "output_type": "stream",
     "text": [
      "303 / 1000\r"
     ]
    },
    {
     "name": "stdout",
     "output_type": "stream",
     "text": [
      "304 / 1000\r"
     ]
    },
    {
     "name": "stdout",
     "output_type": "stream",
     "text": [
      "305 / 1000\r"
     ]
    },
    {
     "name": "stdout",
     "output_type": "stream",
     "text": [
      "306 / 1000\r"
     ]
    },
    {
     "name": "stdout",
     "output_type": "stream",
     "text": [
      "307 / 1000\r"
     ]
    },
    {
     "name": "stdout",
     "output_type": "stream",
     "text": [
      "308 / 1000\r"
     ]
    },
    {
     "name": "stdout",
     "output_type": "stream",
     "text": [
      "309 / 1000\r"
     ]
    },
    {
     "name": "stdout",
     "output_type": "stream",
     "text": [
      "310 / 1000\r"
     ]
    },
    {
     "name": "stdout",
     "output_type": "stream",
     "text": [
      "311 / 1000\r"
     ]
    },
    {
     "name": "stdout",
     "output_type": "stream",
     "text": [
      "312 / 1000\r"
     ]
    },
    {
     "name": "stdout",
     "output_type": "stream",
     "text": [
      "313 / 1000\r"
     ]
    },
    {
     "name": "stdout",
     "output_type": "stream",
     "text": [
      "314 / 1000\r"
     ]
    },
    {
     "name": "stdout",
     "output_type": "stream",
     "text": [
      "315 / 1000\r"
     ]
    },
    {
     "name": "stdout",
     "output_type": "stream",
     "text": [
      "316 / 1000\r"
     ]
    },
    {
     "name": "stdout",
     "output_type": "stream",
     "text": [
      "317 / 1000\r"
     ]
    },
    {
     "name": "stdout",
     "output_type": "stream",
     "text": [
      "318 / 1000\r"
     ]
    },
    {
     "name": "stdout",
     "output_type": "stream",
     "text": [
      "319 / 1000\r"
     ]
    },
    {
     "name": "stdout",
     "output_type": "stream",
     "text": [
      "320 / 1000\r"
     ]
    },
    {
     "name": "stdout",
     "output_type": "stream",
     "text": [
      "321 / 1000\r"
     ]
    },
    {
     "name": "stdout",
     "output_type": "stream",
     "text": [
      "322 / 1000\r"
     ]
    },
    {
     "name": "stdout",
     "output_type": "stream",
     "text": [
      "323 / 1000\r"
     ]
    },
    {
     "name": "stdout",
     "output_type": "stream",
     "text": [
      "324 / 1000\r"
     ]
    },
    {
     "name": "stdout",
     "output_type": "stream",
     "text": [
      "325 / 1000\r"
     ]
    },
    {
     "name": "stdout",
     "output_type": "stream",
     "text": [
      "326 / 1000\r"
     ]
    },
    {
     "name": "stdout",
     "output_type": "stream",
     "text": [
      "327 / 1000\r"
     ]
    },
    {
     "name": "stdout",
     "output_type": "stream",
     "text": [
      "328 / 1000\r"
     ]
    },
    {
     "name": "stdout",
     "output_type": "stream",
     "text": [
      "329 / 1000\r"
     ]
    },
    {
     "name": "stdout",
     "output_type": "stream",
     "text": [
      "330 / 1000\r"
     ]
    },
    {
     "name": "stdout",
     "output_type": "stream",
     "text": [
      "331 / 1000\r"
     ]
    },
    {
     "name": "stdout",
     "output_type": "stream",
     "text": [
      "332 / 1000\r"
     ]
    },
    {
     "name": "stdout",
     "output_type": "stream",
     "text": [
      "333 / 1000\r"
     ]
    },
    {
     "name": "stdout",
     "output_type": "stream",
     "text": [
      "334 / 1000\r"
     ]
    },
    {
     "name": "stdout",
     "output_type": "stream",
     "text": [
      "335 / 1000\r"
     ]
    },
    {
     "name": "stdout",
     "output_type": "stream",
     "text": [
      "336 / 1000\r"
     ]
    },
    {
     "name": "stdout",
     "output_type": "stream",
     "text": [
      "337 / 1000\r"
     ]
    },
    {
     "name": "stdout",
     "output_type": "stream",
     "text": [
      "338 / 1000\r"
     ]
    },
    {
     "name": "stdout",
     "output_type": "stream",
     "text": [
      "339 / 1000\r"
     ]
    },
    {
     "name": "stdout",
     "output_type": "stream",
     "text": [
      "340 / 1000\r"
     ]
    },
    {
     "name": "stdout",
     "output_type": "stream",
     "text": [
      "341 / 1000\r"
     ]
    },
    {
     "name": "stdout",
     "output_type": "stream",
     "text": [
      "342 / 1000\r"
     ]
    },
    {
     "name": "stdout",
     "output_type": "stream",
     "text": [
      "343 / 1000\r"
     ]
    },
    {
     "name": "stdout",
     "output_type": "stream",
     "text": [
      "344 / 1000\r"
     ]
    },
    {
     "name": "stdout",
     "output_type": "stream",
     "text": [
      "345 / 1000\r"
     ]
    },
    {
     "name": "stdout",
     "output_type": "stream",
     "text": [
      "346 / 1000\r"
     ]
    },
    {
     "name": "stdout",
     "output_type": "stream",
     "text": [
      "347 / 1000\r"
     ]
    },
    {
     "name": "stdout",
     "output_type": "stream",
     "text": [
      "348 / 1000\r"
     ]
    },
    {
     "name": "stdout",
     "output_type": "stream",
     "text": [
      "349 / 1000\r"
     ]
    },
    {
     "name": "stdout",
     "output_type": "stream",
     "text": [
      "350 / 1000\r"
     ]
    },
    {
     "name": "stdout",
     "output_type": "stream",
     "text": [
      "351 / 1000\r"
     ]
    },
    {
     "name": "stdout",
     "output_type": "stream",
     "text": [
      "352 / 1000\r"
     ]
    },
    {
     "name": "stdout",
     "output_type": "stream",
     "text": [
      "353 / 1000\r"
     ]
    },
    {
     "name": "stdout",
     "output_type": "stream",
     "text": [
      "354 / 1000\r"
     ]
    },
    {
     "name": "stdout",
     "output_type": "stream",
     "text": [
      "355 / 1000\r"
     ]
    },
    {
     "name": "stdout",
     "output_type": "stream",
     "text": [
      "356 / 1000\r"
     ]
    },
    {
     "name": "stdout",
     "output_type": "stream",
     "text": [
      "357 / 1000\r"
     ]
    },
    {
     "name": "stdout",
     "output_type": "stream",
     "text": [
      "358 / 1000\r"
     ]
    },
    {
     "name": "stdout",
     "output_type": "stream",
     "text": [
      "359 / 1000\r"
     ]
    },
    {
     "name": "stdout",
     "output_type": "stream",
     "text": [
      "360 / 1000\r"
     ]
    },
    {
     "name": "stdout",
     "output_type": "stream",
     "text": [
      "361 / 1000\r"
     ]
    },
    {
     "name": "stdout",
     "output_type": "stream",
     "text": [
      "362 / 1000\r"
     ]
    },
    {
     "name": "stdout",
     "output_type": "stream",
     "text": [
      "363 / 1000\r"
     ]
    },
    {
     "name": "stdout",
     "output_type": "stream",
     "text": [
      "364 / 1000\r"
     ]
    },
    {
     "name": "stdout",
     "output_type": "stream",
     "text": [
      "365 / 1000\r"
     ]
    },
    {
     "name": "stdout",
     "output_type": "stream",
     "text": [
      "366 / 1000\r"
     ]
    },
    {
     "name": "stdout",
     "output_type": "stream",
     "text": [
      "367 / 1000\r"
     ]
    },
    {
     "name": "stdout",
     "output_type": "stream",
     "text": [
      "368 / 1000\r"
     ]
    },
    {
     "name": "stdout",
     "output_type": "stream",
     "text": [
      "369 / 1000\r"
     ]
    },
    {
     "name": "stdout",
     "output_type": "stream",
     "text": [
      "370 / 1000\r"
     ]
    },
    {
     "name": "stdout",
     "output_type": "stream",
     "text": [
      "371 / 1000\r"
     ]
    },
    {
     "name": "stdout",
     "output_type": "stream",
     "text": [
      "372 / 1000\r"
     ]
    },
    {
     "name": "stdout",
     "output_type": "stream",
     "text": [
      "373 / 1000\r"
     ]
    },
    {
     "name": "stdout",
     "output_type": "stream",
     "text": [
      "374 / 1000\r"
     ]
    },
    {
     "name": "stdout",
     "output_type": "stream",
     "text": [
      "375 / 1000\r"
     ]
    },
    {
     "name": "stdout",
     "output_type": "stream",
     "text": [
      "376 / 1000\r"
     ]
    },
    {
     "name": "stdout",
     "output_type": "stream",
     "text": [
      "377 / 1000\r"
     ]
    },
    {
     "name": "stdout",
     "output_type": "stream",
     "text": [
      "378 / 1000\r"
     ]
    },
    {
     "name": "stdout",
     "output_type": "stream",
     "text": [
      "379 / 1000\r"
     ]
    },
    {
     "name": "stdout",
     "output_type": "stream",
     "text": [
      "380 / 1000\r"
     ]
    },
    {
     "name": "stdout",
     "output_type": "stream",
     "text": [
      "381 / 1000\r"
     ]
    },
    {
     "name": "stdout",
     "output_type": "stream",
     "text": [
      "382 / 1000\r"
     ]
    },
    {
     "name": "stdout",
     "output_type": "stream",
     "text": [
      "383 / 1000\r"
     ]
    },
    {
     "name": "stdout",
     "output_type": "stream",
     "text": [
      "384 / 1000\r"
     ]
    },
    {
     "name": "stdout",
     "output_type": "stream",
     "text": [
      "385 / 1000\r"
     ]
    },
    {
     "name": "stdout",
     "output_type": "stream",
     "text": [
      "386 / 1000\r"
     ]
    },
    {
     "name": "stdout",
     "output_type": "stream",
     "text": [
      "387 / 1000\r"
     ]
    },
    {
     "name": "stdout",
     "output_type": "stream",
     "text": [
      "388 / 1000\r"
     ]
    },
    {
     "name": "stdout",
     "output_type": "stream",
     "text": [
      "389 / 1000\r"
     ]
    },
    {
     "name": "stdout",
     "output_type": "stream",
     "text": [
      "390 / 1000\r"
     ]
    },
    {
     "name": "stdout",
     "output_type": "stream",
     "text": [
      "391 / 1000\r"
     ]
    },
    {
     "name": "stdout",
     "output_type": "stream",
     "text": [
      "392 / 1000\r"
     ]
    },
    {
     "name": "stdout",
     "output_type": "stream",
     "text": [
      "393 / 1000\r"
     ]
    },
    {
     "name": "stdout",
     "output_type": "stream",
     "text": [
      "394 / 1000\r"
     ]
    },
    {
     "name": "stdout",
     "output_type": "stream",
     "text": [
      "395 / 1000\r"
     ]
    },
    {
     "name": "stdout",
     "output_type": "stream",
     "text": [
      "396 / 1000\r"
     ]
    },
    {
     "name": "stdout",
     "output_type": "stream",
     "text": [
      "397 / 1000\r"
     ]
    },
    {
     "name": "stdout",
     "output_type": "stream",
     "text": [
      "398 / 1000\r"
     ]
    },
    {
     "name": "stdout",
     "output_type": "stream",
     "text": [
      "399 / 1000\r"
     ]
    },
    {
     "name": "stdout",
     "output_type": "stream",
     "text": [
      "400 / 1000\r"
     ]
    },
    {
     "name": "stdout",
     "output_type": "stream",
     "text": [
      "401 / 1000\r"
     ]
    },
    {
     "name": "stdout",
     "output_type": "stream",
     "text": [
      "402 / 1000\r"
     ]
    },
    {
     "name": "stdout",
     "output_type": "stream",
     "text": [
      "403 / 1000\r"
     ]
    },
    {
     "name": "stdout",
     "output_type": "stream",
     "text": [
      "404 / 1000\r"
     ]
    },
    {
     "name": "stdout",
     "output_type": "stream",
     "text": [
      "405 / 1000\r"
     ]
    },
    {
     "name": "stdout",
     "output_type": "stream",
     "text": [
      "406 / 1000\r"
     ]
    },
    {
     "name": "stdout",
     "output_type": "stream",
     "text": [
      "407 / 1000\r"
     ]
    },
    {
     "name": "stdout",
     "output_type": "stream",
     "text": [
      "408 / 1000\r"
     ]
    },
    {
     "name": "stdout",
     "output_type": "stream",
     "text": [
      "409 / 1000\r"
     ]
    },
    {
     "name": "stdout",
     "output_type": "stream",
     "text": [
      "410 / 1000\r"
     ]
    },
    {
     "name": "stdout",
     "output_type": "stream",
     "text": [
      "411 / 1000\r"
     ]
    },
    {
     "name": "stdout",
     "output_type": "stream",
     "text": [
      "412 / 1000\r"
     ]
    },
    {
     "name": "stdout",
     "output_type": "stream",
     "text": [
      "413 / 1000\r"
     ]
    },
    {
     "name": "stdout",
     "output_type": "stream",
     "text": [
      "414 / 1000\r"
     ]
    },
    {
     "name": "stdout",
     "output_type": "stream",
     "text": [
      "415 / 1000\r"
     ]
    },
    {
     "name": "stdout",
     "output_type": "stream",
     "text": [
      "416 / 1000\r"
     ]
    },
    {
     "name": "stdout",
     "output_type": "stream",
     "text": [
      "417 / 1000\r"
     ]
    },
    {
     "name": "stdout",
     "output_type": "stream",
     "text": [
      "418 / 1000\r"
     ]
    },
    {
     "name": "stdout",
     "output_type": "stream",
     "text": [
      "419 / 1000\r"
     ]
    },
    {
     "name": "stdout",
     "output_type": "stream",
     "text": [
      "420 / 1000\r"
     ]
    },
    {
     "name": "stdout",
     "output_type": "stream",
     "text": [
      "421 / 1000\r"
     ]
    },
    {
     "name": "stdout",
     "output_type": "stream",
     "text": [
      "422 / 1000\r"
     ]
    },
    {
     "name": "stdout",
     "output_type": "stream",
     "text": [
      "423 / 1000\r"
     ]
    },
    {
     "name": "stdout",
     "output_type": "stream",
     "text": [
      "424 / 1000\r"
     ]
    },
    {
     "name": "stdout",
     "output_type": "stream",
     "text": [
      "425 / 1000\r"
     ]
    },
    {
     "name": "stdout",
     "output_type": "stream",
     "text": [
      "426 / 1000\r"
     ]
    },
    {
     "name": "stdout",
     "output_type": "stream",
     "text": [
      "427 / 1000\r"
     ]
    },
    {
     "name": "stdout",
     "output_type": "stream",
     "text": [
      "428 / 1000\r"
     ]
    },
    {
     "name": "stdout",
     "output_type": "stream",
     "text": [
      "429 / 1000\r"
     ]
    },
    {
     "name": "stdout",
     "output_type": "stream",
     "text": [
      "430 / 1000\r"
     ]
    },
    {
     "name": "stdout",
     "output_type": "stream",
     "text": [
      "431 / 1000\r"
     ]
    },
    {
     "name": "stdout",
     "output_type": "stream",
     "text": [
      "432 / 1000\r"
     ]
    },
    {
     "name": "stdout",
     "output_type": "stream",
     "text": [
      "433 / 1000\r"
     ]
    },
    {
     "name": "stdout",
     "output_type": "stream",
     "text": [
      "434 / 1000\r"
     ]
    },
    {
     "name": "stdout",
     "output_type": "stream",
     "text": [
      "435 / 1000\r"
     ]
    },
    {
     "name": "stdout",
     "output_type": "stream",
     "text": [
      "436 / 1000\r"
     ]
    },
    {
     "name": "stdout",
     "output_type": "stream",
     "text": [
      "437 / 1000\r"
     ]
    },
    {
     "name": "stdout",
     "output_type": "stream",
     "text": [
      "438 / 1000\r"
     ]
    },
    {
     "name": "stdout",
     "output_type": "stream",
     "text": [
      "439 / 1000\r"
     ]
    },
    {
     "name": "stdout",
     "output_type": "stream",
     "text": [
      "440 / 1000\r"
     ]
    },
    {
     "name": "stdout",
     "output_type": "stream",
     "text": [
      "441 / 1000\r"
     ]
    },
    {
     "name": "stdout",
     "output_type": "stream",
     "text": [
      "442 / 1000\r"
     ]
    },
    {
     "name": "stdout",
     "output_type": "stream",
     "text": [
      "443 / 1000\r"
     ]
    },
    {
     "name": "stdout",
     "output_type": "stream",
     "text": [
      "444 / 1000\r"
     ]
    },
    {
     "name": "stdout",
     "output_type": "stream",
     "text": [
      "445 / 1000\r"
     ]
    },
    {
     "name": "stdout",
     "output_type": "stream",
     "text": [
      "446 / 1000\r"
     ]
    },
    {
     "name": "stdout",
     "output_type": "stream",
     "text": [
      "447 / 1000\r"
     ]
    },
    {
     "name": "stdout",
     "output_type": "stream",
     "text": [
      "448 / 1000\r"
     ]
    },
    {
     "name": "stdout",
     "output_type": "stream",
     "text": [
      "449 / 1000\r"
     ]
    },
    {
     "name": "stdout",
     "output_type": "stream",
     "text": [
      "450 / 1000\r"
     ]
    },
    {
     "name": "stdout",
     "output_type": "stream",
     "text": [
      "451 / 1000\r"
     ]
    },
    {
     "name": "stdout",
     "output_type": "stream",
     "text": [
      "452 / 1000\r"
     ]
    },
    {
     "name": "stdout",
     "output_type": "stream",
     "text": [
      "453 / 1000\r"
     ]
    },
    {
     "name": "stdout",
     "output_type": "stream",
     "text": [
      "454 / 1000\r"
     ]
    },
    {
     "name": "stdout",
     "output_type": "stream",
     "text": [
      "455 / 1000\r"
     ]
    },
    {
     "name": "stdout",
     "output_type": "stream",
     "text": [
      "456 / 1000\r"
     ]
    },
    {
     "name": "stdout",
     "output_type": "stream",
     "text": [
      "457 / 1000\r"
     ]
    },
    {
     "name": "stdout",
     "output_type": "stream",
     "text": [
      "458 / 1000\r"
     ]
    },
    {
     "name": "stdout",
     "output_type": "stream",
     "text": [
      "459 / 1000\r"
     ]
    },
    {
     "name": "stdout",
     "output_type": "stream",
     "text": [
      "460 / 1000\r"
     ]
    },
    {
     "name": "stdout",
     "output_type": "stream",
     "text": [
      "461 / 1000\r"
     ]
    },
    {
     "name": "stdout",
     "output_type": "stream",
     "text": [
      "462 / 1000\r"
     ]
    },
    {
     "name": "stdout",
     "output_type": "stream",
     "text": [
      "463 / 1000\r"
     ]
    },
    {
     "name": "stdout",
     "output_type": "stream",
     "text": [
      "464 / 1000\r"
     ]
    },
    {
     "name": "stdout",
     "output_type": "stream",
     "text": [
      "465 / 1000\r"
     ]
    },
    {
     "name": "stdout",
     "output_type": "stream",
     "text": [
      "466 / 1000\r"
     ]
    },
    {
     "name": "stdout",
     "output_type": "stream",
     "text": [
      "467 / 1000\r"
     ]
    },
    {
     "name": "stdout",
     "output_type": "stream",
     "text": [
      "468 / 1000\r"
     ]
    },
    {
     "name": "stdout",
     "output_type": "stream",
     "text": [
      "469 / 1000\r"
     ]
    },
    {
     "name": "stdout",
     "output_type": "stream",
     "text": [
      "470 / 1000\r"
     ]
    },
    {
     "name": "stdout",
     "output_type": "stream",
     "text": [
      "471 / 1000\r"
     ]
    },
    {
     "name": "stdout",
     "output_type": "stream",
     "text": [
      "472 / 1000\r"
     ]
    },
    {
     "name": "stdout",
     "output_type": "stream",
     "text": [
      "473 / 1000\r"
     ]
    },
    {
     "name": "stdout",
     "output_type": "stream",
     "text": [
      "474 / 1000\r"
     ]
    },
    {
     "name": "stdout",
     "output_type": "stream",
     "text": [
      "475 / 1000\r"
     ]
    },
    {
     "name": "stdout",
     "output_type": "stream",
     "text": [
      "476 / 1000\r"
     ]
    },
    {
     "name": "stdout",
     "output_type": "stream",
     "text": [
      "477 / 1000\r"
     ]
    },
    {
     "name": "stdout",
     "output_type": "stream",
     "text": [
      "478 / 1000\r"
     ]
    },
    {
     "name": "stdout",
     "output_type": "stream",
     "text": [
      "479 / 1000\r"
     ]
    },
    {
     "name": "stdout",
     "output_type": "stream",
     "text": [
      "480 / 1000\r"
     ]
    },
    {
     "name": "stdout",
     "output_type": "stream",
     "text": [
      "481 / 1000\r"
     ]
    },
    {
     "name": "stdout",
     "output_type": "stream",
     "text": [
      "482 / 1000\r"
     ]
    },
    {
     "name": "stdout",
     "output_type": "stream",
     "text": [
      "483 / 1000\r"
     ]
    },
    {
     "name": "stdout",
     "output_type": "stream",
     "text": [
      "484 / 1000\r"
     ]
    },
    {
     "name": "stdout",
     "output_type": "stream",
     "text": [
      "485 / 1000\r"
     ]
    },
    {
     "name": "stdout",
     "output_type": "stream",
     "text": [
      "486 / 1000\r"
     ]
    },
    {
     "name": "stdout",
     "output_type": "stream",
     "text": [
      "487 / 1000\r"
     ]
    },
    {
     "name": "stdout",
     "output_type": "stream",
     "text": [
      "488 / 1000\r"
     ]
    },
    {
     "name": "stdout",
     "output_type": "stream",
     "text": [
      "489 / 1000\r"
     ]
    },
    {
     "name": "stdout",
     "output_type": "stream",
     "text": [
      "490 / 1000\r"
     ]
    },
    {
     "name": "stdout",
     "output_type": "stream",
     "text": [
      "491 / 1000\r"
     ]
    },
    {
     "name": "stdout",
     "output_type": "stream",
     "text": [
      "492 / 1000\r"
     ]
    },
    {
     "name": "stdout",
     "output_type": "stream",
     "text": [
      "493 / 1000\r"
     ]
    },
    {
     "name": "stdout",
     "output_type": "stream",
     "text": [
      "494 / 1000\r"
     ]
    },
    {
     "name": "stdout",
     "output_type": "stream",
     "text": [
      "495 / 1000\r"
     ]
    },
    {
     "name": "stdout",
     "output_type": "stream",
     "text": [
      "496 / 1000\r"
     ]
    },
    {
     "name": "stdout",
     "output_type": "stream",
     "text": [
      "497 / 1000\r"
     ]
    },
    {
     "name": "stdout",
     "output_type": "stream",
     "text": [
      "498 / 1000\r"
     ]
    },
    {
     "name": "stdout",
     "output_type": "stream",
     "text": [
      "499 / 1000\r"
     ]
    },
    {
     "name": "stdout",
     "output_type": "stream",
     "text": [
      "500 / 1000\r"
     ]
    },
    {
     "name": "stdout",
     "output_type": "stream",
     "text": [
      "501 / 1000\r"
     ]
    },
    {
     "name": "stdout",
     "output_type": "stream",
     "text": [
      "502 / 1000\r"
     ]
    },
    {
     "name": "stdout",
     "output_type": "stream",
     "text": [
      "503 / 1000\r"
     ]
    },
    {
     "name": "stdout",
     "output_type": "stream",
     "text": [
      "504 / 1000\r"
     ]
    },
    {
     "name": "stdout",
     "output_type": "stream",
     "text": [
      "505 / 1000\r"
     ]
    },
    {
     "name": "stdout",
     "output_type": "stream",
     "text": [
      "506 / 1000\r"
     ]
    },
    {
     "name": "stdout",
     "output_type": "stream",
     "text": [
      "507 / 1000\r"
     ]
    },
    {
     "name": "stdout",
     "output_type": "stream",
     "text": [
      "508 / 1000\r"
     ]
    },
    {
     "name": "stdout",
     "output_type": "stream",
     "text": [
      "509 / 1000\r"
     ]
    },
    {
     "name": "stdout",
     "output_type": "stream",
     "text": [
      "510 / 1000\r"
     ]
    },
    {
     "name": "stdout",
     "output_type": "stream",
     "text": [
      "511 / 1000\r"
     ]
    },
    {
     "name": "stdout",
     "output_type": "stream",
     "text": [
      "512 / 1000\r"
     ]
    },
    {
     "name": "stdout",
     "output_type": "stream",
     "text": [
      "513 / 1000\r"
     ]
    },
    {
     "name": "stdout",
     "output_type": "stream",
     "text": [
      "514 / 1000\r"
     ]
    },
    {
     "name": "stdout",
     "output_type": "stream",
     "text": [
      "515 / 1000\r"
     ]
    },
    {
     "name": "stdout",
     "output_type": "stream",
     "text": [
      "516 / 1000\r"
     ]
    },
    {
     "name": "stdout",
     "output_type": "stream",
     "text": [
      "517 / 1000\r"
     ]
    },
    {
     "name": "stdout",
     "output_type": "stream",
     "text": [
      "518 / 1000\r"
     ]
    },
    {
     "name": "stdout",
     "output_type": "stream",
     "text": [
      "519 / 1000\r"
     ]
    },
    {
     "name": "stdout",
     "output_type": "stream",
     "text": [
      "520 / 1000\r"
     ]
    },
    {
     "name": "stdout",
     "output_type": "stream",
     "text": [
      "521 / 1000\r"
     ]
    },
    {
     "name": "stdout",
     "output_type": "stream",
     "text": [
      "522 / 1000\r"
     ]
    },
    {
     "name": "stdout",
     "output_type": "stream",
     "text": [
      "523 / 1000\r"
     ]
    },
    {
     "name": "stdout",
     "output_type": "stream",
     "text": [
      "524 / 1000\r"
     ]
    },
    {
     "name": "stdout",
     "output_type": "stream",
     "text": [
      "525 / 1000\r"
     ]
    },
    {
     "name": "stdout",
     "output_type": "stream",
     "text": [
      "526 / 1000\r"
     ]
    },
    {
     "name": "stdout",
     "output_type": "stream",
     "text": [
      "527 / 1000\r"
     ]
    },
    {
     "name": "stdout",
     "output_type": "stream",
     "text": [
      "528 / 1000\r"
     ]
    },
    {
     "name": "stdout",
     "output_type": "stream",
     "text": [
      "529 / 1000\r"
     ]
    },
    {
     "name": "stdout",
     "output_type": "stream",
     "text": [
      "530 / 1000\r"
     ]
    },
    {
     "name": "stdout",
     "output_type": "stream",
     "text": [
      "531 / 1000\r"
     ]
    },
    {
     "name": "stdout",
     "output_type": "stream",
     "text": [
      "532 / 1000\r"
     ]
    },
    {
     "name": "stdout",
     "output_type": "stream",
     "text": [
      "533 / 1000\r"
     ]
    },
    {
     "name": "stdout",
     "output_type": "stream",
     "text": [
      "534 / 1000\r"
     ]
    },
    {
     "name": "stdout",
     "output_type": "stream",
     "text": [
      "535 / 1000\r"
     ]
    },
    {
     "name": "stdout",
     "output_type": "stream",
     "text": [
      "536 / 1000\r"
     ]
    },
    {
     "name": "stdout",
     "output_type": "stream",
     "text": [
      "537 / 1000\r"
     ]
    },
    {
     "name": "stdout",
     "output_type": "stream",
     "text": [
      "538 / 1000\r"
     ]
    },
    {
     "name": "stdout",
     "output_type": "stream",
     "text": [
      "539 / 1000\r"
     ]
    },
    {
     "name": "stdout",
     "output_type": "stream",
     "text": [
      "540 / 1000\r"
     ]
    },
    {
     "name": "stdout",
     "output_type": "stream",
     "text": [
      "541 / 1000\r"
     ]
    },
    {
     "name": "stdout",
     "output_type": "stream",
     "text": [
      "542 / 1000\r"
     ]
    },
    {
     "name": "stdout",
     "output_type": "stream",
     "text": [
      "543 / 1000\r"
     ]
    },
    {
     "name": "stdout",
     "output_type": "stream",
     "text": [
      "544 / 1000\r"
     ]
    },
    {
     "name": "stdout",
     "output_type": "stream",
     "text": [
      "545 / 1000\r"
     ]
    },
    {
     "name": "stdout",
     "output_type": "stream",
     "text": [
      "546 / 1000\r"
     ]
    },
    {
     "name": "stdout",
     "output_type": "stream",
     "text": [
      "547 / 1000\r"
     ]
    },
    {
     "name": "stdout",
     "output_type": "stream",
     "text": [
      "548 / 1000\r"
     ]
    },
    {
     "name": "stdout",
     "output_type": "stream",
     "text": [
      "549 / 1000\r"
     ]
    },
    {
     "name": "stdout",
     "output_type": "stream",
     "text": [
      "550 / 1000\r"
     ]
    },
    {
     "name": "stdout",
     "output_type": "stream",
     "text": [
      "551 / 1000\r"
     ]
    },
    {
     "name": "stdout",
     "output_type": "stream",
     "text": [
      "552 / 1000\r"
     ]
    },
    {
     "name": "stdout",
     "output_type": "stream",
     "text": [
      "553 / 1000\r"
     ]
    },
    {
     "name": "stdout",
     "output_type": "stream",
     "text": [
      "554 / 1000\r"
     ]
    },
    {
     "name": "stdout",
     "output_type": "stream",
     "text": [
      "555 / 1000\r"
     ]
    },
    {
     "name": "stdout",
     "output_type": "stream",
     "text": [
      "556 / 1000\r"
     ]
    },
    {
     "name": "stdout",
     "output_type": "stream",
     "text": [
      "557 / 1000\r"
     ]
    },
    {
     "name": "stdout",
     "output_type": "stream",
     "text": [
      "558 / 1000\r"
     ]
    },
    {
     "name": "stdout",
     "output_type": "stream",
     "text": [
      "559 / 1000\r"
     ]
    },
    {
     "name": "stdout",
     "output_type": "stream",
     "text": [
      "560 / 1000\r"
     ]
    },
    {
     "name": "stdout",
     "output_type": "stream",
     "text": [
      "561 / 1000\r"
     ]
    },
    {
     "name": "stdout",
     "output_type": "stream",
     "text": [
      "562 / 1000\r"
     ]
    },
    {
     "name": "stdout",
     "output_type": "stream",
     "text": [
      "563 / 1000\r"
     ]
    },
    {
     "name": "stdout",
     "output_type": "stream",
     "text": [
      "564 / 1000\r"
     ]
    },
    {
     "name": "stdout",
     "output_type": "stream",
     "text": [
      "565 / 1000\r"
     ]
    },
    {
     "name": "stdout",
     "output_type": "stream",
     "text": [
      "566 / 1000\r"
     ]
    },
    {
     "name": "stdout",
     "output_type": "stream",
     "text": [
      "567 / 1000\r"
     ]
    },
    {
     "name": "stdout",
     "output_type": "stream",
     "text": [
      "568 / 1000\r"
     ]
    },
    {
     "name": "stdout",
     "output_type": "stream",
     "text": [
      "569 / 1000\r"
     ]
    },
    {
     "name": "stdout",
     "output_type": "stream",
     "text": [
      "570 / 1000\r"
     ]
    },
    {
     "name": "stdout",
     "output_type": "stream",
     "text": [
      "571 / 1000\r"
     ]
    },
    {
     "name": "stdout",
     "output_type": "stream",
     "text": [
      "572 / 1000\r"
     ]
    },
    {
     "name": "stdout",
     "output_type": "stream",
     "text": [
      "573 / 1000\r"
     ]
    },
    {
     "name": "stdout",
     "output_type": "stream",
     "text": [
      "574 / 1000\r"
     ]
    },
    {
     "name": "stdout",
     "output_type": "stream",
     "text": [
      "575 / 1000\r"
     ]
    },
    {
     "name": "stdout",
     "output_type": "stream",
     "text": [
      "576 / 1000\r"
     ]
    },
    {
     "name": "stdout",
     "output_type": "stream",
     "text": [
      "577 / 1000\r"
     ]
    },
    {
     "name": "stdout",
     "output_type": "stream",
     "text": [
      "578 / 1000\r"
     ]
    },
    {
     "name": "stdout",
     "output_type": "stream",
     "text": [
      "579 / 1000\r"
     ]
    },
    {
     "name": "stdout",
     "output_type": "stream",
     "text": [
      "580 / 1000\r"
     ]
    },
    {
     "name": "stdout",
     "output_type": "stream",
     "text": [
      "581 / 1000\r"
     ]
    },
    {
     "name": "stdout",
     "output_type": "stream",
     "text": [
      "582 / 1000\r"
     ]
    },
    {
     "name": "stdout",
     "output_type": "stream",
     "text": [
      "583 / 1000\r"
     ]
    },
    {
     "name": "stdout",
     "output_type": "stream",
     "text": [
      "584 / 1000\r"
     ]
    },
    {
     "name": "stdout",
     "output_type": "stream",
     "text": [
      "585 / 1000\r"
     ]
    },
    {
     "name": "stdout",
     "output_type": "stream",
     "text": [
      "586 / 1000\r"
     ]
    },
    {
     "name": "stdout",
     "output_type": "stream",
     "text": [
      "587 / 1000\r"
     ]
    },
    {
     "name": "stdout",
     "output_type": "stream",
     "text": [
      "588 / 1000\r"
     ]
    },
    {
     "name": "stdout",
     "output_type": "stream",
     "text": [
      "589 / 1000\r"
     ]
    },
    {
     "name": "stdout",
     "output_type": "stream",
     "text": [
      "590 / 1000\r"
     ]
    },
    {
     "name": "stdout",
     "output_type": "stream",
     "text": [
      "591 / 1000\r"
     ]
    },
    {
     "name": "stdout",
     "output_type": "stream",
     "text": [
      "592 / 1000\r"
     ]
    },
    {
     "name": "stdout",
     "output_type": "stream",
     "text": [
      "593 / 1000\r"
     ]
    },
    {
     "name": "stdout",
     "output_type": "stream",
     "text": [
      "594 / 1000\r"
     ]
    },
    {
     "name": "stdout",
     "output_type": "stream",
     "text": [
      "595 / 1000\r"
     ]
    },
    {
     "name": "stdout",
     "output_type": "stream",
     "text": [
      "596 / 1000\r"
     ]
    },
    {
     "name": "stdout",
     "output_type": "stream",
     "text": [
      "597 / 1000\r"
     ]
    },
    {
     "name": "stdout",
     "output_type": "stream",
     "text": [
      "598 / 1000\r"
     ]
    },
    {
     "name": "stdout",
     "output_type": "stream",
     "text": [
      "599 / 1000\r"
     ]
    },
    {
     "name": "stdout",
     "output_type": "stream",
     "text": [
      "600 / 1000\r"
     ]
    },
    {
     "name": "stdout",
     "output_type": "stream",
     "text": [
      "601 / 1000\r"
     ]
    },
    {
     "name": "stdout",
     "output_type": "stream",
     "text": [
      "602 / 1000\r"
     ]
    },
    {
     "name": "stdout",
     "output_type": "stream",
     "text": [
      "603 / 1000\r"
     ]
    },
    {
     "name": "stdout",
     "output_type": "stream",
     "text": [
      "604 / 1000\r"
     ]
    },
    {
     "name": "stdout",
     "output_type": "stream",
     "text": [
      "605 / 1000\r"
     ]
    },
    {
     "name": "stdout",
     "output_type": "stream",
     "text": [
      "606 / 1000\r"
     ]
    },
    {
     "name": "stdout",
     "output_type": "stream",
     "text": [
      "607 / 1000\r"
     ]
    },
    {
     "name": "stdout",
     "output_type": "stream",
     "text": [
      "608 / 1000\r"
     ]
    },
    {
     "name": "stdout",
     "output_type": "stream",
     "text": [
      "609 / 1000\r"
     ]
    },
    {
     "name": "stdout",
     "output_type": "stream",
     "text": [
      "610 / 1000\r"
     ]
    },
    {
     "name": "stdout",
     "output_type": "stream",
     "text": [
      "611 / 1000\r"
     ]
    },
    {
     "name": "stdout",
     "output_type": "stream",
     "text": [
      "612 / 1000\r"
     ]
    },
    {
     "name": "stdout",
     "output_type": "stream",
     "text": [
      "613 / 1000\r"
     ]
    },
    {
     "name": "stdout",
     "output_type": "stream",
     "text": [
      "614 / 1000\r"
     ]
    },
    {
     "name": "stdout",
     "output_type": "stream",
     "text": [
      "615 / 1000\r"
     ]
    },
    {
     "name": "stdout",
     "output_type": "stream",
     "text": [
      "616 / 1000\r"
     ]
    },
    {
     "name": "stdout",
     "output_type": "stream",
     "text": [
      "617 / 1000\r"
     ]
    },
    {
     "name": "stdout",
     "output_type": "stream",
     "text": [
      "618 / 1000\r"
     ]
    },
    {
     "name": "stdout",
     "output_type": "stream",
     "text": [
      "619 / 1000\r"
     ]
    },
    {
     "name": "stdout",
     "output_type": "stream",
     "text": [
      "620 / 1000\r"
     ]
    },
    {
     "name": "stdout",
     "output_type": "stream",
     "text": [
      "621 / 1000\r"
     ]
    },
    {
     "name": "stdout",
     "output_type": "stream",
     "text": [
      "622 / 1000\r"
     ]
    },
    {
     "name": "stdout",
     "output_type": "stream",
     "text": [
      "623 / 1000\r"
     ]
    },
    {
     "name": "stdout",
     "output_type": "stream",
     "text": [
      "624 / 1000\r"
     ]
    },
    {
     "name": "stdout",
     "output_type": "stream",
     "text": [
      "625 / 1000\r"
     ]
    },
    {
     "name": "stdout",
     "output_type": "stream",
     "text": [
      "626 / 1000\r"
     ]
    },
    {
     "name": "stdout",
     "output_type": "stream",
     "text": [
      "627 / 1000\r"
     ]
    },
    {
     "name": "stdout",
     "output_type": "stream",
     "text": [
      "628 / 1000\r"
     ]
    },
    {
     "name": "stdout",
     "output_type": "stream",
     "text": [
      "629 / 1000\r"
     ]
    },
    {
     "name": "stdout",
     "output_type": "stream",
     "text": [
      "630 / 1000\r"
     ]
    },
    {
     "name": "stdout",
     "output_type": "stream",
     "text": [
      "631 / 1000\r"
     ]
    },
    {
     "name": "stdout",
     "output_type": "stream",
     "text": [
      "632 / 1000\r"
     ]
    },
    {
     "name": "stdout",
     "output_type": "stream",
     "text": [
      "633 / 1000\r"
     ]
    },
    {
     "name": "stdout",
     "output_type": "stream",
     "text": [
      "634 / 1000\r"
     ]
    },
    {
     "name": "stdout",
     "output_type": "stream",
     "text": [
      "635 / 1000\r"
     ]
    },
    {
     "name": "stdout",
     "output_type": "stream",
     "text": [
      "636 / 1000\r"
     ]
    },
    {
     "name": "stdout",
     "output_type": "stream",
     "text": [
      "637 / 1000\r"
     ]
    },
    {
     "name": "stdout",
     "output_type": "stream",
     "text": [
      "638 / 1000\r"
     ]
    },
    {
     "name": "stdout",
     "output_type": "stream",
     "text": [
      "639 / 1000\r"
     ]
    },
    {
     "name": "stdout",
     "output_type": "stream",
     "text": [
      "640 / 1000\r"
     ]
    },
    {
     "name": "stdout",
     "output_type": "stream",
     "text": [
      "641 / 1000\r"
     ]
    },
    {
     "name": "stdout",
     "output_type": "stream",
     "text": [
      "642 / 1000\r"
     ]
    },
    {
     "name": "stdout",
     "output_type": "stream",
     "text": [
      "643 / 1000\r"
     ]
    },
    {
     "name": "stdout",
     "output_type": "stream",
     "text": [
      "644 / 1000\r"
     ]
    },
    {
     "name": "stdout",
     "output_type": "stream",
     "text": [
      "645 / 1000\r"
     ]
    },
    {
     "name": "stdout",
     "output_type": "stream",
     "text": [
      "646 / 1000\r"
     ]
    },
    {
     "name": "stdout",
     "output_type": "stream",
     "text": [
      "647 / 1000\r"
     ]
    },
    {
     "name": "stdout",
     "output_type": "stream",
     "text": [
      "648 / 1000\r"
     ]
    },
    {
     "name": "stdout",
     "output_type": "stream",
     "text": [
      "649 / 1000\r"
     ]
    },
    {
     "name": "stdout",
     "output_type": "stream",
     "text": [
      "650 / 1000\r"
     ]
    },
    {
     "name": "stdout",
     "output_type": "stream",
     "text": [
      "651 / 1000\r"
     ]
    },
    {
     "name": "stdout",
     "output_type": "stream",
     "text": [
      "652 / 1000\r"
     ]
    },
    {
     "name": "stdout",
     "output_type": "stream",
     "text": [
      "653 / 1000\r"
     ]
    },
    {
     "name": "stdout",
     "output_type": "stream",
     "text": [
      "654 / 1000\r"
     ]
    },
    {
     "name": "stdout",
     "output_type": "stream",
     "text": [
      "655 / 1000\r"
     ]
    },
    {
     "name": "stdout",
     "output_type": "stream",
     "text": [
      "656 / 1000\r"
     ]
    },
    {
     "name": "stdout",
     "output_type": "stream",
     "text": [
      "657 / 1000\r"
     ]
    },
    {
     "name": "stdout",
     "output_type": "stream",
     "text": [
      "658 / 1000\r"
     ]
    },
    {
     "name": "stdout",
     "output_type": "stream",
     "text": [
      "659 / 1000\r"
     ]
    },
    {
     "name": "stdout",
     "output_type": "stream",
     "text": [
      "660 / 1000\r"
     ]
    },
    {
     "name": "stdout",
     "output_type": "stream",
     "text": [
      "661 / 1000\r"
     ]
    },
    {
     "name": "stdout",
     "output_type": "stream",
     "text": [
      "662 / 1000\r"
     ]
    },
    {
     "name": "stdout",
     "output_type": "stream",
     "text": [
      "663 / 1000\r"
     ]
    },
    {
     "name": "stdout",
     "output_type": "stream",
     "text": [
      "664 / 1000\r"
     ]
    },
    {
     "name": "stdout",
     "output_type": "stream",
     "text": [
      "665 / 1000\r"
     ]
    },
    {
     "name": "stdout",
     "output_type": "stream",
     "text": [
      "666 / 1000\r"
     ]
    },
    {
     "name": "stdout",
     "output_type": "stream",
     "text": [
      "667 / 1000\r"
     ]
    },
    {
     "name": "stdout",
     "output_type": "stream",
     "text": [
      "668 / 1000\r"
     ]
    },
    {
     "name": "stdout",
     "output_type": "stream",
     "text": [
      "669 / 1000\r"
     ]
    },
    {
     "name": "stdout",
     "output_type": "stream",
     "text": [
      "670 / 1000\r"
     ]
    },
    {
     "name": "stdout",
     "output_type": "stream",
     "text": [
      "671 / 1000\r"
     ]
    },
    {
     "name": "stdout",
     "output_type": "stream",
     "text": [
      "672 / 1000\r"
     ]
    },
    {
     "name": "stdout",
     "output_type": "stream",
     "text": [
      "673 / 1000\r"
     ]
    },
    {
     "name": "stdout",
     "output_type": "stream",
     "text": [
      "674 / 1000\r"
     ]
    },
    {
     "name": "stdout",
     "output_type": "stream",
     "text": [
      "675 / 1000\r"
     ]
    },
    {
     "name": "stdout",
     "output_type": "stream",
     "text": [
      "676 / 1000\r"
     ]
    },
    {
     "name": "stdout",
     "output_type": "stream",
     "text": [
      "677 / 1000\r"
     ]
    },
    {
     "name": "stdout",
     "output_type": "stream",
     "text": [
      "678 / 1000\r"
     ]
    },
    {
     "name": "stdout",
     "output_type": "stream",
     "text": [
      "679 / 1000\r"
     ]
    },
    {
     "name": "stdout",
     "output_type": "stream",
     "text": [
      "680 / 1000\r"
     ]
    },
    {
     "name": "stdout",
     "output_type": "stream",
     "text": [
      "681 / 1000\r"
     ]
    },
    {
     "name": "stdout",
     "output_type": "stream",
     "text": [
      "682 / 1000\r"
     ]
    },
    {
     "name": "stdout",
     "output_type": "stream",
     "text": [
      "683 / 1000\r"
     ]
    },
    {
     "name": "stdout",
     "output_type": "stream",
     "text": [
      "684 / 1000\r"
     ]
    },
    {
     "name": "stdout",
     "output_type": "stream",
     "text": [
      "685 / 1000\r"
     ]
    },
    {
     "name": "stdout",
     "output_type": "stream",
     "text": [
      "686 / 1000\r"
     ]
    },
    {
     "name": "stdout",
     "output_type": "stream",
     "text": [
      "687 / 1000\r"
     ]
    },
    {
     "name": "stdout",
     "output_type": "stream",
     "text": [
      "688 / 1000\r"
     ]
    },
    {
     "name": "stdout",
     "output_type": "stream",
     "text": [
      "689 / 1000\r"
     ]
    },
    {
     "name": "stdout",
     "output_type": "stream",
     "text": [
      "690 / 1000\r"
     ]
    },
    {
     "name": "stdout",
     "output_type": "stream",
     "text": [
      "691 / 1000\r"
     ]
    },
    {
     "name": "stdout",
     "output_type": "stream",
     "text": [
      "692 / 1000\r"
     ]
    },
    {
     "name": "stdout",
     "output_type": "stream",
     "text": [
      "693 / 1000\r"
     ]
    },
    {
     "name": "stdout",
     "output_type": "stream",
     "text": [
      "694 / 1000\r"
     ]
    },
    {
     "name": "stdout",
     "output_type": "stream",
     "text": [
      "695 / 1000\r"
     ]
    },
    {
     "name": "stdout",
     "output_type": "stream",
     "text": [
      "696 / 1000\r"
     ]
    },
    {
     "name": "stdout",
     "output_type": "stream",
     "text": [
      "697 / 1000\r"
     ]
    },
    {
     "name": "stdout",
     "output_type": "stream",
     "text": [
      "698 / 1000\r"
     ]
    },
    {
     "name": "stdout",
     "output_type": "stream",
     "text": [
      "699 / 1000\r"
     ]
    },
    {
     "name": "stdout",
     "output_type": "stream",
     "text": [
      "700 / 1000\r"
     ]
    },
    {
     "name": "stdout",
     "output_type": "stream",
     "text": [
      "701 / 1000\r"
     ]
    },
    {
     "name": "stdout",
     "output_type": "stream",
     "text": [
      "702 / 1000\r"
     ]
    },
    {
     "name": "stdout",
     "output_type": "stream",
     "text": [
      "703 / 1000\r"
     ]
    },
    {
     "name": "stdout",
     "output_type": "stream",
     "text": [
      "704 / 1000\r"
     ]
    },
    {
     "name": "stdout",
     "output_type": "stream",
     "text": [
      "705 / 1000\r"
     ]
    },
    {
     "name": "stdout",
     "output_type": "stream",
     "text": [
      "706 / 1000\r"
     ]
    },
    {
     "name": "stdout",
     "output_type": "stream",
     "text": [
      "707 / 1000\r"
     ]
    },
    {
     "name": "stdout",
     "output_type": "stream",
     "text": [
      "708 / 1000\r"
     ]
    },
    {
     "name": "stdout",
     "output_type": "stream",
     "text": [
      "709 / 1000\r"
     ]
    },
    {
     "name": "stdout",
     "output_type": "stream",
     "text": [
      "710 / 1000\r"
     ]
    },
    {
     "name": "stdout",
     "output_type": "stream",
     "text": [
      "711 / 1000\r"
     ]
    },
    {
     "name": "stdout",
     "output_type": "stream",
     "text": [
      "712 / 1000\r"
     ]
    },
    {
     "name": "stdout",
     "output_type": "stream",
     "text": [
      "713 / 1000\r"
     ]
    },
    {
     "name": "stdout",
     "output_type": "stream",
     "text": [
      "714 / 1000\r"
     ]
    },
    {
     "name": "stdout",
     "output_type": "stream",
     "text": [
      "715 / 1000\r"
     ]
    },
    {
     "name": "stdout",
     "output_type": "stream",
     "text": [
      "716 / 1000\r"
     ]
    },
    {
     "name": "stdout",
     "output_type": "stream",
     "text": [
      "717 / 1000\r"
     ]
    },
    {
     "name": "stdout",
     "output_type": "stream",
     "text": [
      "718 / 1000\r"
     ]
    },
    {
     "name": "stdout",
     "output_type": "stream",
     "text": [
      "719 / 1000\r"
     ]
    },
    {
     "name": "stdout",
     "output_type": "stream",
     "text": [
      "720 / 1000\r"
     ]
    },
    {
     "name": "stdout",
     "output_type": "stream",
     "text": [
      "721 / 1000\r"
     ]
    },
    {
     "name": "stdout",
     "output_type": "stream",
     "text": [
      "722 / 1000\r"
     ]
    },
    {
     "name": "stdout",
     "output_type": "stream",
     "text": [
      "723 / 1000\r"
     ]
    },
    {
     "name": "stdout",
     "output_type": "stream",
     "text": [
      "724 / 1000\r"
     ]
    },
    {
     "name": "stdout",
     "output_type": "stream",
     "text": [
      "725 / 1000\r"
     ]
    },
    {
     "name": "stdout",
     "output_type": "stream",
     "text": [
      "726 / 1000\r"
     ]
    },
    {
     "name": "stdout",
     "output_type": "stream",
     "text": [
      "727 / 1000\r"
     ]
    },
    {
     "name": "stdout",
     "output_type": "stream",
     "text": [
      "728 / 1000\r"
     ]
    },
    {
     "name": "stdout",
     "output_type": "stream",
     "text": [
      "729 / 1000\r"
     ]
    },
    {
     "name": "stdout",
     "output_type": "stream",
     "text": [
      "730 / 1000\r"
     ]
    },
    {
     "name": "stdout",
     "output_type": "stream",
     "text": [
      "731 / 1000\r"
     ]
    },
    {
     "name": "stdout",
     "output_type": "stream",
     "text": [
      "732 / 1000\r"
     ]
    },
    {
     "name": "stdout",
     "output_type": "stream",
     "text": [
      "733 / 1000\r"
     ]
    },
    {
     "name": "stdout",
     "output_type": "stream",
     "text": [
      "734 / 1000\r"
     ]
    },
    {
     "name": "stdout",
     "output_type": "stream",
     "text": [
      "735 / 1000\r"
     ]
    },
    {
     "name": "stdout",
     "output_type": "stream",
     "text": [
      "736 / 1000\r"
     ]
    },
    {
     "name": "stdout",
     "output_type": "stream",
     "text": [
      "737 / 1000\r"
     ]
    },
    {
     "name": "stdout",
     "output_type": "stream",
     "text": [
      "738 / 1000\r"
     ]
    },
    {
     "name": "stdout",
     "output_type": "stream",
     "text": [
      "739 / 1000\r"
     ]
    },
    {
     "name": "stdout",
     "output_type": "stream",
     "text": [
      "740 / 1000\r"
     ]
    },
    {
     "name": "stdout",
     "output_type": "stream",
     "text": [
      "741 / 1000\r"
     ]
    },
    {
     "name": "stdout",
     "output_type": "stream",
     "text": [
      "742 / 1000\r"
     ]
    },
    {
     "name": "stdout",
     "output_type": "stream",
     "text": [
      "743 / 1000\r"
     ]
    },
    {
     "name": "stdout",
     "output_type": "stream",
     "text": [
      "744 / 1000\r"
     ]
    },
    {
     "name": "stdout",
     "output_type": "stream",
     "text": [
      "745 / 1000\r"
     ]
    },
    {
     "name": "stdout",
     "output_type": "stream",
     "text": [
      "746 / 1000\r"
     ]
    },
    {
     "name": "stdout",
     "output_type": "stream",
     "text": [
      "747 / 1000\r"
     ]
    },
    {
     "name": "stdout",
     "output_type": "stream",
     "text": [
      "748 / 1000\r"
     ]
    },
    {
     "name": "stdout",
     "output_type": "stream",
     "text": [
      "749 / 1000\r"
     ]
    },
    {
     "name": "stdout",
     "output_type": "stream",
     "text": [
      "750 / 1000\r"
     ]
    },
    {
     "name": "stdout",
     "output_type": "stream",
     "text": [
      "751 / 1000\r"
     ]
    },
    {
     "name": "stdout",
     "output_type": "stream",
     "text": [
      "752 / 1000\r"
     ]
    },
    {
     "name": "stdout",
     "output_type": "stream",
     "text": [
      "753 / 1000\r"
     ]
    },
    {
     "name": "stdout",
     "output_type": "stream",
     "text": [
      "754 / 1000\r"
     ]
    },
    {
     "name": "stdout",
     "output_type": "stream",
     "text": [
      "755 / 1000\r"
     ]
    },
    {
     "name": "stdout",
     "output_type": "stream",
     "text": [
      "756 / 1000\r"
     ]
    },
    {
     "name": "stdout",
     "output_type": "stream",
     "text": [
      "757 / 1000\r"
     ]
    },
    {
     "name": "stdout",
     "output_type": "stream",
     "text": [
      "758 / 1000\r"
     ]
    },
    {
     "name": "stdout",
     "output_type": "stream",
     "text": [
      "759 / 1000\r"
     ]
    },
    {
     "name": "stdout",
     "output_type": "stream",
     "text": [
      "760 / 1000\r"
     ]
    },
    {
     "name": "stdout",
     "output_type": "stream",
     "text": [
      "761 / 1000\r"
     ]
    },
    {
     "name": "stdout",
     "output_type": "stream",
     "text": [
      "762 / 1000\r"
     ]
    },
    {
     "name": "stdout",
     "output_type": "stream",
     "text": [
      "763 / 1000\r"
     ]
    },
    {
     "name": "stdout",
     "output_type": "stream",
     "text": [
      "764 / 1000\r"
     ]
    },
    {
     "name": "stdout",
     "output_type": "stream",
     "text": [
      "765 / 1000\r"
     ]
    },
    {
     "name": "stdout",
     "output_type": "stream",
     "text": [
      "766 / 1000\r"
     ]
    },
    {
     "name": "stdout",
     "output_type": "stream",
     "text": [
      "767 / 1000\r"
     ]
    },
    {
     "name": "stdout",
     "output_type": "stream",
     "text": [
      "768 / 1000\r"
     ]
    },
    {
     "name": "stdout",
     "output_type": "stream",
     "text": [
      "769 / 1000\r"
     ]
    },
    {
     "name": "stdout",
     "output_type": "stream",
     "text": [
      "770 / 1000\r"
     ]
    },
    {
     "name": "stdout",
     "output_type": "stream",
     "text": [
      "771 / 1000\r"
     ]
    },
    {
     "name": "stdout",
     "output_type": "stream",
     "text": [
      "772 / 1000\r"
     ]
    },
    {
     "name": "stdout",
     "output_type": "stream",
     "text": [
      "773 / 1000\r"
     ]
    },
    {
     "name": "stdout",
     "output_type": "stream",
     "text": [
      "774 / 1000\r"
     ]
    },
    {
     "name": "stdout",
     "output_type": "stream",
     "text": [
      "775 / 1000\r"
     ]
    },
    {
     "name": "stdout",
     "output_type": "stream",
     "text": [
      "776 / 1000\r"
     ]
    },
    {
     "name": "stdout",
     "output_type": "stream",
     "text": [
      "777 / 1000\r"
     ]
    },
    {
     "name": "stdout",
     "output_type": "stream",
     "text": [
      "778 / 1000\r"
     ]
    },
    {
     "name": "stdout",
     "output_type": "stream",
     "text": [
      "779 / 1000\r"
     ]
    },
    {
     "name": "stdout",
     "output_type": "stream",
     "text": [
      "780 / 1000\r"
     ]
    },
    {
     "name": "stdout",
     "output_type": "stream",
     "text": [
      "781 / 1000\r"
     ]
    },
    {
     "name": "stdout",
     "output_type": "stream",
     "text": [
      "782 / 1000\r"
     ]
    },
    {
     "name": "stdout",
     "output_type": "stream",
     "text": [
      "783 / 1000\r"
     ]
    },
    {
     "name": "stdout",
     "output_type": "stream",
     "text": [
      "784 / 1000\r"
     ]
    },
    {
     "name": "stdout",
     "output_type": "stream",
     "text": [
      "785 / 1000\r"
     ]
    },
    {
     "name": "stdout",
     "output_type": "stream",
     "text": [
      "786 / 1000\r"
     ]
    },
    {
     "name": "stdout",
     "output_type": "stream",
     "text": [
      "787 / 1000\r"
     ]
    },
    {
     "name": "stdout",
     "output_type": "stream",
     "text": [
      "788 / 1000\r"
     ]
    },
    {
     "name": "stdout",
     "output_type": "stream",
     "text": [
      "789 / 1000\r"
     ]
    },
    {
     "name": "stdout",
     "output_type": "stream",
     "text": [
      "790 / 1000\r"
     ]
    },
    {
     "name": "stdout",
     "output_type": "stream",
     "text": [
      "791 / 1000\r"
     ]
    },
    {
     "name": "stdout",
     "output_type": "stream",
     "text": [
      "792 / 1000\r"
     ]
    },
    {
     "name": "stdout",
     "output_type": "stream",
     "text": [
      "793 / 1000\r"
     ]
    },
    {
     "name": "stdout",
     "output_type": "stream",
     "text": [
      "794 / 1000\r"
     ]
    },
    {
     "name": "stdout",
     "output_type": "stream",
     "text": [
      "795 / 1000\r"
     ]
    },
    {
     "name": "stdout",
     "output_type": "stream",
     "text": [
      "796 / 1000\r"
     ]
    },
    {
     "name": "stdout",
     "output_type": "stream",
     "text": [
      "797 / 1000\r"
     ]
    },
    {
     "name": "stdout",
     "output_type": "stream",
     "text": [
      "798 / 1000\r"
     ]
    },
    {
     "name": "stdout",
     "output_type": "stream",
     "text": [
      "799 / 1000\r"
     ]
    },
    {
     "name": "stdout",
     "output_type": "stream",
     "text": [
      "800 / 1000\r"
     ]
    },
    {
     "name": "stdout",
     "output_type": "stream",
     "text": [
      "801 / 1000\r"
     ]
    },
    {
     "name": "stdout",
     "output_type": "stream",
     "text": [
      "802 / 1000\r"
     ]
    },
    {
     "name": "stdout",
     "output_type": "stream",
     "text": [
      "803 / 1000\r"
     ]
    },
    {
     "name": "stdout",
     "output_type": "stream",
     "text": [
      "804 / 1000\r"
     ]
    },
    {
     "name": "stdout",
     "output_type": "stream",
     "text": [
      "805 / 1000\r"
     ]
    },
    {
     "name": "stdout",
     "output_type": "stream",
     "text": [
      "806 / 1000\r"
     ]
    },
    {
     "name": "stdout",
     "output_type": "stream",
     "text": [
      "807 / 1000\r"
     ]
    },
    {
     "name": "stdout",
     "output_type": "stream",
     "text": [
      "808 / 1000\r"
     ]
    },
    {
     "name": "stdout",
     "output_type": "stream",
     "text": [
      "809 / 1000\r"
     ]
    },
    {
     "name": "stdout",
     "output_type": "stream",
     "text": [
      "810 / 1000\r"
     ]
    },
    {
     "name": "stdout",
     "output_type": "stream",
     "text": [
      "811 / 1000\r"
     ]
    },
    {
     "name": "stdout",
     "output_type": "stream",
     "text": [
      "812 / 1000\r"
     ]
    },
    {
     "name": "stdout",
     "output_type": "stream",
     "text": [
      "813 / 1000\r"
     ]
    },
    {
     "name": "stdout",
     "output_type": "stream",
     "text": [
      "814 / 1000\r"
     ]
    },
    {
     "name": "stdout",
     "output_type": "stream",
     "text": [
      "815 / 1000\r"
     ]
    },
    {
     "name": "stdout",
     "output_type": "stream",
     "text": [
      "816 / 1000\r"
     ]
    },
    {
     "name": "stdout",
     "output_type": "stream",
     "text": [
      "817 / 1000\r"
     ]
    },
    {
     "name": "stdout",
     "output_type": "stream",
     "text": [
      "818 / 1000\r"
     ]
    },
    {
     "name": "stdout",
     "output_type": "stream",
     "text": [
      "819 / 1000\r"
     ]
    },
    {
     "name": "stdout",
     "output_type": "stream",
     "text": [
      "820 / 1000\r"
     ]
    },
    {
     "name": "stdout",
     "output_type": "stream",
     "text": [
      "821 / 1000\r"
     ]
    },
    {
     "name": "stdout",
     "output_type": "stream",
     "text": [
      "822 / 1000\r"
     ]
    },
    {
     "name": "stdout",
     "output_type": "stream",
     "text": [
      "823 / 1000\r"
     ]
    },
    {
     "name": "stdout",
     "output_type": "stream",
     "text": [
      "824 / 1000\r"
     ]
    },
    {
     "name": "stdout",
     "output_type": "stream",
     "text": [
      "825 / 1000\r"
     ]
    },
    {
     "name": "stdout",
     "output_type": "stream",
     "text": [
      "826 / 1000\r"
     ]
    },
    {
     "name": "stdout",
     "output_type": "stream",
     "text": [
      "827 / 1000\r"
     ]
    },
    {
     "name": "stdout",
     "output_type": "stream",
     "text": [
      "828 / 1000\r"
     ]
    },
    {
     "name": "stdout",
     "output_type": "stream",
     "text": [
      "829 / 1000\r"
     ]
    },
    {
     "name": "stdout",
     "output_type": "stream",
     "text": [
      "830 / 1000\r"
     ]
    },
    {
     "name": "stdout",
     "output_type": "stream",
     "text": [
      "831 / 1000\r"
     ]
    },
    {
     "name": "stdout",
     "output_type": "stream",
     "text": [
      "832 / 1000\r"
     ]
    },
    {
     "name": "stdout",
     "output_type": "stream",
     "text": [
      "833 / 1000\r"
     ]
    },
    {
     "name": "stdout",
     "output_type": "stream",
     "text": [
      "834 / 1000\r"
     ]
    },
    {
     "name": "stdout",
     "output_type": "stream",
     "text": [
      "835 / 1000\r"
     ]
    },
    {
     "name": "stdout",
     "output_type": "stream",
     "text": [
      "836 / 1000\r"
     ]
    },
    {
     "name": "stdout",
     "output_type": "stream",
     "text": [
      "837 / 1000\r"
     ]
    },
    {
     "name": "stdout",
     "output_type": "stream",
     "text": [
      "838 / 1000\r"
     ]
    },
    {
     "name": "stdout",
     "output_type": "stream",
     "text": [
      "839 / 1000\r"
     ]
    },
    {
     "name": "stdout",
     "output_type": "stream",
     "text": [
      "840 / 1000\r"
     ]
    },
    {
     "name": "stdout",
     "output_type": "stream",
     "text": [
      "841 / 1000\r"
     ]
    },
    {
     "name": "stdout",
     "output_type": "stream",
     "text": [
      "842 / 1000\r"
     ]
    },
    {
     "name": "stdout",
     "output_type": "stream",
     "text": [
      "843 / 1000\r"
     ]
    },
    {
     "name": "stdout",
     "output_type": "stream",
     "text": [
      "844 / 1000\r"
     ]
    },
    {
     "name": "stdout",
     "output_type": "stream",
     "text": [
      "845 / 1000\r"
     ]
    },
    {
     "name": "stdout",
     "output_type": "stream",
     "text": [
      "846 / 1000\r"
     ]
    },
    {
     "name": "stdout",
     "output_type": "stream",
     "text": [
      "847 / 1000\r"
     ]
    },
    {
     "name": "stdout",
     "output_type": "stream",
     "text": [
      "848 / 1000\r"
     ]
    },
    {
     "name": "stdout",
     "output_type": "stream",
     "text": [
      "849 / 1000\r"
     ]
    },
    {
     "name": "stdout",
     "output_type": "stream",
     "text": [
      "850 / 1000\r"
     ]
    },
    {
     "name": "stdout",
     "output_type": "stream",
     "text": [
      "851 / 1000\r"
     ]
    },
    {
     "name": "stdout",
     "output_type": "stream",
     "text": [
      "852 / 1000\r"
     ]
    },
    {
     "name": "stdout",
     "output_type": "stream",
     "text": [
      "853 / 1000\r"
     ]
    },
    {
     "name": "stdout",
     "output_type": "stream",
     "text": [
      "854 / 1000\r"
     ]
    },
    {
     "name": "stdout",
     "output_type": "stream",
     "text": [
      "855 / 1000\r"
     ]
    },
    {
     "name": "stdout",
     "output_type": "stream",
     "text": [
      "856 / 1000\r"
     ]
    },
    {
     "name": "stdout",
     "output_type": "stream",
     "text": [
      "857 / 1000\r"
     ]
    },
    {
     "name": "stdout",
     "output_type": "stream",
     "text": [
      "858 / 1000\r"
     ]
    },
    {
     "name": "stdout",
     "output_type": "stream",
     "text": [
      "859 / 1000\r"
     ]
    },
    {
     "name": "stdout",
     "output_type": "stream",
     "text": [
      "860 / 1000\r"
     ]
    },
    {
     "name": "stdout",
     "output_type": "stream",
     "text": [
      "861 / 1000\r"
     ]
    },
    {
     "name": "stdout",
     "output_type": "stream",
     "text": [
      "862 / 1000\r"
     ]
    },
    {
     "name": "stdout",
     "output_type": "stream",
     "text": [
      "863 / 1000\r"
     ]
    },
    {
     "name": "stdout",
     "output_type": "stream",
     "text": [
      "864 / 1000\r"
     ]
    },
    {
     "name": "stdout",
     "output_type": "stream",
     "text": [
      "865 / 1000\r"
     ]
    },
    {
     "name": "stdout",
     "output_type": "stream",
     "text": [
      "866 / 1000\r"
     ]
    },
    {
     "name": "stdout",
     "output_type": "stream",
     "text": [
      "867 / 1000\r"
     ]
    },
    {
     "name": "stdout",
     "output_type": "stream",
     "text": [
      "868 / 1000\r"
     ]
    },
    {
     "name": "stdout",
     "output_type": "stream",
     "text": [
      "869 / 1000\r"
     ]
    },
    {
     "name": "stdout",
     "output_type": "stream",
     "text": [
      "870 / 1000\r"
     ]
    },
    {
     "name": "stdout",
     "output_type": "stream",
     "text": [
      "871 / 1000\r"
     ]
    },
    {
     "name": "stdout",
     "output_type": "stream",
     "text": [
      "872 / 1000\r"
     ]
    },
    {
     "name": "stdout",
     "output_type": "stream",
     "text": [
      "873 / 1000\r"
     ]
    },
    {
     "name": "stdout",
     "output_type": "stream",
     "text": [
      "874 / 1000\r"
     ]
    },
    {
     "name": "stdout",
     "output_type": "stream",
     "text": [
      "875 / 1000\r"
     ]
    },
    {
     "name": "stdout",
     "output_type": "stream",
     "text": [
      "876 / 1000\r"
     ]
    },
    {
     "name": "stdout",
     "output_type": "stream",
     "text": [
      "877 / 1000\r"
     ]
    },
    {
     "name": "stdout",
     "output_type": "stream",
     "text": [
      "878 / 1000\r"
     ]
    },
    {
     "name": "stdout",
     "output_type": "stream",
     "text": [
      "879 / 1000\r"
     ]
    },
    {
     "name": "stdout",
     "output_type": "stream",
     "text": [
      "880 / 1000\r"
     ]
    },
    {
     "name": "stdout",
     "output_type": "stream",
     "text": [
      "881 / 1000\r"
     ]
    },
    {
     "name": "stdout",
     "output_type": "stream",
     "text": [
      "882 / 1000\r"
     ]
    },
    {
     "name": "stdout",
     "output_type": "stream",
     "text": [
      "883 / 1000\r"
     ]
    },
    {
     "name": "stdout",
     "output_type": "stream",
     "text": [
      "884 / 1000\r"
     ]
    },
    {
     "name": "stdout",
     "output_type": "stream",
     "text": [
      "885 / 1000\r"
     ]
    },
    {
     "name": "stdout",
     "output_type": "stream",
     "text": [
      "886 / 1000\r"
     ]
    },
    {
     "name": "stdout",
     "output_type": "stream",
     "text": [
      "887 / 1000\r"
     ]
    },
    {
     "name": "stdout",
     "output_type": "stream",
     "text": [
      "888 / 1000\r"
     ]
    },
    {
     "name": "stdout",
     "output_type": "stream",
     "text": [
      "889 / 1000\r"
     ]
    },
    {
     "name": "stdout",
     "output_type": "stream",
     "text": [
      "890 / 1000\r"
     ]
    },
    {
     "name": "stdout",
     "output_type": "stream",
     "text": [
      "891 / 1000\r"
     ]
    },
    {
     "name": "stdout",
     "output_type": "stream",
     "text": [
      "892 / 1000\r"
     ]
    },
    {
     "name": "stdout",
     "output_type": "stream",
     "text": [
      "893 / 1000\r"
     ]
    },
    {
     "name": "stdout",
     "output_type": "stream",
     "text": [
      "894 / 1000\r"
     ]
    },
    {
     "name": "stdout",
     "output_type": "stream",
     "text": [
      "895 / 1000\r"
     ]
    },
    {
     "name": "stdout",
     "output_type": "stream",
     "text": [
      "896 / 1000\r"
     ]
    },
    {
     "name": "stdout",
     "output_type": "stream",
     "text": [
      "897 / 1000\r"
     ]
    },
    {
     "name": "stdout",
     "output_type": "stream",
     "text": [
      "898 / 1000\r"
     ]
    },
    {
     "name": "stdout",
     "output_type": "stream",
     "text": [
      "899 / 1000\r"
     ]
    },
    {
     "name": "stdout",
     "output_type": "stream",
     "text": [
      "900 / 1000\r"
     ]
    },
    {
     "name": "stdout",
     "output_type": "stream",
     "text": [
      "901 / 1000\r"
     ]
    },
    {
     "name": "stdout",
     "output_type": "stream",
     "text": [
      "902 / 1000\r"
     ]
    },
    {
     "name": "stdout",
     "output_type": "stream",
     "text": [
      "903 / 1000\r"
     ]
    },
    {
     "name": "stdout",
     "output_type": "stream",
     "text": [
      "904 / 1000\r"
     ]
    },
    {
     "name": "stdout",
     "output_type": "stream",
     "text": [
      "905 / 1000\r"
     ]
    },
    {
     "name": "stdout",
     "output_type": "stream",
     "text": [
      "906 / 1000\r"
     ]
    },
    {
     "name": "stdout",
     "output_type": "stream",
     "text": [
      "907 / 1000\r"
     ]
    },
    {
     "name": "stdout",
     "output_type": "stream",
     "text": [
      "908 / 1000\r"
     ]
    },
    {
     "name": "stdout",
     "output_type": "stream",
     "text": [
      "909 / 1000\r"
     ]
    },
    {
     "name": "stdout",
     "output_type": "stream",
     "text": [
      "910 / 1000\r"
     ]
    },
    {
     "name": "stdout",
     "output_type": "stream",
     "text": [
      "911 / 1000\r"
     ]
    },
    {
     "name": "stdout",
     "output_type": "stream",
     "text": [
      "912 / 1000\r"
     ]
    },
    {
     "name": "stdout",
     "output_type": "stream",
     "text": [
      "913 / 1000\r"
     ]
    },
    {
     "name": "stdout",
     "output_type": "stream",
     "text": [
      "914 / 1000\r"
     ]
    },
    {
     "name": "stdout",
     "output_type": "stream",
     "text": [
      "915 / 1000\r"
     ]
    },
    {
     "name": "stdout",
     "output_type": "stream",
     "text": [
      "916 / 1000\r"
     ]
    },
    {
     "name": "stdout",
     "output_type": "stream",
     "text": [
      "917 / 1000\r"
     ]
    },
    {
     "name": "stdout",
     "output_type": "stream",
     "text": [
      "918 / 1000\r"
     ]
    },
    {
     "name": "stdout",
     "output_type": "stream",
     "text": [
      "919 / 1000\r"
     ]
    },
    {
     "name": "stdout",
     "output_type": "stream",
     "text": [
      "920 / 1000\r"
     ]
    },
    {
     "name": "stdout",
     "output_type": "stream",
     "text": [
      "921 / 1000\r"
     ]
    },
    {
     "name": "stdout",
     "output_type": "stream",
     "text": [
      "922 / 1000\r"
     ]
    },
    {
     "name": "stdout",
     "output_type": "stream",
     "text": [
      "923 / 1000\r"
     ]
    },
    {
     "name": "stdout",
     "output_type": "stream",
     "text": [
      "924 / 1000\r"
     ]
    },
    {
     "name": "stdout",
     "output_type": "stream",
     "text": [
      "925 / 1000\r"
     ]
    },
    {
     "name": "stdout",
     "output_type": "stream",
     "text": [
      "926 / 1000\r"
     ]
    },
    {
     "name": "stdout",
     "output_type": "stream",
     "text": [
      "927 / 1000\r"
     ]
    },
    {
     "name": "stdout",
     "output_type": "stream",
     "text": [
      "928 / 1000\r"
     ]
    },
    {
     "name": "stdout",
     "output_type": "stream",
     "text": [
      "929 / 1000\r"
     ]
    },
    {
     "name": "stdout",
     "output_type": "stream",
     "text": [
      "930 / 1000\r"
     ]
    },
    {
     "name": "stdout",
     "output_type": "stream",
     "text": [
      "931 / 1000\r"
     ]
    },
    {
     "name": "stdout",
     "output_type": "stream",
     "text": [
      "932 / 1000\r"
     ]
    },
    {
     "name": "stdout",
     "output_type": "stream",
     "text": [
      "933 / 1000\r"
     ]
    },
    {
     "name": "stdout",
     "output_type": "stream",
     "text": [
      "934 / 1000\r"
     ]
    },
    {
     "name": "stdout",
     "output_type": "stream",
     "text": [
      "935 / 1000\r"
     ]
    },
    {
     "name": "stdout",
     "output_type": "stream",
     "text": [
      "936 / 1000\r"
     ]
    },
    {
     "name": "stdout",
     "output_type": "stream",
     "text": [
      "937 / 1000\r"
     ]
    },
    {
     "name": "stdout",
     "output_type": "stream",
     "text": [
      "938 / 1000\r"
     ]
    },
    {
     "name": "stdout",
     "output_type": "stream",
     "text": [
      "939 / 1000\r"
     ]
    },
    {
     "name": "stdout",
     "output_type": "stream",
     "text": [
      "940 / 1000\r"
     ]
    },
    {
     "name": "stdout",
     "output_type": "stream",
     "text": [
      "941 / 1000\r"
     ]
    },
    {
     "name": "stdout",
     "output_type": "stream",
     "text": [
      "942 / 1000\r"
     ]
    },
    {
     "name": "stdout",
     "output_type": "stream",
     "text": [
      "943 / 1000\r"
     ]
    },
    {
     "name": "stdout",
     "output_type": "stream",
     "text": [
      "944 / 1000\r"
     ]
    },
    {
     "name": "stdout",
     "output_type": "stream",
     "text": [
      "945 / 1000\r"
     ]
    },
    {
     "name": "stdout",
     "output_type": "stream",
     "text": [
      "946 / 1000\r"
     ]
    },
    {
     "name": "stdout",
     "output_type": "stream",
     "text": [
      "947 / 1000\r"
     ]
    },
    {
     "name": "stdout",
     "output_type": "stream",
     "text": [
      "948 / 1000\r"
     ]
    },
    {
     "name": "stdout",
     "output_type": "stream",
     "text": [
      "949 / 1000\r"
     ]
    },
    {
     "name": "stdout",
     "output_type": "stream",
     "text": [
      "950 / 1000\r"
     ]
    },
    {
     "name": "stdout",
     "output_type": "stream",
     "text": [
      "951 / 1000\r"
     ]
    },
    {
     "name": "stdout",
     "output_type": "stream",
     "text": [
      "952 / 1000\r"
     ]
    },
    {
     "name": "stdout",
     "output_type": "stream",
     "text": [
      "953 / 1000\r"
     ]
    },
    {
     "name": "stdout",
     "output_type": "stream",
     "text": [
      "954 / 1000\r"
     ]
    },
    {
     "name": "stdout",
     "output_type": "stream",
     "text": [
      "955 / 1000\r"
     ]
    },
    {
     "name": "stdout",
     "output_type": "stream",
     "text": [
      "956 / 1000\r"
     ]
    },
    {
     "name": "stdout",
     "output_type": "stream",
     "text": [
      "957 / 1000\r"
     ]
    },
    {
     "name": "stdout",
     "output_type": "stream",
     "text": [
      "958 / 1000\r"
     ]
    },
    {
     "name": "stdout",
     "output_type": "stream",
     "text": [
      "959 / 1000\r"
     ]
    },
    {
     "name": "stdout",
     "output_type": "stream",
     "text": [
      "960 / 1000\r"
     ]
    },
    {
     "name": "stdout",
     "output_type": "stream",
     "text": [
      "961 / 1000\r"
     ]
    },
    {
     "name": "stdout",
     "output_type": "stream",
     "text": [
      "962 / 1000\r"
     ]
    },
    {
     "name": "stdout",
     "output_type": "stream",
     "text": [
      "963 / 1000\r"
     ]
    },
    {
     "name": "stdout",
     "output_type": "stream",
     "text": [
      "964 / 1000\r"
     ]
    },
    {
     "name": "stdout",
     "output_type": "stream",
     "text": [
      "965 / 1000\r"
     ]
    },
    {
     "name": "stdout",
     "output_type": "stream",
     "text": [
      "966 / 1000\r"
     ]
    },
    {
     "name": "stdout",
     "output_type": "stream",
     "text": [
      "967 / 1000\r"
     ]
    },
    {
     "name": "stdout",
     "output_type": "stream",
     "text": [
      "968 / 1000\r"
     ]
    },
    {
     "name": "stdout",
     "output_type": "stream",
     "text": [
      "969 / 1000\r"
     ]
    },
    {
     "name": "stdout",
     "output_type": "stream",
     "text": [
      "970 / 1000\r"
     ]
    },
    {
     "name": "stdout",
     "output_type": "stream",
     "text": [
      "971 / 1000\r"
     ]
    },
    {
     "name": "stdout",
     "output_type": "stream",
     "text": [
      "972 / 1000\r"
     ]
    },
    {
     "name": "stdout",
     "output_type": "stream",
     "text": [
      "973 / 1000\r"
     ]
    },
    {
     "name": "stdout",
     "output_type": "stream",
     "text": [
      "974 / 1000\r"
     ]
    },
    {
     "name": "stdout",
     "output_type": "stream",
     "text": [
      "975 / 1000\r"
     ]
    },
    {
     "name": "stdout",
     "output_type": "stream",
     "text": [
      "976 / 1000\r"
     ]
    },
    {
     "name": "stdout",
     "output_type": "stream",
     "text": [
      "977 / 1000\r"
     ]
    },
    {
     "name": "stdout",
     "output_type": "stream",
     "text": [
      "978 / 1000\r"
     ]
    },
    {
     "name": "stdout",
     "output_type": "stream",
     "text": [
      "979 / 1000\r"
     ]
    },
    {
     "name": "stdout",
     "output_type": "stream",
     "text": [
      "980 / 1000\r"
     ]
    },
    {
     "name": "stdout",
     "output_type": "stream",
     "text": [
      "981 / 1000\r"
     ]
    },
    {
     "name": "stdout",
     "output_type": "stream",
     "text": [
      "982 / 1000\r"
     ]
    },
    {
     "name": "stdout",
     "output_type": "stream",
     "text": [
      "983 / 1000\r"
     ]
    },
    {
     "name": "stdout",
     "output_type": "stream",
     "text": [
      "984 / 1000\r"
     ]
    },
    {
     "name": "stdout",
     "output_type": "stream",
     "text": [
      "985 / 1000\r"
     ]
    },
    {
     "name": "stdout",
     "output_type": "stream",
     "text": [
      "986 / 1000\r"
     ]
    },
    {
     "name": "stdout",
     "output_type": "stream",
     "text": [
      "987 / 1000\r"
     ]
    },
    {
     "name": "stdout",
     "output_type": "stream",
     "text": [
      "988 / 1000\r"
     ]
    },
    {
     "name": "stdout",
     "output_type": "stream",
     "text": [
      "989 / 1000\r"
     ]
    },
    {
     "name": "stdout",
     "output_type": "stream",
     "text": [
      "990 / 1000\r"
     ]
    },
    {
     "name": "stdout",
     "output_type": "stream",
     "text": [
      "991 / 1000\r"
     ]
    },
    {
     "name": "stdout",
     "output_type": "stream",
     "text": [
      "992 / 1000\r"
     ]
    },
    {
     "name": "stdout",
     "output_type": "stream",
     "text": [
      "993 / 1000\r"
     ]
    },
    {
     "name": "stdout",
     "output_type": "stream",
     "text": [
      "994 / 1000\r"
     ]
    },
    {
     "name": "stdout",
     "output_type": "stream",
     "text": [
      "995 / 1000\r"
     ]
    },
    {
     "name": "stdout",
     "output_type": "stream",
     "text": [
      "996 / 1000\r"
     ]
    },
    {
     "name": "stdout",
     "output_type": "stream",
     "text": [
      "997 / 1000\r"
     ]
    },
    {
     "name": "stdout",
     "output_type": "stream",
     "text": [
      "998 / 1000\r"
     ]
    },
    {
     "name": "stdout",
     "output_type": "stream",
     "text": [
      "999 / 1000\r"
     ]
    },
    {
     "name": "stdout",
     "output_type": "stream",
     "text": [
      "1000 / 1000\r\n"
     ]
    },
    {
     "name": "stdout",
     "output_type": "stream",
     "text": [
      "0 / 1000\r"
     ]
    }
   ],
   "source": [
    "# Prepare data\n",
    "present = memories['discovery']['present'].cpu()\n",
    "states = memories['discovery']['states'].cpu()\n",
    "rewards = memories['discovery']['rewards'].cpu()\n",
    "\n",
    "# Parameters\n",
    "interval = 1e3*env.delta/3  # Time between frames (3x speedup)\n",
    "min_max_vel = 1e-2  # Stop at first frame all vels are below target\n",
    "frame_override = None  # Manually enter number of frames to draw\n",
    "num_lines = 25  # Number of attraction and repulsion lines\n",
    "rotations_per_second = .1  # Camera azimuthal rotations per second\n",
    "\n",
    "# Create plot\n",
    "figsize = (17, 10)\n",
    "fig = plt.figure(figsize=figsize)\n",
    "# grid = mpl_grid.GridSpec(1, 2, width_ratios=(2, 1))\n",
    "# ax1 = fig.add_subplot(grid[0], projection='3d')\n",
    "# ax2 = fig.add_subplot(grid[1])\n",
    "# fig.tight_layout(pad=2)\n",
    "ax1 = fig.add_axes([1 /figsize[0], 1 /figsize[1], 8 /figsize[0], 8 /figsize[1]], projection='3d')\n",
    "ax2 = fig.add_axes([12 /figsize[0], 1 /figsize[1], 4 /figsize[0], 8 /figsize[1]])\n",
    "\n",
    "# Initialize nodes\n",
    "get_node_data = lambda frame: states[frame, :, :3]\n",
    "nodes = [\n",
    "    ax1.plot(\n",
    "        # *get_node_data(0)[types[0]==l].T,\n",
    "        [], [],\n",
    "        label=l,\n",
    "        linestyle='',\n",
    "        marker='o',\n",
    "        ms=6,\n",
    "        zorder=2.3,\n",
    "    )[0]\n",
    "    for l in np.unique(types[0])\n",
    "]\n",
    "\n",
    "# Initialize velocity arrows\n",
    "arrow_length_scale = 1\n",
    "get_arrow_xyz_uvw = lambda frame: (states[frame, :, :3], states[frame, :, env.dim:env.dim+3])\n",
    "arrows = ax1.quiver(\n",
    "    [], [], [],\n",
    "    [], [], [],\n",
    "    arrow_length_ratio=0,\n",
    "    length=arrow_length_scale,\n",
    "    lw=2,\n",
    "    color='gray',\n",
    "    alpha=.4,\n",
    "    zorder=2.2,\n",
    ")\n",
    "\n",
    "# Initialize modal lines\n",
    "# relative_connection_strength = [np.array([(1-dist[j, k].item()/dist.max().item())**2 for j, k in product(*[range(s) for s in dist.shape]) if j < k]) for dist in env.dist]\n",
    "get_distance_discrepancy = lambda frame: [np.array([((states[frame, j, :3] - states[frame, k, :3]).square().sum().sqrt() - dist[j, k].cpu()).item() for j, k in product(*[range(s) for s in dist.shape]) if j < k]) for dist in env.dist]\n",
    "get_modal_lines_segments = lambda frame, dist: np.array(states[frame, [[j, k] for j, k in product(*[range(s) for s in dist.shape]) if j < k], :3])\n",
    "clip_dd_to_alpha = lambda dd: np.clip(np.abs(dd), 0, 2) / 2\n",
    "# Randomly select lines to show\n",
    "line_indices = [[j, k] for j, k in product(*[range(s) for s in env.dist[0].shape]) if j < k]\n",
    "total_lines = int((env.dist[0].shape[0]**2 - env.dist[0].shape[0]) / 2)  # Only considers first modality\n",
    "line_selection = [\n",
    "    np.random.choice(total_lines, num_lines, replace=False) if num_lines is not None else list(range(total_lines)) for dist in env.dist\n",
    "]\n",
    "modal_lines = [\n",
    "    mp3d.art3d.Line3DCollection(\n",
    "        get_modal_lines_segments(0, dist)[line_selection[i]],\n",
    "        label=f'Modality {i}',\n",
    "        lw=2,\n",
    "        zorder=2.1,\n",
    "    )\n",
    "    for i, dist in enumerate(env.dist)\n",
    "]\n",
    "for ml in modal_lines: ax1.add_collection(ml)\n",
    "\n",
    "# Silhouette scoring\n",
    "get_silhouette_samples = lambda frame: sklearn.metrics.silhouette_samples(states[frame, :, :3].cpu(), types[0])\n",
    "bars = [ax2.bar(l, 0) for l in np.unique(types[0])]\n",
    "ax2.axhline(y=0, color='black')\n",
    "\n",
    "# Limits\n",
    "# TODO: Double-check that the `present` indexing works\n",
    "ax1.set(\n",
    "    xlim=(states[present][:, 0].min(), states[present][:, 0].max()),\n",
    "    ylim=(states[present][:, 1].min(), states[present][:, 1].max()),\n",
    "    zlim=(states[present][:, 2].min(), states[present][:, 2].max()),\n",
    ")\n",
    "ax2.set(ylim=(-1, 1))\n",
    "\n",
    "# Legends\n",
    "l1 = ax1.legend(handles=nodes, loc='upper left')\n",
    "ax1.add_artist(l1)\n",
    "l2 = ax1.legend(handles=[\n",
    "    ax1.plot([], [], color='red', label='Repulsion')[0],\n",
    "    ax1.plot([], [], color='blue', label='Attraction')[0],\n",
    "], loc='upper right')\n",
    "ax1.add_artist(l2)\n",
    "ax2.spines[['right', 'top', 'bottom', 'left']].set_visible(False)\n",
    "\n",
    "# Styling\n",
    "ax1.set(xlabel='x', ylabel='y', zlabel='z')\n",
    "get_angle = lambda frame: (30, (360*rotations_per_second)*(frame*interval/1000)-60, 0)\n",
    "ax1.view_init(*get_angle(0))\n",
    "\n",
    "# Update function\n",
    "def update(frame, nodes, arrows, modal_lines, bars):\n",
    "    # Adjust nodes\n",
    "    for i, l in enumerate(np.unique(types[0])):\n",
    "        present_labels = present[frame] * torch.tensor(types[0]==l)\n",
    "        data = get_node_data(frame)[present_labels].T\n",
    "        nodes[i].set_data(*data[:2])\n",
    "        nodes[i].set_3d_properties(data[2])\n",
    "\n",
    "    # Adjust arrows\n",
    "    xyz_xyz = [[xyz, xyz+arrow_length_scale*uvw] for i, (xyz, uvw) in enumerate(zip(*get_arrow_xyz_uvw(frame))) if present[frame, i]]\n",
    "    arrows.set_segments(xyz_xyz)\n",
    "\n",
    "    # Adjust lines\n",
    "    for i, (dist, ml) in enumerate(zip(env.dist, modal_lines)):\n",
    "        ml.set_segments(get_modal_lines_segments(frame, dist)[line_selection[i]])\n",
    "        distance_discrepancy = get_distance_discrepancy(frame)[i][line_selection[i]]\n",
    "        color = np.array([(0., 0., 1.) if dd > 0 else (1., 0., 0.) for dd in distance_discrepancy])\n",
    "        alpha = np.expand_dims(clip_dd_to_alpha(distance_discrepancy), -1)\n",
    "        for j, line_index in enumerate(line_selection[i]):\n",
    "            if not present[frame, line_indices[line_index]].all(): alpha[j] = 0.\n",
    "        ml.set_color(np.concatenate((color, alpha), axis=-1))\n",
    "\n",
    "    # Barplots\n",
    "    for bar, l in zip(bars, np.unique(types[0])):\n",
    "        bar[0].set_height(get_silhouette_samples(frame)[types[0]==l].mean())\n",
    "\n",
    "    # Styling\n",
    "    ax1.set_title(f'{frame: 4} : {rewards[frame].mean():5.2f}')\n",
    "    ax2.set_title(f'Silhouette Coefficient : {get_silhouette_samples(frame).mean():5.2f}')   \n",
    "    ax1.view_init(*get_angle(frame))\n",
    "\n",
    "    # CLI\n",
    "    print(f'{frame} / {frames-1}', end='\\r')\n",
    "    if frame == frames-1: print()\n",
    "\n",
    "    return nodes, arrows, modal_lines\n",
    "\n",
    "# Compile animation\n",
    "frames = states[..., env.dim:env.dim+3].square().sum(dim=2).sqrt().max(dim=1).values < min_max_vel\n",
    "frames = np.array([(frames[i] or frames[i+1]) if i != len(frames)-1 else frames[i] for i in range(len(frames))])  # Disregard interrupted sections of low movement\n",
    "frames = np.argwhere(frames)\n",
    "frames = frames[0, 0].item()+1 if len(frames) > 0 else states.shape[0]\n",
    "frames = frames if frame_override is None else frame_override\n",
    "ani = animation.FuncAnimation(\n",
    "    fig=fig,\n",
    "    func=update,\n",
    "    fargs=(nodes, arrows, modal_lines, bars),\n",
    "    frames=frames,\n",
    "    interval=interval,\n",
    ")\n",
    "\n",
    "# Display animation as it renders\n",
    "# plt.show()\n",
    "\n",
    "# Display complete animation\n",
    "# from IPython.display import HTML\n",
    "# HTML(ani.to_jshtml())\n",
    "\n",
    "# Save animation\n",
    "file_type = 'mp4'\n",
    "if file_type == 'mp4': writer = animation.FFMpegWriter(fps=int(1e3/interval), extra_args=['-vcodec', 'libx264'], bitrate=8e3)  # Faster\n",
    "elif file_type == 'gif': writer = animation.FFMpegWriter(fps=int(1e3/interval))  # Slower\n",
    "ani.save(os.path.join(PLOT_FOLDER, f'{config[\"data\"][\"dataset\"]}_discovery.{file_type}'), writer=writer, dpi=300)"
   ]
  }
 ],
 "metadata": {
  "kernelspec": {
   "display_name": "inept",
   "language": "python",
   "name": "python3"
  },
  "language_info": {
   "codemirror_mode": {
    "name": "ipython",
    "version": 3
   },
   "file_extension": ".py",
   "mimetype": "text/x-python",
   "name": "python",
   "nbconvert_exporter": "python",
   "pygments_lexer": "ipython3",
   "version": "3.10.14"
  }
 },
 "nbformat": 4,
 "nbformat_minor": 2
}
