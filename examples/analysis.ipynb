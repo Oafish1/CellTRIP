{
 "cells": [
  {
   "cell_type": "code",
   "execution_count": 1,
   "metadata": {
    "execution": {
     "iopub.execute_input": "2024-10-20T19:49:40.288428Z",
     "iopub.status.busy": "2024-10-20T19:49:40.288168Z",
     "iopub.status.idle": "2024-10-20T19:49:42.413422Z",
     "shell.execute_reply": "2024-10-20T19:49:42.412928Z"
    }
   },
   "outputs": [
    {
     "name": "stdout",
     "output_type": "stream",
     "text": [
      "env: WANDB_NOTEBOOK_NAME=analysis.ipynb\n",
      "env: WANDB_SILENT=true\n"
     ]
    }
   ],
   "source": [
    "%load_ext autoreload\n",
    "%autoreload 2\n",
    "%env WANDB_NOTEBOOK_NAME analysis.ipynb\n",
    "%env WANDB_SILENT true\n",
    "%matplotlib agg\n",
    "# ipympl\n",
    "\n",
    "from collections import defaultdict\n",
    "from itertools import product\n",
    "import os\n",
    "import tempfile\n",
    "\n",
    "import matplotlib as mpl\n",
    "import matplotlib.collections as mpl_col\n",
    "import matplotlib.gridspec as mpl_grid\n",
    "import matplotlib.pyplot as plt\n",
    "import matplotlib.animation as animation\n",
    "import mpl_toolkits.mplot3d as mp3d\n",
    "import numpy as np\n",
    "import seaborn as sns\n",
    "import sklearn.metrics\n",
    "import torch\n",
    "from tqdm import tqdm\n",
    "import wandb\n",
    "\n",
    "import data\n",
    "import inept\n",
    "\n",
    "# Set params\n",
    "DEVICE = 'cuda:0' if torch.cuda.is_available() else 'cpu'\n",
    "BASE_FOLDER = os.path.abspath('')\n",
    "DATA_FOLDER = os.path.join(BASE_FOLDER, '../data')\n",
    "PLOT_FOLDER = os.path.join(BASE_FOLDER, '../plots')\n",
    "\n",
    "# Style\n",
    "sns.set_context('paper', font_scale=1.25)\n",
    "sns.set_style('white')\n",
    "sns.set_palette('husl')\n",
    "\n",
    "# MPL params\n",
    "mpl.rcParams['animation.embed_limit'] = 100\n",
    "\n",
    "# Disable gradients\n",
    "torch.set_grad_enabled(False);"
   ]
  },
  {
   "cell_type": "markdown",
   "metadata": {},
   "source": [
    "### Load All Classes"
   ]
  },
  {
   "cell_type": "code",
   "execution_count": 2,
   "metadata": {
    "execution": {
     "iopub.execute_input": "2024-10-20T19:49:42.415824Z",
     "iopub.status.busy": "2024-10-20T19:49:42.415600Z",
     "iopub.status.idle": "2024-10-20T19:49:44.351775Z",
     "shell.execute_reply": "2024-10-20T19:49:44.351331Z"
    }
   },
   "outputs": [],
   "source": [
    "# Parameters\n",
    "run_id = '2dt27jy2'\n",
    "num_nodes = int(1e2)\n",
    "seed_override = None\n",
    "\n",
    "# Load run\n",
    "api = wandb.Api()\n",
    "run = api.run(f'oafish/INEPT/{run_id}')\n",
    "config = defaultdict(lambda: {})\n",
    "for k, v in run.config.items():\n",
    "    dict_name, key = k.split('/')\n",
    "    config[dict_name][key] = v\n",
    "config = dict(config)\n",
    "\n",
    "# Reproducibility\n",
    "seed = seed_override if seed_override is not None else config['note']['seed']\n",
    "torch.manual_seed(seed)\n",
    "if DEVICE == 'cuda': torch.cuda.manual_seed(seed)\n",
    "np.random.seed(seed)\n",
    "\n",
    "# Load data\n",
    "modalities, types, features = data.load_data(config['data']['dataset'], DATA_FOLDER)\n",
    "modalities, types = inept.utilities.modify_data(\n",
    "    modalities, types,\n",
    "    **inept.utilities.overwrite_dict(config['data'], {'standardize': True, 'num_nodes': num_nodes}),\n",
    "    device=DEVICE,\n",
    ")\n",
    "\n",
    "# Load env\n",
    "env = inept.environments.trajectory(*modalities, **config['env'], device=DEVICE)\n",
    "\n",
    "# Load policy\n",
    "fname = f'trained_models/policy_{run.summary[\"stage\"]:02}.mdl'\n",
    "# fname = f'models/policy_{run.summary[\"stage\"]:02}.mdl'\n",
    "with tempfile.TemporaryDirectory() as tmpdir:\n",
    "    run.file(fname).download(tmpdir, replace=True)\n",
    "    policy = torch.load(os.path.join(tmpdir, fname)).to(DEVICE).eval()\n",
    "policy.actor.set_action_std(1e-7)"
   ]
  },
  {
   "cell_type": "markdown",
   "metadata": {},
   "source": [
    "### Generate Runs"
   ]
  },
  {
   "cell_type": "code",
   "execution_count": 3,
   "metadata": {
    "execution": {
     "iopub.execute_input": "2024-10-20T19:49:44.354036Z",
     "iopub.status.busy": "2024-10-20T19:49:44.353771Z",
     "iopub.status.idle": "2024-10-20T19:49:44.372932Z",
     "shell.execute_reply": "2024-10-20T19:49:44.372511Z"
    }
   },
   "outputs": [],
   "source": [
    "# Initialize memories\n",
    "memories = {}"
   ]
  },
  {
   "cell_type": "markdown",
   "metadata": {},
   "source": [
    "##### Integration"
   ]
  },
  {
   "cell_type": "code",
   "execution_count": 4,
   "metadata": {
    "execution": {
     "iopub.execute_input": "2024-10-20T19:49:44.374872Z",
     "iopub.status.busy": "2024-10-20T19:49:44.374728Z",
     "iopub.status.idle": "2024-10-20T19:49:50.711761Z",
     "shell.execute_reply": "2024-10-20T19:49:50.711271Z"
    }
   },
   "outputs": [
    {
     "name": "stderr",
     "output_type": "stream",
     "text": [
      "100%|██████████| 1000/1000 [00:06<00:00, 158.02it/s]\n"
     ]
    }
   ],
   "source": [
    "# Initialize\n",
    "env.reset(); memories['integration'] = defaultdict(lambda: [])\n",
    "memories['integration']['states'].append(env.get_state())\n",
    "memories['integration']['rewards'].append(torch.zeros(num_nodes, device=DEVICE))\n",
    "\n",
    "# Simulate\n",
    "for _ in tqdm(range(config['train']['max_ep_timesteps'])):\n",
    "    # Step\n",
    "    state = env.get_state(include_modalities=True)\n",
    "    actions = policy.act_macro(\n",
    "        state,\n",
    "        keys=list(range(config['data']['num_nodes'])),\n",
    "        max_batch=config['train']['max_batch'],\n",
    "        max_nodes=config['train']['max_nodes'],\n",
    "    )\n",
    "    rewards, finished, itemized_rewards = env.step(actions, return_itemized_rewards=True)\n",
    "\n",
    "    # Record\n",
    "    memories['integration']['states'].append(env.get_state())\n",
    "    memories['integration']['rewards'].append(rewards)\n",
    "\n",
    "# Stack\n",
    "memories['integration']['states'] = torch.stack(memories['integration']['states'])\n",
    "memories['integration']['rewards'] = torch.stack(memories['integration']['rewards'])\n",
    "memories['integration'] = dict(memories['integration'])"
   ]
  },
  {
   "cell_type": "markdown",
   "metadata": {},
   "source": [
    "### Plot Memories"
   ]
  },
  {
   "cell_type": "markdown",
   "metadata": {},
   "source": [
    "##### Integration"
   ]
  },
  {
   "cell_type": "code",
   "execution_count": 5,
   "metadata": {
    "execution": {
     "iopub.execute_input": "2024-10-20T19:49:50.713970Z",
     "iopub.status.busy": "2024-10-20T19:49:50.713765Z",
     "iopub.status.idle": "2024-10-20T19:52:00.088206Z",
     "shell.execute_reply": "2024-10-20T19:52:00.087762Z"
    }
   },
   "outputs": [
    {
     "name": "stdout",
     "output_type": "stream",
     "text": [
      "204 / 204\n",
      "0 / 204\r"
     ]
    }
   ],
   "source": [
    "# Prepare data\n",
    "states = memories['integration']['states'].cpu()\n",
    "rewards = memories['integration']['rewards'].cpu()\n",
    "\n",
    "# Create plot\n",
    "figsize = (17, 10)\n",
    "fig = plt.figure(figsize=figsize)\n",
    "# grid = mpl_grid.GridSpec(1, 2, width_ratios=(2, 1))\n",
    "# ax1 = fig.add_subplot(grid[0], projection='3d')\n",
    "# ax2 = fig.add_subplot(grid[1])\n",
    "# fig.tight_layout(pad=2)\n",
    "ax1 = fig.add_axes([1 /figsize[0], 1 /figsize[1], 8 /figsize[0], 8 /figsize[1]], projection='3d')\n",
    "ax2 = fig.add_axes([12 /figsize[0], 1 /figsize[1], 4 /figsize[0], 8 /figsize[1]])\n",
    "\n",
    "# Initialize nodes\n",
    "get_node_data = lambda frame: states[frame, :, :3]\n",
    "nodes = [\n",
    "    ax1.plot(\n",
    "        *get_node_data(0)[types[0]==l].T,\n",
    "        label=l,\n",
    "        linestyle='',\n",
    "        marker='o',\n",
    "        ms=6,\n",
    "        zorder=3,\n",
    "    )[0]\n",
    "    for l in np.unique(types[0])\n",
    "]\n",
    "\n",
    "# Initialize velocity arrows\n",
    "arrow_length_scale = 1\n",
    "get_arrow_xyz_uvw = lambda frame: (states[frame, :, :3], states[frame, :, env.dim:env.dim+3])\n",
    "arrows = ax1.quiver(\n",
    "    *get_arrow_xyz_uvw(0)[0].T,\n",
    "    *get_arrow_xyz_uvw(0)[1].T,\n",
    "    arrow_length_ratio=0,\n",
    "    length=arrow_length_scale,\n",
    "    lw=2,\n",
    "    color='gray',\n",
    "    alpha=.4,\n",
    "    zorder=2,\n",
    ")\n",
    "\n",
    "# Initialize modal lines\n",
    "total_lines = int((env.dist[0].shape[0]**2 - env.dist[0].shape[0]) / 2)  # Only considers first modality\n",
    "num_lines = 25  # total_lines\n",
    "# modal_connection_strength = [np.array([(1-dist[j, k].item()/dist.max().item())**2 for j, k in product(*[range(s) for s in dist.shape]) if j < k]) for dist in env.dist]\n",
    "get_distance_discrepancy = lambda frame: [[((states[frame, j, :3] - states[frame, k, :3]).square().sum().sqrt() - dist[j, k].cpu()).item() for j, k in product(*[range(s) for s in dist.shape]) if j < k] for dist in env.dist]\n",
    "get_modal_lines_segments = lambda frame, dist: np.array(states[frame, [[j, k] for j, k in product(*[range(s) for s in dist.shape]) if j < k], :3])\n",
    "clip_dd_to_alpha = lambda dd: np.clip(np.abs(dd), 0, 2) / 2\n",
    "line_selection = [\n",
    "    # Randomly select lines to show\n",
    "    np.random.choice(total_lines, num_lines, replace=False) for dist in env.dist\n",
    "]\n",
    "modal_lines = [\n",
    "    mp3d.art3d.Line3DCollection(\n",
    "        get_modal_lines_segments(0, dist)[line_selection[i]],\n",
    "        label=f'Modality {i}',\n",
    "        lw=2,\n",
    "        zorder=1,\n",
    "    )\n",
    "    for i, dist in enumerate(env.dist)\n",
    "]\n",
    "for ml in modal_lines: ax1.add_collection(ml)\n",
    "\n",
    "# Silhouette scoring\n",
    "get_silhouette_samples = lambda frame: sklearn.metrics.silhouette_samples(states[frame, :, :3].cpu(), types[0])\n",
    "bars = [\n",
    "    ax2.bar(\n",
    "        l,\n",
    "        get_silhouette_samples(0)[types[0]==l].mean(),\n",
    "    )\n",
    "    for l in np.unique(types[0])\n",
    "]\n",
    "ax2.axhline(y=0, color='black')\n",
    "\n",
    "# Limits\n",
    "ax1.set(\n",
    "    xlim=(states[:, :, 0].min(), states[:, :, 0].max()),\n",
    "    ylim=(states[:, :, 1].min(), states[:, :, 1].max()),\n",
    "    zlim=(states[:, :, 2].min(), states[:, :, 2].max()),\n",
    ")\n",
    "ax2.set(ylim=(-1, 1))\n",
    "\n",
    "# Legends\n",
    "l1 = ax1.legend(handles=nodes, loc='upper left')\n",
    "ax1.add_artist(l1)\n",
    "l2 = ax1.legend(handles=[\n",
    "    ax1.plot([], [], color='red', label='Repulsion')[0],\n",
    "    ax1.plot([], [], color='blue', label='Attraction')[0],\n",
    "], loc='upper right')\n",
    "ax1.add_artist(l2)\n",
    "ax2.spines[['right', 'top', 'bottom', 'left']].set_visible(False)\n",
    "\n",
    "# Update function\n",
    "def update(frame, nodes, arrows, modal_lines, bars):\n",
    "    # Adjust nodes\n",
    "    for i, l in enumerate(np.unique(types[0])):\n",
    "        data = get_node_data(frame)[types[0]==l].T\n",
    "        nodes[i].set_data(*data[:2])\n",
    "        nodes[i].set_3d_properties(data[2])\n",
    "\n",
    "    # Adjust arrows\n",
    "    xyz_xyz = [[xyz, xyz+arrow_length_scale*uvw] for xyz, uvw in zip(*get_arrow_xyz_uvw(frame))]\n",
    "    arrows.set_segments(xyz_xyz)\n",
    "\n",
    "    # Adjust lines\n",
    "    modal_lines[0].set_segments([[0, 0, 0], [1, 1, 1]])\n",
    "    for i, (dist, ml) in enumerate(zip(env.dist, modal_lines)):\n",
    "        ml.set_segments(get_modal_lines_segments(frame, dist)[line_selection[i]])\n",
    "        distance_discrepancy = get_distance_discrepancy(frame)[i]\n",
    "        color = np.array([(0., 0., 1.) if dd > 0 else (1., 0., 0.) for dd in distance_discrepancy])\n",
    "        alpha = np.expand_dims(clip_dd_to_alpha(distance_discrepancy), -1)\n",
    "        ml.set_color(np.concatenate((color, alpha), axis=-1))\n",
    "\n",
    "    # Barplots\n",
    "    for bar, l in zip(bars, np.unique(types[0])):\n",
    "        bar[0].set_height(get_silhouette_samples(frame)[types[0]==l].mean())\n",
    "\n",
    "    # Styling\n",
    "    ax1.set_title(f'{frame: 4} : {rewards[frame].mean():5.2f}')\n",
    "    ax2.set_title(f'Silhouette Coefficient : {get_silhouette_samples(frame).mean():5.2f}')\n",
    "\n",
    "    # CLI\n",
    "    print(f'{frame} / {frames-1}', end='\\r')\n",
    "    if frame == frames-1: print()\n",
    "\n",
    "    return nodes, arrows, modal_lines\n",
    "\n",
    "# Compile animation\n",
    "interval = 1e3*env.delta/3  # 3x speedup\n",
    "min_max_vel = 1e-2  # Stop at first frame all vels are below target\n",
    "frames = torch.argwhere(states[..., env.dim:env.dim+3].square().sum(dim=2).sqrt().max(dim=1).values < min_max_vel)\n",
    "frames = frames[0, 0].item()+1 if len(frames) > 0 else states.shape[0]\n",
    "ani = animation.FuncAnimation(\n",
    "    fig=fig,\n",
    "    func=update,\n",
    "    fargs=(nodes, arrows, modal_lines, bars),\n",
    "    frames=frames,\n",
    "    interval=interval,\n",
    ")\n",
    "\n",
    "# Display animation as it renders\n",
    "# plt.show()\n",
    "\n",
    "# Display complete animation\n",
    "# from IPython.display import HTML\n",
    "# HTML(ani.to_jshtml())\n",
    "\n",
    "# Save animation\n",
    "file_type = 'mp4'\n",
    "if file_type == 'mp4': writer = animation.FFMpegWriter(fps=int(1e3/interval), extra_args=['-vcodec', 'libx264'], bitrate=8e3)  # Faster\n",
    "elif file_type == 'gif': writer = animation.FFMpegWriter(fps=int(1e3/interval))  # Slower\n",
    "ani.save(os.path.join(PLOT_FOLDER, f'{config[\"data\"][\"dataset\"]}_integration.{file_type}'), writer=writer, dpi=300)"
   ]
  }
 ],
 "metadata": {
  "kernelspec": {
   "display_name": "inept",
   "language": "python",
   "name": "python3"
  },
  "language_info": {
   "codemirror_mode": {
    "name": "ipython",
    "version": 3
   },
   "file_extension": ".py",
   "mimetype": "text/x-python",
   "name": "python",
   "nbconvert_exporter": "python",
   "pygments_lexer": "ipython3",
   "version": "3.10.14"
  }
 },
 "nbformat": 4,
 "nbformat_minor": 2
}
