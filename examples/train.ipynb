{
 "cells": [
  {
   "cell_type": "code",
   "execution_count": 1,
   "metadata": {
    "execution": {
     "iopub.execute_input": "2024-04-10T05:35:00.399879Z",
     "iopub.status.busy": "2024-04-10T05:35:00.399670Z",
     "iopub.status.idle": "2024-04-10T05:35:00.405892Z",
     "shell.execute_reply": "2024-04-10T05:35:00.405557Z"
    }
   },
   "outputs": [],
   "source": [
    "# TODO\n",
    "# Try with larger environment, so nodes aren't pushed to the side\n",
    "# Try with 100s of nodes\n",
    "# Add parallel envs of different sizes, with different data to help generality\n",
    "# Save checkpoint models"
   ]
  },
  {
   "cell_type": "code",
   "execution_count": 2,
   "metadata": {
    "execution": {
     "iopub.execute_input": "2024-04-10T05:35:00.358200Z",
     "iopub.status.busy": "2024-04-10T05:35:00.357945Z",
     "iopub.status.idle": "2024-04-10T05:35:00.373301Z",
     "shell.execute_reply": "2024-04-10T05:35:00.372912Z"
    }
   },
   "outputs": [
    {
     "name": "stdout",
     "output_type": "stream",
     "text": [
      "env: WANDB_NOTEBOOK_NAME=exploration.ipynb\n",
      "env: WANDB_SILENT=true\n"
     ]
    }
   ],
   "source": [
    "%load_ext autoreload\n",
    "%autoreload 2\n",
    "%env WANDB_NOTEBOOK_NAME exploration.ipynb\n",
    "%env WANDB_SILENT true"
   ]
  },
  {
   "cell_type": "code",
   "execution_count": 3,
   "metadata": {
    "execution": {
     "iopub.execute_input": "2024-04-10T05:35:00.407869Z",
     "iopub.status.busy": "2024-04-10T05:35:00.407710Z",
     "iopub.status.idle": "2024-04-10T05:35:02.130225Z",
     "shell.execute_reply": "2024-04-10T05:35:02.129771Z"
    }
   },
   "outputs": [],
   "source": [
    "from collections import defaultdict\n",
    "import itertools\n",
    "import os\n",
    "\n",
    "import inept\n",
    "import numpy as np\n",
    "import pandas as pd\n",
    "import torch\n",
    "import wandb\n",
    "\n",
    "# Set params\n",
    "DEVICE = 'cuda' if torch.cuda.is_available() else 'cpu'\n",
    "DATA_FOLDER = os.path.join(os.path.abspath(''), '../data')\n",
    "MODEL_FOLDER = os.path.join(os.path.abspath(''), 'temp/trained_models')\n",
    "\n",
    "# Script arguments\n",
    "# import sys\n",
    "# arg1 = int(sys.argv[1])"
   ]
  },
  {
   "cell_type": "code",
   "execution_count": 4,
   "metadata": {
    "execution": {
     "iopub.execute_input": "2024-04-10T05:35:02.132577Z",
     "iopub.status.busy": "2024-04-10T05:35:02.132418Z",
     "iopub.status.idle": "2024-04-10T05:35:02.148060Z",
     "shell.execute_reply": "2024-04-10T05:35:02.147638Z"
    }
   },
   "outputs": [],
   "source": [
    "# Original paper (pg 24)\n",
    "# https://arxiv.org/pdf/1909.07528.pdf\n",
    "\n",
    "# Original blog\n",
    "# https://openai.com/research/emergent-tool-use\n",
    "\n",
    "# Gym\n",
    "# https://gymnasium.farama.org/\n",
    "\n",
    "# Slides\n",
    "# https://glouppe.github.io/info8004-advanced-machine-learning/pdf/pleroy-hide-and-seek.pdf\n",
    "\n",
    "# PPO implementation\n",
    "# https://github.com/nikhilbarhate99/PPO-PyTorch/blob/master/PPO.py#L38\n",
    "\n",
    "# Residual SA\n",
    "# https://github.com/openai/multi-agent-emergence-environments/blob/bafaf1e11e6398624116761f91ae7c93b136f395/ma_policy/layers.py#L89"
   ]
  },
  {
   "cell_type": "code",
   "execution_count": 5,
   "metadata": {
    "execution": {
     "iopub.execute_input": "2024-04-10T05:35:02.150005Z",
     "iopub.status.busy": "2024-04-10T05:35:02.149857Z",
     "iopub.status.idle": "2024-04-10T05:35:02.166408Z",
     "shell.execute_reply": "2024-04-10T05:35:02.166017Z"
    }
   },
   "outputs": [],
   "source": [
    "# Reproducibility\n",
    "seed = 42\n",
    "torch.manual_seed(seed)\n",
    "if DEVICE == 'cuda': torch.cuda.manual_seed(seed)\n",
    "np.random.seed(seed)\n",
    "# torch.backends.cudnn.deterministic=True\n",
    "\n",
    "note_kwargs = {'seed': seed}"
   ]
  },
  {
   "cell_type": "markdown",
   "metadata": {},
   "source": [
    "### Create Environment"
   ]
  },
  {
   "cell_type": "code",
   "execution_count": 6,
   "metadata": {
    "execution": {
     "iopub.execute_input": "2024-04-10T05:35:02.168359Z",
     "iopub.status.busy": "2024-04-10T05:35:02.168204Z",
     "iopub.status.idle": "2024-04-10T05:35:02.476163Z",
     "shell.execute_reply": "2024-04-10T05:35:02.475711Z"
    }
   },
   "outputs": [],
   "source": [
    "# Load MMD-MA data\n",
    "M1 = pd.read_csv(os.path.join(DATA_FOLDER, 'UnionCom/MMD/s1_mapped1.txt'), delimiter='\\t', header=None).to_numpy()\n",
    "M2 = pd.read_csv(os.path.join(DATA_FOLDER, 'UnionCom/MMD/s1_mapped2.txt'), delimiter='\\t', header=None).to_numpy()\n",
    "T1 = pd.read_csv(os.path.join(DATA_FOLDER, 'UnionCom/MMD/s1_type1.txt'), delimiter='\\t', header=None).to_numpy()\n",
    "T2 = pd.read_csv(os.path.join(DATA_FOLDER, 'UnionCom/MMD/s1_type2.txt'), delimiter='\\t', header=None).to_numpy()\n",
    "\n",
    "# Data\n",
    "num_nodes = 100\n",
    "M1 = torch.rand((num_nodes, 8), device=DEVICE)\n",
    "M2 = torch.rand((num_nodes, 16), device=DEVICE)\n",
    "modalities = (M1, M2)\n",
    "\n",
    "# Environment\n",
    "# x, y, vx, vy\n",
    "num_dims = 2\n",
    "env = inept.environments.trajectory(*modalities, dim=num_dims, reward_type='euclidean', device=DEVICE)\n",
    "\n",
    "# Data parameters\n",
    "env_kwargs = {\n",
    "    'dataset': 'Random',\n",
    "    'num_nodes': num_nodes,\n",
    "    'num_dims': num_dims,\n",
    "}"
   ]
  },
  {
   "cell_type": "markdown",
   "metadata": {},
   "source": [
    "### Train Policy"
   ]
  },
  {
   "cell_type": "code",
   "execution_count": null,
   "metadata": {
    "execution": {
     "iopub.execute_input": "2024-04-10T05:35:02.478583Z",
     "iopub.status.busy": "2024-04-10T05:35:02.478307Z",
     "iopub.status.idle": "2024-04-10T06:13:01.306087Z",
     "shell.execute_reply": "2024-04-10T06:13:01.305525Z"
    }
   },
   "outputs": [],
   "source": [
    "# Policy parameters\n",
    "input_dims = 2*num_dims+sum([m.shape[1] for m in modalities])\n",
    "update_minibatch = int( 4e4 * (10 / num_nodes) )\n",
    "update_max_batch = 1 * update_minibatch  # Only run one minibatch, empirically the benefit is minimal compared to time loss\n",
    "policy_kwargs = {\n",
    "    'num_features_per_node': input_dims,\n",
    "    'output_dim': num_dims,\n",
    "    'action_std_init': .6,\n",
    "    'action_std_decay': .05,\n",
    "    'action_std_min': .1,\n",
    "    'actor_lr': 3e-4,\n",
    "    'critic_lr': 1e-3,\n",
    "    'lr_gamma': 1,\n",
    "    'update_minibatch': update_minibatch,  # Based on no minibatches needed with 10 nodes at 4k update timesteps\n",
    "    'update_max_batch': update_max_batch,  # Try making larger, e.g. 20x minibatches\n",
    "    'device': DEVICE,\n",
    "}\n",
    "policy = inept.models.PPO(**policy_kwargs)\n",
    "\n",
    "# Training parameters\n",
    "max_ep_timesteps = 2e2\n",
    "max_timesteps = 1e6\n",
    "update_timesteps = 20 * max_ep_timesteps\n",
    "train_kwargs = {\n",
    "    'max_ep_timesteps': max_ep_timesteps,\n",
    "    'max_timesteps': max_timesteps,\n",
    "    'update_timesteps': update_timesteps,\n",
    "}\n",
    "\n",
    "# Early stopping parameters\n",
    "es_kwargs = {\n",
    "    'buffer': 3 * int(update_timesteps / max_ep_timesteps),\n",
    "    'delta': .01,\n",
    "}\n",
    "early_stopping = inept.utilities.EarlyStopping(**es_kwargs)\n",
    "\n",
    "# Initialize wandb\n",
    "use_wandb = True\n",
    "if use_wandb: wandb.init(\n",
    "    project='INEPT',\n",
    "    config={\n",
    "        **{'note/'+k:v for k, v in note_kwargs.items()},\n",
    "        **{'data/'+k:v for k, v in env_kwargs.items()},  # Change to env?\n",
    "        **{'policy/'+k:v for k, v in policy_kwargs.items()},\n",
    "        **{'train/'+k:v for k, v in train_kwargs.items()},\n",
    "        **{'es/'+k:v for k, v in es_kwargs.items()},\n",
    "    },\n",
    ")\n",
    "\n",
    "# Initialize logging vars\n",
    "torch.cuda.reset_peak_memory_stats()\n",
    "timer = inept.utilities.time_logger(discard_first_sample=True)\n",
    "timestep = 0; episode = 1; recording = defaultdict(lambda: []); stats = defaultdict(lambda: [])\n",
    "\n",
    "# CLI\n",
    "print('Beginning training')\n",
    "print(f'Subsampling {update_max_batch} states with minibatches of size {update_minibatch} from {int(update_timesteps * num_nodes)} total.')\n",
    "\n",
    "# Simulation loop\n",
    "while timestep < max_timesteps:\n",
    "    # Reset environment\n",
    "    env.reset()\n",
    "    timer.log('Reset Environment')\n",
    "\n",
    "    # Start episode\n",
    "    ep_timestep = 0; ep_reward = 0\n",
    "    while ep_timestep < max_ep_timesteps:\n",
    "        with torch.no_grad():\n",
    "            # Get current state\n",
    "            state = env.get_state(include_modalities=True)\n",
    "            recording['states'].append(state.cpu().numpy())\n",
    "\n",
    "            # Get self features for each node\n",
    "            self_entity = state\n",
    "\n",
    "            # Get node features for each state\n",
    "            idx = torch.zeros((num_nodes, num_nodes), dtype=torch.bool)\n",
    "            for i, j in itertools.product(*[range(x) for x in idx.shape]):\n",
    "                idx[i, j] = i!=j\n",
    "            node_entities = state.unsqueeze(0).expand(num_nodes, *state.shape)\n",
    "            node_entities = node_entities[idx].reshape(num_nodes, num_nodes-1, input_dims)\n",
    "            timer.log('Environment Setup')\n",
    "\n",
    "            # Get actions from policy\n",
    "            actions = policy.act(self_entity, node_entities).detach()\n",
    "            timer.log('Calculate Actions')\n",
    "\n",
    "            # Step environment and get reward\n",
    "            rewards, finished = env.step(actions)\n",
    "            timer.log('Step Environment')\n",
    "\n",
    "            # Record rewards\n",
    "            for key in range(num_nodes):\n",
    "                policy.memory.rewards.append(rewards[key].item())  # Could just add lists\n",
    "                policy.memory.is_terminals.append(finished)\n",
    "            ep_reward = ep_reward + rewards.cpu().sum()\n",
    "            recording['rewards'].append(rewards.cpu().numpy())\n",
    "            timer.log('Record Rewards')\n",
    "\n",
    "        # Iterate\n",
    "        timestep += 1\n",
    "        ep_timestep += 1\n",
    "\n",
    "        # Update model\n",
    "        if timestep % update_timesteps == 0:\n",
    "            print(f'Updating model with average reward {np.mean(policy.memory.rewards)} on episode {episode} and timestep {timestep}', end='')\n",
    "            policy.update()\n",
    "            print(f' ({torch.cuda.max_memory_allocated() / 1024**3:.2f} GB)')\n",
    "            torch.cuda.reset_peak_memory_stats()\n",
    "            timer.log('Update Policy')\n",
    "\n",
    "        # Escape if finished\n",
    "        if finished: break\n",
    "\n",
    "    # Record stats\n",
    "    ep_reward = (ep_reward / (num_nodes * ep_timestep)).item()\n",
    "    stats['episode'].append(episode)\n",
    "    stats['end_timestep'].append(timestep)\n",
    "    stats['average_reward'].append(ep_reward)\n",
    "    stats['action_std'].append(policy.action_std)\n",
    "    stats['update'].append(int(timestep / update_timesteps))\n",
    "\n",
    "    if use_wandb:\n",
    "        wandb.log({\n",
    "            'episode': episode,\n",
    "            'update': int(timestep / update_timesteps),\n",
    "            'end_timestep': timestep,\n",
    "            'average_reward': ep_reward,\n",
    "            'action_std': policy.action_std,\n",
    "        })\n",
    "    timer.log('Record Stats')\n",
    "\n",
    "    # Decay model std\n",
    "    if early_stopping(ep_reward):\n",
    "        # End if already at minimum\n",
    "        if policy.action_std <= policy.action_std_min:\n",
    "            print(f'Ending early on episode {episode} and timestep {timestep}')\n",
    "            break\n",
    "\n",
    "        # Decay and reset early stop\n",
    "        policy.decay_action_std()\n",
    "        early_stopping.reset()\n",
    "\n",
    "        # CLI\n",
    "        print(f'Decaying std to {policy.action_std} on episode {episode} and timestep {timestep}')\n",
    "    timer.log('Early Stopping')\n",
    "\n",
    "    # Iterate\n",
    "    episode += 1\n",
    "\n",
    "# CLI Timer\n",
    "print()\n",
    "timer.aggregate('sum')\n",
    "\n",
    "# Save model\n",
    "wgt_file = os.path.join(MODEL_FOLDER, 'policy.wgt')\n",
    "torch.save(policy.state_dict(), wgt_file)  # Save just weights\n",
    "if use_wandb: wandb.save(wgt_file)\n",
    "mdl_file = os.path.join(MODEL_FOLDER, 'policy.mdl')\n",
    "torch.save(policy, mdl_file)  # Save whole model\n",
    "if use_wandb: wandb.save(mdl_file)\n",
    "\n",
    "# Finish wandb\n",
    "if use_wandb: wandb.finish()"
   ]
  }
 ],
 "metadata": {
  "kernelspec": {
   "display_name": "inept",
   "language": "python",
   "name": "python3"
  },
  "language_info": {
   "codemirror_mode": {
    "name": "ipython",
    "version": 3
   },
   "file_extension": ".py",
   "mimetype": "text/x-python",
   "name": "python",
   "nbconvert_exporter": "python",
   "pygments_lexer": "ipython3",
   "version": "3.10.14"
  }
 },
 "nbformat": 4,
 "nbformat_minor": 2
}
