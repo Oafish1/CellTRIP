{
 "cells": [
  {
   "cell_type": "code",
   "execution_count": 1,
   "metadata": {
    "execution": {
     "iopub.execute_input": "2024-05-16T04:29:58.712972Z",
     "iopub.status.busy": "2024-05-16T04:29:58.712742Z",
     "iopub.status.idle": "2024-05-16T04:29:58.716244Z",
     "shell.execute_reply": "2024-05-16T04:29:58.715843Z"
    }
   },
   "outputs": [],
   "source": [
    "# TODO\n",
    "# Add key argument in forward which is required for memories\n",
    "# Add static prefix for memory based on key\n",
    "# Reduce redundancy in state storage (now data is duplicated 'nodes' # of times), maybe add indexing function to memorybuffer\n",
    "# If memory still used too much, implement file-storage\n",
    "\n",
    "# Randomize positions within -1 to 1, no matter the environment size\n",
    "# Make distance reward env-size and dataset-agnostic (i.e. spawn nodes in range 0-1 (or at origin), normalize dist per dataset (maybe by average dist))\n",
    "# Add FCL between raw features and the features appended to vector\n",
    "# Check that rewards are normalized after (?) advantage\n",
    "\n",
    "# Fix off-center positioning in large environments (kinda solved with post-centering?)\n",
    "# Revise distance reward\n",
    "# Try using running average early stopping\n",
    "# Save checkpoint models\n",
    "\n",
    "# Try full MMD-MA data\n",
    "# Try real data\n",
    "# Add parallel envs of different sizes, with different data to help generality"
   ]
  },
  {
   "cell_type": "code",
   "execution_count": 2,
   "metadata": {
    "execution": {
     "iopub.execute_input": "2024-05-16T04:29:58.718142Z",
     "iopub.status.busy": "2024-05-16T04:29:58.717984Z",
     "iopub.status.idle": "2024-05-16T04:29:58.732056Z",
     "shell.execute_reply": "2024-05-16T04:29:58.731657Z"
    }
   },
   "outputs": [
    {
     "name": "stdout",
     "output_type": "stream",
     "text": [
      "env: WANDB_NOTEBOOK_NAME=train.ipynb\n",
      "env: WANDB_SILENT=true\n"
     ]
    }
   ],
   "source": [
    "%load_ext autoreload\n",
    "%autoreload 2\n",
    "%env WANDB_NOTEBOOK_NAME train.ipynb\n",
    "%env WANDB_SILENT true"
   ]
  },
  {
   "cell_type": "code",
   "execution_count": 3,
   "metadata": {
    "execution": {
     "iopub.execute_input": "2024-05-16T04:29:58.757020Z",
     "iopub.status.busy": "2024-05-16T04:29:58.756816Z",
     "iopub.status.idle": "2024-05-16T04:30:00.475907Z",
     "shell.execute_reply": "2024-05-16T04:30:00.475393Z"
    }
   },
   "outputs": [],
   "source": [
    "from collections import defaultdict\n",
    "import itertools\n",
    "import os\n",
    "\n",
    "import inept\n",
    "import numpy as np\n",
    "import pandas as pd\n",
    "import torch\n",
    "import wandb\n",
    "\n",
    "# Set params\n",
    "DEVICE = 'cuda' if torch.cuda.is_available() else 'cpu'\n",
    "DATA_FOLDER = os.path.join(os.path.abspath(''), '../data')\n",
    "MODEL_FOLDER = os.path.join(os.path.abspath(''), 'temp/trained_models')\n",
    "\n",
    "# Script arguments\n",
    "# import sys\n",
    "# arg1 = int(sys.argv[1])"
   ]
  },
  {
   "cell_type": "code",
   "execution_count": 4,
   "metadata": {
    "execution": {
     "iopub.execute_input": "2024-05-16T04:30:00.478032Z",
     "iopub.status.busy": "2024-05-16T04:30:00.477888Z",
     "iopub.status.idle": "2024-05-16T04:30:00.495514Z",
     "shell.execute_reply": "2024-05-16T04:30:00.495052Z"
    }
   },
   "outputs": [],
   "source": [
    "# Original paper (pg 24)\n",
    "# https://arxiv.org/pdf/1909.07528.pdf\n",
    "\n",
    "# Original blog\n",
    "# https://openai.com/research/emergent-tool-use\n",
    "\n",
    "# Gym\n",
    "# https://gymnasium.farama.org/\n",
    "\n",
    "# Slides\n",
    "# https://glouppe.github.io/info8004-advanced-machine-learning/pdf/pleroy-hide-and-seek.pdf\n",
    "\n",
    "# PPO implementation\n",
    "# https://github.com/nikhilbarhate99/PPO-PyTorch/blob/master/PPO.py#L38\n",
    "\n",
    "# Residual SA\n",
    "# https://github.com/openai/multi-agent-emergence-environments/blob/bafaf1e11e6398624116761f91ae7c93b136f395/ma_policy/layers.py#L89"
   ]
  },
  {
   "cell_type": "code",
   "execution_count": 5,
   "metadata": {
    "execution": {
     "iopub.execute_input": "2024-05-16T04:30:00.497443Z",
     "iopub.status.busy": "2024-05-16T04:30:00.497298Z",
     "iopub.status.idle": "2024-05-16T04:30:00.515169Z",
     "shell.execute_reply": "2024-05-16T04:30:00.514730Z"
    }
   },
   "outputs": [],
   "source": [
    "# Reproducibility\n",
    "seed = 42\n",
    "torch.manual_seed(seed)\n",
    "if DEVICE == 'cuda': torch.cuda.manual_seed(seed)\n",
    "np.random.seed(seed)\n",
    "\n",
    "note_kwargs = {'seed': seed}"
   ]
  },
  {
   "cell_type": "markdown",
   "metadata": {},
   "source": [
    "### Create Environment"
   ]
  },
  {
   "cell_type": "code",
   "execution_count": 6,
   "metadata": {
    "execution": {
     "iopub.execute_input": "2024-05-16T04:30:00.517384Z",
     "iopub.status.busy": "2024-05-16T04:30:00.517193Z",
     "iopub.status.idle": "2024-05-16T04:30:05.770644Z",
     "shell.execute_reply": "2024-05-16T04:30:05.770099Z"
    }
   },
   "outputs": [],
   "source": [
    "# Dataset loading\n",
    "dataset_name = 'BrainChromatin'\n",
    "if dataset_name == 'BrainChromatin':\n",
    "    M1 = pd.read_csv(os.path.join(DATA_FOLDER, 'brainchromatin/multiome_rna_counts.tsv'), delimiter='\\t', nrows=1_000).transpose()  # TODO: Raise number of features\n",
    "    M2 = pd.read_csv(os.path.join(DATA_FOLDER, 'brainchromatin/multiome_atac_gene_activities.tsv'), delimiter='\\t', nrows=1_000).transpose()  # TODO: Raise number of features\n",
    "    M2 = M2.transpose()[M1.index].transpose()\n",
    "    meta = pd.read_csv(os.path.join(DATA_FOLDER, 'brainchromatin/multiome_cell_metadata.txt'), delimiter='\\t')\n",
    "    meta_names = pd.read_csv(os.path.join(DATA_FOLDER, 'brainchromatin/multiome_cluster_names.txt'), delimiter='\\t')\n",
    "    meta_names = meta_names[meta_names['Assay'] == 'Multiome ATAC']\n",
    "    meta = pd.merge(meta, meta_names, left_on='ATAC_cluster', right_on='Cluster.ID', how='left')\n",
    "    meta.index = meta['Cell.ID']\n",
    "    T1 = T2 = np.array(meta.transpose()[M1.index].transpose()['Cluster.Name'])\n",
    "    F1, F2 = M1.columns, M2.columns\n",
    "    M1, M2 = M1.to_numpy(), M2.to_numpy()\n",
    "\n",
    "    del meta, meta_names\n",
    "\n",
    "elif dataset_name == 'scGEM':\n",
    "    M1 = pd.read_csv(os.path.join(DATA_FOLDER, 'UnionCom/scGEM/GeneExpression.txt'), delimiter=' ', header=None).to_numpy()\n",
    "    M2 = pd.read_csv(os.path.join(DATA_FOLDER, 'UnionCom/scGEM/DNAmethylation.txt'), delimiter=' ', header=None).to_numpy()\n",
    "    T1 = pd.read_csv(os.path.join(DATA_FOLDER, 'UnionCom/scGEM/type1.txt'), delimiter=' ', header=None).to_numpy()\n",
    "    T2 = pd.read_csv(os.path.join(DATA_FOLDER, 'UnionCom/scGEM/type2.txt'), delimiter=' ', header=None).to_numpy()\n",
    "    F1 = np.loadtxt(os.path.join(DATA_FOLDER, 'UnionCom/scGEM/gex_names.txt'), dtype='str')\n",
    "    F2 = np.loadtxt(os.path.join(DATA_FOLDER, 'UnionCom/scGEM/dm_names.txt'), dtype='str')\n",
    "\n",
    "# MMD-MA data\n",
    "elif dataset_name == 'MMD-MA':\n",
    "    M1 = pd.read_csv(os.path.join(DATA_FOLDER, 'UnionCom/MMD/s1_mapped1.txt'), delimiter='\\t', header=None).to_numpy()\n",
    "    M2 = pd.read_csv(os.path.join(DATA_FOLDER, 'UnionCom/MMD/s1_mapped2.txt'), delimiter='\\t', header=None).to_numpy()\n",
    "    T1 = pd.read_csv(os.path.join(DATA_FOLDER, 'UnionCom/MMD/s1_type1.txt'), delimiter='\\t', header=None).to_numpy()\n",
    "    T2 = pd.read_csv(os.path.join(DATA_FOLDER, 'UnionCom/MMD/s1_type2.txt'), delimiter='\\t', header=None).to_numpy()\n",
    "\n",
    "# Random data\n",
    "elif dataset_name == 'Random':\n",
    "    num_nodes = 100\n",
    "    M1 = torch.rand((num_nodes, 8), device=DEVICE)\n",
    "    M2 = torch.rand((num_nodes, 16), device=DEVICE)\n",
    "\n",
    "else: assert False, 'No matching dataset found.'\n",
    "\n",
    "# Parameters\n",
    "num_nodes = 50\n",
    "\n",
    "# Modify data\n",
    "M1, M2 = inept.utilities.normalize(M1, M2)  # Normalize\n",
    "M1, M2 = inept.utilities.pca_features(M1, M2, num_features=(16, 16))  # PCA features\n",
    "M1, M2, T1, T2 = inept.utilities.subsample_nodes(M1, M2, T1, T2, num_nodes=num_nodes)  # Subsample nodes\n",
    "# M1, M2 = inept.utilities.subsample_features(M1, M2, num_features=(16, 16))  # Subsample features\n",
    "\n",
    "# Cast types\n",
    "M1 = torch.tensor(M1, dtype=torch.float32, device=DEVICE)\n",
    "M2 = torch.tensor(M2, dtype=torch.float32, device=DEVICE)"
   ]
  },
  {
   "cell_type": "code",
   "execution_count": 7,
   "metadata": {
    "execution": {
     "iopub.execute_input": "2024-05-16T04:30:05.773296Z",
     "iopub.status.busy": "2024-05-16T04:30:05.773013Z",
     "iopub.status.idle": "2024-05-16T04:30:05.817277Z",
     "shell.execute_reply": "2024-05-16T04:30:05.816827Z"
    }
   },
   "outputs": [],
   "source": [
    "# Record data kwargs\n",
    "modalities = (M1, M2)\n",
    "data_kwargs = {\n",
    "    'dataset': dataset_name,\n",
    "    'num_nodes': num_nodes,\n",
    "}\n",
    "\n",
    "# Environment\n",
    "# x, y, vx, vy\n",
    "num_dims = 2\n",
    "env_kwargs = {\n",
    "    'dim': num_dims,\n",
    "    'pos_bound': 3,\n",
    "    'vel_bound': 1,\n",
    "    'delta': .1,\n",
    "    'reward_distance': 10,\n",
    "    # 'reward_origin': 1,\n",
    "    'penalty_bound': 1,\n",
    "    'penalty_velocity': 1,\n",
    "    'penalty_action': 1,\n",
    "    'reward_distance_type': 'euclidean',\n",
    "}\n",
    "env = inept.environments.trajectory(*modalities, **env_kwargs, device=DEVICE)"
   ]
  },
  {
   "cell_type": "markdown",
   "metadata": {},
   "source": [
    "### Train Policy"
   ]
  },
  {
   "cell_type": "code",
   "execution_count": 8,
   "metadata": {
    "execution": {
     "iopub.execute_input": "2024-05-16T04:30:05.819457Z",
     "iopub.status.busy": "2024-05-16T04:30:05.819319Z",
     "iopub.status.idle": "2024-05-16T06:33:05.940742Z",
     "shell.execute_reply": "2024-05-16T06:33:05.940295Z"
    }
   },
   "outputs": [
    {
     "name": "stdout",
     "output_type": "stream",
     "text": [
      "Beginning training\n",
      "Subsampling 8000 states with minibatches of size 8000 from 200000 total.\n"
     ]
    },
    {
     "name": "stdout",
     "output_type": "stream",
     "text": [
      "Updating model with average reward -0.33742163390720614 on episode 14 and timestep 4000"
     ]
    },
    {
     "name": "stdout",
     "output_type": "stream",
     "text": [
      " (3.79 GB CUDA)\n"
     ]
    },
    {
     "name": "stdout",
     "output_type": "stream",
     "text": [
      "Updating model with average reward -0.3549472073540208 on episode 27 and timestep 8000"
     ]
    },
    {
     "name": "stdout",
     "output_type": "stream",
     "text": [
      " (3.79 GB CUDA)\n"
     ]
    },
    {
     "name": "stdout",
     "output_type": "stream",
     "text": [
      "Updating model with average reward -0.3217626810658292 on episode 40 and timestep 12000"
     ]
    },
    {
     "name": "stdout",
     "output_type": "stream",
     "text": [
      " (3.79 GB CUDA)\n"
     ]
    },
    {
     "name": "stdout",
     "output_type": "stream",
     "text": [
      "Updating model with average reward -0.18903329477637423 on episode 54 and timestep 16000"
     ]
    },
    {
     "name": "stdout",
     "output_type": "stream",
     "text": [
      " (3.79 GB CUDA)\n"
     ]
    },
    {
     "name": "stdout",
     "output_type": "stream",
     "text": [
      "Updating model with average reward -0.1753807219015801 on episode 67 and timestep 20000"
     ]
    },
    {
     "name": "stdout",
     "output_type": "stream",
     "text": [
      " (3.79 GB CUDA)\n"
     ]
    },
    {
     "name": "stdout",
     "output_type": "stream",
     "text": [
      "Updating model with average reward -0.15970467612843378 on episode 80 and timestep 24000"
     ]
    },
    {
     "name": "stdout",
     "output_type": "stream",
     "text": [
      " (3.79 GB CUDA)\n"
     ]
    },
    {
     "name": "stdout",
     "output_type": "stream",
     "text": [
      "Updating model with average reward -0.05058263150967599 on episode 94 and timestep 28000"
     ]
    },
    {
     "name": "stdout",
     "output_type": "stream",
     "text": [
      " (3.79 GB CUDA)\n"
     ]
    },
    {
     "name": "stdout",
     "output_type": "stream",
     "text": [
      "Updating model with average reward -0.04379719832922332 on episode 107 and timestep 32000"
     ]
    },
    {
     "name": "stdout",
     "output_type": "stream",
     "text": [
      " (3.79 GB CUDA)\n"
     ]
    },
    {
     "name": "stdout",
     "output_type": "stream",
     "text": [
      "Updating model with average reward -0.09646117235771497 on episode 120 and timestep 36000"
     ]
    },
    {
     "name": "stdout",
     "output_type": "stream",
     "text": [
      " (3.79 GB CUDA)\n"
     ]
    },
    {
     "name": "stdout",
     "output_type": "stream",
     "text": [
      "Updating model with average reward 0.02062136474990868 on episode 134 and timestep 40000"
     ]
    },
    {
     "name": "stdout",
     "output_type": "stream",
     "text": [
      " (3.79 GB CUDA)\n"
     ]
    },
    {
     "name": "stdout",
     "output_type": "stream",
     "text": [
      "Decaying std to 0.5499999999999999 on episode 144 and timestep 43200\n"
     ]
    },
    {
     "name": "stdout",
     "output_type": "stream",
     "text": [
      "Updating model with average reward -0.0006054904202988837 on episode 147 and timestep 44000"
     ]
    },
    {
     "name": "stdout",
     "output_type": "stream",
     "text": [
      " (3.79 GB CUDA)\n"
     ]
    },
    {
     "name": "stdout",
     "output_type": "stream",
     "text": [
      "Updating model with average reward 0.009089347269616847 on episode 160 and timestep 48000"
     ]
    },
    {
     "name": "stdout",
     "output_type": "stream",
     "text": [
      " (3.79 GB CUDA)\n"
     ]
    },
    {
     "name": "stdout",
     "output_type": "stream",
     "text": [
      "Updating model with average reward 0.10277069826098392 on episode 174 and timestep 52000"
     ]
    },
    {
     "name": "stdout",
     "output_type": "stream",
     "text": [
      " (3.79 GB CUDA)\n"
     ]
    },
    {
     "name": "stdout",
     "output_type": "stream",
     "text": [
      "Updating model with average reward 0.09137276851738803 on episode 187 and timestep 56000"
     ]
    },
    {
     "name": "stdout",
     "output_type": "stream",
     "text": [
      " (3.79 GB CUDA)\n"
     ]
    },
    {
     "name": "stdout",
     "output_type": "stream",
     "text": [
      "Updating model with average reward 0.07134784532654535 on episode 200 and timestep 60000"
     ]
    },
    {
     "name": "stdout",
     "output_type": "stream",
     "text": [
      " (3.79 GB CUDA)\n"
     ]
    },
    {
     "name": "stdout",
     "output_type": "stream",
     "text": [
      "Updating model with average reward 0.11170690088717733 on episode 214 and timestep 64000"
     ]
    },
    {
     "name": "stdout",
     "output_type": "stream",
     "text": [
      " (3.79 GB CUDA)\n"
     ]
    },
    {
     "name": "stdout",
     "output_type": "stream",
     "text": [
      "Updating model with average reward 0.09893521088420006 on episode 227 and timestep 68000"
     ]
    },
    {
     "name": "stdout",
     "output_type": "stream",
     "text": [
      " (3.79 GB CUDA)\n"
     ]
    },
    {
     "name": "stdout",
     "output_type": "stream",
     "text": [
      "Updating model with average reward 0.10597655123192817 on episode 240 and timestep 72000"
     ]
    },
    {
     "name": "stdout",
     "output_type": "stream",
     "text": [
      " (3.79 GB CUDA)\n"
     ]
    },
    {
     "name": "stdout",
     "output_type": "stream",
     "text": [
      "Updating model with average reward 0.18363375334954762 on episode 254 and timestep 76000"
     ]
    },
    {
     "name": "stdout",
     "output_type": "stream",
     "text": [
      " (3.79 GB CUDA)\n"
     ]
    },
    {
     "name": "stdout",
     "output_type": "stream",
     "text": [
      "Updating model with average reward 0.16789298196339747 on episode 267 and timestep 80000"
     ]
    },
    {
     "name": "stdout",
     "output_type": "stream",
     "text": [
      " (3.79 GB CUDA)\n"
     ]
    },
    {
     "name": "stdout",
     "output_type": "stream",
     "text": [
      "Updating model with average reward 0.11941682263829163 on episode 280 and timestep 84000"
     ]
    },
    {
     "name": "stdout",
     "output_type": "stream",
     "text": [
      " (3.79 GB CUDA)\n"
     ]
    },
    {
     "name": "stdout",
     "output_type": "stream",
     "text": [
      "Updating model with average reward 0.1888702464319137 on episode 294 and timestep 88000"
     ]
    },
    {
     "name": "stdout",
     "output_type": "stream",
     "text": [
      " (3.79 GB CUDA)\n"
     ]
    },
    {
     "name": "stdout",
     "output_type": "stream",
     "text": [
      "Decaying std to 0.49999999999999994 on episode 299 and timestep 89700\n"
     ]
    },
    {
     "name": "stdout",
     "output_type": "stream",
     "text": [
      "Updating model with average reward 0.17605088317867484 on episode 307 and timestep 92000"
     ]
    },
    {
     "name": "stdout",
     "output_type": "stream",
     "text": [
      " (3.79 GB CUDA)\n"
     ]
    },
    {
     "name": "stdout",
     "output_type": "stream",
     "text": [
      "Updating model with average reward 0.21031232490027557 on episode 320 and timestep 96000"
     ]
    },
    {
     "name": "stdout",
     "output_type": "stream",
     "text": [
      " (3.79 GB CUDA)\n"
     ]
    },
    {
     "name": "stdout",
     "output_type": "stream",
     "text": [
      "Updating model with average reward 0.26831197150129416 on episode 334 and timestep 100000"
     ]
    },
    {
     "name": "stdout",
     "output_type": "stream",
     "text": [
      " (3.79 GB CUDA)\n"
     ]
    },
    {
     "name": "stdout",
     "output_type": "stream",
     "text": [
      "Updating model with average reward 0.18731416712173699 on episode 347 and timestep 104000"
     ]
    },
    {
     "name": "stdout",
     "output_type": "stream",
     "text": [
      " (3.79 GB CUDA)\n"
     ]
    },
    {
     "name": "stdout",
     "output_type": "stream",
     "text": [
      "Updating model with average reward 0.23808216849937075 on episode 360 and timestep 108000"
     ]
    },
    {
     "name": "stdout",
     "output_type": "stream",
     "text": [
      " (3.79 GB CUDA)\n"
     ]
    },
    {
     "name": "stdout",
     "output_type": "stream",
     "text": [
      "Updating model with average reward 0.2984386812020786 on episode 374 and timestep 112000"
     ]
    },
    {
     "name": "stdout",
     "output_type": "stream",
     "text": [
      " (3.79 GB CUDA)\n"
     ]
    },
    {
     "name": "stdout",
     "output_type": "stream",
     "text": [
      "Updating model with average reward 0.22191581168130214 on episode 387 and timestep 116000"
     ]
    },
    {
     "name": "stdout",
     "output_type": "stream",
     "text": [
      " (3.79 GB CUDA)\n"
     ]
    },
    {
     "name": "stdout",
     "output_type": "stream",
     "text": [
      "Updating model with average reward 0.24465242811225005 on episode 400 and timestep 120000"
     ]
    },
    {
     "name": "stdout",
     "output_type": "stream",
     "text": [
      " (3.79 GB CUDA)\n"
     ]
    },
    {
     "name": "stdout",
     "output_type": "stream",
     "text": [
      "Updating model with average reward 0.2910533218130132 on episode 414 and timestep 124000"
     ]
    },
    {
     "name": "stdout",
     "output_type": "stream",
     "text": [
      " (3.79 GB CUDA)\n"
     ]
    },
    {
     "name": "stdout",
     "output_type": "stream",
     "text": [
      "Decaying std to 0.44999999999999996 on episode 417 and timestep 125100\n"
     ]
    },
    {
     "name": "stdout",
     "output_type": "stream",
     "text": [
      "Updating model with average reward 0.24788639416606573 on episode 427 and timestep 128000"
     ]
    },
    {
     "name": "stdout",
     "output_type": "stream",
     "text": [
      " (3.79 GB CUDA)\n"
     ]
    },
    {
     "name": "stdout",
     "output_type": "stream",
     "text": [
      "Updating model with average reward 0.30766983818562893 on episode 440 and timestep 132000"
     ]
    },
    {
     "name": "stdout",
     "output_type": "stream",
     "text": [
      " (3.79 GB CUDA)\n"
     ]
    },
    {
     "name": "stdout",
     "output_type": "stream",
     "text": [
      "Updating model with average reward 0.3503954257119264 on episode 454 and timestep 136000"
     ]
    },
    {
     "name": "stdout",
     "output_type": "stream",
     "text": [
      " (3.79 GB CUDA)\n"
     ]
    },
    {
     "name": "stdout",
     "output_type": "stream",
     "text": [
      "Decaying std to 0.39999999999999997 on episode 458 and timestep 137400\n"
     ]
    },
    {
     "name": "stdout",
     "output_type": "stream",
     "text": [
      "Updating model with average reward 0.3080150988750678 on episode 467 and timestep 140000"
     ]
    },
    {
     "name": "stdout",
     "output_type": "stream",
     "text": [
      " (3.79 GB CUDA)\n"
     ]
    },
    {
     "name": "stdout",
     "output_type": "stream",
     "text": [
      "Updating model with average reward 0.32998147204501493 on episode 480 and timestep 144000"
     ]
    },
    {
     "name": "stdout",
     "output_type": "stream",
     "text": [
      " (3.79 GB CUDA)\n"
     ]
    },
    {
     "name": "stdout",
     "output_type": "stream",
     "text": [
      "Updating model with average reward 0.4126788856174017 on episode 494 and timestep 148000"
     ]
    },
    {
     "name": "stdout",
     "output_type": "stream",
     "text": [
      " (3.79 GB CUDA)\n"
     ]
    },
    {
     "name": "stdout",
     "output_type": "stream",
     "text": [
      "Updating model with average reward 0.32510941633527574 on episode 507 and timestep 152000"
     ]
    },
    {
     "name": "stdout",
     "output_type": "stream",
     "text": [
      " (3.79 GB CUDA)\n"
     ]
    },
    {
     "name": "stdout",
     "output_type": "stream",
     "text": [
      "Updating model with average reward 0.3541722079621762 on episode 520 and timestep 156000"
     ]
    },
    {
     "name": "stdout",
     "output_type": "stream",
     "text": [
      " (3.79 GB CUDA)\n"
     ]
    },
    {
     "name": "stdout",
     "output_type": "stream",
     "text": [
      "Decaying std to 0.35 on episode 529 and timestep 158700\n"
     ]
    },
    {
     "name": "stdout",
     "output_type": "stream",
     "text": [
      "Updating model with average reward 0.4144421791120357 on episode 534 and timestep 160000"
     ]
    },
    {
     "name": "stdout",
     "output_type": "stream",
     "text": [
      " (3.79 GB CUDA)\n"
     ]
    },
    {
     "name": "stdout",
     "output_type": "stream",
     "text": [
      "Updating model with average reward 0.380069047601865 on episode 547 and timestep 164000"
     ]
    },
    {
     "name": "stdout",
     "output_type": "stream",
     "text": [
      " (3.79 GB CUDA)\n"
     ]
    },
    {
     "name": "stdout",
     "output_type": "stream",
     "text": [
      "Updating model with average reward 0.3958445609928155 on episode 560 and timestep 168000"
     ]
    },
    {
     "name": "stdout",
     "output_type": "stream",
     "text": [
      " (3.79 GB CUDA)\n"
     ]
    },
    {
     "name": "stdout",
     "output_type": "stream",
     "text": [
      "Updating model with average reward 0.46837464590896255 on episode 574 and timestep 172000"
     ]
    },
    {
     "name": "stdout",
     "output_type": "stream",
     "text": [
      " (3.79 GB CUDA)\n"
     ]
    },
    {
     "name": "stdout",
     "output_type": "stream",
     "text": [
      "Updating model with average reward 0.3750162097250587 on episode 587 and timestep 176000"
     ]
    },
    {
     "name": "stdout",
     "output_type": "stream",
     "text": [
      " (3.79 GB CUDA)\n"
     ]
    },
    {
     "name": "stdout",
     "output_type": "stream",
     "text": [
      "Updating model with average reward 0.4100927825526509 on episode 600 and timestep 180000"
     ]
    },
    {
     "name": "stdout",
     "output_type": "stream",
     "text": [
      " (3.79 GB CUDA)\n"
     ]
    },
    {
     "name": "stdout",
     "output_type": "stream",
     "text": [
      "Updating model with average reward 0.4765679738095391 on episode 614 and timestep 184000"
     ]
    },
    {
     "name": "stdout",
     "output_type": "stream",
     "text": [
      " (3.79 GB CUDA)\n"
     ]
    },
    {
     "name": "stdout",
     "output_type": "stream",
     "text": [
      "Updating model with average reward 0.40451776972861114 on episode 627 and timestep 188000"
     ]
    },
    {
     "name": "stdout",
     "output_type": "stream",
     "text": [
      " (3.79 GB CUDA)\n"
     ]
    },
    {
     "name": "stdout",
     "output_type": "stream",
     "text": [
      "Decaying std to 0.3 on episode 634 and timestep 190200\n"
     ]
    },
    {
     "name": "stdout",
     "output_type": "stream",
     "text": [
      "Updating model with average reward 0.4631964902380924 on episode 640 and timestep 192000"
     ]
    },
    {
     "name": "stdout",
     "output_type": "stream",
     "text": [
      " (3.79 GB CUDA)\n"
     ]
    },
    {
     "name": "stdout",
     "output_type": "stream",
     "text": [
      "Updating model with average reward 0.4824164319141599 on episode 654 and timestep 196000"
     ]
    },
    {
     "name": "stdout",
     "output_type": "stream",
     "text": [
      " (3.79 GB CUDA)\n"
     ]
    },
    {
     "name": "stdout",
     "output_type": "stream",
     "text": [
      "Updating model with average reward 0.4589753293728032 on episode 667 and timestep 200000"
     ]
    },
    {
     "name": "stdout",
     "output_type": "stream",
     "text": [
      " (3.79 GB CUDA)\n"
     ]
    },
    {
     "name": "stdout",
     "output_type": "stream",
     "text": [
      "Updating model with average reward 0.48384943080373166 on episode 680 and timestep 204000"
     ]
    },
    {
     "name": "stdout",
     "output_type": "stream",
     "text": [
      " (3.79 GB CUDA)\n"
     ]
    },
    {
     "name": "stdout",
     "output_type": "stream",
     "text": [
      "Updating model with average reward 0.5198656593912734 on episode 694 and timestep 208000"
     ]
    },
    {
     "name": "stdout",
     "output_type": "stream",
     "text": [
      " (3.79 GB CUDA)\n"
     ]
    },
    {
     "name": "stdout",
     "output_type": "stream",
     "text": [
      "Decaying std to 0.25 on episode 694 and timestep 208200\n"
     ]
    },
    {
     "name": "stdout",
     "output_type": "stream",
     "text": [
      "Updating model with average reward 0.46440515182117176 on episode 707 and timestep 212000"
     ]
    },
    {
     "name": "stdout",
     "output_type": "stream",
     "text": [
      " (3.79 GB CUDA)\n"
     ]
    },
    {
     "name": "stdout",
     "output_type": "stream",
     "text": [
      "Updating model with average reward 0.5034648174642693 on episode 720 and timestep 216000"
     ]
    },
    {
     "name": "stdout",
     "output_type": "stream",
     "text": [
      " (3.79 GB CUDA)\n"
     ]
    },
    {
     "name": "stdout",
     "output_type": "stream",
     "text": [
      "Updating model with average reward 0.5928505786625939 on episode 734 and timestep 220000"
     ]
    },
    {
     "name": "stdout",
     "output_type": "stream",
     "text": [
      " (3.79 GB CUDA)\n"
     ]
    },
    {
     "name": "stdout",
     "output_type": "stream",
     "text": [
      "Updating model with average reward 0.5089905271143306 on episode 747 and timestep 224000"
     ]
    },
    {
     "name": "stdout",
     "output_type": "stream",
     "text": [
      " (3.79 GB CUDA)\n"
     ]
    },
    {
     "name": "stdout",
     "output_type": "stream",
     "text": [
      "Decaying std to 0.2 on episode 755 and timestep 226500\n"
     ]
    },
    {
     "name": "stdout",
     "output_type": "stream",
     "text": [
      "Updating model with average reward 0.538795898058479 on episode 760 and timestep 228000"
     ]
    },
    {
     "name": "stdout",
     "output_type": "stream",
     "text": [
      " (3.79 GB CUDA)\n"
     ]
    },
    {
     "name": "stdout",
     "output_type": "stream",
     "text": [
      "Updating model with average reward 0.553259618443727 on episode 774 and timestep 232000"
     ]
    },
    {
     "name": "stdout",
     "output_type": "stream",
     "text": [
      " (3.79 GB CUDA)\n"
     ]
    },
    {
     "name": "stdout",
     "output_type": "stream",
     "text": [
      "Updating model with average reward 0.4877369771728634 on episode 787 and timestep 236000"
     ]
    },
    {
     "name": "stdout",
     "output_type": "stream",
     "text": [
      " (3.79 GB CUDA)\n"
     ]
    },
    {
     "name": "stdout",
     "output_type": "stream",
     "text": [
      "Decaying std to 0.15000000000000002 on episode 798 and timestep 239400\n"
     ]
    },
    {
     "name": "stdout",
     "output_type": "stream",
     "text": [
      "Updating model with average reward 0.4692792590717132 on episode 800 and timestep 240000"
     ]
    },
    {
     "name": "stdout",
     "output_type": "stream",
     "text": [
      " (3.79 GB CUDA)\n"
     ]
    },
    {
     "name": "stdout",
     "output_type": "stream",
     "text": [
      "Updating model with average reward 0.5963940169394474 on episode 814 and timestep 244000"
     ]
    },
    {
     "name": "stdout",
     "output_type": "stream",
     "text": [
      " (3.79 GB CUDA)\n"
     ]
    },
    {
     "name": "stdout",
     "output_type": "stream",
     "text": [
      "Updating model with average reward 0.5179716011224118 on episode 827 and timestep 248000"
     ]
    },
    {
     "name": "stdout",
     "output_type": "stream",
     "text": [
      " (3.79 GB CUDA)\n"
     ]
    },
    {
     "name": "stdout",
     "output_type": "stream",
     "text": [
      "Updating model with average reward 0.5111584251204919 on episode 840 and timestep 252000"
     ]
    },
    {
     "name": "stdout",
     "output_type": "stream",
     "text": [
      " (3.79 GB CUDA)\n"
     ]
    },
    {
     "name": "stdout",
     "output_type": "stream",
     "text": [
      "Decaying std to 0.10000000000000002 on episode 853 and timestep 255900\n"
     ]
    },
    {
     "name": "stdout",
     "output_type": "stream",
     "text": [
      "Updating model with average reward 0.5629214499404432 on episode 854 and timestep 256000"
     ]
    },
    {
     "name": "stdout",
     "output_type": "stream",
     "text": [
      " (3.79 GB CUDA)\n"
     ]
    },
    {
     "name": "stdout",
     "output_type": "stream",
     "text": [
      "Updating model with average reward 0.496296186981346 on episode 867 and timestep 260000"
     ]
    },
    {
     "name": "stdout",
     "output_type": "stream",
     "text": [
      " (3.79 GB CUDA)\n"
     ]
    },
    {
     "name": "stdout",
     "output_type": "stream",
     "text": [
      "Updating model with average reward 0.449132731425655 on episode 880 and timestep 264000"
     ]
    },
    {
     "name": "stdout",
     "output_type": "stream",
     "text": [
      " (3.79 GB CUDA)\n"
     ]
    },
    {
     "name": "stdout",
     "output_type": "stream",
     "text": [
      "Updating model with average reward 0.5811640221439699 on episode 894 and timestep 268000"
     ]
    },
    {
     "name": "stdout",
     "output_type": "stream",
     "text": [
      " (3.79 GB CUDA)\n"
     ]
    },
    {
     "name": "stdout",
     "output_type": "stream",
     "text": [
      "Decaying std to 0.1 on episode 901 and timestep 270300\n"
     ]
    },
    {
     "name": "stdout",
     "output_type": "stream",
     "text": [
      "Updating model with average reward 0.452586037782519 on episode 907 and timestep 272000"
     ]
    },
    {
     "name": "stdout",
     "output_type": "stream",
     "text": [
      " (3.79 GB CUDA)\n"
     ]
    },
    {
     "name": "stdout",
     "output_type": "stream",
     "text": [
      "Updating model with average reward 0.486601121726086 on episode 920 and timestep 276000"
     ]
    },
    {
     "name": "stdout",
     "output_type": "stream",
     "text": [
      " (3.79 GB CUDA)\n"
     ]
    },
    {
     "name": "stdout",
     "output_type": "stream",
     "text": [
      "Updating model with average reward 0.5074503203861603 on episode 934 and timestep 280000"
     ]
    },
    {
     "name": "stdout",
     "output_type": "stream",
     "text": [
      " (3.79 GB CUDA)\n"
     ]
    },
    {
     "name": "stdout",
     "output_type": "stream",
     "text": [
      "Updating model with average reward 0.48698903586917325 on episode 947 and timestep 284000"
     ]
    },
    {
     "name": "stdout",
     "output_type": "stream",
     "text": [
      " (3.79 GB CUDA)\n"
     ]
    },
    {
     "name": "stdout",
     "output_type": "stream",
     "text": [
      "Ending early on episode 948 and timestep 284400\n",
      "\n",
      "Reset Environment: 0.113290155989489\n",
      "Environment Setup: 3156.4125311535554\n",
      "Calculate Actions: 1620.861532955194\n",
      "Step Environment: 202.36833615327942\n"
     ]
    },
    {
     "name": "stdout",
     "output_type": "stream",
     "text": [
      "Record Rewards: 175.31642860978718\n",
      "Record Stats: 0.2782003049742343\n",
      "Early Stopping: 0.017291964014475525\n",
      "Update Policy: 2209.811145688008\n",
      "Total: 7365.178756984802\n"
     ]
    }
   ],
   "source": [
    "# Tracking parameters\n",
    "# Use `watch -d -n 0.5 nvidia-smi` to watch CUDA memory usage\n",
    "# Use `top` to watch system memory usage\n",
    "use_wandb = True\n",
    "\n",
    "# Policy parameters\n",
    "input_dims = 2*num_dims+sum([m.shape[1] for m in modalities])\n",
    "batch_split_factor = 1  # Set to high if large number of features\n",
    "update_minibatch = int( 4e4 * (10 / num_nodes) / batch_split_factor )\n",
    "update_max_batch = batch_split_factor * update_minibatch  # Only run one minibatch, empirically the benefit is minimal compared to time loss\n",
    "policy_kwargs = {\n",
    "    'num_features_per_node': input_dims,\n",
    "    'output_dim': num_dims,\n",
    "    'action_std_init': .6,\n",
    "    'action_std_decay': .05,\n",
    "    'action_std_min': .1,\n",
    "    'actor_lr': 3e-4,\n",
    "    'critic_lr': 1e-3,\n",
    "    'lr_gamma': 1,\n",
    "    'update_minibatch': update_minibatch,  # Based on no minibatches needed with 10 nodes at 4k update timesteps\n",
    "    'update_max_batch': update_max_batch,  # Try making larger, e.g. 20x minibatches\n",
    "    'device': DEVICE,\n",
    "}\n",
    "policy = inept.models.PPO(**policy_kwargs)\n",
    "\n",
    "# Training parameters\n",
    "max_ep_timesteps = 3e2  # 2e2\n",
    "max_timesteps = 1e6\n",
    "update_timesteps = 4e3  # 20 * max_ep_timesteps\n",
    "train_kwargs = {\n",
    "    'max_ep_timesteps': max_ep_timesteps,\n",
    "    'max_timesteps': max_timesteps,\n",
    "    'update_timesteps': update_timesteps,\n",
    "}\n",
    "\n",
    "# Early stopping parameters\n",
    "es_kwargs = {\n",
    "    'buffer': 3 * int(update_timesteps / max_ep_timesteps),\n",
    "    'delta': .01,\n",
    "}\n",
    "early_stopping = inept.utilities.EarlyStopping(**es_kwargs)\n",
    "\n",
    "# Initialize wandb\n",
    "if use_wandb: wandb.init(\n",
    "    project='INEPT',\n",
    "    config={\n",
    "        **{'note/'+k:v for k, v in note_kwargs.items()},\n",
    "        **{'data/'+k:v for k, v in data_kwargs.items()},\n",
    "        **{'env/'+k:v for k, v in env_kwargs.items()},\n",
    "        **{'policy/'+k:v for k, v in policy_kwargs.items()},\n",
    "        **{'train/'+k:v for k, v in train_kwargs.items()},\n",
    "        **{'es/'+k:v for k, v in es_kwargs.items()},\n",
    "    },\n",
    ")\n",
    "\n",
    "# Initialize logging vars\n",
    "torch.cuda.reset_peak_memory_stats()\n",
    "timer = inept.utilities.time_logger(discard_first_sample=True)\n",
    "timestep = 0; episode = 1\n",
    "\n",
    "# CLI\n",
    "print('Beginning training')\n",
    "print(f'Subsampling {update_max_batch} states with minibatches of size {update_minibatch} from {int(update_timesteps * num_nodes)} total.')\n",
    "\n",
    "# Simulation loop\n",
    "while timestep < max_timesteps:\n",
    "    # Reset environment\n",
    "    env.reset()\n",
    "    # env.reward_scales['reward_origin'] = episode / 1e3\n",
    "    timer.log('Reset Environment')\n",
    "\n",
    "    # Start episode\n",
    "    ep_timestep = 0; ep_reward = 0; ep_itemized_reward = defaultdict(lambda: 0)\n",
    "    while ep_timestep < max_ep_timesteps:\n",
    "        with torch.no_grad():\n",
    "            # Get current state\n",
    "            state = env.get_state(include_modalities=True)\n",
    "\n",
    "            # Get self features for each node\n",
    "            self_entity = state\n",
    "\n",
    "            # Get node features for each state\n",
    "            idx = torch.zeros((num_nodes, num_nodes), dtype=torch.bool)\n",
    "            for i, j in itertools.product(*[range(x) for x in idx.shape]):\n",
    "                idx[i, j] = i!=j\n",
    "            node_entities = state.unsqueeze(0).expand(num_nodes, *state.shape)\n",
    "            node_entities = node_entities[idx].reshape(num_nodes, num_nodes-1, input_dims)\n",
    "            timer.log('Environment Setup')\n",
    "\n",
    "            # Get actions from policy\n",
    "            actions = policy.act(self_entity, node_entities).detach()\n",
    "            timer.log('Calculate Actions')\n",
    "\n",
    "            # Step environment and get reward\n",
    "            rewards, finished, itemized_rewards = env.step(actions, return_rewards=True)\n",
    "            timer.log('Step Environment')\n",
    "\n",
    "            # Record rewards\n",
    "            for key in range(num_nodes):\n",
    "                policy.memory.rewards.append(rewards[key].item())  # Could just add lists\n",
    "                policy.memory.is_terminals.append(finished)\n",
    "            ep_reward = ep_reward + rewards.cpu().mean()\n",
    "            for k, v in itemized_rewards.items():\n",
    "                ep_itemized_reward[k] += v.cpu().mean()\n",
    "            timer.log('Record Rewards')\n",
    "\n",
    "        # Iterate\n",
    "        timestep += 1\n",
    "        ep_timestep += 1\n",
    "\n",
    "        # Update model\n",
    "        if timestep % update_timesteps == 0:\n",
    "            print(f'Updating model with average reward {np.mean(policy.memory.rewards)} on episode {episode} and timestep {timestep}', end='')\n",
    "            policy.update()\n",
    "            print(f' ({torch.cuda.max_memory_allocated() / 1024**3:.2f} GB CUDA)')\n",
    "            torch.cuda.reset_peak_memory_stats()\n",
    "            timer.log('Update Policy')\n",
    "\n",
    "        # Escape if finished\n",
    "        if finished: break\n",
    "\n",
    "    # Upload stats\n",
    "    ep_reward = (ep_reward / ep_timestep).item()\n",
    "    if use_wandb:\n",
    "        wandb.log({\n",
    "            **{\n",
    "            'episode': episode,\n",
    "            'update': int(timestep / update_timesteps),\n",
    "            'end_timestep': timestep,\n",
    "            'average_reward': ep_reward,\n",
    "            'action_std': policy.action_std,\n",
    "            },\n",
    "            **{'rewards/'+k: (v / ep_timestep).item() for k, v in ep_itemized_reward.items()},\n",
    "        })\n",
    "    timer.log('Record Stats')\n",
    "\n",
    "    # Decay model std\n",
    "    if early_stopping(ep_reward):\n",
    "        # End if already at minimum\n",
    "        if policy.action_std <= policy.action_std_min:\n",
    "            print(f'Ending early on episode {episode} and timestep {timestep}')\n",
    "            break\n",
    "\n",
    "        # Decay and reset early stop\n",
    "        policy.decay_action_std()\n",
    "        early_stopping.reset()\n",
    "\n",
    "        # CLI\n",
    "        print(f'Decaying std to {policy.action_std} on episode {episode} and timestep {timestep}')\n",
    "    timer.log('Early Stopping')\n",
    "\n",
    "    # Iterate\n",
    "    episode += 1\n",
    "\n",
    "# CLI Timer\n",
    "print()\n",
    "timer.aggregate('sum')\n",
    "\n",
    "# Save model\n",
    "wgt_file = os.path.join(MODEL_FOLDER, 'policy.wgt')\n",
    "torch.save(policy.state_dict(), wgt_file)  # Save just weights\n",
    "if use_wandb: wandb.save(wgt_file)\n",
    "mdl_file = os.path.join(MODEL_FOLDER, 'policy.mdl')\n",
    "torch.save(policy, mdl_file)  # Save whole model\n",
    "if use_wandb: wandb.save(mdl_file)\n",
    "\n",
    "# Finish wandb\n",
    "if use_wandb: wandb.finish()"
   ]
  }
 ],
 "metadata": {
  "kernelspec": {
   "display_name": "inept",
   "language": "python",
   "name": "python3"
  },
  "language_info": {
   "codemirror_mode": {
    "name": "ipython",
    "version": 3
   },
   "file_extension": ".py",
   "mimetype": "text/x-python",
   "name": "python",
   "nbconvert_exporter": "python",
   "pygments_lexer": "ipython3",
   "version": "3.10.14"
  }
 },
 "nbformat": 4,
 "nbformat_minor": 2
}
