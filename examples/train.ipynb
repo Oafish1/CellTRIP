{
 "cells": [
  {
   "cell_type": "code",
   "execution_count": 1,
   "metadata": {
    "execution": {
     "iopub.execute_input": "2024-05-08T19:44:39.073701Z",
     "iopub.status.busy": "2024-05-08T19:44:39.073235Z",
     "iopub.status.idle": "2024-05-08T19:44:39.077637Z",
     "shell.execute_reply": "2024-05-08T19:44:39.077102Z"
    }
   },
   "outputs": [],
   "source": [
    "# TODO\n",
    "# Add key argument in forward which is required for memories\n",
    "# Add static prefix for memory based on key\n",
    "# Reduce redundancy in state storage (now data is duplicated 'nodes' # of times), maybe add indexing function to memorybuffer\n",
    "# If memory still used too much, implement file-storage\n",
    "\n",
    "# Add FCL between raw features and the features appended to vector\n",
    "# Make distance reward env-size and dataset-agnostic (i.e. spawn nodes in range 0-1 (or at origin), normalize dist per dataset (maybe by average dist))\n",
    "# Check that rewards are normalized after (?) advantage\n",
    "\n",
    "# Randomize positions within -1 to 1, no matter the environment size\n",
    "# Fix off-center positioning in large environments (kinda solved with post-centering?)\n",
    "# Revise distance reward\n",
    "# Try using running average early stopping\n",
    "# Save checkpoint models\n",
    "\n",
    "# Try full MMD-MA data\n",
    "# Try real data\n",
    "# Add parallel envs of different sizes, with different data to help generality"
   ]
  },
  {
   "cell_type": "code",
   "execution_count": 2,
   "metadata": {
    "execution": {
     "iopub.execute_input": "2024-05-08T19:44:39.079789Z",
     "iopub.status.busy": "2024-05-08T19:44:39.079581Z",
     "iopub.status.idle": "2024-05-08T19:44:39.093644Z",
     "shell.execute_reply": "2024-05-08T19:44:39.093160Z"
    }
   },
   "outputs": [
    {
     "name": "stdout",
     "output_type": "stream",
     "text": [
      "env: WANDB_NOTEBOOK_NAME=train.ipynb\n",
      "env: WANDB_SILENT=true\n"
     ]
    }
   ],
   "source": [
    "%load_ext autoreload\n",
    "%autoreload 2\n",
    "%env WANDB_NOTEBOOK_NAME train.ipynb\n",
    "%env WANDB_SILENT true"
   ]
  },
  {
   "cell_type": "code",
   "execution_count": 3,
   "metadata": {
    "execution": {
     "iopub.execute_input": "2024-05-08T19:44:39.119747Z",
     "iopub.status.busy": "2024-05-08T19:44:39.119567Z",
     "iopub.status.idle": "2024-05-08T19:44:40.597094Z",
     "shell.execute_reply": "2024-05-08T19:44:40.596600Z"
    }
   },
   "outputs": [],
   "source": [
    "from collections import defaultdict\n",
    "import itertools\n",
    "import os\n",
    "\n",
    "import inept\n",
    "import numpy as np\n",
    "import pandas as pd\n",
    "import torch\n",
    "import wandb\n",
    "\n",
    "# Set params\n",
    "DEVICE = 'cuda' if torch.cuda.is_available() else 'cpu'\n",
    "DATA_FOLDER = os.path.join(os.path.abspath(''), '../data')\n",
    "MODEL_FOLDER = os.path.join(os.path.abspath(''), 'temp/trained_models')\n",
    "\n",
    "# Script arguments\n",
    "# import sys\n",
    "# arg1 = int(sys.argv[1])"
   ]
  },
  {
   "cell_type": "code",
   "execution_count": 4,
   "metadata": {
    "execution": {
     "iopub.execute_input": "2024-05-08T19:44:40.599490Z",
     "iopub.status.busy": "2024-05-08T19:44:40.599102Z",
     "iopub.status.idle": "2024-05-08T19:44:40.613089Z",
     "shell.execute_reply": "2024-05-08T19:44:40.612624Z"
    }
   },
   "outputs": [],
   "source": [
    "# Original paper (pg 24)\n",
    "# https://arxiv.org/pdf/1909.07528.pdf\n",
    "\n",
    "# Original blog\n",
    "# https://openai.com/research/emergent-tool-use\n",
    "\n",
    "# Gym\n",
    "# https://gymnasium.farama.org/\n",
    "\n",
    "# Slides\n",
    "# https://glouppe.github.io/info8004-advanced-machine-learning/pdf/pleroy-hide-and-seek.pdf\n",
    "\n",
    "# PPO implementation\n",
    "# https://github.com/nikhilbarhate99/PPO-PyTorch/blob/master/PPO.py#L38\n",
    "\n",
    "# Residual SA\n",
    "# https://github.com/openai/multi-agent-emergence-environments/blob/bafaf1e11e6398624116761f91ae7c93b136f395/ma_policy/layers.py#L89"
   ]
  },
  {
   "cell_type": "code",
   "execution_count": 5,
   "metadata": {
    "execution": {
     "iopub.execute_input": "2024-05-08T19:44:40.615111Z",
     "iopub.status.busy": "2024-05-08T19:44:40.614950Z",
     "iopub.status.idle": "2024-05-08T19:44:40.631646Z",
     "shell.execute_reply": "2024-05-08T19:44:40.631176Z"
    }
   },
   "outputs": [],
   "source": [
    "# Reproducibility\n",
    "seed = 42\n",
    "torch.manual_seed(seed)\n",
    "if DEVICE == 'cuda': torch.cuda.manual_seed(seed)\n",
    "np.random.seed(seed)\n",
    "\n",
    "note_kwargs = {'seed': seed}"
   ]
  },
  {
   "cell_type": "markdown",
   "metadata": {},
   "source": [
    "### Create Environment"
   ]
  },
  {
   "cell_type": "code",
   "execution_count": 6,
   "metadata": {
    "execution": {
     "iopub.execute_input": "2024-05-08T19:44:40.633636Z",
     "iopub.status.busy": "2024-05-08T19:44:40.633490Z",
     "iopub.status.idle": "2024-05-08T19:44:40.804214Z",
     "shell.execute_reply": "2024-05-08T19:44:40.803693Z"
    }
   },
   "outputs": [
    {
     "name": "stderr",
     "output_type": "stream",
     "text": [
      "/tmp/ipykernel_158531/1216702659.py:18: RuntimeWarning: invalid value encountered in divide\n",
      "  M1 = np.nan_to_num((M1 - M1.mean(axis=0)) / M1.std(axis=0)) / 5\n",
      "/tmp/ipykernel_158531/1216702659.py:33: UserWarning: To copy construct from a tensor, it is recommended to use sourceTensor.clone().detach() or sourceTensor.clone().detach().requires_grad_(True), rather than torch.tensor(sourceTensor).\n",
      "  M1 = torch.tensor(M1[:, idx_1], dtype=torch.float32, device=DEVICE)\n",
      "/tmp/ipykernel_158531/1216702659.py:34: UserWarning: To copy construct from a tensor, it is recommended to use sourceTensor.clone().detach() or sourceTensor.clone().detach().requires_grad_(True), rather than torch.tensor(sourceTensor).\n",
      "  M2 = torch.tensor(M2[:, idx_2], dtype=torch.float32, device=DEVICE)\n"
     ]
    }
   ],
   "source": [
    "# scGEM data\n",
    "dataset_name = 'scGEM'\n",
    "M1 = pd.read_csv(os.path.join(DATA_FOLDER, 'UnionCom/scGEM/GeneExpression.txt'), delimiter=' ', header=None).to_numpy()\n",
    "M2 = pd.read_csv(os.path.join(DATA_FOLDER, 'UnionCom/scGEM/DNAmethylation.txt'), delimiter=' ', header=None).to_numpy()\n",
    "T1 = pd.read_csv(os.path.join(DATA_FOLDER, 'UnionCom/scGEM/type1.txt'), delimiter=' ', header=None).to_numpy()\n",
    "T2 = pd.read_csv(os.path.join(DATA_FOLDER, 'UnionCom/scGEM/type2.txt'), delimiter=' ', header=None).to_numpy()\n",
    "F1 = np.loadtxt(os.path.join(DATA_FOLDER, 'UnionCom/scGEM/gex_names.txt'), dtype='str')\n",
    "F2 = np.loadtxt(os.path.join(DATA_FOLDER, 'UnionCom/scGEM/dm_names.txt'), dtype='str')\n",
    "\n",
    "# MMD-MA data\n",
    "# dataset_name = 'MMD-MA'\n",
    "# M1 = pd.read_csv(os.path.join(DATA_FOLDER, 'UnionCom/MMD/s1_mapped1.txt'), delimiter='\\t', header=None).to_numpy()\n",
    "# M2 = pd.read_csv(os.path.join(DATA_FOLDER, 'UnionCom/MMD/s1_mapped2.txt'), delimiter='\\t', header=None).to_numpy()\n",
    "# T1 = pd.read_csv(os.path.join(DATA_FOLDER, 'UnionCom/MMD/s1_type1.txt'), delimiter='\\t', header=None).to_numpy()\n",
    "# T2 = pd.read_csv(os.path.join(DATA_FOLDER, 'UnionCom/MMD/s1_type2.txt'), delimiter='\\t', header=None).to_numpy()\n",
    "\n",
    "# Normalize\n",
    "M1 = np.nan_to_num((M1 - M1.mean(axis=0)) / M1.std(axis=0)) / 5\n",
    "M2 = np.nan_to_num((M2 - M2.mean(axis=0)) / M2.std(axis=0)) / 5\n",
    "\n",
    "# Subsample nodes\n",
    "num_nodes = 50\n",
    "idx = np.random.choice(M1.shape[0], num_nodes, replace=False)\n",
    "M1 = torch.tensor(M1[idx], dtype=torch.float32, device=DEVICE)\n",
    "M2 = torch.tensor(M2[idx], dtype=torch.float32, device=DEVICE)\n",
    "T1 = torch.tensor(T1[idx], dtype=torch.long, device=DEVICE)\n",
    "T2 = torch.tensor(T2[idx], dtype=torch.long, device=DEVICE)\n",
    "\n",
    "# Subsample features\n",
    "num_features = (16, 16)\n",
    "idx_1 = np.random.choice(M1.shape[1], num_features[0], replace=False)\n",
    "idx_2 = np.random.choice(M2.shape[1], num_features[1], replace=False)\n",
    "M1 = torch.tensor(M1[:, idx_1], dtype=torch.float32, device=DEVICE)\n",
    "M2 = torch.tensor(M2[:, idx_2], dtype=torch.float32, device=DEVICE)\n",
    "\n",
    "# Random data\n",
    "# dataset_name = 'Random'\n",
    "# num_nodes = 20\n",
    "# M1 = torch.rand((num_nodes, 8), device=DEVICE)\n",
    "# M2 = torch.rand((num_nodes, 16), device=DEVICE)\n",
    "\n",
    "# Record data kwargs\n",
    "modalities = (M1, M2)\n",
    "data_kwargs = {\n",
    "    'dataset': dataset_name,\n",
    "    'num_nodes': num_nodes,\n",
    "}"
   ]
  },
  {
   "cell_type": "code",
   "execution_count": 7,
   "metadata": {
    "execution": {
     "iopub.execute_input": "2024-05-08T19:44:40.806193Z",
     "iopub.status.busy": "2024-05-08T19:44:40.806038Z",
     "iopub.status.idle": "2024-05-08T19:44:40.836707Z",
     "shell.execute_reply": "2024-05-08T19:44:40.836143Z"
    }
   },
   "outputs": [],
   "source": [
    "# Environment\n",
    "# x, y, vx, vy\n",
    "num_dims = 2\n",
    "env_kwargs = {\n",
    "    'dim': num_dims,\n",
    "    'pos_bound': 2,\n",
    "    'vel_bound': 1,\n",
    "    'delta': .1,\n",
    "    'reward_distance': 10,\n",
    "    # 'reward_origin': 1,\n",
    "    'penalty_bound': 1,\n",
    "    'penalty_velocity': 1,\n",
    "    'penalty_action': 1,\n",
    "    'reward_distance_type': 'euclidean',\n",
    "}\n",
    "env = inept.environments.trajectory(*modalities, **env_kwargs, device=DEVICE)"
   ]
  },
  {
   "cell_type": "markdown",
   "metadata": {},
   "source": [
    "### Train Policy"
   ]
  },
  {
   "cell_type": "code",
   "execution_count": 8,
   "metadata": {
    "execution": {
     "iopub.execute_input": "2024-05-08T19:44:40.839128Z",
     "iopub.status.busy": "2024-05-08T19:44:40.838958Z",
     "iopub.status.idle": "2024-05-08T21:50:01.679004Z",
     "shell.execute_reply": "2024-05-08T21:50:01.678528Z"
    }
   },
   "outputs": [
    {
     "name": "stdout",
     "output_type": "stream",
     "text": [
      "Beginning training\n",
      "Subsampling 8000 states with minibatches of size 8000 from 200000 total.\n"
     ]
    },
    {
     "name": "stdout",
     "output_type": "stream",
     "text": [
      "Updating model with average reward -1.4861794186462671 on episode 20 and timestep 4000"
     ]
    },
    {
     "name": "stdout",
     "output_type": "stream",
     "text": [
      " (3.79 GB CUDA)\n"
     ]
    },
    {
     "name": "stdout",
     "output_type": "stream",
     "text": [
      "Updating model with average reward -1.3684505920995385 on episode 40 and timestep 8000"
     ]
    },
    {
     "name": "stdout",
     "output_type": "stream",
     "text": [
      " (3.79 GB CUDA)\n"
     ]
    },
    {
     "name": "stdout",
     "output_type": "stream",
     "text": [
      "Updating model with average reward -1.2659886709387018 on episode 60 and timestep 12000"
     ]
    },
    {
     "name": "stdout",
     "output_type": "stream",
     "text": [
      " (3.79 GB CUDA)\n"
     ]
    },
    {
     "name": "stdout",
     "output_type": "stream",
     "text": [
      "Updating model with average reward -1.155364594862834 on episode 80 and timestep 16000"
     ]
    },
    {
     "name": "stdout",
     "output_type": "stream",
     "text": [
      " (3.79 GB CUDA)\n"
     ]
    },
    {
     "name": "stdout",
     "output_type": "stream",
     "text": [
      "Updating model with average reward -1.05165240073125 on episode 100 and timestep 20000"
     ]
    },
    {
     "name": "stdout",
     "output_type": "stream",
     "text": [
      " (3.79 GB CUDA)\n"
     ]
    },
    {
     "name": "stdout",
     "output_type": "stream",
     "text": [
      "Updating model with average reward -0.9650112656755045 on episode 120 and timestep 24000"
     ]
    },
    {
     "name": "stdout",
     "output_type": "stream",
     "text": [
      " (3.79 GB CUDA)\n"
     ]
    },
    {
     "name": "stdout",
     "output_type": "stream",
     "text": [
      "Updating model with average reward -0.8874917128633661 on episode 140 and timestep 28000"
     ]
    },
    {
     "name": "stdout",
     "output_type": "stream",
     "text": [
      " (3.79 GB CUDA)\n"
     ]
    },
    {
     "name": "stdout",
     "output_type": "stream",
     "text": [
      "Updating model with average reward -0.7813832676538564 on episode 160 and timestep 32000"
     ]
    },
    {
     "name": "stdout",
     "output_type": "stream",
     "text": [
      " (3.79 GB CUDA)\n"
     ]
    },
    {
     "name": "stdout",
     "output_type": "stream",
     "text": [
      "Updating model with average reward -0.7074593216814276 on episode 180 and timestep 36000"
     ]
    },
    {
     "name": "stdout",
     "output_type": "stream",
     "text": [
      " (3.79 GB CUDA)\n"
     ]
    },
    {
     "name": "stdout",
     "output_type": "stream",
     "text": [
      "Updating model with average reward -0.6405917290770551 on episode 200 and timestep 40000"
     ]
    },
    {
     "name": "stdout",
     "output_type": "stream",
     "text": [
      " (3.79 GB CUDA)\n"
     ]
    },
    {
     "name": "stdout",
     "output_type": "stream",
     "text": [
      "Updating model with average reward -0.5893686301062501 on episode 220 and timestep 44000"
     ]
    },
    {
     "name": "stdout",
     "output_type": "stream",
     "text": [
      " (3.79 GB CUDA)\n"
     ]
    },
    {
     "name": "stdout",
     "output_type": "stream",
     "text": [
      "Updating model with average reward -0.5402739837848091 on episode 240 and timestep 48000"
     ]
    },
    {
     "name": "stdout",
     "output_type": "stream",
     "text": [
      " (3.79 GB CUDA)\n"
     ]
    },
    {
     "name": "stdout",
     "output_type": "stream",
     "text": [
      "Updating model with average reward -0.4987224031773764 on episode 260 and timestep 52000"
     ]
    },
    {
     "name": "stdout",
     "output_type": "stream",
     "text": [
      " (3.79 GB CUDA)\n"
     ]
    },
    {
     "name": "stdout",
     "output_type": "stream",
     "text": [
      "Updating model with average reward -0.47500457889845243 on episode 280 and timestep 56000"
     ]
    },
    {
     "name": "stdout",
     "output_type": "stream",
     "text": [
      " (3.79 GB CUDA)\n"
     ]
    },
    {
     "name": "stdout",
     "output_type": "stream",
     "text": [
      "Updating model with average reward -0.4429691364530717 on episode 300 and timestep 60000"
     ]
    },
    {
     "name": "stdout",
     "output_type": "stream",
     "text": [
      " (3.79 GB CUDA)\n"
     ]
    },
    {
     "name": "stdout",
     "output_type": "stream",
     "text": [
      "Updating model with average reward -0.43560437256601814 on episode 320 and timestep 64000"
     ]
    },
    {
     "name": "stdout",
     "output_type": "stream",
     "text": [
      " (3.79 GB CUDA)\n"
     ]
    },
    {
     "name": "stdout",
     "output_type": "stream",
     "text": [
      "Updating model with average reward -0.42094385071213136 on episode 340 and timestep 68000"
     ]
    },
    {
     "name": "stdout",
     "output_type": "stream",
     "text": [
      " (3.79 GB CUDA)\n"
     ]
    },
    {
     "name": "stdout",
     "output_type": "stream",
     "text": [
      "Updating model with average reward -0.4051438178902672 on episode 360 and timestep 72000"
     ]
    },
    {
     "name": "stdout",
     "output_type": "stream",
     "text": [
      " (3.79 GB CUDA)\n"
     ]
    },
    {
     "name": "stdout",
     "output_type": "stream",
     "text": [
      "Updating model with average reward -0.4010373742381498 on episode 380 and timestep 76000"
     ]
    },
    {
     "name": "stdout",
     "output_type": "stream",
     "text": [
      " (3.79 GB CUDA)\n"
     ]
    },
    {
     "name": "stdout",
     "output_type": "stream",
     "text": [
      "Updating model with average reward -0.3873332599363249 on episode 400 and timestep 80000"
     ]
    },
    {
     "name": "stdout",
     "output_type": "stream",
     "text": [
      " (3.79 GB CUDA)\n"
     ]
    },
    {
     "name": "stdout",
     "output_type": "stream",
     "text": [
      "Decaying std to 0.5499999999999999 on episode 419 and timestep 83800\n"
     ]
    },
    {
     "name": "stdout",
     "output_type": "stream",
     "text": [
      "Updating model with average reward -0.376677226895639 on episode 420 and timestep 84000"
     ]
    },
    {
     "name": "stdout",
     "output_type": "stream",
     "text": [
      " (3.79 GB CUDA)\n"
     ]
    },
    {
     "name": "stdout",
     "output_type": "stream",
     "text": [
      "Updating model with average reward -0.307500339882572 on episode 440 and timestep 88000"
     ]
    },
    {
     "name": "stdout",
     "output_type": "stream",
     "text": [
      " (3.79 GB CUDA)\n"
     ]
    },
    {
     "name": "stdout",
     "output_type": "stream",
     "text": [
      "Updating model with average reward -0.30659127881432124 on episode 460 and timestep 92000"
     ]
    },
    {
     "name": "stdout",
     "output_type": "stream",
     "text": [
      " (3.79 GB CUDA)\n"
     ]
    },
    {
     "name": "stdout",
     "output_type": "stream",
     "text": [
      "Updating model with average reward -0.2989338789848215 on episode 480 and timestep 96000"
     ]
    },
    {
     "name": "stdout",
     "output_type": "stream",
     "text": [
      " (3.79 GB CUDA)\n"
     ]
    },
    {
     "name": "stdout",
     "output_type": "stream",
     "text": [
      "Updating model with average reward -0.29318601153314433 on episode 500 and timestep 100000"
     ]
    },
    {
     "name": "stdout",
     "output_type": "stream",
     "text": [
      " (3.79 GB CUDA)\n"
     ]
    },
    {
     "name": "stdout",
     "output_type": "stream",
     "text": [
      "Updating model with average reward -0.2889223947134543 on episode 520 and timestep 104000"
     ]
    },
    {
     "name": "stdout",
     "output_type": "stream",
     "text": [
      " (3.79 GB CUDA)\n"
     ]
    },
    {
     "name": "stdout",
     "output_type": "stream",
     "text": [
      "Updating model with average reward -0.2846068095700376 on episode 540 and timestep 108000"
     ]
    },
    {
     "name": "stdout",
     "output_type": "stream",
     "text": [
      " (3.79 GB CUDA)\n"
     ]
    },
    {
     "name": "stdout",
     "output_type": "stream",
     "text": [
      "Updating model with average reward -0.28631953373505575 on episode 560 and timestep 112000"
     ]
    },
    {
     "name": "stdout",
     "output_type": "stream",
     "text": [
      " (3.79 GB CUDA)\n"
     ]
    },
    {
     "name": "stdout",
     "output_type": "stream",
     "text": [
      "Updating model with average reward -0.28947932896591216 on episode 580 and timestep 116000"
     ]
    },
    {
     "name": "stdout",
     "output_type": "stream",
     "text": [
      " (3.79 GB CUDA)\n"
     ]
    },
    {
     "name": "stdout",
     "output_type": "stream",
     "text": [
      "Updating model with average reward -0.2803184054872896 on episode 600 and timestep 120000"
     ]
    },
    {
     "name": "stdout",
     "output_type": "stream",
     "text": [
      " (3.79 GB CUDA)\n"
     ]
    },
    {
     "name": "stdout",
     "output_type": "stream",
     "text": [
      "Updating model with average reward -0.2836348638105657 on episode 620 and timestep 124000"
     ]
    },
    {
     "name": "stdout",
     "output_type": "stream",
     "text": [
      " (3.79 GB CUDA)\n"
     ]
    },
    {
     "name": "stdout",
     "output_type": "stream",
     "text": [
      "Updating model with average reward -0.28161024295606185 on episode 640 and timestep 128000"
     ]
    },
    {
     "name": "stdout",
     "output_type": "stream",
     "text": [
      " (3.79 GB CUDA)\n"
     ]
    },
    {
     "name": "stdout",
     "output_type": "stream",
     "text": [
      "Decaying std to 0.49999999999999994 on episode 643 and timestep 128600\n"
     ]
    },
    {
     "name": "stdout",
     "output_type": "stream",
     "text": [
      "Updating model with average reward -0.23673063935746075 on episode 660 and timestep 132000"
     ]
    },
    {
     "name": "stdout",
     "output_type": "stream",
     "text": [
      " (3.79 GB CUDA)\n"
     ]
    },
    {
     "name": "stdout",
     "output_type": "stream",
     "text": [
      "Updating model with average reward -0.21871966160509154 on episode 680 and timestep 136000"
     ]
    },
    {
     "name": "stdout",
     "output_type": "stream",
     "text": [
      " (3.79 GB CUDA)\n"
     ]
    },
    {
     "name": "stdout",
     "output_type": "stream",
     "text": [
      "Updating model with average reward -0.21662808454334884 on episode 700 and timestep 140000"
     ]
    },
    {
     "name": "stdout",
     "output_type": "stream",
     "text": [
      " (3.79 GB CUDA)\n"
     ]
    },
    {
     "name": "stdout",
     "output_type": "stream",
     "text": [
      "Updating model with average reward -0.22339909896758348 on episode 720 and timestep 144000"
     ]
    },
    {
     "name": "stdout",
     "output_type": "stream",
     "text": [
      " (3.79 GB CUDA)\n"
     ]
    },
    {
     "name": "stdout",
     "output_type": "stream",
     "text": [
      "Decaying std to 0.44999999999999996 on episode 732 and timestep 146400\n"
     ]
    },
    {
     "name": "stdout",
     "output_type": "stream",
     "text": [
      "Updating model with average reward -0.19668116914405684 on episode 740 and timestep 148000"
     ]
    },
    {
     "name": "stdout",
     "output_type": "stream",
     "text": [
      " (3.79 GB CUDA)\n"
     ]
    },
    {
     "name": "stdout",
     "output_type": "stream",
     "text": [
      "Updating model with average reward -0.16563468324176792 on episode 760 and timestep 152000"
     ]
    },
    {
     "name": "stdout",
     "output_type": "stream",
     "text": [
      " (3.79 GB CUDA)\n"
     ]
    },
    {
     "name": "stdout",
     "output_type": "stream",
     "text": [
      "Updating model with average reward -0.16843152744999598 on episode 780 and timestep 156000"
     ]
    },
    {
     "name": "stdout",
     "output_type": "stream",
     "text": [
      " (3.79 GB CUDA)\n"
     ]
    },
    {
     "name": "stdout",
     "output_type": "stream",
     "text": [
      "Decaying std to 0.39999999999999997 on episode 799 and timestep 159800\n"
     ]
    },
    {
     "name": "stdout",
     "output_type": "stream",
     "text": [
      "Updating model with average reward -0.1625951261600192 on episode 800 and timestep 160000"
     ]
    },
    {
     "name": "stdout",
     "output_type": "stream",
     "text": [
      " (3.79 GB CUDA)\n"
     ]
    },
    {
     "name": "stdout",
     "output_type": "stream",
     "text": [
      "Updating model with average reward -0.11553886100500858 on episode 820 and timestep 164000"
     ]
    },
    {
     "name": "stdout",
     "output_type": "stream",
     "text": [
      " (3.79 GB CUDA)\n"
     ]
    },
    {
     "name": "stdout",
     "output_type": "stream",
     "text": [
      "Updating model with average reward -0.11309662544666593 on episode 840 and timestep 168000"
     ]
    },
    {
     "name": "stdout",
     "output_type": "stream",
     "text": [
      " (3.79 GB CUDA)\n"
     ]
    },
    {
     "name": "stdout",
     "output_type": "stream",
     "text": [
      "Updating model with average reward -0.117256117599561 on episode 860 and timestep 172000"
     ]
    },
    {
     "name": "stdout",
     "output_type": "stream",
     "text": [
      " (3.79 GB CUDA)\n"
     ]
    },
    {
     "name": "stdout",
     "output_type": "stream",
     "text": [
      "Updating model with average reward -0.11456388843789755 on episode 880 and timestep 176000"
     ]
    },
    {
     "name": "stdout",
     "output_type": "stream",
     "text": [
      " (3.79 GB CUDA)\n"
     ]
    },
    {
     "name": "stdout",
     "output_type": "stream",
     "text": [
      "Decaying std to 0.35 on episode 892 and timestep 178400\n"
     ]
    },
    {
     "name": "stdout",
     "output_type": "stream",
     "text": [
      "Updating model with average reward -0.1000505280826243 on episode 900 and timestep 180000"
     ]
    },
    {
     "name": "stdout",
     "output_type": "stream",
     "text": [
      " (3.79 GB CUDA)\n"
     ]
    },
    {
     "name": "stdout",
     "output_type": "stream",
     "text": [
      "Updating model with average reward -0.07362657142354885 on episode 920 and timestep 184000"
     ]
    },
    {
     "name": "stdout",
     "output_type": "stream",
     "text": [
      " (3.79 GB CUDA)\n"
     ]
    },
    {
     "name": "stdout",
     "output_type": "stream",
     "text": [
      "Updating model with average reward -0.08074709075358849 on episode 940 and timestep 188000"
     ]
    },
    {
     "name": "stdout",
     "output_type": "stream",
     "text": [
      " (3.79 GB CUDA)\n"
     ]
    },
    {
     "name": "stdout",
     "output_type": "stream",
     "text": [
      "Decaying std to 0.3 on episode 958 and timestep 191600\n"
     ]
    },
    {
     "name": "stdout",
     "output_type": "stream",
     "text": [
      "Updating model with average reward -0.06934643481986368 on episode 960 and timestep 192000"
     ]
    },
    {
     "name": "stdout",
     "output_type": "stream",
     "text": [
      " (3.79 GB CUDA)\n"
     ]
    },
    {
     "name": "stdout",
     "output_type": "stream",
     "text": [
      "Updating model with average reward -0.04404377976948781 on episode 980 and timestep 196000"
     ]
    },
    {
     "name": "stdout",
     "output_type": "stream",
     "text": [
      " (3.79 GB CUDA)\n"
     ]
    },
    {
     "name": "stdout",
     "output_type": "stream",
     "text": [
      "Updating model with average reward -0.03908491041554131 on episode 1000 and timestep 200000"
     ]
    },
    {
     "name": "stdout",
     "output_type": "stream",
     "text": [
      " (3.79 GB CUDA)\n"
     ]
    },
    {
     "name": "stdout",
     "output_type": "stream",
     "text": [
      "Updating model with average reward -0.03889067292736021 on episode 1020 and timestep 204000"
     ]
    },
    {
     "name": "stdout",
     "output_type": "stream",
     "text": [
      " (3.79 GB CUDA)\n"
     ]
    },
    {
     "name": "stdout",
     "output_type": "stream",
     "text": [
      "Updating model with average reward -0.03780826585992966 on episode 1040 and timestep 208000"
     ]
    },
    {
     "name": "stdout",
     "output_type": "stream",
     "text": [
      " (3.79 GB CUDA)\n"
     ]
    },
    {
     "name": "stdout",
     "output_type": "stream",
     "text": [
      "Decaying std to 0.25 on episode 1044 and timestep 208800\n"
     ]
    },
    {
     "name": "stdout",
     "output_type": "stream",
     "text": [
      "Updating model with average reward -0.013490591471528932 on episode 1060 and timestep 212000"
     ]
    },
    {
     "name": "stdout",
     "output_type": "stream",
     "text": [
      " (3.79 GB CUDA)\n"
     ]
    },
    {
     "name": "stdout",
     "output_type": "stream",
     "text": [
      "Updating model with average reward -0.011732081596754942 on episode 1080 and timestep 216000"
     ]
    },
    {
     "name": "stdout",
     "output_type": "stream",
     "text": [
      " (3.79 GB CUDA)\n"
     ]
    },
    {
     "name": "stdout",
     "output_type": "stream",
     "text": [
      "Updating model with average reward -0.005370778514915455 on episode 1100 and timestep 220000"
     ]
    },
    {
     "name": "stdout",
     "output_type": "stream",
     "text": [
      " (3.79 GB CUDA)\n"
     ]
    },
    {
     "name": "stdout",
     "output_type": "stream",
     "text": [
      "Decaying std to 0.2 on episode 1109 and timestep 221800\n"
     ]
    },
    {
     "name": "stdout",
     "output_type": "stream",
     "text": [
      "Updating model with average reward 0.0018402363342591252 on episode 1120 and timestep 224000"
     ]
    },
    {
     "name": "stdout",
     "output_type": "stream",
     "text": [
      " (3.79 GB CUDA)\n"
     ]
    },
    {
     "name": "stdout",
     "output_type": "stream",
     "text": [
      "Updating model with average reward 0.023794792113746917 on episode 1140 and timestep 228000"
     ]
    },
    {
     "name": "stdout",
     "output_type": "stream",
     "text": [
      " (3.79 GB CUDA)\n"
     ]
    },
    {
     "name": "stdout",
     "output_type": "stream",
     "text": [
      "Updating model with average reward 0.024287385194749822 on episode 1160 and timestep 232000"
     ]
    },
    {
     "name": "stdout",
     "output_type": "stream",
     "text": [
      " (3.79 GB CUDA)\n"
     ]
    },
    {
     "name": "stdout",
     "output_type": "stream",
     "text": [
      "Updating model with average reward 0.01150873805789908 on episode 1180 and timestep 236000"
     ]
    },
    {
     "name": "stdout",
     "output_type": "stream",
     "text": [
      " (3.79 GB CUDA)\n"
     ]
    },
    {
     "name": "stdout",
     "output_type": "stream",
     "text": [
      "Decaying std to 0.15000000000000002 on episode 1195 and timestep 239000\n"
     ]
    },
    {
     "name": "stdout",
     "output_type": "stream",
     "text": [
      "Updating model with average reward 0.024146723235422413 on episode 1200 and timestep 240000"
     ]
    },
    {
     "name": "stdout",
     "output_type": "stream",
     "text": [
      " (3.79 GB CUDA)\n"
     ]
    },
    {
     "name": "stdout",
     "output_type": "stream",
     "text": [
      "Updating model with average reward 0.03511320679680656 on episode 1220 and timestep 244000"
     ]
    },
    {
     "name": "stdout",
     "output_type": "stream",
     "text": [
      " (3.79 GB CUDA)\n"
     ]
    },
    {
     "name": "stdout",
     "output_type": "stream",
     "text": [
      "Updating model with average reward 0.035516927432864304 on episode 1240 and timestep 248000"
     ]
    },
    {
     "name": "stdout",
     "output_type": "stream",
     "text": [
      " (3.79 GB CUDA)\n"
     ]
    },
    {
     "name": "stdout",
     "output_type": "stream",
     "text": [
      "Updating model with average reward 0.035993477735385505 on episode 1260 and timestep 252000"
     ]
    },
    {
     "name": "stdout",
     "output_type": "stream",
     "text": [
      " (3.79 GB CUDA)\n"
     ]
    },
    {
     "name": "stdout",
     "output_type": "stream",
     "text": [
      "Decaying std to 0.10000000000000002 on episode 1279 and timestep 255800\n"
     ]
    },
    {
     "name": "stdout",
     "output_type": "stream",
     "text": [
      "Updating model with average reward 0.03610493618437096 on episode 1280 and timestep 256000"
     ]
    },
    {
     "name": "stdout",
     "output_type": "stream",
     "text": [
      " (3.79 GB CUDA)\n"
     ]
    },
    {
     "name": "stdout",
     "output_type": "stream",
     "text": [
      "Updating model with average reward 0.0471286198416561 on episode 1300 and timestep 260000"
     ]
    },
    {
     "name": "stdout",
     "output_type": "stream",
     "text": [
      " (3.79 GB CUDA)\n"
     ]
    },
    {
     "name": "stdout",
     "output_type": "stream",
     "text": [
      "Updating model with average reward 0.05033959953889232 on episode 1320 and timestep 264000"
     ]
    },
    {
     "name": "stdout",
     "output_type": "stream",
     "text": [
      " (3.79 GB CUDA)\n"
     ]
    },
    {
     "name": "stdout",
     "output_type": "stream",
     "text": [
      "Updating model with average reward 0.05540788958987853 on episode 1340 and timestep 268000"
     ]
    },
    {
     "name": "stdout",
     "output_type": "stream",
     "text": [
      " (3.79 GB CUDA)\n"
     ]
    },
    {
     "name": "stdout",
     "output_type": "stream",
     "text": [
      "Decaying std to 0.1 on episode 1356 and timestep 271200\n"
     ]
    },
    {
     "name": "stdout",
     "output_type": "stream",
     "text": [
      "Updating model with average reward 0.05324814108510014 on episode 1360 and timestep 272000"
     ]
    },
    {
     "name": "stdout",
     "output_type": "stream",
     "text": [
      " (3.79 GB CUDA)\n"
     ]
    },
    {
     "name": "stdout",
     "output_type": "stream",
     "text": [
      "Updating model with average reward 0.052663276845081784 on episode 1380 and timestep 276000"
     ]
    },
    {
     "name": "stdout",
     "output_type": "stream",
     "text": [
      " (3.79 GB CUDA)\n"
     ]
    },
    {
     "name": "stdout",
     "output_type": "stream",
     "text": [
      "Updating model with average reward 0.05660696620069655 on episode 1400 and timestep 280000"
     ]
    },
    {
     "name": "stdout",
     "output_type": "stream",
     "text": [
      " (3.79 GB CUDA)\n"
     ]
    },
    {
     "name": "stdout",
     "output_type": "stream",
     "text": [
      "Updating model with average reward 0.050254890631361106 on episode 1420 and timestep 284000"
     ]
    },
    {
     "name": "stdout",
     "output_type": "stream",
     "text": [
      " (3.79 GB CUDA)\n"
     ]
    },
    {
     "name": "stdout",
     "output_type": "stream",
     "text": [
      "Ending early on episode 1436 and timestep 287200\n",
      "\n",
      "Reset Environment: 0.17257263987266924\n",
      "Environment Setup: 3297.6846694385167\n",
      "Calculate Actions: 1684.7094423648814\n"
     ]
    },
    {
     "name": "stdout",
     "output_type": "stream",
     "text": [
      "Step Environment: 205.5562401945208\n",
      "Record Rewards: 178.18715313302528\n",
      "Record Stats: 0.48038218487636186\n",
      "Early Stopping: 0.018218705896288157\n",
      "Update Policy: 2098.469653935972\n",
      "Total: 7465.2783325975615\n"
     ]
    }
   ],
   "source": [
    "# Tracking parameters\n",
    "# Use `watch -d -n 0.5 nvidia-smi` to watch CUDA memory usage\n",
    "# Use `top` to watch system memory usage\n",
    "use_wandb = True\n",
    "\n",
    "# Policy parameters\n",
    "input_dims = 2*num_dims+sum([m.shape[1] for m in modalities])\n",
    "batch_split_factor = 1  # Set to high if large number of features\n",
    "update_minibatch = int( 4e4 * (10 / num_nodes) / batch_split_factor )\n",
    "update_max_batch = batch_split_factor * update_minibatch  # Only run one minibatch, empirically the benefit is minimal compared to time loss\n",
    "policy_kwargs = {\n",
    "    'num_features_per_node': input_dims,\n",
    "    'output_dim': num_dims,\n",
    "    'action_std_init': .6,\n",
    "    'action_std_decay': .05,\n",
    "    'action_std_min': .1,\n",
    "    'actor_lr': 3e-4,\n",
    "    'critic_lr': 1e-3,\n",
    "    'lr_gamma': 1,\n",
    "    'update_minibatch': update_minibatch,  # Based on no minibatches needed with 10 nodes at 4k update timesteps\n",
    "    'update_max_batch': update_max_batch,  # Try making larger, e.g. 20x minibatches\n",
    "    'device': DEVICE,\n",
    "}\n",
    "policy = inept.models.PPO(**policy_kwargs)\n",
    "\n",
    "# Training parameters\n",
    "max_ep_timesteps = 2e2  # 2e2\n",
    "max_timesteps = 1e6\n",
    "update_timesteps = 4e3  # 20 * max_ep_timesteps\n",
    "train_kwargs = {\n",
    "    'max_ep_timesteps': max_ep_timesteps,\n",
    "    'max_timesteps': max_timesteps,\n",
    "    'update_timesteps': update_timesteps,\n",
    "}\n",
    "\n",
    "# Early stopping parameters\n",
    "es_kwargs = {\n",
    "    'buffer': 3 * int(update_timesteps / max_ep_timesteps),\n",
    "    'delta': .01,\n",
    "}\n",
    "early_stopping = inept.utilities.EarlyStopping(**es_kwargs)\n",
    "\n",
    "# Initialize wandb\n",
    "if use_wandb: wandb.init(\n",
    "    project='INEPT',\n",
    "    config={\n",
    "        **{'note/'+k:v for k, v in note_kwargs.items()},\n",
    "        **{'data/'+k:v for k, v in data_kwargs.items()},\n",
    "        **{'env/'+k:v for k, v in env_kwargs.items()},\n",
    "        **{'policy/'+k:v for k, v in policy_kwargs.items()},\n",
    "        **{'train/'+k:v for k, v in train_kwargs.items()},\n",
    "        **{'es/'+k:v for k, v in es_kwargs.items()},\n",
    "    },\n",
    ")\n",
    "\n",
    "# Initialize logging vars\n",
    "torch.cuda.reset_peak_memory_stats()\n",
    "timer = inept.utilities.time_logger(discard_first_sample=True)\n",
    "timestep = 0; episode = 1\n",
    "\n",
    "# CLI\n",
    "print('Beginning training')\n",
    "print(f'Subsampling {update_max_batch} states with minibatches of size {update_minibatch} from {int(update_timesteps * num_nodes)} total.')\n",
    "\n",
    "# Simulation loop\n",
    "while timestep < max_timesteps:\n",
    "    # Reset environment\n",
    "    env.reset()\n",
    "    # env.reward_scales['reward_origin'] = episode / 1e3\n",
    "    timer.log('Reset Environment')\n",
    "\n",
    "    # Start episode\n",
    "    ep_timestep = 0; ep_reward = 0; ep_itemized_reward = defaultdict(lambda: 0)\n",
    "    while ep_timestep < max_ep_timesteps:\n",
    "        with torch.no_grad():\n",
    "            # Get current state\n",
    "            state = env.get_state(include_modalities=True)\n",
    "\n",
    "            # Get self features for each node\n",
    "            self_entity = state\n",
    "\n",
    "            # Get node features for each state\n",
    "            idx = torch.zeros((num_nodes, num_nodes), dtype=torch.bool)\n",
    "            for i, j in itertools.product(*[range(x) for x in idx.shape]):\n",
    "                idx[i, j] = i!=j\n",
    "            node_entities = state.unsqueeze(0).expand(num_nodes, *state.shape)\n",
    "            node_entities = node_entities[idx].reshape(num_nodes, num_nodes-1, input_dims)\n",
    "            timer.log('Environment Setup')\n",
    "\n",
    "            # Get actions from policy\n",
    "            actions = policy.act(self_entity, node_entities).detach()\n",
    "            timer.log('Calculate Actions')\n",
    "\n",
    "            # Step environment and get reward\n",
    "            rewards, finished, itemized_rewards = env.step(actions, return_rewards=True)\n",
    "            timer.log('Step Environment')\n",
    "\n",
    "            # Record rewards\n",
    "            for key in range(num_nodes):\n",
    "                policy.memory.rewards.append(rewards[key].item())  # Could just add lists\n",
    "                policy.memory.is_terminals.append(finished)\n",
    "            ep_reward = ep_reward + rewards.cpu().mean()\n",
    "            for k, v in itemized_rewards.items():\n",
    "                ep_itemized_reward[k] += v.cpu().mean()\n",
    "            timer.log('Record Rewards')\n",
    "\n",
    "        # Iterate\n",
    "        timestep += 1\n",
    "        ep_timestep += 1\n",
    "\n",
    "        # Update model\n",
    "        if timestep % update_timesteps == 0:\n",
    "            print(f'Updating model with average reward {np.mean(policy.memory.rewards)} on episode {episode} and timestep {timestep}', end='')\n",
    "            policy.update()\n",
    "            print(f' ({torch.cuda.max_memory_allocated() / 1024**3:.2f} GB CUDA)')\n",
    "            torch.cuda.reset_peak_memory_stats()\n",
    "            timer.log('Update Policy')\n",
    "\n",
    "        # Escape if finished\n",
    "        if finished: break\n",
    "\n",
    "    # Upload stats\n",
    "    ep_reward = (ep_reward / ep_timestep).item()\n",
    "    if use_wandb:\n",
    "        wandb.log({\n",
    "            **{\n",
    "            'episode': episode,\n",
    "            'update': int(timestep / update_timesteps),\n",
    "            'end_timestep': timestep,\n",
    "            'average_reward': ep_reward,\n",
    "            'action_std': policy.action_std,\n",
    "            },\n",
    "            **{'rewards/'+k: (v / ep_timestep).item() for k, v in ep_itemized_reward.items()},\n",
    "        })\n",
    "    timer.log('Record Stats')\n",
    "\n",
    "    # Decay model std\n",
    "    if early_stopping(ep_reward):\n",
    "        # End if already at minimum\n",
    "        if policy.action_std <= policy.action_std_min:\n",
    "            print(f'Ending early on episode {episode} and timestep {timestep}')\n",
    "            break\n",
    "\n",
    "        # Decay and reset early stop\n",
    "        policy.decay_action_std()\n",
    "        early_stopping.reset()\n",
    "\n",
    "        # CLI\n",
    "        print(f'Decaying std to {policy.action_std} on episode {episode} and timestep {timestep}')\n",
    "    timer.log('Early Stopping')\n",
    "\n",
    "    # Iterate\n",
    "    episode += 1\n",
    "\n",
    "# CLI Timer\n",
    "print()\n",
    "timer.aggregate('sum')\n",
    "\n",
    "# Save model\n",
    "wgt_file = os.path.join(MODEL_FOLDER, 'policy.wgt')\n",
    "torch.save(policy.state_dict(), wgt_file)  # Save just weights\n",
    "if use_wandb: wandb.save(wgt_file)\n",
    "mdl_file = os.path.join(MODEL_FOLDER, 'policy.mdl')\n",
    "torch.save(policy, mdl_file)  # Save whole model\n",
    "if use_wandb: wandb.save(mdl_file)\n",
    "\n",
    "# Finish wandb\n",
    "if use_wandb: wandb.finish()"
   ]
  }
 ],
 "metadata": {
  "kernelspec": {
   "display_name": "inept",
   "language": "python",
   "name": "python3"
  },
  "language_info": {
   "codemirror_mode": {
    "name": "ipython",
    "version": 3
   },
   "file_extension": ".py",
   "mimetype": "text/x-python",
   "name": "python",
   "nbconvert_exporter": "python",
   "pygments_lexer": "ipython3",
   "version": "3.10.14"
  }
 },
 "nbformat": 4,
 "nbformat_minor": 2
}
