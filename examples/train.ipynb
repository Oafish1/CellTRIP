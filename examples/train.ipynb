{
 "cells": [
  {
   "cell_type": "code",
   "execution_count": 1,
   "metadata": {
    "execution": {
     "iopub.execute_input": "2024-09-14T21:05:38.295102Z",
     "iopub.status.busy": "2024-09-14T21:05:38.294637Z",
     "iopub.status.idle": "2024-09-14T21:05:38.298799Z",
     "shell.execute_reply": "2024-09-14T21:05:38.298291Z"
    }
   },
   "outputs": [],
   "source": [
    "## To Check\n",
    "# Check that rewards are normalized after (?) advantage\n",
    "\n",
    "## High Priority Training Changes\n",
    "# Make backward (MAX_NODES, MAX_BATCH) batching work\n",
    "# Add multithreading to forward and distributed to backward\n",
    "# Add compatibility for env being on CPU, check for timing changes\n",
    "\n",
    "## Backburner Priority Training Changes\n",
    "# Add compatibility for cells with missing modalities (add mask to distance reward)\n",
    "# Try imitation learning to better learn CT trajectories\n",
    "# Add parallel envs of different sizes, with different data to help generality\n",
    "# Fix off-center positioning in large environments\n",
    "# Revise distance reward - Maybe add cell attraction (all should be close to each other) and repulsion (repulsion based on distance in modality)\n",
    "# Revise velocity and action penalties to encourage early cell-type separation (i.e. sqrt of vec length or similar)\n",
    "\n",
    "## Bookkeeping and QOL\n",
    "# Save every time early stopping occurs\n",
    "# Hook up sweeps API for wandb"
   ]
  },
  {
   "cell_type": "code",
   "execution_count": 2,
   "metadata": {
    "execution": {
     "iopub.execute_input": "2024-09-14T21:05:38.301030Z",
     "iopub.status.busy": "2024-09-14T21:05:38.300847Z",
     "iopub.status.idle": "2024-09-14T21:05:38.303693Z",
     "shell.execute_reply": "2024-09-14T21:05:38.303184Z"
    }
   },
   "outputs": [],
   "source": [
    "# Original paper (pg 24)\n",
    "# https://arxiv.org/pdf/1909.07528.pdf\n",
    "\n",
    "# Original blog\n",
    "# https://openai.com/research/emergent-tool-use\n",
    "\n",
    "# Gym\n",
    "# https://gymnasium.farama.org/\n",
    "\n",
    "# Slides\n",
    "# https://glouppe.github.io/info8004-advanced-machine-learning/pdf/pleroy-hide-and-seek.pdf\n",
    "\n",
    "# PPO implementation\n",
    "# https://github.com/nikhilbarhate99/PPO-PyTorch/blob/master/PPO.py#L38\n",
    "\n",
    "# Residual SA\n",
    "# https://github.com/openai/multi-agent-emergence-environments/blob/bafaf1e11e6398624116761f91ae7c93b136f395/ma_policy/layers.py#L89"
   ]
  },
  {
   "cell_type": "code",
   "execution_count": 3,
   "metadata": {
    "execution": {
     "iopub.execute_input": "2024-09-14T21:05:38.306026Z",
     "iopub.status.busy": "2024-09-14T21:05:38.305811Z",
     "iopub.status.idle": "2024-09-14T21:05:38.321461Z",
     "shell.execute_reply": "2024-09-14T21:05:38.320963Z"
    }
   },
   "outputs": [
    {
     "name": "stdout",
     "output_type": "stream",
     "text": [
      "env: WANDB_NOTEBOOK_NAME=train.ipynb\n",
      "env: WANDB_SILENT=true\n"
     ]
    }
   ],
   "source": [
    "%load_ext autoreload\n",
    "%autoreload 2\n",
    "%env WANDB_NOTEBOOK_NAME train.ipynb\n",
    "%env WANDB_SILENT true"
   ]
  },
  {
   "cell_type": "code",
   "execution_count": 4,
   "metadata": {
    "execution": {
     "iopub.execute_input": "2024-09-14T21:05:38.349585Z",
     "iopub.status.busy": "2024-09-14T21:05:38.349180Z",
     "iopub.status.idle": "2024-09-14T21:05:40.118724Z",
     "shell.execute_reply": "2024-09-14T21:05:40.118237Z"
    }
   },
   "outputs": [],
   "source": [
    "from collections import defaultdict\n",
    "import os\n",
    "\n",
    "import inept\n",
    "import numpy as np\n",
    "import pandas as pd\n",
    "import torch\n",
    "import wandb\n",
    "\n",
    "# Set params\n",
    "DEVICE = 'cuda' if torch.cuda.is_available() else 'cpu'\n",
    "DATA_FOLDER = os.path.join(os.path.abspath(''), '../data')\n",
    "MODEL_FOLDER = os.path.join(os.path.abspath(''), 'temp/trained_models')\n",
    "\n",
    "# Script arguments\n",
    "# import sys\n",
    "# arg1 = int(sys.argv[1])"
   ]
  },
  {
   "cell_type": "code",
   "execution_count": 5,
   "metadata": {
    "execution": {
     "iopub.execute_input": "2024-09-14T21:05:40.120959Z",
     "iopub.status.busy": "2024-09-14T21:05:40.120808Z",
     "iopub.status.idle": "2024-09-14T21:05:40.141851Z",
     "shell.execute_reply": "2024-09-14T21:05:40.141269Z"
    }
   },
   "outputs": [],
   "source": [
    "# Reproducibility\n",
    "seed = 42\n",
    "torch.manual_seed(seed)\n",
    "if DEVICE == 'cuda': torch.cuda.manual_seed(seed)\n",
    "np.random.seed(seed)\n",
    "\n",
    "note_kwargs = {'seed': seed}"
   ]
  },
  {
   "cell_type": "markdown",
   "metadata": {},
   "source": [
    "### Load Data"
   ]
  },
  {
   "cell_type": "code",
   "execution_count": 6,
   "metadata": {
    "execution": {
     "iopub.execute_input": "2024-09-14T21:05:40.144407Z",
     "iopub.status.busy": "2024-09-14T21:05:40.144079Z",
     "iopub.status.idle": "2024-09-14T21:07:58.078196Z",
     "shell.execute_reply": "2024-09-14T21:07:58.077700Z"
    }
   },
   "outputs": [],
   "source": [
    "# Dataset loading\n",
    "dataset_name = 'BrainChromatin'\n",
    "\n",
    "if dataset_name == 'scNMT':\n",
    "    dataset_dir = os.path.join(DATA_FOLDER, 'UnionCom/scNMT')\n",
    "    M1 = pd.read_csv(os.path.join(dataset_dir, 'Paccessibility_300.txt'), delimiter=' ', header=None).to_numpy()\n",
    "    M2 = pd.read_csv(os.path.join(dataset_dir, 'Pmethylation_300.txt'), delimiter=' ', header=None).to_numpy()\n",
    "    M3 = pd.read_csv(os.path.join(dataset_dir, 'RNA_300.txt'), delimiter=' ', header=None).to_numpy()\n",
    "    T1 = pd.read_csv(os.path.join(dataset_dir, 'type1.txt'), delimiter=' ', header=None).to_numpy().flatten()\n",
    "    T2 = pd.read_csv(os.path.join(dataset_dir, 'type2.txt'), delimiter=' ', header=None).to_numpy().flatten()\n",
    "    T3 = pd.read_csv(os.path.join(dataset_dir, 'type3.txt'), delimiter=' ', header=None).to_numpy().flatten()\n",
    "\n",
    "elif dataset_name == 'BrainChromatin':\n",
    "    nrows = None  # 2_000\n",
    "    M1 = pd.read_csv(os.path.join(DATA_FOLDER, 'brainchromatin/multiome_rna_counts.tsv'), delimiter='\\t', nrows=nrows).transpose()  # 4.6 Gb in memory\n",
    "    M2 = pd.read_csv(os.path.join(DATA_FOLDER, 'brainchromatin/multiome_atac_gene_activities.tsv'), delimiter='\\t', nrows=nrows).transpose()  # 2.6 Gb in memory\n",
    "    M2 = M2.transpose()[M1.index].transpose()\n",
    "    meta = pd.read_csv(os.path.join(DATA_FOLDER, 'brainchromatin/multiome_cell_metadata.txt'), delimiter='\\t')\n",
    "    meta_names = pd.read_csv(os.path.join(DATA_FOLDER, 'brainchromatin/multiome_cluster_names.txt'), delimiter='\\t')\n",
    "    meta_names = meta_names[meta_names['Assay'] == 'Multiome ATAC']\n",
    "    meta = pd.merge(meta, meta_names, left_on='ATAC_cluster', right_on='Cluster.ID', how='left')\n",
    "    meta.index = meta['Cell.ID']\n",
    "    T1 = T2 = np.array(meta.transpose()[M1.index].transpose()['Cluster.Name'])\n",
    "    F1, F2 = M1.columns, M2.columns\n",
    "    M1, M2 = M1.to_numpy(), M2.to_numpy()\n",
    "\n",
    "    del meta, meta_names\n",
    "\n",
    "elif dataset_name == 'scGEM':\n",
    "    M1 = pd.read_csv(os.path.join(DATA_FOLDER, 'UnionCom/scGEM/GeneExpression.txt'), delimiter=' ', header=None).to_numpy()\n",
    "    M2 = pd.read_csv(os.path.join(DATA_FOLDER, 'UnionCom/scGEM/DNAmethylation.txt'), delimiter=' ', header=None).to_numpy()\n",
    "    T1 = pd.read_csv(os.path.join(DATA_FOLDER, 'UnionCom/scGEM/type1.txt'), delimiter=' ', header=None).to_numpy()\n",
    "    T2 = pd.read_csv(os.path.join(DATA_FOLDER, 'UnionCom/scGEM/type2.txt'), delimiter=' ', header=None).to_numpy()\n",
    "    F1 = np.loadtxt(os.path.join(DATA_FOLDER, 'UnionCom/scGEM/gex_names.txt'), dtype='str')\n",
    "    F2 = np.loadtxt(os.path.join(DATA_FOLDER, 'UnionCom/scGEM/dm_names.txt'), dtype='str')\n",
    "\n",
    "# MMD-MA data\n",
    "elif dataset_name == 'MMD-MA':\n",
    "    M1 = pd.read_csv(os.path.join(DATA_FOLDER, 'UnionCom/MMD/s1_mapped1.txt'), delimiter='\\t', header=None).to_numpy()\n",
    "    M2 = pd.read_csv(os.path.join(DATA_FOLDER, 'UnionCom/MMD/s1_mapped2.txt'), delimiter='\\t', header=None).to_numpy()\n",
    "    T1 = pd.read_csv(os.path.join(DATA_FOLDER, 'UnionCom/MMD/s1_type1.txt'), delimiter='\\t', header=None).to_numpy()\n",
    "    T2 = pd.read_csv(os.path.join(DATA_FOLDER, 'UnionCom/MMD/s1_type2.txt'), delimiter='\\t', header=None).to_numpy()\n",
    "\n",
    "# Random data\n",
    "elif dataset_name == 'Random':\n",
    "    num_nodes = 100\n",
    "    M1 = torch.rand((num_nodes, 8), device=DEVICE)\n",
    "    M2 = torch.rand((num_nodes, 16), device=DEVICE)\n",
    "\n",
    "else: assert False, 'No matching dataset found.'\n",
    "\n",
    "# Parameters\n",
    "num_nodes = 100  # M1.shape[0]\n",
    "modalities = [M1, M2]  # [[M1, M2, M3][1]]  # TODO: Make more flexible\n",
    "types = [T1, T2]  # [[T1, T2, T3][1]]\n",
    "\n",
    "# Modify data\n",
    "# modalities = inept.utilities.normalize(*modalities, keep_array=True)  # Normalize\n",
    "modalities = inept.utilities.pca_features(*modalities, num_features=(512, 512), keep_array=True)  # PCA features (2 min for 8k x 35+k)\n",
    "subsample = inept.utilities.subsample_nodes(*modalities, *types, num_nodes=num_nodes, keep_array=True)  # Subsample nodes\n",
    "modalities, types = subsample[:len(modalities)], subsample[len(modalities):]\n",
    "# modalities = inept.utilities.subsample_features(*modalities, num_features=(16, 16), keep_array=True)  # Subsample features\n",
    "\n",
    "# Cast types\n",
    "modalities = [torch.tensor(Mx, dtype=torch.float32, device=DEVICE) for Mx in modalities]"
   ]
  },
  {
   "cell_type": "markdown",
   "metadata": {},
   "source": [
    "### Parameters"
   ]
  },
  {
   "cell_type": "code",
   "execution_count": 7,
   "metadata": {
    "execution": {
     "iopub.execute_input": "2024-09-14T21:07:58.080477Z",
     "iopub.status.busy": "2024-09-14T21:07:58.080336Z",
     "iopub.status.idle": "2024-09-14T21:07:58.100649Z",
     "shell.execute_reply": "2024-09-14T21:07:58.100208Z"
    }
   },
   "outputs": [],
   "source": [
    "# Data parameters\n",
    "data_kwargs = {\n",
    "    'dataset': dataset_name,\n",
    "    'num_nodes': num_nodes,\n",
    "}\n",
    "\n",
    "# Environment parameters\n",
    "env_kwargs = {\n",
    "    'dim': 32,  # 2 = (x, y, vx, vy), 3 = (x, y, z, vx, vy, vz)\n",
    "    'pos_bound': 10,\n",
    "    'pos_rand_bound': 1,\n",
    "    'vel_bound': 1,\n",
    "    'delta': .1,\n",
    "    # 'reward_distance': 0,\n",
    "    # 'reward_origin': 0,\n",
    "    # 'penalty_bound': 0,\n",
    "    # 'penalty_velocity': 0,\n",
    "    # 'penalty_action': 0,\n",
    "    'reward_distance_type': 'euclidean',\n",
    "}\n",
    "\n",
    "# Environment weight stages\n",
    "stages_kwargs = {\n",
    "    'env': (\n",
    "        # Stage 0\n",
    "        {'penalty_bound': 1},\n",
    "        # Stage 1\n",
    "        {'reward_origin': 1},\n",
    "        # Stage 2\n",
    "        {'penalty_velocity': 1, 'penalty_action': 1},\n",
    "        # Stage 3\n",
    "        {'reward_origin': 0, 'reward_distance': 1},\n",
    "    ),\n",
    "}\n",
    "\n",
    "# Training parameters\n",
    "max_ep_timesteps = 1e3\n",
    "update_timesteps = 5 * max_ep_timesteps\n",
    "max_timesteps = 1e3 * update_timesteps\n",
    "MAX_BATCH = min( 500, data_kwargs['num_nodes'] )  # NOTE: value should be similar to update_minibatch, if a bit larger\n",
    "MAX_NODES = min( 50, data_kwargs['num_nodes'] )  # Larger means smaller minibatches but a fuller picture for each agent\n",
    "MAX_BATCH = MAX_NODES = None  # TODO: Currently values other than `None` do not work with update\n",
    "train_kwargs = {\n",
    "    'max_ep_timesteps': max_ep_timesteps,\n",
    "    'max_timesteps': max_timesteps,\n",
    "    'update_timesteps': update_timesteps,\n",
    "    'max_batch': MAX_BATCH,  # Max number of nodes to calculate actions for at a time\n",
    "    'max_nodes': MAX_NODES,  # Max number of nodes to use as neighbors in action calculation\n",
    "}\n",
    "\n",
    "# Policy parameters\n",
    "# num_train_nodes = data_kwargs['num_nodes'] if train_kwargs['max_nodes'] is None else min(data_kwargs['num_nodes'], train_kwargs['max_nodes'])\n",
    "# GPU_MEMORY = 6; CPU_MEMORY = 16  # Optimized for 6Gb VRAM and 16Gb RAM\n",
    "# MAX_GPU_RUN_SAMPLES = int( .8 * (GPU_MEMORY / 6) * 1e4 * (2000 / sum(M.shape[1] for M in modalities)) * (20 / num_train_nodes) )\n",
    "# GPU_STORE_SAMPLES = int( 2 * MAX_GPU_RUN_SAMPLES )  # 3\n",
    "# MAX_CPU_SAMPLES = int( (CPU_MEMORY / GPU_MEMORY) * MAX_GPU_RUN_SAMPLES )\n",
    "# IDEAL_BATCH_SIZE = int( max_ep_timesteps )\n",
    "update_maxbatch = None  # `MAX_CPU_SAMPLES`, `None` takes slightly longer but is more reliable\n",
    "update_batch = int(5e4)  # Same or larger size as `update_maxbatch` skips GPU cast step inside epoch loop\n",
    "update_minibatch = int(2e3)\n",
    "policy_kwargs = {\n",
    "    # Main arguments\n",
    "    'num_features_per_node': 2*env_kwargs['dim'],\n",
    "    'modal_sizes': [M.shape[1] for M in modalities],\n",
    "    'output_dim': env_kwargs['dim'],\n",
    "    'action_std_init': .6,\n",
    "    'action_std_decay': .05,\n",
    "    'action_std_min': .1,\n",
    "    'epochs': 80,\n",
    "    'epsilon_clip': .2,\n",
    "    'memory_gamma': .95,\n",
    "    'memory_prune': 100,\n",
    "    'actor_lr': 3e-4,\n",
    "    'critic_lr': 1e-3,\n",
    "    'lr_gamma': 1,\n",
    "    'update_maxbatch': update_maxbatch,  # Batch to load into RAM\n",
    "    'update_batch': update_batch,  # Batch to load into VRAM\n",
    "    'update_minibatch': update_minibatch,  # Batch to compute\n",
    "    'update_load_level': 'minibatch',\n",
    "    'update_cast_level': 'minibatch',\n",
    "    'device': DEVICE,\n",
    "    # Layer arguments\n",
    "    'embed_dim': 64,\n",
    "    'feature_embed_dim': 32,\n",
    "    'rs_nset': 1e5,  # Inversely proportional to influence of individual reward on moving statistics\n",
    "}\n",
    "\n",
    "# Early stopping parameters\n",
    "es_kwargs = {\n",
    "    # Global parameters\n",
    "    'method': 'average',\n",
    "    'buffer': 6 * int(train_kwargs['update_timesteps'] / train_kwargs['max_ep_timesteps']),  # 6 training cycles\n",
    "    'delta': .01,\n",
    "    'decreasing': False,\n",
    "    # `average` method parameters\n",
    "    'window_size': 3 * int(train_kwargs['update_timesteps'] / train_kwargs['max_ep_timesteps']),  # 3 training cycles\n",
    "}"
   ]
  },
  {
   "cell_type": "markdown",
   "metadata": {},
   "source": [
    "### Train Policy"
   ]
  },
  {
   "cell_type": "code",
   "execution_count": 8,
   "metadata": {
    "execution": {
     "iopub.execute_input": "2024-09-14T21:07:58.102656Z",
     "iopub.status.busy": "2024-09-14T21:07:58.102515Z",
     "iopub.status.idle": "2024-09-16T14:00:21.276905Z",
     "shell.execute_reply": "2024-09-16T14:00:21.276458Z"
    }
   },
   "outputs": [
    {
     "name": "stdout",
     "output_type": "stream",
     "text": [
      "Beginning training\n",
      "Training using 100 nodes out of a total 100 with forward batches of size None.\n",
      "Training on all states with batches of size 20000 and minibatches of size 2000 from 500000 total.\n"
     ]
    },
    {
     "name": "stdout",
     "output_type": "stream",
     "text": [
      "Updating model with average reward -1.800024 on episode 5 and timestep 5000"
     ]
    },
    {
     "name": "stdout",
     "output_type": "stream",
     "text": [
      " (3.67 GB CUDA)\n"
     ]
    },
    {
     "name": "stdout",
     "output_type": "stream",
     "text": [
      "Updating model with average reward -1.800056 on episode 10 and timestep 10000"
     ]
    },
    {
     "name": "stdout",
     "output_type": "stream",
     "text": [
      " (3.67 GB CUDA)\n"
     ]
    },
    {
     "name": "stdout",
     "output_type": "stream",
     "text": [
      "Updating model with average reward -1.800092 on episode 15 and timestep 15000"
     ]
    },
    {
     "name": "stdout",
     "output_type": "stream",
     "text": [
      " (3.67 GB CUDA)\n"
     ]
    },
    {
     "name": "stdout",
     "output_type": "stream",
     "text": [
      "Updating model with average reward -1.799064 on episode 20 and timestep 20000"
     ]
    },
    {
     "name": "stdout",
     "output_type": "stream",
     "text": [
      " (3.67 GB CUDA)\n"
     ]
    },
    {
     "name": "stdout",
     "output_type": "stream",
     "text": [
      "Updating model with average reward -1.799708 on episode 25 and timestep 25000"
     ]
    },
    {
     "name": "stdout",
     "output_type": "stream",
     "text": [
      " (3.67 GB CUDA)\n"
     ]
    },
    {
     "name": "stdout",
     "output_type": "stream",
     "text": [
      "Updating model with average reward -1.799732 on episode 30 and timestep 30000"
     ]
    },
    {
     "name": "stdout",
     "output_type": "stream",
     "text": [
      " (3.67 GB CUDA)\n"
     ]
    },
    {
     "name": "stdout",
     "output_type": "stream",
     "text": [
      "Updating model with average reward -1.799756 on episode 35 and timestep 35000"
     ]
    },
    {
     "name": "stdout",
     "output_type": "stream",
     "text": [
      " (3.67 GB CUDA)\n"
     ]
    },
    {
     "name": "stdout",
     "output_type": "stream",
     "text": [
      "Updating model with average reward -1.800476 on episode 40 and timestep 40000"
     ]
    },
    {
     "name": "stdout",
     "output_type": "stream",
     "text": [
      " (3.67 GB CUDA)\n"
     ]
    },
    {
     "name": "stdout",
     "output_type": "stream",
     "text": [
      "Advancing training to stage 1\n"
     ]
    },
    {
     "name": "stdout",
     "output_type": "stream",
     "text": [
      "Updating model with average reward -2.7155451109905244 on episode 45 and timestep 45000"
     ]
    },
    {
     "name": "stdout",
     "output_type": "stream",
     "text": [
      " (3.67 GB CUDA)\n"
     ]
    },
    {
     "name": "stdout",
     "output_type": "stream",
     "text": [
      "Updating model with average reward -6.5445885464515685 on episode 50 and timestep 50000"
     ]
    },
    {
     "name": "stdout",
     "output_type": "stream",
     "text": [
      " (3.67 GB CUDA)\n"
     ]
    },
    {
     "name": "stdout",
     "output_type": "stream",
     "text": [
      "Updating model with average reward -6.5263247719402315 on episode 55 and timestep 55000"
     ]
    },
    {
     "name": "stdout",
     "output_type": "stream",
     "text": [
      " (3.67 GB CUDA)\n"
     ]
    },
    {
     "name": "stdout",
     "output_type": "stream",
     "text": [
      "Updating model with average reward -6.6047529741344455 on episode 60 and timestep 60000"
     ]
    },
    {
     "name": "stdout",
     "output_type": "stream",
     "text": [
      " (3.67 GB CUDA)\n"
     ]
    },
    {
     "name": "stdout",
     "output_type": "stream",
     "text": [
      "Updating model with average reward -6.635438278465271 on episode 65 and timestep 65000"
     ]
    },
    {
     "name": "stdout",
     "output_type": "stream",
     "text": [
      " (3.67 GB CUDA)\n"
     ]
    },
    {
     "name": "stdout",
     "output_type": "stream",
     "text": [
      "Updating model with average reward -6.76939095678711 on episode 70 and timestep 70000"
     ]
    },
    {
     "name": "stdout",
     "output_type": "stream",
     "text": [
      " (3.67 GB CUDA)\n"
     ]
    },
    {
     "name": "stdout",
     "output_type": "stream",
     "text": [
      "Updating model with average reward -6.611553954820633 on episode 75 and timestep 75000"
     ]
    },
    {
     "name": "stdout",
     "output_type": "stream",
     "text": [
      " (3.67 GB CUDA)\n"
     ]
    },
    {
     "name": "stdout",
     "output_type": "stream",
     "text": [
      "Updating model with average reward -6.757987755786896 on episode 80 and timestep 80000"
     ]
    },
    {
     "name": "stdout",
     "output_type": "stream",
     "text": [
      " (3.67 GB CUDA)\n"
     ]
    },
    {
     "name": "stdout",
     "output_type": "stream",
     "text": [
      "Updating model with average reward -6.749220767665863 on episode 85 and timestep 85000"
     ]
    },
    {
     "name": "stdout",
     "output_type": "stream",
     "text": [
      " (3.67 GB CUDA)\n"
     ]
    },
    {
     "name": "stdout",
     "output_type": "stream",
     "text": [
      "Updating model with average reward -6.602984793977737 on episode 90 and timestep 90000"
     ]
    },
    {
     "name": "stdout",
     "output_type": "stream",
     "text": [
      " (3.67 GB CUDA)\n"
     ]
    },
    {
     "name": "stdout",
     "output_type": "stream",
     "text": [
      "Advancing training to stage 2\n"
     ]
    },
    {
     "name": "stdout",
     "output_type": "stream",
     "text": [
      "Updating model with average reward -9.907457792938084 on episode 95 and timestep 95000"
     ]
    },
    {
     "name": "stdout",
     "output_type": "stream",
     "text": [
      " (3.67 GB CUDA)\n"
     ]
    },
    {
     "name": "stdout",
     "output_type": "stream",
     "text": [
      "Updating model with average reward -9.883464134908408 on episode 100 and timestep 100000"
     ]
    },
    {
     "name": "stdout",
     "output_type": "stream",
     "text": [
      " (3.67 GB CUDA)\n"
     ]
    },
    {
     "name": "stdout",
     "output_type": "stream",
     "text": [
      "Updating model with average reward -10.059086962557018 on episode 105 and timestep 105000"
     ]
    },
    {
     "name": "stdout",
     "output_type": "stream",
     "text": [
      " (3.67 GB CUDA)\n"
     ]
    },
    {
     "name": "stdout",
     "output_type": "stream",
     "text": [
      "Updating model with average reward -10.252773187010884 on episode 110 and timestep 110000"
     ]
    },
    {
     "name": "stdout",
     "output_type": "stream",
     "text": [
      " (3.67 GB CUDA)\n"
     ]
    },
    {
     "name": "stdout",
     "output_type": "stream",
     "text": [
      "Updating model with average reward -10.086783906486959 on episode 115 and timestep 115000"
     ]
    },
    {
     "name": "stdout",
     "output_type": "stream",
     "text": [
      " (3.67 GB CUDA)\n"
     ]
    },
    {
     "name": "stdout",
     "output_type": "stream",
     "text": [
      "Updating model with average reward -10.229148803661705 on episode 120 and timestep 120000"
     ]
    },
    {
     "name": "stdout",
     "output_type": "stream",
     "text": [
      " (3.67 GB CUDA)\n"
     ]
    },
    {
     "name": "stdout",
     "output_type": "stream",
     "text": [
      "Updating model with average reward -10.131673450961888 on episode 125 and timestep 125000"
     ]
    },
    {
     "name": "stdout",
     "output_type": "stream",
     "text": [
      " (3.67 GB CUDA)\n"
     ]
    },
    {
     "name": "stdout",
     "output_type": "stream",
     "text": [
      "Updating model with average reward -10.167604673543334 on episode 130 and timestep 130000"
     ]
    },
    {
     "name": "stdout",
     "output_type": "stream",
     "text": [
      " (3.67 GB CUDA)\n"
     ]
    },
    {
     "name": "stdout",
     "output_type": "stream",
     "text": [
      "Advancing training to stage 3\n"
     ]
    },
    {
     "name": "stdout",
     "output_type": "stream",
     "text": [
      "Updating model with average reward -17.01630351596698 on episode 135 and timestep 135000"
     ]
    },
    {
     "name": "stdout",
     "output_type": "stream",
     "text": [
      " (3.67 GB CUDA)\n"
     ]
    },
    {
     "name": "stdout",
     "output_type": "stream",
     "text": [
      "Updating model with average reward -45.629659924552115 on episode 140 and timestep 140000"
     ]
    },
    {
     "name": "stdout",
     "output_type": "stream",
     "text": [
      " (3.67 GB CUDA)\n"
     ]
    },
    {
     "name": "stdout",
     "output_type": "stream",
     "text": [
      "Updating model with average reward -34.92368845785689 on episode 145 and timestep 145000"
     ]
    },
    {
     "name": "stdout",
     "output_type": "stream",
     "text": [
      " (3.67 GB CUDA)\n"
     ]
    },
    {
     "name": "stdout",
     "output_type": "stream",
     "text": [
      "Updating model with average reward -34.640372046258925 on episode 150 and timestep 150000"
     ]
    },
    {
     "name": "stdout",
     "output_type": "stream",
     "text": [
      " (3.67 GB CUDA)\n"
     ]
    },
    {
     "name": "stdout",
     "output_type": "stream",
     "text": [
      "Updating model with average reward -23.501623755050836 on episode 155 and timestep 155000"
     ]
    },
    {
     "name": "stdout",
     "output_type": "stream",
     "text": [
      " (3.67 GB CUDA)\n"
     ]
    },
    {
     "name": "stdout",
     "output_type": "stream",
     "text": [
      "Updating model with average reward -24.625419989766062 on episode 160 and timestep 160000"
     ]
    },
    {
     "name": "stdout",
     "output_type": "stream",
     "text": [
      " (3.67 GB CUDA)\n"
     ]
    },
    {
     "name": "stdout",
     "output_type": "stream",
     "text": [
      "Updating model with average reward -26.70214605727464 on episode 165 and timestep 165000"
     ]
    },
    {
     "name": "stdout",
     "output_type": "stream",
     "text": [
      " (3.67 GB CUDA)\n"
     ]
    },
    {
     "name": "stdout",
     "output_type": "stream",
     "text": [
      "Updating model with average reward -29.928631111559927 on episode 170 and timestep 170000"
     ]
    },
    {
     "name": "stdout",
     "output_type": "stream",
     "text": [
      " (3.67 GB CUDA)\n"
     ]
    },
    {
     "name": "stdout",
     "output_type": "stream",
     "text": [
      "Updating model with average reward -28.78544002044031 on episode 175 and timestep 175000"
     ]
    },
    {
     "name": "stdout",
     "output_type": "stream",
     "text": [
      " (3.67 GB CUDA)\n"
     ]
    },
    {
     "name": "stdout",
     "output_type": "stream",
     "text": [
      "Updating model with average reward -24.19278878418076 on episode 180 and timestep 180000"
     ]
    },
    {
     "name": "stdout",
     "output_type": "stream",
     "text": [
      " (3.67 GB CUDA)\n"
     ]
    },
    {
     "name": "stdout",
     "output_type": "stream",
     "text": [
      "Updating model with average reward -18.55917120806554 on episode 185 and timestep 185000"
     ]
    },
    {
     "name": "stdout",
     "output_type": "stream",
     "text": [
      " (3.67 GB CUDA)\n"
     ]
    },
    {
     "name": "stdout",
     "output_type": "stream",
     "text": [
      "Updating model with average reward -19.229541705506353 on episode 190 and timestep 190000"
     ]
    },
    {
     "name": "stdout",
     "output_type": "stream",
     "text": [
      " (3.67 GB CUDA)\n"
     ]
    },
    {
     "name": "stdout",
     "output_type": "stream",
     "text": [
      "Updating model with average reward -18.994681260385125 on episode 195 and timestep 195000"
     ]
    },
    {
     "name": "stdout",
     "output_type": "stream",
     "text": [
      " (3.67 GB CUDA)\n"
     ]
    },
    {
     "name": "stdout",
     "output_type": "stream",
     "text": [
      "Updating model with average reward -19.495166125748398 on episode 200 and timestep 200000"
     ]
    },
    {
     "name": "stdout",
     "output_type": "stream",
     "text": [
      " (3.67 GB CUDA)\n"
     ]
    },
    {
     "name": "stdout",
     "output_type": "stream",
     "text": [
      "Updating model with average reward -22.553825425175578 on episode 205 and timestep 205000"
     ]
    },
    {
     "name": "stdout",
     "output_type": "stream",
     "text": [
      " (3.67 GB CUDA)\n"
     ]
    },
    {
     "name": "stdout",
     "output_type": "stream",
     "text": [
      "Updating model with average reward -16.765684894767283 on episode 210 and timestep 210000"
     ]
    },
    {
     "name": "stdout",
     "output_type": "stream",
     "text": [
      " (3.67 GB CUDA)\n"
     ]
    },
    {
     "name": "stdout",
     "output_type": "stream",
     "text": [
      "Updating model with average reward -17.72542327480057 on episode 215 and timestep 215000"
     ]
    },
    {
     "name": "stdout",
     "output_type": "stream",
     "text": [
      " (3.67 GB CUDA)\n"
     ]
    },
    {
     "name": "stdout",
     "output_type": "stream",
     "text": [
      "Updating model with average reward -12.535090030257523 on episode 220 and timestep 220000"
     ]
    },
    {
     "name": "stdout",
     "output_type": "stream",
     "text": [
      " (3.67 GB CUDA)\n"
     ]
    },
    {
     "name": "stdout",
     "output_type": "stream",
     "text": [
      "Updating model with average reward -13.778140748581052 on episode 225 and timestep 225000"
     ]
    },
    {
     "name": "stdout",
     "output_type": "stream",
     "text": [
      " (3.67 GB CUDA)\n"
     ]
    },
    {
     "name": "stdout",
     "output_type": "stream",
     "text": [
      "Updating model with average reward -20.434784058372497 on episode 230 and timestep 230000"
     ]
    },
    {
     "name": "stdout",
     "output_type": "stream",
     "text": [
      " (3.67 GB CUDA)\n"
     ]
    },
    {
     "name": "stdout",
     "output_type": "stream",
     "text": [
      "Updating model with average reward -10.75478735745597 on episode 235 and timestep 235000"
     ]
    },
    {
     "name": "stdout",
     "output_type": "stream",
     "text": [
      " (3.67 GB CUDA)\n"
     ]
    },
    {
     "name": "stdout",
     "output_type": "stream",
     "text": [
      "Updating model with average reward -11.51726513457817 on episode 240 and timestep 240000"
     ]
    },
    {
     "name": "stdout",
     "output_type": "stream",
     "text": [
      " (3.67 GB CUDA)\n"
     ]
    },
    {
     "name": "stdout",
     "output_type": "stream",
     "text": [
      "Updating model with average reward -10.858664861816317 on episode 245 and timestep 245000"
     ]
    },
    {
     "name": "stdout",
     "output_type": "stream",
     "text": [
      " (3.67 GB CUDA)\n"
     ]
    },
    {
     "name": "stdout",
     "output_type": "stream",
     "text": [
      "Updating model with average reward -10.214615458273112 on episode 250 and timestep 250000"
     ]
    },
    {
     "name": "stdout",
     "output_type": "stream",
     "text": [
      " (3.67 GB CUDA)\n"
     ]
    },
    {
     "name": "stdout",
     "output_type": "stream",
     "text": [
      "Updating model with average reward -10.2948355262084 on episode 255 and timestep 255000"
     ]
    },
    {
     "name": "stdout",
     "output_type": "stream",
     "text": [
      " (3.67 GB CUDA)\n"
     ]
    },
    {
     "name": "stdout",
     "output_type": "stream",
     "text": [
      "Updating model with average reward -10.116065385683239 on episode 260 and timestep 260000"
     ]
    },
    {
     "name": "stdout",
     "output_type": "stream",
     "text": [
      " (3.67 GB CUDA)\n"
     ]
    },
    {
     "name": "stdout",
     "output_type": "stream",
     "text": [
      "Updating model with average reward -11.200347319560827 on episode 265 and timestep 265000"
     ]
    },
    {
     "name": "stdout",
     "output_type": "stream",
     "text": [
      " (3.67 GB CUDA)\n"
     ]
    },
    {
     "name": "stdout",
     "output_type": "stream",
     "text": [
      "Updating model with average reward -9.628280606948257 on episode 270 and timestep 270000"
     ]
    },
    {
     "name": "stdout",
     "output_type": "stream",
     "text": [
      " (3.67 GB CUDA)\n"
     ]
    },
    {
     "name": "stdout",
     "output_type": "stream",
     "text": [
      "Updating model with average reward -10.280401483317942 on episode 275 and timestep 275000"
     ]
    },
    {
     "name": "stdout",
     "output_type": "stream",
     "text": [
      " (3.67 GB CUDA)\n"
     ]
    },
    {
     "name": "stdout",
     "output_type": "stream",
     "text": [
      "Updating model with average reward -10.664753036693007 on episode 280 and timestep 280000"
     ]
    },
    {
     "name": "stdout",
     "output_type": "stream",
     "text": [
      " (3.67 GB CUDA)\n"
     ]
    },
    {
     "name": "stdout",
     "output_type": "stream",
     "text": [
      "Updating model with average reward -9.195661184359134 on episode 285 and timestep 285000"
     ]
    },
    {
     "name": "stdout",
     "output_type": "stream",
     "text": [
      " (3.67 GB CUDA)\n"
     ]
    },
    {
     "name": "stdout",
     "output_type": "stream",
     "text": [
      "Updating model with average reward -9.400785049714536 on episode 290 and timestep 290000"
     ]
    },
    {
     "name": "stdout",
     "output_type": "stream",
     "text": [
      " (3.67 GB CUDA)\n"
     ]
    },
    {
     "name": "stdout",
     "output_type": "stream",
     "text": [
      "Updating model with average reward -9.116237851426542 on episode 295 and timestep 295000"
     ]
    },
    {
     "name": "stdout",
     "output_type": "stream",
     "text": [
      " (3.67 GB CUDA)\n"
     ]
    },
    {
     "name": "stdout",
     "output_type": "stream",
     "text": [
      "Updating model with average reward -10.314672895396233 on episode 300 and timestep 300000"
     ]
    },
    {
     "name": "stdout",
     "output_type": "stream",
     "text": [
      " (3.67 GB CUDA)\n"
     ]
    },
    {
     "name": "stdout",
     "output_type": "stream",
     "text": [
      "Updating model with average reward -8.894116515984178 on episode 305 and timestep 305000"
     ]
    },
    {
     "name": "stdout",
     "output_type": "stream",
     "text": [
      " (3.67 GB CUDA)\n"
     ]
    },
    {
     "name": "stdout",
     "output_type": "stream",
     "text": [
      "Updating model with average reward -9.516313764219403 on episode 310 and timestep 310000"
     ]
    },
    {
     "name": "stdout",
     "output_type": "stream",
     "text": [
      " (3.67 GB CUDA)\n"
     ]
    },
    {
     "name": "stdout",
     "output_type": "stream",
     "text": [
      "Updating model with average reward -9.256768517925083 on episode 315 and timestep 315000"
     ]
    },
    {
     "name": "stdout",
     "output_type": "stream",
     "text": [
      " (3.67 GB CUDA)\n"
     ]
    },
    {
     "name": "stdout",
     "output_type": "stream",
     "text": [
      "Updating model with average reward -8.886147176024675 on episode 320 and timestep 320000"
     ]
    },
    {
     "name": "stdout",
     "output_type": "stream",
     "text": [
      " (3.67 GB CUDA)\n"
     ]
    },
    {
     "name": "stdout",
     "output_type": "stream",
     "text": [
      "Updating model with average reward -8.18034564518696 on episode 325 and timestep 325000"
     ]
    },
    {
     "name": "stdout",
     "output_type": "stream",
     "text": [
      " (3.67 GB CUDA)\n"
     ]
    },
    {
     "name": "stdout",
     "output_type": "stream",
     "text": [
      "Updating model with average reward -7.956584504136443 on episode 330 and timestep 330000"
     ]
    },
    {
     "name": "stdout",
     "output_type": "stream",
     "text": [
      " (3.67 GB CUDA)\n"
     ]
    },
    {
     "name": "stdout",
     "output_type": "stream",
     "text": [
      "Updating model with average reward -8.045951697748988 on episode 335 and timestep 335000"
     ]
    },
    {
     "name": "stdout",
     "output_type": "stream",
     "text": [
      " (3.67 GB CUDA)\n"
     ]
    },
    {
     "name": "stdout",
     "output_type": "stream",
     "text": [
      "Updating model with average reward -8.431472921143591 on episode 340 and timestep 340000"
     ]
    },
    {
     "name": "stdout",
     "output_type": "stream",
     "text": [
      " (3.67 GB CUDA)\n"
     ]
    },
    {
     "name": "stdout",
     "output_type": "stream",
     "text": [
      "Updating model with average reward -7.727736431503832 on episode 345 and timestep 345000"
     ]
    },
    {
     "name": "stdout",
     "output_type": "stream",
     "text": [
      " (3.67 GB CUDA)\n"
     ]
    },
    {
     "name": "stdout",
     "output_type": "stream",
     "text": [
      "Updating model with average reward -7.063683279432029 on episode 350 and timestep 350000"
     ]
    },
    {
     "name": "stdout",
     "output_type": "stream",
     "text": [
      " (3.67 GB CUDA)\n"
     ]
    },
    {
     "name": "stdout",
     "output_type": "stream",
     "text": [
      "Updating model with average reward -6.997458055146187 on episode 355 and timestep 355000"
     ]
    },
    {
     "name": "stdout",
     "output_type": "stream",
     "text": [
      " (3.67 GB CUDA)\n"
     ]
    },
    {
     "name": "stdout",
     "output_type": "stream",
     "text": [
      "Updating model with average reward -7.117194229534805 on episode 360 and timestep 360000"
     ]
    },
    {
     "name": "stdout",
     "output_type": "stream",
     "text": [
      " (3.67 GB CUDA)\n"
     ]
    },
    {
     "name": "stdout",
     "output_type": "stream",
     "text": [
      "Updating model with average reward -6.8891397355090085 on episode 365 and timestep 365000"
     ]
    },
    {
     "name": "stdout",
     "output_type": "stream",
     "text": [
      " (3.67 GB CUDA)\n"
     ]
    },
    {
     "name": "stdout",
     "output_type": "stream",
     "text": [
      "Updating model with average reward -8.051113558953881 on episode 370 and timestep 370000"
     ]
    },
    {
     "name": "stdout",
     "output_type": "stream",
     "text": [
      " (3.67 GB CUDA)\n"
     ]
    },
    {
     "name": "stdout",
     "output_type": "stream",
     "text": [
      "Updating model with average reward -7.597387138265133 on episode 375 and timestep 375000"
     ]
    },
    {
     "name": "stdout",
     "output_type": "stream",
     "text": [
      " (3.67 GB CUDA)\n"
     ]
    },
    {
     "name": "stdout",
     "output_type": "stream",
     "text": [
      "Updating model with average reward -7.132825663740695 on episode 380 and timestep 380000"
     ]
    },
    {
     "name": "stdout",
     "output_type": "stream",
     "text": [
      " (3.67 GB CUDA)\n"
     ]
    },
    {
     "name": "stdout",
     "output_type": "stream",
     "text": [
      "Updating model with average reward -6.8209288384737965 on episode 385 and timestep 385000"
     ]
    },
    {
     "name": "stdout",
     "output_type": "stream",
     "text": [
      " (3.67 GB CUDA)\n"
     ]
    },
    {
     "name": "stdout",
     "output_type": "stream",
     "text": [
      "Updating model with average reward -7.2578031853911575 on episode 390 and timestep 390000"
     ]
    },
    {
     "name": "stdout",
     "output_type": "stream",
     "text": [
      " (3.67 GB CUDA)\n"
     ]
    },
    {
     "name": "stdout",
     "output_type": "stream",
     "text": [
      "Advancing training to stage 4\n",
      "Decaying std to 0.5499999999999999 on episode 392 and timestep 392000\n"
     ]
    },
    {
     "name": "stdout",
     "output_type": "stream",
     "text": [
      "Updating model with average reward -6.531122303903133 on episode 395 and timestep 395000"
     ]
    },
    {
     "name": "stdout",
     "output_type": "stream",
     "text": [
      " (3.67 GB CUDA)\n"
     ]
    },
    {
     "name": "stdout",
     "output_type": "stream",
     "text": [
      "Updating model with average reward -7.602565210723639 on episode 400 and timestep 400000"
     ]
    },
    {
     "name": "stdout",
     "output_type": "stream",
     "text": [
      " (3.67 GB CUDA)\n"
     ]
    },
    {
     "name": "stdout",
     "output_type": "stream",
     "text": [
      "Updating model with average reward -6.041604620063871 on episode 405 and timestep 405000"
     ]
    },
    {
     "name": "stdout",
     "output_type": "stream",
     "text": [
      " (3.67 GB CUDA)\n"
     ]
    },
    {
     "name": "stdout",
     "output_type": "stream",
     "text": [
      "Updating model with average reward -6.1114475583215055 on episode 410 and timestep 410000"
     ]
    },
    {
     "name": "stdout",
     "output_type": "stream",
     "text": [
      " (3.67 GB CUDA)\n"
     ]
    },
    {
     "name": "stdout",
     "output_type": "stream",
     "text": [
      "Updating model with average reward -6.782456113505721 on episode 415 and timestep 415000"
     ]
    },
    {
     "name": "stdout",
     "output_type": "stream",
     "text": [
      " (3.67 GB CUDA)\n"
     ]
    },
    {
     "name": "stdout",
     "output_type": "stream",
     "text": [
      "Updating model with average reward -5.912820043258548 on episode 420 and timestep 420000"
     ]
    },
    {
     "name": "stdout",
     "output_type": "stream",
     "text": [
      " (3.67 GB CUDA)\n"
     ]
    },
    {
     "name": "stdout",
     "output_type": "stream",
     "text": [
      "Updating model with average reward -6.7957473907969 on episode 425 and timestep 425000"
     ]
    },
    {
     "name": "stdout",
     "output_type": "stream",
     "text": [
      " (3.67 GB CUDA)\n"
     ]
    },
    {
     "name": "stdout",
     "output_type": "stream",
     "text": [
      "Updating model with average reward -7.52593167702353 on episode 430 and timestep 430000"
     ]
    },
    {
     "name": "stdout",
     "output_type": "stream",
     "text": [
      " (3.67 GB CUDA)\n"
     ]
    },
    {
     "name": "stdout",
     "output_type": "stream",
     "text": [
      "Updating model with average reward -6.637171701274633 on episode 435 and timestep 435000"
     ]
    },
    {
     "name": "stdout",
     "output_type": "stream",
     "text": [
      " (3.67 GB CUDA)\n"
     ]
    },
    {
     "name": "stdout",
     "output_type": "stream",
     "text": [
      "Updating model with average reward -6.409188556593657 on episode 440 and timestep 440000"
     ]
    },
    {
     "name": "stdout",
     "output_type": "stream",
     "text": [
      " (3.67 GB CUDA)\n"
     ]
    },
    {
     "name": "stdout",
     "output_type": "stream",
     "text": [
      "Updating model with average reward -6.583070239985496 on episode 445 and timestep 445000"
     ]
    },
    {
     "name": "stdout",
     "output_type": "stream",
     "text": [
      " (3.67 GB CUDA)\n"
     ]
    },
    {
     "name": "stdout",
     "output_type": "stream",
     "text": [
      "Advancing training to stage 5\n",
      "Decaying std to 0.49999999999999994 on episode 447 and timestep 447000\n"
     ]
    },
    {
     "name": "stdout",
     "output_type": "stream",
     "text": [
      "Updating model with average reward -6.322777724369526 on episode 450 and timestep 450000"
     ]
    },
    {
     "name": "stdout",
     "output_type": "stream",
     "text": [
      " (3.67 GB CUDA)\n"
     ]
    },
    {
     "name": "stdout",
     "output_type": "stream",
     "text": [
      "Updating model with average reward -6.479521671678156 on episode 455 and timestep 455000"
     ]
    },
    {
     "name": "stdout",
     "output_type": "stream",
     "text": [
      " (3.67 GB CUDA)\n"
     ]
    },
    {
     "name": "stdout",
     "output_type": "stream",
     "text": [
      "Updating model with average reward -5.789575105347633 on episode 460 and timestep 460000"
     ]
    },
    {
     "name": "stdout",
     "output_type": "stream",
     "text": [
      " (3.67 GB CUDA)\n"
     ]
    },
    {
     "name": "stdout",
     "output_type": "stream",
     "text": [
      "Updating model with average reward -6.847465478121132 on episode 465 and timestep 465000"
     ]
    },
    {
     "name": "stdout",
     "output_type": "stream",
     "text": [
      " (3.67 GB CUDA)\n"
     ]
    },
    {
     "name": "stdout",
     "output_type": "stream",
     "text": [
      "Updating model with average reward -6.505855867047459 on episode 470 and timestep 470000"
     ]
    },
    {
     "name": "stdout",
     "output_type": "stream",
     "text": [
      " (3.67 GB CUDA)\n"
     ]
    },
    {
     "name": "stdout",
     "output_type": "stream",
     "text": [
      "Updating model with average reward -6.109230731188298 on episode 475 and timestep 475000"
     ]
    },
    {
     "name": "stdout",
     "output_type": "stream",
     "text": [
      " (3.67 GB CUDA)\n"
     ]
    },
    {
     "name": "stdout",
     "output_type": "stream",
     "text": [
      "Updating model with average reward -6.353595020933836 on episode 480 and timestep 480000"
     ]
    },
    {
     "name": "stdout",
     "output_type": "stream",
     "text": [
      " (3.67 GB CUDA)\n"
     ]
    },
    {
     "name": "stdout",
     "output_type": "stream",
     "text": [
      "Updating model with average reward -6.145011614758522 on episode 485 and timestep 485000"
     ]
    },
    {
     "name": "stdout",
     "output_type": "stream",
     "text": [
      " (3.67 GB CUDA)\n"
     ]
    },
    {
     "name": "stdout",
     "output_type": "stream",
     "text": [
      "Updating model with average reward -7.058081953290611 on episode 490 and timestep 490000"
     ]
    },
    {
     "name": "stdout",
     "output_type": "stream",
     "text": [
      " (3.67 GB CUDA)\n"
     ]
    },
    {
     "name": "stdout",
     "output_type": "stream",
     "text": [
      "Updating model with average reward -6.770958314148337 on episode 495 and timestep 495000"
     ]
    },
    {
     "name": "stdout",
     "output_type": "stream",
     "text": [
      " (3.67 GB CUDA)\n"
     ]
    },
    {
     "name": "stdout",
     "output_type": "stream",
     "text": [
      "Updating model with average reward -7.945564660533041 on episode 500 and timestep 500000"
     ]
    },
    {
     "name": "stdout",
     "output_type": "stream",
     "text": [
      " (3.67 GB CUDA)\n"
     ]
    },
    {
     "name": "stdout",
     "output_type": "stream",
     "text": [
      "Updating model with average reward -7.4285894186447265 on episode 505 and timestep 505000"
     ]
    },
    {
     "name": "stdout",
     "output_type": "stream",
     "text": [
      " (3.67 GB CUDA)\n"
     ]
    },
    {
     "name": "stdout",
     "output_type": "stream",
     "text": [
      "Updating model with average reward -7.066374574371934 on episode 510 and timestep 510000"
     ]
    },
    {
     "name": "stdout",
     "output_type": "stream",
     "text": [
      " (3.67 GB CUDA)\n"
     ]
    },
    {
     "name": "stdout",
     "output_type": "stream",
     "text": [
      "Advancing training to stage 6\n",
      "Decaying std to 0.44999999999999996 on episode 513 and timestep 513000\n"
     ]
    },
    {
     "name": "stdout",
     "output_type": "stream",
     "text": [
      "Updating model with average reward -6.64023164971295 on episode 515 and timestep 515000"
     ]
    },
    {
     "name": "stdout",
     "output_type": "stream",
     "text": [
      " (3.67 GB CUDA)\n"
     ]
    },
    {
     "name": "stdout",
     "output_type": "stream",
     "text": [
      "Updating model with average reward -6.450346590757042 on episode 520 and timestep 520000"
     ]
    },
    {
     "name": "stdout",
     "output_type": "stream",
     "text": [
      " (3.67 GB CUDA)\n"
     ]
    },
    {
     "name": "stdout",
     "output_type": "stream",
     "text": [
      "Updating model with average reward -6.337407722417325 on episode 525 and timestep 525000"
     ]
    },
    {
     "name": "stdout",
     "output_type": "stream",
     "text": [
      " (3.67 GB CUDA)\n"
     ]
    },
    {
     "name": "stdout",
     "output_type": "stream",
     "text": [
      "Updating model with average reward -5.884874373773962 on episode 530 and timestep 530000"
     ]
    },
    {
     "name": "stdout",
     "output_type": "stream",
     "text": [
      " (3.67 GB CUDA)\n"
     ]
    },
    {
     "name": "stdout",
     "output_type": "stream",
     "text": [
      "Updating model with average reward -6.486282670226514 on episode 535 and timestep 535000"
     ]
    },
    {
     "name": "stdout",
     "output_type": "stream",
     "text": [
      " (3.67 GB CUDA)\n"
     ]
    },
    {
     "name": "stdout",
     "output_type": "stream",
     "text": [
      "Updating model with average reward -5.938306404819131 on episode 540 and timestep 540000"
     ]
    },
    {
     "name": "stdout",
     "output_type": "stream",
     "text": [
      " (3.67 GB CUDA)\n"
     ]
    },
    {
     "name": "stdout",
     "output_type": "stream",
     "text": [
      "Updating model with average reward -6.242016854802906 on episode 545 and timestep 545000"
     ]
    },
    {
     "name": "stdout",
     "output_type": "stream",
     "text": [
      " (3.67 GB CUDA)\n"
     ]
    },
    {
     "name": "stdout",
     "output_type": "stream",
     "text": [
      "Updating model with average reward -6.109385571546436 on episode 550 and timestep 550000"
     ]
    },
    {
     "name": "stdout",
     "output_type": "stream",
     "text": [
      " (3.67 GB CUDA)\n"
     ]
    },
    {
     "name": "stdout",
     "output_type": "stream",
     "text": [
      "Updating model with average reward -6.392688820272803 on episode 555 and timestep 555000"
     ]
    },
    {
     "name": "stdout",
     "output_type": "stream",
     "text": [
      " (3.67 GB CUDA)\n"
     ]
    },
    {
     "name": "stdout",
     "output_type": "stream",
     "text": [
      "Updating model with average reward -5.820085013341278 on episode 560 and timestep 560000"
     ]
    },
    {
     "name": "stdout",
     "output_type": "stream",
     "text": [
      " (3.67 GB CUDA)\n"
     ]
    },
    {
     "name": "stdout",
     "output_type": "stream",
     "text": [
      "Updating model with average reward -6.3168400221062 on episode 565 and timestep 565000"
     ]
    },
    {
     "name": "stdout",
     "output_type": "stream",
     "text": [
      " (3.67 GB CUDA)\n"
     ]
    },
    {
     "name": "stdout",
     "output_type": "stream",
     "text": [
      "Updating model with average reward -5.6999856428396996 on episode 570 and timestep 570000"
     ]
    },
    {
     "name": "stdout",
     "output_type": "stream",
     "text": [
      " (3.67 GB CUDA)\n"
     ]
    },
    {
     "name": "stdout",
     "output_type": "stream",
     "text": [
      "Updating model with average reward -5.697449704487622 on episode 575 and timestep 575000"
     ]
    },
    {
     "name": "stdout",
     "output_type": "stream",
     "text": [
      " (3.67 GB CUDA)\n"
     ]
    },
    {
     "name": "stdout",
     "output_type": "stream",
     "text": [
      "Updating model with average reward -5.669896616868496 on episode 580 and timestep 580000"
     ]
    },
    {
     "name": "stdout",
     "output_type": "stream",
     "text": [
      " (3.67 GB CUDA)\n"
     ]
    },
    {
     "name": "stdout",
     "output_type": "stream",
     "text": [
      "Updating model with average reward -5.73349618417418 on episode 585 and timestep 585000"
     ]
    },
    {
     "name": "stdout",
     "output_type": "stream",
     "text": [
      " (3.67 GB CUDA)\n"
     ]
    },
    {
     "name": "stdout",
     "output_type": "stream",
     "text": [
      "Updating model with average reward -5.627235723314822 on episode 590 and timestep 590000"
     ]
    },
    {
     "name": "stdout",
     "output_type": "stream",
     "text": [
      " (3.67 GB CUDA)\n"
     ]
    },
    {
     "name": "stdout",
     "output_type": "stream",
     "text": [
      "Updating model with average reward -5.74975747326386 on episode 595 and timestep 595000"
     ]
    },
    {
     "name": "stdout",
     "output_type": "stream",
     "text": [
      " (3.67 GB CUDA)\n"
     ]
    },
    {
     "name": "stdout",
     "output_type": "stream",
     "text": [
      "Updating model with average reward -5.785498403819025 on episode 600 and timestep 600000"
     ]
    },
    {
     "name": "stdout",
     "output_type": "stream",
     "text": [
      " (3.67 GB CUDA)\n"
     ]
    },
    {
     "name": "stdout",
     "output_type": "stream",
     "text": [
      "Updating model with average reward -5.618147179322183 on episode 605 and timestep 605000"
     ]
    },
    {
     "name": "stdout",
     "output_type": "stream",
     "text": [
      " (3.67 GB CUDA)\n"
     ]
    },
    {
     "name": "stdout",
     "output_type": "stream",
     "text": [
      "Advancing training to stage 7\n",
      "Decaying std to 0.39999999999999997 on episode 609 and timestep 609000\n"
     ]
    },
    {
     "name": "stdout",
     "output_type": "stream",
     "text": [
      "Updating model with average reward -5.7262116585966645 on episode 610 and timestep 610000"
     ]
    },
    {
     "name": "stdout",
     "output_type": "stream",
     "text": [
      " (3.67 GB CUDA)\n"
     ]
    },
    {
     "name": "stdout",
     "output_type": "stream",
     "text": [
      "Updating model with average reward -5.426438128974885 on episode 615 and timestep 615000"
     ]
    },
    {
     "name": "stdout",
     "output_type": "stream",
     "text": [
      " (3.67 GB CUDA)\n"
     ]
    },
    {
     "name": "stdout",
     "output_type": "stream",
     "text": [
      "Updating model with average reward -5.205779291747868 on episode 620 and timestep 620000"
     ]
    },
    {
     "name": "stdout",
     "output_type": "stream",
     "text": [
      " (3.67 GB CUDA)\n"
     ]
    },
    {
     "name": "stdout",
     "output_type": "stream",
     "text": [
      "Updating model with average reward -5.391568965444982 on episode 625 and timestep 625000"
     ]
    },
    {
     "name": "stdout",
     "output_type": "stream",
     "text": [
      " (3.67 GB CUDA)\n"
     ]
    },
    {
     "name": "stdout",
     "output_type": "stream",
     "text": [
      "Updating model with average reward -5.29592604513216 on episode 630 and timestep 630000"
     ]
    },
    {
     "name": "stdout",
     "output_type": "stream",
     "text": [
      " (3.67 GB CUDA)\n"
     ]
    },
    {
     "name": "stdout",
     "output_type": "stream",
     "text": [
      "Updating model with average reward -5.348046162268758 on episode 635 and timestep 635000"
     ]
    },
    {
     "name": "stdout",
     "output_type": "stream",
     "text": [
      " (3.67 GB CUDA)\n"
     ]
    },
    {
     "name": "stdout",
     "output_type": "stream",
     "text": [
      "Updating model with average reward -5.2228055979404155 on episode 640 and timestep 640000"
     ]
    },
    {
     "name": "stdout",
     "output_type": "stream",
     "text": [
      " (3.67 GB CUDA)\n"
     ]
    },
    {
     "name": "stdout",
     "output_type": "stream",
     "text": [
      "Updating model with average reward -5.287404841753394 on episode 645 and timestep 645000"
     ]
    },
    {
     "name": "stdout",
     "output_type": "stream",
     "text": [
      " (3.67 GB CUDA)\n"
     ]
    },
    {
     "name": "stdout",
     "output_type": "stream",
     "text": [
      "Updating model with average reward -5.289448772813529 on episode 650 and timestep 650000"
     ]
    },
    {
     "name": "stdout",
     "output_type": "stream",
     "text": [
      " (3.67 GB CUDA)\n"
     ]
    },
    {
     "name": "stdout",
     "output_type": "stream",
     "text": [
      "Updating model with average reward -5.163462989239633 on episode 655 and timestep 655000"
     ]
    },
    {
     "name": "stdout",
     "output_type": "stream",
     "text": [
      " (3.67 GB CUDA)\n"
     ]
    },
    {
     "name": "stdout",
     "output_type": "stream",
     "text": [
      "Updating model with average reward -5.349319645692974 on episode 660 and timestep 660000"
     ]
    },
    {
     "name": "stdout",
     "output_type": "stream",
     "text": [
      " (3.67 GB CUDA)\n"
     ]
    },
    {
     "name": "stdout",
     "output_type": "stream",
     "text": [
      "Updating model with average reward -5.365936773555696 on episode 665 and timestep 665000"
     ]
    },
    {
     "name": "stdout",
     "output_type": "stream",
     "text": [
      " (3.67 GB CUDA)\n"
     ]
    },
    {
     "name": "stdout",
     "output_type": "stream",
     "text": [
      "Updating model with average reward -5.392907455277651 on episode 670 and timestep 670000"
     ]
    },
    {
     "name": "stdout",
     "output_type": "stream",
     "text": [
      " (3.67 GB CUDA)\n"
     ]
    },
    {
     "name": "stdout",
     "output_type": "stream",
     "text": [
      "Updating model with average reward -5.315681051630229 on episode 675 and timestep 675000"
     ]
    },
    {
     "name": "stdout",
     "output_type": "stream",
     "text": [
      " (3.67 GB CUDA)\n"
     ]
    },
    {
     "name": "stdout",
     "output_type": "stream",
     "text": [
      "Updating model with average reward -5.37578746060577 on episode 680 and timestep 680000"
     ]
    },
    {
     "name": "stdout",
     "output_type": "stream",
     "text": [
      " (3.67 GB CUDA)\n"
     ]
    },
    {
     "name": "stdout",
     "output_type": "stream",
     "text": [
      "Updating model with average reward -5.270829617246121 on episode 685 and timestep 685000"
     ]
    },
    {
     "name": "stdout",
     "output_type": "stream",
     "text": [
      " (3.67 GB CUDA)\n"
     ]
    },
    {
     "name": "stdout",
     "output_type": "stream",
     "text": [
      "Advancing training to stage 8\n",
      "Decaying std to 0.35 on episode 687 and timestep 687000\n"
     ]
    },
    {
     "name": "stdout",
     "output_type": "stream",
     "text": [
      "Updating model with average reward -5.031426275132537 on episode 690 and timestep 690000"
     ]
    },
    {
     "name": "stdout",
     "output_type": "stream",
     "text": [
      " (3.67 GB CUDA)\n"
     ]
    },
    {
     "name": "stdout",
     "output_type": "stream",
     "text": [
      "Updating model with average reward -4.981943726910651 on episode 695 and timestep 695000"
     ]
    },
    {
     "name": "stdout",
     "output_type": "stream",
     "text": [
      " (3.67 GB CUDA)\n"
     ]
    },
    {
     "name": "stdout",
     "output_type": "stream",
     "text": [
      "Updating model with average reward -4.9217882062285545 on episode 700 and timestep 700000"
     ]
    },
    {
     "name": "stdout",
     "output_type": "stream",
     "text": [
      " (3.67 GB CUDA)\n"
     ]
    },
    {
     "name": "stdout",
     "output_type": "stream",
     "text": [
      "Updating model with average reward -5.0505059477425815 on episode 705 and timestep 705000"
     ]
    },
    {
     "name": "stdout",
     "output_type": "stream",
     "text": [
      " (3.67 GB CUDA)\n"
     ]
    },
    {
     "name": "stdout",
     "output_type": "stream",
     "text": [
      "Updating model with average reward -5.260772818425685 on episode 710 and timestep 710000"
     ]
    },
    {
     "name": "stdout",
     "output_type": "stream",
     "text": [
      " (3.67 GB CUDA)\n"
     ]
    },
    {
     "name": "stdout",
     "output_type": "stream",
     "text": [
      "Updating model with average reward -5.168196516069621 on episode 715 and timestep 715000"
     ]
    },
    {
     "name": "stdout",
     "output_type": "stream",
     "text": [
      " (3.67 GB CUDA)\n"
     ]
    },
    {
     "name": "stdout",
     "output_type": "stream",
     "text": [
      "Updating model with average reward -5.207341143672556 on episode 720 and timestep 720000"
     ]
    },
    {
     "name": "stdout",
     "output_type": "stream",
     "text": [
      " (3.67 GB CUDA)\n"
     ]
    },
    {
     "name": "stdout",
     "output_type": "stream",
     "text": [
      "Updating model with average reward -5.189118063714564 on episode 725 and timestep 725000"
     ]
    },
    {
     "name": "stdout",
     "output_type": "stream",
     "text": [
      " (3.67 GB CUDA)\n"
     ]
    },
    {
     "name": "stdout",
     "output_type": "stream",
     "text": [
      "Updating model with average reward -5.147880065231293 on episode 730 and timestep 730000"
     ]
    },
    {
     "name": "stdout",
     "output_type": "stream",
     "text": [
      " (3.67 GB CUDA)\n"
     ]
    },
    {
     "name": "stdout",
     "output_type": "stream",
     "text": [
      "Advancing training to stage 9\n",
      "Decaying std to 0.3 on episode 731 and timestep 731000\n"
     ]
    },
    {
     "name": "stdout",
     "output_type": "stream",
     "text": [
      "Updating model with average reward -4.971296599676162 on episode 735 and timestep 735000"
     ]
    },
    {
     "name": "stdout",
     "output_type": "stream",
     "text": [
      " (3.67 GB CUDA)\n"
     ]
    },
    {
     "name": "stdout",
     "output_type": "stream",
     "text": [
      "Updating model with average reward -4.842819060678035 on episode 740 and timestep 740000"
     ]
    },
    {
     "name": "stdout",
     "output_type": "stream",
     "text": [
      " (3.67 GB CUDA)\n"
     ]
    },
    {
     "name": "stdout",
     "output_type": "stream",
     "text": [
      "Updating model with average reward -5.0282084548877775 on episode 745 and timestep 745000"
     ]
    },
    {
     "name": "stdout",
     "output_type": "stream",
     "text": [
      " (3.67 GB CUDA)\n"
     ]
    },
    {
     "name": "stdout",
     "output_type": "stream",
     "text": [
      "Updating model with average reward -5.064421923494637 on episode 750 and timestep 750000"
     ]
    },
    {
     "name": "stdout",
     "output_type": "stream",
     "text": [
      " (3.67 GB CUDA)\n"
     ]
    },
    {
     "name": "stdout",
     "output_type": "stream",
     "text": [
      "Updating model with average reward -5.105173951116145 on episode 755 and timestep 755000"
     ]
    },
    {
     "name": "stdout",
     "output_type": "stream",
     "text": [
      " (3.67 GB CUDA)\n"
     ]
    },
    {
     "name": "stdout",
     "output_type": "stream",
     "text": [
      "Updating model with average reward -5.044421702223837 on episode 760 and timestep 760000"
     ]
    },
    {
     "name": "stdout",
     "output_type": "stream",
     "text": [
      " (3.67 GB CUDA)\n"
     ]
    },
    {
     "name": "stdout",
     "output_type": "stream",
     "text": [
      "Updating model with average reward -4.964863556292921 on episode 765 and timestep 765000"
     ]
    },
    {
     "name": "stdout",
     "output_type": "stream",
     "text": [
      " (3.67 GB CUDA)\n"
     ]
    },
    {
     "name": "stdout",
     "output_type": "stream",
     "text": [
      "Updating model with average reward -5.085539073820561 on episode 770 and timestep 770000"
     ]
    },
    {
     "name": "stdout",
     "output_type": "stream",
     "text": [
      " (3.67 GB CUDA)\n"
     ]
    },
    {
     "name": "stdout",
     "output_type": "stream",
     "text": [
      "Updating model with average reward -4.990785471770168 on episode 775 and timestep 775000"
     ]
    },
    {
     "name": "stdout",
     "output_type": "stream",
     "text": [
      " (3.67 GB CUDA)\n"
     ]
    },
    {
     "name": "stdout",
     "output_type": "stream",
     "text": [
      "Advancing training to stage 10\n",
      "Decaying std to 0.25 on episode 775 and timestep 775000\n"
     ]
    },
    {
     "name": "stdout",
     "output_type": "stream",
     "text": [
      "Updating model with average reward -4.869933064589828 on episode 780 and timestep 780000"
     ]
    },
    {
     "name": "stdout",
     "output_type": "stream",
     "text": [
      " (3.67 GB CUDA)\n"
     ]
    },
    {
     "name": "stdout",
     "output_type": "stream",
     "text": [
      "Updating model with average reward -4.792800651290894 on episode 785 and timestep 785000"
     ]
    },
    {
     "name": "stdout",
     "output_type": "stream",
     "text": [
      " (3.67 GB CUDA)\n"
     ]
    },
    {
     "name": "stdout",
     "output_type": "stream",
     "text": [
      "Updating model with average reward -4.838829610387087 on episode 790 and timestep 790000"
     ]
    },
    {
     "name": "stdout",
     "output_type": "stream",
     "text": [
      " (3.67 GB CUDA)\n"
     ]
    },
    {
     "name": "stdout",
     "output_type": "stream",
     "text": [
      "Updating model with average reward -4.779937722572982 on episode 795 and timestep 795000"
     ]
    },
    {
     "name": "stdout",
     "output_type": "stream",
     "text": [
      " (3.67 GB CUDA)\n"
     ]
    },
    {
     "name": "stdout",
     "output_type": "stream",
     "text": [
      "Updating model with average reward -4.796597138182998 on episode 800 and timestep 800000"
     ]
    },
    {
     "name": "stdout",
     "output_type": "stream",
     "text": [
      " (3.67 GB CUDA)\n"
     ]
    },
    {
     "name": "stdout",
     "output_type": "stream",
     "text": [
      "Updating model with average reward -4.789305746349007 on episode 805 and timestep 805000"
     ]
    },
    {
     "name": "stdout",
     "output_type": "stream",
     "text": [
      " (3.67 GB CUDA)\n"
     ]
    },
    {
     "name": "stdout",
     "output_type": "stream",
     "text": [
      "Updating model with average reward -4.843584464819789 on episode 810 and timestep 810000"
     ]
    },
    {
     "name": "stdout",
     "output_type": "stream",
     "text": [
      " (3.67 GB CUDA)\n"
     ]
    },
    {
     "name": "stdout",
     "output_type": "stream",
     "text": [
      "Updating model with average reward -4.819422831059918 on episode 815 and timestep 815000"
     ]
    },
    {
     "name": "stdout",
     "output_type": "stream",
     "text": [
      " (3.67 GB CUDA)\n"
     ]
    },
    {
     "name": "stdout",
     "output_type": "stream",
     "text": [
      "Updating model with average reward -4.921231955225944 on episode 820 and timestep 820000"
     ]
    },
    {
     "name": "stdout",
     "output_type": "stream",
     "text": [
      " (3.67 GB CUDA)\n"
     ]
    },
    {
     "name": "stdout",
     "output_type": "stream",
     "text": [
      "Updating model with average reward -4.991038392154664 on episode 825 and timestep 825000"
     ]
    },
    {
     "name": "stdout",
     "output_type": "stream",
     "text": [
      " (3.67 GB CUDA)\n"
     ]
    },
    {
     "name": "stdout",
     "output_type": "stream",
     "text": [
      "Updating model with average reward -4.835165456091955 on episode 830 and timestep 830000"
     ]
    },
    {
     "name": "stdout",
     "output_type": "stream",
     "text": [
      " (3.67 GB CUDA)\n"
     ]
    },
    {
     "name": "stdout",
     "output_type": "stream",
     "text": [
      "Advancing training to stage 11\n",
      "Decaying std to 0.2 on episode 831 and timestep 831000\n"
     ]
    },
    {
     "name": "stdout",
     "output_type": "stream",
     "text": [
      "Updating model with average reward -4.857565024846584 on episode 835 and timestep 835000"
     ]
    },
    {
     "name": "stdout",
     "output_type": "stream",
     "text": [
      " (3.67 GB CUDA)\n"
     ]
    },
    {
     "name": "stdout",
     "output_type": "stream",
     "text": [
      "Updating model with average reward -4.79178669636628 on episode 840 and timestep 840000"
     ]
    },
    {
     "name": "stdout",
     "output_type": "stream",
     "text": [
      " (3.67 GB CUDA)\n"
     ]
    },
    {
     "name": "stdout",
     "output_type": "stream",
     "text": [
      "Updating model with average reward -4.766970127079696 on episode 845 and timestep 845000"
     ]
    },
    {
     "name": "stdout",
     "output_type": "stream",
     "text": [
      " (3.67 GB CUDA)\n"
     ]
    },
    {
     "name": "stdout",
     "output_type": "stream",
     "text": [
      "Updating model with average reward -4.802707289204449 on episode 850 and timestep 850000"
     ]
    },
    {
     "name": "stdout",
     "output_type": "stream",
     "text": [
      " (3.67 GB CUDA)\n"
     ]
    },
    {
     "name": "stdout",
     "output_type": "stream",
     "text": [
      "Updating model with average reward -4.888647701375395 on episode 855 and timestep 855000"
     ]
    },
    {
     "name": "stdout",
     "output_type": "stream",
     "text": [
      " (3.67 GB CUDA)\n"
     ]
    },
    {
     "name": "stdout",
     "output_type": "stream",
     "text": [
      "Updating model with average reward -4.766127926268489 on episode 860 and timestep 860000"
     ]
    },
    {
     "name": "stdout",
     "output_type": "stream",
     "text": [
      " (3.67 GB CUDA)\n"
     ]
    },
    {
     "name": "stdout",
     "output_type": "stream",
     "text": [
      "Updating model with average reward -4.745438299213588 on episode 865 and timestep 865000"
     ]
    },
    {
     "name": "stdout",
     "output_type": "stream",
     "text": [
      " (3.67 GB CUDA)\n"
     ]
    },
    {
     "name": "stdout",
     "output_type": "stream",
     "text": [
      "Updating model with average reward -4.704607203583151 on episode 870 and timestep 870000"
     ]
    },
    {
     "name": "stdout",
     "output_type": "stream",
     "text": [
      " (3.67 GB CUDA)\n"
     ]
    },
    {
     "name": "stdout",
     "output_type": "stream",
     "text": [
      "Updating model with average reward -4.878235931433797 on episode 875 and timestep 875000"
     ]
    },
    {
     "name": "stdout",
     "output_type": "stream",
     "text": [
      " (3.67 GB CUDA)\n"
     ]
    },
    {
     "name": "stdout",
     "output_type": "stream",
     "text": [
      "Updating model with average reward -4.791159780275777 on episode 880 and timestep 880000"
     ]
    },
    {
     "name": "stdout",
     "output_type": "stream",
     "text": [
      " (3.67 GB CUDA)\n"
     ]
    },
    {
     "name": "stdout",
     "output_type": "stream",
     "text": [
      "Updating model with average reward -4.803350784008592 on episode 885 and timestep 885000"
     ]
    },
    {
     "name": "stdout",
     "output_type": "stream",
     "text": [
      " (3.67 GB CUDA)\n"
     ]
    },
    {
     "name": "stdout",
     "output_type": "stream",
     "text": [
      "Updating model with average reward -4.845951977465719 on episode 890 and timestep 890000"
     ]
    },
    {
     "name": "stdout",
     "output_type": "stream",
     "text": [
      " (3.67 GB CUDA)\n"
     ]
    },
    {
     "name": "stdout",
     "output_type": "stream",
     "text": [
      "Updating model with average reward -4.869937521655187 on episode 895 and timestep 895000"
     ]
    },
    {
     "name": "stdout",
     "output_type": "stream",
     "text": [
      " (3.67 GB CUDA)\n"
     ]
    },
    {
     "name": "stdout",
     "output_type": "stream",
     "text": [
      "Advancing training to stage 12\n",
      "Decaying std to 0.15000000000000002 on episode 898 and timestep 898000\n"
     ]
    },
    {
     "name": "stdout",
     "output_type": "stream",
     "text": [
      "Updating model with average reward -4.887399086958587 on episode 900 and timestep 900000"
     ]
    },
    {
     "name": "stdout",
     "output_type": "stream",
     "text": [
      " (3.67 GB CUDA)\n"
     ]
    },
    {
     "name": "stdout",
     "output_type": "stream",
     "text": [
      "Updating model with average reward -6.811974642098531 on episode 905 and timestep 905000"
     ]
    },
    {
     "name": "stdout",
     "output_type": "stream",
     "text": [
      " (3.67 GB CUDA)\n"
     ]
    },
    {
     "name": "stdout",
     "output_type": "stream",
     "text": [
      "Updating model with average reward -7.082065149933964 on episode 910 and timestep 910000"
     ]
    },
    {
     "name": "stdout",
     "output_type": "stream",
     "text": [
      " (3.67 GB CUDA)\n"
     ]
    },
    {
     "name": "stdout",
     "output_type": "stream",
     "text": [
      "Updating model with average reward -6.671593769170731 on episode 915 and timestep 915000"
     ]
    },
    {
     "name": "stdout",
     "output_type": "stream",
     "text": [
      " (3.67 GB CUDA)\n"
     ]
    },
    {
     "name": "stdout",
     "output_type": "stream",
     "text": [
      "Updating model with average reward -6.48856017200163 on episode 920 and timestep 920000"
     ]
    },
    {
     "name": "stdout",
     "output_type": "stream",
     "text": [
      " (3.67 GB CUDA)\n"
     ]
    },
    {
     "name": "stdout",
     "output_type": "stream",
     "text": [
      "Updating model with average reward -6.310662572033047 on episode 925 and timestep 925000"
     ]
    },
    {
     "name": "stdout",
     "output_type": "stream",
     "text": [
      " (3.67 GB CUDA)\n"
     ]
    },
    {
     "name": "stdout",
     "output_type": "stream",
     "text": [
      "Updating model with average reward -5.953045901815235 on episode 930 and timestep 930000"
     ]
    },
    {
     "name": "stdout",
     "output_type": "stream",
     "text": [
      " (3.67 GB CUDA)\n"
     ]
    },
    {
     "name": "stdout",
     "output_type": "stream",
     "text": [
      "Updating model with average reward -6.3861178549226825 on episode 935 and timestep 935000"
     ]
    },
    {
     "name": "stdout",
     "output_type": "stream",
     "text": [
      " (3.67 GB CUDA)\n"
     ]
    },
    {
     "name": "stdout",
     "output_type": "stream",
     "text": [
      "Updating model with average reward -6.0067532618354855 on episode 940 and timestep 940000"
     ]
    },
    {
     "name": "stdout",
     "output_type": "stream",
     "text": [
      " (3.67 GB CUDA)\n"
     ]
    },
    {
     "name": "stdout",
     "output_type": "stream",
     "text": [
      "Updating model with average reward -6.0805306453948615 on episode 945 and timestep 945000"
     ]
    },
    {
     "name": "stdout",
     "output_type": "stream",
     "text": [
      " (3.67 GB CUDA)\n"
     ]
    },
    {
     "name": "stdout",
     "output_type": "stream",
     "text": [
      "Updating model with average reward -5.8783187550816836 on episode 950 and timestep 950000"
     ]
    },
    {
     "name": "stdout",
     "output_type": "stream",
     "text": [
      " (3.67 GB CUDA)\n"
     ]
    },
    {
     "name": "stdout",
     "output_type": "stream",
     "text": [
      "Updating model with average reward -5.889075721728176 on episode 955 and timestep 955000"
     ]
    },
    {
     "name": "stdout",
     "output_type": "stream",
     "text": [
      " (3.67 GB CUDA)\n"
     ]
    },
    {
     "name": "stdout",
     "output_type": "stream",
     "text": [
      "Updating model with average reward -5.648253410159275 on episode 960 and timestep 960000"
     ]
    },
    {
     "name": "stdout",
     "output_type": "stream",
     "text": [
      " (3.67 GB CUDA)\n"
     ]
    },
    {
     "name": "stdout",
     "output_type": "stream",
     "text": [
      "Updating model with average reward -5.553873696256727 on episode 965 and timestep 965000"
     ]
    },
    {
     "name": "stdout",
     "output_type": "stream",
     "text": [
      " (3.67 GB CUDA)\n"
     ]
    },
    {
     "name": "stdout",
     "output_type": "stream",
     "text": [
      "Updating model with average reward -5.6058970872496365 on episode 970 and timestep 970000"
     ]
    },
    {
     "name": "stdout",
     "output_type": "stream",
     "text": [
      " (3.67 GB CUDA)\n"
     ]
    },
    {
     "name": "stdout",
     "output_type": "stream",
     "text": [
      "Updating model with average reward -5.549629504087776 on episode 975 and timestep 975000"
     ]
    },
    {
     "name": "stdout",
     "output_type": "stream",
     "text": [
      " (3.67 GB CUDA)\n"
     ]
    },
    {
     "name": "stdout",
     "output_type": "stream",
     "text": [
      "Updating model with average reward -5.399009794519484 on episode 980 and timestep 980000"
     ]
    },
    {
     "name": "stdout",
     "output_type": "stream",
     "text": [
      " (3.67 GB CUDA)\n"
     ]
    },
    {
     "name": "stdout",
     "output_type": "stream",
     "text": [
      "Updating model with average reward -5.507699395393252 on episode 985 and timestep 985000"
     ]
    },
    {
     "name": "stdout",
     "output_type": "stream",
     "text": [
      " (3.67 GB CUDA)\n"
     ]
    },
    {
     "name": "stdout",
     "output_type": "stream",
     "text": [
      "Updating model with average reward -5.471391516845107 on episode 990 and timestep 990000"
     ]
    },
    {
     "name": "stdout",
     "output_type": "stream",
     "text": [
      " (3.67 GB CUDA)\n"
     ]
    },
    {
     "name": "stdout",
     "output_type": "stream",
     "text": [
      "Updating model with average reward -5.495289957451403 on episode 995 and timestep 995000"
     ]
    },
    {
     "name": "stdout",
     "output_type": "stream",
     "text": [
      " (3.67 GB CUDA)\n"
     ]
    },
    {
     "name": "stdout",
     "output_type": "stream",
     "text": [
      "Updating model with average reward -5.136550536917552 on episode 1000 and timestep 1000000"
     ]
    },
    {
     "name": "stdout",
     "output_type": "stream",
     "text": [
      " (3.67 GB CUDA)\n"
     ]
    },
    {
     "name": "stdout",
     "output_type": "stream",
     "text": [
      "Updating model with average reward -5.464149900904328 on episode 1005 and timestep 1005000"
     ]
    },
    {
     "name": "stdout",
     "output_type": "stream",
     "text": [
      " (3.67 GB CUDA)\n"
     ]
    },
    {
     "name": "stdout",
     "output_type": "stream",
     "text": [
      "Updating model with average reward -5.153938647789031 on episode 1010 and timestep 1010000"
     ]
    },
    {
     "name": "stdout",
     "output_type": "stream",
     "text": [
      " (3.67 GB CUDA)\n"
     ]
    },
    {
     "name": "stdout",
     "output_type": "stream",
     "text": [
      "Updating model with average reward -5.306797629631102 on episode 1015 and timestep 1015000"
     ]
    },
    {
     "name": "stdout",
     "output_type": "stream",
     "text": [
      " (3.67 GB CUDA)\n"
     ]
    },
    {
     "name": "stdout",
     "output_type": "stream",
     "text": [
      "Updating model with average reward -5.475889424067288 on episode 1020 and timestep 1020000"
     ]
    },
    {
     "name": "stdout",
     "output_type": "stream",
     "text": [
      " (3.67 GB CUDA)\n"
     ]
    },
    {
     "name": "stdout",
     "output_type": "stream",
     "text": [
      "Updating model with average reward -5.400747903731823 on episode 1025 and timestep 1025000"
     ]
    },
    {
     "name": "stdout",
     "output_type": "stream",
     "text": [
      " (3.67 GB CUDA)\n"
     ]
    },
    {
     "name": "stdout",
     "output_type": "stream",
     "text": [
      "Updating model with average reward -5.143935384081811 on episode 1030 and timestep 1030000"
     ]
    },
    {
     "name": "stdout",
     "output_type": "stream",
     "text": [
      " (3.67 GB CUDA)\n"
     ]
    },
    {
     "name": "stdout",
     "output_type": "stream",
     "text": [
      "Updating model with average reward -5.159550989131779 on episode 1035 and timestep 1035000"
     ]
    },
    {
     "name": "stdout",
     "output_type": "stream",
     "text": [
      " (3.67 GB CUDA)\n"
     ]
    },
    {
     "name": "stdout",
     "output_type": "stream",
     "text": [
      "Updating model with average reward -5.167059241666645 on episode 1040 and timestep 1040000"
     ]
    },
    {
     "name": "stdout",
     "output_type": "stream",
     "text": [
      " (3.67 GB CUDA)\n"
     ]
    },
    {
     "name": "stdout",
     "output_type": "stream",
     "text": [
      "Updating model with average reward -4.9668927404357195 on episode 1045 and timestep 1045000"
     ]
    },
    {
     "name": "stdout",
     "output_type": "stream",
     "text": [
      " (3.67 GB CUDA)\n"
     ]
    },
    {
     "name": "stdout",
     "output_type": "stream",
     "text": [
      "Updating model with average reward -4.895913814153373 on episode 1050 and timestep 1050000"
     ]
    },
    {
     "name": "stdout",
     "output_type": "stream",
     "text": [
      " (3.67 GB CUDA)\n"
     ]
    },
    {
     "name": "stdout",
     "output_type": "stream",
     "text": [
      "Updating model with average reward -4.873194819539145 on episode 1055 and timestep 1055000"
     ]
    },
    {
     "name": "stdout",
     "output_type": "stream",
     "text": [
      " (3.67 GB CUDA)\n"
     ]
    },
    {
     "name": "stdout",
     "output_type": "stream",
     "text": [
      "Updating model with average reward -4.741080190795929 on episode 1060 and timestep 1060000"
     ]
    },
    {
     "name": "stdout",
     "output_type": "stream",
     "text": [
      " (3.67 GB CUDA)\n"
     ]
    },
    {
     "name": "stdout",
     "output_type": "stream",
     "text": [
      "Updating model with average reward -4.783623707731754 on episode 1065 and timestep 1065000"
     ]
    },
    {
     "name": "stdout",
     "output_type": "stream",
     "text": [
      " (3.67 GB CUDA)\n"
     ]
    },
    {
     "name": "stdout",
     "output_type": "stream",
     "text": [
      "Updating model with average reward -4.862966083018214 on episode 1070 and timestep 1070000"
     ]
    },
    {
     "name": "stdout",
     "output_type": "stream",
     "text": [
      " (3.67 GB CUDA)\n"
     ]
    },
    {
     "name": "stdout",
     "output_type": "stream",
     "text": [
      "Updating model with average reward -4.755658957405835 on episode 1075 and timestep 1075000"
     ]
    },
    {
     "name": "stdout",
     "output_type": "stream",
     "text": [
      " (3.67 GB CUDA)\n"
     ]
    },
    {
     "name": "stdout",
     "output_type": "stream",
     "text": [
      "Updating model with average reward -4.693727240516752 on episode 1080 and timestep 1080000"
     ]
    },
    {
     "name": "stdout",
     "output_type": "stream",
     "text": [
      " (3.67 GB CUDA)\n"
     ]
    },
    {
     "name": "stdout",
     "output_type": "stream",
     "text": [
      "Updating model with average reward -4.6949166959333715 on episode 1085 and timestep 1085000"
     ]
    },
    {
     "name": "stdout",
     "output_type": "stream",
     "text": [
      " (3.67 GB CUDA)\n"
     ]
    },
    {
     "name": "stdout",
     "output_type": "stream",
     "text": [
      "Updating model with average reward -4.523340551889151 on episode 1090 and timestep 1090000"
     ]
    },
    {
     "name": "stdout",
     "output_type": "stream",
     "text": [
      " (3.67 GB CUDA)\n"
     ]
    },
    {
     "name": "stdout",
     "output_type": "stream",
     "text": [
      "Updating model with average reward -4.576247551453233 on episode 1095 and timestep 1095000"
     ]
    },
    {
     "name": "stdout",
     "output_type": "stream",
     "text": [
      " (3.67 GB CUDA)\n"
     ]
    },
    {
     "name": "stdout",
     "output_type": "stream",
     "text": [
      "Updating model with average reward -4.486059656654209 on episode 1100 and timestep 1100000"
     ]
    },
    {
     "name": "stdout",
     "output_type": "stream",
     "text": [
      " (3.67 GB CUDA)\n"
     ]
    },
    {
     "name": "stdout",
     "output_type": "stream",
     "text": [
      "Updating model with average reward -4.515274182623536 on episode 1105 and timestep 1105000"
     ]
    },
    {
     "name": "stdout",
     "output_type": "stream",
     "text": [
      " (3.67 GB CUDA)\n"
     ]
    },
    {
     "name": "stdout",
     "output_type": "stream",
     "text": [
      "Updating model with average reward -4.565147167289168 on episode 1110 and timestep 1110000"
     ]
    },
    {
     "name": "stdout",
     "output_type": "stream",
     "text": [
      " (3.67 GB CUDA)\n"
     ]
    },
    {
     "name": "stdout",
     "output_type": "stream",
     "text": [
      "Updating model with average reward -4.566082521050691 on episode 1115 and timestep 1115000"
     ]
    },
    {
     "name": "stdout",
     "output_type": "stream",
     "text": [
      " (3.67 GB CUDA)\n"
     ]
    },
    {
     "name": "stdout",
     "output_type": "stream",
     "text": [
      "Updating model with average reward -4.711399555061817 on episode 1120 and timestep 1120000"
     ]
    },
    {
     "name": "stdout",
     "output_type": "stream",
     "text": [
      " (3.67 GB CUDA)\n"
     ]
    },
    {
     "name": "stdout",
     "output_type": "stream",
     "text": [
      "Updating model with average reward -4.615557743861556 on episode 1125 and timestep 1125000"
     ]
    },
    {
     "name": "stdout",
     "output_type": "stream",
     "text": [
      " (3.67 GB CUDA)\n"
     ]
    },
    {
     "name": "stdout",
     "output_type": "stream",
     "text": [
      "Updating model with average reward -4.475203504503697 on episode 1130 and timestep 1130000"
     ]
    },
    {
     "name": "stdout",
     "output_type": "stream",
     "text": [
      " (3.67 GB CUDA)\n"
     ]
    },
    {
     "name": "stdout",
     "output_type": "stream",
     "text": [
      "Advancing training to stage 13\n",
      "Decaying std to 0.10000000000000002 on episode 1131 and timestep 1131000\n"
     ]
    },
    {
     "name": "stdout",
     "output_type": "stream",
     "text": [
      "Updating model with average reward -4.604632849365115 on episode 1135 and timestep 1135000"
     ]
    },
    {
     "name": "stdout",
     "output_type": "stream",
     "text": [
      " (3.67 GB CUDA)\n"
     ]
    },
    {
     "name": "stdout",
     "output_type": "stream",
     "text": [
      "Updating model with average reward -5.174414969658792 on episode 1140 and timestep 1140000"
     ]
    },
    {
     "name": "stdout",
     "output_type": "stream",
     "text": [
      " (3.67 GB CUDA)\n"
     ]
    },
    {
     "name": "stdout",
     "output_type": "stream",
     "text": [
      "Updating model with average reward -5.2095809458233715 on episode 1145 and timestep 1145000"
     ]
    },
    {
     "name": "stdout",
     "output_type": "stream",
     "text": [
      " (3.67 GB CUDA)\n"
     ]
    },
    {
     "name": "stdout",
     "output_type": "stream",
     "text": [
      "Updating model with average reward -5.216673343227357 on episode 1150 and timestep 1150000"
     ]
    },
    {
     "name": "stdout",
     "output_type": "stream",
     "text": [
      " (3.67 GB CUDA)\n"
     ]
    },
    {
     "name": "stdout",
     "output_type": "stream",
     "text": [
      "Updating model with average reward -5.2618557996913795 on episode 1155 and timestep 1155000"
     ]
    },
    {
     "name": "stdout",
     "output_type": "stream",
     "text": [
      " (3.67 GB CUDA)\n"
     ]
    },
    {
     "name": "stdout",
     "output_type": "stream",
     "text": [
      "Updating model with average reward -5.322948479056358 on episode 1160 and timestep 1160000"
     ]
    },
    {
     "name": "stdout",
     "output_type": "stream",
     "text": [
      " (3.67 GB CUDA)\n"
     ]
    },
    {
     "name": "stdout",
     "output_type": "stream",
     "text": [
      "Updating model with average reward -5.456445585357353 on episode 1165 and timestep 1165000"
     ]
    },
    {
     "name": "stdout",
     "output_type": "stream",
     "text": [
      " (3.67 GB CUDA)\n"
     ]
    },
    {
     "name": "stdout",
     "output_type": "stream",
     "text": [
      "Updating model with average reward -5.423489428837031 on episode 1170 and timestep 1170000"
     ]
    },
    {
     "name": "stdout",
     "output_type": "stream",
     "text": [
      " (3.67 GB CUDA)\n"
     ]
    },
    {
     "name": "stdout",
     "output_type": "stream",
     "text": [
      "Updating model with average reward -5.329720930125475 on episode 1175 and timestep 1175000"
     ]
    },
    {
     "name": "stdout",
     "output_type": "stream",
     "text": [
      " (3.67 GB CUDA)\n"
     ]
    },
    {
     "name": "stdout",
     "output_type": "stream",
     "text": [
      "Advancing training to stage 14\n",
      "Decaying std to 0.1 on episode 1175 and timestep 1175000\n"
     ]
    },
    {
     "name": "stdout",
     "output_type": "stream",
     "text": [
      "Updating model with average reward -5.456961693491966 on episode 1180 and timestep 1180000"
     ]
    },
    {
     "name": "stdout",
     "output_type": "stream",
     "text": [
      " (3.67 GB CUDA)\n"
     ]
    },
    {
     "name": "stdout",
     "output_type": "stream",
     "text": [
      "Updating model with average reward -5.358949275562555 on episode 1185 and timestep 1185000"
     ]
    },
    {
     "name": "stdout",
     "output_type": "stream",
     "text": [
      " (3.67 GB CUDA)\n"
     ]
    },
    {
     "name": "stdout",
     "output_type": "stream",
     "text": [
      "Updating model with average reward -5.712328955212683 on episode 1190 and timestep 1190000"
     ]
    },
    {
     "name": "stdout",
     "output_type": "stream",
     "text": [
      " (3.67 GB CUDA)\n"
     ]
    },
    {
     "name": "stdout",
     "output_type": "stream",
     "text": [
      "Updating model with average reward -5.316809861072138 on episode 1195 and timestep 1195000"
     ]
    },
    {
     "name": "stdout",
     "output_type": "stream",
     "text": [
      " (3.67 GB CUDA)\n"
     ]
    },
    {
     "name": "stdout",
     "output_type": "stream",
     "text": [
      "Updating model with average reward -5.272238725172311 on episode 1200 and timestep 1200000"
     ]
    },
    {
     "name": "stdout",
     "output_type": "stream",
     "text": [
      " (3.67 GB CUDA)\n"
     ]
    },
    {
     "name": "stdout",
     "output_type": "stream",
     "text": [
      "Updating model with average reward -5.525305708781302 on episode 1205 and timestep 1205000"
     ]
    },
    {
     "name": "stdout",
     "output_type": "stream",
     "text": [
      " (3.67 GB CUDA)\n"
     ]
    },
    {
     "name": "stdout",
     "output_type": "stream",
     "text": [
      "Updating model with average reward -5.174215926773191 on episode 1210 and timestep 1210000"
     ]
    },
    {
     "name": "stdout",
     "output_type": "stream",
     "text": [
      " (3.67 GB CUDA)\n"
     ]
    },
    {
     "name": "stdout",
     "output_type": "stream",
     "text": [
      "Updating model with average reward -4.951513325866073 on episode 1215 and timestep 1215000"
     ]
    },
    {
     "name": "stdout",
     "output_type": "stream",
     "text": [
      " (3.67 GB CUDA)\n"
     ]
    },
    {
     "name": "stdout",
     "output_type": "stream",
     "text": [
      "Updating model with average reward -5.307346795628935 on episode 1220 and timestep 1220000"
     ]
    },
    {
     "name": "stdout",
     "output_type": "stream",
     "text": [
      " (3.67 GB CUDA)\n"
     ]
    },
    {
     "name": "stdout",
     "output_type": "stream",
     "text": [
      "Updating model with average reward -5.378803395025969 on episode 1225 and timestep 1225000"
     ]
    },
    {
     "name": "stdout",
     "output_type": "stream",
     "text": [
      " (3.67 GB CUDA)\n"
     ]
    },
    {
     "name": "stdout",
     "output_type": "stream",
     "text": [
      "Updating model with average reward -5.2502416647864285 on episode 1230 and timestep 1230000"
     ]
    },
    {
     "name": "stdout",
     "output_type": "stream",
     "text": [
      " (3.67 GB CUDA)\n"
     ]
    },
    {
     "name": "stdout",
     "output_type": "stream",
     "text": [
      "Updating model with average reward -4.949576644966662 on episode 1235 and timestep 1235000"
     ]
    },
    {
     "name": "stdout",
     "output_type": "stream",
     "text": [
      " (3.67 GB CUDA)\n"
     ]
    },
    {
     "name": "stdout",
     "output_type": "stream",
     "text": [
      "Updating model with average reward -5.448295705283165 on episode 1240 and timestep 1240000"
     ]
    },
    {
     "name": "stdout",
     "output_type": "stream",
     "text": [
      " (3.67 GB CUDA)\n"
     ]
    },
    {
     "name": "stdout",
     "output_type": "stream",
     "text": [
      "Updating model with average reward -5.278477111089736 on episode 1245 and timestep 1245000"
     ]
    },
    {
     "name": "stdout",
     "output_type": "stream",
     "text": [
      " (3.67 GB CUDA)\n"
     ]
    },
    {
     "name": "stdout",
     "output_type": "stream",
     "text": [
      "Ending early on episode 1249 and timestep 1249000\n",
      "\n",
      "Reset Environment: 0.17947718407958746\n"
     ]
    },
    {
     "name": "stdout",
     "output_type": "stream",
     "text": [
      "Environment Setup: 41.714671049267054\n"
     ]
    },
    {
     "name": "stdout",
     "output_type": "stream",
     "text": [
      "Calculate Actions: 9173.251193610951\n"
     ]
    },
    {
     "name": "stdout",
     "output_type": "stream",
     "text": [
      "Step Environment: 1028.6589283011854\n"
     ]
    },
    {
     "name": "stdout",
     "output_type": "stream",
     "text": [
      "Record Rewards: 324.74342629686\n",
      "Record Stats: 0.46168376319110394\n",
      "Early Stopping: 13.293554007075727\n",
      "Update Policy: 136544.0511437934\n",
      "Total: 147126.354078006\n"
     ]
    }
   ],
   "source": [
    "# Tracking parameters\n",
    "# Use `watch -d -n 0.5 nvidia-smi` to watch CUDA memory usage\n",
    "# Use `top` to watch system memory usage\n",
    "# Run script and put following above function to profile\n",
    "#    from memory_profiler import profile\n",
    "#    @profile\n",
    "# Use cProfiler to profile timing:\n",
    "#    python -m cProfile -s time -o profile.prof train.py\n",
    "#    snakeviz profile.prof\n",
    "use_wandb = True\n",
    "\n",
    "# Initialize classes\n",
    "env = inept.environments.trajectory(*modalities, **env_kwargs, **stages_kwargs['env'][0], device=DEVICE)  # Set to first stage\n",
    "policy = inept.models.PPO(**policy_kwargs).train()\n",
    "early_stopping = inept.utilities.EarlyStopping(**es_kwargs)\n",
    "\n",
    "# Initialize wandb\n",
    "if use_wandb: wandb.init(\n",
    "    project='INEPT',\n",
    "    config={\n",
    "        **{'note/'+k:v for k, v in note_kwargs.items()},\n",
    "        **{'data/'+k:v for k, v in data_kwargs.items()},\n",
    "        **{'env/'+k:v for k, v in env_kwargs.items()},\n",
    "        **{'stages/'+k:v for k, v in stages_kwargs.items()},\n",
    "        **{'policy/'+k:v for k, v in policy_kwargs.items()},\n",
    "        **{'train/'+k:v for k, v in train_kwargs.items()},\n",
    "        **{'es/'+k:v for k, v in es_kwargs.items()},\n",
    "    },\n",
    ")\n",
    "\n",
    "# Initialize logging vars\n",
    "torch.cuda.reset_peak_memory_stats()\n",
    "timer = inept.utilities.time_logger(discard_first_sample=True)\n",
    "timestep = 0; episode = 1; stage = 0\n",
    "\n",
    "# CLI\n",
    "print('Beginning training')\n",
    "num_train_nodes = data_kwargs['num_nodes'] if train_kwargs['max_nodes'] is None else min(data_kwargs['num_nodes'], train_kwargs['max_nodes'])\n",
    "print(\n",
    "    f'Training using {num_train_nodes} nodes out of a'\n",
    "    f' total {data_kwargs[\"num_nodes\"]} with forward batches of'\n",
    "    f' size {train_kwargs[\"max_batch\"]}.'\n",
    ")\n",
    "update_maxbatch_print = (\n",
    "    policy_kwargs[\"update_maxbatch\"]\n",
    "    if policy_kwargs[\"update_maxbatch\"] is not None else \n",
    "    'all'\n",
    ")\n",
    "print(\n",
    "    f'Training on {update_maxbatch_print} states'\n",
    "    f' with batches of size {policy_kwargs[\"update_batch\"]}'\n",
    "    f' and minibatches of size {policy_kwargs[\"update_minibatch\"]}'\n",
    "    f' from {int(train_kwargs[\"update_timesteps\"] * data_kwargs[\"num_nodes\"])} total.')\n",
    "\n",
    "# Simulation loop\n",
    "while timestep < train_kwargs['max_timesteps']:\n",
    "    # Reset environment\n",
    "    env.reset()\n",
    "    timer.log('Reset Environment')\n",
    "\n",
    "    # Start episode\n",
    "    ep_timestep = 0; ep_reward = 0; ep_itemized_reward = defaultdict(lambda: 0)\n",
    "    while ep_timestep < train_kwargs['max_ep_timesteps']:\n",
    "        with torch.no_grad():\n",
    "            # Get current state\n",
    "            state = env.get_state(include_modalities=True)\n",
    "            timer.log('Environment Setup')\n",
    "\n",
    "            # Get actions from policy\n",
    "            actions = policy.act_macro(\n",
    "                state,\n",
    "                keys=list(range(num_nodes)),\n",
    "                max_batch=train_kwargs['max_batch'],\n",
    "                max_nodes=train_kwargs['max_nodes'],\n",
    "            ).detach()\n",
    "            timer.log('Calculate Actions')\n",
    "\n",
    "            # Step environment and get reward\n",
    "            rewards, finished, itemized_rewards = env.step(actions, return_rewards=True)\n",
    "            finished = finished or (ep_timestep == train_kwargs['max_ep_timesteps']-1)  # Maybe move logic inside env?\n",
    "            timer.log('Step Environment')\n",
    "\n",
    "            # Record rewards for policy\n",
    "            policy.memory.record(\n",
    "                rewards=rewards.cpu().tolist(),\n",
    "                is_terminals=finished,\n",
    "            )\n",
    "\n",
    "            # Record rewards for logging\n",
    "            ep_reward = ep_reward + rewards.cpu().mean()\n",
    "            for k, v in itemized_rewards.items():\n",
    "                ep_itemized_reward[k] += v.cpu().mean()\n",
    "            timer.log('Record Rewards')\n",
    "\n",
    "        # Iterate\n",
    "        timestep += 1\n",
    "        ep_timestep += 1\n",
    "\n",
    "        # Update model\n",
    "        if timestep % train_kwargs['update_timesteps'] == 0:\n",
    "            # assert False\n",
    "            print(f'Updating model with average reward {np.mean(policy.memory.storage[\"rewards\"])} on episode {episode} and timestep {timestep}', end='')\n",
    "            policy.update()\n",
    "            print(f' ({torch.cuda.max_memory_allocated() / 1024**3:.2f} GB CUDA)')\n",
    "            torch.cuda.reset_peak_memory_stats()\n",
    "            timer.log('Update Policy')\n",
    "\n",
    "        # Escape if finished\n",
    "        if finished: break\n",
    "\n",
    "    # Upload stats\n",
    "    ep_reward = (ep_reward / ep_timestep).item()\n",
    "    update = int(timestep / train_kwargs['update_timesteps'])\n",
    "    if use_wandb:\n",
    "        wandb.log({\n",
    "            **{\n",
    "            # Measurements\n",
    "            'end_timestep': timestep,\n",
    "            'episode': episode,\n",
    "            'update': update,\n",
    "            'stage': stage,\n",
    "            # Parameters\n",
    "            'action_std': policy.action_std,\n",
    "            # Outputs\n",
    "            'average_reward': ep_reward,\n",
    "            },\n",
    "            **{'rewards/'+k: (v / ep_timestep).item() for k, v in ep_itemized_reward.items()},\n",
    "        })\n",
    "    timer.log('Record Stats')\n",
    "\n",
    "    # Decay model std\n",
    "    if early_stopping(ep_reward) or timestep >= train_kwargs['max_timesteps']:\n",
    "        # Save model\n",
    "        wgt_file = os.path.join(MODEL_FOLDER, f'policy_{stage:02}.wgt')\n",
    "        torch.save(policy.state_dict(), wgt_file)  # Save just weights\n",
    "        if use_wandb: wandb.save(wgt_file)\n",
    "        mdl_file = os.path.join(MODEL_FOLDER, f'policy_{stage:02}.mdl')\n",
    "        torch.save(policy, mdl_file)  # Save whole model\n",
    "        if use_wandb: wandb.save(mdl_file)\n",
    "\n",
    "        # End if maximum timesteps reached\n",
    "        if timestep >= train_kwargs['max_timesteps']:\n",
    "            print('Maximal timesteps reached')\n",
    "\n",
    "        # End if at minimum `action_std`\n",
    "        if policy.action_std <= policy.action_std_min:\n",
    "            print(f'Ending early on episode {episode} and timestep {timestep}')\n",
    "            break\n",
    "\n",
    "        # Activate next stage or decay\n",
    "        stage += 1\n",
    "        # CLI\n",
    "        print(f'Advancing training to stage {stage}')\n",
    "        if stage < len(stages_kwargs['env']):\n",
    "            # Activate next stage\n",
    "            env.set_rewards(stages_kwargs['env'][stage])\n",
    "        else:\n",
    "            # Decay policy randomness\n",
    "            policy.decay_action_std()\n",
    "            # CLI\n",
    "            print(f'Decaying std to {policy.action_std} on episode {episode} and timestep {timestep}')\n",
    "\n",
    "        # Reset early stopping\n",
    "        early_stopping.reset()\n",
    "    timer.log('Early Stopping')\n",
    "\n",
    "    # Iterate\n",
    "    episode += 1\n",
    "\n",
    "# CLI Timer\n",
    "print()\n",
    "timer.aggregate('sum')\n",
    "\n",
    "# Finish wandb\n",
    "if use_wandb: wandb.finish()"
   ]
  }
 ],
 "metadata": {
  "kernelspec": {
   "display_name": "inept",
   "language": "python",
   "name": "python3"
  },
  "language_info": {
   "codemirror_mode": {
    "name": "ipython",
    "version": 3
   },
   "file_extension": ".py",
   "mimetype": "text/x-python",
   "name": "python",
   "nbconvert_exporter": "python",
   "pygments_lexer": "ipython3",
   "version": "3.10.14"
  }
 },
 "nbformat": 4,
 "nbformat_minor": 2
}
