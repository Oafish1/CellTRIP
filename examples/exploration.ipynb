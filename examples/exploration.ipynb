{
 "cells": [
  {
   "cell_type": "code",
   "execution_count": 1,
   "metadata": {},
   "outputs": [],
   "source": [
    "%load_ext autoreload\n",
    "%autoreload 2\n"
   ]
  },
  {
   "cell_type": "code",
   "execution_count": 2,
   "metadata": {},
   "outputs": [],
   "source": [
    "import inept\n",
    "import torch\n"
   ]
  },
  {
   "cell_type": "code",
   "execution_count": 3,
   "metadata": {},
   "outputs": [],
   "source": [
    "# Resources\n",
    "# https://openai.com/research/emergent-tool-use\n",
    "# https://glouppe.github.io/info8004-advanced-machine-learning/pdf/pleroy-hide-and-seek.pdf\n",
    "# https://github.com/nikhilbarhate99/PPO-PyTorch/blob/master/PPO.py#L38\n"
   ]
  },
  {
   "cell_type": "code",
   "execution_count": 4,
   "metadata": {},
   "outputs": [],
   "source": [
    "# Params\n",
    "num_nodes = 100\n",
    "num_dims = 2\n",
    "\n",
    "# Data\n",
    "M1 = torch.rand((num_nodes, 2000))\n",
    "M2 = torch.rand((num_nodes, 2000))\n"
   ]
  },
  {
   "cell_type": "code",
   "execution_count": 11,
   "metadata": {},
   "outputs": [],
   "source": [
    "# Make individual node models\n",
    "policy = inept.models.PPO(2*num_dims, num_dims)\n",
    "\n",
    "# Randomize starting states\n",
    "# x, y, vx, vy\n",
    "node_features = torch.rand((num_nodes, 2*num_dims))\n",
    "\n",
    "# Run model over all nodes\n",
    "for i in range(num_nodes):\n",
    "    idx = torch.zeros((node_features.shape[0]), dtype=torch.bool)\n",
    "    idx[i] = True\n",
    "    actions, actions_old, state_val, state_val_old = policy(node_features[idx], node_features[~idx])\n",
    "\n",
    "# TODO: PPO\n",
    "# DETAILS: Implement old (beginning of each epoch)\n",
    "# DETAILS: Make sure to train on variable `node_entities` length so new nodes may be added\n"
   ]
  }
 ],
 "metadata": {
  "kernelspec": {
   "display_name": "inept",
   "language": "python",
   "name": "python3"
  },
  "language_info": {
   "codemirror_mode": {
    "name": "ipython",
    "version": 3
   },
   "file_extension": ".py",
   "mimetype": "text/x-python",
   "name": "python",
   "nbconvert_exporter": "python",
   "pygments_lexer": "ipython3",
   "version": "3.9.18"
  }
 },
 "nbformat": 4,
 "nbformat_minor": 2
}
