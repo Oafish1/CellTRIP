{
 "cells": [
  {
   "cell_type": "code",
   "execution_count": 1,
   "metadata": {},
   "outputs": [],
   "source": [
    "%load_ext autoreload\n",
    "%autoreload 2\n"
   ]
  },
  {
   "cell_type": "code",
   "execution_count": 5,
   "metadata": {},
   "outputs": [],
   "source": [
    "import inept\n",
    "import torch\n"
   ]
  },
  {
   "cell_type": "code",
   "execution_count": null,
   "metadata": {},
   "outputs": [],
   "source": [
    "# Algorithm v1\n",
    "# Find some way to encode variable-length lists (maybe encode recurrently, or by attention)\n",
    "# Each node has vision range which is encoded as above\n",
    "# Decides on movement, reruns\n",
    "# Maybe use PPO and masked self-attention like in https://openai.com/research/emergent-tool-use\n",
    "\n",
    "# Algorithm v2\n",
    "# Self-attention encoding of other node positions to NN (no LSTM) for clipped x, y adjustment\n",
    "# PPO for training with reward based on node similarity (another NN) vs proximity\n",
    "# Node similarity objective is user-provided\n",
    "# PROBLEM: Too much calculation for node similarity (N^2 complexity)\n"
   ]
  },
  {
   "cell_type": "code",
   "execution_count": null,
   "metadata": {},
   "outputs": [],
   "source": [
    "# Params\n",
    "num_nodes = 100\n",
    "num_dims = 2\n",
    "\n",
    "# Data\n",
    "M1 = torch.rand((num_nodes, 2000))\n",
    "M2 = torch.rand((num_nodes, 2000))\n"
   ]
  },
  {
   "cell_type": "code",
   "execution_count": 29,
   "metadata": {},
   "outputs": [],
   "source": [
    "# Make individual node models\n",
    "nodes = [inept.models.Node(2*num_dims, num_dims) for _ in range(num_nodes)]\n",
    "\n",
    "# Randomize starting states\n",
    "# x, y, vx, vy\n",
    "node_features = torch.rand((num_nodes, 2*num_dims))\n",
    "\n",
    "# Run model over all nodes\n",
    "for i, node in enumerate(nodes):\n",
    "    idx = torch.zeros((node_features.shape[0]), dtype=torch.bool)\n",
    "    idx[i] = True\n",
    "    node(node_features[idx], node_features[~idx])\n",
    "\n",
    "# TODO: PPO\n"
   ]
  }
 ],
 "metadata": {
  "kernelspec": {
   "display_name": "inept",
   "language": "python",
   "name": "python3"
  },
  "language_info": {
   "codemirror_mode": {
    "name": "ipython",
    "version": 3
   },
   "file_extension": ".py",
   "mimetype": "text/x-python",
   "name": "python",
   "nbconvert_exporter": "python",
   "pygments_lexer": "ipython3",
   "version": "3.9.18"
  }
 },
 "nbformat": 4,
 "nbformat_minor": 2
}
