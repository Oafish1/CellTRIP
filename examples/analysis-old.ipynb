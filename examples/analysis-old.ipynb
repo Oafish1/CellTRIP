{
 "cells": [
  {
   "cell_type": "code",
   "execution_count": 1,
   "metadata": {
    "execution": {
     "iopub.execute_input": "2024-11-07T17:00:09.649053Z",
     "iopub.status.busy": "2024-11-07T17:00:09.648798Z",
     "iopub.status.idle": "2024-11-07T17:00:30.047863Z",
     "shell.execute_reply": "2024-11-07T17:00:30.047405Z"
    }
   },
   "outputs": [
    {
     "name": "stdout",
     "output_type": "stream",
     "text": [
      "env: WANDB_NOTEBOOK_NAME=analysis.ipynb\n",
      "env: WANDB_SILENT=true\n"
     ]
    }
   ],
   "source": [
    "%load_ext autoreload\n",
    "%autoreload 2\n",
    "%env WANDB_NOTEBOOK_NAME analysis.ipynb\n",
    "%env WANDB_SILENT true\n",
    "\n",
    "from collections import defaultdict\n",
    "import os\n",
    "import time\n",
    "\n",
    "import inept\n",
    "from IPython import display\n",
    "import matplotlib.animation as animation\n",
    "import matplotlib.pyplot as plt\n",
    "import numpy as np\n",
    "import pandas as pd\n",
    "import seaborn as sns\n",
    "import sklearn.metrics\n",
    "import torch\n",
    "import wandb\n",
    "\n",
    "# Set params\n",
    "DEVICE = 'cuda:0' if torch.cuda.is_available() else 'cpu'\n",
    "BASE_FOLDER = os.path.abspath('')\n",
    "DATA_FOLDER = os.path.join(BASE_FOLDER, '../data')\n",
    "PLOT_FOLDER = os.path.join(BASE_FOLDER, '../plots')\n",
    "TEMP_FOLDER = os.path.join(BASE_FOLDER, 'temp')\n",
    "\n",
    "# Disable gradients\n",
    "torch.set_grad_enabled(False)\n",
    "\n",
    "# Style\n",
    "sns.set_context('paper', font_scale=1.25)\n",
    "sns.set_style('white')\n",
    "sns.set_palette('Accent')\n",
    "PALETTE = 'husl'"
   ]
  },
  {
   "cell_type": "markdown",
   "metadata": {},
   "source": [
    "- HIGH PRIORITY\n",
    "  - First frame is slightly different\n",
    "  - Continual perturbation analysis"
   ]
  },
  {
   "cell_type": "markdown",
   "metadata": {},
   "source": [
    "### Parameters"
   ]
  },
  {
   "cell_type": "code",
   "execution_count": 2,
   "metadata": {
    "execution": {
     "iopub.execute_input": "2024-11-07T17:00:30.050125Z",
     "iopub.status.busy": "2024-11-07T17:00:30.049965Z",
     "iopub.status.idle": "2024-11-07T17:00:30.069496Z",
     "shell.execute_reply": "2024-11-07T17:00:30.069095Z"
    }
   },
   "outputs": [],
   "source": [
    "# Animation parameters\n",
    "# Any - 500 - 500\n",
    "# 2000 - 50 - None\n",
    "# 1000 - 200 - None\n",
    "# 500 - None - None\n",
    "generalize = True\n",
    "num_nodes_max = 2_000\n",
    "MAX_BATCH = 50\n",
    "MAX_NODES = None\n",
    "run_id = 'v8q9fmme'  # BC: g8ex944e, scG: v8q9fmme"
   ]
  },
  {
   "cell_type": "markdown",
   "metadata": {},
   "source": [
    "### Load Files"
   ]
  },
  {
   "cell_type": "code",
   "execution_count": 3,
   "metadata": {
    "execution": {
     "iopub.execute_input": "2024-11-07T17:00:30.071528Z",
     "iopub.status.busy": "2024-11-07T17:00:30.071360Z",
     "iopub.status.idle": "2024-11-07T17:00:34.790203Z",
     "shell.execute_reply": "2024-11-07T17:00:34.789724Z"
    }
   },
   "outputs": [],
   "source": [
    "# Load run from the wandb API\n",
    "api = wandb.Api()\n",
    "run = api.run(f'oafish/uncategorized/{run_id}')\n",
    "\n",
    "# Load configs\n",
    "config = defaultdict(lambda: {})\n",
    "for k, v in run.config.items():\n",
    "    dict_name, key = k.split('/')\n",
    "    config[dict_name][key] = v\n",
    "config = dict(config)\n",
    "\n",
    "# Load model\n",
    "fname = f'trained_models/policy_{run.summary[\"stage\"]:02}.mdl'\n",
    "run.file(fname).download(TEMP_FOLDER, replace=True)\n",
    "policy = torch.load(os.path.join(TEMP_FOLDER, fname)).to(DEVICE).eval()\n",
    "policy.actor.set_action_std(1e-7)  # Place in execution mode (TODO: 0)"
   ]
  },
  {
   "cell_type": "code",
   "execution_count": 4,
   "metadata": {
    "execution": {
     "iopub.execute_input": "2024-11-07T17:00:34.792546Z",
     "iopub.status.busy": "2024-11-07T17:00:34.792253Z",
     "iopub.status.idle": "2024-11-07T17:00:34.812012Z",
     "shell.execute_reply": "2024-11-07T17:00:34.811567Z"
    }
   },
   "outputs": [],
   "source": [
    "# Reproducibility\n",
    "torch.manual_seed(config['note']['seed'])\n",
    "if DEVICE == 'cuda': torch.cuda.manual_seed(config['note']['seed'])\n",
    "np.random.seed(config['note']['seed'])"
   ]
  },
  {
   "cell_type": "code",
   "execution_count": 5,
   "metadata": {
    "execution": {
     "iopub.execute_input": "2024-11-07T17:00:34.814019Z",
     "iopub.status.busy": "2024-11-07T17:00:34.813882Z",
     "iopub.status.idle": "2024-11-07T17:02:17.137835Z",
     "shell.execute_reply": "2024-11-07T17:02:17.137321Z"
    }
   },
   "outputs": [],
   "source": [
    "# Load data\n",
    "dataset_name = config['data']['dataset']\n",
    "\n",
    "if dataset_name == 'scNMT':\n",
    "    dataset_dir = os.path.join(DATA_FOLDER, 'UnionCom/scNMT')\n",
    "    M1 = pd.read_csv(os.path.join(dataset_dir, 'Paccessibility_300.txt'), delimiter=' ', header=None).to_numpy()\n",
    "    M2 = pd.read_csv(os.path.join(dataset_dir, 'Pmethylation_300.txt'), delimiter=' ', header=None).to_numpy()\n",
    "    M3 = pd.read_csv(os.path.join(dataset_dir, 'RNA_300.txt'), delimiter=' ', header=None).to_numpy()\n",
    "    T1 = pd.read_csv(os.path.join(dataset_dir, 'type1.txt'), delimiter=' ', header=None).to_numpy().flatten()\n",
    "    T2 = pd.read_csv(os.path.join(dataset_dir, 'type2.txt'), delimiter=' ', header=None).to_numpy().flatten()\n",
    "    T3 = pd.read_csv(os.path.join(dataset_dir, 'type3.txt'), delimiter=' ', header=None).to_numpy().flatten()\n",
    "\n",
    "    modalities = [M1, M2, M3][1]\n",
    "    types = [T1, T2, T3][1]\n",
    "    features = [[i for i in range(M.shape[1])] for M in modalities]\n",
    "\n",
    "elif dataset_name == 'BrainChromatin':\n",
    "    nrows = None  # 2_000\n",
    "    dataset_dir = os.path.join(DATA_FOLDER, 'brainchromatin')\n",
    "    M1 = pd.read_csv(os.path.join(dataset_dir, 'multiome_rna_counts.tsv'), delimiter='\\t', nrows=nrows).transpose()  # 4.6 Gb in memory\n",
    "    M2 = pd.read_csv(os.path.join(dataset_dir, 'multiome_atac_gene_activities.tsv'), delimiter='\\t', nrows=nrows).transpose()  # 2.6 Gb in memory\n",
    "    M2 = M2.transpose()[M1.index].transpose()\n",
    "    meta = pd.read_csv(os.path.join(dataset_dir, 'multiome_cell_metadata.txt'), delimiter='\\t')\n",
    "    meta_names = pd.read_csv(os.path.join(dataset_dir, 'multiome_cluster_names.txt'), delimiter='\\t')\n",
    "    meta_names = meta_names[meta_names['Assay'] == 'Multiome ATAC']\n",
    "    meta = pd.merge(meta, meta_names, left_on='ATAC_cluster', right_on='Cluster.ID', how='left')\n",
    "    meta.index = meta['Cell.ID']\n",
    "    T1 = T2 = np.array(meta.transpose()[M1.index].transpose()['Cluster.Name'])\n",
    "    F1, F2 = M1.columns, M2.columns\n",
    "    M1, M2 = M1.to_numpy(), M2.to_numpy()\n",
    "\n",
    "    modalities = [M1, M2]\n",
    "    types = [T1, T2]\n",
    "    features = [F1, F2]\n",
    "\n",
    "    del meta, meta_names\n",
    "\n",
    "elif dataset_name == 'scGLUE':\n",
    "    import scanpy as sc\n",
    "    dataset_dir = os.path.join(DATA_FOLDER, 'scglue')\n",
    "    D1 = sc.read_h5ad(os.path.join(dataset_dir, 'Chen-2019-RNA.h5ad'))\n",
    "    D2 = sc.read_h5ad(os.path.join(dataset_dir, 'Chen-2019-ATAC.h5ad'))\n",
    "    M1 = np.asarray(D1.X.todense())\n",
    "    M2 = np.asarray(D2.X.todense())\n",
    "    T1 = D1.obs.cell_type.to_numpy()\n",
    "    T2 = D2.obs.cell_type.to_numpy()\n",
    "    F1 = D1.var.index.to_numpy()\n",
    "    F2 = D2.var.index.to_numpy()\n",
    "\n",
    "    modalities = [M1, M2]\n",
    "    types = [T1, T2]\n",
    "    features = [F1, F2]\n",
    "\n",
    "    del D1, D2\n",
    "\n",
    "elif dataset_name == 'scGEM':\n",
    "    dataset_dir = os.path.join(DATA_FOLDER, 'UnionCom/scGEM')\n",
    "    M1 = pd.read_csv(os.path.join(dataset_dir, 'GeneExpression.txt'), delimiter=' ', header=None).to_numpy()\n",
    "    M2 = pd.read_csv(os.path.join(dataset_dir, 'DNAmethylation.txt'), delimiter=' ', header=None).to_numpy()\n",
    "    T1 = pd.read_csv(os.path.join(dataset_dir, 'type1.txt'), delimiter=' ', header=None).to_numpy()\n",
    "    T2 = pd.read_csv(os.path.join(dataset_dir, 'type2.txt'), delimiter=' ', header=None).to_numpy()\n",
    "    F1 = np.loadtxt(os.path.join(dataset_dir, 'gex_names.txt'), dtype='str')\n",
    "    F2 = np.loadtxt(os.path.join(dataset_dir, 'dm_names.txt'), dtype='str')\n",
    "\n",
    "    modalities = [M1, M2]\n",
    "    types = [T1, T2]\n",
    "    features = [F1, F2]\n",
    "\n",
    "# MMD-MA data\n",
    "elif dataset_name == 'MMD-MA':\n",
    "    dataset_dir = os.path.join(DATA_FOLDER, 'UnionCom/MMD')\n",
    "    M1 = pd.read_csv(os.path.join(dataset_dir, 's1_mapped1.txt'), delimiter='\\t', header=None).to_numpy()\n",
    "    M2 = pd.read_csv(os.path.join(dataset_dir, 's1_mapped2.txt'), delimiter='\\t', header=None).to_numpy()\n",
    "    T1 = pd.read_csv(os.path.join(dataset_dir, 's1_type1.txt'), delimiter='\\t', header=None).to_numpy()\n",
    "    T2 = pd.read_csv(os.path.join(dataset_dir, 's1_type2.txt'), delimiter='\\t', header=None).to_numpy()\n",
    "\n",
    "    modalities = [M1, M2]\n",
    "    types = [T1, T2]\n",
    "    features = [[i for i in range(M.shape[1])] for M in modalities]\n",
    "\n",
    "# Random data\n",
    "elif dataset_name == 'Random':\n",
    "    num_nodes = 100\n",
    "    M1 = torch.rand((num_nodes, 8), device=DEVICE)\n",
    "    M2 = torch.rand((num_nodes, 16), device=DEVICE)\n",
    "\n",
    "    modalities = [M1, M2]\n",
    "    types = [2*[0 for _ in range(num_nodes)]]\n",
    "    features = [[i for i in range(M.shape[1])] for M in modalities]\n",
    "\n",
    "else: assert False, 'No matching dataset found.'\n",
    "\n",
    "# Parameters\n",
    "num_nodes = M1.shape[0] if generalize else config['data']['num_nodes']  # TODO OMG\n",
    "if num_nodes_max is not None: num_nodes = min(num_nodes, num_nodes_max)\n",
    "pca_dim = config['policy']['modal_sizes']\n",
    "\n",
    "# Modify data\n",
    "# modalities = inept.utilities.normalize(*modalities, keep_array=True)  # Normalize\n",
    "modalities = inept.utilities.pca_features(*modalities, num_features=pca_dim, copy=(max(*[M.shape[1] for M in modalities]) < 50_000), keep_array=True)  # PCA features (2 min for 8k x 35+k)\n",
    "subsample = inept.utilities.subsample_nodes(*modalities, *types, num_nodes=num_nodes, keep_array=True)  # Subsample nodes\n",
    "modalities, types = subsample[:len(modalities)], subsample[len(modalities):]\n",
    "# modalities = inept.utilities.subsample_features(*modalities, num_features=(16, 16), keep_array=True)  # Subsample features\n",
    "\n",
    "# Cast types\n",
    "modalities = [torch.tensor(Mx, dtype=torch.float32, device=DEVICE) for Mx in modalities]"
   ]
  },
  {
   "cell_type": "code",
   "execution_count": 6,
   "metadata": {
    "execution": {
     "iopub.execute_input": "2024-11-07T17:02:17.140036Z",
     "iopub.status.busy": "2024-11-07T17:02:17.139882Z",
     "iopub.status.idle": "2024-11-07T17:02:17.267240Z",
     "shell.execute_reply": "2024-11-07T17:02:17.266716Z"
    }
   },
   "outputs": [],
   "source": [
    "# Initialize environment\n",
    "# env_config = inept.utilities.overwrite_dict(config['env'], {'positional_dim': 6, 'modal_dims': [76]})\n",
    "env = inept.environments.trajectory(*modalities, **config['env'], device=DEVICE)\n",
    "for stage in config['stages']['env']: env.set_rewards(stage)  # Set to final stage"
   ]
  },
  {
   "cell_type": "markdown",
   "metadata": {},
   "source": [
    "### Plot Performance"
   ]
  },
  {
   "cell_type": "code",
   "execution_count": 7,
   "metadata": {
    "execution": {
     "iopub.execute_input": "2024-11-07T17:02:17.269508Z",
     "iopub.status.busy": "2024-11-07T17:02:17.269325Z",
     "iopub.status.idle": "2024-11-07T17:02:18.313775Z",
     "shell.execute_reply": "2024-11-07T17:02:18.313391Z"
    }
   },
   "outputs": [
    {
     "data": {
      "image/png": "[encoded data removed]",
      "text/plain": [
       "<Figure size 500x500 with 3 Axes>"
      ]
     },
     "metadata": {},
     "output_type": "display_data"
    }
   ],
   "source": [
    "# Load history from wandb\n",
    "history = run.history(samples=2000)\n",
    "history['timestep'] = history['end_timestep']\n",
    "history['Runtime (h)'] = history['_runtime'] / 60**2\n",
    "\n",
    "# Plot\n",
    "fig, axs = plt.subplots(3, 1, figsize=(5, 5), sharex=True, layout='constrained')\n",
    "axs = axs.flatten()\n",
    "sns.lineplot(history, x='timestep', y='Runtime (h)', ax=axs[0])\n",
    "sns.lineplot(history, x='timestep', y='action_std', ax=axs[1])\n",
    "sns.lineplot(history, x='timestep', y='average_reward', ax=axs[2])\n",
    "plt.show()"
   ]
  },
  {
   "cell_type": "markdown",
   "metadata": {},
   "source": [
    "### Animate Latent Space"
   ]
  },
  {
   "cell_type": "markdown",
   "metadata": {},
   "source": [
    "##### Functions"
   ]
  },
  {
   "cell_type": "code",
   "execution_count": 8,
   "metadata": {
    "execution": {
     "iopub.execute_input": "2024-11-07T17:02:18.315821Z",
     "iopub.status.busy": "2024-11-07T17:02:18.315686Z",
     "iopub.status.idle": "2024-11-07T17:02:18.492656Z",
     "shell.execute_reply": "2024-11-07T17:02:18.492220Z"
    }
   },
   "outputs": [],
   "source": [
    "def animate(\n",
    "    policy,\n",
    "    env,\n",
    "    create_func,\n",
    "    update_func,\n",
    "    steps=config['train']['max_ep_timesteps'],\n",
    "    timescale=10,  # Factor speedup\n",
    "    skip=None,  # Only show frames (frame % skip) == 0\n",
    "    save_to_file=True,\n",
    "    fname=config['data']['dataset'],\n",
    "    file_type='mp4',  # mp4 is faster than gif\n",
    "    verbose=True,\n",
    "    **kwargs,\n",
    "):\n",
    "    \"Generate animation with provided hyperparameters\"\n",
    "    # Default parameters\n",
    "    if skip is None: skip = 3 if file_type == 'gif' else 1\n",
    "    assert file_type in ('mp4', 'gif'), f'File type {file_type} not supported.'\n",
    "\n",
    "    # Calculated parameters\n",
    "    frames = int(steps / skip) + 1  # +1 for initial state\n",
    "    interval = int(1e3 * env.delta * skip / timescale)\n",
    "    fps = int(1e3 / interval)  # fps should be ~30 for gif\n",
    "\n",
    "    # Create figure and reset environment\n",
    "    fig, ax, attributes = create_func(env, **kwargs)\n",
    "\n",
    "    # Formatting\n",
    "    ax.set_aspect('equal')\n",
    "    # pos_bound = env.pos_bound\n",
    "    # ax.set_xlim([-pos_bound-.2, pos_bound+.2])\n",
    "    # ax.set_ylim([-pos_bound-.2, pos_bound+.2])\n",
    "    # Update function\n",
    "    update = lambda frame: update_func(frame, policy=policy, env=env, skip=skip, verbose=verbose, ax=ax, **attributes, **kwargs)\n",
    "\n",
    "    # CLI\n",
    "    if verbose: print(f'Total Steps: {steps}')\n",
    "\n",
    "    # Run animation\n",
    "    ani = animation.FuncAnimation(fig=fig, func=update, frames=frames, interval=interval)\n",
    "    if save_to_file:\n",
    "        if file_type == 'mp4': writer = animation.FFMpegWriter(fps=fps, metadata={'artist': 'INEPT'}, extra_args=['-vcodec', 'libx264'], bitrate=8e3)\n",
    "        elif file_type == 'gif': writer = animation.FFMpegWriter(fps=fps)\n",
    "        ani.save(os.path.join(PLOT_FOLDER, f'{fname}.{file_type}'), writer=writer, dpi=600)  # Save\n",
    "    else: display(ani.to_jshtml())  # Display\n",
    "\n",
    "    # CLI\n",
    "    if verbose: print()\n",
    "\n",
    "def env_step(policy, env):\n",
    "    \"Step environment\"\n",
    "    global MAX_BATCH, MAX_NODES\n",
    "    with torch.no_grad():\n",
    "            state = env.get_state(include_modalities=True)\n",
    "            rewards, finished = env.step(policy.act_macro(state, max_batch=MAX_BATCH, max_nodes=MAX_NODES).detach())  # config['train']['max_batch']\n",
    "    return rewards, finished\n",
    "\n",
    "def create_integration(\n",
    "    env,\n",
    "    transform=None,\n",
    "    c=None,\n",
    "    center=False,\n",
    "    crop=None,\n",
    "    s=10,\n",
    "    **kwargs,\n",
    "):\n",
    "    \"Generic figure creation function\"\n",
    "    fig, ax = plt.subplots(figsize=(6, 6), layout='constrained')\n",
    "\n",
    "    # Position calculation\n",
    "    pos = env.pos.detach().cpu()\n",
    "    if transform is not None: pos = transform(pos)\n",
    "    pos = pos[:, :2]\n",
    "\n",
    "    # Styling\n",
    "    if center: pos = pos - pos.mean(dim=0)  # Center for visualization\n",
    "    if crop == 'Dynamic':\n",
    "        ax.set_xlim([pos[:, 0].min() - .2, pos[:, 0].max() + .2])\n",
    "        ax.set_ylim([pos[:, 1].min() - .2, pos[:, 1].max() + .2])\n",
    "    elif crop is not None:\n",
    "        ax.set_xlim([-crop, crop])\n",
    "        ax.set_ylim([-crop, crop])\n",
    "    ax.spines[['right', 'top']].set_visible(False)\n",
    "\n",
    "    # Plot\n",
    "    sct = ax.scatter(*pos.T, c=[PALETTE[i] for i in c], s=s)\n",
    "\n",
    "    return fig, ax, dict(sct=sct)\n",
    "\n",
    "def update_integration(\n",
    "    frame,\n",
    "    policy,\n",
    "    env,\n",
    "    sct,\n",
    "    ax,\n",
    "    transform=None,\n",
    "    skip=1,\n",
    "    center=False,\n",
    "    crop=None,\n",
    "    verbose=True,\n",
    "    **kwargs,\n",
    "):\n",
    "    \"Figure update function for integration\"\n",
    "\n",
    "    # Escape on initial frame\n",
    "    if frame == 0:\n",
    "        if verbose: print(f'Processing: {frame*skip}', end='\\r')\n",
    "        ax.set_title(f'Reward: {0: 0.4f}')\n",
    "        return sct\n",
    "\n",
    "    # Escape if finished\n",
    "    if env.finished(): ax.set_title(f'Finished'); return\n",
    "\n",
    "    # Step environment\n",
    "    for i in range(skip):\n",
    "        if verbose: print(f'Processing: {(frame-1)*skip+i+1}', end='\\r')\n",
    "        rewards, finished = env_step(policy, env)\n",
    "        if finished: break\n",
    "\n",
    "    # Draw\n",
    "    pos = env.pos.detach().cpu()\n",
    "    if transform is not None: pos = transform(pos)\n",
    "    pos = pos[:, :2]\n",
    "    if center: pos = pos - pos.mean(dim=0)  # Center for visualization\n",
    "    if crop == 'Dynamic':\n",
    "        ax.set_xlim([pos[:, 0].min() - .2, pos[:, 0].max() + .2])\n",
    "        ax.set_ylim([pos[:, 1].min() - .2, pos[:, 1].max() + .2])\n",
    "    elif crop is not None:\n",
    "        ax.set_xlim([-crop, crop])\n",
    "        ax.set_ylim([-crop, crop])\n",
    "    sct.set_offsets(pos)\n",
    "    ax.set_title(f'Reward: {rewards.cpu().mean().item(): 0.4f}')\n",
    "    return sct\n",
    "\n",
    "def create_trajectory(*args, **kwargs): return create_integration(*args, **kwargs)\n",
    "\n",
    "def update_trajectory(\n",
    "    frame,\n",
    "    policy,\n",
    "    env,\n",
    "    sct,\n",
    "    ax,\n",
    "    tracked_node_idx,\n",
    "    transform=None,\n",
    "    skip=1,\n",
    "    center=False,\n",
    "    arrow_kwargs={},\n",
    "    crop=None,\n",
    "    verbose=True,\n",
    "    **kwargs,\n",
    "):\n",
    "    \"Figure update function for trajectory\"\n",
    "    # Default arguments\n",
    "    arrow_kwargs_default = dict(width=.2, color='blue', head_width=0)\n",
    "    for k, v in arrow_kwargs_default.items():\n",
    "        if k not in arrow_kwargs: arrow_kwargs[k] = v\n",
    "\n",
    "    # Escape on initial frame\n",
    "    if frame == 0:\n",
    "        if verbose: print(f'Processing: {frame*skip}', end='\\r')\n",
    "        ax.set_title(f'Reward: {0: 0.4f}')\n",
    "        return sct\n",
    "\n",
    "    # Escape if finished\n",
    "    if env.finished(): ax.set_title(f'Finished'); return\n",
    "\n",
    "    # Save old position\n",
    "    pos_old = env.pos.detach().cpu()\n",
    "    if transform is not None: pos_old = transform(pos_old)\n",
    "    pos_old = pos_old[:, :2]\n",
    "\n",
    "    # Step environment\n",
    "    for i in range(skip):\n",
    "        if verbose: print(f'Processing: {(frame-1)*skip+i+1}', end='\\r')\n",
    "        rewards, finished = env_step(policy, env)\n",
    "        if finished: break\n",
    "\n",
    "    # Draw\n",
    "    pos = env.pos.detach().cpu()\n",
    "    if transform is not None: pos = transform(pos)\n",
    "    pos = pos[:, :2]\n",
    "    if center:\n",
    "        # Center for visualization\n",
    "        shift = -pos.mean(dim=0)\n",
    "        pos += shift; pos_old += shift\n",
    "    if crop == 'Dynamic':\n",
    "        ax.set_xlim([pos[:, 0].min() - .2, pos[:, 0].max() + .2])\n",
    "        ax.set_ylim([pos[:, 1].min() - .2, pos[:, 1].max() + .2])\n",
    "    elif crop is not None:\n",
    "        ax.set_xlim([-crop, crop])\n",
    "        ax.set_ylim([-crop, crop])\n",
    "    sct.set_offsets(pos)\n",
    "    ax.set_title(f'Reward: {rewards.cpu().mean().item(): 0.4f}')\n",
    "\n",
    "    # Draw trajectory arrow\n",
    "    dpos = pos[tracked_node_idx] - pos_old[tracked_node_idx]\n",
    "    ax.arrow(*pos_old[tracked_node_idx], *dpos, **arrow_kwargs)\n",
    "\n",
    "    return sct"
   ]
  },
  {
   "cell_type": "markdown",
   "metadata": {},
   "source": [
    "##### Setup"
   ]
  },
  {
   "cell_type": "code",
   "execution_count": 9,
   "metadata": {
    "execution": {
     "iopub.execute_input": "2024-11-07T17:02:18.494807Z",
     "iopub.status.busy": "2024-11-07T17:02:18.494639Z",
     "iopub.status.idle": "2024-11-07T17:02:18.517787Z",
     "shell.execute_reply": "2024-11-07T17:02:18.517412Z"
    }
   },
   "outputs": [],
   "source": [
    "# Universal animation parameters\n",
    "seed = 42\n",
    "file_type = 'mp4'\n",
    "integration_steps = 200  # BC: 400\n",
    "trajectory_steps = 100\n",
    "perturbation_steps = 100\n",
    "skip = None\n",
    "suffix = ''\n",
    "\n",
    "# Plot parameters\n",
    "s = 4\n",
    "\n",
    "# View parameters\n",
    "transform_type = 'UMAP'  # None, 'UMAP', 'PCA'\n",
    "transform_dim = 2\n",
    "center = True\n",
    "crop = 10  # None, 'Dynamic', Positive Float\n",
    "\n",
    "# Change labels for BrainChromatin\n",
    "# ftypes = []\n",
    "# for t in types[0]:\n",
    "#     if t.startswith('GluN'): t = 'GluN'\n",
    "#     if t.startswith('IN'): t = 'IN'\n",
    "#     ftypes.append(t)\n",
    "# ftypes = np.array(ftypes)\n",
    "# types[0] = ftypes\n",
    "\n",
    "# Process\n",
    "integration_steps = config['train']['max_ep_timesteps'] if integration_steps is None else min(integration_steps, config['train']['max_ep_timesteps'])\n",
    "trajectory_steps = config['train']['max_ep_timesteps'] if trajectory_steps is None else min(trajectory_steps, config['train']['max_ep_timesteps'])\n",
    "perturbation_steps = config['train']['max_ep_timesteps'] if perturbation_steps is None else min(perturbation_steps, config['train']['max_ep_timesteps'])\n",
    "c_inv, c = np.unique(types[0].flatten(), return_inverse=True)  # TODO: Extend to non-matching modalities"
   ]
  },
  {
   "cell_type": "code",
   "execution_count": 10,
   "metadata": {
    "execution": {
     "iopub.execute_input": "2024-11-07T17:02:18.519839Z",
     "iopub.status.busy": "2024-11-07T17:02:18.519646Z",
     "iopub.status.idle": "2024-11-07T17:02:18.550954Z",
     "shell.execute_reply": "2024-11-07T17:02:18.550513Z"
    }
   },
   "outputs": [
    {
     "data": {
      "text/html": [
       "<svg  width=\"1210\" height=\"55\"><rect x=\"0\" y=\"0\" width=\"55\" height=\"55\" style=\"fill:#f77189;stroke-width:2;stroke:rgb(255,255,255)\"/><rect x=\"55\" y=\"0\" width=\"55\" height=\"55\" style=\"fill:#f77557;stroke-width:2;stroke:rgb(255,255,255)\"/><rect x=\"110\" y=\"0\" width=\"55\" height=\"55\" style=\"fill:#e18632;stroke-width:2;stroke:rgb(255,255,255)\"/><rect x=\"165\" y=\"0\" width=\"55\" height=\"55\" style=\"fill:#c99232;stroke-width:2;stroke:rgb(255,255,255)\"/><rect x=\"220\" y=\"0\" width=\"55\" height=\"55\" style=\"fill:#b59a32;stroke-width:2;stroke:rgb(255,255,255)\"/><rect x=\"275\" y=\"0\" width=\"55\" height=\"55\" style=\"fill:#a2a131;stroke-width:2;stroke:rgb(255,255,255)\"/><rect x=\"330\" y=\"0\" width=\"55\" height=\"55\" style=\"fill:#8ba731;stroke-width:2;stroke:rgb(255,255,255)\"/><rect x=\"385\" y=\"0\" width=\"55\" height=\"55\" style=\"fill:#66ae31;stroke-width:2;stroke:rgb(255,255,255)\"/><rect x=\"440\" y=\"0\" width=\"55\" height=\"55\" style=\"fill:#32b258;stroke-width:2;stroke:rgb(255,255,255)\"/><rect x=\"495\" y=\"0\" width=\"55\" height=\"55\" style=\"fill:#34b080;stroke-width:2;stroke:rgb(255,255,255)\"/><rect x=\"550\" y=\"0\" width=\"55\" height=\"55\" style=\"fill:#35ae95;stroke-width:2;stroke:rgb(255,255,255)\"/><rect x=\"605\" y=\"0\" width=\"55\" height=\"55\" style=\"fill:#36ada4;stroke-width:2;stroke:rgb(255,255,255)\"/><rect x=\"660\" y=\"0\" width=\"55\" height=\"55\" style=\"fill:#37abb2;stroke-width:2;stroke:rgb(255,255,255)\"/><rect x=\"715\" y=\"0\" width=\"55\" height=\"55\" style=\"fill:#38a9c2;stroke-width:2;stroke:rgb(255,255,255)\"/><rect x=\"770\" y=\"0\" width=\"55\" height=\"55\" style=\"fill:#39a7d6;stroke-width:2;stroke:rgb(255,255,255)\"/><rect x=\"825\" y=\"0\" width=\"55\" height=\"55\" style=\"fill:#4ea0f4;stroke-width:2;stroke:rgb(255,255,255)\"/><rect x=\"880\" y=\"0\" width=\"55\" height=\"55\" style=\"fill:#8f93f4;stroke-width:2;stroke:rgb(255,255,255)\"/><rect x=\"935\" y=\"0\" width=\"55\" height=\"55\" style=\"fill:#b785f4;stroke-width:2;stroke:rgb(255,255,255)\"/><rect x=\"990\" y=\"0\" width=\"55\" height=\"55\" style=\"fill:#db70f4;stroke-width:2;stroke:rgb(255,255,255)\"/><rect x=\"1045\" y=\"0\" width=\"55\" height=\"55\" style=\"fill:#f55fe6;stroke-width:2;stroke:rgb(255,255,255)\"/><rect x=\"1100\" y=\"0\" width=\"55\" height=\"55\" style=\"fill:#f667c6;stroke-width:2;stroke:rgb(255,255,255)\"/><rect x=\"1155\" y=\"0\" width=\"55\" height=\"55\" style=\"fill:#f66caa;stroke-width:2;stroke:rgb(255,255,255)\"/></svg>"
      ],
      "text/plain": [
       "[(0.9677975592919913, 0.44127456009157356, 0.5358103155058701),\n",
       " (0.9701642765060011, 0.4585014668806449, 0.3408973774197841),\n",
       " (0.8836443049112893, 0.5240073524369634, 0.19569304285113343),\n",
       " (0.7874278248231019, 0.5733291349740255, 0.19484980195522167),\n",
       " (0.710130687316902, 0.6046852192663268, 0.19426060163712158),\n",
       " (0.6342819788155822, 0.6298701605165659, 0.1937564898893165),\n",
       " (0.5432776721247529, 0.6540981095185215, 0.19324494273892204),\n",
       " (0.398071759931172, 0.6817894790135043, 0.19262759057177736),\n",
       " (0.19592059105779686, 0.6981620017487838, 0.3452219818913641),\n",
       " (0.20230615957541276, 0.6892987428727776, 0.5014693473856283),\n",
       " (0.2067117296964458, 0.6829103404254792, 0.5829988925822328),\n",
       " (0.21044753832183283, 0.6773105080456748, 0.6433941168468681),\n",
       " (0.21420912437215422, 0.6714963557258681, 0.6986206664203177),\n",
       " (0.21871230574465955, 0.6642950526829915, 0.7592850013140204),\n",
       " (0.22537170008202412, 0.6531400148480775, 0.841007805313343),\n",
       " (0.30683927374239384, 0.626365255857867, 0.9586535068973675),\n",
       " (0.5596943802099308, 0.5764402169887779, 0.9583930713150347),\n",
       " (0.7159805974423589, 0.5200441181332478, 0.9581315739457344),\n",
       " (0.8578978803740231, 0.44058452715322166, 0.957819659566579),\n",
       " (0.9593600685274618, 0.37222734924885714, 0.9023513885514377),\n",
       " (0.9628653850704806, 0.4025928454059796, 0.7779310354076443),\n",
       " (0.9654130041094379, 0.42308759349350267, 0.6673571095222819)]"
      ]
     },
     "execution_count": 10,
     "metadata": {},
     "output_type": "execute_result"
    }
   ],
   "source": [
    "# Filter colors\n",
    "# selective_colors = {\n",
    "#     'OPC': (1., 0., 0., 1.),\n",
    "#     'OliI': (0., 1., 0., 1.),\n",
    "#     'OliM': (0., 0., 1., 1.),\n",
    "#     'Ast': (1., 1., 0., 1.),\n",
    "# }\n",
    "# PALETTE = [selective_colors[ct] if ct in selective_colors else (.7, .7, .7, .2) for ct in c_inv]\n",
    "PALETTE = 'husl'\n",
    "if type(PALETTE) == str:\n",
    "    PALETTE = [list(sns.color_palette(PALETTE, c.max()+1)[i]) for i, ct in enumerate(c_inv)]\n",
    "    PALETTE = [[*color, 1. if ct in ('Ast',) else .2] for color, ct in zip(PALETTE, c_inv)]\n",
    "sns.color_palette(PALETTE)"
   ]
  },
  {
   "cell_type": "code",
   "execution_count": 11,
   "metadata": {
    "execution": {
     "iopub.execute_input": "2024-11-07T17:02:18.552768Z",
     "iopub.status.busy": "2024-11-07T17:02:18.552593Z",
     "iopub.status.idle": "2024-11-07T17:02:19.545421Z",
     "shell.execute_reply": "2024-11-07T17:02:19.544992Z"
    }
   },
   "outputs": [
    {
     "data": {
      "image/png": "[encoded data removed]",
      "text/plain": [
       "<Figure size 640x480 with 1 Axes>"
      ]
     },
     "metadata": {},
     "output_type": "display_data"
    }
   ],
   "source": [
    "%matplotlib inline\n",
    "\n",
    "fig, ax = plt.subplots(1, 1)\n",
    "ax.spines.top.set_visible(False)  # Avoid line through legend if too long\n",
    "handles = [ax.scatter([], [], color=PALETTE[i]) for i in range(c.max())]\n",
    "labels = c_inv\n",
    "legend = plt.legend(handles, labels, loc=3, frameon=False)\n",
    "ax.axis('off')\n",
    "fname = f'{config[\"data\"][\"dataset\"]}{suffix}_legend.pdf'\n",
    "fig.savefig(os.path.join(PLOT_FOLDER, fname), bbox_inches='tight')"
   ]
  },
  {
   "cell_type": "code",
   "execution_count": 12,
   "metadata": {
    "execution": {
     "iopub.execute_input": "2024-11-07T17:02:19.547242Z",
     "iopub.status.busy": "2024-11-07T17:02:19.547105Z",
     "iopub.status.idle": "2024-11-07T17:02:19.567273Z",
     "shell.execute_reply": "2024-11-07T17:02:19.566825Z"
    }
   },
   "outputs": [],
   "source": [
    "# Fix for old architecture\n",
    "policy.actor.positional_dim = 2*policy.actor.output_dim\n",
    "policy.actor.modal_dims = policy.actor.modal_sizes\n",
    "policy.critic.positional_dim = 2*policy.actor.output_dim\n",
    "policy.critic.modal_dims = policy.actor.modal_sizes"
   ]
  },
  {
   "cell_type": "code",
   "execution_count": 13,
   "metadata": {
    "execution": {
     "iopub.execute_input": "2024-11-07T17:02:19.569199Z",
     "iopub.status.busy": "2024-11-07T17:02:19.569036Z",
     "iopub.status.idle": "2024-11-07T17:03:54.384105Z",
     "shell.execute_reply": "2024-11-07T17:03:54.383664Z"
    }
   },
   "outputs": [
    {
     "name": "stdout",
     "output_type": "stream",
     "text": [
      "Estimated integration time: 1895.8 seconds\n",
      "Estimated trajectory time: 947.9 seconds\n",
      "Estimated perturbation time: 947.9 seconds\n",
      "Cumulative time: 94.79203531006353 minutes\n",
      "*Estimated times do not include overhead from animation.\n"
     ]
    }
   ],
   "source": [
    "# Estimate computation time\n",
    "env.reset()\n",
    "start = time.perf_counter()\n",
    "for _ in range(10): env_step(policy, env)\n",
    "time_per_step = (time.perf_counter() - start) / 10\n",
    "integration_time = integration_steps * time_per_step\n",
    "print(f'Estimated integration time: {integration_time:.1f} seconds')\n",
    "trajectory_time = trajectory_steps * time_per_step\n",
    "print(f'Estimated trajectory time: {trajectory_time:.1f} seconds')\n",
    "perturbation_time = perturbation_steps * time_per_step\n",
    "print(f'Estimated perturbation time: {perturbation_time:.1f} seconds')\n",
    "cumulative_time = (2 * integration_time + trajectory_time + perturbation_time) / 60\n",
    "print(f'Cumulative time: {cumulative_time} minutes')\n",
    "print('*Estimated times do not include overhead from animation.')"
   ]
  },
  {
   "cell_type": "markdown",
   "metadata": {},
   "source": [
    "##### Steady State"
   ]
  },
  {
   "cell_type": "code",
   "execution_count": 14,
   "metadata": {
    "execution": {
     "iopub.execute_input": "2024-11-07T17:03:54.386075Z",
     "iopub.status.busy": "2024-11-07T17:03:54.385904Z",
     "iopub.status.idle": "2024-11-07T17:35:23.604754Z",
     "shell.execute_reply": "2024-11-07T17:35:23.604310Z"
    }
   },
   "outputs": [
    {
     "name": "stdout",
     "output_type": "stream",
     "text": [
      "Total Steps: 200\n",
      "Processing: 1\r"
     ]
    },
    {
     "name": "stdout",
     "output_type": "stream",
     "text": [
      "Processing: 2\r"
     ]
    },
    {
     "name": "stdout",
     "output_type": "stream",
     "text": [
      "Processing: 3\r"
     ]
    },
    {
     "name": "stdout",
     "output_type": "stream",
     "text": [
      "Processing: 4\r"
     ]
    },
    {
     "name": "stdout",
     "output_type": "stream",
     "text": [
      "Processing: 5\r"
     ]
    },
    {
     "name": "stdout",
     "output_type": "stream",
     "text": [
      "Processing: 6\r"
     ]
    },
    {
     "name": "stdout",
     "output_type": "stream",
     "text": [
      "Processing: 7\r"
     ]
    },
    {
     "name": "stdout",
     "output_type": "stream",
     "text": [
      "Processing: 8\r"
     ]
    },
    {
     "name": "stdout",
     "output_type": "stream",
     "text": [
      "Processing: 9\r"
     ]
    },
    {
     "name": "stdout",
     "output_type": "stream",
     "text": [
      "Processing: 10\r"
     ]
    },
    {
     "name": "stdout",
     "output_type": "stream",
     "text": [
      "Processing: 11\r"
     ]
    },
    {
     "name": "stdout",
     "output_type": "stream",
     "text": [
      "Processing: 12\r"
     ]
    },
    {
     "name": "stdout",
     "output_type": "stream",
     "text": [
      "Processing: 13\r"
     ]
    },
    {
     "name": "stdout",
     "output_type": "stream",
     "text": [
      "Processing: 14\r"
     ]
    },
    {
     "name": "stdout",
     "output_type": "stream",
     "text": [
      "Processing: 15\r"
     ]
    },
    {
     "name": "stdout",
     "output_type": "stream",
     "text": [
      "Processing: 16\r"
     ]
    },
    {
     "name": "stdout",
     "output_type": "stream",
     "text": [
      "Processing: 17\r"
     ]
    },
    {
     "name": "stdout",
     "output_type": "stream",
     "text": [
      "Processing: 18\r"
     ]
    },
    {
     "name": "stdout",
     "output_type": "stream",
     "text": [
      "Processing: 19\r"
     ]
    },
    {
     "name": "stdout",
     "output_type": "stream",
     "text": [
      "Processing: 20\r"
     ]
    },
    {
     "name": "stdout",
     "output_type": "stream",
     "text": [
      "Processing: 21\r"
     ]
    },
    {
     "name": "stdout",
     "output_type": "stream",
     "text": [
      "Processing: 22\r"
     ]
    },
    {
     "name": "stdout",
     "output_type": "stream",
     "text": [
      "Processing: 23\r"
     ]
    },
    {
     "name": "stdout",
     "output_type": "stream",
     "text": [
      "Processing: 24\r"
     ]
    },
    {
     "name": "stdout",
     "output_type": "stream",
     "text": [
      "Processing: 25\r"
     ]
    },
    {
     "name": "stdout",
     "output_type": "stream",
     "text": [
      "Processing: 26\r"
     ]
    },
    {
     "name": "stdout",
     "output_type": "stream",
     "text": [
      "Processing: 27\r"
     ]
    },
    {
     "name": "stdout",
     "output_type": "stream",
     "text": [
      "Processing: 28\r"
     ]
    },
    {
     "name": "stdout",
     "output_type": "stream",
     "text": [
      "Processing: 29\r"
     ]
    },
    {
     "name": "stdout",
     "output_type": "stream",
     "text": [
      "Processing: 30\r"
     ]
    },
    {
     "name": "stdout",
     "output_type": "stream",
     "text": [
      "Processing: 31\r"
     ]
    },
    {
     "name": "stdout",
     "output_type": "stream",
     "text": [
      "Processing: 32\r"
     ]
    },
    {
     "name": "stdout",
     "output_type": "stream",
     "text": [
      "Processing: 33\r"
     ]
    },
    {
     "name": "stdout",
     "output_type": "stream",
     "text": [
      "Processing: 34\r"
     ]
    },
    {
     "name": "stdout",
     "output_type": "stream",
     "text": [
      "Processing: 35\r"
     ]
    },
    {
     "name": "stdout",
     "output_type": "stream",
     "text": [
      "Processing: 36\r"
     ]
    },
    {
     "name": "stdout",
     "output_type": "stream",
     "text": [
      "Processing: 37\r"
     ]
    },
    {
     "name": "stdout",
     "output_type": "stream",
     "text": [
      "Processing: 38\r"
     ]
    },
    {
     "name": "stdout",
     "output_type": "stream",
     "text": [
      "Processing: 39\r"
     ]
    },
    {
     "name": "stdout",
     "output_type": "stream",
     "text": [
      "Processing: 40\r"
     ]
    },
    {
     "name": "stdout",
     "output_type": "stream",
     "text": [
      "Processing: 41\r"
     ]
    },
    {
     "name": "stdout",
     "output_type": "stream",
     "text": [
      "Processing: 42\r"
     ]
    },
    {
     "name": "stdout",
     "output_type": "stream",
     "text": [
      "Processing: 43\r"
     ]
    },
    {
     "name": "stdout",
     "output_type": "stream",
     "text": [
      "Processing: 44\r"
     ]
    },
    {
     "name": "stdout",
     "output_type": "stream",
     "text": [
      "Processing: 45\r"
     ]
    },
    {
     "name": "stdout",
     "output_type": "stream",
     "text": [
      "Processing: 46\r"
     ]
    },
    {
     "name": "stdout",
     "output_type": "stream",
     "text": [
      "Processing: 47\r"
     ]
    },
    {
     "name": "stdout",
     "output_type": "stream",
     "text": [
      "Processing: 48\r"
     ]
    },
    {
     "name": "stdout",
     "output_type": "stream",
     "text": [
      "Processing: 49\r"
     ]
    },
    {
     "name": "stdout",
     "output_type": "stream",
     "text": [
      "Processing: 50\r"
     ]
    },
    {
     "name": "stdout",
     "output_type": "stream",
     "text": [
      "Processing: 51\r"
     ]
    },
    {
     "name": "stdout",
     "output_type": "stream",
     "text": [
      "Processing: 52\r"
     ]
    },
    {
     "name": "stdout",
     "output_type": "stream",
     "text": [
      "Processing: 53\r"
     ]
    },
    {
     "name": "stdout",
     "output_type": "stream",
     "text": [
      "Processing: 54\r"
     ]
    },
    {
     "name": "stdout",
     "output_type": "stream",
     "text": [
      "Processing: 55\r"
     ]
    },
    {
     "name": "stdout",
     "output_type": "stream",
     "text": [
      "Processing: 56\r"
     ]
    },
    {
     "name": "stdout",
     "output_type": "stream",
     "text": [
      "Processing: 57\r"
     ]
    },
    {
     "name": "stdout",
     "output_type": "stream",
     "text": [
      "Processing: 58\r"
     ]
    },
    {
     "name": "stdout",
     "output_type": "stream",
     "text": [
      "Processing: 59\r"
     ]
    },
    {
     "name": "stdout",
     "output_type": "stream",
     "text": [
      "Processing: 60\r"
     ]
    },
    {
     "name": "stdout",
     "output_type": "stream",
     "text": [
      "Processing: 61\r"
     ]
    },
    {
     "name": "stdout",
     "output_type": "stream",
     "text": [
      "Processing: 62\r"
     ]
    },
    {
     "name": "stdout",
     "output_type": "stream",
     "text": [
      "Processing: 63\r"
     ]
    },
    {
     "name": "stdout",
     "output_type": "stream",
     "text": [
      "Processing: 64\r"
     ]
    },
    {
     "name": "stdout",
     "output_type": "stream",
     "text": [
      "Processing: 65\r"
     ]
    },
    {
     "name": "stdout",
     "output_type": "stream",
     "text": [
      "Processing: 66\r"
     ]
    },
    {
     "name": "stdout",
     "output_type": "stream",
     "text": [
      "Processing: 67\r"
     ]
    },
    {
     "name": "stdout",
     "output_type": "stream",
     "text": [
      "Processing: 68\r"
     ]
    },
    {
     "name": "stdout",
     "output_type": "stream",
     "text": [
      "Processing: 69\r"
     ]
    },
    {
     "name": "stdout",
     "output_type": "stream",
     "text": [
      "Processing: 70\r"
     ]
    },
    {
     "name": "stdout",
     "output_type": "stream",
     "text": [
      "Processing: 71\r"
     ]
    },
    {
     "name": "stdout",
     "output_type": "stream",
     "text": [
      "Processing: 72\r"
     ]
    },
    {
     "name": "stdout",
     "output_type": "stream",
     "text": [
      "Processing: 73\r"
     ]
    },
    {
     "name": "stdout",
     "output_type": "stream",
     "text": [
      "Processing: 74\r"
     ]
    },
    {
     "name": "stdout",
     "output_type": "stream",
     "text": [
      "Processing: 75\r"
     ]
    },
    {
     "name": "stdout",
     "output_type": "stream",
     "text": [
      "Processing: 76\r"
     ]
    },
    {
     "name": "stdout",
     "output_type": "stream",
     "text": [
      "Processing: 77\r"
     ]
    },
    {
     "name": "stdout",
     "output_type": "stream",
     "text": [
      "Processing: 78\r"
     ]
    },
    {
     "name": "stdout",
     "output_type": "stream",
     "text": [
      "Processing: 79\r"
     ]
    },
    {
     "name": "stdout",
     "output_type": "stream",
     "text": [
      "Processing: 80\r"
     ]
    },
    {
     "name": "stdout",
     "output_type": "stream",
     "text": [
      "Processing: 81\r"
     ]
    },
    {
     "name": "stdout",
     "output_type": "stream",
     "text": [
      "Processing: 82\r"
     ]
    },
    {
     "name": "stdout",
     "output_type": "stream",
     "text": [
      "Processing: 83\r"
     ]
    },
    {
     "name": "stdout",
     "output_type": "stream",
     "text": [
      "Processing: 84\r"
     ]
    },
    {
     "name": "stdout",
     "output_type": "stream",
     "text": [
      "Processing: 85\r"
     ]
    },
    {
     "name": "stdout",
     "output_type": "stream",
     "text": [
      "Processing: 86\r"
     ]
    },
    {
     "name": "stdout",
     "output_type": "stream",
     "text": [
      "Processing: 87\r"
     ]
    },
    {
     "name": "stdout",
     "output_type": "stream",
     "text": [
      "Processing: 88\r"
     ]
    },
    {
     "name": "stdout",
     "output_type": "stream",
     "text": [
      "Processing: 89\r"
     ]
    },
    {
     "name": "stdout",
     "output_type": "stream",
     "text": [
      "Processing: 90\r"
     ]
    },
    {
     "name": "stdout",
     "output_type": "stream",
     "text": [
      "Processing: 91\r"
     ]
    },
    {
     "name": "stdout",
     "output_type": "stream",
     "text": [
      "Processing: 92\r"
     ]
    },
    {
     "name": "stdout",
     "output_type": "stream",
     "text": [
      "Processing: 93\r"
     ]
    },
    {
     "name": "stdout",
     "output_type": "stream",
     "text": [
      "Processing: 94\r"
     ]
    },
    {
     "name": "stdout",
     "output_type": "stream",
     "text": [
      "Processing: 95\r"
     ]
    },
    {
     "name": "stdout",
     "output_type": "stream",
     "text": [
      "Processing: 96\r"
     ]
    },
    {
     "name": "stdout",
     "output_type": "stream",
     "text": [
      "Processing: 97\r"
     ]
    },
    {
     "name": "stdout",
     "output_type": "stream",
     "text": [
      "Processing: 98\r"
     ]
    },
    {
     "name": "stdout",
     "output_type": "stream",
     "text": [
      "Processing: 99\r"
     ]
    },
    {
     "name": "stdout",
     "output_type": "stream",
     "text": [
      "Processing: 100\r"
     ]
    },
    {
     "name": "stdout",
     "output_type": "stream",
     "text": [
      "Processing: 101\r"
     ]
    },
    {
     "name": "stdout",
     "output_type": "stream",
     "text": [
      "Processing: 102\r"
     ]
    },
    {
     "name": "stdout",
     "output_type": "stream",
     "text": [
      "Processing: 103\r"
     ]
    },
    {
     "name": "stdout",
     "output_type": "stream",
     "text": [
      "Processing: 104\r"
     ]
    },
    {
     "name": "stdout",
     "output_type": "stream",
     "text": [
      "Processing: 105\r"
     ]
    },
    {
     "name": "stdout",
     "output_type": "stream",
     "text": [
      "Processing: 106\r"
     ]
    },
    {
     "name": "stdout",
     "output_type": "stream",
     "text": [
      "Processing: 107\r"
     ]
    },
    {
     "name": "stdout",
     "output_type": "stream",
     "text": [
      "Processing: 108\r"
     ]
    },
    {
     "name": "stdout",
     "output_type": "stream",
     "text": [
      "Processing: 109\r"
     ]
    },
    {
     "name": "stdout",
     "output_type": "stream",
     "text": [
      "Processing: 110\r"
     ]
    },
    {
     "name": "stdout",
     "output_type": "stream",
     "text": [
      "Processing: 111\r"
     ]
    },
    {
     "name": "stdout",
     "output_type": "stream",
     "text": [
      "Processing: 112\r"
     ]
    },
    {
     "name": "stdout",
     "output_type": "stream",
     "text": [
      "Processing: 113\r"
     ]
    },
    {
     "name": "stdout",
     "output_type": "stream",
     "text": [
      "Processing: 114\r"
     ]
    },
    {
     "name": "stdout",
     "output_type": "stream",
     "text": [
      "Processing: 115\r"
     ]
    },
    {
     "name": "stdout",
     "output_type": "stream",
     "text": [
      "Processing: 116\r"
     ]
    },
    {
     "name": "stdout",
     "output_type": "stream",
     "text": [
      "Processing: 117\r"
     ]
    },
    {
     "name": "stdout",
     "output_type": "stream",
     "text": [
      "Processing: 118\r"
     ]
    },
    {
     "name": "stdout",
     "output_type": "stream",
     "text": [
      "Processing: 119\r"
     ]
    },
    {
     "name": "stdout",
     "output_type": "stream",
     "text": [
      "Processing: 120\r"
     ]
    },
    {
     "name": "stdout",
     "output_type": "stream",
     "text": [
      "Processing: 121\r"
     ]
    },
    {
     "name": "stdout",
     "output_type": "stream",
     "text": [
      "Processing: 122\r"
     ]
    },
    {
     "name": "stdout",
     "output_type": "stream",
     "text": [
      "Processing: 123\r"
     ]
    },
    {
     "name": "stdout",
     "output_type": "stream",
     "text": [
      "Processing: 124\r"
     ]
    },
    {
     "name": "stdout",
     "output_type": "stream",
     "text": [
      "Processing: 125\r"
     ]
    },
    {
     "name": "stdout",
     "output_type": "stream",
     "text": [
      "Processing: 126\r"
     ]
    },
    {
     "name": "stdout",
     "output_type": "stream",
     "text": [
      "Processing: 127\r"
     ]
    },
    {
     "name": "stdout",
     "output_type": "stream",
     "text": [
      "Processing: 128\r"
     ]
    },
    {
     "name": "stdout",
     "output_type": "stream",
     "text": [
      "Processing: 129\r"
     ]
    },
    {
     "name": "stdout",
     "output_type": "stream",
     "text": [
      "Processing: 130\r"
     ]
    },
    {
     "name": "stdout",
     "output_type": "stream",
     "text": [
      "Processing: 131\r"
     ]
    },
    {
     "name": "stdout",
     "output_type": "stream",
     "text": [
      "Processing: 132\r"
     ]
    },
    {
     "name": "stdout",
     "output_type": "stream",
     "text": [
      "Processing: 133\r"
     ]
    },
    {
     "name": "stdout",
     "output_type": "stream",
     "text": [
      "Processing: 134\r"
     ]
    },
    {
     "name": "stdout",
     "output_type": "stream",
     "text": [
      "Processing: 135\r"
     ]
    },
    {
     "name": "stdout",
     "output_type": "stream",
     "text": [
      "Processing: 136\r"
     ]
    },
    {
     "name": "stdout",
     "output_type": "stream",
     "text": [
      "Processing: 137\r"
     ]
    },
    {
     "name": "stdout",
     "output_type": "stream",
     "text": [
      "Processing: 138\r"
     ]
    },
    {
     "name": "stdout",
     "output_type": "stream",
     "text": [
      "Processing: 139\r"
     ]
    },
    {
     "name": "stdout",
     "output_type": "stream",
     "text": [
      "Processing: 140\r"
     ]
    },
    {
     "name": "stdout",
     "output_type": "stream",
     "text": [
      "Processing: 141\r"
     ]
    },
    {
     "name": "stdout",
     "output_type": "stream",
     "text": [
      "Processing: 142\r"
     ]
    },
    {
     "name": "stdout",
     "output_type": "stream",
     "text": [
      "Processing: 143\r"
     ]
    },
    {
     "name": "stdout",
     "output_type": "stream",
     "text": [
      "Processing: 144\r"
     ]
    },
    {
     "name": "stdout",
     "output_type": "stream",
     "text": [
      "Processing: 145\r"
     ]
    },
    {
     "name": "stdout",
     "output_type": "stream",
     "text": [
      "Processing: 146\r"
     ]
    },
    {
     "name": "stdout",
     "output_type": "stream",
     "text": [
      "Processing: 147\r"
     ]
    },
    {
     "name": "stdout",
     "output_type": "stream",
     "text": [
      "Processing: 148\r"
     ]
    },
    {
     "name": "stdout",
     "output_type": "stream",
     "text": [
      "Processing: 149\r"
     ]
    },
    {
     "name": "stdout",
     "output_type": "stream",
     "text": [
      "Processing: 150\r"
     ]
    },
    {
     "name": "stdout",
     "output_type": "stream",
     "text": [
      "Processing: 151\r"
     ]
    },
    {
     "name": "stdout",
     "output_type": "stream",
     "text": [
      "Processing: 152\r"
     ]
    },
    {
     "name": "stdout",
     "output_type": "stream",
     "text": [
      "Processing: 153\r"
     ]
    },
    {
     "name": "stdout",
     "output_type": "stream",
     "text": [
      "Processing: 154\r"
     ]
    },
    {
     "name": "stdout",
     "output_type": "stream",
     "text": [
      "Processing: 155\r"
     ]
    },
    {
     "name": "stdout",
     "output_type": "stream",
     "text": [
      "Processing: 156\r"
     ]
    },
    {
     "name": "stdout",
     "output_type": "stream",
     "text": [
      "Processing: 157\r"
     ]
    },
    {
     "name": "stdout",
     "output_type": "stream",
     "text": [
      "Processing: 158\r"
     ]
    },
    {
     "name": "stdout",
     "output_type": "stream",
     "text": [
      "Processing: 159\r"
     ]
    },
    {
     "name": "stdout",
     "output_type": "stream",
     "text": [
      "Processing: 160\r"
     ]
    },
    {
     "name": "stdout",
     "output_type": "stream",
     "text": [
      "Processing: 161\r"
     ]
    },
    {
     "name": "stdout",
     "output_type": "stream",
     "text": [
      "Processing: 162\r"
     ]
    },
    {
     "name": "stdout",
     "output_type": "stream",
     "text": [
      "Processing: 163\r"
     ]
    },
    {
     "name": "stdout",
     "output_type": "stream",
     "text": [
      "Processing: 164\r"
     ]
    },
    {
     "name": "stdout",
     "output_type": "stream",
     "text": [
      "Processing: 165\r"
     ]
    },
    {
     "name": "stdout",
     "output_type": "stream",
     "text": [
      "Processing: 166\r"
     ]
    },
    {
     "name": "stdout",
     "output_type": "stream",
     "text": [
      "Processing: 167\r"
     ]
    },
    {
     "name": "stdout",
     "output_type": "stream",
     "text": [
      "Processing: 168\r"
     ]
    },
    {
     "name": "stdout",
     "output_type": "stream",
     "text": [
      "Processing: 169\r"
     ]
    },
    {
     "name": "stdout",
     "output_type": "stream",
     "text": [
      "Processing: 170\r"
     ]
    },
    {
     "name": "stdout",
     "output_type": "stream",
     "text": [
      "Processing: 171\r"
     ]
    },
    {
     "name": "stdout",
     "output_type": "stream",
     "text": [
      "Processing: 172\r"
     ]
    },
    {
     "name": "stdout",
     "output_type": "stream",
     "text": [
      "Processing: 173\r"
     ]
    },
    {
     "name": "stdout",
     "output_type": "stream",
     "text": [
      "Processing: 174\r"
     ]
    },
    {
     "name": "stdout",
     "output_type": "stream",
     "text": [
      "Processing: 175\r"
     ]
    },
    {
     "name": "stdout",
     "output_type": "stream",
     "text": [
      "Processing: 176\r"
     ]
    },
    {
     "name": "stdout",
     "output_type": "stream",
     "text": [
      "Processing: 177\r"
     ]
    },
    {
     "name": "stdout",
     "output_type": "stream",
     "text": [
      "Processing: 178\r"
     ]
    },
    {
     "name": "stdout",
     "output_type": "stream",
     "text": [
      "Processing: 179\r"
     ]
    },
    {
     "name": "stdout",
     "output_type": "stream",
     "text": [
      "Processing: 180\r"
     ]
    },
    {
     "name": "stdout",
     "output_type": "stream",
     "text": [
      "Processing: 181\r"
     ]
    },
    {
     "name": "stdout",
     "output_type": "stream",
     "text": [
      "Processing: 182\r"
     ]
    },
    {
     "name": "stdout",
     "output_type": "stream",
     "text": [
      "Processing: 183\r"
     ]
    },
    {
     "name": "stdout",
     "output_type": "stream",
     "text": [
      "Processing: 184\r"
     ]
    },
    {
     "name": "stdout",
     "output_type": "stream",
     "text": [
      "Processing: 185\r"
     ]
    },
    {
     "name": "stdout",
     "output_type": "stream",
     "text": [
      "Processing: 186\r"
     ]
    },
    {
     "name": "stdout",
     "output_type": "stream",
     "text": [
      "Processing: 187\r"
     ]
    },
    {
     "name": "stdout",
     "output_type": "stream",
     "text": [
      "Processing: 188\r"
     ]
    },
    {
     "name": "stdout",
     "output_type": "stream",
     "text": [
      "Processing: 189\r"
     ]
    },
    {
     "name": "stdout",
     "output_type": "stream",
     "text": [
      "Processing: 190\r"
     ]
    },
    {
     "name": "stdout",
     "output_type": "stream",
     "text": [
      "Processing: 191\r"
     ]
    },
    {
     "name": "stdout",
     "output_type": "stream",
     "text": [
      "Processing: 192\r"
     ]
    },
    {
     "name": "stdout",
     "output_type": "stream",
     "text": [
      "Processing: 193\r"
     ]
    },
    {
     "name": "stdout",
     "output_type": "stream",
     "text": [
      "Processing: 194\r"
     ]
    },
    {
     "name": "stdout",
     "output_type": "stream",
     "text": [
      "Processing: 195\r"
     ]
    },
    {
     "name": "stdout",
     "output_type": "stream",
     "text": [
      "Processing: 196\r"
     ]
    },
    {
     "name": "stdout",
     "output_type": "stream",
     "text": [
      "Processing: 197\r"
     ]
    },
    {
     "name": "stdout",
     "output_type": "stream",
     "text": [
      "Processing: 198\r"
     ]
    },
    {
     "name": "stdout",
     "output_type": "stream",
     "text": [
      "Processing: 199\r"
     ]
    },
    {
     "name": "stdout",
     "output_type": "stream",
     "text": [
      "Processing: 200\r"
     ]
    },
    {
     "name": "stdout",
     "output_type": "stream",
     "text": [
      "\n"
     ]
    }
   ],
   "source": [
    "# Reproducibility\n",
    "torch.manual_seed(seed)\n",
    "\n",
    "# Get steady-state\n",
    "env.reset()\n",
    "print(f'Total Steps: {integration_steps}')\n",
    "for i in range(integration_steps):\n",
    "    print(f'Processing: {i+1}', end='\\r')\n",
    "    env_step(policy, env)\n",
    "print()\n",
    "pos, vel = env.pos.detach().clone(), env.vel.detach().clone()"
   ]
  },
  {
   "cell_type": "code",
   "execution_count": 15,
   "metadata": {
    "execution": {
     "iopub.execute_input": "2024-11-07T17:35:23.606814Z",
     "iopub.status.busy": "2024-11-07T17:35:23.606654Z",
     "iopub.status.idle": "2024-11-07T17:35:36.794630Z",
     "shell.execute_reply": "2024-11-07T17:35:36.794094Z"
    }
   },
   "outputs": [
    {
     "name": "stderr",
     "output_type": "stream",
     "text": [
      "No artists with labels found to put in legend.  Note that artists whose label start with an underscore are ignored when legend() is called with no argument.\n"
     ]
    },
    {
     "data": {
      "image/png": "[encoded data removed]",
      "text/plain": [
       "<Figure size 640x480 with 1 Axes>"
      ]
     },
     "metadata": {},
     "output_type": "display_data"
    }
   ],
   "source": [
    "%matplotlib inline\n",
    "\n",
    "# Make UMAP based on steady-state\n",
    "if transform_type == 'UMAP':\n",
    "    import umap\n",
    "    ss_trans = umap.UMAP(\n",
    "        n_components=transform_dim,\n",
    "        # BrainChromatin (n_neighbors=15, min_dist=.1)\n",
    "        n_neighbors=15,\n",
    "        min_dist=.1,\n",
    "        # metric='manhattan',\n",
    "        n_jobs=1,\n",
    "        random_state=seed,\n",
    "    ).fit(pos.cpu())\n",
    "    transform = lambda x: torch.tensor(ss_trans.transform(x))\n",
    "elif transform_type == 'PCA':\n",
    "    import sklearn.decomposition\n",
    "    ss_trans = sklearn.decomposition.PCA(n_components=transform_dim).fit(pos.cpu())\n",
    "    transform = lambda x: torch.tensor(ss_trans.transform(x))\n",
    "else:\n",
    "    if transform_type is not None: print(f'Transformation type \"{transform_type}\" unknown, defaulting to `None`')\n",
    "    transform = None\n",
    "\n",
    "# Show steady state\n",
    "fig = plt.figure()\n",
    "if transform_dim < 3: projection = None\n",
    "elif transform_dim == 3: projection = '3d'\n",
    "else: print(f'Unkown dim \"{transform_dim}\" found, plotting may fail')\n",
    "ax = fig.add_subplot(111, projection=projection)\n",
    "transformed_data = pos.cpu()\n",
    "if transform is not None: transformed_data = transform(transformed_data)\n",
    "transformed_data = transformed_data[:, :transform_dim].T\n",
    "ax.scatter(*transformed_data, c=[PALETTE[i] for i in c], s=s)\n",
    "ax.spines[['right', 'top']].set_visible(False)\n",
    "plt.legend()\n",
    "plt.show()"
   ]
  },
  {
   "cell_type": "code",
   "execution_count": 16,
   "metadata": {
    "execution": {
     "iopub.execute_input": "2024-11-07T17:35:36.797003Z",
     "iopub.status.busy": "2024-11-07T17:35:36.796693Z",
     "iopub.status.idle": "2024-11-07T17:35:36.889655Z",
     "shell.execute_reply": "2024-11-07T17:35:36.888883Z"
    }
   },
   "outputs": [
    {
     "name": "stdout",
     "output_type": "stream",
     "text": [
      "Centering square distance: 1.323\n",
      "Silhouette Score: -0.282\n"
     ]
    }
   ],
   "source": [
    "# Center distance\n",
    "print(f'Centering square distance: {pos.mean(dim=0).square().sum().cpu().item():.3f}')\n",
    "\n",
    "# Silhouette score\n",
    "silhouette_score = sklearn.metrics.silhouette_score(pos.cpu(), types[0])\n",
    "print(f'Silhouette Score: {silhouette_score:.3f}')"
   ]
  },
  {
   "cell_type": "markdown",
   "metadata": {},
   "source": [
    "##### Integration"
   ]
  },
  {
   "cell_type": "code",
   "execution_count": 17,
   "metadata": {
    "execution": {
     "iopub.execute_input": "2024-11-07T17:35:36.893382Z",
     "iopub.status.busy": "2024-11-07T17:35:36.893003Z",
     "iopub.status.idle": "2024-11-07T17:35:36.924390Z",
     "shell.execute_reply": "2024-11-07T17:35:36.923959Z"
    }
   },
   "outputs": [],
   "source": [
    "# %matplotlib agg\n",
    "\n",
    "# # Reproducibility\n",
    "# torch.manual_seed(seed)\n",
    "\n",
    "# # Integration animation\n",
    "# env.reset()\n",
    "# animate(\n",
    "#     policy,\n",
    "#     env,\n",
    "#     transform=transform,\n",
    "#     steps=integration_steps,\n",
    "#     skip=skip,\n",
    "#     create_func=create_integration,\n",
    "#     update_func=update_integration,\n",
    "#     c=c,\n",
    "#     s=s,\n",
    "#     center=center,\n",
    "#     crop=crop,\n",
    "#     fname=f'{config[\"data\"][\"dataset\"]}{suffix}',\n",
    "#     file_type=file_type)"
   ]
  },
  {
   "cell_type": "markdown",
   "metadata": {},
   "source": [
    "##### Trajectory"
   ]
  },
  {
   "cell_type": "code",
   "execution_count": 18,
   "metadata": {
    "execution": {
     "iopub.execute_input": "2024-11-07T17:35:36.926609Z",
     "iopub.status.busy": "2024-11-07T17:35:36.926308Z",
     "iopub.status.idle": "2024-11-07T17:35:36.945346Z",
     "shell.execute_reply": "2024-11-07T17:35:36.944938Z"
    }
   },
   "outputs": [],
   "source": [
    "# # BrainChromatin\n",
    "# rg_cell = np.argwhere(types[0] == 'RG')[0][0]\n",
    "# nipc_cell = np.argwhere(types[0] == 'nIPC')[0][0]\n",
    "# in_cell = np.argwhere(types[0] == 'IN1')[0][0]\n",
    "\n",
    "# # Parameters\n",
    "# node_to_analyze, node_to_copy = in_cell, rg_cell  # Which node will be analyzed"
   ]
  },
  {
   "cell_type": "code",
   "execution_count": 19,
   "metadata": {
    "execution": {
     "iopub.execute_input": "2024-11-07T17:35:36.947335Z",
     "iopub.status.busy": "2024-11-07T17:35:36.947164Z",
     "iopub.status.idle": "2024-11-07T17:35:36.966624Z",
     "shell.execute_reply": "2024-11-07T17:35:36.966200Z"
    }
   },
   "outputs": [],
   "source": [
    "# %matplotlib agg\n",
    "\n",
    "# # Reproducibility\n",
    "# torch.manual_seed(seed)\n",
    "\n",
    "# # Trajectory analysis\n",
    "# env.pos, env.vel = pos.detach().clone(), vel.detach().clone()  # Reset env to steady state\n",
    "# if node_to_copy is None: env.pos[node_to_analyze] = env.pos_bound * 2 * (torch.rand(2) - .5)  # Randomize node position\n",
    "# else: env.pos[node_to_analyze] = env.pos[node_to_copy]  # Copy node position\n",
    "# animate(\n",
    "#     policy,\n",
    "#     env,\n",
    "#     transform=transform,\n",
    "#     steps=trajectory_steps,\n",
    "#     skip=skip,\n",
    "#     create_func=create_trajectory,\n",
    "#     update_func=update_trajectory,\n",
    "#     c=c,\n",
    "#     s=s,\n",
    "#     tracked_node_idx=node_to_analyze,\n",
    "#     center=center,\n",
    "#     crop=crop,\n",
    "#     fname=f'{config[\"data\"][\"dataset\"]}{suffix}_trajectory',\n",
    "#     file_type=file_type)"
   ]
  },
  {
   "cell_type": "markdown",
   "metadata": {},
   "source": [
    "##### Feature Perturbation"
   ]
  },
  {
   "cell_type": "code",
   "execution_count": 20,
   "metadata": {
    "execution": {
     "iopub.execute_input": "2024-11-07T17:35:36.968631Z",
     "iopub.status.busy": "2024-11-07T17:35:36.968475Z",
     "iopub.status.idle": "2024-11-07T18:22:45.299610Z",
     "shell.execute_reply": "2024-11-07T18:22:45.298706Z"
    }
   },
   "outputs": [
    {
     "name": "stdout",
     "output_type": "stream",
     "text": [
      "Total Steps: 100\n",
      "Processing: 0\r",
      "Processing: 0\r"
     ]
    },
    {
     "name": "stdout",
     "output_type": "stream",
     "text": [
      "Processing: 1\r"
     ]
    },
    {
     "name": "stdout",
     "output_type": "stream",
     "text": [
      "Processing: 2\r"
     ]
    },
    {
     "name": "stdout",
     "output_type": "stream",
     "text": [
      "Processing: 3\r"
     ]
    },
    {
     "name": "stdout",
     "output_type": "stream",
     "text": [
      "Processing: 4\r"
     ]
    },
    {
     "name": "stdout",
     "output_type": "stream",
     "text": [
      "Processing: 5\r"
     ]
    },
    {
     "name": "stdout",
     "output_type": "stream",
     "text": [
      "Processing: 6\r"
     ]
    },
    {
     "name": "stdout",
     "output_type": "stream",
     "text": [
      "Processing: 7\r"
     ]
    },
    {
     "name": "stdout",
     "output_type": "stream",
     "text": [
      "Processing: 8\r"
     ]
    },
    {
     "name": "stdout",
     "output_type": "stream",
     "text": [
      "Processing: 9\r"
     ]
    },
    {
     "name": "stdout",
     "output_type": "stream",
     "text": [
      "Processing: 10\r"
     ]
    },
    {
     "name": "stdout",
     "output_type": "stream",
     "text": [
      "Processing: 11\r"
     ]
    },
    {
     "name": "stdout",
     "output_type": "stream",
     "text": [
      "Processing: 12\r"
     ]
    },
    {
     "name": "stdout",
     "output_type": "stream",
     "text": [
      "Processing: 13\r"
     ]
    },
    {
     "name": "stdout",
     "output_type": "stream",
     "text": [
      "Processing: 14\r"
     ]
    },
    {
     "name": "stdout",
     "output_type": "stream",
     "text": [
      "Processing: 15\r"
     ]
    },
    {
     "name": "stdout",
     "output_type": "stream",
     "text": [
      "Processing: 16\r"
     ]
    },
    {
     "name": "stdout",
     "output_type": "stream",
     "text": [
      "Processing: 17\r"
     ]
    },
    {
     "name": "stdout",
     "output_type": "stream",
     "text": [
      "Processing: 18\r"
     ]
    },
    {
     "name": "stdout",
     "output_type": "stream",
     "text": [
      "Processing: 19\r"
     ]
    },
    {
     "name": "stdout",
     "output_type": "stream",
     "text": [
      "Processing: 20\r"
     ]
    },
    {
     "name": "stdout",
     "output_type": "stream",
     "text": [
      "Processing: 21\r"
     ]
    },
    {
     "name": "stdout",
     "output_type": "stream",
     "text": [
      "Processing: 22\r"
     ]
    },
    {
     "name": "stdout",
     "output_type": "stream",
     "text": [
      "Processing: 23\r"
     ]
    },
    {
     "name": "stdout",
     "output_type": "stream",
     "text": [
      "Processing: 24\r"
     ]
    },
    {
     "name": "stdout",
     "output_type": "stream",
     "text": [
      "Processing: 25\r"
     ]
    },
    {
     "name": "stdout",
     "output_type": "stream",
     "text": [
      "Processing: 26\r"
     ]
    },
    {
     "name": "stdout",
     "output_type": "stream",
     "text": [
      "Processing: 27\r"
     ]
    },
    {
     "name": "stdout",
     "output_type": "stream",
     "text": [
      "Processing: 28\r"
     ]
    },
    {
     "name": "stdout",
     "output_type": "stream",
     "text": [
      "Processing: 29\r"
     ]
    },
    {
     "name": "stdout",
     "output_type": "stream",
     "text": [
      "Processing: 30\r"
     ]
    },
    {
     "name": "stdout",
     "output_type": "stream",
     "text": [
      "Processing: 31\r"
     ]
    },
    {
     "name": "stdout",
     "output_type": "stream",
     "text": [
      "Processing: 32\r"
     ]
    },
    {
     "name": "stdout",
     "output_type": "stream",
     "text": [
      "Processing: 33\r"
     ]
    },
    {
     "name": "stdout",
     "output_type": "stream",
     "text": [
      "Processing: 34\r"
     ]
    },
    {
     "name": "stdout",
     "output_type": "stream",
     "text": [
      "Processing: 35\r"
     ]
    },
    {
     "name": "stdout",
     "output_type": "stream",
     "text": [
      "Processing: 36\r"
     ]
    },
    {
     "name": "stdout",
     "output_type": "stream",
     "text": [
      "Processing: 37\r"
     ]
    },
    {
     "name": "stdout",
     "output_type": "stream",
     "text": [
      "Processing: 38\r"
     ]
    },
    {
     "name": "stdout",
     "output_type": "stream",
     "text": [
      "Processing: 39\r"
     ]
    },
    {
     "name": "stdout",
     "output_type": "stream",
     "text": [
      "Processing: 40\r"
     ]
    },
    {
     "name": "stdout",
     "output_type": "stream",
     "text": [
      "Processing: 41\r"
     ]
    },
    {
     "name": "stdout",
     "output_type": "stream",
     "text": [
      "Processing: 42\r"
     ]
    },
    {
     "name": "stdout",
     "output_type": "stream",
     "text": [
      "Processing: 43\r"
     ]
    },
    {
     "name": "stdout",
     "output_type": "stream",
     "text": [
      "Processing: 44\r"
     ]
    },
    {
     "name": "stdout",
     "output_type": "stream",
     "text": [
      "Processing: 45\r"
     ]
    },
    {
     "name": "stdout",
     "output_type": "stream",
     "text": [
      "Processing: 46\r"
     ]
    },
    {
     "name": "stdout",
     "output_type": "stream",
     "text": [
      "Processing: 47\r"
     ]
    },
    {
     "name": "stdout",
     "output_type": "stream",
     "text": [
      "Processing: 48\r"
     ]
    },
    {
     "name": "stdout",
     "output_type": "stream",
     "text": [
      "Processing: 49\r"
     ]
    },
    {
     "name": "stdout",
     "output_type": "stream",
     "text": [
      "Processing: 50\r"
     ]
    },
    {
     "name": "stdout",
     "output_type": "stream",
     "text": [
      "Processing: 51\r"
     ]
    },
    {
     "name": "stdout",
     "output_type": "stream",
     "text": [
      "Processing: 52\r"
     ]
    },
    {
     "name": "stdout",
     "output_type": "stream",
     "text": [
      "Processing: 53\r"
     ]
    },
    {
     "name": "stdout",
     "output_type": "stream",
     "text": [
      "Processing: 54\r"
     ]
    },
    {
     "name": "stdout",
     "output_type": "stream",
     "text": [
      "Processing: 55\r"
     ]
    },
    {
     "name": "stdout",
     "output_type": "stream",
     "text": [
      "Processing: 56\r"
     ]
    },
    {
     "name": "stdout",
     "output_type": "stream",
     "text": [
      "Processing: 57\r"
     ]
    },
    {
     "name": "stdout",
     "output_type": "stream",
     "text": [
      "Processing: 58\r"
     ]
    },
    {
     "name": "stdout",
     "output_type": "stream",
     "text": [
      "Processing: 59\r"
     ]
    },
    {
     "name": "stdout",
     "output_type": "stream",
     "text": [
      "Processing: 60\r"
     ]
    },
    {
     "name": "stdout",
     "output_type": "stream",
     "text": [
      "Processing: 61\r"
     ]
    },
    {
     "name": "stdout",
     "output_type": "stream",
     "text": [
      "Processing: 62\r"
     ]
    },
    {
     "name": "stdout",
     "output_type": "stream",
     "text": [
      "Processing: 63\r"
     ]
    },
    {
     "name": "stdout",
     "output_type": "stream",
     "text": [
      "Processing: 64\r"
     ]
    },
    {
     "name": "stdout",
     "output_type": "stream",
     "text": [
      "Processing: 65\r"
     ]
    },
    {
     "name": "stdout",
     "output_type": "stream",
     "text": [
      "Processing: 66\r"
     ]
    },
    {
     "name": "stdout",
     "output_type": "stream",
     "text": [
      "Processing: 67\r"
     ]
    },
    {
     "name": "stdout",
     "output_type": "stream",
     "text": [
      "Processing: 68\r"
     ]
    },
    {
     "name": "stdout",
     "output_type": "stream",
     "text": [
      "Processing: 69\r"
     ]
    },
    {
     "name": "stdout",
     "output_type": "stream",
     "text": [
      "Processing: 70\r"
     ]
    },
    {
     "name": "stdout",
     "output_type": "stream",
     "text": [
      "Processing: 71\r"
     ]
    },
    {
     "name": "stdout",
     "output_type": "stream",
     "text": [
      "Processing: 72\r"
     ]
    },
    {
     "name": "stdout",
     "output_type": "stream",
     "text": [
      "Processing: 73\r"
     ]
    },
    {
     "name": "stdout",
     "output_type": "stream",
     "text": [
      "Processing: 74\r"
     ]
    },
    {
     "name": "stdout",
     "output_type": "stream",
     "text": [
      "Processing: 75\r"
     ]
    },
    {
     "name": "stdout",
     "output_type": "stream",
     "text": [
      "Processing: 76\r"
     ]
    },
    {
     "name": "stdout",
     "output_type": "stream",
     "text": [
      "Processing: 77\r"
     ]
    },
    {
     "name": "stdout",
     "output_type": "stream",
     "text": [
      "Processing: 78\r"
     ]
    },
    {
     "name": "stdout",
     "output_type": "stream",
     "text": [
      "Processing: 79\r"
     ]
    },
    {
     "name": "stdout",
     "output_type": "stream",
     "text": [
      "Processing: 80\r"
     ]
    },
    {
     "name": "stdout",
     "output_type": "stream",
     "text": [
      "Processing: 81\r"
     ]
    },
    {
     "name": "stdout",
     "output_type": "stream",
     "text": [
      "Processing: 82\r"
     ]
    },
    {
     "name": "stdout",
     "output_type": "stream",
     "text": [
      "Processing: 83\r"
     ]
    },
    {
     "name": "stdout",
     "output_type": "stream",
     "text": [
      "Processing: 84\r"
     ]
    },
    {
     "name": "stdout",
     "output_type": "stream",
     "text": [
      "Processing: 85\r"
     ]
    },
    {
     "name": "stdout",
     "output_type": "stream",
     "text": [
      "Processing: 86\r"
     ]
    },
    {
     "name": "stdout",
     "output_type": "stream",
     "text": [
      "Processing: 87\r"
     ]
    },
    {
     "name": "stdout",
     "output_type": "stream",
     "text": [
      "Processing: 88\r"
     ]
    },
    {
     "name": "stdout",
     "output_type": "stream",
     "text": [
      "Processing: 89\r"
     ]
    },
    {
     "name": "stdout",
     "output_type": "stream",
     "text": [
      "Processing: 90\r"
     ]
    },
    {
     "name": "stdout",
     "output_type": "stream",
     "text": [
      "Processing: 91\r"
     ]
    },
    {
     "name": "stdout",
     "output_type": "stream",
     "text": [
      "Processing: 92\r"
     ]
    },
    {
     "name": "stdout",
     "output_type": "stream",
     "text": [
      "Processing: 93\r"
     ]
    },
    {
     "name": "stdout",
     "output_type": "stream",
     "text": [
      "Processing: 94\r"
     ]
    },
    {
     "name": "stdout",
     "output_type": "stream",
     "text": [
      "Processing: 95\r"
     ]
    },
    {
     "name": "stdout",
     "output_type": "stream",
     "text": [
      "Processing: 96\r"
     ]
    },
    {
     "name": "stdout",
     "output_type": "stream",
     "text": [
      "Processing: 97\r"
     ]
    },
    {
     "name": "stdout",
     "output_type": "stream",
     "text": [
      "Processing: 98\r"
     ]
    },
    {
     "name": "stdout",
     "output_type": "stream",
     "text": [
      "Processing: 99\r"
     ]
    },
    {
     "name": "stdout",
     "output_type": "stream",
     "text": [
      "Processing: 100\r"
     ]
    },
    {
     "name": "stdout",
     "output_type": "stream",
     "text": [
      "\n",
      "Total Steps: 100\n"
     ]
    },
    {
     "name": "stdout",
     "output_type": "stream",
     "text": [
      "Processing: 0\r",
      "Processing: 0\r"
     ]
    },
    {
     "name": "stdout",
     "output_type": "stream",
     "text": [
      "Processing: 1\r"
     ]
    },
    {
     "name": "stdout",
     "output_type": "stream",
     "text": [
      "Processing: 2\r"
     ]
    },
    {
     "name": "stdout",
     "output_type": "stream",
     "text": [
      "Processing: 3\r"
     ]
    },
    {
     "name": "stdout",
     "output_type": "stream",
     "text": [
      "Processing: 4\r"
     ]
    },
    {
     "name": "stdout",
     "output_type": "stream",
     "text": [
      "Processing: 5\r"
     ]
    },
    {
     "name": "stdout",
     "output_type": "stream",
     "text": [
      "Processing: 6\r"
     ]
    },
    {
     "name": "stdout",
     "output_type": "stream",
     "text": [
      "Processing: 7\r"
     ]
    },
    {
     "name": "stdout",
     "output_type": "stream",
     "text": [
      "Processing: 8\r"
     ]
    },
    {
     "name": "stdout",
     "output_type": "stream",
     "text": [
      "Processing: 9\r"
     ]
    },
    {
     "name": "stdout",
     "output_type": "stream",
     "text": [
      "Processing: 10\r"
     ]
    },
    {
     "name": "stdout",
     "output_type": "stream",
     "text": [
      "Processing: 11\r"
     ]
    },
    {
     "name": "stdout",
     "output_type": "stream",
     "text": [
      "Processing: 12\r"
     ]
    },
    {
     "name": "stdout",
     "output_type": "stream",
     "text": [
      "Processing: 13\r"
     ]
    },
    {
     "name": "stdout",
     "output_type": "stream",
     "text": [
      "Processing: 14\r"
     ]
    },
    {
     "name": "stdout",
     "output_type": "stream",
     "text": [
      "Processing: 15\r"
     ]
    },
    {
     "name": "stdout",
     "output_type": "stream",
     "text": [
      "Processing: 16\r"
     ]
    },
    {
     "name": "stdout",
     "output_type": "stream",
     "text": [
      "Processing: 17\r"
     ]
    },
    {
     "name": "stdout",
     "output_type": "stream",
     "text": [
      "Processing: 18\r"
     ]
    },
    {
     "name": "stdout",
     "output_type": "stream",
     "text": [
      "Processing: 19\r"
     ]
    },
    {
     "name": "stdout",
     "output_type": "stream",
     "text": [
      "Processing: 20\r"
     ]
    },
    {
     "name": "stdout",
     "output_type": "stream",
     "text": [
      "Processing: 21\r"
     ]
    },
    {
     "name": "stdout",
     "output_type": "stream",
     "text": [
      "Processing: 22\r"
     ]
    },
    {
     "name": "stdout",
     "output_type": "stream",
     "text": [
      "Processing: 23\r"
     ]
    },
    {
     "name": "stdout",
     "output_type": "stream",
     "text": [
      "Processing: 24\r"
     ]
    },
    {
     "name": "stdout",
     "output_type": "stream",
     "text": [
      "Processing: 25\r"
     ]
    },
    {
     "name": "stdout",
     "output_type": "stream",
     "text": [
      "Processing: 26\r"
     ]
    },
    {
     "name": "stdout",
     "output_type": "stream",
     "text": [
      "Processing: 27\r"
     ]
    },
    {
     "name": "stdout",
     "output_type": "stream",
     "text": [
      "Processing: 28\r"
     ]
    },
    {
     "name": "stdout",
     "output_type": "stream",
     "text": [
      "Processing: 29\r"
     ]
    },
    {
     "name": "stdout",
     "output_type": "stream",
     "text": [
      "Processing: 30\r"
     ]
    },
    {
     "name": "stdout",
     "output_type": "stream",
     "text": [
      "Processing: 31\r"
     ]
    },
    {
     "name": "stdout",
     "output_type": "stream",
     "text": [
      "Processing: 32\r"
     ]
    },
    {
     "name": "stdout",
     "output_type": "stream",
     "text": [
      "Processing: 33\r"
     ]
    },
    {
     "name": "stdout",
     "output_type": "stream",
     "text": [
      "Processing: 34\r"
     ]
    },
    {
     "name": "stdout",
     "output_type": "stream",
     "text": [
      "Processing: 35\r"
     ]
    },
    {
     "name": "stdout",
     "output_type": "stream",
     "text": [
      "Processing: 36\r"
     ]
    },
    {
     "name": "stdout",
     "output_type": "stream",
     "text": [
      "Processing: 37\r"
     ]
    },
    {
     "name": "stdout",
     "output_type": "stream",
     "text": [
      "Processing: 38\r"
     ]
    },
    {
     "name": "stdout",
     "output_type": "stream",
     "text": [
      "Processing: 39\r"
     ]
    },
    {
     "name": "stdout",
     "output_type": "stream",
     "text": [
      "Processing: 40\r"
     ]
    },
    {
     "name": "stdout",
     "output_type": "stream",
     "text": [
      "Processing: 41\r"
     ]
    },
    {
     "name": "stdout",
     "output_type": "stream",
     "text": [
      "Processing: 42\r"
     ]
    },
    {
     "name": "stdout",
     "output_type": "stream",
     "text": [
      "Processing: 43\r"
     ]
    },
    {
     "name": "stdout",
     "output_type": "stream",
     "text": [
      "Processing: 44\r"
     ]
    },
    {
     "name": "stdout",
     "output_type": "stream",
     "text": [
      "Processing: 45\r"
     ]
    },
    {
     "name": "stdout",
     "output_type": "stream",
     "text": [
      "Processing: 46\r"
     ]
    },
    {
     "name": "stdout",
     "output_type": "stream",
     "text": [
      "Processing: 47\r"
     ]
    },
    {
     "name": "stdout",
     "output_type": "stream",
     "text": [
      "Processing: 48\r"
     ]
    },
    {
     "name": "stdout",
     "output_type": "stream",
     "text": [
      "Processing: 49\r"
     ]
    },
    {
     "name": "stdout",
     "output_type": "stream",
     "text": [
      "Processing: 50\r"
     ]
    },
    {
     "name": "stdout",
     "output_type": "stream",
     "text": [
      "Processing: 51\r"
     ]
    },
    {
     "name": "stdout",
     "output_type": "stream",
     "text": [
      "Processing: 52\r"
     ]
    },
    {
     "name": "stdout",
     "output_type": "stream",
     "text": [
      "Processing: 53\r"
     ]
    },
    {
     "name": "stdout",
     "output_type": "stream",
     "text": [
      "Processing: 54\r"
     ]
    },
    {
     "name": "stdout",
     "output_type": "stream",
     "text": [
      "Processing: 55\r"
     ]
    },
    {
     "name": "stdout",
     "output_type": "stream",
     "text": [
      "Processing: 56\r"
     ]
    },
    {
     "name": "stdout",
     "output_type": "stream",
     "text": [
      "Processing: 57\r"
     ]
    },
    {
     "name": "stdout",
     "output_type": "stream",
     "text": [
      "Processing: 58\r"
     ]
    },
    {
     "name": "stdout",
     "output_type": "stream",
     "text": [
      "Processing: 59\r"
     ]
    },
    {
     "name": "stdout",
     "output_type": "stream",
     "text": [
      "Processing: 60\r"
     ]
    },
    {
     "name": "stdout",
     "output_type": "stream",
     "text": [
      "Processing: 61\r"
     ]
    },
    {
     "name": "stdout",
     "output_type": "stream",
     "text": [
      "Processing: 62\r"
     ]
    },
    {
     "name": "stdout",
     "output_type": "stream",
     "text": [
      "Processing: 63\r"
     ]
    },
    {
     "name": "stdout",
     "output_type": "stream",
     "text": [
      "Processing: 64\r"
     ]
    },
    {
     "name": "stdout",
     "output_type": "stream",
     "text": [
      "Processing: 65\r"
     ]
    },
    {
     "name": "stdout",
     "output_type": "stream",
     "text": [
      "Processing: 66\r"
     ]
    },
    {
     "name": "stdout",
     "output_type": "stream",
     "text": [
      "Processing: 67\r"
     ]
    },
    {
     "name": "stdout",
     "output_type": "stream",
     "text": [
      "Processing: 68\r"
     ]
    },
    {
     "name": "stdout",
     "output_type": "stream",
     "text": [
      "Processing: 69\r"
     ]
    },
    {
     "name": "stdout",
     "output_type": "stream",
     "text": [
      "Processing: 70\r"
     ]
    },
    {
     "name": "stdout",
     "output_type": "stream",
     "text": [
      "Processing: 71\r"
     ]
    },
    {
     "name": "stdout",
     "output_type": "stream",
     "text": [
      "Processing: 72\r"
     ]
    },
    {
     "name": "stdout",
     "output_type": "stream",
     "text": [
      "Processing: 73\r"
     ]
    },
    {
     "name": "stdout",
     "output_type": "stream",
     "text": [
      "Processing: 74\r"
     ]
    },
    {
     "name": "stdout",
     "output_type": "stream",
     "text": [
      "Processing: 75\r"
     ]
    },
    {
     "name": "stdout",
     "output_type": "stream",
     "text": [
      "Processing: 76\r"
     ]
    },
    {
     "name": "stdout",
     "output_type": "stream",
     "text": [
      "Processing: 77\r"
     ]
    },
    {
     "name": "stdout",
     "output_type": "stream",
     "text": [
      "Processing: 78\r"
     ]
    },
    {
     "name": "stdout",
     "output_type": "stream",
     "text": [
      "Processing: 79\r"
     ]
    },
    {
     "name": "stdout",
     "output_type": "stream",
     "text": [
      "Processing: 80\r"
     ]
    },
    {
     "name": "stdout",
     "output_type": "stream",
     "text": [
      "Processing: 81\r"
     ]
    },
    {
     "name": "stdout",
     "output_type": "stream",
     "text": [
      "Processing: 82\r"
     ]
    },
    {
     "name": "stdout",
     "output_type": "stream",
     "text": [
      "Processing: 83\r"
     ]
    },
    {
     "name": "stdout",
     "output_type": "stream",
     "text": [
      "Processing: 84\r"
     ]
    },
    {
     "name": "stdout",
     "output_type": "stream",
     "text": [
      "Processing: 85\r"
     ]
    },
    {
     "name": "stdout",
     "output_type": "stream",
     "text": [
      "Processing: 86\r"
     ]
    },
    {
     "name": "stdout",
     "output_type": "stream",
     "text": [
      "Processing: 87\r"
     ]
    },
    {
     "name": "stdout",
     "output_type": "stream",
     "text": [
      "Processing: 88\r"
     ]
    },
    {
     "name": "stdout",
     "output_type": "stream",
     "text": [
      "Processing: 89\r"
     ]
    },
    {
     "name": "stdout",
     "output_type": "stream",
     "text": [
      "Processing: 90\r"
     ]
    },
    {
     "name": "stdout",
     "output_type": "stream",
     "text": [
      "Processing: 91\r"
     ]
    },
    {
     "name": "stdout",
     "output_type": "stream",
     "text": [
      "Processing: 92\r"
     ]
    },
    {
     "name": "stdout",
     "output_type": "stream",
     "text": [
      "Processing: 93\r"
     ]
    },
    {
     "name": "stdout",
     "output_type": "stream",
     "text": [
      "Processing: 94\r"
     ]
    },
    {
     "name": "stdout",
     "output_type": "stream",
     "text": [
      "Processing: 95\r"
     ]
    },
    {
     "name": "stdout",
     "output_type": "stream",
     "text": [
      "Processing: 96\r"
     ]
    },
    {
     "name": "stdout",
     "output_type": "stream",
     "text": [
      "Processing: 97\r"
     ]
    },
    {
     "name": "stdout",
     "output_type": "stream",
     "text": [
      "Processing: 98\r"
     ]
    },
    {
     "name": "stdout",
     "output_type": "stream",
     "text": [
      "Processing: 99\r"
     ]
    },
    {
     "name": "stdout",
     "output_type": "stream",
     "text": [
      "Processing: 100\r"
     ]
    },
    {
     "name": "stdout",
     "output_type": "stream",
     "text": [
      "\n"
     ]
    }
   ],
   "source": [
    "%matplotlib agg\n",
    "\n",
    "for modality in range(len(modalities)):\n",
    "    # Get random parameters\n",
    "    features_to_randomize = [(modality, list(range(modalities[modality].shape[1])))]  # (modality, [features])\n",
    "\n",
    "    # Reproducibility\n",
    "    torch.manual_seed(seed)\n",
    "\n",
    "    # Feature modification\n",
    "    env.pos, env.vel = pos.detach().clone(), vel.detach().clone()  # Reset env to steady state\n",
    "    old_modalities = [m.detach().clone() for m in env.modalities]\n",
    "    for modality, features_list in features_to_randomize:\n",
    "        for feature in features_list:\n",
    "            env.modalities[modality][:, feature] = torch.normal(\n",
    "                env.modalities[modality][:, feature].mean().expand(env.modalities[modality].shape[0]),\n",
    "                env.modalities[modality][:, feature].std().expand(env.modalities[modality].shape[0]),\n",
    "    )\n",
    "    animate(\n",
    "        policy,\n",
    "        env,\n",
    "        transform=transform,\n",
    "        steps=perturbation_steps,\n",
    "        skip=skip,\n",
    "        create_func=create_integration,\n",
    "        update_func=update_integration,\n",
    "        c=c,\n",
    "        s=s,\n",
    "        center=center,\n",
    "        crop=crop,\n",
    "        fname=f'{config[\"data\"][\"dataset\"]}{suffix}_feature-{modality}',\n",
    "        file_type=file_type)\n",
    "    env.modalities = old_modalities"
   ]
  }
 ],
 "metadata": {
  "kernelspec": {
   "display_name": "inept",
   "language": "python",
   "name": "python3"
  },
  "language_info": {
   "codemirror_mode": {
    "name": "ipython",
    "version": 3
   },
   "file_extension": ".py",
   "mimetype": "text/x-python",
   "name": "python",
   "nbconvert_exporter": "python",
   "pygments_lexer": "ipython3",
   "version": "3.10.14"
  }
 },
 "nbformat": 4,
 "nbformat_minor": 2
}
