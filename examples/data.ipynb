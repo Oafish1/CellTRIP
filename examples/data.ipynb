{
 "cells": [
  {
   "cell_type": "code",
   "execution_count": 1,
   "metadata": {},
   "outputs": [],
   "source": [
    "%load_ext autoreload\n",
    "%autoreload 2\n"
   ]
  },
  {
   "cell_type": "code",
   "execution_count": 2,
   "metadata": {},
   "outputs": [],
   "source": [
    "import functools as ft\n",
    "\n",
    "import numpy as np\n",
    "import pandas as pd\n",
    "import scanpy as sc\n",
    "\n",
    "import celltrip\n"
   ]
  },
  {
   "cell_type": "markdown",
   "metadata": {},
   "source": [
    "# Reading Files"
   ]
  },
  {
   "cell_type": "code",
   "execution_count": null,
   "metadata": {},
   "outputs": [],
   "source": [
    "fnames = ['../data/scglue/Chen-2019-RNA.h5ad', '../data/scglue/Chen-2019-ATAC.h5ad']\n",
    "partition_cols = ['cell_type', 'protocol']\n",
    "adatas = celltrip.utility.processing.read_adatas(\n",
    "    *fnames, partition_cols=partition_cols, on_disk=True)\n",
    "dataloader = celltrip.utility.processing.PreprocessFromAnnData(\n",
    "    *adatas, memory_efficient=True, partition_cols=partition_cols,\n",
    "    top_variant=int(1e3), pca_dim=128)\n"
   ]
  },
  {
   "cell_type": "markdown",
   "metadata": {},
   "source": [
    "# Formatting CSV Files"
   ]
  },
  {
   "cell_type": "code",
   "execution_count": 20,
   "metadata": {},
   "outputs": [],
   "source": [
    "fname1 = '../data/MERFISH/s3_cell_by_gene.csv'  # '../data/UnionCom/MMD/s1_mapped1.txt'\n",
    "fname2 = '../data/MERFISH/s3_mapped_cell_table.csv'\n"
   ]
  },
  {
   "cell_type": "code",
   "execution_count": 57,
   "metadata": {},
   "outputs": [
    {
     "name": "stderr",
     "output_type": "stream",
     "text": [
      "/home/thema/miniconda3/envs/celltrip/lib/python3.12/site-packages/anndata/_core/aligned_df.py:68: ImplicitModificationWarning: Transforming to str index.\n",
      "  warnings.warn(\"Transforming to str index.\", ImplicitModificationWarning)\n",
      "/home/thema/miniconda3/envs/celltrip/lib/python3.12/site-packages/anndata/_core/aligned_df.py:68: ImplicitModificationWarning: Transforming to str index.\n",
      "  warnings.warn(\"Transforming to str index.\", ImplicitModificationWarning)\n"
     ]
    }
   ],
   "source": [
    "import anndata as ad\n",
    "\n",
    "# Gene expression\n",
    "fname = '../data/MERFISH/s3_cell_by_gene.csv'\n",
    "df = pd.read_csv(fname, index_col=0, header=1)\n",
    "df.index.name = 'sample_name'\n",
    "adata = ad.AnnData(df)\n",
    "\n",
    "# Spatial\n",
    "fname = '../data/MERFISH/s3_mapped_cell_table.csv'\n",
    "df = pd.read_csv(fname, index_col=0, header=0).set_index('sample_name')\n",
    "df_obs = df[['layer']]\n",
    "df = df[['xc_adjusted', 'yc_adjusted']]\n",
    "adata = ad.AnnData(df, obs=df_obs)\n"
   ]
  }
 ],
 "metadata": {
  "kernelspec": {
   "display_name": "celltrip",
   "language": "python",
   "name": "python3"
  },
  "language_info": {
   "codemirror_mode": {
    "name": "ipython",
    "version": 3
   },
   "file_extension": ".py",
   "mimetype": "text/x-python",
   "name": "python",
   "nbconvert_exporter": "python",
   "pygments_lexer": "ipython3",
   "version": "3.12.9"
  }
 },
 "nbformat": 4,
 "nbformat_minor": 2
}
