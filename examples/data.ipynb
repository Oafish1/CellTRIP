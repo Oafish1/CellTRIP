{
 "cells": [
  {
   "cell_type": "code",
   "execution_count": null,
   "metadata": {
    "execution": {
     "iopub.execute_input": "2025-03-03T23:00:01.179704Z",
     "iopub.status.busy": "2025-03-03T23:00:01.179430Z",
     "iopub.status.idle": "2025-03-03T23:00:01.191933Z",
     "shell.execute_reply": "2025-03-03T23:00:01.191605Z"
    }
   },
   "outputs": [],
   "source": [
    "%load_ext autoreload\n",
    "%autoreload 2\n"
   ]
  },
  {
   "cell_type": "code",
   "execution_count": null,
   "metadata": {
    "execution": {
     "iopub.execute_input": "2025-03-03T23:00:01.193397Z",
     "iopub.status.busy": "2025-03-03T23:00:01.193249Z",
     "iopub.status.idle": "2025-03-03T23:00:03.690845Z",
     "shell.execute_reply": "2025-03-03T23:00:03.690439Z"
    }
   },
   "outputs": [],
   "source": [
    "import os\n",
    "import functools as ft\n",
    "\n",
    "import anndata as ad\n",
    "import numpy as np\n",
    "import pandas as pd\n",
    "import scanpy as sc\n",
    "\n",
    "import celltrip\n"
   ]
  },
  {
   "cell_type": "code",
   "execution_count": null,
   "metadata": {
    "execution": {
     "iopub.execute_input": "2025-03-03T23:00:03.692450Z",
     "iopub.status.busy": "2025-03-03T23:00:03.692290Z",
     "iopub.status.idle": "2025-03-03T23:00:03.709883Z",
     "shell.execute_reply": "2025-03-03T23:00:03.709541Z"
    }
   },
   "outputs": [],
   "source": [
    "# TODO: Save preprocessing class\n"
   ]
  },
  {
   "cell_type": "markdown",
   "metadata": {},
   "source": [
    "# Reading Files"
   ]
  },
  {
   "cell_type": "code",
   "execution_count": null,
   "metadata": {
    "execution": {
     "iopub.execute_input": "2025-03-03T23:00:03.711280Z",
     "iopub.status.busy": "2025-03-03T23:00:03.711129Z",
     "iopub.status.idle": "2025-03-03T23:00:21.605190Z",
     "shell.execute_reply": "2025-03-03T23:00:21.604778Z"
    }
   },
   "outputs": [],
   "source": [
    "# Read data\n",
    "fnames = ['../data/scglue/Chen-2019-RNA.h5ad', '../data/scglue/Chen-2019-ATAC.h5ad']\n",
    "adatas = celltrip.utility.processing.read_adatas(*fnames, on_disk=True)\n",
    "celltrip.utility.processing.test_adatas(*adatas)\n",
    "\n",
    "# Sample data\n",
    "dataloader = celltrip.utility.processing.PreprocessFromAnnData(*adatas)\n",
    "modalities, adata_obs, adata_vars = dataloader.sample()\n"
   ]
  },
  {
   "cell_type": "code",
   "execution_count": null,
   "metadata": {},
   "outputs": [
    {
     "name": "stderr",
     "output_type": "stream",
     "text": [
      "/home/thema/miniconda3/envs/celltrip/lib/python3.12/site-packages/scipy/sparse/_index.py:210: SparseEfficiencyWarning: Changing the sparsity structure of a csr_matrix is expensive. lil and dok are more efficient.\n",
      "  self._set_arrayXarray(i, j, x)\n"
     ]
    }
   ],
   "source": [
    "# TODO: Make reverse PCA function\n",
    "adatas, _, adata_vars = dataloader.get_transformables()\n",
    "# adata_obs = dataloader.preprocessing.subsample(adata_obs=adata_obs, partition_cols=dataloader.partition_cols)\n",
    "sing_modalities, _ = dataloader.preprocessing.transform(adatas[0][adata_obs[0].index].X, adata_vars=adata_vars[0], subset_features=[0], subset_modality=0)\n",
    "inv_modalities = dataloader.preprocessing.inverse_transform(modalities[0]-sing_modalities[0], subset_modality=0)\n",
    "orig_modalities = dataloader.preprocessing.inverse_transform(\n",
    "    dataloader.preprocessing.transform(adatas[0][adata_obs[0].index].X, subset_modality=0))\n",
    "orig_modalities[0][:, dataloader.preprocessing.filter_mask[0]] - inv_modalities[0]\n"
   ]
  },
  {
   "cell_type": "code",
   "execution_count": null,
   "metadata": {
    "execution": {
     "iopub.execute_input": "2025-03-03T23:00:21.606821Z",
     "iopub.status.busy": "2025-03-03T23:00:21.606663Z",
     "iopub.status.idle": "2025-03-03T23:01:15.117620Z",
     "shell.execute_reply": "2025-03-03T23:01:15.117143Z"
    }
   },
   "outputs": [
    {
     "name": "stdout",
     "output_type": "stream",
     "text": [
      "Sampling takes ~5.35 seconds\n"
     ]
    }
   ],
   "source": [
    "import time\n",
    "start = time.perf_counter()\n",
    "for _ in range(10): dataloader.sample()\n",
    "print(f'Sampling takes ~{(time.perf_counter()-start)/10:.2f} seconds')\n"
   ]
  },
  {
   "cell_type": "markdown",
   "metadata": {},
   "source": [
    "# Reading Large Files"
   ]
  },
  {
   "cell_type": "code",
   "execution_count": null,
   "metadata": {
    "execution": {
     "iopub.execute_input": "2025-03-03T23:01:15.148335Z",
     "iopub.status.busy": "2025-03-03T23:01:15.148128Z",
     "iopub.status.idle": "2025-03-03T23:04:06.070987Z",
     "shell.execute_reply": "2025-03-03T23:04:06.070582Z"
    }
   },
   "outputs": [],
   "source": [
    "# Read data\n",
    "fnames = [f'../data/tahoe/plate{i}_filt_Vevo_Tahoe100M_WServicesFrom_ParseGigalab.h5ad' for i in range(1, 15)]\n",
    "partition_cols = ['sample', 'plate']\n",
    "adatas = celltrip.utility.processing.read_adatas(*fnames[:2], on_disk=True)\n",
    "adatas = [ad.experimental.AnnCollection(adatas)]  # NOTE: Use concat if in memory\n",
    "adatas[0].var = adatas[0].adatas[0].var  # Add var dataframe to `AnnCollection` object\n",
    "celltrip.utility.processing.test_adatas(*adatas)\n",
    "\n",
    "# Sample data\n",
    "dataloader = celltrip.utility.processing.PreprocessFromAnnData(\n",
    "    *adatas, partition_cols=partition_cols)\n",
    "modalities, adata_obs, adata_vars = dataloader.sample()\n"
   ]
  },
  {
   "cell_type": "code",
   "execution_count": null,
   "metadata": {
    "execution": {
     "iopub.execute_input": "2025-03-03T23:04:06.072565Z",
     "iopub.status.busy": "2025-03-03T23:04:06.072408Z",
     "iopub.status.idle": "2025-03-03T23:09:00.999877Z",
     "shell.execute_reply": "2025-03-03T23:09:00.999459Z"
    }
   },
   "outputs": [
    {
     "name": "stdout",
     "output_type": "stream",
     "text": [
      "Sampling takes ~29.49 seconds\n"
     ]
    }
   ],
   "source": [
    "import time\n",
    "start = time.perf_counter()\n",
    "for _ in range(10): dataloader.sample()\n",
    "print(f'Sampling takes ~{(time.perf_counter()-start)/10:.2f} seconds')\n"
   ]
  },
  {
   "cell_type": "markdown",
   "metadata": {},
   "source": [
    "# Formatting CSV Files"
   ]
  },
  {
   "cell_type": "code",
   "execution_count": null,
   "metadata": {
    "execution": {
     "iopub.execute_input": "2025-03-03T23:09:01.001357Z",
     "iopub.status.busy": "2025-03-03T23:09:01.001183Z",
     "iopub.status.idle": "2025-03-03T23:09:01.099492Z",
     "shell.execute_reply": "2025-03-03T23:09:01.099122Z"
    }
   },
   "outputs": [
    {
     "name": "stderr",
     "output_type": "stream",
     "text": [
      "/home/thema/miniconda3/envs/celltrip/lib/python3.12/site-packages/anndata/_core/aligned_df.py:68: ImplicitModificationWarning: Transforming to str index.\n",
      "  warnings.warn(\"Transforming to str index.\", ImplicitModificationWarning)\n",
      "/home/thema/miniconda3/envs/celltrip/lib/python3.12/site-packages/anndata/_core/aligned_df.py:68: ImplicitModificationWarning: Transforming to str index.\n",
      "  warnings.warn(\"Transforming to str index.\", ImplicitModificationWarning)\n"
     ]
    }
   ],
   "source": [
    "# Prerequisites\n",
    "fnames = ['../data/MERFISH/s3_mapped_cell_table.csv', '../data/MERFISH/s3_cell_by_gene.csv']\n",
    "outfiles = ['../data/MERFISH/spatial.h5ad', '../data/MERFISH/expression.h5ad']\n",
    "partition_cols = 'experiment'\n",
    "adatas = []\n",
    "\n",
    "# Spatial\n",
    "fname = fnames[0]\n",
    "df = pd.read_csv(fname, index_col=0, header=0).set_index('sample_name')\n",
    "df_obs = df[['area', 'experiment', 'layer']]\n",
    "df = df[['xc_adjusted', 'yc_adjusted']]\n",
    "adata = ad.AnnData(df, obs=df_obs)\n",
    "adata.write_h5ad(outfiles[0])\n",
    "\n",
    "# Gene expression\n",
    "fname = fnames[1]\n",
    "df = pd.read_csv(fname, index_col=0, header=1)\n",
    "df.index.name = 'sample_name'\n",
    "adata = ad.AnnData(df, obs=df_obs)\n",
    "adata.write_h5ad(outfiles[1])\n"
   ]
  },
  {
   "cell_type": "code",
   "execution_count": null,
   "metadata": {
    "execution": {
     "iopub.execute_input": "2025-03-03T23:09:01.100793Z",
     "iopub.status.busy": "2025-03-03T23:09:01.100645Z",
     "iopub.status.idle": "2025-03-03T23:09:01.152506Z",
     "shell.execute_reply": "2025-03-03T23:09:01.152090Z"
    }
   },
   "outputs": [
    {
     "name": "stderr",
     "output_type": "stream",
     "text": [
      "/home/thema/repos/inept/celltrip/utility/processing.py:97: RuntimeWarning: Modality 1 too small for PCA (2 features), skipping\n",
      "  svd_solver='auto',\n"
     ]
    }
   ],
   "source": [
    "# Read\n",
    "fnames = ['../data/MERFISH/expression.h5ad', '../data/MERFISH/spatial.h5ad']\n",
    "partition_cols = 'layer'\n",
    "adatas = celltrip.utility.processing.read_adatas(*fnames, on_disk=False)\n",
    "celltrip.utility.processing.test_adatas(*adatas, partition_cols=partition_cols)\n",
    "\n",
    "# Dataloader\n",
    "dataloader = celltrip.utility.processing.PreprocessFromAnnData(\n",
    "    *adatas, partition_cols=partition_cols, pca_dim=128)\n",
    "modalities, adata_obs, adata_vars = dataloader.sample()\n"
   ]
  },
  {
   "cell_type": "code",
   "execution_count": null,
   "metadata": {},
   "outputs": [
    {
     "name": "stdout",
     "output_type": "stream",
     "text": [
      "Targets: [200 150], Most Changed: [150 200], should be the same elements\n"
     ]
    }
   ],
   "source": [
    "# Perform gene knockdown in processed data\n",
    "modality_to_test = 0\n",
    "features_to_test = [200, 150]\n",
    "adatas, _, adata_vars = dataloader.get_transformables()\n",
    "iso_modality = dataloader.preprocessing.transform(\n",
    "    adatas[modality_to_test][adata_obs[modality_to_test].index].X,\n",
    "    force_filter=True,\n",
    "    subset_features=features_to_test,\n",
    "    subset_modality=modality_to_test)[0]\n",
    "knocked_modality = modalities[modality_to_test] - iso_modality\n",
    "\n",
    "# Verify sure the knockdown works\n",
    "orig_modality, = dataloader.preprocessing.inverse_transform(modalities[modality_to_test], subset_modality=modality_to_test)\n",
    "inv_modality, = dataloader.preprocessing.inverse_transform(knocked_modality, subset_modality=modality_to_test)\n",
    "change = np.abs(orig_modality - inv_modality).sum(axis=0) / dataloader.preprocessing.standardize_std[modality_to_test]\n",
    "most_changed_idx = dataloader.preprocessing.filter_mask[modality_to_test][np.argsort(change).flatten()[-len(features_to_test):]]\n",
    "print(f'Targets: {np.array(features_to_test)}, Most Changed: {most_changed_idx}, should be the same elements')\n"
   ]
  },
  {
   "cell_type": "code",
   "execution_count": null,
   "metadata": {
    "execution": {
     "iopub.execute_input": "2025-03-03T23:09:01.153843Z",
     "iopub.status.busy": "2025-03-03T23:09:01.153691Z",
     "iopub.status.idle": "2025-03-03T23:09:01.194871Z",
     "shell.execute_reply": "2025-03-03T23:09:01.194513Z"
    }
   },
   "outputs": [
    {
     "name": "stdout",
     "output_type": "stream",
     "text": [
      "Sampling takes ~0.00 seconds\n"
     ]
    }
   ],
   "source": [
    "import time\n",
    "start = time.perf_counter()\n",
    "for _ in range(10): dataloader.sample()\n",
    "print(f'Sampling takes ~{(time.perf_counter()-start)/10:.2f} seconds')\n"
   ]
  }
 ],
 "metadata": {
  "kernelspec": {
   "display_name": "celltrip",
   "language": "python",
   "name": "python3"
  },
  "language_info": {
   "codemirror_mode": {
    "name": "ipython",
    "version": 3
   },
   "file_extension": ".py",
   "mimetype": "text/x-python",
   "name": "python",
   "nbconvert_exporter": "python",
   "pygments_lexer": "ipython3",
   "version": "3.12.9"
  }
 },
 "nbformat": 4,
 "nbformat_minor": 2
}
