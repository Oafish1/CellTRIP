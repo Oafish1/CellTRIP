{
 "cells": [
  {
   "cell_type": "code",
   "execution_count": 1,
   "id": "2a4d9223",
   "metadata": {},
   "outputs": [],
   "source": [
    "%load_ext autoreload\n",
    "%autoreload 2\n"
   ]
  },
  {
   "cell_type": "code",
   "execution_count": 2,
   "id": "8b0bc117",
   "metadata": {},
   "outputs": [],
   "source": [
    "import argparse\n",
    "import os\n",
    "import random\n",
    "import re\n",
    "\n",
    "import matplotlib.animation as mplanim\n",
    "import matplotlib.pyplot as plt\n",
    "import numpy as np\n",
    "import s3fs\n",
    "import torch\n",
    "import umap\n",
    "\n",
    "import celltrip\n",
    "\n",
    "\n",
    "os.environ['AWS_PROFILE'] = 'waisman-admin'"
   ]
  },
  {
   "cell_type": "code",
   "execution_count": 3,
   "id": "7ab23129",
   "metadata": {},
   "outputs": [
    {
     "name": "stdout",
     "output_type": "stream",
     "text": [
      "python train.py s3://nkalafut-celltrip/MERFISH/expression.h5ad s3://nkalafut-celltrip/MERFISH/spatial.h5ad --backed --target_modalities 1 --num_gpus 3 --num_learners 2 --num_runners 9 --steps 9000 --max_updates 50 --dont_sync_across_nodes --logfile s3://nkalafut-celltrip/logs/3gpu-9k-ExtraKL-DontSync.log --checkpoint_dir s3://nkalafut-celltrip/checkpoints --checkpoint_name 3gpu-9k-ExtraKL-DontSync\n"
     ]
    }
   ],
   "source": [
    "# Arguments # TODO REPLACE\n",
    "parser = argparse.ArgumentParser(description='Train CellTRIP model', formatter_class=argparse.ArgumentDefaultsHelpFormatter)\n",
    "\n",
    "# Reading\n",
    "group = parser.add_argument_group('Input')\n",
    "group.add_argument('input_files', type=str, nargs='*', help='h5ad files to be used for input')\n",
    "group.add_argument('--merge_files', type=str, action='append', nargs='+', help='h5ad files to merge as input')\n",
    "group.add_argument('--partition_cols', type=str, action='append', nargs='+', help='Columns for data partitioning, found in `adata.obs` DataFrame')\n",
    "group.add_argument('--backed', action='store_true', help='Read data directly from disk or s3, saving memory at the cost of time')\n",
    "group.add_argument('--input_modalities', type=int, nargs='+', help='Input modalities to give to CellTRIP')\n",
    "group.add_argument('--target_modalities', type=int, nargs='+', help='Target modalities to emulate, dictates environment reward')\n",
    "# Computation\n",
    "group = parser.add_argument_group('Computation')\n",
    "group.add_argument('--num_gpus', type=int, default=1, help='Number of GPUs to use during computation')\n",
    "group.add_argument('--num_learners', type=int, default=1, help='Number of learners used in backward computation, cannot exceed GPUs')\n",
    "group.add_argument('--num_runners', type=int, default=1, help='Number of workers for environment simulation')\n",
    "# Training\n",
    "group = parser.add_argument_group('Training')\n",
    "group.add_argument('--steps', type=int, default=int(5e3), help='Number of steps recorded before each update')\n",
    "group.add_argument('--max_updates', type=int, default=200, help='Maximum number of policy updates to compute before exiting')\n",
    "group.add_argument('--dont_sync_across_nodes', action='store_true', help='Avoid memory sync across nodes, saving overhead time at the cost of stability')\n",
    "# File saves\n",
    "group = parser.add_argument_group('Logging')\n",
    "group.add_argument('--logfile', type=str, default='cli', help='Location for log file, can be `cli`, `<local_file>`, or `<s3 location>`')\n",
    "group.add_argument('--flush_iterations', type=int, help='Number of iterations to wait before flushing logs')\n",
    "group.add_argument('--checkpoint', type=str, help='Checkpoint to use for initializing model')\n",
    "group.add_argument('--checkpoint_iterations', type=int, default=20, help='Number of iterations to wait before recording checkpoints')\n",
    "group.add_argument('--checkpoint_dir', type=str, default='./checkpoints', help='Directory for checkpoints')\n",
    "group.add_argument('--checkpoint_name', type=str, help='Run name, for checkpointing')\n",
    "\n",
    "# Notebook defaults and script handling\n",
    "if not celltrip.utility.notebook.is_notebook():\n",
    "    # ray job submit -- python train.py...\n",
    "    config = parser.parse_args()\n",
    "else:\n",
    "    experiment_name = '3gpu-9k-ExtraKL-DontSync'\n",
    "    command = (\n",
    "        f's3://nkalafut-celltrip/MERFISH/expression.h5ad s3://nkalafut-celltrip/MERFISH/spatial.h5ad '\n",
    "        # f'/home/nck/repos/INEPT/data/MERFISH/expression.h5ad /home/nck/repos/INEPT/data/MERFISH/spatial.h5ad '\n",
    "        f'--backed '\n",
    "        f'--target_modalities 1 '\n",
    "        f'--num_gpus 3 --num_learners 2 --num_runners 9 '\n",
    "        f'--steps 9000 '\n",
    "        f'--max_updates 50 '\n",
    "        f'--dont_sync_across_nodes '\n",
    "        f'--logfile s3://nkalafut-celltrip/logs/{experiment_name}.log '\n",
    "        f'--checkpoint_dir s3://nkalafut-celltrip/checkpoints '\n",
    "        f'--checkpoint_name {experiment_name}')\n",
    "    config = parser.parse_args(command.split(' '))\n",
    "    print(f'python train.py {command}')\n",
    "    \n",
    "# Defaults\n",
    "if config.checkpoint_name is None:\n",
    "    config.checkpoint_name = f'RUN_{random.randint(0, 2**32):0>10}'\n",
    "    print(f'Run Name: {config.checkpoint_name}')\n",
    "# print(config)  # CLI\n"
   ]
  },
  {
   "cell_type": "code",
   "execution_count": 4,
   "id": "432633bd",
   "metadata": {},
   "outputs": [
    {
     "data": {
      "text/plain": [
       "['nkalafut-celltrip/checkpoints/2gpu-NoReplay-0050.weights',\n",
       " 'nkalafut-celltrip/checkpoints/3gpu-1k-0020.weights',\n",
       " 'nkalafut-celltrip/checkpoints/3gpu-1k-0040.weights',\n",
       " 'nkalafut-celltrip/checkpoints/3gpu-1k-0050.weights',\n",
       " 'nkalafut-celltrip/checkpoints/3gpu-1k-0050.weights',\n",
       " 'nkalafut-celltrip/checkpoints/3gpu-1k-cont-0051.weights',\n",
       " 'nkalafut-celltrip/checkpoints/3gpu-1k-cont-0071.weights',\n",
       " 'nkalafut-celltrip/checkpoints/3gpu-1k-cont-0091.weights',\n",
       " 'nkalafut-celltrip/checkpoints/3gpu-1k-cont-0100.weights',\n",
       " 'nkalafut-celltrip/checkpoints/3gpu-2learn-3run-20iter-0010.weights',\n",
       " 'nkalafut-celltrip/checkpoints/3gpu-2learn-3run-20iter-0020.weights',\n",
       " 'nkalafut-celltrip/checkpoints/3gpu-2learn-6run-100iter-3-0050.weights',\n",
       " 'nkalafut-celltrip/checkpoints/3gpu-2learn-6run-100iter-3-0100.weights',\n",
       " 'nkalafut-celltrip/checkpoints/3gpu-2learn-6run-100iter-4-0050.weights',\n",
       " 'nkalafut-celltrip/checkpoints/3gpu-2learn-6run-100iter-5-0050.weights',\n",
       " 'nkalafut-celltrip/checkpoints/3gpu-2learn-6run-100iter-6-0050.weights',\n",
       " 'nkalafut-celltrip/checkpoints/3gpu-2learn-6run-100iter-8-0050.weights',\n",
       " 'nkalafut-celltrip/checkpoints/3gpu-2learn-6run-100iter-9-0050.weights',\n",
       " 'nkalafut-celltrip/checkpoints/3gpu-2learn-6run-20iter-0010.weights',\n",
       " 'nkalafut-celltrip/checkpoints/3gpu-2learn-6run-20iter-0020.weights',\n",
       " 'nkalafut-celltrip/checkpoints/3gpu-2learn-6run-50iter-7-0050.weights',\n",
       " 'nkalafut-celltrip/checkpoints/3gpu-9k-ExtraKL-2-0050.weights',\n",
       " 'nkalafut-celltrip/checkpoints/3gpu-9k-ExtraKL-DontSync-0050.weights',\n",
       " 'nkalafut-celltrip/checkpoints/5gpu-2learn-5run-100iter-10-0050.weights',\n",
       " 'nkalafut-celltrip/checkpoints/5gpu-2learn-5run-100iter-10-0100.weights',\n",
       " 'nkalafut-celltrip/checkpoints/5gpu-Replay-2-0050.weights']"
      ]
     },
     "execution_count": 4,
     "metadata": {},
     "output_type": "execute_result"
    }
   ],
   "source": [
    "import s3fs\n",
    "s3 = s3fs.S3FileSystem()\n",
    "s3.ls('s3://nkalafut-celltrip/checkpoints')"
   ]
  },
  {
   "cell_type": "code",
   "execution_count": 6,
   "id": "dddf6ad1",
   "metadata": {},
   "outputs": [
    {
     "name": "stderr",
     "output_type": "stream",
     "text": [
      "/home/thema/repos/inept/celltrip/utility/processing.py:106: RuntimeWarning: Modality 1 too small for PCA (2 features), skipping\n",
      "  warnings.warn(\n",
      "/home/thema/miniconda3/envs/ct/lib/python3.10/site-packages/torch/optim/lr_scheduler.py:62: UserWarning: The verbose parameter is deprecated. Please use get_last_lr() to access the learning rate.\n",
      "  warnings.warn(\n"
     ]
    }
   ],
   "source": [
    "dataloader_kwargs = {'num_nodes': 200, 'pca_dim': 128, 'subsample_seed': 42}\n",
    "environment_kwargs = {\n",
    "    'input_modalities': config.input_modalities,\n",
    "    'target_modalities': config.target_modalities, 'dim': 3}\n",
    "env_init, policy_init, memory_init = celltrip.train.get_initializers(\n",
    "    input_files=config.input_files, merge_files=config.merge_files,\n",
    "    backed=config.backed, policy_kwargs={'minibatch_size': 2_000},\n",
    "    dataloader_kwargs=dataloader_kwargs,\n",
    "    environment_kwargs=environment_kwargs)\n",
    "env = env_init().to('cuda')\n",
    "policy = policy_init(env).to('cuda')\n",
    "policy.load_checkpoint('s3://nkalafut-celltrip/checkpoints/3gpu-1k-cont-0100.weights')\n",
    "policy.actor.action_std.data = torch.tensor(1e-8, device=policy.device)"
   ]
  },
  {
   "cell_type": "code",
   "execution_count": 7,
   "id": "45693d3d",
   "metadata": {},
   "outputs": [],
   "source": [
    "# # Get model from s3\n",
    "# s3 = s3fs.S3FileSystem(skip_instance_cache=True)\n",
    "# # s3.ls('s3://nkalafut-celltrip')\n",
    "# with s3.open('s3://nkalafut-celltrip/checkpoints/3gpu-9k-ExtraKL-DontSync-0050.weights', 'rb') as f:\n",
    "#     state_dict = torch.load(f)\n",
    "# # Load weights\n",
    "# positional_dim = state_dict['policy']['actor.self_embed.0.weight'].shape[1] - sum([v.shape[0] for k, v in state_dict['policy'].items() if re.match('^actor.feature_embed.\\d+.0.weight$', k) is not None])\n",
    "# modal_dims = [v.shape[1] for k, v in state_dict['policy'].items() if re.match('^actor.feature_embed.\\d+.0.weight$', k) is not None]\n",
    "# output_dim = state_dict['policy']['actor.decider.2.weight'].shape[0]\n",
    "# policy = celltrip.policy.PPO(positional_dim, modal_dims, output_dim)\n",
    "# policy.load_checkpoint('s3://nkalafut-celltrip/checkpoints/3gpu-9k-ExtraKL-DontSync-0050.weights')"
   ]
  },
  {
   "cell_type": "code",
   "execution_count": 8,
   "id": "72ff5a83",
   "metadata": {},
   "outputs": [],
   "source": [
    "env.reset()\n",
    "ret = celltrip.train.simulate_until_completion(env, policy, store_states=True)\n",
    "rewards = ret[:3]\n",
    "states = ret[-1].cpu()\n",
    "del ret"
   ]
  },
  {
   "cell_type": "code",
   "execution_count": 9,
   "id": "f8ce26e0",
   "metadata": {},
   "outputs": [],
   "source": [
    "# fig, ax = plt.subplots()\n",
    "# scatter = ax.scatter([], [])\n",
    "# ax.set_xlim(-env.pos_bound, env.pos_bound)\n",
    "# ax.set_ylim(-env.pos_bound, env.pos_bound)\n",
    "\n",
    "# def animate(frame):\n",
    "#     scatter.set_offsets(states[10*frame, :, :2])\n",
    "#     return scatter,\n",
    "\n",
    "# # Show animation\n",
    "# ani = mplanim.FuncAnimation(fig, animate, frames=int(states.shape[0]/10), interval=20, blit=True)\n",
    "# from IPython.display import HTML\n",
    "# HTML(ani.to_jshtml())"
   ]
  },
  {
   "cell_type": "code",
   "execution_count": 10,
   "id": "9bc624fe",
   "metadata": {},
   "outputs": [
    {
     "name": "stderr",
     "output_type": "stream",
     "text": [
      "/home/thema/miniconda3/envs/ct/lib/python3.10/site-packages/umap/umap_.py:1952: UserWarning: n_jobs value 1 overridden to 1 by setting random_state. Use no seed for parallelism.\n",
      "  warn(\n"
     ]
    },
    {
     "data": {
      "image/png": "[encoded data removed]",
      "text/plain": [
       "<Figure size 640x480 with 1 Axes>"
      ]
     },
     "metadata": {},
     "output_type": "display_data"
    }
   ],
   "source": [
    "# Get transform and types\n",
    "reducer = umap.UMAP(random_state=42)\n",
    "transformed = reducer.fit_transform(states[-1, :, :env.dim])\n",
    "types = env.dataloader.adatas[0].obs.loc[env.keys, 'layer'].to_numpy()\n",
    "\n",
    "# Plot\n",
    "fig, ax = plt.subplots()\n",
    "for t in np.unique(types):\n",
    "    ax.scatter(*transformed[types==t].T)\n",
    "fig.show()\n"
   ]
  }
 ],
 "metadata": {
  "kernelspec": {
   "display_name": "ct",
   "language": "python",
   "name": "python3"
  },
  "language_info": {
   "codemirror_mode": {
    "name": "ipython",
    "version": 3
   },
   "file_extension": ".py",
   "mimetype": "text/x-python",
   "name": "python",
   "nbconvert_exporter": "python",
   "pygments_lexer": "ipython3",
   "version": "3.10.16"
  }
 },
 "nbformat": 4,
 "nbformat_minor": 5
}
