{
 "cells": [
  {
   "cell_type": "code",
   "execution_count": 1,
   "id": "2a4d9223",
   "metadata": {
    "execution": {
     "iopub.execute_input": "2025-06-22T16:55:53.713724Z",
     "iopub.status.busy": "2025-06-22T16:55:53.713515Z",
     "iopub.status.idle": "2025-06-22T16:55:53.726874Z",
     "shell.execute_reply": "2025-06-22T16:55:53.726497Z"
    }
   },
   "outputs": [],
   "source": [
    "%load_ext autoreload\n",
    "%autoreload 2\n"
   ]
  },
  {
   "cell_type": "code",
   "execution_count": 2,
   "id": "8b0bc117",
   "metadata": {
    "execution": {
     "iopub.execute_input": "2025-06-22T16:55:53.728332Z",
     "iopub.status.busy": "2025-06-22T16:55:53.728191Z",
     "iopub.status.idle": "2025-06-22T16:55:59.714231Z",
     "shell.execute_reply": "2025-06-22T16:55:59.713726Z"
    }
   },
   "outputs": [],
   "source": [
    "import argparse\n",
    "import colorsys\n",
    "import os\n",
    "import random\n",
    "import re\n",
    "import shlex\n",
    "import warnings\n",
    "\n",
    "import matplotlib as mpl\n",
    "import matplotlib.animation as mplanim\n",
    "import matplotlib.pyplot as plt\n",
    "import matplotlib.transforms as mpltrans\n",
    "import numpy as np\n",
    "import pandas as pd\n",
    "import s3fs\n",
    "import seaborn as sns\n",
    "import torch\n",
    "from tqdm import tqdm\n",
    "import umap\n",
    "\n",
    "import celltrip\n",
    "\n",
    "\n",
    "# Make mpl text editable\n",
    "mpl.rcParams['pdf.fonttype'] = 42\n",
    "mpl.rcParams['ps.fonttype'] = 42\n",
    "\n",
    "os.environ['AWS_PROFILE'] = 'waisman-admin'\n"
   ]
  },
  {
   "cell_type": "markdown",
   "id": "fbd731c9",
   "metadata": {},
   "source": [
    "# Load Model"
   ]
  },
  {
   "cell_type": "code",
   "execution_count": 3,
   "id": "2ef6ceb9",
   "metadata": {},
   "outputs": [],
   "source": [
    "# # Policy and Environment\n",
    "# train_split = .8\n",
    "# train_partitions = False\n",
    "# input_modalities = None\n",
    "# target_modalities = None\n",
    "# dim = 8\n",
    "# discrete = False\n",
    "# policy_name = 'scMultiSim-250704-0800'\n",
    "\n",
    "# # Data\n",
    "# input_files = ['s3://nkalafut-celltrip/scMultiSim/expression.h5ad', 's3://nkalafut-celltrip/scMultiSim/peaks.h5ad']\n",
    "# merge_files = []\n",
    "# backed = True\n",
    "# partition_cols = None\n",
    "# type_key = 'cell.type'  # MERFISH ('layer'), scGLUE ('cell_type'), scMultiSim ('cell.type'), Flysta3D ('annotation'), TemporalBrain ('Cell type')\n"
   ]
  },
  {
   "cell_type": "code",
   "execution_count": 4,
   "id": "87d1c915",
   "metadata": {},
   "outputs": [],
   "source": [
    "# Policy and Environment\n",
    "train_split = .6\n",
    "train_partitions = True\n",
    "input_modalities = None\n",
    "target_modalities = None\n",
    "dim = 8\n",
    "discrete = False\n",
    "policy_name = 'TemporalBrain-250704-0800'\n",
    "\n",
    "# Data\n",
    "input_files = ['s3://nkalafut-celltrip/TemporalBrain/expression.h5ad', 's3://nkalafut-celltrip/TemporalBrain/peaks.h5ad']\n",
    "merge_files = []\n",
    "backed = True\n",
    "partition_cols = ['Donor ID']\n",
    "type_key = 'Cell type'  # MERFISH ('layer'), scGLUE ('cell_type'), scMultiSim ('cell.type'), Flysta3D ('annotation'), TemporalBrain ('Cell type')\n"
   ]
  },
  {
   "cell_type": "code",
   "execution_count": 5,
   "id": "d6ad07ab",
   "metadata": {},
   "outputs": [],
   "source": [
    "# # Policy and Environment\n",
    "# train_split = .8\n",
    "# train_partitions = False\n",
    "# input_modalities = None\n",
    "# target_modalities = [1]\n",
    "# dim = 8\n",
    "# discrete = False\n",
    "# policy_name = 'MERFISH-250703-4-0800'\n",
    "\n",
    "# # Data\n",
    "# input_files = ['s3://nkalafut-celltrip/MERFISH/expression.h5ad', 's3://nkalafut-celltrip/MERFISH/spatial.h5ad']\n",
    "# merge_files = []\n",
    "# backed = True\n",
    "# partition_cols = None\n",
    "# type_key = 'layer'  # MERFISH ('layer'), scGLUE ('cell_type'), scMultiSim ('cell.type'), Flysta3D ('annotation'), TemporalBrain ('Cell type')\n"
   ]
  },
  {
   "cell_type": "code",
   "execution_count": 6,
   "id": "00de54e2",
   "metadata": {
    "execution": {
     "iopub.execute_input": "2025-06-22T16:55:59.716158Z",
     "iopub.status.busy": "2025-06-22T16:55:59.715980Z",
     "iopub.status.idle": "2025-06-22T16:55:59.737980Z",
     "shell.execute_reply": "2025-06-22T16:55:59.737537Z"
    }
   },
   "outputs": [],
   "source": [
    "# # Policy and Environment\n",
    "# train_split = .0001  # .8\n",
    "# train_partitions = True\n",
    "# input_modalities = None\n",
    "# target_modalities = [1]\n",
    "# dim = 32\n",
    "# discrete = False\n",
    "# policy_name = 'MERFISH-250703-0125'\n",
    "\n",
    "# # Data\n",
    "# input_files = []\n",
    "# merge_files = [\n",
    "#     [\n",
    "#         's3://nkalafut-celltrip/Flysta3D/E14-16h_a_expression.h5ad',\n",
    "#         # 's3://nkalafut-celltrip/Flysta3D/E16-18h_a_expression.h5ad',\n",
    "#         # 's3://nkalafut-celltrip/Flysta3D/L1_a_expression.h5ad',\n",
    "#         # 's3://nkalafut-celltrip/Flysta3D/L2_a_expression.h5ad',\n",
    "#         # 's3://nkalafut-celltrip/Flysta3D/L3_b_expression.h5ad',\n",
    "#     ],\n",
    "#     [\n",
    "#         's3://nkalafut-celltrip/Flysta3D/E14-16h_a_spatial.h5ad',\n",
    "#         # 's3://nkalafut-celltrip/Flysta3D/E16-18h_a_spatial.h5ad',\n",
    "#         # 's3://nkalafut-celltrip/Flysta3D/L1_a_spatial.h5ad',\n",
    "#         # 's3://nkalafut-celltrip/Flysta3D/L2_a_spatial.h5ad',\n",
    "#         # 's3://nkalafut-celltrip/Flysta3D/L3_b_spatial.h5ad',\n",
    "#     ]]\n",
    "# backed = True\n",
    "# partition_cols = ['slice_ID']\n",
    "# type_key = 'annotation'  # MERFISH ('layer'), scGLUE ('cell_type'), scMultiSim ('cell.type'), Flysta3D ('annotation'), TemporalBrain ('Cell type')\n"
   ]
  },
  {
   "cell_type": "code",
   "execution_count": 7,
   "id": "a54b7c56",
   "metadata": {
    "execution": {
     "iopub.execute_input": "2025-06-22T16:55:59.739743Z",
     "iopub.status.busy": "2025-06-22T16:55:59.739571Z",
     "iopub.status.idle": "2025-06-22T16:57:23.455345Z",
     "shell.execute_reply": "2025-06-22T16:57:23.454838Z"
    }
   },
   "outputs": [],
   "source": [
    "# Seeding\n",
    "torch.random.manual_seed(42)\n",
    "np.random.seed(42)\n",
    "\n",
    "# Initialize locally\n",
    "env_init, policy_init, memory_init = celltrip.train.get_initializers(\n",
    "    input_files=input_files, merge_files=merge_files, backed=backed,\n",
    "    partition_cols=partition_cols, dataloader_kwargs={'mask': train_split, 'mask_partitions': train_partitions},\n",
    "    environment_kwargs={'input_modalities': input_modalities, 'target_modalities': target_modalities, 'dim': dim,\n",
    "        'discrete': discrete}, policy_kwargs={'discrete': discrete})  # , 'spherical': discrete\n",
    "env = env_init().to('cuda')\n",
    "policy = policy_init(env).to('cuda')\n",
    "\n",
    "# Store mask for later use\n",
    "full_train_mask = env.dataloader.mask\n"
   ]
  },
  {
   "cell_type": "code",
   "execution_count": 8,
   "id": "9e12237d",
   "metadata": {
    "execution": {
     "iopub.execute_input": "2025-06-22T16:57:23.457326Z",
     "iopub.status.busy": "2025-06-22T16:57:23.456925Z",
     "iopub.status.idle": "2025-06-22T16:57:23.932557Z",
     "shell.execute_reply": "2025-06-22T16:57:23.932073Z"
    }
   },
   "outputs": [],
   "source": [
    "# Load\n",
    "policy.load_checkpoint(f's3://nkalafut-celltrip/checkpoints/{policy_name}.weights')"
   ]
  },
  {
   "cell_type": "markdown",
   "id": "4392bdf4",
   "metadata": {},
   "source": [
    "# Run Model"
   ]
  },
  {
   "cell_type": "code",
   "execution_count": null,
   "id": "b534b176",
   "metadata": {
    "execution": {
     "iopub.execute_input": "2025-06-22T16:57:23.934389Z",
     "iopub.status.busy": "2025-06-22T16:57:23.934190Z",
     "iopub.status.idle": "2025-06-22T16:57:23.962500Z",
     "shell.execute_reply": "2025-06-22T16:57:23.962071Z"
    }
   },
   "outputs": [],
   "source": [
    "def generate_steady_states(env, policy, partition=None, resample=True, subsample=None):\n",
    "    global discrete\n",
    "\n",
    "    # Prepare environment\n",
    "    env.dataloader.mask = None\n",
    "    env.max_timesteps = 5_000\n",
    "    if not discrete: policy = policy.eval()  # Don't do this for discrete, the stochastic policy is optimal and doesn't generalize\n",
    "    env.dataloader.preprocessing.set_num_nodes(subsample)\n",
    "\n",
    "    # Standard\n",
    "    env.reset(resample=resample, partition=partition)\n",
    "    env.set_termination_conds(min_time=False, max_time=True, random=False, velocity=False)\n",
    "    train_mask = pd.DataFrame(full_train_mask, index=env.dataloader.adatas[0].obs.index).loc[env.keys].to_numpy().flatten()\n",
    "    env.noise = len(env.modalities)*[0]  # Remove noise from modalities\n",
    "\n",
    "    # Running\n",
    "    memory = None  # memory_init(policy)\n",
    "    ret = celltrip.train.simulate_until_completion(env, policy, memory, keys=env.keys, store_states=True)\n",
    "    rewards = ret[:-1]\n",
    "    steady_states = ret[-1].cpu()\n",
    "    partition = env.dataloader.adatas[0].obs.loc[env.get_keys(noise=False), env.dataloader.partition_cols].iloc[0].tolist() if env.dataloader.partition_cols is not None else None\n",
    "    types = env.dataloader.adatas[0].obs.loc[env.get_keys(noise=False), type_key].to_numpy()\n",
    "    del ret\n",
    "    print(f'Partition: {partition}')\n",
    "    print(f'Resting 90th percentile velocity: {steady_states[-1, :, env.dim:].norm(dim=-1).quantile(.9).item():.3f}')\n",
    "    print(', '.join([f'{k}: {v:.2f}' for k, v in rewards[-1].items()]))\n",
    "    return steady_states, rewards, train_mask, types\n"
   ]
  },
  {
   "cell_type": "markdown",
   "id": "03b47d04",
   "metadata": {},
   "source": [
    "# General Plotting Functions"
   ]
  },
  {
   "cell_type": "code",
   "execution_count": 10,
   "id": "501be0c5",
   "metadata": {
    "execution": {
     "iopub.execute_input": "2025-06-22T16:57:23.964030Z",
     "iopub.status.busy": "2025-06-22T16:57:23.963865Z",
     "iopub.status.idle": "2025-06-22T16:57:23.993607Z",
     "shell.execute_reply": "2025-06-22T16:57:23.993175Z"
    }
   },
   "outputs": [],
   "source": [
    "def dimension_plot(steady_states, types):\n",
    "    # Plot\n",
    "    # warnings.filterwarnings('ignore')\n",
    "    scale = 2\n",
    "    fig, axs = plt.subplots(dim, dim, figsize=(scale*dim, scale*dim), sharex='col', sharey='row')  # , subplot_kw=dict(adjustable='box-forced', aspect='equal')\n",
    "    axs = axs[::-1]  # Invert y layout\n",
    "    max_dims = steady_states[-1, :, :dim].abs().max(dim=0).values.max()  # Get max for each dim\n",
    "    from itertools import product\n",
    "    for i, j in product(range(dim), range(dim)):\n",
    "        ax = axs[i][j]\n",
    "        # Plotting\n",
    "        raw = steady_states[-1, :, :dim]\n",
    "        for t in np.unique(types):\n",
    "            ax.scatter(raw[types==t, j], raw[types==t, i], s=1)\n",
    "        # Styling\n",
    "        sns.despine(ax=ax)\n",
    "        # ax.add_patch(plt.Circle((0, 0), env.pos_bound, facecolor='none', edgecolor='black'))\n",
    "        # Labels\n",
    "        if i==0: ax.set_xlabel(f'Dimension {j+1}')\n",
    "        if j==0: ax.set_ylabel(f'Dimension {i+1}')\n",
    "    return fig\n",
    "\n",
    "def regular_plot(data, types):\n",
    "    # Plot\n",
    "    fig, ax = plt.subplots(figsize=(4, 4))\n",
    "    for t in np.unique(types):\n",
    "        ax.scatter(*data[types==t, ..., :2].T, s=1)\n",
    "    sns.despine(ax=ax)\n",
    "    return fig\n",
    "\n",
    "def umap_plot(data, types):\n",
    "    # UMAP plot\n",
    "    reducer = umap.UMAP(n_neighbors=200)\n",
    "\n",
    "    # Transform\n",
    "    transformed = reducer.fit_transform(data)\n",
    "\n",
    "    # Plot\n",
    "    fig, ax = plt.subplots(figsize=(4, 4))\n",
    "    for t in np.unique(types):\n",
    "        ax.scatter(*transformed[types==t].T, s=1)\n",
    "    sns.despine(ax=ax)\n",
    "    return fig\n",
    "\n",
    "def animation(data, types):\n",
    "    # Animation\n",
    "    # fastplotlib, pyqtgraph(!), dearpygui, datashader(!), Vega-Altair, Holoviews, polars for dataframes(?)\n",
    "    fig, ax = plt.subplots()\n",
    "    scatter = {t: ax.scatter([], [], s=2, label=t) for t in np.unique(types)}\n",
    "    max_pos = data[:, :, :env.dim].abs().max()\n",
    "    ax.set_xlim(-max_pos, max_pos)\n",
    "    ax.set_ylim(-max_pos, max_pos)\n",
    "    sns.despine(ax=ax)\n",
    "    skip = 10\n",
    "    speedup = 10\n",
    "\n",
    "    # Loop\n",
    "    def animate(frame):\n",
    "        for t in np.unique(types):  scatter[t].set_offsets(data[skip*frame, types==t, :2])\n",
    "        # ax.set_title(f'Reward: {memory.storage['rewards'][skip*frame].mean().item:0.3f}')\n",
    "        return list(scatter.values())\n",
    "\n",
    "    # Show animation\n",
    "    interval = int(skip*env.delta*1e3/speedup)\n",
    "    ani = mplanim.FuncAnimation(fig, animate, frames=int(data.shape[0]/skip), interval=skip*env.delta*1e3, blit=True)\n",
    "    return ani, interval\n"
   ]
  },
  {
   "cell_type": "markdown",
   "id": "43db994e",
   "metadata": {},
   "source": [
    "# Imputation Functions"
   ]
  },
  {
   "cell_type": "code",
   "execution_count": 11,
   "id": "f973fe61",
   "metadata": {
    "execution": {
     "iopub.execute_input": "2025-06-22T16:57:23.995114Z",
     "iopub.status.busy": "2025-06-22T16:57:23.994927Z",
     "iopub.status.idle": "2025-06-22T16:57:24.020591Z",
     "shell.execute_reply": "2025-06-22T16:57:24.020181Z"
    }
   },
   "outputs": [],
   "source": [
    "def generate_pinning_function(steady_states, train_mask, target_modality):\n",
    "    # Pin to data space\n",
    "    mask = train_mask\n",
    "    source_points = steady_states[-1, mask, :env.dim]\n",
    "    target_points = target_modality[mask].cpu()\n",
    "    # Least-squares\n",
    "    A = np.hstack([source_points, np.ones((source_points.shape[0], 1))])\n",
    "    pinning_matrix = np.linalg.lstsq(A, target_points, rcond=None)[0].numpy()\n",
    "    # Pinning function\n",
    "    def pin_points(points):\n",
    "        A = np.concatenate([points, np.ones((*points.shape[:-1], 1))], axis=-1)\n",
    "        return np.dot(A, pinning_matrix)\n",
    "    return pin_points, pinning_matrix\n"
   ]
  },
  {
   "cell_type": "code",
   "execution_count": 12,
   "id": "5dabb3a9",
   "metadata": {
    "execution": {
     "iopub.execute_input": "2025-06-22T16:57:24.022058Z",
     "iopub.status.busy": "2025-06-22T16:57:24.021877Z",
     "iopub.status.idle": "2025-06-22T16:57:24.046522Z",
     "shell.execute_reply": "2025-06-22T16:57:24.046116Z"
    }
   },
   "outputs": [],
   "source": [
    "def pinning_matrix_heatmap(pinning_matrix):\n",
    "    fig, ax = plt.subplots(1, 1, figsize=(4, 4))\n",
    "    sns.heatmap(pinning_matrix, cmap='vlag', ax=ax)\n",
    "    ax.invert_yaxis()\n",
    "    # yticklabels = ['' for item in ax.get_yticklabels()]  # item.get_text()\n",
    "    # yticklabels[-1] = 'Bias'\n",
    "    ax.tick_params(axis='both', which='both', length=0)\n",
    "    ax.set(xticklabels=[], yticklabels=[])\n",
    "    ax.set(xlabel='Target Modality', ylabel='CellTRIP Latent Space')\n",
    "    return fig"
   ]
  },
  {
   "cell_type": "code",
   "execution_count": 13,
   "id": "92aacdeb",
   "metadata": {
    "execution": {
     "iopub.execute_input": "2025-06-22T16:57:24.048037Z",
     "iopub.status.busy": "2025-06-22T16:57:24.047873Z",
     "iopub.status.idle": "2025-06-22T16:57:24.075585Z",
     "shell.execute_reply": "2025-06-22T16:57:24.075164Z"
    }
   },
   "outputs": [],
   "source": [
    "def pinning_validation_plot(pinned_points, train_mask, target_modality):\n",
    "    # Get validation\n",
    "    target_points = target_modality.numpy()\n",
    "    val_mask = ~train_mask\n",
    "\n",
    "    # Precalculate params - get polar coordinates\n",
    "    centered_points = target_points - target_points.mean(axis=0)\n",
    "    r = (centered_points**2).sum(axis=-1)**(1/2)\n",
    "    theta = np.arctan2(centered_points[:, 1], centered_points[:, 0])\n",
    "    # Aggregate colors\n",
    "    hue = theta / (2*np.pi) + .5\n",
    "    value = .2 + .8 * (r - r.min()) / (r.max() - r.min())\n",
    "    saturation = .8 * np.ones_like(r)\n",
    "    position_colors = [colorsys.hsv_to_rgb(h, s, v) for h, s, v in zip(hue, saturation, value)]\n",
    "\n",
    "    # Get errors\n",
    "    raw_errors = ((pinned_points - target_points)**2).mean(axis=-1)\n",
    "    error_scale = 1\n",
    "    errors = (error_scale/r.std())*np.clip(raw_errors, 0, (r.std()/error_scale))\n",
    "    base_color = np.array([.7, .7, .7, 1.])\n",
    "    error_color = np.array([1., 0., 0., 1.])\n",
    "    error_colors = error_color.reshape((1, -1)) * errors.reshape((-1, 1)) + base_color.reshape((1, -1)) * (1 - errors.reshape((-1, 1)))\n",
    "    error_colors = error_colors.clip(0, 1)\n",
    "\n",
    "    # Validation colors\n",
    "    val_colors = np.zeros_like(error_colors)\n",
    "    val_colors[val_mask, 2] = 1.\n",
    "    val_colors[val_mask, -1] = 1.\n",
    "\n",
    "    # Mean errors\n",
    "    mean_train_error = raw_errors[train_mask].mean()\n",
    "    mean_val_error = raw_errors[val_mask].mean()\n",
    "\n",
    "    # Create figure\n",
    "    fig, ax = plt.subplots(1, 1, figsize=(4, 4), layout='constrained')\n",
    "    ax.scatter(*pinned_points[..., :2].T, s=7, linewidth=.4, c=error_colors, edgecolors=val_colors)  # First two dims\n",
    "    # Stylize\n",
    "    ax.spines[['right', 'top']].set_visible(False)\n",
    "    ax.set_title(f'Train ({mean_train_error:.3f}), Val ({mean_val_error:.3f})')\n",
    "    return fig\n"
   ]
  },
  {
   "cell_type": "markdown",
   "id": "26977138",
   "metadata": {},
   "source": [
    "# Feature Perturbation"
   ]
  },
  {
   "cell_type": "code",
   "execution_count": 14,
   "id": "dcf10273",
   "metadata": {
    "execution": {
     "iopub.execute_input": "2025-06-22T16:57:24.077105Z",
     "iopub.status.busy": "2025-06-22T16:57:24.076937Z",
     "iopub.status.idle": "2025-06-22T16:57:24.103632Z",
     "shell.execute_reply": "2025-06-22T16:57:24.103136Z"
    }
   },
   "outputs": [],
   "source": [
    "def test_knockdown(steady_state, modality, features, factor=0, max_steps=1_000):\n",
    "    global discrete\n",
    "\n",
    "    # Set up env\n",
    "    env.reset(resample=False, renoise=False)\n",
    "    env.compute_rewards = False\n",
    "    # env.vel_threshold = 1e-2\n",
    "    if env.spherical: env.vel_threshold = steady_state[:, dim:].norm(dim=-1).mean().to(env.device)  # Max steady state velocity * coef, 5e-2 also works well\n",
    "    else: env.vel_threshold = steady_state[:, dim:].square().mean(dim=-1).mean().to(env.device)  # np.maximum(1.5 * steady_state[:, dim:].square().mean(dim=-1), np.array(1e-2)).to(env.device)\n",
    "    env.end_timesteps = max_steps\n",
    "    env.set_termination_conds(min_time=False, max_time=True, random=False, velocity=True)\n",
    "    env.set_positions(steady_state[:, :dim].to(env.device))\n",
    "    env.set_velocities(steady_state[:, dim:].to(env.device))\n",
    "    # Knock down feature\n",
    "    adatas, adata_obs, adata_vars = env.dataloader.get_transformables()\n",
    "    iso_modality = env.dataloader.preprocessing.transform(\n",
    "        adatas[modality][env.keys].X,\n",
    "        subset_features=features,\n",
    "        subset_modality=modality)[0]\n",
    "    iso_modality = torch.tensor(iso_modality).to(env.device)\n",
    "    env.modalities[modality] -= iso_modality - factor*iso_modality\n",
    "    # Simulate\n",
    "    ret = celltrip.train.simulate_until_completion(env, policy, store_states=True)\n",
    "    if env.finished()[1] == 'max_time': warnings.warn('Feature knockdown timeout')\n",
    "    # Reset\n",
    "    env.modalities[modality] += iso_modality - factor*iso_modality\n",
    "    env.compute_rewards = True\n",
    "    return ret[-1].cpu().numpy()  # States\n"
   ]
  },
  {
   "cell_type": "markdown",
   "id": "e5fe036e",
   "metadata": {},
   "source": [
    "## Butterfly Plot"
   ]
  },
  {
   "cell_type": "code",
   "execution_count": 15,
   "id": "0fd399c9",
   "metadata": {
    "execution": {
     "iopub.execute_input": "2025-06-22T16:57:24.105524Z",
     "iopub.status.busy": "2025-06-22T16:57:24.105365Z",
     "iopub.status.idle": "2025-06-22T16:57:24.135643Z",
     "shell.execute_reply": "2025-06-22T16:57:24.135230Z"
    }
   },
   "outputs": [],
   "source": [
    "def butterfly_plot(df, gene_lists, gene_list_keys=['Neuron Projection Guidance', 'Neuron Migration']):\n",
    "    # TODO: Add legends!\n",
    "    # Butterfly plot\n",
    "    # https://geoffruddock.com/notebooks/data-viz/butterfly-charts/\n",
    "    # sns.barplot(data=df, x='Gene', y='Effect Size')\n",
    "    y, x1, x2 = df['Feature Name'].to_numpy(), df['Variance'].to_numpy(), df['Effect Size'].to_numpy()\n",
    "    fig, (ax1, ax2) = plt.subplots(\n",
    "        1, 2, figsize=(9, 6),\n",
    "        subplot_kw={'yticks': []},\n",
    "        gridspec_kw={'wspace': .25})\n",
    "    ax1.barh(y=y, width=x1, color='gray', edgecolor='gray')\n",
    "    ax1.invert_xaxis()\n",
    "    ax1.set_xscale('log')\n",
    "    ax1.set_title('Log Variance')\n",
    "\n",
    "    ax2.barh(y=y, width=x2, color='gray', edgecolor='gray')\n",
    "    ax2.set_title('Effect Size')\n",
    "\n",
    "    # Formatting\n",
    "    for ax in (ax1, ax2):\n",
    "        ax.spines['left'].set_visible(False)\n",
    "        ax.spines['right'].set_visible(False)\n",
    "        ax.spines['top'].set_visible(False)\n",
    "        ax.spines['bottom'].set_visible(False)\n",
    "        ax.tick_params(axis='x', which='both', length=0)\n",
    "        ax.set_xticks([])  # Revise\n",
    "        ax.margins(y=0)\n",
    "\n",
    "    # Labels\n",
    "    trans = mpltrans.blended_transform_factory(fig.transFigure, ax1.transData)\n",
    "    for i in range(len(y)-1, -1, -7):\n",
    "        ax1.text(0.5+.01, i, y[i], fontsize='x-small', ha='center', va='center', transform=trans)\n",
    "        # ax1.patches[i].set(facecolor='red', edgecolor='red', zorder=2.1)\n",
    "    for i, tlen in enumerate(df['Trajectory Length']):\n",
    "        cmap = mpl.colormaps.get_cmap('winter')\n",
    "        color = cmap((tlen-df['Trajectory Length'].min())/(df['Trajectory Length'].max()-df['Trajectory Length'].min()))\n",
    "        ax2.patches[i].set(facecolor=color, edgecolor=color)\n",
    "    for i, gene in enumerate(y):\n",
    "        # TODO: Make this more general\n",
    "        npg = gene in gene_lists[gene_list_keys[0]]\n",
    "        nm = gene in gene_lists[gene_list_keys[1]]\n",
    "        color = None\n",
    "        if npg and nm: color='lightgreen'\n",
    "        elif npg: color='lightblue'\n",
    "        elif nm: color='yellow'\n",
    "        if color is not None:\n",
    "            ax1.patches[i].set(facecolor=color, edgecolor=color, zorder=2.1)\n",
    "    for i in np.argsort(df['Effect Size'])[-3:]:\n",
    "        ax2.text(.97*x2[i], i, df['Feature Name'].iloc[i], fontsize='x-small', ha='right', va='bottom', transform=ax2.transData)\n",
    "\n",
    "    return fig\n"
   ]
  },
  {
   "cell_type": "markdown",
   "id": "dc1759f0",
   "metadata": {},
   "source": [
    "## Velocity Plots"
   ]
  },
  {
   "cell_type": "code",
   "execution_count": 16,
   "id": "71d5799d",
   "metadata": {
    "execution": {
     "iopub.execute_input": "2025-06-22T16:57:24.137369Z",
     "iopub.status.busy": "2025-06-22T16:57:24.137199Z",
     "iopub.status.idle": "2025-06-22T16:57:24.169308Z",
     "shell.execute_reply": "2025-06-22T16:57:24.168878Z"
    }
   },
   "outputs": [],
   "source": [
    "def plot_trajectory(source_states, types, *, ax):\n",
    "    # Get pinned trajectories\n",
    "    pinned_states = source_states[..., :2]  # Could add UMAP or PCA here instead of limiting to first two\n",
    "\n",
    "    # Take means by regions\n",
    "    # TODO: Takes really long\n",
    "    square_size = max([pinned_states[:, i].max()-pinned_states[:, i].min() for i in range(2)]) / 20.\n",
    "    xs, ys = np.meshgrid(\n",
    "        np.arange(pinned_states[:, :, 0].min(), pinned_states[:, :, 0].max(), square_size),\n",
    "        np.arange(pinned_states[:, :, 1].min(), pinned_states[:, :, 1].max(), square_size))\n",
    "    xs, ys = xs.flatten(), ys.flatten()\n",
    "    mean_states = []\n",
    "    for x, y in zip(xs, ys):\n",
    "        state = pinned_states[0]\n",
    "        bottom_left = np.array([x, y])\n",
    "        top_right = bottom_left + square_size\n",
    "        mask = (state >= bottom_left) * (state < top_right)\n",
    "        mask = mask.prod(axis=-1).astype(bool)\n",
    "        if mask.sum() > 0:\n",
    "            mean_states.append(pinned_states[:, mask].mean(axis=1, keepdims=True))\n",
    "    mean_states = np.concatenate(mean_states, axis=1)\n",
    "    states_to_use = mean_states\n",
    "\n",
    "    # Use raw trajectories\n",
    "    # states_to_use = pinned_states\n",
    "\n",
    "    # Plot original\n",
    "    for l in np.unique(types):\n",
    "        ax.scatter(*pinned_states[0, types==l].T, label=l, s=5, alpha=.1)\n",
    "\n",
    "    # Get most interesting arrows\n",
    "    total_movement = np.linalg.norm(states_to_use[1:] - states_to_use[:-1], ord=2, axis=-1).sum(axis=0)\n",
    "    num_top = 50\n",
    "    top_arrows = np.argsort(total_movement)[-num_top:]\n",
    "\n",
    "    # Plot movement\n",
    "    for i in top_arrows:\n",
    "        # Filter to non-small movements\n",
    "        threshold = 5e-3\n",
    "        moving_pos_mask = []\n",
    "        prev_pos = None\n",
    "        for pos in states_to_use[:, i]:\n",
    "            if prev_pos is None:\n",
    "                moving_pos_mask.append(True)\n",
    "                prev_pos = pos.copy()\n",
    "                continue\n",
    "\n",
    "            # Calculate dist\n",
    "            dist = np.linalg.norm(pos - prev_pos, ord=2, axis=-1)\n",
    "\n",
    "            # Record\n",
    "            moving_pos_mask.append(dist > threshold)\n",
    "            if moving_pos_mask[-1]: prev_pos = pos\n",
    "\n",
    "        # Get moving states\n",
    "        moving_states = states_to_use[moving_pos_mask, i]\n",
    "\n",
    "        # Skip if too short\n",
    "        if moving_states.shape[0] < 2: continue\n",
    "\n",
    "        # Compute total movement\n",
    "        start_pos = moving_states[0]\n",
    "        end_pos = moving_states[-1]\n",
    "        diff_pos = end_pos - start_pos\n",
    "        r = (diff_pos**2).sum(axis=-1)**(1/2)\n",
    "        theta = np.arctan2(diff_pos[1], diff_pos[0])\n",
    "        # Aggregate colors\n",
    "        hue = theta / (2*np.pi) + .5\n",
    "        value = .4 + .2 * min(r / .1, 1.)\n",
    "        saturation = .8\n",
    "        color = colorsys.hsv_to_rgb(hue, saturation, value)\n",
    "\n",
    "        # Plot lines\n",
    "        ax.plot(*moving_states.T, color=color)\n",
    "\n",
    "        # Plot arrow heads\n",
    "        lookback_frames = max(int(.1*moving_states.shape[0]), 1)\n",
    "        start_pos = moving_states[-(lookback_frames+1)]\n",
    "        end_pos = moving_states[-1]\n",
    "        diff_pos = end_pos - start_pos\n",
    "        # origin = square_size * np.floor(start_pos / square_size) + square_size / 2\n",
    "        ax.arrow(*start_pos, *diff_pos, width=0, head_width=.05, color=color)\n",
    "\n",
    "    # Styling\n",
    "    ax.set(xticklabels=[], xticks=[], yticklabels=[], yticks=[])\n",
    "    ax.spines[['right', 'top', 'bottom', 'left']].set_visible(False)\n"
   ]
  },
  {
   "cell_type": "markdown",
   "id": "b7fb266b",
   "metadata": {},
   "source": [
    "# Gene Lists"
   ]
  },
  {
   "cell_type": "code",
   "execution_count": 17,
   "id": "15f320b1",
   "metadata": {
    "execution": {
     "iopub.execute_input": "2025-06-22T16:57:24.171099Z",
     "iopub.status.busy": "2025-06-22T16:57:24.170921Z",
     "iopub.status.idle": "2025-06-22T16:57:24.214034Z",
     "shell.execute_reply": "2025-06-22T16:57:24.213587Z"
    }
   },
   "outputs": [],
   "source": [
    "# Genes associated with 'neuron migration' (https://amigo.geneontology.org/amigo/search/bioentity?q=*%3A*&fq=isa_partof_closure:%22GO%3A0001764%22&sfq=document_category:%22bioentity%22)\n",
    "gene_lists = {}\n",
    "gene_lists['Neuron Migration'] = ['DCDC2', 'TUBB', 'ASTN2', 'DCC', 'KIAA0319L', 'ASTN2', 'DCC', 'SDCCAG8', 'FNDC1', 'ABI3', 'abi2', 'ASTN2', 'ABI1', 'ASTN2', 'KIAA0319', 'astn1.L', 'dab1.L', 'DCC', 'RELN', 'NEO1', 'DCDC2', 'NEO1', 'SDCCAG8', 'kiaa0319l.S', 'ABI2', 'LOC108700444', 'abi3.L', 'kiaa0319.S', 'NEMVEDRAFT_v1g148795', 'dcdc2.L', 'A0A7M7PLG8', 'NEMVEDRAFT_v1g99701', 'ABI1', 'astn1.S', 'LOC108699478', 'NEMVEDRAFT_v1g201627', 'NEO1', 'DCDC2', 'NEMVEDRAFT_v1g19347', 'NEMVEDRAFT_v1g241205', '1278655', 'AUGUSTUS-3.0.2_31053', 'AUGUSTUS-3.0.2_04237', 'ASTN1', 'neo1', 'TRIADDRAFT_28661', 'TRIADDRAFT_53937', 'ASTN2', 'LOC108698296', 'TUBB2B', 'abi1.S', 'KIAA0319', 'ABI1', 'TRIADDRAFT_57221', 'VEGFA', 'VEGFA', 'POMGNT2', 'pomgnt2', 'pomgnt2', 'SEPTIN4', 'SPOCK1', 'SPOCK1', 'SEPTIN4', 'SPOCK1', 'SPOCK1', 'DNAAF4', 'Q5ISK2', 'LHX1', 'LHX1', 'Lhx1', 'CCK', 'DNAAF4', 'TUBGCP2', 'FYN', 'DNAAF4', 'DNAAF4', 'RAC1', 'Q6PVU4', 'VEGFA', 'FGF13', 'GPM6A', 'G1N7F0', 'VEGFA', 'SH3RF1', 'CCK', 'SPOCK1', 'NRCAM', 'ASCL1', 'PEX5', 'CRK', 'neo1a', 'cxcr4b', 'kiaa0319', 'neo1b', 'rest', 'dab1a', 'abi3b', 'prickle1a', 'abi1a', 'ackr3b', 'trim46a', 'nhsl1b', 'nav1a', 'cxcl12b', 'egl-20', 'tbx-2', 'olig2', 'hgfb', 'hgfa', 'met', 'vangl2', 'kiaa0319l', 'cxcl12a', 'pbx4', 'abi2a', 'astn1', 'dab1b', 'sh3rf1', 'abi1b', 'scrib', 'hdac1', 'sdccag8', 'abi2b', 'prickle1b', 'nav1b', 'sax-3', 'rac-2', 'ptp-3', 'KIAA0319L', 'fgf13.L', 'abi1', 'dab1', 'sdccag8', 'pomgnt2.L', 'pomgnt2', 'abi2', 'kiaa0319', 'dcdc2', 'sh3rf1.S', 'nid-1', 'slt-1', 'nav1', 'cle-1', 'C34F6.10', 'cwn-1', 'cwn-2', 'Rac1', 'dcx.S', 'dcx.L', 'lhx1a', 'cdh2', 'reln', 'ndnf', 'ctnnd2b', 'abi3a', 'lama1', 'trim46b', 'supt5h', 'dcc', 'cdh1', 'disc1', 'dcc', 'BAX', 'GFRA3', 'MARK1', 'SH3RF1', 'POU4F1', 'TUBB2B', 'MARK2', 'SRF', 'YWHAE', 'ABI3', 'VEGFA', 'PTK2B', 'EVX1', 'GPM6A', 'LHX1', 'PLXNA1', 'RAC1', 'PEX13', 'DCX', 'UNK', 'PSEN1', 'TLX3', 'DRGX', 'TBX20', 'POU4F1', 'GATA3', 'DISC1', 'NDEL1', 'DCX', 'GAS6', 'PCM1', 'NDNF', 'TOP2B', 'NEUROD4', 'CNTN2', 'BBS1', 'ASTN2', 'DRGX', 'RAPGEF2', 'CRKL', 'CTNNB1', 'TRIM46', 'FZD3', 'ACAP3', 'LHX1', 'APBB2', 'PITX2', 'FEZF2', 'ELP3', 'BARHL2', 'CCKAR', 'FBXO45', 'CELSR1', 'BAX', 'APBB2', 'KIAA0319', 'RELN', 'ASTN1', 'KIAA0319L', 'SEMA3E', 'EMX2', 'PSEN1', 'CCR4', 'NDN', 'A0A8I3NGQ0', 'VEGFA', 'ASCL1', 'TWIST1', 'ALKBH1', 'WASF2', 'SRF', 'CHL1', 'ZMIZ1', 'ITGA3', 'TLX3', 'RAPGEF2', 'NR2F2', 'CEP85L', 'ACAP3', 'WASF2', 'NDNF', 'PLXNA3', 'NTN1', 'TUBA1A', 'RELN', 'ALKBH1', 'FKRP', 'CELSR2', 'CCR4', 'PEX5', 'DRD2', 'SEMA3E', 'TWIST1', 'ATOH1', 'SH3RF1', 'LRP12', 'MYH10', 'DAB1', 'SEMA3A', 'SEPTIN4', 'EMX2', 'FBXO45', 'KIAA0319', 'CCKAR', 'KIAA0319L', 'MATN2', 'GAS6', 'POMGNT2', 'NR4A2', 'POU4F1', 'FBXO41', 'SRF', 'ELP3', 'NTRK2', 'FOXG1', 'TYRO3', 'KIRREL3', 'NRP2', 'EVX1', 'BARHL2', 'RAPGEF2', 'ROBO3', 'CCK', 'MRTFA', 'DRGX', 'CELSR1', 'FILIP1', 'MDGA1', 'CNTN2', 'TOP2B', 'NDN', 'ELP3', 'A0AAF6ZA83', 'NEUROD4', 'PHOX2B', 'ASTN1', 'ARX', 'CRKL', 'TBX20', 'PLXNA1', 'BARHL1', 'DCC', 'FEZF1', 'VAX1', 'BBS1', 'POMGNT2', 'PCM1', 'NDEL1', 'PTK2B', 'DCX', 'TRIM46', 'CDK5R2', 'RHOA', 'CNTN2', 'FYN', 'FAT3', 'CDK5R2', 'RELN', 'ASPM', 'LHX1', 'DCDC2', 'CTNNB1', 'LHX1', 'CEP85L', 'FGF13', 'PCM1', 'FBXO41', 'ACAP3', 'NDNF', 'PSEN1', 'DISC1', 'MKL1', 'ARX', 'TWIST1', 'CCK', 'PAFAH1B1', 'OLIG3', 'PEX13', 'TBX20', 'TOP2B', 'FEZF1', 'CCK1R', 'FZD3', 'MYH10', 'MDGA1', 'POMGNT2', 'PHOX2B', 'BARHL2', 'RAC1', 'NR2F2', 'PRKG1', 'FYN', 'GFRA3', 'ASTN1', 'ASTN2', 'GPM6A', 'GFRA3', 'KIAA0319', 'CDK5R1', 'VEGFA', 'PEX13', 'MATN2', 'CDK5', 'SEPTIN14', 'FBXO45', 'RAC1', 'CHL1', 'FEZF2', 'ITGA3', 'GATA3', 'BBS4', 'P32882', 'ASTN2', 'BARHL1', 'A0A8V0ZCB7', 'Atoh1', 'FYN', 'RAC1', 'VEGFA', 'NTRK2', 'ABI3', 'SOX1', 'NTRK2', 'KIRREL3', 'SRF', 'LRP12', 'EVX1', 'ASCL1', 'UNK', 'CELSR1', 'SDCCAG8', 'NEO1', 'BBS4', 'PTK2B', 'ALKBH1', 'NRP2', 'FBXO45', 'EOMES', 'RELN', 'FEZF2', 'PTK2', 'SATB2', 'CELSR2', 'P09203', 'ROBO3', 'POU4F1', 'FOXG1', 'PAX6', 'VAX1', 'ABI2', 'A0A8V0XW03', 'ITGA3', 'SCAR', 'MDGA1', 'RAPGEF2', 'LOC121108177', 'PEX5', 'NR4A2', 'GAS6', 'DRD2', 'DAB1', 'CHL1', 'FILIP1', 'TLX3', 'GATA3', 'Q90610', 'TUBGCP2', 'AXL', 'NKX2-1', 'ZMIZ1', 'PEX7', 'GPM6A', 'DCX', 'LARGE1', 'NTN1', 'WASF2', 'SEMA3E', 'KIAA0319', 'NAV1', 'Top2b', 'Ctnnb1', 'Plxna3', 'Pcm1', 'Srf', 'Pomgnt2', 'Neo1', 'Nkx2-1', 'Dnaaf4', 'Mnx1', 'Septin14', 'Barhl2', 'Evx1', 'Ccr4', 'Gfra3', 'Auts2', 'Ndnf', 'Neurog2', 'Fbxo41', 'Axl', 'Astn2', 'Tnn', 'Mrtfa', 'Drd1', 'Tubb2b', 'Lmx1b', 'Tbx20', 'Ptk2', 'Unk', 'Dcx', 'Barhl1', 'Tlx3', 'Pax6', 'Tubgcp2', 'Sema3a', 'Cxcl12', 'Mark2', 'Drd1', 'Katna1', 'Cckar', 'Mef2c', 'Fbxo45', 'Pcdha', 'Aspm', 'Kirrel3', 'Dnaaf4', 'Ptk2', 'Evx1', 'Ddit4', 'Emx2', 'Lrp12', 'Chl1', 'Gfra3', 'Fgf13', 'Tubgcp2', 'Septin14', 'Elp3', 'Fezf2', 'Nav1', 'Dclk1', 'Cdk5r2', 'Gja1', 'Axl', 'Fbxo41', 'Gata3', 'Gata2', 'Gas6', 'Fyn', 'Barhl2', 'Pomgnt2', 'Ywhae', 'Usp9x', 'Bbs4', 'Tnn', 'Acap3', 'Zmiz1', 'Eomes', 'Ndel1', 'Twist1', 'Ywhae', 'Arx', 'Met', 'Wasf2', 'Mapk8', 'Acap3', 'Kiaa0319', 'Sema3e', 'Satb2', 'Disc1', 'Lhx1', 'Bax', 'Fkrp', 'Tlx3', 'Rapgef2', 'Nrg1', 'Nkx2-1', 'Pex5', 'Plxna1', 'Plxna3', 'Gpm6a', 'Mdga1', 'Abi1', 'Ptk2b', 'Wasf2', 'Ndel1', 'Astn1', 'Dcdc2', 'Itga3', 'Kiaa0319', 'Met', 'Ascl1', 'Mdga2', 'Ntrk2', 'Ntrk3', 'Hsp90aa1', 'Bbs1', 'Tbx20', 'Dcx', 'Vax1', 'Adgrl3', 'Prkg1', 'Cntn2', 'Elp3', 'Prkg1', 'Sh3rf1', 'Pitx2', 'Aspm', 'Pex13', 'Nde1', 'Olig3', 'Trim46', 'Neurod4', 'Cdk5', 'Abi2', 'Dab1', 'Ptk2b', 'Drgx', 'Lhx6', 'Lrp12', 'Nr2f2', 'Mapt', 'Tyro3', 'Dcc', 'Alkbh1', 'Fbxo45', 'Ntrk2', 'Bbs4', 'Nr4a2', 'Celsr2', 'Spock1', 'Filip1', 'Drd2', 'Esr2', 'Hsp90aa1', 'Nav1', 'Apbb1', 'Pex5', 'Disc1', 'Gpm6a', 'Vax1', 'Ulk1', 'Cxcr4', 'Cdk5r2', 'Neo1', 'Foxg1', 'Sema3a', 'Pex13', 'Tubb2a', 'Ccr4', 'Dubr', 'Ndnf', 'Apbb1', 'Pafah1b1', 'Mapk8', 'Psen1', 'Barhl1', 'Srf', 'Mrtfa', 'Mapt', 'Lmx1b', 'Tyro3', 'Rhoa', 'Nrp1', 'Emx2', 'Ntn1', 'Arx', 'Cdk5r1', 'Zmiz1', 'mig-21', 'mig-10', 'mig-5', 'mig-2', 'mig-1', 'hlh-14', 'lin-44', 'lin-18', 'lin-17', 'hch-1', 'Pcm1', 'Sox1', 'Robo3', 'Twist1', 'Tuba1a', 'Alkbh1', 'Lhx6', 'Cck', 'Olig3', 'Astn2', 'Nr2f2', 'Cdkl5', 'Abi2', 'Nde1', 'Ctnnb1', 'Cep85l', 'Mark1', 'Crk', 'Nrp1', 'Top2b', 'Sdccag8', 'CELSR2', 'CDK5R2', 'EMX2', 'USP9X', 'APBB2', 'NTRK2', 'PTK2B', 'KIAA0319L', 'CDC25C', 'Pex2', 'Drgx', 'Ntn1', 'Dab1', 'Cdk5', 'Cdk5r1', 'Fzd3', 'Apbb2', 'Mrtfb', 'Sema3e', 'Ndn', 'Spock1', 'Filip1', 'Rac1', 'Neurod4', 'Auts2', 'Nrp2', 'Septin4', 'Ulk1', 'Pax6', 'Large1', 'Celsr1', 'Phox2b', 'Nr4a2', 'Nr2f1', 'Pcnt', 'Myh10', 'Esr2', 'Mnx1', 'Drd2', 'Vegfa', 'Dcc', 'Cxcl12', 'Cep85', 'Neurog2', 'Matn2', 'Cxcr4', 'Fktn', 'Tubb2b', 'Unk', 'Sema6a', 'Celsr3', 'Celsr2', 'Pitx2', 'Reln', 'Fezf1', 'Sh3rf1', 'FBXO41', 'NEUROD4', 'FILIP1', 'PLXNA1', 'Abi3', 'Trim46', 'CRKL', 'ARX', 'NRP2', 'GPM6A', 'MATN2', 'RAPGEF2', 'PAFAH1B1', 'SRF', 'BARHL2', 'ROBO3', 'CHL1', 'PEX7', 'CNTN2', 'VEGFA', 'TUBGCP2', 'NKX2-1', 'NR2F2', 'NRP1', 'PCM1', 'KIAA0319', 'SDCCAG8', 'ASTN1', 'FOXG1', 'DRGX', 'GAS6', 'POU4F1', 'Pou4f1', 'Col3a1', 'Fat3', 'Kiaa0319l', 'Satb2', 'Atoh1', 'Cntn2', 'Pex7', 'Crkl', 'ABI1', 'DRD1', 'BARHL1', 'NEUROD4', 'FEZF1', 'CCR4', 'RELN', 'RHOA', 'ADGRL3', 'NDNF', 'FGFR1', 'NRP2', 'CDKL5', 'LHX1', 'DDIT4', 'TUBB2A', 'CDK5', 'TRIM46', 'ASTN2', 'RAPGEF2', 'USP9X', 'EOMES', 'WASF2', 'DCDC2', 'LARGE1', 'NTRK3', 'TOP2B', 'DNER', 'NTN1', 'MDGA1', 'BBS1', 'UNK', 'ASCL1', 'DISC1', 'OLIG3', 'SOX1', 'ADGRL3', 'EMX2', 'BBS4', 'DRD2', 'NTN1', 'CDK5R1', 'TLX3', 'CEP85L', 'PTK2B', 'BARHL1', 'VAX1', 'SATB2', 'FKRP', 'CELSR2', 'DCC', 'NRP2', 'SDCCAG8', 'A0A8I3PZM2', 'VEGFA', 'CDK5', 'EVX1', 'ATOH1', 'RHOA', 'ASPM', 'TUBB2A', 'RELN', 'CRK', 'CTNNB1', 'SDCCAG8', 'DRD2', 'CELSR1', 'ABI2', 'NR2F2', 'HSP90AA1', 'SATB2', 'ARX', 'BARHL2', 'NDE1', 'FKRP', 'ACAP3', 'BBS4', 'SEMA3E', 'NDEL1', 'FOXG1', 'FILIP1', 'DISC1', 'TYRO3', 'MEF2C', 'LHX6', 'ROBO3', 'NTRK2', 'CXCL12', 'TBX20', 'FZD3', 'POMGNT2', 'DAB1', 'DCDC2', 'LOC118410034', 'TUBGCP2', 'VAX1', 'SPOCK1', 'SEPTIN14', 'CRKL', 'CRK', 'WASF2', 'MRTFA', 'CTNNB1', 'SATB2', 'TBX20', 'EVX1', 'RHOA', 'DCC', 'PLXNA3', 'TRIM46', 'ASTN2', 'TYRO3', 'CDK5R1', 'SEMA3E', 'RELN', 'CNTN2', 'ELP3', 'DCC', 'ZMIZ1', 'OLIG3', 'NRP1', 'PLXNA1', 'KIRREL3', 'MATN2', 'RAC1', 'FAT3', 'GPM6A', 'PEX7', 'TWIST1', 'CCK', 'CEP85L', 'FEZF2', 'SOX1', 'CHL1', 'TUBA1A', 'FYN', 'PHOX2B', 'PAX6', 'PCM1', 'MAP1B', 'ASPM', 'PEX13', 'PITX2', 'FGF13', 'NDN', 'KIAA0319L', 'APBB2', 'NEO1', 'ATOH1', 'FBXO41', 'CDK5R1', 'NDNF', 'KIRREL3', 'ATOH1', 'UNK', 'MDGA1', 'DCX', 'GATA3', 'FBXO45', 'CCK', 'OLIG3', 'ALKBH1', 'LHX1', 'ITGA3', 'VAX1', 'PHOX2B', 'FEZF1', 'BARHL1', 'BAX', 'TLX3', 'BBS4', 'FZD3', 'LRP12', 'PSEN1', 'BBS1', 'CELSR1', 'ZMIZ1', 'COL3A1', 'ITGA3', 'VEGFA', 'AXL', 'SOX1', 'NR4A2', 'TWIST1', 'CEP85L', 'ASCL1', 'CTNNB1', 'ASTN1', 'GATA3', 'GATA2', 'AUTS2', 'PRKG1', 'DNAAF4', 'PAFAH1B1', 'CELSR2', 'CDK5R2', 'NKX2-1', 'AXL', 'NAV1', 'ALKBH1', 'NR4A2', 'PLXNA3', 'MDGA1', 'CCK', 'FBXO41', 'DDIT4', 'COL3A1', 'GJA1', 'MYH10', 'FILIP1', 'PHOX2B', 'CCKAR', 'DISC1', 'FEZF2', 'FKRP', 'CCR4', 'PITX2', 'ELP3', 'CG45105', 'CG7565', 'Hem', 'Abi', 'Abl', 'fra', 'robo2', 'sli', 'NEO1', 'A0A7M7NQ52', 'LOC118405512', 'LOC118403324', 'LOC118404640', 'A0A7M7N4S2', 'Cpe', 'Abi3', 'Fat3', 'Bax', 'Eomes', 'Pex2', 'Vegfa', 'Fyn', 'Rapgef2', 'Gja1', 'Mark2', 'Tubb2a', 'Tuba1a', 'Col3a1', 'Myh10', 'Cep85l', 'Pafah1b1', 'Bbs1', 'Dclk1', 'Kirrel3', 'Crk', 'Mdga2', 'Phox2b', 'Cckar', 'Mef2c', 'Cdkl5', 'Cck', 'Foxg1', 'Crkl', 'Mark1', 'Fezf2', 'Robo3', 'Apbb2', 'Gas6', 'Large1', 'Nrp2', 'Rhoa', 'Adgrl3', 'Gata3', 'Katna1', 'Chl1', 'Fgf13', 'Dcdc2', 'Reln', 'Septin4', 'Fezf1', 'Sema6a', 'Gata2', 'Celsr3', 'Ddit4', 'Nr2f1', 'Atoh1', 'Sox1', 'Pou4f1', 'Abi1', 'Fzd3', 'Astn1', 'Sdccag8', 'Celsr1', 'Usp9x', 'Ntrk3', 'Matn2', 'Pcnt', 'Ascl1', 'Lhx1', 'Nrg1', 'Psen1', 'Itga3', 'Kiaa0319l', 'Mdga1', 'Plxna1', 'Mrtfb', 'Ndn', 'Fkrp', 'Pex7', 'reln.L', 'reln', 'abi-1', 'vab-8', 'mom-5', 'mom-2', 'astn2', 'lhx1.L', 'dcx', 'dclk1.S', 'sh3rf1', 'pix-1', 'cfz-2', 'ceh-10', 'ced-10', 'reln', 'abi3', 'abi2', 'astn1', 'neo1', 'met', 'kal-1', 'egl-5', 'eor-2', 'wve-1', 'cam-1', 'ndnf.L', 'ndnf', 'ina-1', 'igsf10', 'cntn2', 'cars2', 'pomgnt2', 'adgra3', 'rin-1', 'gpn-1', 'epi-1', 'eor-1', 'unc-73', 'ham-1', 'egl-46', 'unc-40', 'unc-39', '20213036', '20216554', 'LOC101175519', 'astn1', 'disc1', 'NAV1', '20199508', 'LOC101154974', 'LOC101170217', 'LOC118406049', 'TUBB2B', 'ABI3', 'DISC1', 'NAV1', 'G3QUU8', 'SDCCAG8', 'DCC', 'kiaa0319l.L', 'nav1', 'kiaa0319l', 'ASTN2', 'A0A1S4GEK7', 'A0A1S4GYU4', 'TRIM46', 'DCC', 'RELN', 'ASTN1', 'dcc.L', 'TUBB2B', 'TRIM46', 'AUGUSTUS-3.0.2_00412', 'NAV1', 'ASTN1', 'DAB1', 'DCC', 'ASTN1', 'abi-1', 'H9GUP6', 'H9GE89', 'KIAA0319L', 'DAB1', 'DCC', 'RELN', 'ABI3', 'TRIM46', 'ASTN2', 'DISC1', 'ASTN2', 'DAB1', 'ABI3', 'NEMVEDRAFT_v1g16598', 'WBGene00113211', 'WBGene00096431', 'NAV1', 'ABI2', 'A0A6I8N291', 'A0A6I8N274', 'ASTN1', 'ASTN2', 'NEMVEDRAFT_v1g200797', 'DCDC2', 'W5MU85', 'dcc.S', 'W5MWA1', 'RELN', 'W5NE82', 'W5NCS2', 'neo1.L', 'ASTN2', 'DAB1', 'sdccag8', 'ABI3', 'sdccag8', 'NEO1', 'RELN', 'DAB1', 'LOC101172441', 'LOC101160671', 'ABI1', 'DCDC2', 'KIAA0319', 'abi3', 'ABI2', 'TRIM46', 'KIAA0319L', 'DAB1', 'A0A803T428', 'ASTN1', 'A0A803T5R8', 'DISC1', 'DAB1', 'RELN', 'W5N6C1', 'NAV1', 'W5NFT5', 'ABI1', 'ABI2', 'RELN', 'F6U144', 'DISC1', 'ASTN1', 'NAV1', 'F6URK3', 'DCDC2', 'KIAA0319', 'LOC118412265', 'KIAA0319L', 'ASTN1', 'DAPPUDRAFT_219990', 'DAPPUDRAFT_232691', 'A0A453Z0A6', 'DCDC2', 'ABI1', 'TRIM46', 'A0A7M7PS40', 'KIAA0319', 'DAPPUDRAFT_197333', 'DAPPUDRAFT_200276', 'DAPPUDRAFT_308744', 'NEMVEDRAFT_v1g206838', 'NEO1', 'ABI3', 'AUGUSTUS-3.0.2_06065', 'kiaa0319l', 'DISC1', 'SDCCAG8', 'DAB1', 'NEO1', 'ABI1', 'NEO1', 'A0A6I8N942', 'dcdc2.S', 'DAB1', 'LOC108700042', 'LOC108702367', 'nav1.L', 'abi2.S', 'dab1.S', 'KIAA0319L', 'RELN', 'DCDC2', 'reln.L', 'neo1.S', 'DAB1', 'LOC108718781', 'ABI2', 'ASTN2', 'ABI2', 'A0A1S4GR64', 'TUBB2B', 'RELN', 'NAV1', 'DCDC2', 'ABI1', 'ABI1', 'RELN', 'DISC1', 'A0A5F8H3F2', 'TUBB2A', 'W5M2K8', 'W5LWA4', 'W5MFA0', 'abi2.L', 'LOC101173681', 'ASTN2', 'SDCCAG8', 'KIAA0319L', 'IscW_ISCW021393', 'NAV1', 'NAV1', 'SDCCAG8', 'A0A6I8PFT6', 'SDCCAG8', 'ABI2']\n"
   ]
  },
  {
   "cell_type": "code",
   "execution_count": 18,
   "id": "b6e4280b",
   "metadata": {
    "execution": {
     "iopub.execute_input": "2025-06-22T16:57:24.216175Z",
     "iopub.status.busy": "2025-06-22T16:57:24.215985Z",
     "iopub.status.idle": "2025-06-22T16:57:24.298766Z",
     "shell.execute_reply": "2025-06-22T16:57:24.298287Z"
    }
   },
   "outputs": [],
   "source": [
    "# Genes associated with 'neuron projection guidance'\n",
    "gene_lists['Neuron Projection Guidance'] = ['LOC101164837', 'LOC101171316', '20197511', 'LOC101156997', 'LOC101172801', 'EFNB3', 'WBGene00097384', 'SEMA6C', 'PTPRH', 'EPHB1', 'SEMA3E', 'DSCAML1', 'MEGF9', 'F7E4S6', 'LAMB3', 'EFNA4', 'SEMA6A', 'SEMA4B', 'MYOT', 'CXCL12', 'KIF5A', 'ENAH', 'SEMA3D', 'NRCAM', 'EPHB3', 'dgn-2', 'CDK5R2', 'LAMC3', 'SLIT1', 'CDK5R2', 'EFNA5', 'WBGene00278543', 'WBGene00094625', 'WBGene00097126', 'WBGene00097234', 'WBGene00097145', 'WBGene00106727', 'WBGene00098403', 'WBGene00110130', 'WBGene00099814', 'WBGene00110202', 'MEGF9', 'WBGene00277056', 'EPHA10', 'SLIT2', 'CNTN6', 'CNTN1', 'CBG16886', 'SEMA4F', 'EPHA7', 'RAC3', 'NEXN', 'CHN1', 'DCC', '1273768', 'EPHB6', 'EFNA3', 'UNC5D', 'SEMA6C', 'DAG1', 'IGSF9', 'SEMA5B', 'UNC5D', 'KIFC2', 'EPHB2', 'EPHA8', 'cdka-1', 'SEMA4C', 'ENAH', 'EPHB3', 'LAMB1', 'SEMA4B', 'SEMA4C', 'SEMA3A', 'DCC', 'CHL1', 'PLXNA3', 'CHN1', 'LAMA1', 'LAMA1', 'PTK7', 'LAMA3', 'unc-5', 'FNDC1', 'SEMA4F', 'UNC5D', 'SEMA7A', 'EFNB1', 'GAP43', 'smp-1', 'SLIT3', 'EFNB2', 'CNTN1', 'epha4-b', 'SLIT2', 'SMO', 'SEMA6B', 'SEMA3F', 'NEXN', 'PTPRH', 'CYFIP1', 'UNC5C', 'plxna1.L', 'ephb3', 'LAMA2', 'EPHA5', 'SEMA3B', 'LAMA5', 'KIF5C', 'LOC105354522', '20194509', 'LOC101155960', 'LOC101158765', 'LOC101160329', 'UNC5D', 'lamb1', 'emb', 'KIF5C', 'A0A1S4H013', 'A0A1S4H0S0', 'A0A1S4GWQ1', 'A0A1S4GWR5', 'A0A1S4GYX2', 'A0A1S4GSR7', 'A0A1S4H5Y8', 'A0A1S4H6F6', 'GAP43', 'LAMC2', 'LAMA2', 'L1CAM', 'SEMA4A', 'PTPRJ', 'EVL', 'NPTN', 'nptn.L', 'EFNA5', 'lamc1.L', 'lamc2.L', 'A0A7M7PMR3', 'A0A7M7PNG4', 'nexn.L', 'DCC', 'NCAM2', 'SEMA4B', 'EPHB3', 'GAP43', 'SLIT2', 'CDK5R1', 'NRCAM', 'UNC5A', 'SEMA3F', 'KIF5C', 'L1CAM', 'RTN4R', 'NEMVEDRAFT_v1g119462', 'NEMVEDRAFT_v1g118526', 'HMCN1', 'PLXNA4', 'NEO1', 'NEMVEDRAFT_v1g236436', 'KIF5A', 'SEMA3A', 'EPHA5', 'NEXN', 'F6VPC0', 'NEO1', 'UNC5C', 'SEMA7A', 'MYCBP2', 'UNC5A', 'NTN4', 'SEMA4G', 'SEMA4F', 'NRCAM', 'SEMA3D', 'SEMA6D', 'LOC118415977', 'A0A7M7PC46', 'myot.L', 'LOC108709728', 'ptpro.L', 'ntn3.L', 'nrp2.L', 'cdk5r2.L', 'LOC108701254', 'ntn1.L', 'ntn3.S', 'nrp2.S', 'ntn1.S', 'plxna3.L', 'efna1.S', 'sema6c.S', 'cdk5r1.L', 'LOC108718221', 'ephb1.S', 'cdk5r1.S', 'LOC108705354', 'A0A7M7T0G5', 'A0A1S4H280', 'A0A7M7PLI1', 'A0A7M7PMF8', 'PTPRO', 'SLIT1', 'NCAM1', 'L1CAM', 'SEMA4C', 'SEMA3E', 'A0A2I2ZA80', 'SEMA6C', 'UNC5D', 'SEMA4G', 'ankrd6.S', 'MYPN', 'enah.S', 'unc5b.L', 'sema4g.L', 'NPTN', 'LOC108695684', 'ntn5.S', 'LOC118404525', 'nrp1.L', 'XB5969698.S', 'sema3f.S', 'sema3b.S', 'dag1.S', 'lamc1.S', 'A0A7M7PTV1', 'A0A7M7PU83', 'LOC108697593', 'CYFIP2', 'SEMA6C', 'efna3.L', 'EPHA4', 'LOC108717159', 'LOC108717147', 'NEMVEDRAFT_v1g92220', 'NEO1', 'TUBB3', 'A0A7M7T3R7', 'SEMA6A', 'A0A7M7SVI9', 'A0A7M7N2A6', 'NEMVEDRAFT_v1g211047', 'NEMVEDRAFT_v1g244701', 'cntn1.S', 'NEMVEDRAFT_v1g187372', 'NEMVEDRAFT_v1g244064', 'UNC5B', 'smo.L', 'SEMA4B', 'NEMVEDRAFT_v1g208236', 'UNC5C', 'SEMA3A', 'plxna3.S', 'AUGUSTUS-3.0.2_04144', 'AUGUSTUS-3.0.2_04993', 'AUGUSTUS-3.0.2_31494', 'AUGUSTUS-3.0.2_32214', 'AUGUSTUS-3.0.2_03063', 'AUGUSTUS-3.0.2_31034', 'AUGUSTUS-3.0.2_34769', 'AUGUSTUS-3.0.2_33739', 'AUGUSTUS-3.0.2_33738', 'AUGUSTUS-3.0.2_10143', '1276139', 'A0A7M7HLT1', 'A0A7M7HLD6', 'AUGUSTUS-3.0.2_34393', 'AUGUSTUS-3.0.2_34392', 'AUGUSTUS-3.0.2_31807', 'AUGUSTUS-3.0.2_31794', 'AUGUSTUS-3.0.2_31782', 'AUGUSTUS-3.0.2_14773', '1271664', 'AUGUSTUS-3.0.2_02504', 'AUGUSTUS-3.0.2_32815', 'AUGUSTUS-3.0.2_07250', 'AUGUSTUS-3.0.2_32747', 'AUGUSTUS-3.0.2_33085', 'AUGUSTUS-3.0.2_07672', 'efn-2', 'A0A7M7HIG7', '1276933', 'PTPRO', 'AUGUSTUS-3.0.2_01449', 'AUGUSTUS-3.0.2_04237', 'AUGUSTUS-3.0.2_02285', 'EFNA1', 'LOC118407238', 'AUGUSTUS-3.0.2_04721', 'A0A7M7HFJ9', 'A0A7M7N841', 'LOC118403015', 'zig-1', 'LOC118409246', 'A0A7M7N1Y0', 'CHN1', 'A0A7M7N0N8', 'WBGene00276112', 'CNTN2', 'LOC101173079', 'neo1', 'A0A3B3IJ25', 'LOC101165761', 'A0A3B3IHG4', 'ptprh', 'LOC101171490', 'efnb1', 'LOC101175236', 'slit1', 'mab-20', 'TRIADDRAFT_60041', 'TRIADDRAFT_21436', 'plxna1.S', 'TRIADDRAFT_24524', 'NFASC', 'W5MEV9', 'ANK1', 'EMB', 'EPHA3', 'W5LXJ4', 'sema6a.L', 'NTN5', 'SLIT3', 'W5M522', 'MYPN', 'EPHB6', 'LOC101160423', 'BSG', 'LOC101159406', 'UNC5C', 'nexn', 'LAMC2', 'EPHB3', 'LOC101160131', 'LOC101156117', 'LOC101174773', 'DSCAM', 'SEMA5A', 'NTN3', 'EFNA1', 'enah', 'efna1', 'ptpro', 'EFNA4', 'plx-2', 'SLIT2', 'EFNA2', 'SEMA6A', 'CNTN4', 'W5M251', 'W5M396', 'AUGUSTUS-3.0.2_07563', 'IscW_ISCW011583', '8027799', 'IscW_ISCW006728', '8052638', 'a-Sdf1a', 'IscW_ISCW021763', 'A0A5F8A3D7', 'ENAH', 'H2XVV8', 'AUGUSTUS-3.0.2_07325', 'IscW_ISCW000260', 'NFASC', 'IscW_ISCW016437', 'H2XPU1', 'UNC5A', '1279993', 'SEMA6A', 'CBG22554', 'PTPRO', 'WBGene00305163', 'EFNA1', 'ARHGEF25', 'RNF165', 'NRP2', 'TRIADDRAFT_57301', 'NRP2', 'TRIADDRAFT_56880', 'WBGene00090599', 'WBGene00116453', 'EGM_08696', 'SHH', 'lhx9', 'GW7_19627', 'otk', 'otk', 'PTPRO', 'EGK_09534', 'APP', 'PTPRO', 'otk', 'PTPRO', 'PTPRM', 'EPHB2', 'Cyfip', 'PTPRO', 'SEMA3C', 'PTPRM', 'NELL2', 'PTPRO', 'PTPRM', 'PTPRO', 'N307_09121', 'PTPRO', 'Q5ISK2', 'PTPRM', 'otk', 'PTPRO', 'otk', 'LHX1', 'APP', 'LHX1', 'Lhx1', 'N303_03800', 'plexA', 'otk', 'PTPRO', 'axl-1', 'Q3S3D7', 'SHH', 'GW7_12036', 'PTPRO', 'ALCAM', 'NR4A3', 'OTX2', 'GLI3', 'NFIB', 'Q6PVU4', 'otk', 'APP', 'otk', 'lhx9', 'USP33', 'APP', 'I79_010579', 'otk', 'PTPRM', 'PTPRM', 'PANDA_004351', 'TUBB3', 'GLI2', 'KALRN', 'NRCAM', 'ARHGEF40', 'GDNF', 'VASP', 'ETV1', 'DSCAM', 'ncam1b', 'ext2', 'extl3', 'lrrc15', 'e2f7', 'scn8aa', 'gap43', 'efnb2a', 'efna2a', 'epha4l', 'ephb3a', 'plod3', 'neo1a', 'lamc2', 'anos1a', 'cxcr4b', 'sema3c', 'sema3fb', 'si:dkey-49n23.1', 'kof', 'efna4', 'neo1b', 'fgf19', 'col6a3', 'unc5a', 'rest', 'efnb3b', 'efnb1', 'efna5a', 'chn1', 'sema6ca', 'fignl1', 'cyfip1', 'rb1', 'sdk1b', 'etv5b', 'efna1a', 'smn1', 'lamb2', 'gli2a', 'boc', 'adcy8', 'sema5ba', 'kif5aa', 'ptprfa', 'evlb', 'vegfaa', 'gli1', 'ntn2', 'ccl39.2', 'lamb2l', 'plxnb3', 'pin1', 'plxnb1b', 'plxnc1', 'ptprja', 'flt4', 'sema6a', 'atl1', 'lama3', 'chst11', 'capn1a', 'ptprjb.1', 'ptprjb.2', 'nexn', 'cntn3b', 'kalrnb', 'ntn4', 'dscama', 'fezf2', 'stat3', 'epha7', 'ntn5', 'si:dkey-202e22.2', 'LOC101883325', 'mmp25b', 'sema4d', 'triob', 'disp1', 'sema7a', 'LOC101885031', 'sema4c', 'lamb1b', 'plxnb2a.2', 'plxnb2a.3', 'enah', 'slit1b', 'slit1a', 'cxcl12b', 'nrp1b', 'nrp2a', 'arhgef25a', 'stim1a', 'epha8', 'lhx9', 'efna1b', 'dscamb', 'ephb1', 'sema4ba', 'ncam3', 'sema6d', 'rac1l', 'efn-4', 'efn-3', 'efn-2', 'lam-2', 'dma-1', 'bug-1', 'Y39A3A.4', 'sop-2', 'l1camb', 'unc5db', 'mycbp2', 'robo2', 'lamc3', 'plxna3', 'sema3e', 'nkx2.2a', 'spast', 'col4a5', 'usp33', 'kalrna', 'col19a1', 'e2f8', 'sema3bl', 'slbp', 'bsg', 'efnb3a', 'LOC100332852', 'pcdh17', 'met', 'vangl2', 'plxna1b', 'islr2', 'tnr', 'efna3a', 'sema6cb', 'lama2', 'lama5', 'nfascb', 'ahi1', 'cntn4', 'epha6', 'cxcl12a', 'npr1b', 'adcy1b', 'ppp1r12a', 'rab33a', 'chl1a', 'pbx4', 'hdc', 'plxnb1a', 'lamc1', 'lamb4', 'lamb1a', 'rtn4b', 'unc5cb', 'tmem41b', 'cntn1a', 'col2a1a', 'nfasca', 'cntn3a.1', 'dscaml1', 'sema6ba', 'kif1b', 'sema6bb', 'LOC101882342', 'ptprh', 'npr1a', 'sim1a', 'unc5b', 'plxna4', 'LOC110439061', 'bicd1a', 'sema4ab', 'trioa', 'nova1', 'notum2', 'htr2ab', 'nrp2b', 'arhgef25b', 'scrib', 'ccdc80l1', 'evla', 'robo4', 'hnrnpr', 'LOC100537765', 'mmp14a', 'nrp1a', 'ccl33.3', 'cyfip2', 'ephb2a', 'cdk5r1a', 'sema4ga', 'LOC100537452', 'efna5b', 'sax-7', 'sax-3', 'ddr-1', 'rpm-1', 'madd-4', 'rig-3', 'ceh-17', 'rac-2', 'pxn-2', 'ptp-3', 'pry-1', 'dep-1', 'cntn5', 'epha6', 'vasp', 'smo', 'slit2', 'vegfc', 'lamb1', 'ankrd55', 'sema4a', 'efna1', 'XB5969698', 'LOC108645842', 'cyfip2', 'epha2', 'efnb3', 'ptpro', 'nrp1', 'sema3e', 'lamb3', 'mycbp2', 'epha8', 'sema3a.S', 'lamc2', 'LOC100498128', 'epha7', 'LOC100494394', 'nrcam', 'ephb1.S', 'LOC116410852', 'unc5c', 'sema4d', 'sema3b', 'ncam1', 'robo1.S', 'nptn', 'nipa1', 'nrp2', 'robo1', 'lama1', 'sema3d', 'efnb1', 'epha5', 'evl', 'sema4c', 'chn1', 'cyfip1', 'qars1', 'zig-11', 'madd-2', 'enu-3.3', 'rig-6', 'nid-1', 'smp-2', 'smp-1', 'slt-1', 'sema7a', 'efna3', 'cntn2', 'cle-1', 'clec-38', 'C34F6.10', 'cwn-2', 'sor-3', 'pak-1', 'sad-1', 'seu-1', 'seu-2', 'seu-3', 'src-1', 'L1cam', 'Pla2g10', 'Rac1', 'ZK616.65', 'ast-1', 'nrp2', 'foxc1a', 'gdf6a', 'lhx1a', 'dag1', 'cdh11', 'shha', 'apc', 'chrna1', 'tncb', 'cdh2', 'ntn1a', 'ntn1b', 'rab33ba', 'draxina', 'smo', 'ptch2', 'nrxn2a', 'si:ch211-241e1.3', 'slit3', 'slit2', 'isl2a', 'sema3aa', 'sema3ab', 'rac3b', 'pls3', 'plxnb2a.1', 'slc35b2', 'epha5', 'musk', 'plxna1a', 'vaspa', 'ptpro', 'lama1', 'si:ch211-113g11.6', 'si:dkeyp-92c9.2', 'rtn4rl1b', 'rtn4r', 'arnt2', 'rac1a', 'plxnd1', 'nptnb', 'alcamb', 'dcc', 'sema4bb', 'sema3b', 'kif5c', 'vasna', 'unc5ca', 'mst1ra', 'vaspb', 'cdk5r2b', 'chodl', 'cdk5r2a', 'emb', 'cntn3a.2', 'sema4e', 'sema3d', 'kcnc3a', 'col4a6', 'nrcama', 'sema5a', 'sema5bb', 'ptprfb', 'dzip1', 'si:ch1073-15f12.3', 'dpysl3', 'si:ch211-158d24.2', 'dcc', 'nrp2.S', 'unc5b', 'mdga2', 'lamb4', 'sema6d', 'Sema3g', 'DPYSL5', 'SOS1', 'GFRA3', 'EPHA3', 'EDNRA', 'DSCAM', 'PTPRM', 'DLX5', 'SCN1B', 'IGSF9', 'VEGFA', 'SEMA4F', 'OTX2', 'EDN1', 'EFNB2', 'NGFR', 'APP', 'CDH4', 'FLRT2', 'CHN1', 'NDP', 'EVX1', 'BSG', 'EFNA5', 'LHX1', 'PLXNA1', 'ALCAM', 'B4GAT1', 'UNC5A', 'EPHB2', 'EPHA8', 'BCL11B', 'SEMA4C', 'ECE1', 'DRGX', 'BMP7', 'LAMB2', 'SEMA3C', 'TUBB3', 'GATA3', 'DVL1', 'POU4F2', 'GBX2', 'CDH4', 'WNT5A', 'MUSK', 'ISL1', 'EPHA8', 'CNTN2', 'KLF7', 'DRGX', 'FLRT3', 'DLX5', 'TTC8', 'RPL24', 'SEMA6B', 'PLXNA4', 'B3GNT2', 'POU4F3', 'EPHB1', 'DSCAM', 'FZD3', 'EFNB1', 'OR10A4', 'SEMA3F', 'LHX1', 'APBB2', 'GLI2', 'ULK2', 'NOG', 'OTX2', 'GLI2', 'HOXA2', 'ALCAM', 'APBB2', 'GBX1', 'EDN1', 'WNT3A', 'DAG1', 'GLI3', 'GDNF', 'EDNRA', 'EPHA4', 'LHX3', 'VEGFA', 'NFIB', 'LGI1', 'SLIT3', 'NRP1', 'EPHA7', 'CHL1', 'CSF1R', 'RYK', 'GDF7', 'NELL2', 'LHX2', 'SEMA5B', 'TTC8', 'EPHB2', 'RYK', 'VANGL2', 'GDF7', 'PTK7', 'FLRT2', 'CDH4', 'GLI3', 'VASP', 'PLXNA3', 'FLRT3', 'NTN1', 'SHH', 'BMP7', 'EPHA8', 'DSCAM', 'PTPRO', 'EPHB1', 'USP33', 'ALCAM', 'DAG1', 'HOXA2', 'DLX5', 'DVL1', 'ATOH1', 'SLIT3', 'Pka-R2', 'ap', 'B4GAT1', 'spen', 'velo', 'HOXA2', 'CRPPA', 'DAG1', 'MYH10', 'SEMA3A', 'GBX1', 'EFNA2', 'PRKCQ', 'L1CAM', 'NOTCH2', 'EFNA4', 'EFNA3', 'ARHGAP35', 'MATN2', 'CDK5R1', 'NTN4', 'NFASC', 'LAMB4', 'SLIT3', 'GBX2', 'PALLD', 'SEMA5B', 'LMX1A', 'EFNA5', 'GBX2', 'POU4F3', 'NDP', 'FOXG1', 'EPHA4', 'NRP2', 'EVX1', 'ROBO3', 'LAMB2', 'WNT5A', 'DRGX', 'ISL2', 'ROBO1', 'EPHA7', 'PLXNA4', 'CNTN2', 'SLIT1', 'NRP1', 'POU4F2', 'ADAM17', 'ARK2C', 'ARX', 'NOG', 'CHN1', 'SEMA3A', 'PLXNA1', 'GBX1', 'ETV1', 'DCC', 'FEZF1', 'SEMA3C', 'VAX1', 'NR4A3', 'ARHGAP35', 'EFNB3', 'EGR2', 'EDN1', 'KIF5C', 'L1CAM', 'PCDHAC2', 'ERBB2', 'SEMA3G', 'CNTN2', 'EPHA3', 'EPHA6', 'VASP', 'CDK5R2', 'PTPRO', 'B3GNT2', 'SEMA3A', 'RELN', 'LHX1', 'RAC3', 'EPHA10', 'EPHA5', 'EVL', 'LHX1', 'NTN3', 'LAMB1', 'PLXNA4', 'EFNA2', 'DVL1', 'NOTCH1', 'VANGL2', 'ARX', 'LAMA1', 'EFNA5', 'EFNA2', 'MYCBP2', 'RPL24', 'NR4A3', 'SEMA3C', 'EFNB1', 'EPHB2', 'WNT5A', 'EPHA4', 'EPHB3', 'PTPRM', 'BMPR1B', 'FEZF1', 'BSG', 'FZD3', 'FLRT2', 'GLI3', 'MYH10', 'SEMA6C', 'LAMB1', 'ROBO4', 'LMX1A', 'LAMC1', 'TGFB2', 'SEMA3D', 'GAP43', 'GDNF', 'LGI1', 'NRP1', 'TUBB3', 'LHX4', 'ALCAM', 'NFIB', 'BCL11B', 'CSF1R', 'PRTG', 'WIPF3', 'UNC5B', 'LHX9', 'EPHA2', 'SLIT1', 'RAC1', 'ENAH', 'CNTN1', 'A0A8V0ZAN4', 'KROX20', 'LAMA3', 'EPHB3', 'CNTN2', 'EPHB2', 'PTK7', 'NFASC', 'GFRA3', 'PIK3CA', 'UNC5C', 'NFIB', 'GFRA3', 'EXT1', 'DRAXIN', 'B3GNT2', 'CDK5R1', 'VEGFA', 'PTPRM', 'MATN2', 'BMPR1B', 'CDK5', 'NELL2', 'RAC1', 'CHL1', 'GATA3', 'USP33', 'DRAXIN', 'LOC101750972', 'EPHA3', 'FLRT3', 'SEMA4G', 'LHX3', 'FOXP1', 'SEMA5B', 'SEMA6A', 'ETV1', 'A0A8V0ZCB7', 'LAMA2', 'LAMA4', 'Atoh1', 'SCN1B', 'LHX9', 'ALCAM', 'TUBB3', 'EFNB1', 'NPTN', 'UNC5A', 'ERBB2', 'EDNRA', 'NFIB', 'EFNA5', 'EVX1', 'UNC5D', 'PLA2G10', 'SEMA3F', 'RNF165', 'NEO1', 'EPHB1', 'LOC107049953', 'EMB', 'SEMA4D', 'DAG1', 'USP33', 'POU4F2', 'KLF7', 'NRP2', 'SMO', 'NEXN', 'SEMA7A', 'LAMA5', 'RELN', 'ANK3', 'SEMA3B', 'P35331', 'SHH', 'EPHB6', 'ISL1', 'P09652', 'LOC101748153', 'ISL2', 'EPHA4', 'GBX2', 'UNC5C', 'CNTN1', 'PTK7', 'ALCAM', 'ROBO3', 'SEMA3D', 'DSCAML1', 'GBX1', 'KIF5C', 'EXT1', 'LHX2', 'PLXNA1', 'CHN1', 'NTN3', 'FOXG1', 'PAX6', 'VAX1', 'EPHB5', 'EPHB1', 'LOC100858919', 'CXCL12', 'CG34353', 'babo', 'drl', 'psidin', 'wb', 'Sema1a', 'NT1', 'haf', 'betaTub60D', 'capt', 'Cyfip', 'Mau2', 'Mical', 'dpr11', 'beat-IIIb', 'SCAR', 'conv', 'dlp', 'erm', 'Sec15', 'ARTN', 'OTX2', 'ECE1', 'KALRN', 'HMCN1', 'PALLD', 'MDGA1', 'LAMC2', 'SHH', 'DRAXIN', 'NEL', 'TTC8', 'BMP7', 'DSCAM', 'DRAXIN', 'SEMA5A', 'EDN3', 'SEMA4D', 'SEMA3A', 'CYFIP2', 'LAMB2', 'HOMER3', 'CYFIP1', 'CDH4', 'EPHA7', 'SLIT2', 'LAMB3', 'NGFR', 'ROBO1', 'NTN4L', 'KIF5B', 'GAP43', 'CNTN4', 'DLX5', 'CHL1', 'CNTN6', 'SEMA4B', 'BOC', 'GATA3', 'SEMA3DL', 'Q90610', 'ABLIM1', 'ADAM17', 'NKX2-1', 'EN2', 'Q03696', 'SEMA3E', 'SEMA3C', 'SMO', 'EPHA5', 'EFNB2', 'NRP1', 'ISPD', 'EPHA7', 'EPHA8', 'NTN1', 'SEMA6B', 'SEMA3E', 'POU4F3', 'LAMC3', 'Mir200c', 'Nell2', 'Nfasc', 'Plxna3', 'Vangl2', 'Neo1', 'Nkx2-1', 'Hoxa2', 'Mnx1', 'Nectin1', 'Ptprm', 'Notch3', 'Bmp7', 'Ephb2', 'Gli2', 'Evx1', 'Unc5d', 'Ryk', 'Gfra3', 'Nog', 'Ngfr', 'Neurog2', 'Boc', 'Hoxa1', 'Pou4f2', 'Flrt3', 'Wnt3', 'Klf7', 'Dscaml1', 'Lmx1a', 'Gas1', 'Sema4a', 'Epha6', 'Mir9-3', 'Mir200a', 'Epha5', 'Rtn4r', 'Diaph2', 'Lamc3', 'Sema3c', 'Dvl1', 'Pax6', 'Smo', 'Ank3', 'Epha7', 'Sema6c', 'Sema4f', 'Sema3a', 'Cxcl12', 'Scn1b', 'B4gat1', 'Lrp2', 'Epha3', 'Ephb2', 'Fgf8', 'Klf7', 'Lamc3', 'Notch3', 'Mef2c', 'Lamb2', 'Lamb3', 'Lamc1', 'Lamc2', 'Lama2', 'Lama1', 'Sema4g', 'Evx1', 'Erbb2', 'Myot', 'Emb', 'Cntn5', 'Chl1', 'Gfra3', 'Smad4', 'Kalrn', 'Ntn5', 'Pla2g10', 'Dscam', 'Rtn4r', 'Unc5c', 'Cdk5r2', 'Or8a1b', 'Gdf7', 'Gbx2', 'Gbx1', 'Gata3', 'Gas1', 'Gap43', 'Etv4', 'Unc5b', 'Unc5a', 'Ext1', 'Etv1', 'Cdh4', 'Flrt3', 'Ntrk1', 'Chn1', 'Lrp1', 'Gap43', 'Ptpro', 'Nfib', 'Mycbp2', 'Etv1', 'Ptch1', 'Artn', 'Efna2', 'Ttc8', 'Etv4', 'Lama5', 'Lamc1', 'Lamc2', 'Epha10', 'Arx', 'Lamb3', 'Nptn', 'Enah', 'Sema4c', 'Sema4b', 'Efna1', 'Usp33', 'Adam17', 'Efna4', 'Smad4', 'Ncam1', 'Lama1', 'Fgf8', 'Pgrmc1', 'Diaph1', 'Sema3e', 'Cntn5', 'Sema6d', 'Bdnf', 'Lhx1', 'Bmpr1b', 'Epha5', 'Chn1', 'Hoxa2', 'Hoxa1', 'Igfals', 'Dscaml1', 'Mir200b', 'Mir200a', 'Palld', 'Dpysl5', 'Nkx2-1', 'Nptn', 'Kif5b', 'Kif5c', 'Plxna1', 'Plxna3', 'Rac3', 'Lrp1', 'Lhx2', 'Sema6c', 'Lamb1', 'L1cam', 'Ark2c', 'Arhgap35', 'Lmtk2', 'Nog', 'Prtg', 'Csf1r', 'Epha10', 'Sema7a', 'Arhgef25', 'Vax1', 'Diaph1', 'Enah', 'Sema3d', 'Cntn2', 'AABR07032856.1', 'Unc5c', 'Ablim1', 'Ext1', 'Rtn4rl1', 'Sema7a', 'Slit2', 'Slit3', 'Ark2c', 'Pou4f3', 'Sema4g', 'Robo2', 'Otx2', 'Cdk5', 'Dag1', 'Cyfip2', 'Lama3', 'Lgi1', 'Slit1', 'Drgx', 'Lgr4', 'Nexn', 'Ephb6', 'Csf1r', 'Efna5', 'Dcc', 'Trio', 'Megf9', 'Nrcam', 'Sema6b', 'Wnt5a', 'Wnt7b', 'Tubb3', 'Edn3', 'Efnb1', 'Erbb2', 'Kifc2', 'Megf8', 'Gbx2', 'Kalrn', 'Gbx1', 'Isl2', 'Epha8', 'Apbb1', 'Ptprv', 'Vax1', 'Evl', 'Ulk1', 'Cxcr4', 'Cdk5r2', 'Neo1', 'Ptpro', 'Foxg1', 'Foxd1', 'Sema3b', 'Sema4a', 'Sema4b', 'Sema3a', 'Sema3c', 'Sema5a', 'Sema5b', 'mROBO3/iso:ROBO3A1', 'Gdnf', 'Cyfip1', 'Flrt2', 'Rpl24', 'Tubb3', 'Apbb1', 'Mir9-1', 'Bcl11b', 'B4gat1', 'Efna4', 'Efna3', 'Flot1', 'Nell2', 'Diaph2', 'Vangl2', 'Gli2', 'Nrp1', 'Gli3', 'Ece1', 'Mir200b', 'Ntn1', 'Ntn3', 'Hmcn1', 'Arx', 'Plxna4', 'Megf9', 'Cdk5r1', 'Edn3', 'Sema4f', 'Robo2', 'Nectin1', 'mig-15', 'mig-2', 'max-2', 'max-1', 'dgn-2', 'mau-2', 'mab-20', 'unc-3', 'unc-5', 'unc-6', 'lrk-1', 'lin-17', 'unc-130', 'vab-1', 'vab-2', 'Robo3', 'App', 'Foxp1', 'Wnt7b', 'Wnt5a', 'Wnt3a', 'Wnt3', 'Cyfip2', 'Mir376a', 'Zic2', 'Artn', 'B3GNT2', 'Mapk8ip3', 'Bsg', 'Epha7', 'Edn1', 'Egr2', 'Bdnf', 'Nrp1', 'Usp33', 'L1CAM', 'APBB2', 'CSF1R', 'EDN1', 'PTPRM', 'ISL2', 'LHX2', 'SEMA3C', 'CDC25C', 'EFNA5', 'ADAM17', 'OR10A4', 'VASP', 'Efna5', 'Ttc8', 'Drgx', 'Efnb2', 'Ntn1', 'Dag1', 'Isl1', 'Lhx4', 'Ryk', 'Cdk5', 'Cdk5r1', 'Fzd3', 'Nexn', 'Mypn', 'Ablim1', 'Apbb2', 'Ntrk1', 'Ntf3', 'Notch1', 'Ngfr', 'Sema3e', 'Lama5', 'Ptch1', 'Lgr4', 'Pcdhac2', 'Rac1', 'Alcam', 'Smo', 'Epha6', 'Ptprv', 'Sema6b', 'Nrp2', 'Evl', 'Boc', 'Slit2', 'Slit1', 'Slit3', 'Lama3', 'Ulk1', 'Pax6', 'Otx2', 'Nr4a3', 'Crppa', 'Ulk2', 'Mir200c', 'Cntn1', 'Lmx1a', 'Ednra', 'Efnb1', 'Efna2', 'Trio', 'Ptprm', 'Myh10', 'Lhx3', 'Runx3', 'Epha8', 'Lmo4', 'Efnb3', 'Kifc2', 'Mnx1', 'Isl2', 'Or10a4', 'Dvl1', 'Vegfa', 'Ece1', 'Dcc', 'Sema6d', 'Cxcl12', 'Neurog2', 'Matn2', 'Kif5a', 'Cxcr4', 'Efna1', 'Sema3g', 'Bmp7', 'Mycbp2', 'Sema6a', 'Celsr3', 'Cntn6', 'Gli3', 'Ntn4', 'Reln', 'Fezf1', 'Sema3f', 'Ephb6', 'Ephb1', 'Adam17', 'Ndp', 'Vasp', 'Ank3', 'Shh', 'Epha4', 'Lhx9', 'Scn1b', 'Robo1', 'Draxin', 'NOG', 'EGR2', 'PLXNA1', 'Hmcn2', 'Lgi1', 'VANGL2', 'ARX', 'WNT3A', 'DVL1', 'ECE1', 'GDF7', 'NRP2', 'NFIB', 'MATN2', 'LAMB2', 'PLA2G10', 'LHX4', 'MAPK8IP3', 'ROBO3', 'GAP43', 'SMAD4', 'SLIT2', 'TUBB3', 'CHL1', 'WNT3', 'CHN1', 'KIF5C', 'NRCAM', 'CRPPA', 'LGI1', 'CNTN2', 'UNC5B', 'VEGFA', 'NKX2-1', 'EPHA8', 'EPHB2', 'ALCAM', 'NRP1', 'ROBO1', 'EPHA7', 'BMP7', 'FOXG1', 'FOXD1', 'WNT5A', 'PLXNA4', 'DLX5', 'DRGX', 'POU4F2', 'GBX1', 'Pou4f2', 'Pou4f3', 'Sema4c', 'Sema4d', 'Dlx5', 'ARTN', 'Nfib', 'Tgfb2', 'Rtn4rl1', 'Mir9-3', 'Mir9-2', 'Ptprh', 'Ncam1', 'Ntn3', 'Atoh1', 'Ptprj', 'Cntn2', 'Ephb3', 'Nfasc', 'Nrcam', 'Sema3d', 'Unc5d', 'USP33', 'FEZ1', 'WNT5A', 'PTPRH', 'ERBB2', 'PLXNA4', 'ROBO2', 'BMPR1B', 'PGRMC1', 'CYFIP1', 'EGR2', 'SLIT2', 'FEZF1', 'LMO4', 'RELN', 'NTN4', 'ALCAM', 'PTCH1', 'BMP7', 'NRP2', 'LHX1', 'ARHGEF25', 'FGF8', 'GDF7', 'CDK5', 'EXT1', 'LYPLA2', 'EFNA1', 'GLI2', 'EVL', 'NRXN3', 'SEMA3D', 'CSF1R', 'OR10A4', 'ISL2', 'LGI1', 'CYFIP2', 'SEMA7A', 'NPTN', 'SEMA6D', 'PCDHAC2', 'SLIT3', 'SLIT1', 'NTN1', 'CSF1R', 'ISL1', 'MYCBP2', 'SEMA3A', 'NTN1', 'EFNB3', 'ABLIM1', 'CDK5R1', 'A0A8I3MPI3', 'FLRT2', 'ARHGAP35', 'SMAD4', 'CRPPA', 'VAX1', 'UNC5B', 'BCL11B', 'DCC', 'PTPRO', 'NRP2', 'TGFB2', 'EPHB3', 'DRAXIN', 'LAMA2', 'ROBO1', 'CDK5', 'EVX1', 'NR4A3', 'ATOH1', 'ARK2C', 'EPHB2', 'SLIT1', 'SEMA6D', 'TRIO', 'NOG', 'WNT3', 'EDNRA', 'RELN', 'ISL1', 'MYPN', 'SEMA5A', 'PLA2G10', 'RYK', 'PTK7', 'CELSR3', 'SEMA3F', 'EPHB6', 'NOG', 'RET', 'SEMA4G', 'EPHA4', 'EPHB1', 'EPHA5', 'EPHB3', 'EPHA10', 'CNTN6', 'ARX', 'WNT3A', 'PLEKHG4B', 'SMAD4', 'FLRT3', 'B3GNT2', 'SEMA3B', 'EDN3', 'EFNB1', 'LAMA2', 'SEMA3E', 'FOXG1', 'LAMB2', 'NOTCH1', 'TRIO', 'RPS6KA5', 'UNC5C', 'SEMA6B', 'SEMA6C', 'SEMA4A', 'NOTCH3', 'GAP43', 'NRXN1', 'FOXD1', 'KLF7', 'RAC3', 'LHX9', 'PTPRO', 'ROBO3', 'ARHGAP35', 'SEMA3G', 'SEMA6A', 'TGFB2', 'CXCL12', 'SEMA4B', 'FZD3', 'FEZ2', 'DRAXIN', 'EFNB2', 'CYFIP2', 'LAMC3', 'CYFIP1', 'SEMA6C', 'PLXNA1', 'EPHB3', 'LAMA2', 'LOC118423598', 'efna2.L', 'sema6b.L', 'LAMA1', 'LOC118419138', 'A0A7M7NXL6', 'A0A7M7NUZ1', 'SEMA6A', 'A0A7M7NFA6', 'SEMA4G', 'NRCAM', 'LOC118416536', 'LOC118416533', 'G3SIC2', 'LAMB3', 'A0A7M7NJG3', 'PLXNA4', 'BSG', 'CHN1', 'A0A7M7NPU5', 'A0A7M7MXG0', 'A0A7M7MYK6', 'A0A7M7NDJ2', 'EPHA6', 'NEXN', 'LOC118414383', 'A0A7M7NC52', 'LOC118411210', 'A0A7M7MZT2', 'SEMA5B', 'VAX1', 'OPHN1', 'KIF5C', 'EMB', 'NEXN', 'PTPRO', 'SEMA3F', 'NCAM1', 'B3GNT2', 'NTN1', 'SHH', 'EVX1', 'HOXA2', 'DCC', 'RYK', 'PLXNA3', 'EXT1', 'ISL1', 'SEMA5B', 'GBX2', 'CDK5R1', 'ULK2', 'SEMA3A', 'FLRT3', 'CNTN2', 'ENAH', 'BDNF', 'TUBB3', 'ADAM17', 'NTRK1', 'ROBO4', 'DCC', 'LGR6', 'VANGL2', 'PTPRJ', 'LHX2', 'ANOS1', 'DVL1', 'ABLIM1', 'LHX4', 'KIAA1755', 'CNTN1', 'NRP1', 'KIF5A', 'POU4F2', 'LHX3', 'MYOT', 'PLXNA1', 'ROBO1', 'RPL24', 'SHH', 'MATN2', 'RAC1', 'NECTIN1', 'NTN3', 'PALLD', 'SEMA3C', 'NR4A3', 'PTK2', 'CHL1', 'SMO', 'FYN', 'TNR', 'NELL2', 'LMX1A', 'PAX6', 'CNTN4', 'NFASC', 'UNC5B', 'EPHA7', 'POU4F3', 'ULK2', 'APBB2', 'NEO1', 'ATOH1', 'SEMA4D', 'CNTN5', 'DSCAML1', 'CDK5R1', 'SLIT1', 'ATOH1', 'ERBB2', 'NGFR', 'DRAXIN', 'B4GAT1', 'GATA3', 'EPHA4', 'EFNB3', 'LHX1', 'ABLIM1', 'VAX1', 'ARK2C', 'LMX1A', 'FLRT2', 'HMCN2', 'FEZF1', 'LHX3', 'EDNRA', 'FZD3', 'PTK7', 'SLIT3', 'GDNF', 'SIAH1', 'PLEKHG4', 'TTC8', 'WNT7B', 'WNT3', 'EPHB3', 'APP', 'NDP', 'ARTN', 'ARK2C', 'BOC', 'NCAM1', 'GATA3', 'NFIB', 'EFNB3', 'CDK5R2', 'NKX2-1', 'HMCN2', 'KIFC2', 'GLI3', 'EPHA6', 'KIF5B', 'PLXNA3', 'UNC5D', 'ETV1', 'MDGA1', 'MYCBP2', 'CHN1', 'EXT1', 'MYH10', 'Tace', 'TUBB3', 'SEMA6B', 'NGFR', 'USP33', 'CDH4', 'SEMA6B', 'ETV1', 'EPHB1', 'POU4F3', 'ARHGAP35', 'EFNB1', 'eIF2beta', 'Trim9', 'dac', 'Dscam3', 'kis', 'alf', 'tok', 'spz', 'NiPp1', 'tup', 'wgn', 'mew', 'retn', 'Smox', 'Ten-a', 'ko', '14-3-3epsilon', 'tap', 'pdm3', 'PlexA', 'PlexB', 'CG7166', 'Bap55', 'otk2', 'Hsc70-4', 'Sema2a', 'DAAM', 'Alk', 'beat-IIIa', 'nerfin-1', 'hts', 'Mmp2', 'Dscam4', 'Fmr1', 'shot', 'Tig', 'Snr1', 'CadN2', 'eya', 'chif', 'dock', 'kermit', 'Cdk5alpha', 'Cam', 'bur', 'bsk', 'brm', 'Ptp61F', 'tutl', 'Wnt4', 'trn', 'Sdc', 'CG6867', 'Abi', 'acj6', 'Abl', 'HDAC1', 'Dad', 'Rab6', 'NetB', 'NetA', 'Lis-1', 'Wnt5', 'hiw', 'comm', 'Nrk', 'gogo', 'dom', 'CadN', 'Cont', 'boi', 'Ephrin', 'Fas1', 'sbb', 'chb', 'fend', 'Sulf1', 'Dscam2', 'beat-Ib', 'Chi', 'dally', 'sad', 'run', 'ras', 'ckn', 'beat-Ia', 'put', 'Sos', 'RhoGAP93B', 'lola', 'Sac1', 'Kr', 'Rich', 'Khc', 'RhoGEF64C', 'fra', 'Bsg', 'LanB1', 'InR', 'Dscam1', 'bdl', 'ImpL2', 'if', 'Med', 'Dbx', 'Mp', 'Cdc42', 'LanB2', 'Rac1', 'hep', 'nvy', 'robo1', 'limbo', 'ptc', 'gt', 'grn', 'Glt', 'ihog', 'peb', 'Drl-2', 'trol', 'comm3', 'CG42327', 'daw', 'Src64B', 'DIP-gamma', 'Ptp52F', 'Dg', 'mud', 'Nedd4', 'unc-5', 'Hr51', 'Sema5c', 'RhoL', 'Lim3', 'roam', 'SoxN', 'Oli', 'jbug', 'beat-IIIc', 'XNP', 'FER', 'fog', 'Rho1', 'Rac2', 'Ptp69D', 'dnt', 'RhoGAP100F', 'Toll-7', 'Sema2b', 'Lsp2', 'LanA', 'robo2', 'sens', 'jeb', 'jing', 'trio', 'sli', 'dysc', 'sas', 'Fas3', 'Fas2', 'E(z)', 'eve', 'fz2', 'klg', 'E(Pc)', 'ena', 'en', 'meigo', 'dsx', 'sqz', 'diva', 'dsh', 'Lar', 'Dab', 'D', 'ct', 'rambl', 'Nrt', 'Pp1-87B', 'kuz', 'mirr', 'Pak', 'kra', 'wrapper', 'beta-Spec', 'alpha-Spec', 'uzip', 'CdGAPr', 'CG13506', 'otk', 'gcm', 'ab', 'cher', 'bif', 'scb', 'comm2', 'pros', 'Unc-115a', 'robo3', 'Toll-6', 'Gyc76C', 'AP-1sigma', 'Ten-m', 'Galphaq', 'Nrg', 'Src42A', 'SelR', 'Ptp10D', 'stan', 'Ptp99A', 'Ptp4E', 'DIP2', 'for', 'msps', 'side', 'Sema1b', 'mys', 'fru', 'zfh1', 'Liprin-alpha', 'LOC118421150', 'LOC118423843', 'LOC118427804', 'chn1.L', 'efn-4', 'LOC118430062', 'sema4d.L', 'LOC118421860', 'LOC118422774', 'LOC118423599', 'LOC118423600', 'UNC5B', 'LOC118421560', 'LAMB4', 'LOC118428942', 'LOC118420307', 'A0A7M7NUV7', 'LOC118426888', 'NTN3', '1272069', 'IGL1', '1273815', 'A0A7M7LSV9', 'LANB2', 'TUBB3', '1275819', 'LOC118413004', 'NEO1', 'LOC118413586', 'SEMA3B', 'A0A7M7NQZ9', 'A0A7M7NQV9', 'ARHGEF25', 'KIF5A', 'A0A7M7NMX2', 'LOC118415982', 'A0A7M7NTU5', 'A0A7M7NPI4', 'A0A7M7N317', 'A0A7M7N0N7', 'A0A7M7N9A8', 'A0A7M7N905', 'LOC118405512', 'A0A7M7N503', 'A0A7M7N3C8', 'A0A7M7N2U9', 'LOC118410579', 'DRAXIN', 'LOC118408193', 'A0A7M7MYE9', 'A0A7M7N9V1', 'A0A7M7N7P8', 'LOC118415570', 'A0A7M7NC35', 'LOC118415273', 'A0A7M7NB82', 'LOC118409825', 'LOC118409302', 'LOC118414090', 'AUGUSTUS-3.0.2_33250', 'LOC118408556', 'LOC118409244', 'Cdk5', 'Vav', 'spz5', 'smo', 'sm', 'N', 'Nf-YC', 'pod1', 'vvl', 'Acsl', 'beat-Ic', 'egh', 'Ptpmeg', 'caps', 'mid', 'Moe', 'Epha3', 'Plxna4', 'App', 'Wnt3a', 'Lhx4', 'Lrp2', 'Dscam', 'Vegfa', 'Alcam', 'Zic2', 'Bcl11b', 'Ntf3', 'Lhx3', 'Lhx2', 'Myh10', 'Cdh4', 'Ephb1', 'Efnb3', 'Ednra', 'Draxin', 'Dlx5', 'Nr4a3', 'Pcdhac2', 'Isl1', 'Mef2c', 'Bsg', 'Vasp', 'Rpl24', 'Gdnf', 'Flrt2', 'Foxg1', 'Kif5c', 'Robo1', 'Sema3f', 'Robo3', 'Or8a1b', 'Lamb1', 'Apbb2', 'Lamb2', 'Lama2', 'Nrp2', 'Foxp1', 'Gata3', 'Sema5a', 'Gdf7', 'Chl1', 'Kif5a', 'Reln', 'Fezf1', 'Ulk2', 'Sema6a', 'Shh', 'Ntn4', 'Celsr3', 'Hspg2', 'Unc5b', 'Unc5a', 'Foxd1', 'Egr2', 'Ntn5', 'Atoh1', 'Or10a4', 'Rac3', 'Arhgap35', 'Cntn1', 'Mapk8ip3', 'Runx3', 'Fzd3', 'Emb', 'Sema3b', 'B3gnt2', 'Lgr6', 'Matn2', 'Tgfb2', 'Lhx9', 'Bmpr1b', 'Ndp', 'Kif5b', 'Sema5b', 'Lhx1', 'Cntn4', 'Cyfip1', 'Lmo4', 'Ptprj', 'Ephb3', 'Edn1', 'Epha4', 'Arhgef25', 'Plxna1', 'Myot', 'Sema4d', 'Crppa', 'top2b', 'ncam2', 'sema5b', 'nrp2.L', 'notch1', 'cdk5r2', 'C33F10.8', 'vab-8', 'spon-1', 'ten-1', 'cdk5r1', 'ntn1', 'l1cam', 'sdk2', 'lhx1.L', 'epha4', 'dag1', 'boc', 'sema6c', 'sema6b', 'myot', 'ephb4', 'plxna4', 'nexn', 'arhgef25', 'F20H11.4', 'col-99', 'Y71H2AM.12', 'ced-10', 'fln-1', 'ddr-2', 'lhx9.S', 'sema6a', 'app.L', 'gli1', 'cntn4', 'foxc1', 'sema4b', 'efna5', 'nrp1.S', 'rnf165', 'lama3', 'epha3', 'LOC100494929', 'ankrd16', 'cntn1', 'ntn4', 'nrp1.L', 'robo1.L', 'ephb3', 'ephb1', 'efna2', 'efnb2', 'LOC100488704', 'slit1', 'neo1', 'slit3', 'sema3c', 'chl1', 'efna4', 'draxin.S', 'draxin.L', 'draxin', 'lam-1', 'lad-2', 'Y71G12B.31', 'dgn-1', 'plx-2', 'unc-51', 'crml-1', 'wve-1', 'zig-1', 'cdka-1', 'fax-1', 'gex-2', 'enah', 'nfasc', 'unc5d', 'rack-1', 'M04G7.2', 'cam-1', 'axl-1', 'enu-3.6', 'ncam-1', 'pink-1', 'enu-3.1', 'usp33', 'sema3a.L', 'sema3a', 'lama5', 'LOC100493770', 'mdga1', 'rac3', 'enu-3.5', 'T28F4.3', 'zfr-1', 'bsg', 'unc5a', 'cdh11', 'ptprvl', 'plxna1', 'dscaml1', 'sema3f', 'rac3a', 'cdk5r1b', 'rtn4a', 'sema4f', 'rbpms2b', 'hif1ab', 'cpsf1', 'lhx2b', 'rbpms2a', 'plxna2', 'kif5ba', 'cntn2', 'LOC798168', 'draxinb', 'tenm4', 'tenm3', 'rac1b', 'top2b', 'unc5da', 'vegfc', 'efna3b', 'myot', 'sema4gb', 'robo3', 'robo1', 'nipa1', 'efnb2b', 'mmp2', 'si:dkey-220k22.1', 'ephb2b', 'wnt8b', 'fzd3a', 'si:ch211-129c21.1', 'mst1rb', 'ndr2', 'fmi-1', 'rin-1', 'zig-3', 'zag-1', 'wrk-1', 'epi-1', 'enu-3.2', 'unc-129', 'unc-116', 'unc-73', 'Y48G9A.9', 'egl-46', 'unc-53', 'unc-44', 'unc-42', 'unc-40', 'unc-39', 'unc-34', 'unc-33', 'unc-30', 'CYFIP2', 'EPHA7', 'MYOT', 'PTK7', 'LAMC3', 'ANK2', 'KIF5B', 'EFNA5', 'EMB', '20215806', 'LOC101165682', '20211393', '20215556', 'LOC101159571', '20211078', '20215223', 'LOC101173050', '20210923', '20210757', '20214942', '20214636', '20214557', 'epha7', '20212850', '20212746', '20212590', '20212337', '20212192', 'LOC101169438', 'LOC101173092', '20210170', 'LOC101173592', 'sema4c', 'LOC101161061', 'LOC101161968', 'LOC100049292', 'LOC101170303', 'LOC101164044', 'LOC101169812', '20208729', 'plxna4', 'LOC101159451', '20208681', '20212146', 'LOC101165974', '20211836', 'LOC105356063', 'megf9', 'smo', '20207298', 'vasp', 'LOC101160640', '20206749', 'LOC101166949', '20205898', '20195323', 'sema6a', 'sema3g', '20195246', '20194933', '20194884', 'KIF5B', 'RNF126', 'LOC101155107', '20195699', 'LOC101160196', 'LOC101161903', 'H2LYU8', 'boc', 'myot', 'DSCAML1', 'LOC101159016', '20205135', '20205109', '20204815', '20204641', '20201521', 'LOC101159436', '20204350', 'sema7a', '20199696', '20202270', 'SEMA4F', '20198144', 'SEMA4D', 'LOC101164509', 'lamb3', 'LOC101166021', 'LOC101155173', 'epha10', 'CHN1', '20203246', 'hmcn1', '20198626', 'sema3e', 'LOC101159062', '20202609', '20198407', 'LOC118404892', 'EPHA7', 'A0A7M7NI70', 'LOC118406216', 'LOC118404385', 'LOC118403573', 'LOC118403242', 'KALRN', 'NRP1', 'P35978', 'lamb2.L', 'XB5969698.L', 'sema4c.L', 'cntn4.L', 'SEMA4A', 'EFNB3', 'ankrd16.L', 'LOC108711237', 'NRP2', 'LOC118423441', 'sema3d.L', 'sema3c.L', 'lamb1.L', 'ntn4.L', 'LOC118414987', 'PTPRH', 'A0A7M7PBC7', 'arhgef25.S', 'lamb3.S', 'SEMA4D', 'sema3e.S', 'sema3a.S', 'lamb1.S', 'LOC118426442', 'LOC118426872', 'LOC108709206', 'sema4b.S', 'EFNA2', 'LOC118428730', 'SEMA3B', 'sema4c.S', 'G3QIE8', 'LAMB1', 'BOC', 'SLIT3', 'HMCN2', 'EPHA8', 'G3R3A6', 'EPHB1', 'madd-2', 'sema6b.S', 'EFNA3', 'NTN4', 'PLXNA3', 'KIF5B', 'SEMA4F', 'G3R7I1', 'EPHA7', 'MYCBP2', 'DCC', 'DAG1', 'PLXNA4', 'sema4d.S', 'EPHA4', 'LAMB2', 'NFASC', 'SEMA4C', 'LAMC2', 'MYOT', 'bsg.S', 'LAMA5', 'G3QZJ6', 'LAMB3', 'EPHB2', 'LOC108707897', 'ncam2.L', 'EPHB6', 'MEGF9', 'SEMA3A', 'NTN5', 'ncam1-b', 'SEMA3D', 'A0A7M7P1Z2', 'arhgef25.L', 'EPHA5', 'SEMA3C', 'KIFC2', 'SEMA3G', 'cyfip1.L', 'KIF5B', 'A0A903XX56', 'SEMA6C', 'NFASC', 'LAMB1', 'UNC5C', 'SEMA3C', 'NOTCH1', 'ROBO1', 'nrp2', 'MEGF9', 'H2M6A1', 'LOC101164818', 'NRP1', 'sema4g', 'unc5b', 'LOC101160359', 'dag1', 'sema6d', '20194847', 'A0A1S4G9V5', 'A0A1S4G8Y9', 'A0A1S4G931', 'A0A1S4G8B8', 'VASP', 'H2LN81', 'PLXNA4', 'ENAH', 'SLIT2', 'A0A1S4GEL5', 'A0A1S4GEK7', 'A0A1S4GDV6', 'A0A1S4GBS3', 'ARHGEF25', 'KIF5A', 'A0A1S4GB93', 'ROBO3', 'A0A1S4GZP9', 'A0A1S4GZM3', 'A0A1S4GZI7', 'A0A1S4GZ91', 'A0A8I3RV69', 'AUGUSTUS-3.0.2_08794', 'CBG12715', 'LAMA2', 'UNC5A', 'EFNB3', 'NTN5', 'EPHA3', 'sema5b.S', 'CDK5R1', 'AUGUSTUS-3.0.2_03460', 'EPHB2', 'DCC', 'AUGUSTUS-3.0.2_03312', 'EPHB2', 'SEMA4D', 'ENAH', 'SEMA6C', 'LAMB1', '1271779', 'efnb2.L', 'epha5', 'slit1.S', 'EFNA5', '20206116', '20208253', '20215545', 'epha4', 'LOC101173475', '20210800', '20210819', 'NRCAM', 'epha3', 'LOC101156311', '20212065', '20216281', '20216935', 'DAPPUDRAFT_308080', 'SEMA4G', 'A0A1S4GMH2', 'CYFIP1', 'A0A1S4GH37', 'A0A1S4GGL7', 'EFNA1', 'A0A1S4GG45', 'A0A1S4GFI2', 'MYOT', 'A0A1S4H6V3', 'A0A1S4H715', 'A0A1S4H6D7', 'nrp1', 'A0A1S4H5Z6', 'A0A1S4H690', 'A0A1S4H5W0', 'A0A1S4H584', 'A0A1S4GSR3', 'A0A1S4H4M3', 'A0A1S4H400', 'A0A1S4H3H1', 'A0A1S4H3F3', 'A0A1S4GQU5', 'A0A1S4H1D4', 'A0A1S4GPA5', 'A0A1S4GP29', 'A0A1S4H0N5', 'SEMA4F', 'SEMA4D', 'A0A1S4GX69', 'A0A1S4H8Q1', 'A0A1S4GJP2', 'BOC', 'NRP1', 'PLXNA3', 'EFNB1', 'SLIT2', 'NPTN', 'SEMA6D', 'NTN4', 'F7GFS5', 'VASP', 'ephb3.S', 'ephb1-b', 'PALLD', 'EFNA5', 'CNTN1', 'dcc.L', 'ephb1-a', 'SEMA6D', 'ARK2C', 'KIF5C', 'EPHA3', 'AUGUSTUS-3.0.2_11608', 'GAP43', 'AUGUSTUS-3.0.2_03806', 'AUGUSTUS-3.0.2_02636', 'AUGUSTUS-3.0.2_03207', 'SEMA5B', 'AUGUSTUS-3.0.2_10540', 'CBG18884', 'CNTN1', 'A0A5F5PFZ5', 'WBGene00275054', 'WBGene00106454', 'AUGUSTUS-3.0.2_00582', 'AUGUSTUS-3.0.2_14179', 'AUGUSTUS-3.0.2_04140', 'AUGUSTUS-3.0.2_04127', 'WBGene00099240', 'GAP43', 'UNC5B', 'ROBO1', 'NRP1', 'CBG11506', 'AUGUSTUS-3.0.2_09605', 'LOC118405890', 'GAP43', 'LAMA3', '20212894', 'G1KC20', 'LAMA1', 'NTN3', 'EPHA4', 'TUBB3', 'PLXNA1', 'VASP', 'EFNA3', 'ROBO3', 'CNTN2', 'BOC', 'EPHA7', 'NPTN', 'NRP1', 'LAMC2', 'PTK7', 'LAMA3', 'SEMA4C', 'LAMB4', 'SLIT1', 'SEMA4D', 'PRTG', 'LAMC3', 'MYCBP2', 'PTPRJ', 'LAMB4', 'LAMB1', 'F6ZAQ4', 'SEMA5A', 'IGDCC4', 'CYFIP1', 'SLIT2', 'DCC', 'SEMA5A', 'EPHB3', 'CNTN6', 'LAMB1', 'efn-3', 'CBG07284', 'slit1', 'slt-1', 'SEMA3G', 'PTPRO', 'ncam-1', 'MEGF9', 'A0A6I8PH80', 'CHN1', 'H9GMQ7', 'RTN4R', 'epi-1', 'AUGUSTUS-3.0.2_05545', 'unc5b-a', 'DSCAM', 'LOC118428683', 'cdk5r1', 'WBGene00117869', 'H9GS79', 'WBGene00113122', 'unc-6', 'sema3a.L', 'lam-2', 'rig-3', 'vab-2', 'MDGA1', 'EMB', 'MEGF9', 'smp-2', 'AUGUSTUS-3.0.2_09157', 'F7BNX3', 'IscW_ISCW021345', 'gex-2', 'NRP2', 'RAC3', 'TRIO', 'MYPN', 'H9GE89', 'ephb3', 'rac1.L', 'SEMA4G', 'A0A6I8P465', 'RAC3', 'EPHB6', 'CDK5R2', 'SLIT1', 'H9G4Y9', 'PLXNA3', 'A0A6I8P616', 'H9G7W6', 'CYFIP2', 'KIF5C', 'NPTN', 'KIF5A', 'EFNA5', 'H9GC28', 'DSCAM', 'CNTN3', 'EFNA2', 'IGDCC4', 'NEXN', 'LAMC2', 'CYFIP1', 'SEMA3G', 'LOC114807932', 'WBGene00091832', 'WBGene00090495', 'LAMA3', 'WBGene00099054', 'WBGene00275013', 'SEMA3B', 'WBGene00090391', 'SEMA6B', 'DCC', 'PLXNA1', 'TUBB3', 'KIF5B', 'KIFC2', 'SEMA4A', 'NTN5', 'LAMB2', 'EPHA7', 'EPHA8', 'EFNA1', 'MYOT', 'EFNB2', 'LAMB3', 'EPHB6', 'LAMC1', 'SLIT1', 'H9GFU6', 'SEMA7A', 'CBG00946', 'NTN3', 'L1CAM', 'rpm-1', 'KALRN', 'EFNB3', 'EPHA8', 'NFASC', 'A0A6I8NT15', 'NRP1', 'LAMA3', 'MYCBP2', 'LAMB2', 'A0A6I8NTQ1', 'SEMA5B', 'A0A6I8NU11', 'LAMB1', 'SEMA7A', 'W5M9H5', 'LOC100026375', 'CNTN2', 'LOC118409838', 'SEMA4G', 'Cbr-dim-1', 'CBG22148', 'ten-1', 'zig-11', 'LOC118407350', 'WBGene00113211', 'CBG15108', 'ced-10', 'WBGene00109247', 'WBGene00094663', 'rig-6', 'WBGene00102543', 'lam-1', 'CBG20059', 'WBGene00100735', 'WBGene00098145', 'WBGene00096977', 'unc-116', 'Cbr-enu-3', 'unc-34', 'CBG17392', 'dgn-1', 'WBGene00116695', 'AUGUSTUS-3.0.2_02141', 'wrk-1', 'CBG22503', 'zig-4', 'NRP1', 'WBGene00101909', 'WBGene00102318', 'SEMA7A', 'LAMB3', 'MYCBP2', 'WBGene00104419', 'LAMA5', 'CBG16014', 'PLXNA4', 'WBGene00096413', 'CBG15514', 'LAMC1', 'A0A6I8MZP1', 'A0A6I8MZJ3', 'EFNA2', 'EPHB2', 'LOC100077200', 'LOC103170249', 'KIF5A', 'UNC5B', 'PTPRJ', 'cdk5r2.S', 'BSG', 'A0A6I8NBM6', 'UNC5A', 'MYOT', 'SEMA4F', 'W5MIQ6', 'EFNA5', 'A0A6I8NFW3', 'TUBB3', 'SEMA6A', 'PTK7', 'EPHA6', 'W5ME48', 'LAMC2', 'A0A1S4GWQ7', 'DAPPUDRAFT_265266', 'bsg.L', 'DAPPUDRAFT_118692', 'DAPPUDRAFT_328903', 'DAPPUDRAFT_328717', 'DAPPUDRAFT_300674', 'DAPPUDRAFT_330310', 'CYFIP1', 'DAPPUDRAFT_331991', 'SEMA3F', 'LRRC24', 'DAPPUDRAFT_309386', 'CDK5R1', 'CXCL12', 'DAPPUDRAFT_303516', 'F6Y6P2', 'DAPPUDRAFT_116654', 'LAMC1', 'kalrn.S', 'KIF5A', 'EFNA1', 'efna4.L', 'LOC108705066', 'W5N563', 'UNC5B', 'SEMA3D', 'DSCAM', 'LOC108710233', 'dscam.L', 'LOC108708862', 'ncam2.S', 'W5MS01', 'RAC3', 'W5MRC2', 'W5MQZ7', 'W5N2A4', 'ephb2.L', 'SEMA4D', 'W5N0Z7', 'W5MP98', 'W5MNJ1', 'lama5.L', 'W5MMT4', 'W5N7E9', 'W5N7A6', 'W5N6U6', 'W5N6T4', 'W5N6E5', 'W5N4K4', 'W5MYD6', 'dcc.S', 'W5N7M0', 'W5NEZ2', 'W5NF58', 'sema3d.S', 'W5NDE2', 'W5NDA2', 'W5NCS2', 'W5NCK2', 'LOC108714653', 'neo1.L', 'EPHA7', 'LOC119881742', 'W5NHZ9', 'W5NHZ6', 'W5NI86', 'W5NGI4', 'W5NGA6', 'unc5c.L', 'W5NG30', 'W5NG29', 'W5NG27', 'W5NFH3', 'W5NBU6', 'W5NBJ7', 'boc.S', 'W5NAX9', 'W5NB96', 'lamb4.L', 'W5NAJ8', 'W5NAJ4', 'W5NAH6', 'LOC108708146', 'efnb3.L', 'efna5.S', 'W5MYV5', 'W5MZ01', 'TRIO', 'SEMA5A', 'SEMA4F', 'EPHA5', 'EPHB3', 'NOTCH1', 'MEGF9', 'HMCN2', 'CDK5R1', 'KIFC2', 'SMO', 'LAMB4', 'SEMA3D', 'SEMA4D', 'CHN1', 'SEMA4C', 'efnb2', 'EPHA6', 'EPHA3', 'SEMA5B', 'SEMA3G', 'EVL', 'DAG1', 'LAMB2', 'CHL1', 'NFASC', 'DSCAM', 'EPHB6', 'NRP2', 'PTPRH', 'NTN5', 'EVL', 'unc5c.S', 'W5MQ51', 'W5N2G2', 'rac3.S', 'BSG', 'UNC5D', 'SEMA6B', 'LAMA3', 'lamc1', 'EPHB2', 'LOC101159120', 'sema3a', 'rtn4r', 'LOC101168573', 'LOC111948169', 'NTN4', 'SEMA3C', 'LOC101160158', 'lamb2', 'plxna3', 'EFNA5', 'sema3b', 'gap43', 'ROBO4', 'ccdc141', 'NRP1', 'LOC101165732', 'LOC101166872', 'LOC101172397', 'LOC101155634', 'KIF5A', 'A0A3B3ICM1', 'sema5a', 'NEO1', 'KIF5A', 'unc5a', 'LOC101167868', 'slit2', 'LOC101165391', 'efna3', 'SEMA4G', 'nrp1', 'LOC101174516', 'NRP2', 'SEMA3F', 'LAMA2', 'LAMB4', 'LAMB1', 'LOC100565746', 'SEMA4G', '20217758', 'LOC100566351', 'G1KQI2', 'GAP43', 'NTN4', 'UNC5C', 'LOC100561357', '20217725', '20213381', '20213221', '20213117', 'LAMB3', 'H2MZJ3', 'epha4', 'DSCAM', '20214280', '20214254', 'MYOT', 'SEMA4D', 'CNTN1', 'SEMA3A', 'CNTN5', 'PLXNA4', 'CYFIP1', 'RNF165', 'KIF5B', 'NRP1', 'CNTN6', 'KALRN', 'SEMA5A', 'EPHB1', 'BOC', 'SEMA3D', 'DSCAML1', 'SEMA6A', 'PTPRJ', 'KIF5A', 'DRAXIN', 'CYFIP1', 'EFNB2', 'LAMB2', 'LOC101169846', 'NTN1', 'NTN1', 'NRP1', 'LAMC2', 'EFNA1', 'EFNA3', 'EFNA4', 'LOC101157960', 'A0A803SZ80', 'CNTN3', 'A0A803TIU3', 'A0A803TIQ5', 'cdk5r1', 'TRIO', 'A0A803TJX9', 'SEMA3C', 'MYCBP2', 'A0A803SW05', 'PLXNA3', 'UNC5A', 'LAMA2', 'SEMA3A', 'SEMA5B', 'L1CAM', 'RAC1', 'dag1', 'NTN3', 'LAMA5', 'SEMA3F', 'CNTN2', 'PTK7', 'SEMA3E', 'SLIT2', 'UNC5A', 'sema6d.L', '20211084', 'TRIO', '20211428', 'SEMA3F', 'W5N5P1', 'W5N6F6', 'sdf1a', 'W5MIC1', 'W5MIR6', 'W5MUJ1', 'W5MUN0', 'W5N7X9', 'LAMB2', 'W5N8N5', 'W5MWQ2', 'W5NHY8', 'LAMA4', 'LAMA2', 'W5NMS1', 'VASP', 'W5NDW5', 'W5NF44', 'LAMB3', 'ntn5.L', 'RAC1', 'W5NAW5', 'CHADL', 'LOC530599', 'SEMA4G', 'NRCAM', 'CHL1', 'CNTN1', 'NEXN', 'SEMA4C', 'DSCAML1', 'EFNB2', 'UNC5C', 'NFASC', 'ARHGEF25', 'EPHB1', 'H2RF48', 'EPHB1', 'CNTN1', 'A0A3F2YYX2', 'SEMA4C', 'UNC5B', 'LAMA5', 'SEMA4A', 'NFASC', 'CDK5R2', 'F6U302', 'KALRN', 'PALLD', 'cdk5r1l.L', 'L1CAM', 'SEMA3F', 'SLIT1', 'EPHA8', 'SEMA4F', 'SEMA3E', 'PTPRJ', 'SEMA4A', 'EVL', 'F6U2Y7', 'HMCN1', 'KIF5B', 'SEMA5B', 'SEMA4B', 'F6TZW1', 'NOTCH1', 'F6U9S1', 'F6UK45', 'EFNA4', 'LAMC2', 'EPHA3', 'SEMA6D', 'LAMB4', 'NRCAM', 'CNTN5', 'efna2.S', 'epha4-a', 'SEMA6A', 'NCAM2', 'DSCAM', 'EPHA10', 'NTN3', 'SEMA3E', 'CNTN6', 'MYCBP2', 'EPHA5', 'epha4.L', 'EPHA10', 'F6TAZ7', 'KIF5C', 'RAC3', 'CHN1', 'PTPRO', 'SEMA5B', 'SEMA3D', 'TRIO', 'F6SBE5', 'UNC5A', 'DAG1', 'cntn1.L', 'SEMA4B', 'CHL1', 'SEMA3E', 'LAMA5', 'A0A2I3RB77', 'F6RZH2', 'LOC100176802', 'EFNA1', 'EFNA5', 'G3QVG0', 'LOC118412265', 'LOC118411608', 'SEMA5B', 'EPHA3', 'EFNB1', 'efna3.S', 'G3QTH4', 'SEMA7A', 'SEMA5A', 'XB22169588.L', 'LOC118431007', 'LOC108710006', 'TRIO', 'LOC118409570', 'SLIT1', 'IGDCC4', 'KALRN', 'SEMA4A', 'DAPPUDRAFT_232691', 'A0A453Z007', 'SEMA3C', 'SEMA3G', 'VASP', 'DAPPUDRAFT_314613', 'DAPPUDRAFT_300823', 'A0A453YZW6', 'A0A453Z081', 'DAPPUDRAFT_43826', 'KIFC2', 'EFNB3', 'EPHA5', 'CYFIP2', 'DAPPUDRAFT_42869', 'DAPPUDRAFT_301614', 'DAPPUDRAFT_221078', 'DAPPUDRAFT_317030', 'IGSF9', 'CYFIP2', 'CXCL12', 'NRP2', 'ARHGEF25', 'Cbr-sax-7', 'UNC5C', 'LOC445702', 'rcl1', 'rcl2', 'NPTN', 'BOC', 'CNTN1', 'EFNB1', 'F6S0L5', 'ntn4.S', 'A0A2I2Z5U4', 'A0A7M7PLX0', 'A0A7M7PK73', 'A0A7M7PBS4', 'LOC118416742', 'RNF165', 'LOC118424004', 'dag1.L', 'sema4b.L', 'LOC118422529', 'cyfip2.S', 'EFNA1', 'VASP', 'A0A7M7PQS5', 'A0A7M7PPZ6', 'A0A7M7PQ60', 'LOC118430747', 'A0A7M7PMK8', 'A0A7M7PU95', 'A0A7M7PT21', 'SMO', 'boc.L', 'DAPPUDRAFT_51392', 'DAPPUDRAFT_318274', 'DAPPUDRAFT_318272', 'DAPPUDRAFT_318256', 'DAPPUDRAFT_50242', 'UNC5C', 'EOG090X014G', 'DAPPUDRAFT_304927', 'DAPPUDRAFT_58641', 'SEMA3G', 'DAPPUDRAFT_54505', 'DAPPUDRAFT_306015', 'DAPPUDRAFT_321711', 'NRCAM', 'DAPPUDRAFT_197333', 'DAPPUDRAFT_213242', 'DAPPUDRAFT_225606', 'DAPPUDRAFT_299532', 'DAPPUDRAFT_53741', 'DAPPUDRAFT_324455', 'CNTN2', 'DAPPUDRAFT_56315', 'DAPPUDRAFT_326839', 'DAPPUDRAFT_227442', 'Ci-EphrinA-b', 'Ci-EphrinB', 'notch1.L', 'A0A7M7RE03', 'A0A7M7RE02', 'A0A7M7RH51', 'A0A7M7RGT0', 'A0A7M7RFF8', 'sema4a.S', 'CYFIP2', 'A0A7M7T4W5', 'A0A7M7T2F6', 'TUBB3', 'LAMB4', 'SEMA4F', 'EVL', 'NTN4', 'PLXNA3', 'LOC100179911', 'SEMA4D', 'KIF5B', 'F6PNQ0', 'F6PNI9', 'NEO1', 'A0A7M7SXZ8', 'A0A7M7SY98', 'A0A7M7SXW4', 'SEMA3C', 'A0A7M7SXJ7', 'A0A7M7SX90', 'A0A7M7SWS9', 'NEMVEDRAFT_v1g212995', 'LAMC3', 'A0A7M7SV72', 'A0A7M7SUL3', 'NEMVEDRAFT_v1g208267', 'EFNA3', 'A0A7M7PV70', 'mdga1.S', 'LAMC1', 'A0A7M7GG86', 'WBGene00092028', 'LAMB2', 'H9GV29', 'NTN1', 'SEMA4G', 'LAMC3', 'SLIT2', 'SEMA3F', 'NTN1', 'dep-1', 'NEXN', 'AUGUSTUS-3.0.2_06432', 'AUGUSTUS-3.0.2_05715', 'AUGUSTUS-3.0.2_06274', 'IGSF9B', 'igcm-2', 'DAPPUDRAFT_299952', 'DAPPUDRAFT_300164', 'DAPPUDRAFT_232634', 'DAPPUDRAFT_313559', 'DAPPUDRAFT_40362', 'DAPPUDRAFT_313020', 'EPHA3', 'EVL', 'DAPPUDRAFT_303838', 'RTN4R', 'KIF5C', 'LAMC2', 'UNC5A', 'DAPPUDRAFT_46926', 'EPHB2', 'EPHA10', 'ephrina-d', 'ARK2C', '1276778', 'NEO1', 'MEGF9', 'DAPPUDRAFT_48390', 'LAMC1', 'F6WVW2', 'DAPPUDRAFT_320914', 'SEMA3E', 'NEO1', 'F7AWF9', 'F7AJJ9', 'SEMA3B', 'EFNA3', 'H9G3G5', 'F7AGL2', 'UNC5D', 'UNC5D', 'SEMA4C', 'KIF5C', 'CBG12739', 'SEMA3A', 'NTN5', 'EFNB1', 'LOC108696466', 'SMO', 'RAC3', 'SEMA3C', 'CDK5R1', 'DRAXIN', 'SMO', 'NTN4', 'EMB', 'sema6a.S', 'SEMA3A', 'kalrn.L', 'lama3.L', 'LOC108718546', 'trio.L', 'epha8.L', 'LOC108716955', 'LOC108705322', 'unc5b.S', 'LOC108695757', 'ncam1.L', 'sema4g.S', 'W5MWV0', 'slit2.S', 'LOC108698967', 'evl.L', 'W5N351', 'W5MQW5', 'sema3fl.L', 'ephb2.S', 'LOC108697840', 'LOC108704562', 'LOC108700621', 'SEMA4G', 'SEMA3G', 'NOTCH1', 'CYFIP2', 'PLXNA4', 'evl.S', 'mdga2.S', 'LOC108702189', 'LOC108700560', 'sema3fl.S', 'sema4a.L', 'W5N220', 'EMB', 'mycbp2.L', 'LOC108707575', 'W5MF63', 'LOC108707501', 'LOC108708870', 'nfasc.S', 'LOC108707429', 'unc5d.S', 'LOC108711356', 'LOC108710311', 'cntn4.S', 'LOC121401677', 'LOC108712410', 'sema6d.S', 'unc5a.S', 'LOC108698051', 'LOC108713037', 'KALRN', 'CDK5R2', 'DSCAM', 'PTPRV', 'mycbp2.S', 'LOC108709572', 'LOC108711304', 'NTN3', 'LOC108710982', 'sema3b.L', 'nexn.S', 'sema3f.L', 'sema3e.L', 'IscW_ISCW014125', 'W5LZ11', 'nrcam.S', 'nrcam.L', 'lamb2.S', 'W5NBW0', 'SEMA3B', 'SMO', 'RAC1', 'SLIT3', 'CNTN4', 'SEMA3F', 'SEMA7A', 'SEMA3B', 'CDK5R1', 'PLXNA3', 'SEMA6B', 'CHN1', 'LAMA5', 'MYOT', 'IscW_ISCW017602', 'efna1.L', 'DAG1', 'PLXNA4', 'BOC', 'CNTN4', 'DRAXIN', 'CDK5R1', 'SLIT3', 'IscW_ISCW003385', 'EFNB1', 'SEMA4B', 'A0A7M6UN18', 'LAMA2', 'EMB', 'EFNA4', 'SEMA3E', 'SEMA3C', 'F6ZTT3', 'LAMB2', 'MYOT', 'SLIT3', 'PTPRH', 'W5NN63', 'LOC108716517', 'W5NP71', 'neo1.S', 'rnf165.L', 'epha7.S', 'SMO', 'BOC', 'A0A1S4H898', 'efna5.L', 'A0A3Q2H2F5', 'epha4.S', 'CYFIP1', 'epha7.L', 'EFNA2', 'SEMA3A', 'EPHB6', 'ENAH', 'SEMA6D', 'NCAM1', 'ROBO4', 'EMB', 'NTN5', 'cyfip2', 'vasp.L', 'LAMA3', 'enah.L', 'PLXNA3', 'EPHA3', 'ARK2C', 'UNC5C', 'ephb4.L', 'LOC111771846', 'LAMC1', 'PALLD', 'NTN1', 'EPHB6', 'SEMA6B', 'SEMA6D', 'PTPRO', 'EPHA5', 'NFASC', 'SEMA6A', 'A0A1S4GR64', 'EPHA6', 'NPTN', 'ENAH', 'unc5b-b', 'ENAH', 'LAMC2', 'NRP2', 'EFNA2', '20213769', 'LOC101174571', 'cdk5r1l.S', 'LAMA5', 'efnb1', 'EPHA6', 'sema3b', 'RAC3', 'UNC5B', 'EFNB3', 'GAP43', 'EVL', 'NPTN', 'RAC1', 'notch1', 'ephb3.L', 'EPHA4', 'EFNA2', 'IGFALS', 'SEMA6D', 'CHL1', 'A0A1S4LLU5', 'EPHA6', 'LAMA2', 'SMO', 'DAG1', 'EPHB6', 'MYCBP2', 'DRAXIN', 'PLXNA1', 'LAMB3', 'LAMC1', 'CNTN5', 'ROBO3', 'NTN3', 'smo.S', 'EVL', 'PLXNA1', 'NPTN', 'SEMA7A', 'EPHA8', 'EPHA7', 'WBGene00096764', 'LAMC3', 'KIF5C', 'SEMA5A', 'NTN4', 'zig-3', 'EPHA6', 'W5MLZ9', 'ARHGEF25', 'ankrd55.S', 'W5MJY6', 'W5MK88', 'NTN1', 'PALLD', 'A0A5F8H9H9', 'A0A5F8H8U7', 'CDK5R2', 'SLIT3', 'DSCAML1', 'him-4', 'EVL', 'TRIADDRAFT_27868', 'WBGene00104946', 'TRIADDRAFT_54045', 'KIFC2', 'SEMA5A', 'SEMA4D', 'DAG1', 'PLXNA1', 'ARK2C', 'RNF165', 'A0A3B3IPH6', 'MEGF8', 'PLXNA3', 'RAC1', 'A0A5F8GSB0', 'UNC5A', 'rnf165.S', 'ephb4.S', 'LOC108703540', 'W5MHU8', 'W5M469', 'EPHA5', 'LAMC1', 'NTN1', 'W5M925', 'W5LW57', 'W5M7T6', 'IscW_ISCW022067', 'W5M6K9', 'CHL1', 'W5MH44', 'sdk2.S', 'chn1.S', 'W5MFW3', 'W5MG48', 'sema6c.L', 'W5MB66', 'IscW_ISCW023928', 'SLIT2', 'EPHA8', 'W5LXN0', 'IscW_ISCW022096', 'IscW_ISCW022093', 'l1cam.S', 'W5MDZ1', 'UNC5A', 'IscW_ISCW015049', 'ncam1.S', 'IscW_ISCW023403', 'SEMA4F', '8041721', 'LAMA3', 'hspg2.L', 'LOC100191024', 'W5M6E3', 'W5M5C2', 'IscW_ISCW011859', 'LOC101175150', 'lamc3', 'EPHA6', 'sema3c', 'sema3c.S', 'nrp1.S', 'KIF5B', 'NTN1', 'EFNB3', 'EFNB2', 'SEMA3D', 'LOC101171739', 'LOC101175028', 'EPHB1', 'epha8', 'LOC101155840', 'EPHA4', 'lad-2', 'LOC103099055', 'CBG26531', 'NOTCH2', 'arhgef25', 'PLXNA1', 'NEXN', 'efna1', 'evl', 'sema3d', 'NFASC', 'ARHGEF25', 'PTK7', 'DRAXIN', 'EMB', 'NTN4', 'UNC5C', 'LAMB3', 'SEMA3G', 'EPHA5', 'SLIT3', 'EFNA5', 'SEMA6C', 'l1cam', 'LAMB1', 'UNC5D', 'IscW_ISCW007116', 'IscW_ISCW021338', 'IscW_ISCW019537', 'IscW_ISCW010416', 'IscW_ISCW007213', 'IscW_ISCW021530', 'IscW_ISCW020054', 'sema5b', 'IscW_ISCW005893', 'IscW_ISCW005297', 'IscW_ISCW009628', 'W5M0M3', 'W5M0E7', 'KIF5C', 'IscW_ISCW010083', 'LOC108697557', 'IscW_ISCW018996', 'IscW_ISCW005920', 'IscW_ISCW018440', 'IscW_ISCW001964', 'IscW_ISCW016640', 'IscW_ISCW011695', 'IscW_ISCW011694', 'LOC108696368', 'IscW_ISCW017420', 'IscW_ISCW002084', 'IscW_ISCW016847', 'IscW_ISCW017767', 'IscW_ISCW017597', 'EFNB2', 'IscW_ISCW003491', 'EPHA3', 'PTK7', 'NTN4', 'BOC', 'A0A1S4L5C4', 'UNC5B', 'IscW_ISCW001673', 'IscW_ISCW016480', 'IscW_ISCW015900', 'IscW_ISCW000259', 'IscW_ISCW016255', 'IscW_ISCW016431', 'epha2.L', 'IscW_ISCW001545', 'LOC100179332', 'H2XJL8', 'NEXN', 'SEMA3D', 'LOC101171477', 'DSCAML1', 'RAC1', 'H9GF41', 'igdcc4', 'NOTCH3', 'efnb2.S', 'MYOT', 'LOC101175360', 'TRIADDRAFT_58750', 'SEMA4A', 'LAMA1', 'EFNA2', 'EFNA5', 'NRCAM', 'TRIO', 'A0A5F8GFE2', 'MYCBP2', 'NPTN', 'A0A803U1X7', 'Ci-NET1a']\n"
   ]
  },
  {
   "cell_type": "code",
   "execution_count": 19,
   "id": "9ea1ff53",
   "metadata": {
    "execution": {
     "iopub.execute_input": "2025-06-22T16:57:24.300704Z",
     "iopub.status.busy": "2025-06-22T16:57:24.300511Z",
     "iopub.status.idle": "2025-06-22T16:57:24.328743Z",
     "shell.execute_reply": "2025-06-22T16:57:24.328332Z"
    }
   },
   "outputs": [],
   "source": [
    "# Genes associated with 'motor neuron migration'\n",
    "gene_lists['Motor Neuron Migration'] = ['VEGFA', 'VEGFA', 'Q5ISK2', 'LHX1', 'LHX1', 'Lhx1', 'Q6PVU4', 'VEGFA', 'VEGFA', 'ASCL1', 'rest', 'nhsl1b', 'egl-20', 'vangl2', 'scrib', 'prickle1b', 'cwn-1', 'cwn-2', 'lhx1a', 'cdh2', 'VEGFA', 'LHX1', 'TBX20', 'NEUROD4', 'FZD3', 'LHX1', 'CELSR1', 'VEGFA', 'ASCL1', 'NTN1', 'CELSR2', 'DAB1', 'CELSR1', 'NEUROD4', 'PHOX2B', 'TBX20', 'RELN', 'LHX1', 'LHX1', 'OLIG3', 'TBX20', 'FZD3', 'PHOX2B', 'VEGFA', 'VEGFA', 'ASCL1', 'CELSR1', 'CELSR2', 'DAB1', 'NTN1', 'Tbx20', 'Lhx1', 'Ascl1', 'Tbx20', 'Olig3', 'Neurod4', 'Dab1', 'Celsr2', 'Nrp1', 'Ntn1', 'mig-1', 'lin-44', 'lin-17', 'Olig3', 'Nrp1', 'CELSR2', 'Ntn1', 'Dab1', 'Fzd3', 'Neurod4', 'Celsr1', 'Phox2b', 'Vegfa', 'Celsr3', 'Celsr2', 'Reln', 'NEUROD4', 'VEGFA', 'NRP1', 'NEUROD4', 'RELN', 'LHX1', 'NTN1', 'ASCL1', 'OLIG3', 'NTN1', 'CELSR2', 'VEGFA', 'RELN', 'TBX20', 'FZD3', 'TBX20', 'OLIG3', 'NRP1', 'PHOX2B', 'OLIG3', 'LHX1', 'PHOX2B', 'FZD3', 'CELSR1', 'VEGFA', 'ASCL1', 'CELSR2', 'PHOX2B', 'Vegfa', 'Phox2b', 'Reln', 'Celsr3', 'Fzd3', 'Celsr1', 'Ascl1', 'Lhx1', 'mom-5', 'mom-2', 'lhx1.L', 'cfz-2', 'cam-1', 'adgra3']\n"
   ]
  },
  {
   "cell_type": "markdown",
   "id": "349cf822",
   "metadata": {},
   "source": [
    "# Showcase"
   ]
  },
  {
   "cell_type": "code",
   "execution_count": 20,
   "id": "9155839d",
   "metadata": {
    "execution": {
     "iopub.execute_input": "2025-06-22T16:57:24.330416Z",
     "iopub.status.busy": "2025-06-22T16:57:24.330243Z",
     "iopub.status.idle": "2025-06-22T16:57:24.356303Z",
     "shell.execute_reply": "2025-06-22T16:57:24.355899Z"
    }
   },
   "outputs": [],
   "source": [
    "# steady_states, rewards, train_mask, types = generate_steady_states(partition=None)"
   ]
  },
  {
   "cell_type": "code",
   "execution_count": 21,
   "id": "6bd61826",
   "metadata": {
    "execution": {
     "iopub.execute_input": "2025-06-22T16:57:24.357867Z",
     "iopub.status.busy": "2025-06-22T16:57:24.357699Z",
     "iopub.status.idle": "2025-06-22T16:57:24.382974Z",
     "shell.execute_reply": "2025-06-22T16:57:24.382556Z"
    }
   },
   "outputs": [],
   "source": [
    "# fig = umap_plot(steady_states[-1, :, :env.dim], types)\n",
    "# fig.show()"
   ]
  },
  {
   "cell_type": "code",
   "execution_count": 22,
   "id": "12cbfd04",
   "metadata": {
    "execution": {
     "iopub.execute_input": "2025-06-22T16:57:24.384413Z",
     "iopub.status.busy": "2025-06-22T16:57:24.384247Z",
     "iopub.status.idle": "2025-06-22T16:57:24.409685Z",
     "shell.execute_reply": "2025-06-22T16:57:24.409282Z"
    }
   },
   "outputs": [],
   "source": [
    "# fig = dimension_plot(steady_states, types)\n",
    "# fig.show()"
   ]
  },
  {
   "cell_type": "code",
   "execution_count": 23,
   "id": "9992205a",
   "metadata": {
    "execution": {
     "iopub.execute_input": "2025-06-22T16:57:24.411272Z",
     "iopub.status.busy": "2025-06-22T16:57:24.411057Z",
     "iopub.status.idle": "2025-06-22T16:57:24.436072Z",
     "shell.execute_reply": "2025-06-22T16:57:24.435670Z"
    }
   },
   "outputs": [],
   "source": [
    "# ani, interval = animation(steady_states, types)\n",
    "# # Save\n",
    "# # writer = mplanim.FFMpegWriter(fps=int(1e3/interval), extra_args=['-vcodec', 'libx264'], bitrate=8e3)\n",
    "# # ani.save(filename=f'../plots/flysta3d_{partition}.mp4', writer=writer)\n",
    "# # Display\n",
    "# # from IPython.display import HTML\n",
    "# # HTML(ani.to_jshtml())"
   ]
  },
  {
   "cell_type": "code",
   "execution_count": 24,
   "id": "8959ab8d",
   "metadata": {
    "execution": {
     "iopub.execute_input": "2025-06-22T16:57:24.437556Z",
     "iopub.status.busy": "2025-06-22T16:57:24.437391Z",
     "iopub.status.idle": "2025-06-22T16:57:24.461327Z",
     "shell.execute_reply": "2025-06-22T16:57:24.460928Z"
    }
   },
   "outputs": [],
   "source": [
    "# pin_points = generate_pinning_function(steady_states, train_mask, env.get_target_modalities()[0])"
   ]
  },
  {
   "cell_type": "code",
   "execution_count": 25,
   "id": "112d31e3",
   "metadata": {
    "execution": {
     "iopub.execute_input": "2025-06-22T16:57:24.462897Z",
     "iopub.status.busy": "2025-06-22T16:57:24.462718Z",
     "iopub.status.idle": "2025-06-22T16:57:24.487474Z",
     "shell.execute_reply": "2025-06-22T16:57:24.487070Z"
    }
   },
   "outputs": [],
   "source": [
    "# fig = regular_plot(pin_points(steady_states[-1, :, :env.dim]), types)\n",
    "# fig.show()"
   ]
  },
  {
   "cell_type": "code",
   "execution_count": 26,
   "id": "f0454bb8",
   "metadata": {
    "execution": {
     "iopub.execute_input": "2025-06-22T16:57:24.489063Z",
     "iopub.status.busy": "2025-06-22T16:57:24.488888Z",
     "iopub.status.idle": "2025-06-22T16:57:24.513378Z",
     "shell.execute_reply": "2025-06-22T16:57:24.512974Z"
    }
   },
   "outputs": [],
   "source": [
    "# fig = regular_plot(env.get_target_modalities()[0].cpu(), types)\n",
    "# fig.show()"
   ]
  },
  {
   "cell_type": "code",
   "execution_count": 27,
   "id": "cc7d459f",
   "metadata": {
    "execution": {
     "iopub.execute_input": "2025-06-22T16:57:24.514902Z",
     "iopub.status.busy": "2025-06-22T16:57:24.514715Z",
     "iopub.status.idle": "2025-06-22T16:57:24.538933Z",
     "shell.execute_reply": "2025-06-22T16:57:24.538530Z"
    }
   },
   "outputs": [],
   "source": [
    "# fig = pinning_validation_plot(pin_points(steady_states[-1, :, :env.dim]), train_mask, env.get_target_modalities()[0].cpu())\n",
    "# fig.show()"
   ]
  },
  {
   "cell_type": "code",
   "execution_count": 28,
   "id": "1ebe1a41",
   "metadata": {
    "execution": {
     "iopub.execute_input": "2025-06-22T16:57:24.540516Z",
     "iopub.status.busy": "2025-06-22T16:57:24.540356Z",
     "iopub.status.idle": "2025-06-22T16:57:24.565118Z",
     "shell.execute_reply": "2025-06-22T16:57:24.564712Z"
    }
   },
   "outputs": [],
   "source": [
    "# modality_to_test = 0\n",
    "# subset = 20  # NOTE: Un-subset and below\n",
    "# pbar = tqdm(np.sort(env.dataloader.preprocessing.filter_mask[modality_to_test])[:subset])  # range(env.dataloader.raw_modal_dims[modality_to_test])\n",
    "# knocked_states = [\n",
    "#     test_knockdown(steady_states[-1], modality_to_test, feature)\n",
    "#     for feature in pbar]\n",
    "# pbar.close()\n",
    "\n",
    "# # Prepare data\n",
    "# knockdown_df = pd.DataFrame({\n",
    "#     'Gene': env.dataloader.get_transformables()[2][modality_to_test].index[:subset],\n",
    "#     'Variance': env.dataloader.preprocessing.inverse_transform([t.cpu().numpy() for t in env.get_modalities()])[modality_to_test].var(axis=0)[np.argsort(env.dataloader.preprocessing.filter_mask[modality_to_test])[:subset]],\n",
    "#     'Effect Time': [s.shape[0] for s in knocked_states],\n",
    "#     'Effect Size': [np.square(s[-1, :, :env.dim]-s[0, :, :env.dim]).mean(axis=-1).mean(axis=-1) for s in knocked_states],\n",
    "#     'Trajectory Length': [np.sqrt(np.square(s[1:, :, :env.dim]-s[:-1, :, :env.dim]).sum(axis=-1)).sum(axis=0).mean() for s in knocked_states]})\n",
    "# knockdown_df = knockdown_df.sort_values('Effect Time')"
   ]
  },
  {
   "cell_type": "code",
   "execution_count": 29,
   "id": "0eb591db",
   "metadata": {
    "execution": {
     "iopub.execute_input": "2025-06-22T16:57:24.566597Z",
     "iopub.status.busy": "2025-06-22T16:57:24.566425Z",
     "iopub.status.idle": "2025-06-22T16:57:24.591837Z",
     "shell.execute_reply": "2025-06-22T16:57:24.591405Z"
    }
   },
   "outputs": [],
   "source": [
    "# fig = butterfly_plot(knockdown_df)\n",
    "# fig.show()"
   ]
  },
  {
   "cell_type": "code",
   "execution_count": 30,
   "id": "38f49b3d",
   "metadata": {
    "execution": {
     "iopub.execute_input": "2025-06-22T16:57:24.593380Z",
     "iopub.status.busy": "2025-06-22T16:57:24.593188Z",
     "iopub.status.idle": "2025-06-22T16:57:24.617588Z",
     "shell.execute_reply": "2025-06-22T16:57:24.617237Z"
    }
   },
   "outputs": [],
   "source": [
    "# fig, axs = plt.subplots(1, 3, figsize=(9, 3))\n",
    "# for gene, ax in zip(knockdown_df.sort_values('Trajectory Length')['Gene'].iloc[-3:], axs):\n",
    "#     plot_trajectory(pin_points(knocked_states[np.argwhere(knockdown_df['Gene'] == gene)[0][0]][..., :dim]), types, ax=ax)\n",
    "#     ax.set_title(gene)\n",
    "\n",
    "# fig, axs = plt.subplots(1, 3, figsize=(9, 3))\n",
    "# for i, ax in zip((2, 3, 5), axs):\n",
    "#     feature_name = knockdown_df.sort_values('Effect Size')['Gene'].iloc[-1]\n",
    "#     feature = np.argwhere(knockdown_df['Gene'] == gene)[0][0]\n",
    "#     mult_knockdown_states = test_knockdown(steady_states[-1], modality_to_test, feature, factor=i)\n",
    "#     plot_trajectory(pin_points(mult_knockdown_states[..., :dim]), ax=ax)  # center_states\n",
    "#     ax.set_title(f'{feature_name} x{i}')\n",
    "\n",
    "# fig, axs = plt.subplots(1, 3, figsize=(9, 3))\n",
    "# for gene_list_key, ax in zip(gene_lists, axs):\n",
    "#     features = np.argwhere(env.dataloader.get_transformables()[2][modality_to_test].index.isin(gene_lists[gene_list_key])).flatten()\n",
    "#     list_knockdown_states = test_knockdown(steady_states[-1], modality_to_test, features)\n",
    "#     plot_trajectory(pin_points(list_knockdown_states[..., :dim]), ax=ax)  # center_states\n",
    "#     ax.set_title(gene_list_key)"
   ]
  },
  {
   "cell_type": "markdown",
   "id": "704f351d",
   "metadata": {},
   "source": [
    "# Cheat Sheet"
   ]
  },
  {
   "cell_type": "code",
   "execution_count": 31,
   "id": "92ee945b",
   "metadata": {
    "execution": {
     "iopub.execute_input": "2025-06-22T16:57:24.619144Z",
     "iopub.status.busy": "2025-06-22T16:57:24.618963Z",
     "iopub.status.idle": "2025-06-22T16:57:24.643709Z",
     "shell.execute_reply": "2025-06-22T16:57:24.643307Z"
    }
   },
   "outputs": [],
   "source": [
    "# steady_states, rewards = generate_steady_states(partition=None)\n",
    "# fig = umap_plot(steady_states[-1, :, :env.dim], types)\n",
    "# fig = dimension_plot(steady_states, types)\n",
    "# ani, interval = animation(steady_states, types)\n",
    "# pin_points = generate_pinning_function(steady_states, train_mask, env.get_target_modalities()[0])\n",
    "# fig = pinning_matrix_heatmap(pinning_matrix)\n",
    "# fig = regular_plot(pin_points(steady_states[-1, :, :env.dim]), types)\n",
    "# fig = regular_plot(env.get_target_modalities()[0].cpu(), types)\n",
    "# fig = pinning_validation_plot(pin_points(steady_states[-1, :, :env.dim]), train_mask, env.get_target_modalities()[0].cpu())\n",
    "# knocked_states = test_knockdown(steady_states[-1], modality, features)\n",
    "# fig = butterfly_plot(knockdown_df, gene_lists)\n",
    "# fig = plot_trajectory(pin_points(source_states[:, :, :env.dim]), ax=ax)\n"
   ]
  },
  {
   "cell_type": "markdown",
   "id": "ca30c711",
   "metadata": {},
   "source": [
    "# Execution"
   ]
  },
  {
   "cell_type": "code",
   "execution_count": 32,
   "id": "86280537",
   "metadata": {},
   "outputs": [],
   "source": [
    "policy.forward_batch_size = 1_000"
   ]
  },
  {
   "cell_type": "code",
   "execution_count": 35,
   "id": "c281156b",
   "metadata": {
    "execution": {
     "iopub.execute_input": "2025-06-22T16:57:24.645546Z",
     "iopub.status.busy": "2025-06-22T16:57:24.645218Z",
     "iopub.status.idle": "2025-06-22T16:59:32.344320Z",
     "shell.execute_reply": "2025-06-22T16:59:32.343767Z"
    }
   },
   "outputs": [
    {
     "name": "stdout",
     "output_type": "stream",
     "text": [
      "Generating steady state...\n",
      "Partition: Donor ID    Adult2\n",
      "Name: 150656_AAACAGCCAATAACGA-1, dtype: category\n",
      "Categories (12, object): ['Adol1', 'Adol2', 'Adult1', 'Adult2', ..., 'Inf1', 'Inf2', 'LaFet1', 'LaFet2']\n",
      "Resting 90th percentile velocity: 0.054\n",
      "distance: 0.00, expvar: 0.86, origin: 0.00, bound: 0.00, velocity: -0.05, action: -0.02\n"
     ]
    },
    {
     "name": "stderr",
     "output_type": "stream",
     "text": [
      "/tmp/ipykernel_230039/2965422379.py:32: RuntimeWarning: Mean of empty slice.\n",
      "  mean_val_error = raw_errors[val_mask].mean()\n",
      "/home/thema/miniconda3/envs/ct/lib/python3.10/site-packages/numpy/_core/_methods.py:147: RuntimeWarning: invalid value encountered in scalar divide\n",
      "  ret = ret.dtype.type(ret / rcount)\n"
     ]
    },
    {
     "name": "stdout",
     "output_type": "stream",
     "text": [
      "Performing knockdown...\n"
     ]
    },
    {
     "name": "stderr",
     "output_type": "stream",
     "text": [
      "  0%|          | 0/500 [00:00<?, ?it/s]/home/thema/miniconda3/envs/ct/lib/python3.10/site-packages/scipy/sparse/_index.py:210: SparseEfficiencyWarning: Changing the sparsity structure of a csr_matrix is expensive. lil and dok are more efficient.\n",
      "  self._set_arrayXarray(i, j, x)\n",
      "  0%|          | 1/500 [00:06<52:39,  6.33s/it]/home/thema/miniconda3/envs/ct/lib/python3.10/site-packages/scipy/sparse/_index.py:210: SparseEfficiencyWarning: Changing the sparsity structure of a csr_matrix is expensive. lil and dok are more efficient.\n",
      "  self._set_arrayXarray(i, j, x)\n",
      "  0%|          | 2/500 [00:12<51:42,  6.23s/it]/home/thema/miniconda3/envs/ct/lib/python3.10/site-packages/scipy/sparse/_index.py:210: SparseEfficiencyWarning: Changing the sparsity structure of a csr_matrix is expensive. lil and dok are more efficient.\n",
      "  self._set_arrayXarray(i, j, x)\n",
      "  1%|          | 3/500 [00:18<51:20,  6.20s/it]/home/thema/miniconda3/envs/ct/lib/python3.10/site-packages/scipy/sparse/_index.py:210: SparseEfficiencyWarning: Changing the sparsity structure of a csr_matrix is expensive. lil and dok are more efficient.\n",
      "  self._set_arrayXarray(i, j, x)\n",
      "  1%|          | 4/500 [00:24<51:08,  6.19s/it]/home/thema/miniconda3/envs/ct/lib/python3.10/site-packages/scipy/sparse/_index.py:210: SparseEfficiencyWarning: Changing the sparsity structure of a csr_matrix is expensive. lil and dok are more efficient.\n",
      "  self._set_arrayXarray(i, j, x)\n",
      "  1%|          | 5/500 [00:31<51:11,  6.21s/it]/home/thema/miniconda3/envs/ct/lib/python3.10/site-packages/scipy/sparse/_index.py:210: SparseEfficiencyWarning: Changing the sparsity structure of a csr_matrix is expensive. lil and dok are more efficient.\n",
      "  self._set_arrayXarray(i, j, x)\n",
      "  1%|          | 6/500 [00:38<53:56,  6.55s/it]/home/thema/miniconda3/envs/ct/lib/python3.10/site-packages/scipy/sparse/_index.py:210: SparseEfficiencyWarning: Changing the sparsity structure of a csr_matrix is expensive. lil and dok are more efficient.\n",
      "  self._set_arrayXarray(i, j, x)\n"
     ]
    },
    {
     "ename": "KeyboardInterrupt",
     "evalue": "",
     "output_type": "error",
     "traceback": [
      "\u001b[0;31m---------------------------------------------------------------------------\u001b[0m",
      "\u001b[0;31mKeyboardInterrupt\u001b[0m                         Traceback (most recent call last)",
      "Cell \u001b[0;32mIn[35], line 38\u001b[0m\n\u001b[1;32m     36\u001b[0m raw_subset_idx \u001b[38;5;241m=\u001b[39m filter_mask[subset_idx]\n\u001b[1;32m     37\u001b[0m pbar \u001b[38;5;241m=\u001b[39m tqdm(raw_subset_idx)  \u001b[38;5;66;03m# range(env.dataloader.raw_modal_dims[modality_to_test])\u001b[39;00m\n\u001b[0;32m---> 38\u001b[0m knocked_states \u001b[38;5;241m=\u001b[39m [\n\u001b[1;32m     39\u001b[0m     test_knockdown(steady_states[\u001b[38;5;241m-\u001b[39m\u001b[38;5;241m1\u001b[39m], modality_to_test, feature)\n\u001b[1;32m     40\u001b[0m     \u001b[38;5;28;01mfor\u001b[39;00m feature \u001b[38;5;129;01min\u001b[39;00m pbar]\n\u001b[1;32m     41\u001b[0m pbar\u001b[38;5;241m.\u001b[39mclose()\n\u001b[1;32m     42\u001b[0m \u001b[38;5;66;03m# Prepare dataframe\u001b[39;00m\n",
      "Cell \u001b[0;32mIn[35], line 39\u001b[0m, in \u001b[0;36m<listcomp>\u001b[0;34m(.0)\u001b[0m\n\u001b[1;32m     36\u001b[0m raw_subset_idx \u001b[38;5;241m=\u001b[39m filter_mask[subset_idx]\n\u001b[1;32m     37\u001b[0m pbar \u001b[38;5;241m=\u001b[39m tqdm(raw_subset_idx)  \u001b[38;5;66;03m# range(env.dataloader.raw_modal_dims[modality_to_test])\u001b[39;00m\n\u001b[1;32m     38\u001b[0m knocked_states \u001b[38;5;241m=\u001b[39m [\n\u001b[0;32m---> 39\u001b[0m     \u001b[43mtest_knockdown\u001b[49m\u001b[43m(\u001b[49m\u001b[43msteady_states\u001b[49m\u001b[43m[\u001b[49m\u001b[38;5;241;43m-\u001b[39;49m\u001b[38;5;241;43m1\u001b[39;49m\u001b[43m]\u001b[49m\u001b[43m,\u001b[49m\u001b[43m \u001b[49m\u001b[43mmodality_to_test\u001b[49m\u001b[43m,\u001b[49m\u001b[43m \u001b[49m\u001b[43mfeature\u001b[49m\u001b[43m)\u001b[49m\n\u001b[1;32m     40\u001b[0m     \u001b[38;5;28;01mfor\u001b[39;00m feature \u001b[38;5;129;01min\u001b[39;00m pbar]\n\u001b[1;32m     41\u001b[0m pbar\u001b[38;5;241m.\u001b[39mclose()\n\u001b[1;32m     42\u001b[0m \u001b[38;5;66;03m# Prepare dataframe\u001b[39;00m\n",
      "Cell \u001b[0;32mIn[14], line 16\u001b[0m, in \u001b[0;36mtest_knockdown\u001b[0;34m(steady_state, modality, features, factor, max_steps)\u001b[0m\n\u001b[1;32m     14\u001b[0m \u001b[38;5;66;03m# Knock down feature\u001b[39;00m\n\u001b[1;32m     15\u001b[0m adatas, adata_obs, adata_vars \u001b[38;5;241m=\u001b[39m env\u001b[38;5;241m.\u001b[39mdataloader\u001b[38;5;241m.\u001b[39mget_transformables()\n\u001b[0;32m---> 16\u001b[0m iso_modality \u001b[38;5;241m=\u001b[39m \u001b[43menv\u001b[49m\u001b[38;5;241;43m.\u001b[39;49m\u001b[43mdataloader\u001b[49m\u001b[38;5;241;43m.\u001b[39;49m\u001b[43mpreprocessing\u001b[49m\u001b[38;5;241;43m.\u001b[39;49m\u001b[43mtransform\u001b[49m\u001b[43m(\u001b[49m\n\u001b[1;32m     17\u001b[0m \u001b[43m    \u001b[49m\u001b[43madatas\u001b[49m\u001b[43m[\u001b[49m\u001b[43mmodality\u001b[49m\u001b[43m]\u001b[49m\u001b[43m[\u001b[49m\u001b[43menv\u001b[49m\u001b[38;5;241;43m.\u001b[39;49m\u001b[43mkeys\u001b[49m\u001b[43m]\u001b[49m\u001b[38;5;241;43m.\u001b[39;49m\u001b[43mX\u001b[49m\u001b[43m,\u001b[49m\n\u001b[1;32m     18\u001b[0m \u001b[43m    \u001b[49m\u001b[43msubset_features\u001b[49m\u001b[38;5;241;43m=\u001b[39;49m\u001b[43mfeatures\u001b[49m\u001b[43m,\u001b[49m\n\u001b[1;32m     19\u001b[0m \u001b[43m    \u001b[49m\u001b[43msubset_modality\u001b[49m\u001b[38;5;241;43m=\u001b[39;49m\u001b[43mmodality\u001b[49m\u001b[43m)\u001b[49m[\u001b[38;5;241m0\u001b[39m]\n\u001b[1;32m     20\u001b[0m iso_modality \u001b[38;5;241m=\u001b[39m torch\u001b[38;5;241m.\u001b[39mtensor(iso_modality)\u001b[38;5;241m.\u001b[39mto(env\u001b[38;5;241m.\u001b[39mdevice)\n\u001b[1;32m     21\u001b[0m env\u001b[38;5;241m.\u001b[39mmodalities[modality] \u001b[38;5;241m-\u001b[39m\u001b[38;5;241m=\u001b[39m iso_modality \u001b[38;5;241m-\u001b[39m factor\u001b[38;5;241m*\u001b[39miso_modality\n",
      "File \u001b[0;32m~/repos/inept/celltrip/utility/processing.py:191\u001b[0m, in \u001b[0;36mPreprocessing.transform\u001b[0;34m(self, modalities, adata_vars, force_filter, subset_features, subset_modality, *args, **kwargs)\u001b[0m\n\u001b[1;32m    189\u001b[0m \u001b[38;5;66;03m# PCA\u001b[39;00m\n\u001b[1;32m    190\u001b[0m \u001b[38;5;28;01mif\u001b[39;00m \u001b[38;5;28mself\u001b[39m\u001b[38;5;241m.\u001b[39mpca_dim \u001b[38;5;129;01mis\u001b[39;00m \u001b[38;5;129;01mnot\u001b[39;00m \u001b[38;5;28;01mNone\u001b[39;00m:\n\u001b[0;32m--> 191\u001b[0m     modalities \u001b[38;5;241m=\u001b[39m [p\u001b[38;5;241m.\u001b[39mtransform(m) \u001b[38;5;28;01mif\u001b[39;00m p \u001b[38;5;129;01mis\u001b[39;00m \u001b[38;5;129;01mnot\u001b[39;00m \u001b[38;5;28;01mNone\u001b[39;00m \u001b[38;5;28;01melse\u001b[39;00m m \u001b[38;5;28;01mfor\u001b[39;00m m, p \u001b[38;5;129;01min\u001b[39;00m \u001b[38;5;28mzip\u001b[39m(modalities, \u001b[38;5;28mself\u001b[39m\u001b[38;5;241m.\u001b[39mpca_class[sm])]\n\u001b[1;32m    193\u001b[0m \u001b[38;5;66;03m# Return\u001b[39;00m\n\u001b[1;32m    194\u001b[0m \u001b[38;5;66;03m# NOTE: Returns features before PCA transformation, also always dense\u001b[39;00m\n\u001b[1;32m    195\u001b[0m modalities \u001b[38;5;241m=\u001b[39m [m \u001b[38;5;28;01mif\u001b[39;00m \u001b[38;5;129;01mnot\u001b[39;00m scipy\u001b[38;5;241m.\u001b[39msparse\u001b[38;5;241m.\u001b[39missparse(m) \u001b[38;5;28;01melse\u001b[39;00m m\u001b[38;5;241m.\u001b[39mtoarray() \u001b[38;5;28;01mfor\u001b[39;00m m \u001b[38;5;129;01min\u001b[39;00m modalities]\n",
      "File \u001b[0;32m~/repos/inept/celltrip/utility/processing.py:191\u001b[0m, in \u001b[0;36m<listcomp>\u001b[0;34m(.0)\u001b[0m\n\u001b[1;32m    189\u001b[0m \u001b[38;5;66;03m# PCA\u001b[39;00m\n\u001b[1;32m    190\u001b[0m \u001b[38;5;28;01mif\u001b[39;00m \u001b[38;5;28mself\u001b[39m\u001b[38;5;241m.\u001b[39mpca_dim \u001b[38;5;129;01mis\u001b[39;00m \u001b[38;5;129;01mnot\u001b[39;00m \u001b[38;5;28;01mNone\u001b[39;00m:\n\u001b[0;32m--> 191\u001b[0m     modalities \u001b[38;5;241m=\u001b[39m [\u001b[43mp\u001b[49m\u001b[38;5;241;43m.\u001b[39;49m\u001b[43mtransform\u001b[49m\u001b[43m(\u001b[49m\u001b[43mm\u001b[49m\u001b[43m)\u001b[49m \u001b[38;5;28;01mif\u001b[39;00m p \u001b[38;5;129;01mis\u001b[39;00m \u001b[38;5;129;01mnot\u001b[39;00m \u001b[38;5;28;01mNone\u001b[39;00m \u001b[38;5;28;01melse\u001b[39;00m m \u001b[38;5;28;01mfor\u001b[39;00m m, p \u001b[38;5;129;01min\u001b[39;00m \u001b[38;5;28mzip\u001b[39m(modalities, \u001b[38;5;28mself\u001b[39m\u001b[38;5;241m.\u001b[39mpca_class[sm])]\n\u001b[1;32m    193\u001b[0m \u001b[38;5;66;03m# Return\u001b[39;00m\n\u001b[1;32m    194\u001b[0m \u001b[38;5;66;03m# NOTE: Returns features before PCA transformation, also always dense\u001b[39;00m\n\u001b[1;32m    195\u001b[0m modalities \u001b[38;5;241m=\u001b[39m [m \u001b[38;5;28;01mif\u001b[39;00m \u001b[38;5;129;01mnot\u001b[39;00m scipy\u001b[38;5;241m.\u001b[39msparse\u001b[38;5;241m.\u001b[39missparse(m) \u001b[38;5;28;01melse\u001b[39;00m m\u001b[38;5;241m.\u001b[39mtoarray() \u001b[38;5;28;01mfor\u001b[39;00m m \u001b[38;5;129;01min\u001b[39;00m modalities]\n",
      "File \u001b[0;32m~/miniconda3/envs/ct/lib/python3.10/site-packages/sklearn/utils/_set_output.py:316\u001b[0m, in \u001b[0;36m_wrap_method_output.<locals>.wrapped\u001b[0;34m(self, X, *args, **kwargs)\u001b[0m\n\u001b[1;32m    314\u001b[0m \u001b[38;5;129m@wraps\u001b[39m(f)\n\u001b[1;32m    315\u001b[0m \u001b[38;5;28;01mdef\u001b[39;00m\u001b[38;5;250m \u001b[39m\u001b[38;5;21mwrapped\u001b[39m(\u001b[38;5;28mself\u001b[39m, X, \u001b[38;5;241m*\u001b[39margs, \u001b[38;5;241m*\u001b[39m\u001b[38;5;241m*\u001b[39mkwargs):\n\u001b[0;32m--> 316\u001b[0m     data_to_wrap \u001b[38;5;241m=\u001b[39m \u001b[43mf\u001b[49m\u001b[43m(\u001b[49m\u001b[38;5;28;43mself\u001b[39;49m\u001b[43m,\u001b[49m\u001b[43m \u001b[49m\u001b[43mX\u001b[49m\u001b[43m,\u001b[49m\u001b[43m \u001b[49m\u001b[38;5;241;43m*\u001b[39;49m\u001b[43margs\u001b[49m\u001b[43m,\u001b[49m\u001b[43m \u001b[49m\u001b[38;5;241;43m*\u001b[39;49m\u001b[38;5;241;43m*\u001b[39;49m\u001b[43mkwargs\u001b[49m\u001b[43m)\u001b[49m\n\u001b[1;32m    317\u001b[0m     \u001b[38;5;28;01mif\u001b[39;00m \u001b[38;5;28misinstance\u001b[39m(data_to_wrap, \u001b[38;5;28mtuple\u001b[39m):\n\u001b[1;32m    318\u001b[0m         \u001b[38;5;66;03m# only wrap the first output for cross decomposition\u001b[39;00m\n\u001b[1;32m    319\u001b[0m         return_tuple \u001b[38;5;241m=\u001b[39m (\n\u001b[1;32m    320\u001b[0m             _wrap_data_with_container(method, data_to_wrap[\u001b[38;5;241m0\u001b[39m], X, \u001b[38;5;28mself\u001b[39m),\n\u001b[1;32m    321\u001b[0m             \u001b[38;5;241m*\u001b[39mdata_to_wrap[\u001b[38;5;241m1\u001b[39m:],\n\u001b[1;32m    322\u001b[0m         )\n",
      "File \u001b[0;32m~/miniconda3/envs/ct/lib/python3.10/site-packages/sklearn/decomposition/_truncated_svd.py:295\u001b[0m, in \u001b[0;36mTruncatedSVD.transform\u001b[0;34m(self, X)\u001b[0m\n\u001b[1;32m    293\u001b[0m check_is_fitted(\u001b[38;5;28mself\u001b[39m)\n\u001b[1;32m    294\u001b[0m X \u001b[38;5;241m=\u001b[39m \u001b[38;5;28mself\u001b[39m\u001b[38;5;241m.\u001b[39m_validate_data(X, accept_sparse\u001b[38;5;241m=\u001b[39m[\u001b[38;5;124m\"\u001b[39m\u001b[38;5;124mcsr\u001b[39m\u001b[38;5;124m\"\u001b[39m, \u001b[38;5;124m\"\u001b[39m\u001b[38;5;124mcsc\u001b[39m\u001b[38;5;124m\"\u001b[39m], reset\u001b[38;5;241m=\u001b[39m\u001b[38;5;28;01mFalse\u001b[39;00m)\n\u001b[0;32m--> 295\u001b[0m \u001b[38;5;28;01mreturn\u001b[39;00m \u001b[43msafe_sparse_dot\u001b[49m\u001b[43m(\u001b[49m\u001b[43mX\u001b[49m\u001b[43m,\u001b[49m\u001b[43m \u001b[49m\u001b[38;5;28;43mself\u001b[39;49m\u001b[38;5;241;43m.\u001b[39;49m\u001b[43mcomponents_\u001b[49m\u001b[38;5;241;43m.\u001b[39;49m\u001b[43mT\u001b[49m\u001b[43m)\u001b[49m\n",
      "File \u001b[0;32m~/miniconda3/envs/ct/lib/python3.10/site-packages/sklearn/utils/extmath.py:205\u001b[0m, in \u001b[0;36msafe_sparse_dot\u001b[0;34m(a, b, dense_output)\u001b[0m\n\u001b[1;32m    203\u001b[0m         ret \u001b[38;5;241m=\u001b[39m np\u001b[38;5;241m.\u001b[39mdot(a, b)\n\u001b[1;32m    204\u001b[0m \u001b[38;5;28;01melse\u001b[39;00m:\n\u001b[0;32m--> 205\u001b[0m     ret \u001b[38;5;241m=\u001b[39m \u001b[43ma\u001b[49m\u001b[43m \u001b[49m\u001b[38;5;241;43m@\u001b[39;49m\u001b[43m \u001b[49m\u001b[43mb\u001b[49m\n\u001b[1;32m    207\u001b[0m \u001b[38;5;28;01mif\u001b[39;00m (\n\u001b[1;32m    208\u001b[0m     sparse\u001b[38;5;241m.\u001b[39missparse(a)\n\u001b[1;32m    209\u001b[0m     \u001b[38;5;129;01mand\u001b[39;00m sparse\u001b[38;5;241m.\u001b[39missparse(b)\n\u001b[1;32m    210\u001b[0m     \u001b[38;5;129;01mand\u001b[39;00m dense_output\n\u001b[1;32m    211\u001b[0m     \u001b[38;5;129;01mand\u001b[39;00m \u001b[38;5;28mhasattr\u001b[39m(ret, \u001b[38;5;124m\"\u001b[39m\u001b[38;5;124mtoarray\u001b[39m\u001b[38;5;124m\"\u001b[39m)\n\u001b[1;32m    212\u001b[0m ):\n\u001b[1;32m    213\u001b[0m     \u001b[38;5;28;01mreturn\u001b[39;00m ret\u001b[38;5;241m.\u001b[39mtoarray()\n",
      "File \u001b[0;32m~/miniconda3/envs/ct/lib/python3.10/site-packages/scipy/sparse/_base.py:732\u001b[0m, in \u001b[0;36m_spbase.__matmul__\u001b[0;34m(self, other)\u001b[0m\n\u001b[1;32m    729\u001b[0m \u001b[38;5;28;01mif\u001b[39;00m isscalarlike(other):\n\u001b[1;32m    730\u001b[0m     \u001b[38;5;28;01mraise\u001b[39;00m \u001b[38;5;167;01mValueError\u001b[39;00m(\u001b[38;5;124m\"\u001b[39m\u001b[38;5;124mScalar operands are not allowed, \u001b[39m\u001b[38;5;124m\"\u001b[39m\n\u001b[1;32m    731\u001b[0m                      \u001b[38;5;124m\"\u001b[39m\u001b[38;5;124muse \u001b[39m\u001b[38;5;124m'\u001b[39m\u001b[38;5;124m*\u001b[39m\u001b[38;5;124m'\u001b[39m\u001b[38;5;124m instead\u001b[39m\u001b[38;5;124m\"\u001b[39m)\n\u001b[0;32m--> 732\u001b[0m \u001b[38;5;28;01mreturn\u001b[39;00m \u001b[38;5;28;43mself\u001b[39;49m\u001b[38;5;241;43m.\u001b[39;49m\u001b[43m_matmul_dispatch\u001b[49m\u001b[43m(\u001b[49m\u001b[43mother\u001b[49m\u001b[43m)\u001b[49m\n",
      "File \u001b[0;32m~/miniconda3/envs/ct/lib/python3.10/site-packages/scipy/sparse/_base.py:624\u001b[0m, in \u001b[0;36m_spbase._matmul_dispatch\u001b[0;34m(self, other)\u001b[0m\n\u001b[1;32m    622\u001b[0m         \u001b[38;5;28;01mreturn\u001b[39;00m result\u001b[38;5;241m.\u001b[39mreshape(M, \u001b[38;5;241m1\u001b[39m)\n\u001b[1;32m    623\u001b[0m     \u001b[38;5;28;01melif\u001b[39;00m other\u001b[38;5;241m.\u001b[39mndim \u001b[38;5;241m==\u001b[39m \u001b[38;5;241m2\u001b[39m \u001b[38;5;129;01mand\u001b[39;00m other\u001b[38;5;241m.\u001b[39mshape[\u001b[38;5;241m0\u001b[39m] \u001b[38;5;241m==\u001b[39m N:\n\u001b[0;32m--> 624\u001b[0m         \u001b[38;5;28;01mreturn\u001b[39;00m \u001b[38;5;28;43mself\u001b[39;49m\u001b[38;5;241;43m.\u001b[39;49m\u001b[43m_matmul_multivector\u001b[49m\u001b[43m(\u001b[49m\u001b[43mother\u001b[49m\u001b[43m)\u001b[49m\n\u001b[1;32m    626\u001b[0m \u001b[38;5;28;01mif\u001b[39;00m isscalarlike(other):\n\u001b[1;32m    627\u001b[0m     \u001b[38;5;66;03m# scalar value\u001b[39;00m\n\u001b[1;32m    628\u001b[0m     \u001b[38;5;28;01mreturn\u001b[39;00m \u001b[38;5;28mself\u001b[39m\u001b[38;5;241m.\u001b[39m_mul_scalar(other)\n",
      "File \u001b[0;32m~/miniconda3/envs/ct/lib/python3.10/site-packages/scipy/sparse/_compressed.py:539\u001b[0m, in \u001b[0;36m_cs_matrix._matmul_multivector\u001b[0;34m(self, other)\u001b[0m\n\u001b[1;32m    537\u001b[0m \u001b[38;5;66;03m# csr_matvecs or csc_matvecs\u001b[39;00m\n\u001b[1;32m    538\u001b[0m fn \u001b[38;5;241m=\u001b[39m \u001b[38;5;28mgetattr\u001b[39m(_sparsetools, \u001b[38;5;28mself\u001b[39m\u001b[38;5;241m.\u001b[39mformat \u001b[38;5;241m+\u001b[39m \u001b[38;5;124m'\u001b[39m\u001b[38;5;124m_matvecs\u001b[39m\u001b[38;5;124m'\u001b[39m)\n\u001b[0;32m--> 539\u001b[0m \u001b[43mfn\u001b[49m\u001b[43m(\u001b[49m\u001b[43mM\u001b[49m\u001b[43m,\u001b[49m\u001b[43m \u001b[49m\u001b[43mN\u001b[49m\u001b[43m,\u001b[49m\u001b[43m \u001b[49m\u001b[43mn_vecs\u001b[49m\u001b[43m,\u001b[49m\u001b[43m \u001b[49m\u001b[38;5;28;43mself\u001b[39;49m\u001b[38;5;241;43m.\u001b[39;49m\u001b[43mindptr\u001b[49m\u001b[43m,\u001b[49m\u001b[43m \u001b[49m\u001b[38;5;28;43mself\u001b[39;49m\u001b[38;5;241;43m.\u001b[39;49m\u001b[43mindices\u001b[49m\u001b[43m,\u001b[49m\u001b[43m \u001b[49m\u001b[38;5;28;43mself\u001b[39;49m\u001b[38;5;241;43m.\u001b[39;49m\u001b[43mdata\u001b[49m\u001b[43m,\u001b[49m\n\u001b[1;32m    540\u001b[0m \u001b[43m   \u001b[49m\u001b[43mother\u001b[49m\u001b[38;5;241;43m.\u001b[39;49m\u001b[43mravel\u001b[49m\u001b[43m(\u001b[49m\u001b[43m)\u001b[49m\u001b[43m,\u001b[49m\u001b[43m \u001b[49m\u001b[43mresult\u001b[49m\u001b[38;5;241;43m.\u001b[39;49m\u001b[43mravel\u001b[49m\u001b[43m(\u001b[49m\u001b[43m)\u001b[49m\u001b[43m)\u001b[49m\n\u001b[1;32m    542\u001b[0m \u001b[38;5;28;01mif\u001b[39;00m \u001b[38;5;28mself\u001b[39m\u001b[38;5;241m.\u001b[39mndim \u001b[38;5;241m==\u001b[39m \u001b[38;5;241m1\u001b[39m:\n\u001b[1;32m    543\u001b[0m     \u001b[38;5;28;01mreturn\u001b[39;00m result\u001b[38;5;241m.\u001b[39mreshape((n_vecs,))\n",
      "\u001b[0;31mKeyboardInterrupt\u001b[0m: "
     ]
    },
    {
     "data": {
      "image/png": "[encoded data removed]",
      "text/plain": [
       "<Figure size 400x400 with 1 Axes>"
      ]
     },
     "metadata": {},
     "output_type": "display_data"
    },
    {
     "data": {
      "image/png": "[encoded data removed]",
      "text/plain": [
       "<Figure size 400x400 with 1 Axes>"
      ]
     },
     "metadata": {},
     "output_type": "display_data"
    },
    {
     "data": {
      "image/png": "[encoded data removed]",
      "text/plain": [
       "<Figure size 640x480 with 1 Axes>"
      ]
     },
     "metadata": {},
     "output_type": "display_data"
    },
    {
     "data": {
      "image/png": "[encoded data removed]",
      "text/plain": [
       "<Figure size 400x400 with 2 Axes>"
      ]
     },
     "metadata": {},
     "output_type": "display_data"
    },
    {
     "data": {
      "image/png": "[encoded data removed]",
      "text/plain": [
       "<Figure size 400x400 with 1 Axes>"
      ]
     },
     "metadata": {},
     "output_type": "display_data"
    },
    {
     "data": {
      "image/png": "[encoded data removed]",
      "text/plain": [
       "<Figure size 400x400 with 1 Axes>"
      ]
     },
     "metadata": {},
     "output_type": "display_data"
    },
    {
     "data": {
      "image/png": "[encoded data removed]",
      "text/plain": [
       "<Figure size 400x400 with 1 Axes>"
      ]
     },
     "metadata": {},
     "output_type": "display_data"
    }
   ],
   "source": [
    "# Get partition\n",
    "if partition_cols is not None:\n",
    "    # partition = env.dataloader.adatas[0].obs.loc[env.dataloader.adatas[0].obs['development']==layer, partition_cols]\n",
    "    # partition = partition.loc[full_train_mask]  # Restrict to training set\n",
    "    # partition = partition.iloc[0]\n",
    "    partition = tuple(env.dataloader.adatas[0].obs.loc[env.get_keys(noise=False), partition_cols].iloc[0].tolist())\n",
    "    prefix = f'{policy_name}_' + '_'.join(partition)\n",
    "else:\n",
    "    partition = None\n",
    "    prefix = policy_name\n",
    "\n",
    "# Generate steady state\n",
    "print('Generating steady state...')\n",
    "steady_states, rewards, train_mask, types = generate_steady_states(env, policy, partition=partition, subsample=None)  # TODO: Cast to CPU instantly and remove subsample\n",
    "# dimension_plot(steady_states, types).savefig(f'../plots/{prefix}_dimension.pdf')  # Only need to print for debugging really\n",
    "umap_plot(env.get_input_modalities()[0].cpu(), types).savefig(f'../plots/{prefix}_input_umap.pdf', transparent=True)\n",
    "umap_plot(steady_states[-1, :, :env.dim], types).savefig(f'../plots/{prefix}_umap.pdf', transparent=True)\n",
    "ani, interval = animation(steady_states, types)  # Animation output\n",
    "writer = mplanim.FFMpegWriter(fps=int(1e3/interval), extra_args=['-vcodec', 'libx264'], bitrate=8e3)\n",
    "ani.save(filename=f'../plots/{prefix}.mp4', writer=writer)\n",
    "\n",
    "# Pinning\n",
    "pin_points, pinning_matrix = generate_pinning_function(steady_states, train_mask, env.get_target_modalities()[0])  # TODO: Remove train_mask from args\n",
    "pinning_matrix_heatmap(pinning_matrix).savefig(f'../plots/{prefix}_pinned_heatmap.pdf', transparent=True)\n",
    "regular_plot(pin_points(steady_states[-1, :, :env.dim]), types).savefig(f'../plots/{prefix}_pinned.pdf', transparent=True)\n",
    "regular_plot(env.get_target_modalities()[0].cpu(), types).savefig(f'../plots/{prefix}_ground_truth.pdf', transparent=True)\n",
    "pinning_validation_plot(pin_points(steady_states[-1, :, :env.dim]), train_mask, env.get_target_modalities()[0].cpu()).savefig(f'../plots/{prefix}_pinned_validation.pdf', transparent=True)\n",
    "\n",
    "# Knockdown\n",
    "print('Performing knockdown...')\n",
    "# TODO: Currently subset\n",
    "modality_to_test = 0\n",
    "filter_mask = env.dataloader.preprocessing.filter_mask[modality_to_test]\n",
    "if filter_mask is None: filter_mask = np.arange(env.dataloader.modal_dims[modality_to_test])\n",
    "subset_idx = np.random.choice(len(filter_mask), min(500, len(filter_mask)), replace=False)  # np.arange(len(env.dataloader.preprocessing.filter_mask[modality_to_test]))\n",
    "raw_subset_idx = filter_mask[subset_idx]\n",
    "pbar = tqdm(raw_subset_idx)  # range(env.dataloader.raw_modal_dims[modality_to_test])\n",
    "knocked_states = [\n",
    "    test_knockdown(steady_states[-1], modality_to_test, feature)\n",
    "    for feature in pbar]\n",
    "pbar.close()\n",
    "# Prepare dataframe\n",
    "knockdown_df = pd.DataFrame({\n",
    "    'Trial': np.arange(len(subset_idx)),\n",
    "    'Modality': modality_to_test,\n",
    "    'Feature': raw_subset_idx,\n",
    "    'Environment Feature': subset_idx,\n",
    "    'Feature Name': env.dataloader.get_transformables()[2][modality_to_test].index[raw_subset_idx],\n",
    "    'Variance': env.dataloader.preprocessing.inverse_transform([t.cpu().numpy() for t in env.get_modalities()])[modality_to_test].var(axis=0)[subset_idx],  # Technically a bit lossy depending on params\n",
    "    'Effect Time': [s.shape[0] for s in knocked_states],\n",
    "    'Effect Size': [np.square(s[-1, :, :dim]-s[0, :, :dim]).mean(axis=-1).mean(axis=-1) for s in knocked_states],  # Total movement mean across all cells\n",
    "    'Trajectory Length': [np.sqrt(np.square(s[1:, :, :dim]-s[:-1, :, :dim]).sum(axis=-1)).sum(axis=0).mean() for s in knocked_states]})  # Continuous movement mean across all cells\n",
    "knockdown_df = knockdown_df.sort_values('Effect Time')\n",
    "\n",
    "# Butterfly plot\n",
    "butterfly_plot(knockdown_df, gene_lists).savefig(f'../plots/{prefix}_butterfly.pdf', transparent=True)\n",
    "\n",
    "# Knockdown trajectories\n",
    "print('Knockdown trajectories...')\n",
    "fig, axs = plt.subplots(1, 3, figsize=(9, 3))\n",
    "for feature_name, ax in zip(knockdown_df.sort_values('Trajectory Length')['Feature Name'].iloc[-3:], axs):\n",
    "    feature_idx = knockdown_df.loc[knockdown_df['Feature Name']==feature_name, 'Trial'].item()\n",
    "    plot_trajectory(pin_points(knocked_states[feature_idx][..., :dim]), types, ax=ax)\n",
    "    ax.set_title(feature_name)\n",
    "fig.savefig(f'../plots/{prefix}_knockdown.pdf', transparent=True)\n",
    "# Overexpression trajectories\n",
    "print('Overexpression trajectories...')\n",
    "fig, axs = plt.subplots(1, 3, figsize=(9, 3))\n",
    "for i, ax in zip((2, 3, 5), axs):\n",
    "    feature_name = knockdown_df.sort_values('Trajectory Length')['Feature Name'].iloc[-1]  # Longest trajectory\n",
    "    feature_idx = knockdown_df.loc[knockdown_df['Feature Name']==feature_name, 'Feature'].item()\n",
    "    mult_knockdown_states = test_knockdown(steady_states[-1], modality_to_test, feature_idx, factor=i)\n",
    "    plot_trajectory(pin_points(mult_knockdown_states[..., :dim]), types, ax=ax)  # center_states\n",
    "    ax.set_title(f'{feature_name} x{i}')\n",
    "fig.savefig(f'../plots/{prefix}_overexpression.pdf', transparent=True)\n",
    "# Gene list trajectories\n",
    "print('Gene list trajectories...')\n",
    "fig, axs = plt.subplots(1, 3, figsize=(9, 3))\n",
    "for gene_list_key, ax in zip(gene_lists, axs):\n",
    "    feature_idx = np.argwhere(env.dataloader.get_transformables()[2][modality_to_test].index.isin(gene_lists[gene_list_key])).flatten()\n",
    "    feature_idx = np.intersect1d(feature_idx, filter_mask)\n",
    "    if len(feature_idx) == 0:\n",
    "        warnings.warn(f'Empty gene set intersection, \"{gene_list_key}\"')\n",
    "        continue\n",
    "    list_knockdown_states = test_knockdown(steady_states[-1], modality_to_test, feature_idx)\n",
    "    plot_trajectory(pin_points(list_knockdown_states[..., :dim]), types, ax=ax)  # center_states\n",
    "    ax.set_title(gene_list_key)\n",
    "fig.savefig(f'../plots/{prefix}_gene_set_knockdown.pdf', transparent=True)"
   ]
  },
  {
   "cell_type": "code",
   "execution_count": null,
   "id": "003a3b92",
   "metadata": {},
   "outputs": [
    {
     "data": {
      "application/vnd.microsoft.datawrangler.viewer.v0+json": {
       "columns": [
        {
         "name": "index",
         "rawType": "int64",
         "type": "integer"
        },
        {
         "name": "Trial",
         "rawType": "int64",
         "type": "integer"
        },
        {
         "name": "Modality",
         "rawType": "int64",
         "type": "integer"
        },
        {
         "name": "Feature",
         "rawType": "int64",
         "type": "integer"
        },
        {
         "name": "Environment Feature",
         "rawType": "int64",
         "type": "integer"
        },
        {
         "name": "Feature Name",
         "rawType": "object",
         "type": "string"
        },
        {
         "name": "Variance",
         "rawType": "float64",
         "type": "float"
        },
        {
         "name": "Effect Time",
         "rawType": "int64",
         "type": "integer"
        },
        {
         "name": "Effect Size",
         "rawType": "float32",
         "type": "float"
        },
        {
         "name": "Trajectory Length",
         "rawType": "float32",
         "type": "float"
        }
       ],
       "ref": "f75d20dd-c462-4665-bcf2-da61eebca692",
       "rows": [
        [
         "0",
         "0",
         "0",
         "111",
         "111",
         "gene112",
         "27.598949727767618",
         "2",
         "1.9862973e-06",
         "0.002771272"
        ],
        [
         "1",
         "1",
         "0",
         "49",
         "49",
         "gene50",
         "13.418502810290594",
         "2",
         "1.9860254e-06",
         "0.0027722525"
        ],
        [
         "2",
         "2",
         "0",
         "37",
         "37",
         "gene38",
         "40.64456284060933",
         "2",
         "1.9827608e-06",
         "0.0027713994"
        ],
        [
         "3",
         "3",
         "0",
         "113",
         "113",
         "gene114",
         "15.722586623524744",
         "2",
         "1.9880176e-06",
         "0.0027740966"
        ],
        [
         "4",
         "4",
         "0",
         "149",
         "149",
         "gene150",
         "150.55113943056702",
         "2",
         "1.985967e-06",
         "0.0027714244"
        ],
        [
         "5",
         "5",
         "0",
         "156",
         "156",
         "gene157",
         "950.2393647201826",
         "2",
         "1.9872496e-06",
         "0.0027740153"
        ],
        [
         "6",
         "6",
         "0",
         "71",
         "71",
         "gene72",
         "18260.67986241863",
         "2",
         "1.9866643e-06",
         "0.0027725783"
        ],
        [
         "7",
         "7",
         "0",
         "154",
         "154",
         "gene155",
         "1078.719572390788",
         "2",
         "1.986108e-06",
         "0.002773729"
        ],
        [
         "8",
         "8",
         "0",
         "47",
         "47",
         "gene48",
         "633.5282768684999",
         "2",
         "1.9884612e-06",
         "0.00277351"
        ],
        [
         "9",
         "9",
         "0",
         "146",
         "146",
         "gene147",
         "1656.5277696372245",
         "2",
         "1.9871054e-06",
         "0.002772304"
        ],
        [
         "10",
         "10",
         "0",
         "241",
         "241",
         "gene242",
         "1014.3348444705739",
         "2",
         "1.9864358e-06",
         "0.0027725152"
        ],
        [
         "11",
         "11",
         "0",
         "214",
         "214",
         "gene215",
         "55.169473308370286",
         "2",
         "1.983716e-06",
         "0.0027700278"
        ],
        [
         "12",
         "12",
         "0",
         "228",
         "228",
         "gene229",
         "31.142310728507706",
         "2",
         "1.9879542e-06",
         "0.002773632"
        ],
        [
         "13",
         "13",
         "0",
         "118",
         "118",
         "gene119",
         "275.4800884047826",
         "2",
         "1.9859929e-06",
         "0.002771318"
        ],
        [
         "14",
         "14",
         "0",
         "73",
         "73",
         "gene74",
         "47.25548535570643",
         "2",
         "1.9873828e-06",
         "0.0027734041"
        ],
        [
         "15",
         "15",
         "0",
         "124",
         "124",
         "gene125",
         "3479.277076979387",
         "2",
         "1.98691e-06",
         "0.0027722495"
        ],
        [
         "16",
         "16",
         "0",
         "41",
         "41",
         "gene42",
         "4.370320821300093",
         "2",
         "1.985742e-06",
         "0.002771145"
        ],
        [
         "17",
         "17",
         "0",
         "64",
         "64",
         "gene65",
         "20.550288853491967",
         "2",
         "1.9873903e-06",
         "0.0027730574"
        ],
        [
         "18",
         "18",
         "0",
         "86",
         "86",
         "gene87",
         "2.0216595496930387",
         "2",
         "1.9877448e-06",
         "0.0027739701"
        ],
        [
         "19",
         "19",
         "0",
         "163",
         "163",
         "gene164",
         "232.8555601896935",
         "2",
         "1.9844329e-06",
         "0.0027724116"
        ],
        [
         "20",
         "20",
         "0",
         "199",
         "199",
         "gene200",
         "38.25678038981564",
         "2",
         "1.9857912e-06",
         "0.0027710465"
        ],
        [
         "21",
         "21",
         "0",
         "42",
         "42",
         "gene43",
         "9.55823742782912",
         "2",
         "1.98806e-06",
         "0.0027729427"
        ],
        [
         "22",
         "22",
         "0",
         "51",
         "51",
         "gene52",
         "3.2794633980400216",
         "2",
         "1.9855431e-06",
         "0.0027717014"
        ],
        [
         "23",
         "23",
         "0",
         "204",
         "204",
         "gene205",
         "5516.12516256053",
         "2",
         "1.9867116e-06",
         "0.0027729543"
        ],
        [
         "24",
         "24",
         "0",
         "3",
         "3",
         "gene4",
         "994.9231974964194",
         "2",
         "1.986913e-06",
         "0.0027739706"
        ],
        [
         "25",
         "25",
         "0",
         "4",
         "4",
         "gene5",
         "223.35599103479285",
         "2",
         "1.9887755e-06",
         "0.0027716288"
        ],
        [
         "26",
         "26",
         "0",
         "31",
         "31",
         "gene32",
         "13.205014273319323",
         "2",
         "1.9885274e-06",
         "0.0027747587"
        ],
        [
         "27",
         "27",
         "0",
         "238",
         "238",
         "gene239",
         "234.22542506571045",
         "2",
         "1.9895992e-06",
         "0.0027763043"
        ],
        [
         "28",
         "28",
         "0",
         "90",
         "90",
         "gene91",
         "16.60083360805284",
         "2",
         "1.987661e-06",
         "0.0027743406"
        ],
        [
         "29",
         "29",
         "0",
         "180",
         "180",
         "gene181",
         "1675.8035572097167",
         "2",
         "1.9873328e-06",
         "0.0027742009"
        ],
        [
         "30",
         "30",
         "0",
         "114",
         "114",
         "gene115",
         "37.31874813120785",
         "2",
         "1.989089e-06",
         "0.0027752465"
        ],
        [
         "31",
         "31",
         "0",
         "205",
         "205",
         "gene206",
         "83.6564380939159",
         "2",
         "1.9870554e-06",
         "0.0027728635"
        ],
        [
         "32",
         "32",
         "0",
         "35",
         "35",
         "gene36",
         "195.05996802578363",
         "2",
         "1.987277e-06",
         "0.0027736605"
        ],
        [
         "33",
         "33",
         "0",
         "68",
         "68",
         "gene69",
         "1910.398651761288",
         "2",
         "1.986256e-06",
         "0.002772419"
        ],
        [
         "34",
         "34",
         "0",
         "222",
         "222",
         "gene223",
         "357.5910774978395",
         "2",
         "1.98654e-06",
         "0.0027723454"
        ],
        [
         "35",
         "35",
         "0",
         "249",
         "249",
         "gene250",
         "6826.28369640838",
         "2",
         "1.9842832e-06",
         "0.0027688697"
        ],
        [
         "36",
         "36",
         "0",
         "26",
         "26",
         "gene27",
         "36.42048558796857",
         "2",
         "1.9847444e-06",
         "0.0027716127"
        ],
        [
         "37",
         "37",
         "0",
         "110",
         "110",
         "gene111",
         "27.89337154888893",
         "2",
         "1.9880495e-06",
         "0.0027747222"
        ],
        [
         "38",
         "38",
         "0",
         "13",
         "13",
         "gene14",
         "3.8608521162719414",
         "2",
         "1.9875063e-06",
         "0.0027740533"
        ],
        [
         "39",
         "39",
         "0",
         "52",
         "52",
         "gene53",
         "348.5332241177877",
         "2",
         "1.985891e-06",
         "0.002771206"
        ],
        [
         "40",
         "40",
         "0",
         "2",
         "2",
         "gene3",
         "141.10372571111256",
         "2",
         "1.9883817e-06",
         "0.002774419"
        ],
        [
         "41",
         "41",
         "0",
         "208",
         "208",
         "gene209",
         "124.75343048372471",
         "2",
         "1.9846661e-06",
         "0.0027693862"
        ],
        [
         "42",
         "42",
         "0",
         "201",
         "201",
         "gene202",
         "72.07012486930414",
         "2",
         "1.9864033e-06",
         "0.0027713312"
        ],
        [
         "43",
         "43",
         "0",
         "84",
         "84",
         "gene85",
         "44.747484055953",
         "2",
         "1.987153e-06",
         "0.0027727506"
        ],
        [
         "44",
         "44",
         "0",
         "94",
         "94",
         "gene95",
         "83.57099620820314",
         "2",
         "1.9849242e-06",
         "0.0027702593"
        ],
        [
         "45",
         "45",
         "0",
         "188",
         "188",
         "gene189",
         "3713.9741780158975",
         "2",
         "1.987036e-06",
         "0.0027730772"
        ],
        [
         "46",
         "46",
         "0",
         "179",
         "179",
         "gene180",
         "85.84794917576069",
         "2",
         "1.983598e-06",
         "0.00277157"
        ],
        [
         "47",
         "47",
         "0",
         "200",
         "200",
         "gene201",
         "63.750700861764386",
         "2",
         "1.9873455e-06",
         "0.002773981"
        ],
        [
         "48",
         "48",
         "0",
         "59",
         "59",
         "gene60",
         "791.9608654701568",
         "2",
         "1.986267e-06",
         "0.0027726004"
        ],
        [
         "49",
         "49",
         "0",
         "9",
         "9",
         "gene10",
         "1978.0906905305385",
         "2",
         "1.9867202e-06",
         "0.002772964"
        ]
       ],
       "shape": {
        "columns": 9,
        "rows": 256
       }
      },
      "text/html": [
       "<div>\n",
       "<style scoped>\n",
       "    .dataframe tbody tr th:only-of-type {\n",
       "        vertical-align: middle;\n",
       "    }\n",
       "\n",
       "    .dataframe tbody tr th {\n",
       "        vertical-align: top;\n",
       "    }\n",
       "\n",
       "    .dataframe thead th {\n",
       "        text-align: right;\n",
       "    }\n",
       "</style>\n",
       "<table border=\"1\" class=\"dataframe\">\n",
       "  <thead>\n",
       "    <tr style=\"text-align: right;\">\n",
       "      <th></th>\n",
       "      <th>Trial</th>\n",
       "      <th>Modality</th>\n",
       "      <th>Feature</th>\n",
       "      <th>Environment Feature</th>\n",
       "      <th>Feature Name</th>\n",
       "      <th>Variance</th>\n",
       "      <th>Effect Time</th>\n",
       "      <th>Effect Size</th>\n",
       "      <th>Trajectory Length</th>\n",
       "    </tr>\n",
       "  </thead>\n",
       "  <tbody>\n",
       "    <tr>\n",
       "      <th>0</th>\n",
       "      <td>0</td>\n",
       "      <td>0</td>\n",
       "      <td>111</td>\n",
       "      <td>111</td>\n",
       "      <td>gene112</td>\n",
       "      <td>27.598950</td>\n",
       "      <td>2</td>\n",
       "      <td>0.000002</td>\n",
       "      <td>0.002771</td>\n",
       "    </tr>\n",
       "    <tr>\n",
       "      <th>1</th>\n",
       "      <td>1</td>\n",
       "      <td>0</td>\n",
       "      <td>49</td>\n",
       "      <td>49</td>\n",
       "      <td>gene50</td>\n",
       "      <td>13.418503</td>\n",
       "      <td>2</td>\n",
       "      <td>0.000002</td>\n",
       "      <td>0.002772</td>\n",
       "    </tr>\n",
       "    <tr>\n",
       "      <th>2</th>\n",
       "      <td>2</td>\n",
       "      <td>0</td>\n",
       "      <td>37</td>\n",
       "      <td>37</td>\n",
       "      <td>gene38</td>\n",
       "      <td>40.644563</td>\n",
       "      <td>2</td>\n",
       "      <td>0.000002</td>\n",
       "      <td>0.002771</td>\n",
       "    </tr>\n",
       "    <tr>\n",
       "      <th>3</th>\n",
       "      <td>3</td>\n",
       "      <td>0</td>\n",
       "      <td>113</td>\n",
       "      <td>113</td>\n",
       "      <td>gene114</td>\n",
       "      <td>15.722587</td>\n",
       "      <td>2</td>\n",
       "      <td>0.000002</td>\n",
       "      <td>0.002774</td>\n",
       "    </tr>\n",
       "    <tr>\n",
       "      <th>4</th>\n",
       "      <td>4</td>\n",
       "      <td>0</td>\n",
       "      <td>149</td>\n",
       "      <td>149</td>\n",
       "      <td>gene150</td>\n",
       "      <td>150.551139</td>\n",
       "      <td>2</td>\n",
       "      <td>0.000002</td>\n",
       "      <td>0.002771</td>\n",
       "    </tr>\n",
       "    <tr>\n",
       "      <th>...</th>\n",
       "      <td>...</td>\n",
       "      <td>...</td>\n",
       "      <td>...</td>\n",
       "      <td>...</td>\n",
       "      <td>...</td>\n",
       "      <td>...</td>\n",
       "      <td>...</td>\n",
       "      <td>...</td>\n",
       "      <td>...</td>\n",
       "    </tr>\n",
       "    <tr>\n",
       "      <th>251</th>\n",
       "      <td>251</td>\n",
       "      <td>0</td>\n",
       "      <td>72</td>\n",
       "      <td>72</td>\n",
       "      <td>gene73</td>\n",
       "      <td>42.084863</td>\n",
       "      <td>2</td>\n",
       "      <td>0.000002</td>\n",
       "      <td>0.002776</td>\n",
       "    </tr>\n",
       "    <tr>\n",
       "      <th>252</th>\n",
       "      <td>252</td>\n",
       "      <td>0</td>\n",
       "      <td>78</td>\n",
       "      <td>78</td>\n",
       "      <td>gene79</td>\n",
       "      <td>44.111731</td>\n",
       "      <td>2</td>\n",
       "      <td>0.000002</td>\n",
       "      <td>0.002776</td>\n",
       "    </tr>\n",
       "    <tr>\n",
       "      <th>253</th>\n",
       "      <td>253</td>\n",
       "      <td>0</td>\n",
       "      <td>144</td>\n",
       "      <td>144</td>\n",
       "      <td>gene145</td>\n",
       "      <td>12.703901</td>\n",
       "      <td>2</td>\n",
       "      <td>0.000002</td>\n",
       "      <td>0.002772</td>\n",
       "    </tr>\n",
       "    <tr>\n",
       "      <th>254</th>\n",
       "      <td>254</td>\n",
       "      <td>0</td>\n",
       "      <td>246</td>\n",
       "      <td>246</td>\n",
       "      <td>gene247</td>\n",
       "      <td>2026.830893</td>\n",
       "      <td>2</td>\n",
       "      <td>0.000002</td>\n",
       "      <td>0.002770</td>\n",
       "    </tr>\n",
       "    <tr>\n",
       "      <th>255</th>\n",
       "      <td>255</td>\n",
       "      <td>0</td>\n",
       "      <td>75</td>\n",
       "      <td>75</td>\n",
       "      <td>gene76</td>\n",
       "      <td>584.627692</td>\n",
       "      <td>2</td>\n",
       "      <td>0.000002</td>\n",
       "      <td>0.002770</td>\n",
       "    </tr>\n",
       "  </tbody>\n",
       "</table>\n",
       "<p>256 rows × 9 columns</p>\n",
       "</div>"
      ],
      "text/plain": [
       "     Trial  Modality  Feature  Environment Feature Feature Name     Variance  \\\n",
       "0        0         0      111                  111      gene112    27.598950   \n",
       "1        1         0       49                   49       gene50    13.418503   \n",
       "2        2         0       37                   37       gene38    40.644563   \n",
       "3        3         0      113                  113      gene114    15.722587   \n",
       "4        4         0      149                  149      gene150   150.551139   \n",
       "..     ...       ...      ...                  ...          ...          ...   \n",
       "251    251         0       72                   72       gene73    42.084863   \n",
       "252    252         0       78                   78       gene79    44.111731   \n",
       "253    253         0      144                  144      gene145    12.703901   \n",
       "254    254         0      246                  246      gene247  2026.830893   \n",
       "255    255         0       75                   75       gene76   584.627692   \n",
       "\n",
       "     Effect Time  Effect Size  Trajectory Length  \n",
       "0              2     0.000002           0.002771  \n",
       "1              2     0.000002           0.002772  \n",
       "2              2     0.000002           0.002771  \n",
       "3              2     0.000002           0.002774  \n",
       "4              2     0.000002           0.002771  \n",
       "..           ...          ...                ...  \n",
       "251            2     0.000002           0.002776  \n",
       "252            2     0.000002           0.002776  \n",
       "253            2     0.000002           0.002772  \n",
       "254            2     0.000002           0.002770  \n",
       "255            2     0.000002           0.002770  \n",
       "\n",
       "[256 rows x 9 columns]"
      ]
     },
     "execution_count": 34,
     "metadata": {},
     "output_type": "execute_result"
    }
   ],
   "source": [
    "knockdown_df"
   ]
  },
  {
   "cell_type": "code",
   "execution_count": null,
   "id": "d14611af",
   "metadata": {},
   "outputs": [
    {
     "data": {
      "text/plain": [
       "tensor([0.0226, 0.0168, 0.0372, 0.0223, 0.0387, 0.1077, 0.0213, 0.0168, 0.0362,\n",
       "        0.0301, 0.0315, 0.0194, 0.0257, 0.0620, 0.0236, 0.0173, 0.0266, 0.0215,\n",
       "        0.0216, 0.0354, 0.0207, 0.0341, 0.1483, 0.0267, 0.0367, 0.0342, 0.0318,\n",
       "        0.0382, 0.0382, 0.0410, 0.0256, 0.0290, 0.0148, 0.0252, 0.0194, 0.0202,\n",
       "        0.0278, 0.0182, 0.0187, 0.0239, 0.0273, 0.0437, 0.0250, 0.0371, 0.0215,\n",
       "        0.0290, 0.0369, 0.0222, 0.0200, 0.0202, 0.0403, 0.0326, 0.0299, 0.0325,\n",
       "        0.0309, 0.0251, 0.0192, 0.0174, 0.0304, 0.0265, 0.5760, 0.0282, 0.0338,\n",
       "        0.0201, 0.0204, 0.0232, 0.0355, 0.0247, 0.0270, 0.0262, 0.0132, 0.0275,\n",
       "        0.0956, 0.0248, 0.0232, 0.0326, 0.0346, 0.0208, 0.0096, 0.0215, 0.0227,\n",
       "        0.0168, 0.0591, 0.0140, 0.0226, 0.0207, 0.0220, 0.0259, 0.0211, 0.0328,\n",
       "        0.0196, 0.0192, 0.0160, 0.0166, 0.0175, 0.0230, 0.0263, 0.0363, 0.0260,\n",
       "        0.0259, 0.0223, 0.0198, 0.0365, 0.0272, 0.0280, 0.0253, 0.0289, 0.0120,\n",
       "        0.0213, 0.0384, 0.0269, 0.0379, 0.0372, 0.0188, 0.0160, 0.1342, 0.0312,\n",
       "        0.0157, 0.0213, 0.0228, 0.0317, 0.0171, 0.0163, 0.0195, 0.0181, 0.0209,\n",
       "        0.0219, 0.0218, 0.0228, 0.0104, 0.0140, 0.0244, 0.0306, 0.0125, 0.0470,\n",
       "        0.0151, 0.0342, 0.0223, 0.0226, 0.0181, 0.0111, 0.0205, 0.0140, 0.0161,\n",
       "        0.0335, 0.0198, 0.0342, 0.0097, 0.0243, 0.0195, 0.0185, 0.0294, 0.0197,\n",
       "        0.0175, 0.0163, 0.0276, 0.0194, 0.0112, 0.0389, 0.0246, 0.0224, 0.0333,\n",
       "        0.0177, 0.0216, 0.0476, 0.0233, 0.0770, 0.0368, 0.0122, 0.0292, 0.0219,\n",
       "        0.0250, 0.0281, 0.0335, 0.0280, 0.0157, 0.0158, 0.0306, 0.0426, 0.0143,\n",
       "        0.0286, 0.0294, 0.0223, 0.0097, 0.0172, 0.0218, 0.0282, 0.0136, 0.0156,\n",
       "        0.0154, 0.0195, 0.0201, 0.0142, 0.0166, 0.0304, 0.0135, 0.0198, 0.0386,\n",
       "        0.0139, 0.0158, 0.0175, 0.0528, 0.0099, 0.0239, 0.0284, 0.0218, 0.0234,\n",
       "        0.0263, 0.0121, 0.0193, 0.0222, 0.0099, 0.0273, 0.0387, 0.0199, 0.0176,\n",
       "        0.0166, 0.0251, 0.0934, 0.0146, 0.0161, 0.0084, 0.0431, 0.0734, 0.0281,\n",
       "        0.0331, 0.0138, 0.0222, 0.0201, 0.0171, 0.0229, 0.0189, 0.0381, 0.0176,\n",
       "        0.0267, 0.0244, 0.0210, 0.0182, 0.0210, 0.0197, 0.0525, 0.0190, 0.0181,\n",
       "        0.0179, 0.0343, 0.0526, 0.0271, 0.0178, 0.0217, 0.0198, 0.0177, 0.0683,\n",
       "        0.0151, 0.0402, 0.0308, 0.0281, 0.0396, 0.0115, 0.0274, 0.0153, 0.0179,\n",
       "        0.0248, 0.0201, 0.0299, 0.0244, 0.0140, 0.0168, 0.0185, 0.0143, 0.0252,\n",
       "        0.0180, 0.0365, 0.0229, 0.0143, 0.0168, 0.0278, 0.0267, 0.0245, 0.0214,\n",
       "        0.0235, 0.0164, 0.0076, 0.0236, 0.0176, 0.0137, 0.0208, 0.0256, 0.0198,\n",
       "        0.0280, 0.0375, 0.0461, 0.0245, 0.0337, 0.0377, 0.0145, 0.0251, 0.0429,\n",
       "        0.0187, 0.0126, 0.0279, 0.0288, 0.0130, 0.0166, 0.0229, 0.0231, 0.0254,\n",
       "        0.0172, 0.0226, 0.0217, 0.0248, 0.0231, 0.0135, 0.0231, 0.0172, 0.0144,\n",
       "        0.0307, 0.0217, 0.0239, 0.0300, 0.0411, 0.0473, 0.0110, 0.0197, 0.0146,\n",
       "        0.0547, 0.0192, 0.0816, 0.0418, 0.0354, 0.0073, 0.0219, 0.0112, 0.0245,\n",
       "        0.0719, 0.0218, 0.0232, 0.0149, 0.0163, 0.0267, 0.0228, 0.0184, 0.0423,\n",
       "        0.0563, 0.0180, 0.0161, 0.0145, 0.0272, 0.0151, 0.0293, 0.0273, 0.0358,\n",
       "        0.0150, 0.0173, 0.0312, 0.0209, 0.0119, 0.0404, 0.0160, 0.0197, 0.0524,\n",
       "        0.0243, 0.0228, 0.0118, 0.0118, 0.0088, 0.0451, 0.0217, 0.0279, 0.0144,\n",
       "        0.0281, 0.0310, 0.0208, 0.0213, 0.0328, 0.0146, 0.0198, 0.0394, 0.0136,\n",
       "        0.0136, 0.0139, 0.0224, 0.0156, 0.0294, 0.0241, 0.0215, 0.0757, 0.0218,\n",
       "        0.0400, 0.0246, 0.0459, 0.0114, 0.0395, 0.0357, 0.0222, 0.0153, 0.0253,\n",
       "        0.0984, 0.0157, 0.0154, 0.0196, 0.0271, 0.0419, 0.0260, 0.0323, 0.0596,\n",
       "        0.0433, 0.0315, 0.0378, 0.0119, 0.0400, 0.0218, 0.0206, 0.0219, 0.0770,\n",
       "        0.0242, 0.0183, 0.0174, 0.0235, 0.0129, 0.0419, 0.0204, 0.0221, 0.0245,\n",
       "        0.0240, 0.0262, 0.0374, 0.0372, 0.0342, 0.0268, 0.0407, 0.0367, 0.0165,\n",
       "        0.0227, 0.0511, 0.0284, 0.0290, 0.0304, 0.0245, 0.0149, 0.0250, 0.0452,\n",
       "        0.0118, 0.0149, 0.0283, 0.0418, 0.0279, 0.0308, 0.0162, 0.0199, 0.0212,\n",
       "        0.0300, 0.0620, 0.0146, 0.0284, 0.0207, 0.0369, 0.0433, 0.0159, 0.0094,\n",
       "        0.0250, 0.0197, 0.0305, 0.0296, 0.0285, 0.0452, 0.0343, 0.0235, 0.0350,\n",
       "        0.0317, 0.0305, 0.0229, 0.0257, 0.0300, 0.0158, 0.0153, 0.0220, 0.0371,\n",
       "        0.0299, 0.0180, 0.0259, 0.0172, 0.0256, 0.0122, 0.0271, 0.0211, 0.0163,\n",
       "        0.0398, 0.0122, 0.0307, 0.0129, 0.0158, 0.0143, 0.0281, 0.0269, 0.0224,\n",
       "        0.0260, 0.0192, 0.0353, 0.0388, 0.0502])"
      ]
     },
     "execution_count": 35,
     "metadata": {},
     "output_type": "execute_result"
    }
   ],
   "source": [
    "steady_states[-1, :, dim:].norm(dim=-1)"
   ]
  },
  {
   "cell_type": "code",
   "execution_count": null,
   "id": "fd0f94b6",
   "metadata": {},
   "outputs": [
    {
     "data": {
      "text/plain": [
       "tensor([6.4013e-05, 3.5125e-05, 1.7342e-04, 6.1914e-05, 1.8679e-04, 1.4486e-03,\n",
       "        5.6560e-05, 3.5404e-05, 1.6398e-04, 1.1352e-04, 1.2400e-04, 4.6983e-05,\n",
       "        8.2269e-05, 4.8024e-04, 6.9714e-05, 3.7470e-05, 8.8387e-05, 5.8045e-05,\n",
       "        5.8457e-05, 1.5678e-04, 5.3377e-05, 1.4508e-04, 2.7475e-03, 8.8973e-05,\n",
       "        1.6836e-04, 1.4639e-04, 1.2633e-04, 1.8251e-04, 1.8241e-04, 2.1027e-04,\n",
       "        8.1675e-05, 1.0492e-04, 2.7471e-05, 7.9476e-05, 4.6819e-05, 5.1217e-05,\n",
       "        9.6330e-05, 4.1454e-05, 4.3792e-05, 7.1230e-05, 9.2903e-05, 2.3853e-04,\n",
       "        7.8043e-05, 1.7246e-04, 5.7944e-05, 1.0492e-04, 1.7053e-04, 6.1463e-05,\n",
       "        4.9829e-05, 5.1162e-05, 2.0285e-04, 1.3282e-04, 1.1194e-04, 1.3192e-04,\n",
       "        1.1954e-04, 7.8550e-05, 4.5952e-05, 3.8021e-05, 1.1548e-04, 8.7679e-05,\n",
       "        4.1470e-02, 9.9624e-05, 1.4300e-04, 5.0641e-05, 5.2007e-05, 6.7005e-05,\n",
       "        1.5789e-04, 7.6486e-05, 9.1057e-05, 8.5642e-05, 2.1872e-05, 9.4569e-05,\n",
       "        1.1422e-03, 7.6988e-05, 6.7474e-05, 1.3262e-04, 1.4965e-04, 5.4123e-05,\n",
       "        1.1583e-05, 5.7582e-05, 6.4492e-05, 3.5413e-05, 4.3679e-04, 2.4577e-05,\n",
       "        6.3807e-05, 5.3695e-05, 6.0543e-05, 8.4088e-05, 5.5819e-05, 1.3489e-04,\n",
       "        4.7865e-05, 4.5991e-05, 3.2026e-05, 3.4577e-05, 3.8217e-05, 6.6016e-05,\n",
       "        8.6311e-05, 1.6440e-04, 8.4589e-05, 8.3794e-05, 6.2309e-05, 4.8769e-05,\n",
       "        1.6694e-04, 9.2790e-05, 9.8265e-05, 8.0212e-05, 1.0448e-04, 1.7943e-05,\n",
       "        5.6749e-05, 1.8446e-04, 9.0742e-05, 1.7943e-04, 1.7280e-04, 4.4090e-05,\n",
       "        3.2154e-05, 2.2509e-03, 1.2139e-04, 3.0649e-05, 5.6486e-05, 6.4858e-05,\n",
       "        1.2567e-04, 3.6521e-05, 3.3133e-05, 4.7621e-05, 4.0862e-05, 5.4545e-05,\n",
       "        6.0195e-05, 5.9406e-05, 6.5112e-05, 1.3610e-05, 2.4461e-05, 7.4706e-05,\n",
       "        1.1672e-04, 1.9434e-05, 2.7607e-04, 2.8667e-05, 1.4648e-04, 6.1913e-05,\n",
       "        6.3879e-05, 4.1062e-05, 1.5407e-05, 5.2361e-05, 2.4471e-05, 3.2354e-05,\n",
       "        1.4069e-04, 4.9092e-05, 1.4605e-04, 1.1666e-05, 7.3706e-05, 4.7379e-05,\n",
       "        4.2572e-05, 1.0778e-04, 4.8667e-05, 3.8377e-05, 3.3162e-05, 9.5036e-05,\n",
       "        4.7142e-05, 1.5785e-05, 1.8887e-04, 7.5837e-05, 6.2780e-05, 1.3865e-04,\n",
       "        3.9296e-05, 5.8122e-05, 2.8374e-04, 6.7866e-05, 7.4207e-04, 1.6919e-04,\n",
       "        1.8752e-05, 1.0659e-04, 5.9689e-05, 7.8087e-05, 9.8650e-05, 1.4024e-04,\n",
       "        9.8179e-05, 3.0817e-05, 3.1040e-05, 1.1701e-04, 2.2669e-04, 2.5510e-05,\n",
       "        1.0220e-04, 1.0782e-04, 6.2131e-05, 1.1779e-05, 3.6884e-05, 5.9618e-05,\n",
       "        9.9129e-05, 2.3282e-05, 3.0341e-05, 2.9814e-05, 4.7348e-05, 5.0453e-05,\n",
       "        2.5244e-05, 3.4408e-05, 1.1582e-04, 2.2748e-05, 4.9107e-05, 1.8592e-04,\n",
       "        2.4067e-05, 3.1057e-05, 3.8102e-05, 3.4838e-04, 1.2225e-05, 7.1137e-05,\n",
       "        1.0049e-04, 5.9363e-05, 6.8433e-05, 8.6300e-05, 1.8171e-05, 4.6599e-05,\n",
       "        6.1478e-05, 1.2351e-05, 9.3199e-05, 1.8687e-04, 4.9373e-05, 3.8653e-05,\n",
       "        3.4316e-05, 7.8843e-05, 1.0912e-03, 2.6562e-05, 3.2442e-05, 8.8615e-06,\n",
       "        2.3219e-04, 6.7341e-04, 9.8453e-05, 1.3673e-04, 2.3724e-05, 6.1486e-05,\n",
       "        5.0589e-05, 3.6508e-05, 6.5364e-05, 4.4824e-05, 1.8117e-04, 3.8921e-05,\n",
       "        8.9200e-05, 7.4563e-05, 5.4934e-05, 4.1434e-05, 5.5131e-05, 4.8299e-05,\n",
       "        3.4454e-04, 4.5359e-05, 4.0791e-05, 3.9862e-05, 1.4676e-04, 3.4522e-04,\n",
       "        9.1756e-05, 3.9778e-05, 5.8654e-05, 4.8781e-05, 3.9145e-05, 5.8281e-04,\n",
       "        2.8545e-05, 2.0232e-04, 1.1841e-04, 9.8827e-05, 1.9566e-04, 1.6577e-05,\n",
       "        9.4109e-05, 2.9315e-05, 4.0101e-05, 7.7009e-05, 5.0555e-05, 1.1200e-04,\n",
       "        7.4134e-05, 2.4543e-05, 3.5417e-05, 4.2737e-05, 2.5443e-05, 7.9340e-05,\n",
       "        4.0673e-05, 1.6684e-04, 6.5680e-05, 2.5554e-05, 3.5227e-05, 9.6319e-05,\n",
       "        8.8936e-05, 7.4907e-05, 5.7330e-05, 6.9259e-05, 3.3769e-05, 7.2974e-06,\n",
       "        6.9778e-05, 3.8683e-05, 2.3590e-05, 5.4242e-05, 8.1823e-05, 4.8827e-05,\n",
       "        9.7774e-05, 1.7584e-04, 2.6540e-04, 7.5162e-05, 1.4221e-04, 1.7787e-04,\n",
       "        2.6325e-05, 7.8833e-05, 2.3059e-04, 4.3505e-05, 1.9835e-05, 9.7057e-05,\n",
       "        1.0351e-04, 2.0980e-05, 3.4314e-05, 6.5670e-05, 6.6595e-05, 8.0950e-05,\n",
       "        3.7176e-05, 6.3747e-05, 5.8871e-05, 7.7131e-05, 6.6852e-05, 2.2921e-05,\n",
       "        6.6692e-05, 3.7067e-05, 2.5812e-05, 1.1773e-04, 5.8673e-05, 7.1671e-05,\n",
       "        1.1231e-04, 2.1141e-04, 2.7993e-04, 1.5238e-05, 4.8387e-05, 2.6648e-05,\n",
       "        3.7404e-04, 4.6194e-05, 8.3149e-04, 2.1857e-04, 1.5646e-04, 6.5960e-06,\n",
       "        6.0019e-05, 1.5745e-05, 7.4890e-05, 6.4675e-04, 5.9238e-05, 6.7056e-05,\n",
       "        2.7573e-05, 3.3079e-05, 8.9223e-05, 6.5032e-05, 4.2158e-05, 2.2392e-04,\n",
       "        3.9632e-04, 4.0479e-05, 3.2326e-05, 2.6134e-05, 9.2738e-05, 2.8372e-05,\n",
       "        1.0717e-04, 9.3148e-05, 1.6059e-04, 2.8173e-05, 3.7436e-05, 1.2132e-04,\n",
       "        5.4506e-05, 1.7794e-05, 2.0432e-04, 3.2098e-05, 4.8540e-05, 3.4381e-04,\n",
       "        7.4068e-05, 6.4994e-05, 1.7433e-05, 1.7314e-05, 9.7470e-06, 2.5435e-04,\n",
       "        5.9117e-05, 9.7013e-05, 2.5814e-05, 9.8960e-05, 1.2034e-04, 5.4100e-05,\n",
       "        5.6967e-05, 1.3455e-04, 2.6747e-05, 4.9022e-05, 1.9397e-04, 2.3088e-05,\n",
       "        2.3158e-05, 2.4325e-05, 6.2847e-05, 3.0352e-05, 1.0806e-04, 7.2781e-05,\n",
       "        5.7986e-05, 7.1633e-04, 5.9306e-05, 2.0025e-04, 7.5694e-05, 2.6388e-04,\n",
       "        1.6114e-05, 1.9475e-04, 1.5940e-04, 6.1685e-05, 2.9222e-05, 7.9867e-05,\n",
       "        1.2115e-03, 3.0974e-05, 2.9485e-05, 4.7953e-05, 9.2071e-05, 2.1955e-04,\n",
       "        8.4389e-05, 1.3040e-04, 4.4373e-04, 2.3410e-04, 1.2394e-04, 1.7844e-04,\n",
       "        1.7745e-05, 2.0020e-04, 5.9326e-05, 5.2963e-05, 5.9909e-05, 7.4066e-04,\n",
       "        7.3269e-05, 4.2080e-05, 3.7900e-05, 6.8789e-05, 2.0760e-05, 2.1978e-04,\n",
       "        5.2065e-05, 6.0886e-05, 7.5210e-05, 7.2019e-05, 8.5968e-05, 1.7450e-04,\n",
       "        1.7332e-04, 1.4636e-04, 8.9888e-05, 2.0683e-04, 1.6802e-04, 3.3976e-05,\n",
       "        6.4313e-05, 3.2590e-04, 1.0093e-04, 1.0507e-04, 1.1546e-04, 7.4819e-05,\n",
       "        2.7881e-05, 7.8053e-05, 2.5502e-04, 1.7469e-05, 2.7722e-05, 1.0007e-04,\n",
       "        2.1811e-04, 9.7282e-05, 1.1888e-04, 3.2762e-05, 4.9488e-05, 5.6050e-05,\n",
       "        1.1285e-04, 4.8100e-04, 2.6505e-05, 1.0109e-04, 5.3739e-05, 1.6983e-04,\n",
       "        2.3477e-04, 3.1669e-05, 1.1161e-05, 7.8009e-05, 4.8444e-05, 1.1614e-04,\n",
       "        1.0964e-04, 1.0180e-04, 2.5540e-04, 1.4724e-04, 6.8940e-05, 1.5332e-04,\n",
       "        1.2542e-04, 1.1591e-04, 6.5601e-05, 8.2244e-05, 1.1233e-04, 3.1241e-05,\n",
       "        2.9413e-05, 6.0747e-05, 1.7244e-04, 1.1185e-04, 4.0278e-05, 8.3553e-05,\n",
       "        3.7095e-05, 8.1833e-05, 1.8635e-05, 9.1531e-05, 5.5461e-05, 3.3220e-05,\n",
       "        1.9831e-04, 1.8564e-05, 1.1805e-04, 2.0703e-05, 3.1226e-05, 2.5532e-05,\n",
       "        9.8449e-05, 9.0147e-05, 6.2653e-05, 8.4606e-05, 4.6162e-05, 1.5558e-04,\n",
       "        1.8801e-04, 3.1452e-04])"
      ]
     },
     "execution_count": 36,
     "metadata": {},
     "output_type": "execute_result"
    }
   ],
   "source": [
    "steady_states[-1, :, dim:].square().mean(dim=-1)"
   ]
  }
 ],
 "metadata": {
  "kernelspec": {
   "display_name": "ct",
   "language": "python",
   "name": "python3"
  },
  "language_info": {
   "codemirror_mode": {
    "name": "ipython",
    "version": 3
   },
   "file_extension": ".py",
   "mimetype": "text/x-python",
   "name": "python",
   "nbconvert_exporter": "python",
   "pygments_lexer": "ipython3",
   "version": "3.10.16"
  }
 },
 "nbformat": 4,
 "nbformat_minor": 5
}
