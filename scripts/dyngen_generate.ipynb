{
 "cells": [
  {
   "cell_type": "code",
   "execution_count": 1,
   "id": "1bc6db96",
   "metadata": {
    "execution": {
     "iopub.execute_input": "2025-10-15T20:45:59.574999Z",
     "iopub.status.busy": "2025-10-15T20:45:59.574501Z",
     "iopub.status.idle": "2025-10-15T20:45:59.587588Z",
     "shell.execute_reply": "2025-10-15T20:45:59.587161Z"
    }
   },
   "outputs": [],
   "source": [
    "%load_ext autoreload\n",
    "%autoreload 2\n"
   ]
  },
  {
   "cell_type": "code",
   "execution_count": 2,
   "id": "b2754518",
   "metadata": {
    "execution": {
     "iopub.execute_input": "2025-10-15T20:45:59.589180Z",
     "iopub.status.busy": "2025-10-15T20:45:59.589012Z",
     "iopub.status.idle": "2025-10-15T20:46:02.818305Z",
     "shell.execute_reply": "2025-10-15T20:46:02.817388Z"
    }
   },
   "outputs": [],
   "source": [
    "import json\n",
    "import os\n",
    "\n",
    "import anndata as ad\n",
    "import numpy as np\n",
    "import pandas as pd\n",
    "import sklearn\n",
    "import torch\n",
    "import tqdm\n",
    "\n",
    "import celltrip\n",
    "\n",
    "os.environ['AWS_PROFILE'] = 'waisman-admin'\n"
   ]
  },
  {
   "cell_type": "markdown",
   "id": "5a1aac9c",
   "metadata": {},
   "source": [
    "# Load Data and Policy"
   ]
  },
  {
   "cell_type": "code",
   "execution_count": 3,
   "id": "6367c9c1",
   "metadata": {
    "execution": {
     "iopub.execute_input": "2025-10-15T20:46:02.820560Z",
     "iopub.status.busy": "2025-10-15T20:46:02.820242Z",
     "iopub.status.idle": "2025-10-15T20:46:07.500477Z",
     "shell.execute_reply": "2025-10-15T20:46:07.499992Z"
    }
   },
   "outputs": [],
   "source": [
    "# Read data files\n",
    "# adata_prefix = 's3://nkalafut-celltrip/Dyngen'\n",
    "adata_prefix = '../data/Dyngen'\n",
    "adatas = celltrip.utility.processing.read_adatas(\n",
    "    's3://nkalafut-celltrip/dyngen/logcounts.h5ad',\n",
    "    's3://nkalafut-celltrip/dyngen/counts_protein.h5ad',\n",
    "    backed=True)\n",
    "# Model location and name (should be prefix for .weights, .pre, and .mask file)\n",
    "# prefix, training_step = 's3://nkalafut-celltrip/checkpoints/Dyngen-250920', 800  # 8 dim\n",
    "prefix, training_step = 's3://nkalafut-celltrip/checkpoints/Dyngen-251015', 800  # 32 dim\n",
    "# Generate or load preprocessing\n",
    "preprocessing = celltrip.utility.processing.Preprocessing().load(f'{prefix}.pre')\n",
    "with celltrip.utility.general.open_s3_or_local(f'{prefix}.mask', 'rb') as f:\n",
    "    mask = np.loadtxt(f).astype(bool)\n",
    "adatas[0].obs['Training'] = mask\n",
    "# Create sample env (kind of a dumb workaround, TODO)\n",
    "m1, m2 = [preprocessing.transform(ad[:2].X, subset_modality=i)[0] for i, ad in enumerate(adatas)]\n",
    "env = celltrip.environment.EnvironmentBase(\n",
    "    torch.tensor(m1), torch.tensor(m2), compute_rewards=False, dim=32).eval().to('cuda')\n",
    "# Load policy\n",
    "policy = celltrip.policy.create_agent_from_env(\n",
    "    env, forward_batch_size=1_000, vision_size=1_000).eval().to('cuda')\n",
    "policy.load_checkpoint(f'{prefix}-{training_step:04}.weights');\n"
   ]
  },
  {
   "cell_type": "markdown",
   "id": "f37705ce",
   "metadata": {},
   "source": [
    "# Perform Significance Estimation"
   ]
  },
  {
   "cell_type": "code",
   "execution_count": null,
   "id": "fca63f76",
   "metadata": {
    "execution": {
     "iopub.execute_input": "2025-10-15T20:46:07.502658Z",
     "iopub.status.busy": "2025-10-15T20:46:07.502328Z",
     "iopub.status.idle": "2025-10-15T22:19:48.120049Z",
     "shell.execute_reply": "2025-10-15T22:19:48.004544Z"
    }
   },
   "outputs": [
    {
     "name": "stderr",
     "output_type": "stream",
     "text": [
      "\r\n",
      "  0%|                                                                                                                                                                                    | 0/2400 [00:00<?, ?it/s]"
     ]
    },
    {
     "name": "stderr",
     "output_type": "stream",
     "text": [
      "\r\n",
      "  0%|▋                                                                                                                                                                        | 10/2400 [00:28<1:54:58,  2.89s/it]"
     ]
    },
    {
     "name": "stderr",
     "output_type": "stream",
     "text": [
      "\r\n",
      "  1%|█▍                                                                                                                                                                       | 20/2400 [00:53<1:44:07,  2.62s/it]"
     ]
    },
    {
     "name": "stderr",
     "output_type": "stream",
     "text": [
      "\r\n",
      "  1%|██                                                                                                                                                                       | 30/2400 [01:15<1:36:30,  2.44s/it]"
     ]
    },
    {
     "name": "stderr",
     "output_type": "stream",
     "text": [
      "\r\n",
      "  2%|██▊                                                                                                                                                                      | 40/2400 [01:37<1:31:57,  2.34s/it]"
     ]
    },
    {
     "name": "stderr",
     "output_type": "stream",
     "text": [
      "\r\n",
      "  2%|███▌                                                                                                                                                                     | 50/2400 [01:59<1:29:29,  2.28s/it]"
     ]
    },
    {
     "name": "stderr",
     "output_type": "stream",
     "text": [
      "\r\n",
      "  2%|████▏                                                                                                                                                                    | 60/2400 [02:21<1:28:15,  2.26s/it]"
     ]
    },
    {
     "name": "stderr",
     "output_type": "stream",
     "text": [
      "\r\n",
      "  3%|████▉                                                                                                                                                                    | 70/2400 [02:43<1:27:41,  2.26s/it]"
     ]
    },
    {
     "name": "stderr",
     "output_type": "stream",
     "text": [
      "\r\n",
      "  3%|█████▋                                                                                                                                                                   | 80/2400 [03:06<1:26:55,  2.25s/it]"
     ]
    },
    {
     "name": "stderr",
     "output_type": "stream",
     "text": [
      "\r\n",
      "  4%|██████▎                                                                                                                                                                  | 90/2400 [03:28<1:26:22,  2.24s/it]"
     ]
    },
    {
     "name": "stderr",
     "output_type": "stream",
     "text": [
      "\r\n",
      "  4%|███████                                                                                                                                                                 | 100/2400 [03:50<1:25:45,  2.24s/it]"
     ]
    },
    {
     "name": "stderr",
     "output_type": "stream",
     "text": [
      "\r\n",
      "  5%|███████▋                                                                                                                                                                | 110/2400 [04:13<1:25:22,  2.24s/it]"
     ]
    },
    {
     "name": "stderr",
     "output_type": "stream",
     "text": [
      "\r\n",
      "  5%|████████▍                                                                                                                                                               | 120/2400 [04:35<1:24:58,  2.24s/it]"
     ]
    },
    {
     "name": "stderr",
     "output_type": "stream",
     "text": [
      "\r\n",
      "  5%|█████████                                                                                                                                                               | 130/2400 [04:58<1:24:54,  2.24s/it]"
     ]
    },
    {
     "name": "stderr",
     "output_type": "stream",
     "text": [
      "\r\n",
      "  6%|█████████▊                                                                                                                                                              | 140/2400 [05:20<1:25:00,  2.26s/it]"
     ]
    },
    {
     "name": "stderr",
     "output_type": "stream",
     "text": [
      "\r\n",
      "  6%|██████████▌                                                                                                                                                             | 150/2400 [05:43<1:24:39,  2.26s/it]"
     ]
    },
    {
     "name": "stderr",
     "output_type": "stream",
     "text": [
      "\r\n",
      "  7%|███████████▏                                                                                                                                                            | 160/2400 [06:06<1:24:39,  2.27s/it]"
     ]
    },
    {
     "name": "stderr",
     "output_type": "stream",
     "text": [
      "\r\n",
      "  7%|███████████▉                                                                                                                                                            | 170/2400 [06:29<1:24:13,  2.27s/it]"
     ]
    },
    {
     "name": "stderr",
     "output_type": "stream",
     "text": [
      "\r\n",
      "  8%|████████████▌                                                                                                                                                           | 180/2400 [06:51<1:23:40,  2.26s/it]"
     ]
    },
    {
     "name": "stderr",
     "output_type": "stream",
     "text": [
      "\r\n",
      "  8%|█████████████▎                                                                                                                                                          | 190/2400 [07:13<1:22:55,  2.25s/it]"
     ]
    },
    {
     "name": "stderr",
     "output_type": "stream",
     "text": [
      "\r\n",
      "  8%|██████████████                                                                                                                                                          | 200/2400 [07:36<1:22:47,  2.26s/it]"
     ]
    },
    {
     "name": "stderr",
     "output_type": "stream",
     "text": [
      "\r\n",
      "  9%|██████████████▋                                                                                                                                                         | 210/2400 [07:58<1:22:01,  2.25s/it]"
     ]
    },
    {
     "name": "stderr",
     "output_type": "stream",
     "text": [
      "\r\n",
      "  9%|███████████████▍                                                                                                                                                        | 220/2400 [08:21<1:21:33,  2.24s/it]"
     ]
    },
    {
     "name": "stderr",
     "output_type": "stream",
     "text": [
      "\r\n",
      " 10%|████████████████                                                                                                                                                        | 230/2400 [08:43<1:21:16,  2.25s/it]"
     ]
    },
    {
     "name": "stderr",
     "output_type": "stream",
     "text": [
      "\r\n",
      " 10%|████████████████▊                                                                                                                                                       | 240/2400 [09:06<1:20:54,  2.25s/it]"
     ]
    },
    {
     "name": "stderr",
     "output_type": "stream",
     "text": [
      "\r\n",
      " 10%|█████████████████▌                                                                                                                                                      | 250/2400 [09:28<1:20:34,  2.25s/it]"
     ]
    },
    {
     "name": "stderr",
     "output_type": "stream",
     "text": [
      "\r\n",
      " 11%|██████████████████▏                                                                                                                                                     | 260/2400 [09:51<1:20:04,  2.25s/it]"
     ]
    },
    {
     "name": "stderr",
     "output_type": "stream",
     "text": [
      "\r\n",
      " 11%|██████████████████▉                                                                                                                                                     | 270/2400 [10:13<1:19:46,  2.25s/it]"
     ]
    },
    {
     "name": "stderr",
     "output_type": "stream",
     "text": [
      "\r\n",
      " 12%|███████████████████▌                                                                                                                                                    | 280/2400 [10:35<1:19:16,  2.24s/it]"
     ]
    },
    {
     "name": "stderr",
     "output_type": "stream",
     "text": [
      "\r\n",
      " 12%|████████████████████▎                                                                                                                                                   | 290/2400 [10:58<1:19:19,  2.26s/it]"
     ]
    },
    {
     "name": "stderr",
     "output_type": "stream",
     "text": [
      "\r\n",
      " 12%|█████████████████████                                                                                                                                                   | 300/2400 [11:21<1:18:52,  2.25s/it]"
     ]
    },
    {
     "name": "stderr",
     "output_type": "stream",
     "text": [
      "\r\n",
      " 13%|█████████████████████▋                                                                                                                                                  | 310/2400 [11:43<1:18:26,  2.25s/it]"
     ]
    },
    {
     "name": "stderr",
     "output_type": "stream",
     "text": [
      "\r\n",
      " 13%|██████████████████████▍                                                                                                                                                 | 320/2400 [12:06<1:18:26,  2.26s/it]"
     ]
    },
    {
     "name": "stderr",
     "output_type": "stream",
     "text": [
      "\r\n",
      " 14%|███████████████████████                                                                                                                                                 | 330/2400 [12:29<1:17:49,  2.26s/it]"
     ]
    },
    {
     "name": "stderr",
     "output_type": "stream",
     "text": [
      "\r\n",
      " 14%|███████████████████████▊                                                                                                                                                | 340/2400 [12:51<1:17:15,  2.25s/it]"
     ]
    },
    {
     "name": "stderr",
     "output_type": "stream",
     "text": [
      "\r\n",
      " 15%|████████████████████████▌                                                                                                                                               | 350/2400 [13:13<1:16:55,  2.25s/it]"
     ]
    },
    {
     "name": "stderr",
     "output_type": "stream",
     "text": [
      "\r\n",
      " 15%|█████████████████████████▏                                                                                                                                              | 360/2400 [13:36<1:16:05,  2.24s/it]"
     ]
    },
    {
     "name": "stderr",
     "output_type": "stream",
     "text": [
      "\r\n",
      " 15%|█████████████████████████▉                                                                                                                                              | 370/2400 [13:58<1:15:35,  2.23s/it]"
     ]
    },
    {
     "name": "stderr",
     "output_type": "stream",
     "text": [
      "\r\n",
      " 16%|██████████████████████████▌                                                                                                                                             | 380/2400 [14:20<1:15:20,  2.24s/it]"
     ]
    },
    {
     "name": "stderr",
     "output_type": "stream",
     "text": [
      "\r\n",
      " 16%|███████████████████████████▎                                                                                                                                            | 390/2400 [14:43<1:15:08,  2.24s/it]"
     ]
    },
    {
     "name": "stderr",
     "output_type": "stream",
     "text": [
      "\r\n",
      " 17%|████████████████████████████                                                                                                                                            | 400/2400 [15:05<1:14:59,  2.25s/it]"
     ]
    },
    {
     "name": "stderr",
     "output_type": "stream",
     "text": [
      "\r\n",
      " 17%|████████████████████████████▋                                                                                                                                           | 410/2400 [15:28<1:14:32,  2.25s/it]"
     ]
    },
    {
     "name": "stderr",
     "output_type": "stream",
     "text": [
      "\r\n",
      " 18%|█████████████████████████████▍                                                                                                                                          | 420/2400 [15:50<1:14:12,  2.25s/it]"
     ]
    },
    {
     "name": "stderr",
     "output_type": "stream",
     "text": [
      "\r\n",
      " 18%|██████████████████████████████                                                                                                                                          | 430/2400 [16:13<1:13:36,  2.24s/it]"
     ]
    },
    {
     "name": "stderr",
     "output_type": "stream",
     "text": [
      "\r\n",
      " 18%|██████████████████████████████▊                                                                                                                                         | 440/2400 [16:35<1:13:30,  2.25s/it]"
     ]
    },
    {
     "name": "stderr",
     "output_type": "stream",
     "text": [
      "\r\n",
      " 19%|███████████████████████████████▌                                                                                                                                        | 450/2400 [16:58<1:13:04,  2.25s/it]"
     ]
    },
    {
     "name": "stderr",
     "output_type": "stream",
     "text": [
      "\r\n",
      " 19%|████████████████████████████████▏                                                                                                                                       | 460/2400 [17:20<1:12:49,  2.25s/it]"
     ]
    },
    {
     "name": "stderr",
     "output_type": "stream",
     "text": [
      "\r\n",
      " 20%|████████████████████████████████▉                                                                                                                                       | 470/2400 [17:43<1:12:05,  2.24s/it]"
     ]
    },
    {
     "name": "stderr",
     "output_type": "stream",
     "text": [
      "\r\n",
      " 20%|█████████████████████████████████▌                                                                                                                                      | 480/2400 [18:05<1:11:29,  2.23s/it]"
     ]
    },
    {
     "name": "stderr",
     "output_type": "stream",
     "text": [
      "\r\n",
      " 20%|██████████████████████████████████▎                                                                                                                                     | 490/2400 [18:27<1:10:54,  2.23s/it]"
     ]
    },
    {
     "name": "stderr",
     "output_type": "stream",
     "text": [
      "\r\n",
      " 21%|███████████████████████████████████                                                                                                                                     | 500/2400 [18:49<1:10:24,  2.22s/it]"
     ]
    },
    {
     "name": "stderr",
     "output_type": "stream",
     "text": [
      "\r\n",
      " 21%|███████████████████████████████████▋                                                                                                                                    | 510/2400 [19:11<1:09:51,  2.22s/it]"
     ]
    },
    {
     "name": "stderr",
     "output_type": "stream",
     "text": [
      "\r\n",
      " 22%|████████████████████████████████████▍                                                                                                                                   | 520/2400 [19:33<1:09:20,  2.21s/it]"
     ]
    },
    {
     "name": "stderr",
     "output_type": "stream",
     "text": [
      "\r\n",
      " 22%|█████████████████████████████████████                                                                                                                                   | 530/2400 [19:55<1:09:04,  2.22s/it]"
     ]
    },
    {
     "name": "stderr",
     "output_type": "stream",
     "text": [
      "\r\n",
      " 22%|█████████████████████████████████████▊                                                                                                                                  | 540/2400 [20:18<1:09:13,  2.23s/it]"
     ]
    },
    {
     "name": "stderr",
     "output_type": "stream",
     "text": [
      "\r\n",
      " 23%|██████████████████████████████████████▌                                                                                                                                 | 550/2400 [20:40<1:08:51,  2.23s/it]"
     ]
    },
    {
     "name": "stderr",
     "output_type": "stream",
     "text": [
      "\r\n",
      " 23%|███████████████████████████████████████▏                                                                                                                                | 560/2400 [21:03<1:08:46,  2.24s/it]"
     ]
    },
    {
     "name": "stderr",
     "output_type": "stream",
     "text": [
      "\r\n",
      " 24%|███████████████████████████████████████▉                                                                                                                                | 570/2400 [21:26<1:08:29,  2.25s/it]"
     ]
    },
    {
     "name": "stderr",
     "output_type": "stream",
     "text": [
      "\r\n",
      " 24%|████████████████████████████████████████▌                                                                                                                               | 580/2400 [21:48<1:08:11,  2.25s/it]"
     ]
    },
    {
     "name": "stderr",
     "output_type": "stream",
     "text": [
      "\r\n",
      " 25%|█████████████████████████████████████████▎                                                                                                                              | 590/2400 [22:11<1:07:48,  2.25s/it]"
     ]
    },
    {
     "name": "stderr",
     "output_type": "stream",
     "text": [
      "\r\n",
      " 25%|██████████████████████████████████████████                                                                                                                              | 600/2400 [22:33<1:07:39,  2.26s/it]"
     ]
    },
    {
     "name": "stderr",
     "output_type": "stream",
     "text": [
      "\r\n",
      " 25%|██████████████████████████████████████████▋                                                                                                                             | 610/2400 [22:56<1:07:31,  2.26s/it]"
     ]
    },
    {
     "name": "stderr",
     "output_type": "stream",
     "text": [
      "\r\n",
      " 26%|███████████████████████████████████████████▍                                                                                                                            | 620/2400 [23:19<1:07:10,  2.26s/it]"
     ]
    },
    {
     "name": "stderr",
     "output_type": "stream",
     "text": [
      "\r\n",
      " 26%|████████████████████████████████████████████                                                                                                                            | 630/2400 [23:45<1:10:21,  2.39s/it]"
     ]
    },
    {
     "name": "stderr",
     "output_type": "stream",
     "text": [
      "\r\n",
      " 27%|████████████████████████████████████████████▊                                                                                                                           | 640/2400 [24:13<1:13:36,  2.51s/it]"
     ]
    },
    {
     "name": "stderr",
     "output_type": "stream",
     "text": [
      "\r\n",
      " 27%|█████████████████████████████████████████████▌                                                                                                                          | 650/2400 [24:44<1:17:37,  2.66s/it]"
     ]
    },
    {
     "name": "stderr",
     "output_type": "stream",
     "text": [
      "\r\n",
      " 28%|██████████████████████████████████████████████▏                                                                                                                         | 660/2400 [25:08<1:14:54,  2.58s/it]"
     ]
    },
    {
     "name": "stderr",
     "output_type": "stream",
     "text": [
      "\r\n",
      " 28%|██████████████████████████████████████████████▉                                                                                                                         | 670/2400 [25:34<1:15:06,  2.60s/it]"
     ]
    },
    {
     "name": "stderr",
     "output_type": "stream",
     "text": [
      "\r\n",
      " 28%|███████████████████████████████████████████████▌                                                                                                                        | 680/2400 [25:59<1:13:59,  2.58s/it]"
     ]
    },
    {
     "name": "stderr",
     "output_type": "stream",
     "text": [
      "\r\n",
      " 29%|████████████████████████████████████████████████▎                                                                                                                       | 690/2400 [26:26<1:14:19,  2.61s/it]"
     ]
    },
    {
     "name": "stderr",
     "output_type": "stream",
     "text": [
      "\r\n",
      " 29%|█████████████████████████████████████████████████                                                                                                                       | 700/2400 [26:53<1:14:29,  2.63s/it]"
     ]
    },
    {
     "name": "stderr",
     "output_type": "stream",
     "text": [
      "\r\n",
      " 30%|█████████████████████████████████████████████████▋                                                                                                                      | 710/2400 [27:22<1:16:28,  2.72s/it]"
     ]
    },
    {
     "name": "stderr",
     "output_type": "stream",
     "text": [
      "\r\n",
      " 30%|██████████████████████████████████████████████████▍                                                                                                                     | 720/2400 [27:48<1:14:41,  2.67s/it]"
     ]
    },
    {
     "name": "stderr",
     "output_type": "stream",
     "text": [
      "\r\n",
      " 30%|███████████████████████████████████████████████████                                                                                                                     | 730/2400 [28:12<1:12:23,  2.60s/it]"
     ]
    },
    {
     "name": "stderr",
     "output_type": "stream",
     "text": [
      "\r\n",
      " 31%|███████████████████████████████████████████████████▊                                                                                                                    | 740/2400 [28:39<1:13:03,  2.64s/it]"
     ]
    },
    {
     "name": "stderr",
     "output_type": "stream",
     "text": [
      "\r\n",
      " 31%|████████████████████████████████████████████████████▌                                                                                                                   | 750/2400 [29:02<1:09:17,  2.52s/it]"
     ]
    },
    {
     "name": "stderr",
     "output_type": "stream",
     "text": [
      "\r\n",
      " 32%|█████████████████████████████████████████████████████▏                                                                                                                  | 760/2400 [29:27<1:08:52,  2.52s/it]"
     ]
    },
    {
     "name": "stderr",
     "output_type": "stream",
     "text": [
      "\r\n",
      " 32%|█████████████████████████████████████████████████████▉                                                                                                                  | 770/2400 [29:52<1:08:27,  2.52s/it]"
     ]
    },
    {
     "name": "stderr",
     "output_type": "stream",
     "text": [
      "\r\n",
      " 32%|██████████████████████████████████████████████████████▌                                                                                                                 | 780/2400 [30:18<1:08:15,  2.53s/it]"
     ]
    },
    {
     "name": "stderr",
     "output_type": "stream",
     "text": [
      "\r\n",
      " 33%|███████████████████████████████████████████████████████▎                                                                                                                | 790/2400 [30:41<1:06:13,  2.47s/it]"
     ]
    },
    {
     "name": "stderr",
     "output_type": "stream",
     "text": [
      "\r\n",
      " 33%|████████████████████████████████████████████████████████                                                                                                                | 800/2400 [31:05<1:05:02,  2.44s/it]"
     ]
    },
    {
     "name": "stderr",
     "output_type": "stream",
     "text": [
      "\r\n",
      " 34%|████████████████████████████████████████████████████████▋                                                                                                               | 810/2400 [31:28<1:04:05,  2.42s/it]"
     ]
    },
    {
     "name": "stderr",
     "output_type": "stream",
     "text": [
      "\r\n",
      " 34%|█████████████████████████████████████████████████████████▍                                                                                                              | 820/2400 [31:51<1:02:43,  2.38s/it]"
     ]
    },
    {
     "name": "stderr",
     "output_type": "stream",
     "text": [
      "\r\n",
      " 35%|██████████████████████████████████████████████████████████                                                                                                              | 830/2400 [32:17<1:03:47,  2.44s/it]"
     ]
    },
    {
     "name": "stderr",
     "output_type": "stream",
     "text": [
      "\r\n",
      " 35%|██████████████████████████████████████████████████████████▊                                                                                                             | 840/2400 [32:42<1:04:04,  2.46s/it]"
     ]
    },
    {
     "name": "stderr",
     "output_type": "stream",
     "text": [
      "\r\n",
      " 35%|███████████████████████████████████████████████████████████▌                                                                                                            | 850/2400 [33:07<1:03:43,  2.47s/it]"
     ]
    },
    {
     "name": "stderr",
     "output_type": "stream",
     "text": [
      "\r\n",
      " 36%|████████████████████████████████████████████████████████████▏                                                                                                           | 860/2400 [33:33<1:04:07,  2.50s/it]"
     ]
    },
    {
     "name": "stderr",
     "output_type": "stream",
     "text": [
      "\r\n",
      " 36%|████████████████████████████████████████████████████████████▉                                                                                                           | 870/2400 [33:56<1:02:14,  2.44s/it]"
     ]
    },
    {
     "name": "stderr",
     "output_type": "stream",
     "text": [
      "\r\n",
      " 37%|█████████████████████████████████████████████████████████████▌                                                                                                          | 880/2400 [34:21<1:02:43,  2.48s/it]"
     ]
    },
    {
     "name": "stderr",
     "output_type": "stream",
     "text": [
      "\r\n",
      " 37%|██████████████████████████████████████████████████████████████▎                                                                                                         | 890/2400 [34:45<1:01:31,  2.44s/it]"
     ]
    },
    {
     "name": "stderr",
     "output_type": "stream",
     "text": [
      "\r\n",
      " 38%|███████████████████████████████████████████████████████████████▊                                                                                                          | 900/2400 [35:08<59:42,  2.39s/it]"
     ]
    },
    {
     "name": "stderr",
     "output_type": "stream",
     "text": [
      "\r\n",
      " 38%|████████████████████████████████████████████████████████████████▍                                                                                                         | 910/2400 [35:30<58:28,  2.35s/it]"
     ]
    },
    {
     "name": "stderr",
     "output_type": "stream",
     "text": [
      "\r\n",
      " 38%|█████████████████████████████████████████████████████████████████▏                                                                                                        | 920/2400 [35:53<57:40,  2.34s/it]"
     ]
    },
    {
     "name": "stderr",
     "output_type": "stream",
     "text": [
      "\r\n",
      " 39%|█████████████████████████████████████████████████████████████████                                                                                                       | 930/2400 [36:21<1:00:34,  2.47s/it]"
     ]
    },
    {
     "name": "stderr",
     "output_type": "stream",
     "text": [
      "\r\n",
      " 39%|█████████████████████████████████████████████████████████████████▊                                                                                                      | 940/2400 [36:49<1:02:13,  2.56s/it]"
     ]
    },
    {
     "name": "stderr",
     "output_type": "stream",
     "text": [
      "\r\n",
      " 40%|██████████████████████████████████████████████████████████████████▌                                                                                                     | 950/2400 [37:15<1:02:11,  2.57s/it]"
     ]
    },
    {
     "name": "stderr",
     "output_type": "stream",
     "text": [
      "\r\n",
      " 40%|███████████████████████████████████████████████████████████████████▏                                                                                                    | 960/2400 [37:41<1:02:10,  2.59s/it]"
     ]
    },
    {
     "name": "stderr",
     "output_type": "stream",
     "text": [
      "\r\n",
      " 40%|███████████████████████████████████████████████████████████████████▉                                                                                                    | 970/2400 [38:06<1:00:36,  2.54s/it]"
     ]
    },
    {
     "name": "stderr",
     "output_type": "stream",
     "text": [
      "\r\n",
      " 41%|████████████████████████████████████████████████████████████████████▌                                                                                                   | 980/2400 [38:31<1:00:27,  2.55s/it]"
     ]
    },
    {
     "name": "stderr",
     "output_type": "stream",
     "text": [
      "\r\n",
      " 41%|██████████████████████████████████████████████████████████████████████▏                                                                                                   | 990/2400 [38:54<57:50,  2.46s/it]"
     ]
    },
    {
     "name": "stderr",
     "output_type": "stream",
     "text": [
      "\r\n",
      " 42%|██████████████████████████████████████████████████████████████████████▍                                                                                                  | 1000/2400 [39:16<55:39,  2.39s/it]"
     ]
    },
    {
     "name": "stderr",
     "output_type": "stream",
     "text": [
      "\r\n",
      " 42%|███████████████████████████████████████████████████████████████████████                                                                                                  | 1010/2400 [39:40<55:08,  2.38s/it]"
     ]
    },
    {
     "name": "stderr",
     "output_type": "stream",
     "text": [
      "\r\n",
      " 42%|███████████████████████████████████████████████████████████████████████▊                                                                                                 | 1020/2400 [40:03<54:44,  2.38s/it]"
     ]
    },
    {
     "name": "stderr",
     "output_type": "stream",
     "text": [
      "\r\n",
      " 43%|████████████████████████████████████████████████████████████████████████▌                                                                                                | 1030/2400 [40:27<54:16,  2.38s/it]"
     ]
    },
    {
     "name": "stderr",
     "output_type": "stream",
     "text": [
      "\r\n",
      " 43%|█████████████████████████████████████████████████████████████████████████▏                                                                                               | 1040/2400 [40:49<52:53,  2.33s/it]"
     ]
    },
    {
     "name": "stderr",
     "output_type": "stream",
     "text": [
      "\r\n",
      " 44%|█████████████████████████████████████████████████████████████████████████▉                                                                                               | 1050/2400 [41:13<52:43,  2.34s/it]"
     ]
    },
    {
     "name": "stderr",
     "output_type": "stream",
     "text": [
      "\r\n",
      " 44%|██████████████████████████████████████████████████████████████████████████▋                                                                                              | 1060/2400 [41:36<52:17,  2.34s/it]"
     ]
    },
    {
     "name": "stderr",
     "output_type": "stream",
     "text": [
      "\r\n",
      " 45%|███████████████████████████████████████████████████████████████████████████▎                                                                                             | 1070/2400 [42:00<52:14,  2.36s/it]"
     ]
    },
    {
     "name": "stderr",
     "output_type": "stream",
     "text": [
      "\r\n",
      " 45%|████████████████████████████████████████████████████████████████████████████                                                                                             | 1080/2400 [42:26<53:08,  2.42s/it]"
     ]
    },
    {
     "name": "stderr",
     "output_type": "stream",
     "text": [
      "\r\n",
      " 45%|████████████████████████████████████████████████████████████████████████████▊                                                                                            | 1090/2400 [42:48<51:38,  2.36s/it]"
     ]
    },
    {
     "name": "stderr",
     "output_type": "stream",
     "text": [
      "\r\n",
      " 46%|█████████████████████████████████████████████████████████████████████████████▍                                                                                           | 1100/2400 [43:15<53:30,  2.47s/it]"
     ]
    },
    {
     "name": "stderr",
     "output_type": "stream",
     "text": [
      "\r\n",
      " 46%|██████████████████████████████████████████████████████████████████████████████▏                                                                                          | 1110/2400 [43:41<53:49,  2.50s/it]"
     ]
    },
    {
     "name": "stderr",
     "output_type": "stream",
     "text": [
      "\r\n",
      " 47%|██████████████████████████████████████████████████████████████████████████████▊                                                                                          | 1120/2400 [44:08<54:10,  2.54s/it]"
     ]
    },
    {
     "name": "stderr",
     "output_type": "stream",
     "text": [
      "\r\n",
      " 47%|███████████████████████████████████████████████████████████████████████████████▌                                                                                         | 1130/2400 [44:31<52:39,  2.49s/it]"
     ]
    },
    {
     "name": "stderr",
     "output_type": "stream",
     "text": [
      "\r\n",
      " 48%|████████████████████████████████████████████████████████████████████████████████▎                                                                                        | 1140/2400 [44:55<51:21,  2.45s/it]"
     ]
    },
    {
     "name": "stderr",
     "output_type": "stream",
     "text": [
      "\r\n",
      " 48%|████████████████████████████████████████████████████████████████████████████████▉                                                                                        | 1150/2400 [45:18<50:16,  2.41s/it]"
     ]
    },
    {
     "name": "stderr",
     "output_type": "stream",
     "text": [
      "\r\n",
      " 48%|█████████████████████████████████████████████████████████████████████████████████▋                                                                                       | 1160/2400 [45:43<50:26,  2.44s/it]"
     ]
    },
    {
     "name": "stderr",
     "output_type": "stream",
     "text": [
      "\r\n",
      " 49%|██████████████████████████████████████████████████████████████████████████████████▍                                                                                      | 1170/2400 [46:07<49:45,  2.43s/it]"
     ]
    },
    {
     "name": "stderr",
     "output_type": "stream",
     "text": [
      "\r\n",
      " 49%|███████████████████████████████████████████████████████████████████████████████████                                                                                      | 1180/2400 [46:29<48:14,  2.37s/it]"
     ]
    },
    {
     "name": "stderr",
     "output_type": "stream",
     "text": [
      "\r\n",
      " 50%|███████████████████████████████████████████████████████████████████████████████████▊                                                                                     | 1190/2400 [46:52<46:59,  2.33s/it]"
     ]
    },
    {
     "name": "stderr",
     "output_type": "stream",
     "text": [
      "\r\n",
      " 50%|████████████████████████████████████████████████████████████████████████████████████▌                                                                                    | 1200/2400 [47:15<46:19,  2.32s/it]"
     ]
    },
    {
     "name": "stderr",
     "output_type": "stream",
     "text": [
      "\r\n",
      " 50%|█████████████████████████████████████████████████████████████████████████████████████▏                                                                                   | 1210/2400 [47:38<46:01,  2.32s/it]"
     ]
    },
    {
     "name": "stderr",
     "output_type": "stream",
     "text": [
      "\r\n",
      " 51%|█████████████████████████████████████████████████████████████████████████████████████▉                                                                                   | 1220/2400 [48:01<45:21,  2.31s/it]"
     ]
    },
    {
     "name": "stderr",
     "output_type": "stream",
     "text": [
      "\r\n",
      " 51%|██████████████████████████████████████████████████████████████████████████████████████▌                                                                                  | 1230/2400 [48:23<44:41,  2.29s/it]"
     ]
    },
    {
     "name": "stderr",
     "output_type": "stream",
     "text": [
      "\r\n",
      " 52%|███████████████████████████████████████████████████████████████████████████████████████▎                                                                                 | 1240/2400 [48:46<43:57,  2.27s/it]"
     ]
    },
    {
     "name": "stderr",
     "output_type": "stream",
     "text": [
      "\r\n",
      " 52%|████████████████████████████████████████████████████████████████████████████████████████                                                                                 | 1250/2400 [49:10<44:16,  2.31s/it]"
     ]
    },
    {
     "name": "stderr",
     "output_type": "stream",
     "text": [
      "\r\n",
      " 52%|████████████████████████████████████████████████████████████████████████████████████████▋                                                                                | 1260/2400 [49:32<43:41,  2.30s/it]"
     ]
    },
    {
     "name": "stderr",
     "output_type": "stream",
     "text": [
      "\r\n",
      " 53%|█████████████████████████████████████████████████████████████████████████████████████████▍                                                                               | 1270/2400 [49:57<44:13,  2.35s/it]"
     ]
    },
    {
     "name": "stderr",
     "output_type": "stream",
     "text": [
      "\r\n",
      " 53%|██████████████████████████████████████████████████████████████████████████████████████████▏                                                                              | 1280/2400 [50:23<45:29,  2.44s/it]"
     ]
    },
    {
     "name": "stderr",
     "output_type": "stream",
     "text": [
      "\r\n",
      " 54%|██████████████████████████████████████████████████████████████████████████████████████████▊                                                                              | 1290/2400 [50:50<46:06,  2.49s/it]"
     ]
    },
    {
     "name": "stderr",
     "output_type": "stream",
     "text": [
      "\r\n",
      " 54%|███████████████████████████████████████████████████████████████████████████████████████████▌                                                                             | 1300/2400 [51:15<46:00,  2.51s/it]"
     ]
    },
    {
     "name": "stderr",
     "output_type": "stream",
     "text": [
      "\r\n",
      " 55%|████████████████████████████████████████████████████████████████████████████████████████████▏                                                                            | 1310/2400 [51:44<47:40,  2.62s/it]"
     ]
    },
    {
     "name": "stderr",
     "output_type": "stream",
     "text": [
      "\r\n",
      " 55%|████████████████████████████████████████████████████████████████████████████████████████████▉                                                                            | 1320/2400 [52:10<47:08,  2.62s/it]"
     ]
    },
    {
     "name": "stderr",
     "output_type": "stream",
     "text": [
      "\r\n",
      " 55%|█████████████████████████████████████████████████████████████████████████████████████████████▋                                                                           | 1330/2400 [52:35<46:02,  2.58s/it]"
     ]
    },
    {
     "name": "stderr",
     "output_type": "stream",
     "text": [
      "\r\n",
      " 56%|██████████████████████████████████████████████████████████████████████████████████████████████▎                                                                          | 1340/2400 [52:58<44:07,  2.50s/it]"
     ]
    },
    {
     "name": "stderr",
     "output_type": "stream",
     "text": [
      "\r\n",
      " 56%|███████████████████████████████████████████████████████████████████████████████████████████████                                                                          | 1350/2400 [53:25<44:34,  2.55s/it]"
     ]
    },
    {
     "name": "stderr",
     "output_type": "stream",
     "text": [
      "\r\n",
      " 57%|███████████████████████████████████████████████████████████████████████████████████████████████▊                                                                         | 1360/2400 [53:49<43:44,  2.52s/it]"
     ]
    },
    {
     "name": "stderr",
     "output_type": "stream",
     "text": [
      "\r\n",
      " 57%|████████████████████████████████████████████████████████████████████████████████████████████████▍                                                                        | 1370/2400 [54:12<42:02,  2.45s/it]"
     ]
    },
    {
     "name": "stderr",
     "output_type": "stream",
     "text": [
      "\r\n",
      " 57%|█████████████████████████████████████████████████████████████████████████████████████████████████▏                                                                       | 1380/2400 [54:36<41:07,  2.42s/it]"
     ]
    },
    {
     "name": "stderr",
     "output_type": "stream",
     "text": [
      "\r\n",
      " 58%|█████████████████████████████████████████████████████████████████████████████████████████████████▉                                                                       | 1390/2400 [54:58<39:48,  2.36s/it]"
     ]
    },
    {
     "name": "stderr",
     "output_type": "stream",
     "text": [
      "\r\n",
      " 58%|██████████████████████████████████████████████████████████████████████████████████████████████████▌                                                                      | 1400/2400 [55:20<38:46,  2.33s/it]"
     ]
    },
    {
     "name": "stderr",
     "output_type": "stream",
     "text": [
      "\r\n",
      " 59%|███████████████████████████████████████████████████████████████████████████████████████████████████▎                                                                     | 1410/2400 [55:43<38:05,  2.31s/it]"
     ]
    },
    {
     "name": "stderr",
     "output_type": "stream",
     "text": [
      "\r\n",
      " 59%|███████████████████████████████████████████████████████████████████████████████████████████████████▉                                                                     | 1420/2400 [56:06<37:27,  2.29s/it]"
     ]
    },
    {
     "name": "stderr",
     "output_type": "stream",
     "text": [
      "\r\n",
      " 60%|████████████████████████████████████████████████████████████████████████████████████████████████████▋                                                                    | 1430/2400 [56:29<37:09,  2.30s/it]"
     ]
    },
    {
     "name": "stderr",
     "output_type": "stream",
     "text": [
      "\r\n",
      " 60%|█████████████████████████████████████████████████████████████████████████████████████████████████████▍                                                                   | 1440/2400 [56:51<36:35,  2.29s/it]"
     ]
    },
    {
     "name": "stderr",
     "output_type": "stream",
     "text": [
      "\r\n",
      " 60%|██████████████████████████████████████████████████████████████████████████████████████████████████████                                                                   | 1450/2400 [57:14<36:04,  2.28s/it]"
     ]
    },
    {
     "name": "stderr",
     "output_type": "stream",
     "text": [
      "\r\n",
      " 61%|██████████████████████████████████████████████████████████████████████████████████████████████████████▊                                                                  | 1460/2400 [57:36<35:33,  2.27s/it]"
     ]
    },
    {
     "name": "stderr",
     "output_type": "stream",
     "text": [
      "\r\n",
      " 61%|███████████████████████████████████████████████████████████████████████████████████████████████████████▌                                                                 | 1470/2400 [57:59<35:04,  2.26s/it]"
     ]
    },
    {
     "name": "stderr",
     "output_type": "stream",
     "text": [
      "\r\n",
      " 62%|████████████████████████████████████████████████████████████████████████████████████████████████████████▏                                                                | 1480/2400 [58:21<34:41,  2.26s/it]"
     ]
    },
    {
     "name": "stderr",
     "output_type": "stream",
     "text": [
      "\r\n",
      " 62%|████████████████████████████████████████████████████████████████████████████████████████████████████████▉                                                                | 1490/2400 [58:44<34:18,  2.26s/it]"
     ]
    },
    {
     "name": "stderr",
     "output_type": "stream",
     "text": [
      "\r\n",
      " 62%|█████████████████████████████████████████████████████████████████████████████████████████████████████████▋                                                               | 1500/2400 [59:06<33:51,  2.26s/it]"
     ]
    },
    {
     "name": "stderr",
     "output_type": "stream",
     "text": [
      "\r\n",
      " 63%|██████████████████████████████████████████████████████████████████████████████████████████████████████████▎                                                              | 1510/2400 [59:29<33:37,  2.27s/it]"
     ]
    },
    {
     "name": "stderr",
     "output_type": "stream",
     "text": [
      "\r\n",
      " 63%|███████████████████████████████████████████████████████████████████████████████████████████████████████████                                                              | 1520/2400 [59:56<34:49,  2.37s/it]"
     ]
    },
    {
     "name": "stderr",
     "output_type": "stream",
     "text": [
      "\r\n",
      " 64%|██████████████████████████████████████████████████████████████████████████████████████████████████████████▍                                                            | 1530/2400 [1:00:18<33:53,  2.34s/it]"
     ]
    },
    {
     "name": "stderr",
     "output_type": "stream",
     "text": [
      "\r\n",
      " 64%|███████████████████████████████████████████████████████████████████████████████████████████████████████████▏                                                           | 1540/2400 [1:00:40<33:03,  2.31s/it]"
     ]
    },
    {
     "name": "stderr",
     "output_type": "stream",
     "text": [
      "\r\n",
      " 65%|███████████████████████████████████████████████████████████████████████████████████████████████████████████▊                                                           | 1550/2400 [1:01:03<32:33,  2.30s/it]"
     ]
    },
    {
     "name": "stderr",
     "output_type": "stream",
     "text": [
      "\r\n",
      " 65%|████████████████████████████████████████████████████████████████████████████████████████████████████████████▌                                                          | 1560/2400 [1:01:26<32:07,  2.29s/it]"
     ]
    },
    {
     "name": "stderr",
     "output_type": "stream",
     "text": [
      "\r\n",
      " 65%|█████████████████████████████████████████████████████████████████████████████████████████████████████████████▏                                                         | 1570/2400 [1:01:50<32:16,  2.33s/it]"
     ]
    },
    {
     "name": "stderr",
     "output_type": "stream",
     "text": [
      "\r\n",
      " 66%|█████████████████████████████████████████████████████████████████████████████████████████████████████████████▉                                                         | 1580/2400 [1:02:17<33:04,  2.42s/it]"
     ]
    },
    {
     "name": "stderr",
     "output_type": "stream",
     "text": [
      "\r\n",
      " 66%|██████████████████████████████████████████████████████████████████████████████████████████████████████████████▋                                                        | 1590/2400 [1:02:44<33:53,  2.51s/it]"
     ]
    },
    {
     "name": "stderr",
     "output_type": "stream",
     "text": [
      "\r\n",
      " 67%|███████████████████████████████████████████████████████████████████████████████████████████████████████████████▎                                                       | 1600/2400 [1:03:08<33:15,  2.49s/it]"
     ]
    },
    {
     "name": "stderr",
     "output_type": "stream",
     "text": [
      "\r\n",
      " 67%|████████████████████████████████████████████████████████████████████████████████████████████████████████████████                                                       | 1610/2400 [1:03:31<32:06,  2.44s/it]"
     ]
    },
    {
     "name": "stderr",
     "output_type": "stream",
     "text": [
      "\r\n",
      " 68%|████████████████████████████████████████████████████████████████████████████████████████████████████████████████▋                                                      | 1620/2400 [1:03:54<31:00,  2.39s/it]"
     ]
    },
    {
     "name": "stderr",
     "output_type": "stream",
     "text": [
      "\r\n",
      " 68%|█████████████████████████████████████████████████████████████████████████████████████████████████████████████████▍                                                     | 1630/2400 [1:04:16<29:54,  2.33s/it]"
     ]
    },
    {
     "name": "stderr",
     "output_type": "stream",
     "text": [
      "\r\n",
      " 68%|██████████████████████████████████████████████████████████████████████████████████████████████████████████████████                                                     | 1640/2400 [1:04:38<28:58,  2.29s/it]"
     ]
    },
    {
     "name": "stderr",
     "output_type": "stream",
     "text": [
      "\r\n",
      " 69%|██████████████████████████████████████████████████████████████████████████████████████████████████████████████████▊                                                    | 1650/2400 [1:05:00<28:14,  2.26s/it]"
     ]
    },
    {
     "name": "stderr",
     "output_type": "stream",
     "text": [
      "\r\n",
      " 69%|███████████████████████████████████████████████████████████████████████████████████████████████████████████████████▌                                                   | 1660/2400 [1:05:22<27:43,  2.25s/it]"
     ]
    },
    {
     "name": "stderr",
     "output_type": "stream",
     "text": [
      "\r\n",
      " 70%|████████████████████████████████████████████████████████████████████████████████████████████████████████████████████▏                                                  | 1670/2400 [1:05:44<27:13,  2.24s/it]"
     ]
    },
    {
     "name": "stderr",
     "output_type": "stream",
     "text": [
      "\r\n",
      " 70%|████████████████████████████████████████████████████████████████████████████████████████████████████████████████████▉                                                  | 1680/2400 [1:06:07<26:48,  2.23s/it]"
     ]
    },
    {
     "name": "stderr",
     "output_type": "stream",
     "text": [
      "\r\n",
      " 70%|█████████████████████████████████████████████████████████████████████████████████████████████████████████████████████▌                                                 | 1690/2400 [1:06:29<26:24,  2.23s/it]"
     ]
    },
    {
     "name": "stderr",
     "output_type": "stream",
     "text": [
      "\r\n",
      " 71%|██████████████████████████████████████████████████████████████████████████████████████████████████████████████████████▎                                                | 1700/2400 [1:06:51<26:04,  2.23s/it]"
     ]
    },
    {
     "name": "stderr",
     "output_type": "stream",
     "text": [
      "\r\n",
      " 71%|██████████████████████████████████████████████████████████████████████████████████████████████████████████████████████▉                                                | 1710/2400 [1:07:16<26:34,  2.31s/it]"
     ]
    },
    {
     "name": "stderr",
     "output_type": "stream",
     "text": [
      "\r\n",
      " 72%|███████████████████████████████████████████████████████████████████████████████████████████████████████████████████████▋                                               | 1720/2400 [1:07:40<26:27,  2.34s/it]"
     ]
    },
    {
     "name": "stderr",
     "output_type": "stream",
     "text": [
      "\r\n",
      " 72%|████████████████████████████████████████████████████████████████████████████████████████████████████████████████████████▍                                              | 1730/2400 [1:08:02<25:38,  2.30s/it]"
     ]
    },
    {
     "name": "stderr",
     "output_type": "stream",
     "text": [
      "\r\n",
      " 72%|█████████████████████████████████████████████████████████████████████████████████████████████████████████████████████████                                              | 1740/2400 [1:08:24<25:01,  2.28s/it]"
     ]
    },
    {
     "name": "stderr",
     "output_type": "stream",
     "text": [
      "\r\n",
      " 73%|█████████████████████████████████████████████████████████████████████████████████████████████████████████████████████████▊                                             | 1750/2400 [1:08:46<24:25,  2.25s/it]"
     ]
    },
    {
     "name": "stderr",
     "output_type": "stream",
     "text": [
      "\r\n",
      " 73%|██████████████████████████████████████████████████████████████████████████████████████████████████████████████████████████▍                                            | 1760/2400 [1:09:08<23:53,  2.24s/it]"
     ]
    },
    {
     "name": "stderr",
     "output_type": "stream",
     "text": [
      "\r\n",
      " 74%|███████████████████████████████████████████████████████████████████████████████████████████████████████████████████████████▏                                           | 1770/2400 [1:09:31<23:26,  2.23s/it]"
     ]
    },
    {
     "name": "stderr",
     "output_type": "stream",
     "text": [
      "\r\n",
      " 74%|███████████████████████████████████████████████████████████████████████████████████████████████████████████████████████████▊                                           | 1780/2400 [1:09:53<22:58,  2.22s/it]"
     ]
    },
    {
     "name": "stderr",
     "output_type": "stream",
     "text": [
      "\r\n",
      " 75%|████████████████████████████████████████████████████████████████████████████████████████████████████████████████████████████▌                                          | 1790/2400 [1:10:15<22:37,  2.23s/it]"
     ]
    },
    {
     "name": "stderr",
     "output_type": "stream",
     "text": [
      "\r\n",
      " 75%|█████████████████████████████████████████████████████████████████████████████████████████████████████████████████████████████▎                                         | 1800/2400 [1:10:37<22:11,  2.22s/it]"
     ]
    },
    {
     "name": "stderr",
     "output_type": "stream",
     "text": [
      "\r\n",
      " 75%|█████████████████████████████████████████████████████████████████████████████████████████████████████████████████████████████▉                                         | 1810/2400 [1:10:59<21:43,  2.21s/it]"
     ]
    },
    {
     "name": "stderr",
     "output_type": "stream",
     "text": [
      "\r\n",
      " 76%|██████████████████████████████████████████████████████████████████████████████████████████████████████████████████████████████▋                                        | 1820/2400 [1:11:21<21:26,  2.22s/it]"
     ]
    },
    {
     "name": "stderr",
     "output_type": "stream",
     "text": [
      "\r\n",
      " 76%|███████████████████████████████████████████████████████████████████████████████████████████████████████████████████████████████▎                                       | 1830/2400 [1:11:43<21:02,  2.22s/it]"
     ]
    },
    {
     "name": "stderr",
     "output_type": "stream",
     "text": [
      "\r\n",
      " 77%|████████████████████████████████████████████████████████████████████████████████████████████████████████████████████████████████                                       | 1840/2400 [1:12:06<20:43,  2.22s/it]"
     ]
    },
    {
     "name": "stderr",
     "output_type": "stream",
     "text": [
      "\r\n",
      " 77%|████████████████████████████████████████████████████████████████████████████████████████████████████████████████████████████████▋                                      | 1850/2400 [1:12:28<20:20,  2.22s/it]"
     ]
    },
    {
     "name": "stderr",
     "output_type": "stream",
     "text": [
      "\r\n",
      " 78%|█████████████████████████████████████████████████████████████████████████████████████████████████████████████████████████████████▍                                     | 1860/2400 [1:12:50<19:57,  2.22s/it]"
     ]
    },
    {
     "name": "stderr",
     "output_type": "stream",
     "text": [
      "\r\n",
      " 78%|██████████████████████████████████████████████████████████████████████████████████████████████████████████████████████████████████                                     | 1870/2400 [1:13:12<19:37,  2.22s/it]"
     ]
    },
    {
     "name": "stderr",
     "output_type": "stream",
     "text": [
      "\r\n",
      " 78%|██████████████████████████████████████████████████████████████████████████████████████████████████████████████████████████████████▊                                    | 1880/2400 [1:13:35<19:18,  2.23s/it]"
     ]
    },
    {
     "name": "stderr",
     "output_type": "stream",
     "text": [
      "\r\n",
      " 79%|███████████████████████████████████████████████████████████████████████████████████████████████████████████████████████████████████▌                                   | 1890/2400 [1:13:57<18:59,  2.24s/it]"
     ]
    },
    {
     "name": "stderr",
     "output_type": "stream",
     "text": [
      "\r\n",
      " 79%|████████████████████████████████████████████████████████████████████████████████████████████████████████████████████████████████████▏                                  | 1900/2400 [1:14:20<18:37,  2.24s/it]"
     ]
    },
    {
     "name": "stderr",
     "output_type": "stream",
     "text": [
      "\r\n",
      " 80%|████████████████████████████████████████████████████████████████████████████████████████████████████████████████████████████████████▉                                  | 1910/2400 [1:14:42<18:11,  2.23s/it]"
     ]
    },
    {
     "name": "stderr",
     "output_type": "stream",
     "text": [
      "\r\n",
      " 80%|█████████████████████████████████████████████████████████████████████████████████████████████████████████████████████████████████████▌                                 | 1920/2400 [1:15:04<17:47,  2.22s/it]"
     ]
    },
    {
     "name": "stderr",
     "output_type": "stream",
     "text": [
      "\r\n",
      " 80%|██████████████████████████████████████████████████████████████████████████████████████████████████████████████████████████████████████▎                                | 1930/2400 [1:15:26<17:27,  2.23s/it]"
     ]
    },
    {
     "name": "stderr",
     "output_type": "stream",
     "text": [
      "\r\n",
      " 81%|██████████████████████████████████████████████████████████████████████████████████████████████████████████████████████████████████████▉                                | 1940/2400 [1:15:49<17:08,  2.24s/it]"
     ]
    },
    {
     "name": "stderr",
     "output_type": "stream",
     "text": [
      "\r\n",
      " 81%|███████████████████████████████████████████████████████████████████████████████████████████████████████████████████████████████████████▋                               | 1950/2400 [1:16:11<16:48,  2.24s/it]"
     ]
    },
    {
     "name": "stderr",
     "output_type": "stream",
     "text": [
      "\r\n",
      " 82%|████████████████████████████████████████████████████████████████████████████████████████████████████████████████████████████████████████▍                              | 1960/2400 [1:16:34<16:24,  2.24s/it]"
     ]
    },
    {
     "name": "stderr",
     "output_type": "stream",
     "text": [
      "\r\n",
      " 82%|█████████████████████████████████████████████████████████████████████████████████████████████████████████████████████████████████████████                              | 1970/2400 [1:16:56<16:02,  2.24s/it]"
     ]
    },
    {
     "name": "stderr",
     "output_type": "stream",
     "text": [
      "\r\n",
      " 82%|█████████████████████████████████████████████████████████████████████████████████████████████████████████████████████████████████████████▊                             | 1980/2400 [1:17:18<15:40,  2.24s/it]"
     ]
    },
    {
     "name": "stderr",
     "output_type": "stream",
     "text": [
      "\r\n",
      " 83%|██████████████████████████████████████████████████████████████████████████████████████████████████████████████████████████████████████████▍                            | 1990/2400 [1:17:40<15:14,  2.23s/it]"
     ]
    },
    {
     "name": "stderr",
     "output_type": "stream",
     "text": [
      "\r\n",
      " 83%|███████████████████████████████████████████████████████████████████████████████████████████████████████████████████████████████████████████▏                           | 2000/2400 [1:18:03<14:56,  2.24s/it]"
     ]
    },
    {
     "name": "stderr",
     "output_type": "stream",
     "text": [
      "\r\n",
      " 84%|███████████████████████████████████████████████████████████████████████████████████████████████████████████████████████████████████████████▊                           | 2010/2400 [1:18:26<14:35,  2.24s/it]"
     ]
    },
    {
     "name": "stderr",
     "output_type": "stream",
     "text": [
      "\r\n",
      " 84%|████████████████████████████████████████████████████████████████████████████████████████████████████████████████████████████████████████████▌                          | 2020/2400 [1:18:48<14:12,  2.24s/it]"
     ]
    },
    {
     "name": "stderr",
     "output_type": "stream",
     "text": [
      "\r\n",
      " 85%|█████████████████████████████████████████████████████████████████████████████████████████████████████████████████████████████████████████████▎                         | 2030/2400 [1:19:10<13:48,  2.24s/it]"
     ]
    },
    {
     "name": "stderr",
     "output_type": "stream",
     "text": [
      "\r\n",
      " 85%|█████████████████████████████████████████████████████████████████████████████████████████████████████████████████████████████████████████████▉                         | 2040/2400 [1:19:33<13:27,  2.24s/it]"
     ]
    },
    {
     "name": "stderr",
     "output_type": "stream",
     "text": [
      "\r\n",
      " 85%|██████████████████████████████████████████████████████████████████████████████████████████████████████████████████████████████████████████████▋                        | 2050/2400 [1:19:56<13:07,  2.25s/it]"
     ]
    },
    {
     "name": "stderr",
     "output_type": "stream",
     "text": [
      "\r\n",
      " 86%|███████████████████████████████████████████████████████████████████████████████████████████████████████████████████████████████████████████████▎                       | 2060/2400 [1:20:18<12:44,  2.25s/it]"
     ]
    },
    {
     "name": "stderr",
     "output_type": "stream",
     "text": [
      "\r\n",
      " 86%|████████████████████████████████████████████████████████████████████████████████████████████████████████████████████████████████████████████████                       | 2070/2400 [1:20:40<12:21,  2.25s/it]"
     ]
    },
    {
     "name": "stderr",
     "output_type": "stream",
     "text": [
      "\r\n",
      " 87%|████████████████████████████████████████████████████████████████████████████████████████████████████████████████████████████████████████████████▋                      | 2080/2400 [1:21:03<11:58,  2.25s/it]"
     ]
    },
    {
     "name": "stderr",
     "output_type": "stream",
     "text": [
      "\r\n",
      " 87%|█████████████████████████████████████████████████████████████████████████████████████████████████████████████████████████████████████████████████▍                     | 2090/2400 [1:21:25<11:33,  2.24s/it]"
     ]
    },
    {
     "name": "stderr",
     "output_type": "stream",
     "text": [
      "\r\n",
      " 88%|██████████████████████████████████████████████████████████████████████████████████████████████████████████████████████████████████████████████████▏                    | 2100/2400 [1:21:47<11:10,  2.24s/it]"
     ]
    },
    {
     "name": "stderr",
     "output_type": "stream",
     "text": [
      "\r\n",
      " 88%|██████████████████████████████████████████████████████████████████████████████████████████████████████████████████████████████████████████████████▊                    | 2110/2400 [1:22:09<10:46,  2.23s/it]"
     ]
    },
    {
     "name": "stderr",
     "output_type": "stream",
     "text": [
      "\r\n",
      " 88%|███████████████████████████████████████████████████████████████████████████████████████████████████████████████████████████████████████████████████▌                   | 2120/2400 [1:22:32<10:22,  2.22s/it]"
     ]
    },
    {
     "name": "stderr",
     "output_type": "stream",
     "text": [
      "\r\n",
      " 89%|████████████████████████████████████████████████████████████████████████████████████████████████████████████████████████████████████████████████████▏                  | 2130/2400 [1:22:54<09:58,  2.22s/it]"
     ]
    },
    {
     "name": "stderr",
     "output_type": "stream",
     "text": [
      "\r\n",
      " 89%|████████████████████████████████████████████████████████████████████████████████████████████████████████████████████████████████████████████████████▉                  | 2140/2400 [1:23:16<09:34,  2.21s/it]"
     ]
    },
    {
     "name": "stderr",
     "output_type": "stream",
     "text": [
      "\r\n",
      " 90%|█████████████████████████████████████████████████████████████████████████████████████████████████████████████████████████████████████████████████████▌                 | 2150/2400 [1:23:37<09:11,  2.21s/it]"
     ]
    },
    {
     "name": "stderr",
     "output_type": "stream",
     "text": [
      "\r\n",
      " 90%|██████████████████████████████████████████████████████████████████████████████████████████████████████████████████████████████████████████████████████▎                | 2160/2400 [1:24:00<08:49,  2.21s/it]"
     ]
    },
    {
     "name": "stderr",
     "output_type": "stream",
     "text": [
      "\r\n",
      " 90%|██████████████████████████████████████████████████████████████████████████████████████████████████████████████████████████████████████████████████████▉                | 2170/2400 [1:24:22<08:28,  2.21s/it]"
     ]
    },
    {
     "name": "stderr",
     "output_type": "stream",
     "text": [
      "\r\n",
      " 91%|███████████████████████████████████████████████████████████████████████████████████████████████████████████████████████████████████████████████████████▋               | 2180/2400 [1:24:44<08:06,  2.21s/it]"
     ]
    },
    {
     "name": "stderr",
     "output_type": "stream",
     "text": [
      "\r\n",
      " 91%|████████████████████████████████████████████████████████████████████████████████████████████████████████████████████████████████████████████████████████▍              | 2190/2400 [1:25:06<07:44,  2.21s/it]"
     ]
    },
    {
     "name": "stderr",
     "output_type": "stream",
     "text": [
      "\r\n",
      " 92%|█████████████████████████████████████████████████████████████████████████████████████████████████████████████████████████████████████████████████████████              | 2200/2400 [1:25:28<07:21,  2.21s/it]"
     ]
    },
    {
     "name": "stderr",
     "output_type": "stream",
     "text": [
      "\r\n",
      " 92%|█████████████████████████████████████████████████████████████████████████████████████████████████████████████████████████████████████████████████████████▊             | 2210/2400 [1:25:50<06:58,  2.20s/it]"
     ]
    },
    {
     "name": "stderr",
     "output_type": "stream",
     "text": [
      "\r\n",
      " 92%|██████████████████████████████████████████████████████████████████████████████████████████████████████████████████████████████████████████████████████████▍            | 2220/2400 [1:26:12<06:35,  2.20s/it]"
     ]
    },
    {
     "name": "stderr",
     "output_type": "stream",
     "text": [
      "\r\n",
      " 93%|███████████████████████████████████████████████████████████████████████████████████████████████████████████████████████████████████████████████████████████▏           | 2230/2400 [1:26:34<06:14,  2.20s/it]"
     ]
    },
    {
     "name": "stderr",
     "output_type": "stream",
     "text": [
      "\r\n",
      " 93%|███████████████████████████████████████████████████████████████████████████████████████████████████████████████████████████████████████████████████████████▊           | 2240/2400 [1:26:56<05:52,  2.20s/it]"
     ]
    },
    {
     "name": "stderr",
     "output_type": "stream",
     "text": [
      "\r\n",
      " 94%|████████████████████████████████████████████████████████████████████████████████████████████████████████████████████████████████████████████████████████████▌          | 2250/2400 [1:27:18<05:30,  2.20s/it]"
     ]
    },
    {
     "name": "stderr",
     "output_type": "stream",
     "text": [
      "\r\n",
      " 94%|█████████████████████████████████████████████████████████████████████████████████████████████████████████████████████████████████████████████████████████████▎         | 2260/2400 [1:27:40<05:07,  2.20s/it]"
     ]
    },
    {
     "name": "stderr",
     "output_type": "stream",
     "text": [
      "\r\n",
      " 95%|█████████████████████████████████████████████████████████████████████████████████████████████████████████████████████████████████████████████████████████████▉         | 2270/2400 [1:28:02<04:46,  2.20s/it]"
     ]
    },
    {
     "name": "stderr",
     "output_type": "stream",
     "text": [
      "\r\n",
      " 95%|██████████████████████████████████████████████████████████████████████████████████████████████████████████████████████████████████████████████████████████████▋        | 2280/2400 [1:28:24<04:23,  2.20s/it]"
     ]
    },
    {
     "name": "stderr",
     "output_type": "stream",
     "text": [
      "\r\n",
      " 95%|███████████████████████████████████████████████████████████████████████████████████████████████████████████████████████████████████████████████████████████████▎       | 2290/2400 [1:28:46<04:01,  2.20s/it]"
     ]
    },
    {
     "name": "stderr",
     "output_type": "stream",
     "text": [
      "\r\n",
      " 96%|████████████████████████████████████████████████████████████████████████████████████████████████████████████████████████████████████████████████████████████████       | 2300/2400 [1:29:08<03:40,  2.20s/it]"
     ]
    },
    {
     "name": "stderr",
     "output_type": "stream",
     "text": [
      "\r\n",
      " 96%|████████████████████████████████████████████████████████████████████████████████████████████████████████████████████████████████████████████████████████████████▋      | 2310/2400 [1:29:30<03:18,  2.21s/it]"
     ]
    },
    {
     "name": "stderr",
     "output_type": "stream",
     "text": [
      "\r\n",
      " 97%|█████████████████████████████████████████████████████████████████████████████████████████████████████████████████████████████████████████████████████████████████▍     | 2320/2400 [1:29:52<02:55,  2.20s/it]"
     ]
    },
    {
     "name": "stderr",
     "output_type": "stream",
     "text": [
      "\r\n",
      " 97%|██████████████████████████████████████████████████████████████████████████████████████████████████████████████████████████████████████████████████████████████████▏    | 2330/2400 [1:30:14<02:33,  2.20s/it]"
     ]
    },
    {
     "name": "stderr",
     "output_type": "stream",
     "text": [
      "\r\n",
      " 98%|██████████████████████████████████████████████████████████████████████████████████████████████████████████████████████████████████████████████████████████████████▊    | 2340/2400 [1:30:36<02:12,  2.20s/it]"
     ]
    },
    {
     "name": "stderr",
     "output_type": "stream",
     "text": [
      "\r\n",
      " 98%|███████████████████████████████████████████████████████████████████████████████████████████████████████████████████████████████████████████████████████████████████▌   | 2350/2400 [1:30:58<01:49,  2.20s/it]"
     ]
    },
    {
     "name": "stderr",
     "output_type": "stream",
     "text": [
      "\r\n",
      " 98%|████████████████████████████████████████████████████████████████████████████████████████████████████████████████████████████████████████████████████████████████████▏  | 2360/2400 [1:31:20<01:27,  2.20s/it]"
     ]
    },
    {
     "name": "stderr",
     "output_type": "stream",
     "text": [
      "\r\n",
      " 99%|████████████████████████████████████████████████████████████████████████████████████████████████████████████████████████████████████████████████████████████████████▉  | 2370/2400 [1:31:42<01:05,  2.20s/it]"
     ]
    },
    {
     "name": "stderr",
     "output_type": "stream",
     "text": [
      "\r\n",
      " 99%|█████████████████████████████████████████████████████████████████████████████████████████████████████████████████████████████████████████████████████████████████████▌ | 2380/2400 [1:32:04<00:44,  2.20s/it]"
     ]
    },
    {
     "name": "stderr",
     "output_type": "stream",
     "text": [
      "\r\n",
      "100%|██████████████████████████████████████████████████████████████████████████████████████████████████████████████████████████████████████████████████████████████████████▎| 2390/2400 [1:32:26<00:21,  2.20s/it]"
     ]
    },
    {
     "name": "stderr",
     "output_type": "stream",
     "text": [
      "\r\n",
      "100%|███████████████████████████████████████████████████████████████████████████████████████████████████████████████████████████████████████████████████████████████████████| 2400/2400 [1:32:48<00:00,  2.19s/it]"
     ]
    },
    {
     "name": "stderr",
     "output_type": "stream",
     "text": [
      "\r\n",
      "100%|███████████████████████████████████████████████████████████████████████████████████████████████████████████████████████████████████████████████████████████████████████| 2400/2400 [1:32:48<00:00,  2.32s/it]"
     ]
    },
    {
     "name": "stderr",
     "output_type": "stream",
     "text": [
      "\n"
     ]
    }
   ],
   "source": [
    "# # Params\n",
    "# np.random.seed(42)\n",
    "# genes_to_survey = adatas[0].var_names\n",
    "# sim_time = 1.\n",
    "\n",
    "# # Mute warnings (array wrap and indexing)\n",
    "# import warnings\n",
    "# warnings.simplefilter('ignore')\n",
    "\n",
    "# # Create anndata\n",
    "# ad_pert = ad.AnnData(obs=adatas[0].obs, var=pd.DataFrame(index=[f'Feature {i}' for i in range(env.dim)]))\n",
    "# # ad_pert0 = ad.AnnData(obs=adatas[0].obs, var=adatas[0].var)\n",
    "# # ad_pert1 = ad.AnnData(obs=adatas[1].obs, var=adatas[1].var)\n",
    "# def add_layers(states, gene):\n",
    "#     ad_pert.layers[gene] = states\n",
    "#     # ad_pert0.layers[gene] = states_0\n",
    "#     # ad_pert1.layers[gene] = states_1\n",
    "\n",
    "# # Add results\n",
    "# results = []\n",
    "# def add_record(states, states_0, states_1, gene, ct):\n",
    "#     results.append({\n",
    "#         'Gene': gene, 'Cell Type': ct,\n",
    "#         'Effect Size (Latent)': np.square(states[-1] - states[0]).mean(),\n",
    "#         'Trajectory Length (Latent)': np.square(states[1:] - states[:-1]).mean(axis=(-2, -1)).sum(),\n",
    "#         'Effect Size (Modality 0)': np.square(states_0[-1] - states_0[0]).mean(),\n",
    "#         'Trajectory Length (Modality 0)': np.square(states_0[1:] - states_0[:-1]).mean(axis=(-2, -1)).sum(),\n",
    "#         'Effect Size (Modality 1)': np.square(states_1[-1] - states_1[0]).mean(),\n",
    "#         'Trajectory Length (Modality 1)': np.square(states_1[1:] - states_1[:-1]).mean(axis=(-2, -1)).sum()})\n",
    "    \n",
    "# # Reset function\n",
    "# def reset_env(env, steady_pos, steady_vel, modal_dict={}):\n",
    "#     env.set_max_time(sim_time).reset()  # TODO: Maybe longer?, early stopping?\n",
    "#     env.set_positions(steady_pos)\n",
    "#     env.set_velocities(steady_vel)  # Maybe 0 manually?\n",
    "#     for k, v in modal_dict.items():\n",
    "#         env.modalities[k] = v\n",
    "\n",
    "# # Running function\n",
    "# def run_and_record(samples, env, policy, preprocessing, gene, gene_idx):\n",
    "#     # Run and impute\n",
    "#     states = celltrip.train.simulate_until_completion(\n",
    "#         env, policy,\n",
    "#         env_hooks=[\n",
    "#             celltrip.utility.hooks.clamp_inverted_features_hook(\n",
    "#                 gene_idx, preprocessing, feature_targets=0., modality_idx=0),\n",
    "#         ],\n",
    "#         action_hooks=[\n",
    "#             celltrip.utility.hooks.move_toward_targets_hook(\n",
    "#                 gene_idx, feature_targets=0., pinning=policy.pinning[0],\n",
    "#                 preprocessing=preprocessing, modality_idx=0,\n",
    "#                 factor=1, device=env.device),\n",
    "#         ],\n",
    "#         store_states='cpu')[-1]\n",
    "#     states_pos = states[..., :env.dim]\n",
    "#     with torch.no_grad():\n",
    "#         imputed_states_0 = policy.pinning[0](states_pos.to('cuda')).detach().cpu().numpy()\n",
    "#         imputed_states_1 = policy.pinning[1](states_pos.to('cuda')).detach().cpu().numpy()\n",
    "#     imputed_states_0, = preprocessing.inverse_transform(imputed_states_0, subset_modality=0)\n",
    "#     imputed_states_1, = preprocessing.inverse_transform(imputed_states_1, subset_modality=1)\n",
    "#     # Record\n",
    "#     add_layers(states_pos.numpy()[-1], gene)  # , imputed_states_0[-1], imputed_states_1[-1]\n",
    "#     add_record(states_pos.numpy(), imputed_states_0, imputed_states_1, gene, 'All')\n",
    "#     for ct in adatas[0][samples].obs['traj_sim'].unique():\n",
    "#         add_record(\n",
    "#             states_pos[:, adatas[0][samples].obs['traj_sim']==ct].numpy(),\n",
    "#             imputed_states_0[:, adatas[0][samples].obs['traj_sim']==ct],\n",
    "#             imputed_states_1[:, adatas[0][samples].obs['traj_sim']==ct],\n",
    "#             gene, ct)\n",
    "\n",
    "# # Subset and preprocess the data\n",
    "# samples = adatas[0].obs.index\n",
    "# raw_m1 = celltrip.utility.processing.chunk_X(adatas[0][samples], chunk_size=2_000)\n",
    "# m1, m2 = [\n",
    "#     celltrip.utility.processing.chunk_X(\n",
    "#         ad[samples], chunk_size=2_000,\n",
    "#         func=lambda x: preprocessing.transform(x, subset_modality=i)[0])\n",
    "#         for i, ad in enumerate(adatas)]\n",
    "\n",
    "# # Initialize environment\n",
    "# env = celltrip.environment.EnvironmentBase(\n",
    "#     torch.tensor(m1), torch.tensor(m2), compute_rewards=False, dim=env.dim).eval(time_scale=1).to('cuda')\n",
    "\n",
    "# # Simulate to steady state\n",
    "# env.reset()\n",
    "# celltrip.train.simulate_until_completion(env, policy)\n",
    "# steady_pos, steady_vel = (env.pos, env.vel)\n",
    "\n",
    "# # Run control\n",
    "# reset_env(env, steady_pos, steady_vel)\n",
    "# add_layers(steady_pos.cpu().numpy(), 'Steady')\n",
    "# run_and_record(samples, env, policy, preprocessing, 'Control', [])\n",
    "\n",
    "# # Perturb\n",
    "# for gene in tqdm.tqdm(genes_to_survey, miniters=10, maxinterval=30):\n",
    "#     # Get gene idx and run\n",
    "#     gene_idx = np.argwhere(adatas[0].var_names==gene).flatten()\n",
    "#     reset_env(env, steady_pos, steady_vel)  # {0: torch.tensor(m1).cuda()}\n",
    "#     run_and_record(samples, env, policy, preprocessing, gene, gene_idx)\n",
    "\n",
    "# # Convert and save\n",
    "# pd.DataFrame(results).to_csv('../plots/dyngen/knockdown.csv', index=None)\n",
    "# ad_pert.write_h5ad('../plots/dyngen/knockdown_results.h5ad')\n",
    "# # ad_pert0.write_h5ad('../plots/dyngen/knockdown_results_modality_0.csv')\n",
    "# # ad_pert1.write_h5ad('../plots/dyngen/knockdown_results_modality_1.csv')\n"
   ]
  },
  {
   "cell_type": "markdown",
   "id": "4be87cd6",
   "metadata": {},
   "source": [
    "# Perform Module Knockdown"
   ]
  },
  {
   "cell_type": "code",
   "execution_count": null,
   "id": "91dd0a3c",
   "metadata": {
    "execution": {
     "iopub.execute_input": "2025-10-15T22:19:49.558809Z",
     "iopub.status.busy": "2025-10-15T22:19:49.557947Z",
     "iopub.status.idle": "2025-10-15T22:19:51.150289Z",
     "shell.execute_reply": "2025-10-15T22:19:51.149807Z"
    }
   },
   "outputs": [],
   "source": [
    "# Load modules\n",
    "with celltrip.utility.general.open_s3_or_local('../data/dyngen/dyngen_tfs.json', 'rb') as f:\n",
    "    tf_modules = json.load(f)\n",
    "    tf_modules.pop('NaN')\n",
    "\n",
    "# Params\n",
    "np.random.seed(42)\n",
    "sim_time = 128.\n",
    "\n",
    "# Mute warnings (array wrap and indexing)\n",
    "import warnings\n",
    "warnings.simplefilter('ignore')\n",
    "\n",
    "# Create anndata\n",
    "ad_pert = ad.AnnData(obs=adatas[0].obs, var=pd.DataFrame(index=[f'Feature {i}' for i in range(env.dim)]))\n",
    "# ad_pert0 = ad.AnnData(obs=adatas[0].obs, var=adatas[0].var)\n",
    "# ad_pert1 = ad.AnnData(obs=adatas[1].obs, var=adatas[1].var)\n",
    "def add_layers(states, gene):\n",
    "    ad_pert.layers[gene] = states\n",
    "    # ad_pert0.layers[gene] = states_0\n",
    "    # ad_pert1.layers[gene] = states_1\n",
    "\n",
    "# Add results\n",
    "results = []\n",
    "def add_record(states, states_0, states_1, gene, ct):\n",
    "    results.append({\n",
    "        'Gene': gene, 'Cell Type': ct,\n",
    "        'Effect Size (Latent)': np.square(states[-1] - states[0]).mean(),\n",
    "        'Trajectory Length (Latent)': np.square(states[1:] - states[:-1]).mean(axis=(-2, -1)).sum(),\n",
    "        'Effect Size (Modality 0)': np.square(states_0[-1] - states_0[0]).mean(),\n",
    "        'Trajectory Length (Modality 0)': np.square(states_0[1:] - states_0[:-1]).mean(axis=(-2, -1)).sum(),\n",
    "        'Effect Size (Modality 1)': np.square(states_1[-1] - states_1[0]).mean(),\n",
    "        'Trajectory Length (Modality 1)': np.square(states_1[1:] - states_1[:-1]).mean(axis=(-2, -1)).sum()})\n",
    "    \n",
    "# Reset function\n",
    "def reset_env(env, steady_pos, steady_vel, modal_dict={}):\n",
    "    env.set_max_time(sim_time).reset()  # TODO: Maybe longer?, early stopping?\n",
    "    env.set_positions(steady_pos)\n",
    "    env.set_velocities(steady_vel)  # Maybe 0 manually?\n",
    "    for k, v in modal_dict.items():\n",
    "        env.modalities[k] = v\n",
    "\n",
    "# Running function\n",
    "def run_and_record(samples, env, policy, preprocessing, gene, gene_idx):\n",
    "    # Run and impute\n",
    "    states = celltrip.train.simulate_until_completion(\n",
    "        env, policy,\n",
    "        env_hooks=[\n",
    "            celltrip.utility.hooks.clamp_inverted_features_hook(\n",
    "                gene_idx, preprocessing, feature_targets=0., modality_idx=0),\n",
    "        ],\n",
    "        action_hooks=[\n",
    "            celltrip.utility.hooks.move_toward_targets_hook(\n",
    "                gene_idx, feature_targets=0., pinning=policy.pinning[0],\n",
    "                preprocessing=preprocessing, modality_idx=0,\n",
    "                factor=1, device=env.device),\n",
    "        ],\n",
    "        skip_states=100, store_states='cpu')[-1]\n",
    "    states_pos = states[..., :env.dim]\n",
    "    with torch.no_grad():\n",
    "        imputed_states_0 = policy.pinning[0](states_pos.to('cuda')).detach().cpu().numpy()\n",
    "        imputed_states_1 = policy.pinning[1](states_pos.to('cuda')).detach().cpu().numpy()\n",
    "    imputed_states_0, = preprocessing.inverse_transform(imputed_states_0, subset_modality=0)\n",
    "    imputed_states_1, = preprocessing.inverse_transform(imputed_states_1, subset_modality=1)\n",
    "    # Record\n",
    "    add_layers(states_pos.numpy()[-1], gene)  # , imputed_states_0[-1], imputed_states_1[-1]\n",
    "    add_record(states_pos.numpy(), imputed_states_0, imputed_states_1, gene, 'All')\n",
    "    for ct in adatas[0][samples].obs['traj_sim'].unique():\n",
    "        add_record(\n",
    "            states_pos[:, adatas[0][samples].obs['traj_sim']==ct].numpy(),\n",
    "            imputed_states_0[:, adatas[0][samples].obs['traj_sim']==ct],\n",
    "            imputed_states_1[:, adatas[0][samples].obs['traj_sim']==ct],\n",
    "            gene, ct)\n",
    "\n",
    "# Subset and preprocess the data\n",
    "samples = adatas[0].obs.index\n",
    "raw_m1 = celltrip.utility.processing.chunk_X(adatas[0][samples], chunk_size=2_000)\n",
    "m1, m2 = [\n",
    "    celltrip.utility.processing.chunk_X(\n",
    "        ad[samples], chunk_size=2_000,\n",
    "        func=lambda x: preprocessing.transform(x, subset_modality=i)[0])\n",
    "        for i, ad in enumerate(adatas)]\n",
    "\n",
    "# Initialize environment\n",
    "env = celltrip.environment.EnvironmentBase(\n",
    "    torch.tensor(m1), torch.tensor(m2), compute_rewards=False, dim=env.dim).eval(time_scale=1).to('cuda')\n",
    "\n",
    "# Simulate to steady state\n",
    "env.reset()\n",
    "celltrip.train.simulate_until_completion(env, policy)\n",
    "steady_pos, steady_vel = (env.pos, env.vel)\n",
    "\n",
    "# Run control\n",
    "reset_env(env, steady_pos, steady_vel)\n",
    "add_layers(steady_pos.cpu().numpy(), 'Steady')\n",
    "run_and_record(samples, env, policy, preprocessing, 'Control', [])\n",
    "\n",
    "# Perturb\n",
    "for module, genes in (pbar := tqdm.tqdm(tf_modules.items())):\n",
    "    # Get gene idx and run\n",
    "    pbar.set_description(module)\n",
    "    gene_idx = np.argwhere(np.isin(adatas[0].var_names, genes)).flatten()\n",
    "    reset_env(env, steady_pos, steady_vel)  # {0: torch.tensor(m1).cuda()}\n",
    "    run_and_record(samples, env, policy, preprocessing, module, gene_idx)\n",
    "\n",
    "# Convert and save\n",
    "pd.DataFrame(results).to_csv('../plots/dyngen/knockdown_full.csv', index=None)\n",
    "ad_pert.write_h5ad('../plots/dyngen/knockdown_full_results.h5ad')\n"
   ]
  },
  {
   "cell_type": "code",
   "execution_count": 6,
   "id": "d109e867",
   "metadata": {
    "execution": {
     "iopub.execute_input": "2025-10-15T22:19:51.233923Z",
     "iopub.status.busy": "2025-10-15T22:19:51.233676Z",
     "iopub.status.idle": "2025-10-15T22:19:51.886294Z",
     "shell.execute_reply": "2025-10-15T22:19:51.885803Z"
    }
   },
   "outputs": [],
   "source": [
    "# ad_pert = ad.read_h5ad('../plots/dyngen/knockdown_full_results.h5ad')\n",
    "# control_gex, = preprocessing.inverse_transform(policy.pinning[0](torch.tensor(ad_pert.layers['Control']).cuda()).detach().cpu().numpy(), subset_modality=0)\n",
    "# pert_gex, = preprocessing.inverse_transform(policy.pinning[0](torch.tensor(ad_pert.layers['D2']).cuda()).detach().cpu().numpy(), subset_modality=0)\n",
    "# prioritized_genes = adatas[0].var.index[np.abs(pert_gex - control_gex).mean(axis=0).argsort()[::-1]].to_numpy()"
   ]
  }
 ],
 "metadata": {
  "kernelspec": {
   "display_name": "ct",
   "language": "python",
   "name": "python3"
  },
  "language_info": {
   "codemirror_mode": {
    "name": "ipython",
    "version": 3
   },
   "file_extension": ".py",
   "mimetype": "text/x-python",
   "name": "python",
   "nbconvert_exporter": "python",
   "pygments_lexer": "ipython3",
   "version": "3.10.16"
  }
 },
 "nbformat": 4,
 "nbformat_minor": 5
}
