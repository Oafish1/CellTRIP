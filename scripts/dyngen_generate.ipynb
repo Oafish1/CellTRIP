{
 "cells": [
  {
   "cell_type": "code",
   "execution_count": 1,
   "id": "1bc6db96",
   "metadata": {
    "execution": {
     "iopub.execute_input": "2025-10-15T08:15:49.753698Z",
     "iopub.status.busy": "2025-10-15T08:15:49.753519Z",
     "iopub.status.idle": "2025-10-15T08:15:49.765325Z",
     "shell.execute_reply": "2025-10-15T08:15:49.764837Z"
    }
   },
   "outputs": [],
   "source": [
    "%load_ext autoreload\n",
    "%autoreload 2\n"
   ]
  },
  {
   "cell_type": "code",
   "execution_count": 2,
   "id": "b2754518",
   "metadata": {
    "execution": {
     "iopub.execute_input": "2025-10-15T08:15:49.767451Z",
     "iopub.status.busy": "2025-10-15T08:15:49.767190Z",
     "iopub.status.idle": "2025-10-15T08:15:52.692871Z",
     "shell.execute_reply": "2025-10-15T08:15:52.692357Z"
    }
   },
   "outputs": [],
   "source": [
    "import json\n",
    "import os\n",
    "\n",
    "import anndata as ad\n",
    "import numpy as np\n",
    "import pandas as pd\n",
    "import sklearn\n",
    "import torch\n",
    "import tqdm\n",
    "\n",
    "import celltrip\n",
    "\n",
    "os.environ['AWS_PROFILE'] = 'waisman-admin'\n"
   ]
  },
  {
   "cell_type": "markdown",
   "id": "5a1aac9c",
   "metadata": {},
   "source": [
    "# Load Data and Policy"
   ]
  },
  {
   "cell_type": "code",
   "execution_count": null,
   "id": "6367c9c1",
   "metadata": {
    "execution": {
     "iopub.execute_input": "2025-10-15T08:15:52.694895Z",
     "iopub.status.busy": "2025-10-15T08:15:52.694700Z",
     "iopub.status.idle": "2025-10-15T08:15:56.754651Z",
     "shell.execute_reply": "2025-10-15T08:15:56.754151Z"
    }
   },
   "outputs": [],
   "source": [
    "# Read data files\n",
    "# adata_prefix = 's3://nkalafut-celltrip/Dyngen'\n",
    "adata_prefix = '../data/Dyngen'\n",
    "adatas = celltrip.utility.processing.read_adatas(\n",
    "    's3://nkalafut-celltrip/dyngen/logcounts.h5ad',\n",
    "    's3://nkalafut-celltrip/dyngen/counts_protein.h5ad',\n",
    "    backed=True)\n",
    "# Model location and name (should be prefix for .weights, .pre, and .mask file)\n",
    "prefix, training_step = 's3://nkalafut-celltrip/checkpoints/Dyngen-250920', 800\n",
    "# prefix, training_step = 's3://nkalafut-celltrip/checkpoints/Dyngen-251015', 800\n",
    "# Generate or load preprocessing\n",
    "preprocessing = celltrip.utility.processing.Preprocessing().load(f'{prefix}.pre')\n",
    "with celltrip.utility.general.open_s3_or_local(f'{prefix}.mask', 'rb') as f:\n",
    "    mask = np.loadtxt(f).astype(bool)\n",
    "adatas[0].obs['Training'] = mask\n",
    "# Create sample env (kind of a dumb workaround, TODO)\n",
    "m1, m2 = [preprocessing.transform(ad[:2].X, subset_modality=i)[0] for i, ad in enumerate(adatas)]\n",
    "env = celltrip.environment.EnvironmentBase(\n",
    "    torch.tensor(m1), torch.tensor(m2), compute_rewards=False, dim=8).eval().to('cuda')\n",
    "# Load policy\n",
    "policy = celltrip.policy.create_agent_from_env(\n",
    "    env, forward_batch_size=1_000, vision_size=1_000).eval().to('cuda')\n",
    "policy.load_checkpoint(f'{prefix}-{training_step:04}.weights');\n"
   ]
  },
  {
   "cell_type": "markdown",
   "id": "f37705ce",
   "metadata": {},
   "source": [
    "# Perform Significance Estimation"
   ]
  },
  {
   "cell_type": "code",
   "execution_count": 4,
   "id": "fca63f76",
   "metadata": {
    "execution": {
     "iopub.execute_input": "2025-10-15T08:15:56.757118Z",
     "iopub.status.busy": "2025-10-15T08:15:56.756600Z",
     "iopub.status.idle": "2025-10-15T08:15:56.785387Z",
     "shell.execute_reply": "2025-10-15T08:15:56.784888Z"
    }
   },
   "outputs": [],
   "source": [
    "# # Params\n",
    "# np.random.seed(42)\n",
    "# genes_to_survey = adatas[0].var_names\n",
    "# sim_time = 5.\n",
    "\n",
    "# # Mute warnings (array wrap and indexing)\n",
    "# import warnings\n",
    "# warnings.simplefilter('ignore')\n",
    "\n",
    "# # Create anndata\n",
    "# ad_pert = ad.AnnData(obs=adatas[0].obs, var=pd.DataFrame(index=[f'Feature {i}' for i in range(env.dim)]))\n",
    "# # ad_pert0 = ad.AnnData(obs=adatas[0].obs, var=adatas[0].var)\n",
    "# # ad_pert1 = ad.AnnData(obs=adatas[1].obs, var=adatas[1].var)\n",
    "# def add_layers(states, gene):\n",
    "#     ad_pert.layers[gene] = states\n",
    "#     # ad_pert0.layers[gene] = states_0\n",
    "#     # ad_pert1.layers[gene] = states_1\n",
    "\n",
    "# # Add results\n",
    "# results = []\n",
    "# def add_record(states, states_0, states_1, gene, ct):\n",
    "#     results.append({\n",
    "#         'Gene': gene, 'Cell Type': ct,\n",
    "#         'Effect Size (Latent)': np.square(states[-1] - states[0]).mean(),\n",
    "#         'Trajectory Length (Latent)': np.square(states[1:] - states[:-1]).mean(axis=(-2, -1)).sum(),\n",
    "#         'Effect Size (Modality 0)': np.square(states_0[-1] - states_0[0]).mean(),\n",
    "#         'Trajectory Length (Modality 0)': np.square(states_0[1:] - states_0[:-1]).mean(axis=(-2, -1)).sum(),\n",
    "#         'Effect Size (Modality 1)': np.square(states_1[-1] - states_1[0]).mean(),\n",
    "#         'Trajectory Length (Modality 1)': np.square(states_1[1:] - states_1[:-1]).mean(axis=(-2, -1)).sum()})\n",
    "    \n",
    "# # Reset function\n",
    "# def reset_env(env, steady_pos, steady_vel, modal_dict={}):\n",
    "#     env.set_max_time(sim_time).reset()  # TODO: Maybe longer?, early stopping?\n",
    "#     env.set_positions(steady_pos)\n",
    "#     env.set_velocities(steady_vel)  # Maybe 0 manually?\n",
    "#     for k, v in modal_dict.items():\n",
    "#         env.modalities[k] = v\n",
    "\n",
    "# # Running function\n",
    "# def run_and_record(samples, env, policy, preprocessing, gene, gene_idx):\n",
    "#     # Run and impute\n",
    "#     states = celltrip.train.simulate_until_completion(\n",
    "#         env, policy,\n",
    "#         env_hooks=[\n",
    "#             celltrip.utility.hooks.clamp_inverted_features_hook(\n",
    "#                 gene_idx, preprocessing, feature_targets=0., modality_idx=0),\n",
    "#         ],\n",
    "#         action_hooks=[\n",
    "#             celltrip.utility.hooks.move_toward_targets_hook(\n",
    "#                 gene_idx, feature_targets=0., pinning=policy.pinning[0],\n",
    "#                 preprocessing=preprocessing, modality_idx=0,\n",
    "#                 factor=1, device=env.device),\n",
    "#         ],\n",
    "#         store_states='cpu')[-1]\n",
    "#     states_pos = states[..., :env.dim]\n",
    "#     with torch.no_grad():\n",
    "#         imputed_states_0 = policy.pinning[0](states_pos.to('cuda')).detach().cpu().numpy()\n",
    "#         imputed_states_1 = policy.pinning[1](states_pos.to('cuda')).detach().cpu().numpy()\n",
    "#     imputed_states_0, = preprocessing.inverse_transform(imputed_states_0, subset_modality=0)\n",
    "#     imputed_states_1, = preprocessing.inverse_transform(imputed_states_1, subset_modality=1)\n",
    "#     # Record\n",
    "#     add_layers(states_pos.numpy()[-1], gene)  # , imputed_states_0[-1], imputed_states_1[-1]\n",
    "#     add_record(states_pos.numpy(), imputed_states_0, imputed_states_1, gene, 'All')\n",
    "#     for ct in adatas[0][samples].obs['traj_sim'].unique():\n",
    "#         add_record(\n",
    "#             states_pos[:, adatas[0][samples].obs['traj_sim']==ct].numpy(),\n",
    "#             imputed_states_0[:, adatas[0][samples].obs['traj_sim']==ct],\n",
    "#             imputed_states_1[:, adatas[0][samples].obs['traj_sim']==ct],\n",
    "#             gene, ct)\n",
    "\n",
    "# # Subset and preprocess the data\n",
    "# samples = adatas[0].obs.index\n",
    "# raw_m1 = celltrip.utility.processing.chunk_X(adatas[0][samples], chunk_size=2_000)\n",
    "# m1, m2 = [\n",
    "#     celltrip.utility.processing.chunk_X(\n",
    "#         ad[samples], chunk_size=2_000,\n",
    "#         func=lambda x: preprocessing.transform(x, subset_modality=i)[0])\n",
    "#         for i, ad in enumerate(adatas)]\n",
    "\n",
    "# # Initialize environment\n",
    "# env = celltrip.environment.EnvironmentBase(\n",
    "#     torch.tensor(m1), torch.tensor(m2), compute_rewards=False, dim=8).eval(time_scale=1).to('cuda')\n",
    "\n",
    "# # Simulate to steady state\n",
    "# env.reset()\n",
    "# celltrip.train.simulate_until_completion(env, policy)\n",
    "# steady_pos, steady_vel = (env.pos, env.vel)\n",
    "\n",
    "# # Run control\n",
    "# reset_env(env, steady_pos, steady_vel)\n",
    "# add_layers(steady_pos.cpu().numpy(), 'Steady')\n",
    "# run_and_record(samples, env, policy, preprocessing, 'Control')\n",
    "\n",
    "# # Perturb\n",
    "# for gene in tqdm.tqdm(genes_to_survey, miniters=10, maxinterval=30):\n",
    "#     # Get gene idx and run\n",
    "#     gene_idx = np.argwhere(adatas[0].var_names==gene).flatten()\n",
    "#     reset_env(env, steady_pos, steady_vel)  # {0: torch.tensor(m1).cuda()}\n",
    "#     run_and_record(samples, env, policy, preprocessing, gene, gene_idx)\n",
    "\n",
    "# # Convert and save\n",
    "# pd.DataFrame(results).to_csv('../plots/dyngen/knockdown.csv', index=None)\n",
    "# ad_pert.write_h5ad('../plots/dyngen/knockdown_results.h5ad')\n",
    "# # ad_pert0.write_h5ad('../plots/dyngen/knockdown_results_modality_0.csv')\n",
    "# # ad_pert1.write_h5ad('../plots/dyngen/knockdown_results_modality_1.csv')\n"
   ]
  },
  {
   "cell_type": "markdown",
   "id": "4be87cd6",
   "metadata": {},
   "source": [
    "# Perform Module Knockdown"
   ]
  },
  {
   "cell_type": "code",
   "execution_count": 5,
   "id": "91dd0a3c",
   "metadata": {
    "execution": {
     "iopub.execute_input": "2025-10-15T08:15:56.787589Z",
     "iopub.status.busy": "2025-10-15T08:15:56.787217Z",
     "iopub.status.idle": "2025-10-15T08:44:07.351615Z",
     "shell.execute_reply": "2025-10-15T08:44:07.350976Z"
    }
   },
   "outputs": [
    {
     "name": "stderr",
     "output_type": "stream",
     "text": [
      "\r\n",
      "  0%|                                                                                                                                                                                      | 0/62 [00:00<?, ?it/s]"
     ]
    },
    {
     "name": "stderr",
     "output_type": "stream",
     "text": [
      "\r\n",
      "Burn1:   0%|                                                                                                                                                                               | 0/62 [00:00<?, ?it/s]"
     ]
    },
    {
     "name": "stderr",
     "output_type": "stream",
     "text": [
      "\r\n",
      "Burn1:   2%|██▋                                                                                                                                                                    | 1/62 [00:49<50:16, 49.44s/it]"
     ]
    },
    {
     "name": "stderr",
     "output_type": "stream",
     "text": [
      "\r\n",
      "Burn2:   2%|██▋                                                                                                                                                                    | 1/62 [00:49<50:16, 49.44s/it]"
     ]
    },
    {
     "name": "stderr",
     "output_type": "stream",
     "text": [
      "\r\n",
      "Burn2:   3%|█████▍                                                                                                                                                                 | 2/62 [01:10<32:30, 32.51s/it]"
     ]
    },
    {
     "name": "stderr",
     "output_type": "stream",
     "text": [
      "\r\n",
      "Burn3:   3%|█████▍                                                                                                                                                                 | 2/62 [01:10<32:30, 32.51s/it]"
     ]
    },
    {
     "name": "stderr",
     "output_type": "stream",
     "text": [
      "\r\n",
      "Burn3:   5%|████████                                                                                                                                                               | 3/62 [01:33<27:45, 28.22s/it]"
     ]
    },
    {
     "name": "stderr",
     "output_type": "stream",
     "text": [
      "\r\n",
      "Burn4:   5%|████████                                                                                                                                                               | 3/62 [01:33<27:45, 28.22s/it]"
     ]
    },
    {
     "name": "stderr",
     "output_type": "stream",
     "text": [
      "\r\n",
      "Burn4:   6%|██████████▊                                                                                                                                                            | 4/62 [01:54<24:42, 25.56s/it]"
     ]
    },
    {
     "name": "stderr",
     "output_type": "stream",
     "text": [
      "\r\n",
      "Burn5:   6%|██████████▊                                                                                                                                                            | 4/62 [01:54<24:42, 25.56s/it]"
     ]
    },
    {
     "name": "stderr",
     "output_type": "stream",
     "text": [
      "\r\n",
      "Burn5:   8%|█████████████▍                                                                                                                                                         | 5/62 [02:15<22:45, 23.96s/it]"
     ]
    },
    {
     "name": "stderr",
     "output_type": "stream",
     "text": [
      "\r\n",
      "Burn6:   8%|█████████████▍                                                                                                                                                         | 5/62 [02:15<22:45, 23.96s/it]"
     ]
    },
    {
     "name": "stderr",
     "output_type": "stream",
     "text": [
      "\r\n",
      "Burn6:  10%|████████████████▏                                                                                                                                                      | 6/62 [02:41<22:45, 24.38s/it]"
     ]
    },
    {
     "name": "stderr",
     "output_type": "stream",
     "text": [
      "\r\n",
      "A1:  10%|████████████████▍                                                                                                                                                         | 6/62 [02:41<22:45, 24.38s/it]"
     ]
    },
    {
     "name": "stderr",
     "output_type": "stream",
     "text": [
      "\r\n",
      "A1:  11%|███████████████████▏                                                                                                                                                      | 7/62 [03:02<21:33, 23.51s/it]"
     ]
    },
    {
     "name": "stderr",
     "output_type": "stream",
     "text": [
      "\r\n",
      "A2:  11%|███████████████████▏                                                                                                                                                      | 7/62 [03:02<21:33, 23.51s/it]"
     ]
    },
    {
     "name": "stderr",
     "output_type": "stream",
     "text": [
      "\r\n",
      "A2:  13%|█████████████████████▉                                                                                                                                                    | 8/62 [03:24<20:39, 22.96s/it]"
     ]
    },
    {
     "name": "stderr",
     "output_type": "stream",
     "text": [
      "\r\n",
      "A3:  13%|█████████████████████▉                                                                                                                                                    | 8/62 [03:24<20:39, 22.96s/it]"
     ]
    },
    {
     "name": "stderr",
     "output_type": "stream",
     "text": [
      "\r\n",
      "A3:  15%|████████████████████████▋                                                                                                                                                 | 9/62 [03:51<21:21, 24.17s/it]"
     ]
    },
    {
     "name": "stderr",
     "output_type": "stream",
     "text": [
      "\r\n",
      "A4:  15%|████████████████████████▋                                                                                                                                                 | 9/62 [03:51<21:21, 24.17s/it]"
     ]
    },
    {
     "name": "stderr",
     "output_type": "stream",
     "text": [
      "\r\n",
      "A4:  16%|███████████████████████████▎                                                                                                                                             | 10/62 [04:16<21:19, 24.60s/it]"
     ]
    },
    {
     "name": "stderr",
     "output_type": "stream",
     "text": [
      "\r\n",
      "A5:  16%|███████████████████████████▎                                                                                                                                             | 10/62 [04:16<21:19, 24.60s/it]"
     ]
    },
    {
     "name": "stderr",
     "output_type": "stream",
     "text": [
      "\r\n",
      "A5:  18%|█████████████████████████████▉                                                                                                                                           | 11/62 [04:42<21:16, 25.04s/it]"
     ]
    },
    {
     "name": "stderr",
     "output_type": "stream",
     "text": [
      "\r\n",
      "A6:  18%|█████████████████████████████▉                                                                                                                                           | 11/62 [04:42<21:16, 25.04s/it]"
     ]
    },
    {
     "name": "stderr",
     "output_type": "stream",
     "text": [
      "\r\n",
      "A6:  19%|████████████████████████████████▋                                                                                                                                        | 12/62 [05:10<21:34, 25.88s/it]"
     ]
    },
    {
     "name": "stderr",
     "output_type": "stream",
     "text": [
      "\r\n",
      "B1:  19%|████████████████████████████████▋                                                                                                                                        | 12/62 [05:10<21:34, 25.88s/it]"
     ]
    },
    {
     "name": "stderr",
     "output_type": "stream",
     "text": [
      "\r\n",
      "B1:  21%|███████████████████████████████████▍                                                                                                                                     | 13/62 [05:40<22:02, 26.99s/it]"
     ]
    },
    {
     "name": "stderr",
     "output_type": "stream",
     "text": [
      "\r\n",
      "B2:  21%|███████████████████████████████████▍                                                                                                                                     | 13/62 [05:40<22:02, 26.99s/it]"
     ]
    },
    {
     "name": "stderr",
     "output_type": "stream",
     "text": [
      "\r\n",
      "B2:  23%|██████████████████████████████████████▏                                                                                                                                  | 14/62 [06:07<21:32, 26.92s/it]"
     ]
    },
    {
     "name": "stderr",
     "output_type": "stream",
     "text": [
      "\r\n",
      "B3:  23%|██████████████████████████████████████▏                                                                                                                                  | 14/62 [06:07<21:32, 26.92s/it]"
     ]
    },
    {
     "name": "stderr",
     "output_type": "stream",
     "text": [
      "\r\n",
      "B3:  24%|████████████████████████████████████████▉                                                                                                                                | 15/62 [06:28<19:51, 25.35s/it]"
     ]
    },
    {
     "name": "stderr",
     "output_type": "stream",
     "text": [
      "\r\n",
      "B4:  24%|████████████████████████████████████████▉                                                                                                                                | 15/62 [06:28<19:51, 25.35s/it]"
     ]
    },
    {
     "name": "stderr",
     "output_type": "stream",
     "text": [
      "\r\n",
      "B4:  26%|███████████████████████████████████████████▌                                                                                                                             | 16/62 [06:49<18:20, 23.92s/it]"
     ]
    },
    {
     "name": "stderr",
     "output_type": "stream",
     "text": [
      "\r\n",
      "B5:  26%|███████████████████████████████████████████▌                                                                                                                             | 16/62 [06:49<18:20, 23.92s/it]"
     ]
    },
    {
     "name": "stderr",
     "output_type": "stream",
     "text": [
      "\r\n",
      "B5:  27%|██████████████████████████████████████████████▎                                                                                                                          | 17/62 [07:14<18:07, 24.16s/it]"
     ]
    },
    {
     "name": "stderr",
     "output_type": "stream",
     "text": [
      "\r\n",
      "C1:  27%|██████████████████████████████████████████████▎                                                                                                                          | 17/62 [07:14<18:07, 24.16s/it]"
     ]
    },
    {
     "name": "stderr",
     "output_type": "stream",
     "text": [
      "\r\n",
      "C1:  29%|█████████████████████████████████████████████████                                                                                                                        | 18/62 [07:38<17:42, 24.16s/it]"
     ]
    },
    {
     "name": "stderr",
     "output_type": "stream",
     "text": [
      "\r\n",
      "C2:  29%|█████████████████████████████████████████████████                                                                                                                        | 18/62 [07:38<17:42, 24.16s/it]"
     ]
    },
    {
     "name": "stderr",
     "output_type": "stream",
     "text": [
      "\r\n",
      "C2:  31%|███████████████████████████████████████████████████▊                                                                                                                     | 19/62 [08:00<16:48, 23.45s/it]"
     ]
    },
    {
     "name": "stderr",
     "output_type": "stream",
     "text": [
      "\r\n",
      "C3:  31%|███████████████████████████████████████████████████▊                                                                                                                     | 19/62 [08:00<16:48, 23.45s/it]"
     ]
    },
    {
     "name": "stderr",
     "output_type": "stream",
     "text": [
      "\r\n",
      "C3:  32%|██████████████████████████████████████████████████████▌                                                                                                                  | 20/62 [08:21<16:05, 22.98s/it]"
     ]
    },
    {
     "name": "stderr",
     "output_type": "stream",
     "text": [
      "\r\n",
      "C4:  32%|██████████████████████████████████████████████████████▌                                                                                                                  | 20/62 [08:21<16:05, 22.98s/it]"
     ]
    },
    {
     "name": "stderr",
     "output_type": "stream",
     "text": [
      "\r\n",
      "C4:  34%|█████████████████████████████████████████████████████████▏                                                                                                               | 21/62 [08:44<15:42, 22.98s/it]"
     ]
    },
    {
     "name": "stderr",
     "output_type": "stream",
     "text": [
      "\r\n",
      "C5:  34%|█████████████████████████████████████████████████████████▏                                                                                                               | 21/62 [08:44<15:42, 22.98s/it]"
     ]
    },
    {
     "name": "stderr",
     "output_type": "stream",
     "text": [
      "\r\n",
      "C5:  35%|███████████████████████████████████████████████████████████▉                                                                                                             | 22/62 [09:09<15:40, 23.52s/it]"
     ]
    },
    {
     "name": "stderr",
     "output_type": "stream",
     "text": [
      "\r\n",
      "C6:  35%|███████████████████████████████████████████████████████████▉                                                                                                             | 22/62 [09:09<15:40, 23.52s/it]"
     ]
    },
    {
     "name": "stderr",
     "output_type": "stream",
     "text": [
      "\r\n",
      "C6:  37%|██████████████████████████████████████████████████████████████▋                                                                                                          | 23/62 [09:31<14:54, 22.93s/it]"
     ]
    },
    {
     "name": "stderr",
     "output_type": "stream",
     "text": [
      "\r\n",
      "C7:  37%|██████████████████████████████████████████████████████████████▋                                                                                                          | 23/62 [09:31<14:54, 22.93s/it]"
     ]
    },
    {
     "name": "stderr",
     "output_type": "stream",
     "text": [
      "\r\n",
      "C7:  39%|█████████████████████████████████████████████████████████████████▍                                                                                                       | 24/62 [09:58<15:20, 24.23s/it]"
     ]
    },
    {
     "name": "stderr",
     "output_type": "stream",
     "text": [
      "\r\n",
      "C8:  39%|█████████████████████████████████████████████████████████████████▍                                                                                                       | 24/62 [09:58<15:20, 24.23s/it]"
     ]
    },
    {
     "name": "stderr",
     "output_type": "stream",
     "text": [
      "\r\n",
      "C8:  40%|████████████████████████████████████████████████████████████████████▏                                                                                                    | 25/62 [10:24<15:10, 24.62s/it]"
     ]
    },
    {
     "name": "stderr",
     "output_type": "stream",
     "text": [
      "\r\n",
      "C9:  40%|████████████████████████████████████████████████████████████████████▏                                                                                                    | 25/62 [10:24<15:10, 24.62s/it]"
     ]
    },
    {
     "name": "stderr",
     "output_type": "stream",
     "text": [
      "\r\n",
      "C9:  42%|██████████████████████████████████████████████████████████████████████▊                                                                                                  | 26/62 [10:49<14:51, 24.76s/it]"
     ]
    },
    {
     "name": "stderr",
     "output_type": "stream",
     "text": [
      "\r\n",
      "C10:  42%|██████████████████████████████████████████████████████████████████████▍                                                                                                 | 26/62 [10:49<14:51, 24.76s/it]"
     ]
    },
    {
     "name": "stderr",
     "output_type": "stream",
     "text": [
      "\r\n",
      "C10:  44%|█████████████████████████████████████████████████████████████████████████▏                                                                                              | 27/62 [11:14<14:30, 24.88s/it]"
     ]
    },
    {
     "name": "stderr",
     "output_type": "stream",
     "text": [
      "\r\n",
      "C11:  44%|█████████████████████████████████████████████████████████████████████████▏                                                                                              | 27/62 [11:14<14:30, 24.88s/it]"
     ]
    },
    {
     "name": "stderr",
     "output_type": "stream",
     "text": [
      "\r\n",
      "C11:  45%|███████████████████████████████████████████████████████████████████████████▊                                                                                            | 28/62 [11:35<13:33, 23.92s/it]"
     ]
    },
    {
     "name": "stderr",
     "output_type": "stream",
     "text": [
      "\r\n",
      "C12:  45%|███████████████████████████████████████████████████████████████████████████▊                                                                                            | 28/62 [11:35<13:33, 23.92s/it]"
     ]
    },
    {
     "name": "stderr",
     "output_type": "stream",
     "text": [
      "\r\n",
      "C12:  47%|██████████████████████████████████████████████████████████████████████████████▌                                                                                         | 29/62 [11:57<12:47, 23.26s/it]"
     ]
    },
    {
     "name": "stderr",
     "output_type": "stream",
     "text": [
      "\r\n",
      "C13:  47%|██████████████████████████████████████████████████████████████████████████████▌                                                                                         | 29/62 [11:57<12:47, 23.26s/it]"
     ]
    },
    {
     "name": "stderr",
     "output_type": "stream",
     "text": [
      "\r\n",
      "C13:  48%|█████████████████████████████████████████████████████████████████████████████████▎                                                                                      | 30/62 [12:20<12:17, 23.05s/it]"
     ]
    },
    {
     "name": "stderr",
     "output_type": "stream",
     "text": [
      "\r\n",
      "C14:  48%|█████████████████████████████████████████████████████████████████████████████████▎                                                                                      | 30/62 [12:20<12:17, 23.05s/it]"
     ]
    },
    {
     "name": "stderr",
     "output_type": "stream",
     "text": [
      "\r\n",
      "C14:  50%|████████████████████████████████████████████████████████████████████████████████████                                                                                    | 31/62 [12:41<11:38, 22.52s/it]"
     ]
    },
    {
     "name": "stderr",
     "output_type": "stream",
     "text": [
      "\r\n",
      "D1:  50%|████████████████████████████████████████████████████████████████████████████████████▌                                                                                    | 31/62 [12:41<11:38, 22.52s/it]"
     ]
    },
    {
     "name": "stderr",
     "output_type": "stream",
     "text": [
      "\r\n",
      "D1:  52%|███████████████████████████████████████████████████████████████████████████████████████▏                                                                                 | 32/62 [13:04<11:23, 22.78s/it]"
     ]
    },
    {
     "name": "stderr",
     "output_type": "stream",
     "text": [
      "\r\n",
      "D2:  52%|███████████████████████████████████████████████████████████████████████████████████████▏                                                                                 | 32/62 [13:04<11:23, 22.78s/it]"
     ]
    },
    {
     "name": "stderr",
     "output_type": "stream",
     "text": [
      "\r\n",
      "D2:  53%|█████████████████████████████████████████████████████████████████████████████████████████▉                                                                               | 33/62 [13:26<10:49, 22.39s/it]"
     ]
    },
    {
     "name": "stderr",
     "output_type": "stream",
     "text": [
      "\r\n",
      "D3:  53%|█████████████████████████████████████████████████████████████████████████████████████████▉                                                                               | 33/62 [13:26<10:49, 22.39s/it]"
     ]
    },
    {
     "name": "stderr",
     "output_type": "stream",
     "text": [
      "\r\n",
      "D3:  55%|████████████████████████████████████████████████████████████████████████████████████████████▋                                                                            | 34/62 [13:49<10:34, 22.68s/it]"
     ]
    },
    {
     "name": "stderr",
     "output_type": "stream",
     "text": [
      "\r\n",
      "D4:  55%|████████████████████████████████████████████████████████████████████████████████████████████▋                                                                            | 34/62 [13:49<10:34, 22.68s/it]"
     ]
    },
    {
     "name": "stderr",
     "output_type": "stream",
     "text": [
      "\r\n",
      "D4:  56%|███████████████████████████████████████████████████████████████████████████████████████████████▍                                                                         | 35/62 [14:14<10:32, 23.43s/it]"
     ]
    },
    {
     "name": "stderr",
     "output_type": "stream",
     "text": [
      "\r\n",
      "D5:  56%|███████████████████████████████████████████████████████████████████████████████████████████████▍                                                                         | 35/62 [14:14<10:32, 23.43s/it]"
     ]
    },
    {
     "name": "stderr",
     "output_type": "stream",
     "text": [
      "\r\n",
      "D5:  58%|██████████████████████████████████████████████████████████████████████████████████████████████████▏                                                                      | 36/62 [14:38<10:06, 23.35s/it]"
     ]
    },
    {
     "name": "stderr",
     "output_type": "stream",
     "text": [
      "\r\n",
      "D6:  58%|██████████████████████████████████████████████████████████████████████████████████████████████████▏                                                                      | 36/62 [14:38<10:06, 23.35s/it]"
     ]
    },
    {
     "name": "stderr",
     "output_type": "stream",
     "text": [
      "\r\n",
      "D6:  60%|████████████████████████████████████████████████████████████████████████████████████████████████████▊                                                                    | 37/62 [15:02<09:50, 23.63s/it]"
     ]
    },
    {
     "name": "stderr",
     "output_type": "stream",
     "text": [
      "\r\n",
      "D7:  60%|████████████████████████████████████████████████████████████████████████████████████████████████████▊                                                                    | 37/62 [15:02<09:50, 23.63s/it]"
     ]
    },
    {
     "name": "stderr",
     "output_type": "stream",
     "text": [
      "\r\n",
      "D7:  61%|███████████████████████████████████████████████████████████████████████████████████████████████████████▌                                                                 | 38/62 [15:24<09:14, 23.10s/it]"
     ]
    },
    {
     "name": "stderr",
     "output_type": "stream",
     "text": [
      "\r\n",
      "D8:  61%|███████████████████████████████████████████████████████████████████████████████████████████████████████▌                                                                 | 38/62 [15:24<09:14, 23.10s/it]"
     ]
    },
    {
     "name": "stderr",
     "output_type": "stream",
     "text": [
      "\r\n",
      "D8:  63%|██████████████████████████████████████████████████████████████████████████████████████████████████████████▎                                                              | 39/62 [15:49<09:07, 23.79s/it]"
     ]
    },
    {
     "name": "stderr",
     "output_type": "stream",
     "text": [
      "\r\n",
      "D9:  63%|██████████████████████████████████████████████████████████████████████████████████████████████████████████▎                                                              | 39/62 [15:49<09:07, 23.79s/it]"
     ]
    },
    {
     "name": "stderr",
     "output_type": "stream",
     "text": [
      "\r\n",
      "D9:  65%|█████████████████████████████████████████████████████████████████████████████████████████████████████████████                                                            | 40/62 [16:12<08:34, 23.37s/it]"
     ]
    },
    {
     "name": "stderr",
     "output_type": "stream",
     "text": [
      "\r\n",
      "D10:  65%|████████████████████████████████████████████████████████████████████████████████████████████████████████████▍                                                           | 40/62 [16:12<08:34, 23.37s/it]"
     ]
    },
    {
     "name": "stderr",
     "output_type": "stream",
     "text": [
      "\r\n",
      "D10:  66%|███████████████████████████████████████████████████████████████████████████████████████████████████████████████                                                         | 41/62 [16:33<07:59, 22.84s/it]"
     ]
    },
    {
     "name": "stderr",
     "output_type": "stream",
     "text": [
      "\r\n",
      "D11:  66%|███████████████████████████████████████████████████████████████████████████████████████████████████████████████                                                         | 41/62 [16:33<07:59, 22.84s/it]"
     ]
    },
    {
     "name": "stderr",
     "output_type": "stream",
     "text": [
      "\r\n",
      "D11:  68%|█████████████████████████████████████████████████████████████████████████████████████████████████████████████████▊                                                      | 42/62 [17:12<09:15, 27.78s/it]"
     ]
    },
    {
     "name": "stderr",
     "output_type": "stream",
     "text": [
      "\r\n",
      "D12:  68%|█████████████████████████████████████████████████████████████████████████████████████████████████████████████████▊                                                      | 42/62 [17:12<09:15, 27.78s/it]"
     ]
    },
    {
     "name": "stderr",
     "output_type": "stream",
     "text": [
      "\r\n",
      "D12:  69%|████████████████████████████████████████████████████████████████████████████████████████████████████████████████████▌                                                   | 43/62 [18:05<11:07, 35.12s/it]"
     ]
    },
    {
     "name": "stderr",
     "output_type": "stream",
     "text": [
      "\r\n",
      "D13:  69%|████████████████████████████████████████████████████████████████████████████████████████████████████████████████████▌                                                   | 43/62 [18:05<11:07, 35.12s/it]"
     ]
    },
    {
     "name": "stderr",
     "output_type": "stream",
     "text": [
      "\r\n",
      "D13:  71%|███████████████████████████████████████████████████████████████████████████████████████████████████████████████████████▏                                                | 44/62 [18:28<09:28, 31.61s/it]"
     ]
    },
    {
     "name": "stderr",
     "output_type": "stream",
     "text": [
      "\r\n",
      "D14:  71%|███████████████████████████████████████████████████████████████████████████████████████████████████████████████████████▏                                                | 44/62 [18:28<09:28, 31.61s/it]"
     ]
    },
    {
     "name": "stderr",
     "output_type": "stream",
     "text": [
      "\r\n",
      "D14:  73%|█████████████████████████████████████████████████████████████████████████████████████████████████████████████████████████▉                                              | 45/62 [18:53<08:21, 29.50s/it]"
     ]
    },
    {
     "name": "stderr",
     "output_type": "stream",
     "text": [
      "\r\n",
      "E1:  73%|██████████████████████████████████████████████████████████████████████████████████████████████████████████████████████████▋                                              | 45/62 [18:53<08:21, 29.50s/it]"
     ]
    },
    {
     "name": "stderr",
     "output_type": "stream",
     "text": [
      "\r\n",
      "E1:  74%|█████████████████████████████████████████████████████████████████████████████████████████████████████████████████████████████▍                                           | 46/62 [19:31<08:33, 32.11s/it]"
     ]
    },
    {
     "name": "stderr",
     "output_type": "stream",
     "text": [
      "\r\n",
      "E2:  74%|█████████████████████████████████████████████████████████████████████████████████████████████████████████████████████████████▍                                           | 46/62 [19:31<08:33, 32.11s/it]"
     ]
    },
    {
     "name": "stderr",
     "output_type": "stream",
     "text": [
      "\r\n",
      "E2:  76%|████████████████████████████████████████████████████████████████████████████████████████████████████████████████████████████████                                         | 47/62 [20:08<08:22, 33.47s/it]"
     ]
    },
    {
     "name": "stderr",
     "output_type": "stream",
     "text": [
      "\r\n",
      "E3:  76%|████████████████████████████████████████████████████████████████████████████████████████████████████████████████████████████████                                         | 47/62 [20:08<08:22, 33.47s/it]"
     ]
    },
    {
     "name": "stderr",
     "output_type": "stream",
     "text": [
      "\r\n",
      "E3:  77%|██████████████████████████████████████████████████████████████████████████████████████████████████████████████████████████████████▊                                      | 48/62 [20:31<07:05, 30.41s/it]"
     ]
    },
    {
     "name": "stderr",
     "output_type": "stream",
     "text": [
      "\r\n",
      "E4:  77%|██████████████████████████████████████████████████████████████████████████████████████████████████████████████████████████████████▊                                      | 48/62 [20:31<07:05, 30.41s/it]"
     ]
    },
    {
     "name": "stderr",
     "output_type": "stream",
     "text": [
      "\r\n",
      "E4:  79%|█████████████████████████████████████████████████████████████████████████████████████████████████████████████████████████████████████▌                                   | 49/62 [21:01<06:35, 30.42s/it]"
     ]
    },
    {
     "name": "stderr",
     "output_type": "stream",
     "text": [
      "\r\n",
      "E5:  79%|█████████████████████████████████████████████████████████████████████████████████████████████████████████████████████████████████████▌                                   | 49/62 [21:01<06:35, 30.42s/it]"
     ]
    },
    {
     "name": "stderr",
     "output_type": "stream",
     "text": [
      "\r\n",
      "E5:  81%|████████████████████████████████████████████████████████████████████████████████████████████████████████████████████████████████████████▎                                | 50/62 [21:27<05:48, 29.08s/it]"
     ]
    },
    {
     "name": "stderr",
     "output_type": "stream",
     "text": [
      "\r\n",
      "F1:  81%|████████████████████████████████████████████████████████████████████████████████████████████████████████████████████████████████████████▎                                | 50/62 [21:27<05:48, 29.08s/it]"
     ]
    },
    {
     "name": "stderr",
     "output_type": "stream",
     "text": [
      "\r\n",
      "F1:  82%|███████████████████████████████████████████████████████████████████████████████████████████████████████████████████████████████████████████                              | 51/62 [21:58<05:25, 29.63s/it]"
     ]
    },
    {
     "name": "stderr",
     "output_type": "stream",
     "text": [
      "\r\n",
      "F2:  82%|███████████████████████████████████████████████████████████████████████████████████████████████████████████████████████████████████████████                              | 51/62 [21:58<05:25, 29.63s/it]"
     ]
    },
    {
     "name": "stderr",
     "output_type": "stream",
     "text": [
      "\r\n",
      "F2:  84%|█████████████████████████████████████████████████████████████████████████████████████████████████████████████████████████████████████████████▋                           | 52/62 [22:38<05:26, 32.68s/it]"
     ]
    },
    {
     "name": "stderr",
     "output_type": "stream",
     "text": [
      "\r\n",
      "F3:  84%|█████████████████████████████████████████████████████████████████████████████████████████████████████████████████████████████████████████████▋                           | 52/62 [22:38<05:26, 32.68s/it]"
     ]
    },
    {
     "name": "stderr",
     "output_type": "stream",
     "text": [
      "\r\n",
      "F3:  85%|████████████████████████████████████████████████████████████████████████████████████████████████████████████████████████████████████████████████▍                        | 53/62 [23:09<04:50, 32.26s/it]"
     ]
    },
    {
     "name": "stderr",
     "output_type": "stream",
     "text": [
      "\r\n",
      "F4:  85%|████████████████████████████████████████████████████████████████████████████████████████████████████████████████████████████████████████████████▍                        | 53/62 [23:09<04:50, 32.26s/it]"
     ]
    },
    {
     "name": "stderr",
     "output_type": "stream",
     "text": [
      "\r\n",
      "F4:  87%|███████████████████████████████████████████████████████████████████████████████████████████████████████████████████████████████████████████████████▏                     | 54/62 [23:49<04:35, 34.48s/it]"
     ]
    },
    {
     "name": "stderr",
     "output_type": "stream",
     "text": [
      "\r\n",
      "F5:  87%|███████████████████████████████████████████████████████████████████████████████████████████████████████████████████████████████████████████████████▏                     | 54/62 [23:49<04:35, 34.48s/it]"
     ]
    },
    {
     "name": "stderr",
     "output_type": "stream",
     "text": [
      "\r\n",
      "F5:  89%|█████████████████████████████████████████████████████████████████████████████████████████████████████████████████████████████████████████████████████▉                   | 55/62 [24:14<03:41, 31.64s/it]"
     ]
    },
    {
     "name": "stderr",
     "output_type": "stream",
     "text": [
      "\r\n",
      "F6:  89%|█████████████████████████████████████████████████████████████████████████████████████████████████████████████████████████████████████████████████████▉                   | 55/62 [24:14<03:41, 31.64s/it]"
     ]
    },
    {
     "name": "stderr",
     "output_type": "stream",
     "text": [
      "\r\n",
      "F6:  90%|████████████████████████████████████████████████████████████████████████████████████████████████████████████████████████████████████████████████████████▋                | 56/62 [24:47<03:12, 32.16s/it]"
     ]
    },
    {
     "name": "stderr",
     "output_type": "stream",
     "text": [
      "\r\n",
      "G1:  90%|████████████████████████████████████████████████████████████████████████████████████████████████████████████████████████████████████████████████████████▋                | 56/62 [24:47<03:12, 32.16s/it]"
     ]
    },
    {
     "name": "stderr",
     "output_type": "stream",
     "text": [
      "\r\n",
      "G1:  92%|███████████████████████████████████████████████████████████████████████████████████████████████████████████████████████████████████████████████████████████▎             | 57/62 [25:12<02:29, 29.86s/it]"
     ]
    },
    {
     "name": "stderr",
     "output_type": "stream",
     "text": [
      "\r\n",
      "G2:  92%|███████████████████████████████████████████████████████████████████████████████████████████████████████████████████████████████████████████████████████████▎             | 57/62 [25:12<02:29, 29.86s/it]"
     ]
    },
    {
     "name": "stderr",
     "output_type": "stream",
     "text": [
      "\r\n",
      "G2:  94%|██████████████████████████████████████████████████████████████████████████████████████████████████████████████████████████████████████████████████████████████           | 58/62 [25:37<01:54, 28.58s/it]"
     ]
    },
    {
     "name": "stderr",
     "output_type": "stream",
     "text": [
      "\r\n",
      "G3:  94%|██████████████████████████████████████████████████████████████████████████████████████████████████████████████████████████████████████████████████████████████           | 58/62 [25:37<01:54, 28.58s/it]"
     ]
    },
    {
     "name": "stderr",
     "output_type": "stream",
     "text": [
      "\r\n",
      "G3:  95%|████████████████████████████████████████████████████████████████████████████████████████████████████████████████████████████████████████████████████████████████▊        | 59/62 [25:59<01:19, 26.57s/it]"
     ]
    },
    {
     "name": "stderr",
     "output_type": "stream",
     "text": [
      "\r\n",
      "G4:  95%|████████████████████████████████████████████████████████████████████████████████████████████████████████████████████████████████████████████████████████████████▊        | 59/62 [25:59<01:19, 26.57s/it]"
     ]
    },
    {
     "name": "stderr",
     "output_type": "stream",
     "text": [
      "\r\n",
      "G4:  97%|███████████████████████████████████████████████████████████████████████████████████████████████████████████████████████████████████████████████████████████████████▌     | 60/62 [26:47<01:06, 33.08s/it]"
     ]
    },
    {
     "name": "stderr",
     "output_type": "stream",
     "text": [
      "\r\n",
      "G5:  97%|███████████████████████████████████████████████████████████████████████████████████████████████████████████████████████████████████████████████████████████████████▌     | 60/62 [26:47<01:06, 33.08s/it]"
     ]
    },
    {
     "name": "stderr",
     "output_type": "stream",
     "text": [
      "\r\n",
      "G5:  98%|██████████████████████████████████████████████████████████████████████████████████████████████████████████████████████████████████████████████████████████████████████▎  | 61/62 [27:20<00:32, 32.83s/it]"
     ]
    },
    {
     "name": "stderr",
     "output_type": "stream",
     "text": [
      "\r\n",
      "G6:  98%|██████████████████████████████████████████████████████████████████████████████████████████████████████████████████████████████████████████████████████████████████████▎  | 61/62 [27:20<00:32, 32.83s/it]"
     ]
    },
    {
     "name": "stderr",
     "output_type": "stream",
     "text": [
      "\r\n",
      "G6: 100%|█████████████████████████████████████████████████████████████████████████████████████████████████████████████████████████████████████████████████████████████████████████| 62/62 [27:51<00:00, 32.46s/it]"
     ]
    },
    {
     "name": "stderr",
     "output_type": "stream",
     "text": [
      "\r\n",
      "G6: 100%|█████████████████████████████████████████████████████████████████████████████████████████████████████████████████████████████████████████████████████████████████████████| 62/62 [27:51<00:00, 26.96s/it]"
     ]
    },
    {
     "name": "stderr",
     "output_type": "stream",
     "text": [
      "\n"
     ]
    }
   ],
   "source": [
    "# Load modules\n",
    "with celltrip.utility.general.open_s3_or_local('../data/dyngen/dyngen_tfs.json', 'rb') as f:\n",
    "    tf_modules = json.load(f)\n",
    "    tf_modules.pop('NaN')\n",
    "\n",
    "# Params\n",
    "np.random.seed(42)\n",
    "sim_time = 128.\n",
    "\n",
    "# Mute warnings (array wrap and indexing)\n",
    "import warnings\n",
    "warnings.simplefilter('ignore')\n",
    "\n",
    "# Create anndata\n",
    "ad_pert = ad.AnnData(obs=adatas[0].obs, var=pd.DataFrame(index=[f'Feature {i}' for i in range(env.dim)]))\n",
    "# ad_pert0 = ad.AnnData(obs=adatas[0].obs, var=adatas[0].var)\n",
    "# ad_pert1 = ad.AnnData(obs=adatas[1].obs, var=adatas[1].var)\n",
    "def add_layers(states, gene):\n",
    "    ad_pert.layers[gene] = states\n",
    "    # ad_pert0.layers[gene] = states_0\n",
    "    # ad_pert1.layers[gene] = states_1\n",
    "\n",
    "# Add results\n",
    "results = []\n",
    "def add_record(states, states_0, states_1, gene, ct):\n",
    "    results.append({\n",
    "        'Gene': gene, 'Cell Type': ct,\n",
    "        'Effect Size (Latent)': np.square(states[-1] - states[0]).mean(),\n",
    "        'Trajectory Length (Latent)': np.square(states[1:] - states[:-1]).mean(axis=(-2, -1)).sum(),\n",
    "        'Effect Size (Modality 0)': np.square(states_0[-1] - states_0[0]).mean(),\n",
    "        'Trajectory Length (Modality 0)': np.square(states_0[1:] - states_0[:-1]).mean(axis=(-2, -1)).sum(),\n",
    "        'Effect Size (Modality 1)': np.square(states_1[-1] - states_1[0]).mean(),\n",
    "        'Trajectory Length (Modality 1)': np.square(states_1[1:] - states_1[:-1]).mean(axis=(-2, -1)).sum()})\n",
    "    \n",
    "# Reset function\n",
    "def reset_env(env, steady_pos, steady_vel, modal_dict={}):\n",
    "    env.set_max_time(sim_time).reset()  # TODO: Maybe longer?, early stopping?\n",
    "    env.set_positions(steady_pos)\n",
    "    env.set_velocities(steady_vel)  # Maybe 0 manually?\n",
    "    for k, v in modal_dict.items():\n",
    "        env.modalities[k] = v\n",
    "\n",
    "# Running function\n",
    "def run_and_record(samples, env, policy, preprocessing, gene, gene_idx):\n",
    "    # Run and impute\n",
    "    states = celltrip.train.simulate_until_completion(\n",
    "        env, policy,\n",
    "        env_hooks=[\n",
    "            celltrip.utility.hooks.clamp_inverted_features_hook(\n",
    "                gene_idx, preprocessing, feature_targets=0., modality_idx=0),\n",
    "        ],\n",
    "        action_hooks=[\n",
    "            celltrip.utility.hooks.move_toward_targets_hook(\n",
    "                gene_idx, feature_targets=0., pinning=policy.pinning[0],\n",
    "                preprocessing=preprocessing, modality_idx=0,\n",
    "                factor=1, device=env.device),\n",
    "        ],\n",
    "        skip_states=100, store_states='cpu')[-1]\n",
    "    states_pos = states[..., :env.dim]\n",
    "    with torch.no_grad():\n",
    "        imputed_states_0 = policy.pinning[0](states_pos.to('cuda')).detach().cpu().numpy()\n",
    "        imputed_states_1 = policy.pinning[1](states_pos.to('cuda')).detach().cpu().numpy()\n",
    "    imputed_states_0, = preprocessing.inverse_transform(imputed_states_0, subset_modality=0)\n",
    "    imputed_states_1, = preprocessing.inverse_transform(imputed_states_1, subset_modality=1)\n",
    "    # Record\n",
    "    add_layers(states_pos.numpy()[-1], gene)  # , imputed_states_0[-1], imputed_states_1[-1]\n",
    "    add_record(states_pos.numpy(), imputed_states_0, imputed_states_1, gene, 'All')\n",
    "    for ct in adatas[0][samples].obs['traj_sim'].unique():\n",
    "        add_record(\n",
    "            states_pos[:, adatas[0][samples].obs['traj_sim']==ct].numpy(),\n",
    "            imputed_states_0[:, adatas[0][samples].obs['traj_sim']==ct],\n",
    "            imputed_states_1[:, adatas[0][samples].obs['traj_sim']==ct],\n",
    "            gene, ct)\n",
    "\n",
    "# Subset and preprocess the data\n",
    "samples = adatas[0].obs.index\n",
    "raw_m1 = celltrip.utility.processing.chunk_X(adatas[0][samples], chunk_size=2_000)\n",
    "m1, m2 = [\n",
    "    celltrip.utility.processing.chunk_X(\n",
    "        ad[samples], chunk_size=2_000,\n",
    "        func=lambda x: preprocessing.transform(x, subset_modality=i)[0])\n",
    "        for i, ad in enumerate(adatas)]\n",
    "\n",
    "# Initialize environment\n",
    "env = celltrip.environment.EnvironmentBase(\n",
    "    torch.tensor(m1), torch.tensor(m2), compute_rewards=False, dim=8).eval(time_scale=1).to('cuda')\n",
    "\n",
    "# Simulate to steady state\n",
    "env.reset()\n",
    "celltrip.train.simulate_until_completion(env, policy)\n",
    "steady_pos, steady_vel = (env.pos, env.vel)\n",
    "\n",
    "# Run control\n",
    "reset_env(env, steady_pos, steady_vel)\n",
    "add_layers(steady_pos.cpu().numpy(), 'Steady')\n",
    "run_and_record(samples, env, policy, preprocessing, 'Control', [])\n",
    "\n",
    "# Perturb\n",
    "for module, genes in (pbar := tqdm.tqdm(tf_modules.items())):\n",
    "    # Get gene idx and run\n",
    "    pbar.set_description(module)\n",
    "    gene_idx = np.argwhere(np.isin(adatas[0].var_names, genes)).flatten()\n",
    "    reset_env(env, steady_pos, steady_vel)  # {0: torch.tensor(m1).cuda()}\n",
    "    run_and_record(samples, env, policy, preprocessing, module, gene_idx)\n",
    "\n",
    "# Convert and save\n",
    "pd.DataFrame(results).to_csv('../plots/dyngen/knockdown_full.csv', index=None)\n",
    "ad_pert.write_h5ad('../plots/dyngen/knockdown_full_results.h5ad')\n"
   ]
  },
  {
   "cell_type": "code",
   "execution_count": null,
   "id": "d109e867",
   "metadata": {},
   "outputs": [],
   "source": [
    "# ad_pert = ad.read_h5ad('../plots/dyngen/knockdown_full_results.h5ad')\n",
    "# control_gex, = preprocessing.inverse_transform(policy.pinning[0](torch.tensor(ad_pert.layers['Control']).cuda()).detach().cpu().numpy(), subset_modality=0)\n",
    "# pert_gex, = preprocessing.inverse_transform(policy.pinning[0](torch.tensor(ad_pert.layers['D2']).cuda()).detach().cpu().numpy(), subset_modality=0)\n",
    "# prioritized_genes = adatas[0].var.index[np.abs(pert_gex - control_gex).mean(axis=0).argsort()[::-1]].to_numpy()"
   ]
  }
 ],
 "metadata": {
  "kernelspec": {
   "display_name": "ct",
   "language": "python",
   "name": "python3"
  },
  "language_info": {
   "codemirror_mode": {
    "name": "ipython",
    "version": 3
   },
   "file_extension": ".py",
   "mimetype": "text/x-python",
   "name": "python",
   "nbconvert_exporter": "python",
   "pygments_lexer": "ipython3",
   "version": "3.10.16"
  }
 },
 "nbformat": 4,
 "nbformat_minor": 5
}
