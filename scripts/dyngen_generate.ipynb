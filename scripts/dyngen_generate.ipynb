{
 "cells": [
  {
   "cell_type": "code",
   "execution_count": 1,
   "id": "1bc6db96",
   "metadata": {
    "execution": {
     "iopub.execute_input": "2025-10-15T22:26:21.778369Z",
     "iopub.status.busy": "2025-10-15T22:26:21.777896Z",
     "iopub.status.idle": "2025-10-15T22:26:21.791543Z",
     "shell.execute_reply": "2025-10-15T22:26:21.791021Z"
    }
   },
   "outputs": [],
   "source": [
    "%load_ext autoreload\n",
    "%autoreload 2\n"
   ]
  },
  {
   "cell_type": "code",
   "execution_count": 2,
   "id": "b2754518",
   "metadata": {
    "execution": {
     "iopub.execute_input": "2025-10-15T22:26:21.793480Z",
     "iopub.status.busy": "2025-10-15T22:26:21.793279Z",
     "iopub.status.idle": "2025-10-15T22:26:47.383916Z",
     "shell.execute_reply": "2025-10-15T22:26:47.383355Z"
    }
   },
   "outputs": [],
   "source": [
    "import json\n",
    "import os\n",
    "\n",
    "import anndata as ad\n",
    "import numpy as np\n",
    "import pandas as pd\n",
    "import sklearn\n",
    "import torch\n",
    "import tqdm\n",
    "\n",
    "import celltrip\n",
    "\n",
    "os.environ['AWS_PROFILE'] = 'waisman-admin'\n"
   ]
  },
  {
   "cell_type": "markdown",
   "id": "5a1aac9c",
   "metadata": {},
   "source": [
    "# Load Data and Policy"
   ]
  },
  {
   "cell_type": "code",
   "execution_count": 3,
   "id": "6367c9c1",
   "metadata": {
    "execution": {
     "iopub.execute_input": "2025-10-15T22:26:47.385955Z",
     "iopub.status.busy": "2025-10-15T22:26:47.385710Z",
     "iopub.status.idle": "2025-10-15T22:27:23.423224Z",
     "shell.execute_reply": "2025-10-15T22:27:23.422667Z"
    }
   },
   "outputs": [],
   "source": [
    "# Read data files\n",
    "# adata_prefix = 's3://nkalafut-celltrip/Dyngen'\n",
    "adata_prefix = '../data/Dyngen'\n",
    "adatas = celltrip.utility.processing.read_adatas(\n",
    "    's3://nkalafut-celltrip/dyngen/logcounts.h5ad',\n",
    "    's3://nkalafut-celltrip/dyngen/counts_protein.h5ad',\n",
    "    backed=True)\n",
    "# Model location and name (should be prefix for .weights, .pre, and .mask file)\n",
    "# prefix, training_step = 's3://nkalafut-celltrip/checkpoints/Dyngen-250920', 800  # 8 dim\n",
    "prefix, training_step = 's3://nkalafut-celltrip/checkpoints/Dyngen-251015', 800  # 32 dim\n",
    "# Generate or load preprocessing\n",
    "preprocessing = celltrip.utility.processing.Preprocessing().load(f'{prefix}.pre')\n",
    "with celltrip.utility.general.open_s3_or_local(f'{prefix}.mask', 'rb') as f:\n",
    "    mask = np.loadtxt(f).astype(bool)\n",
    "adatas[0].obs['Training'] = mask\n",
    "# Create sample env (kind of a dumb workaround, TODO)\n",
    "m1, m2 = [preprocessing.transform(ad[:2].X, subset_modality=i)[0] for i, ad in enumerate(adatas)]\n",
    "env = celltrip.environment.EnvironmentBase(\n",
    "    torch.tensor(m1), torch.tensor(m2), compute_rewards=False, dim=32).eval().to('cuda')\n",
    "# Load policy\n",
    "policy = celltrip.policy.create_agent_from_env(\n",
    "    env, forward_batch_size=1_000, vision_size=1_000).eval().to('cuda')\n",
    "policy.load_checkpoint(f'{prefix}-{training_step:04}.weights');\n"
   ]
  },
  {
   "cell_type": "markdown",
   "id": "f37705ce",
   "metadata": {},
   "source": [
    "# Perform Significance Estimation"
   ]
  },
  {
   "cell_type": "code",
   "execution_count": 4,
   "id": "fca63f76",
   "metadata": {
    "execution": {
     "iopub.execute_input": "2025-10-15T22:27:23.425867Z",
     "iopub.status.busy": "2025-10-15T22:27:23.425477Z",
     "iopub.status.idle": "2025-10-15T22:27:23.454638Z",
     "shell.execute_reply": "2025-10-15T22:27:23.454135Z"
    }
   },
   "outputs": [],
   "source": [
    "# # Params\n",
    "# np.random.seed(42)\n",
    "# genes_to_survey = adatas[0].var_names\n",
    "# sim_time = 1.\n",
    "\n",
    "# # Mute warnings (array wrap and indexing)\n",
    "# import warnings\n",
    "# warnings.simplefilter('ignore')\n",
    "\n",
    "# # Create anndata\n",
    "# ad_pert = ad.AnnData(obs=adatas[0].obs, var=pd.DataFrame(index=[f'Feature {i}' for i in range(env.dim)]))\n",
    "# # ad_pert0 = ad.AnnData(obs=adatas[0].obs, var=adatas[0].var)\n",
    "# # ad_pert1 = ad.AnnData(obs=adatas[1].obs, var=adatas[1].var)\n",
    "# def add_layers(states, gene):\n",
    "#     ad_pert.layers[gene] = states\n",
    "#     # ad_pert0.layers[gene] = states_0\n",
    "#     # ad_pert1.layers[gene] = states_1\n",
    "\n",
    "# # Add results\n",
    "# results = []\n",
    "# def add_record(states, states_0, states_1, gene, ct):\n",
    "#     results.append({\n",
    "#         'Gene': gene, 'Cell Type': ct,\n",
    "#         'Effect Size (Latent)': np.square(states[-1] - states[0]).mean(),\n",
    "#         'Trajectory Length (Latent)': np.square(states[1:] - states[:-1]).mean(axis=(-2, -1)).sum(),\n",
    "#         'Effect Size (Modality 0)': np.square(states_0[-1] - states_0[0]).mean(),\n",
    "#         'Trajectory Length (Modality 0)': np.square(states_0[1:] - states_0[:-1]).mean(axis=(-2, -1)).sum(),\n",
    "#         'Effect Size (Modality 1)': np.square(states_1[-1] - states_1[0]).mean(),\n",
    "#         'Trajectory Length (Modality 1)': np.square(states_1[1:] - states_1[:-1]).mean(axis=(-2, -1)).sum()})\n",
    "    \n",
    "# # Reset function\n",
    "# def reset_env(env, steady_pos, steady_vel, modal_dict={}):\n",
    "#     env.set_max_time(sim_time).reset()  # TODO: Maybe longer?, early stopping?\n",
    "#     env.set_positions(steady_pos)\n",
    "#     env.set_velocities(steady_vel)  # Maybe 0 manually?\n",
    "#     for k, v in modal_dict.items():\n",
    "#         env.modalities[k] = v\n",
    "\n",
    "# # Running function\n",
    "# def run_and_record(samples, env, policy, preprocessing, gene, gene_idx):\n",
    "#     # Run and impute\n",
    "#     states = celltrip.train.simulate_until_completion(\n",
    "#         env, policy,\n",
    "#         env_hooks=[\n",
    "#             celltrip.utility.hooks.clamp_inverted_features_hook(\n",
    "#                 gene_idx, preprocessing, feature_targets=0., modality_idx=0),\n",
    "#         ],\n",
    "#         action_hooks=[\n",
    "#             celltrip.utility.hooks.move_toward_targets_hook(\n",
    "#                 gene_idx, feature_targets=0., pinning=policy.pinning[0],\n",
    "#                 preprocessing=preprocessing, modality_idx=0,\n",
    "#                 factor=1, device=env.device),\n",
    "#         ],\n",
    "#         store_states='cpu')[-1]\n",
    "#     states_pos = states[..., :env.dim]\n",
    "#     with torch.no_grad():\n",
    "#         imputed_states_0 = policy.pinning[0](states_pos.to('cuda')).detach().cpu().numpy()\n",
    "#         imputed_states_1 = policy.pinning[1](states_pos.to('cuda')).detach().cpu().numpy()\n",
    "#     imputed_states_0, = preprocessing.inverse_transform(imputed_states_0, subset_modality=0)\n",
    "#     imputed_states_1, = preprocessing.inverse_transform(imputed_states_1, subset_modality=1)\n",
    "#     # Record\n",
    "#     add_layers(states_pos.numpy()[-1], gene)  # , imputed_states_0[-1], imputed_states_1[-1]\n",
    "#     add_record(states_pos.numpy(), imputed_states_0, imputed_states_1, gene, 'All')\n",
    "#     for ct in adatas[0][samples].obs['traj_sim'].unique():\n",
    "#         add_record(\n",
    "#             states_pos[:, adatas[0][samples].obs['traj_sim']==ct].numpy(),\n",
    "#             imputed_states_0[:, adatas[0][samples].obs['traj_sim']==ct],\n",
    "#             imputed_states_1[:, adatas[0][samples].obs['traj_sim']==ct],\n",
    "#             gene, ct)\n",
    "\n",
    "# # Subset and preprocess the data\n",
    "# samples = adatas[0].obs.index\n",
    "# raw_m1 = celltrip.utility.processing.chunk_X(adatas[0][samples], chunk_size=2_000)\n",
    "# m1, m2 = [\n",
    "#     celltrip.utility.processing.chunk_X(\n",
    "#         ad[samples], chunk_size=2_000,\n",
    "#         func=lambda x: preprocessing.transform(x, subset_modality=i)[0])\n",
    "#         for i, ad in enumerate(adatas)]\n",
    "\n",
    "# # Initialize environment\n",
    "# env = celltrip.environment.EnvironmentBase(\n",
    "#     torch.tensor(m1), torch.tensor(m2), compute_rewards=False, dim=env.dim).eval(time_scale=1).to('cuda')\n",
    "\n",
    "# # Simulate to steady state\n",
    "# env.reset()\n",
    "# celltrip.train.simulate_until_completion(env, policy)\n",
    "# steady_pos, steady_vel = (env.pos, env.vel)\n",
    "\n",
    "# # Run control\n",
    "# reset_env(env, steady_pos, steady_vel)\n",
    "# add_layers(steady_pos.cpu().numpy(), 'Steady')\n",
    "# run_and_record(samples, env, policy, preprocessing, 'Control', [])\n",
    "\n",
    "# # Perturb\n",
    "# for gene in tqdm.tqdm(genes_to_survey, miniters=10, maxinterval=30):\n",
    "#     # Get gene idx and run\n",
    "#     gene_idx = np.argwhere(adatas[0].var_names==gene).flatten()\n",
    "#     reset_env(env, steady_pos, steady_vel)  # {0: torch.tensor(m1).cuda()}\n",
    "#     run_and_record(samples, env, policy, preprocessing, gene, gene_idx)\n",
    "\n",
    "# # Convert and save\n",
    "# pd.DataFrame(results).to_csv('../plots/dyngen/knockdown.csv', index=None)\n",
    "# ad_pert.write_h5ad('../plots/dyngen/knockdown_results.h5ad')\n",
    "# # ad_pert0.write_h5ad('../plots/dyngen/knockdown_results_modality_0.csv')\n",
    "# # ad_pert1.write_h5ad('../plots/dyngen/knockdown_results_modality_1.csv')\n"
   ]
  },
  {
   "cell_type": "markdown",
   "id": "4be87cd6",
   "metadata": {},
   "source": [
    "# Perform Module Knockdown"
   ]
  },
  {
   "cell_type": "code",
   "execution_count": 5,
   "id": "91dd0a3c",
   "metadata": {
    "execution": {
     "iopub.execute_input": "2025-10-15T22:27:23.456857Z",
     "iopub.status.busy": "2025-10-15T22:27:23.456625Z",
     "iopub.status.idle": "2025-10-15T22:53:35.524866Z",
     "shell.execute_reply": "2025-10-15T22:53:35.524370Z"
    }
   },
   "outputs": [
    {
     "name": "stderr",
     "output_type": "stream",
     "text": [
      "\r",
      "  0%|                                                                                                                                                                                      | 0/62 [00:00<?, ?it/s]"
     ]
    },
    {
     "name": "stderr",
     "output_type": "stream",
     "text": [
      "\r",
      "Burn1:   0%|                                                                                                                                                                               | 0/62 [00:00<?, ?it/s]"
     ]
    },
    {
     "name": "stderr",
     "output_type": "stream",
     "text": [
      "\r",
      "Burn1:   2%|██▋                                                                                                                                                                    | 1/62 [00:36<36:39, 36.05s/it]"
     ]
    },
    {
     "name": "stderr",
     "output_type": "stream",
     "text": [
      "\r",
      "Burn2:   2%|██▋                                                                                                                                                                    | 1/62 [00:36<36:39, 36.05s/it]"
     ]
    },
    {
     "name": "stderr",
     "output_type": "stream",
     "text": [
      "\r",
      "Burn2:   3%|█████▍                                                                                                                                                                 | 2/62 [01:01<29:44, 29.75s/it]"
     ]
    },
    {
     "name": "stderr",
     "output_type": "stream",
     "text": [
      "\r",
      "Burn3:   3%|█████▍                                                                                                                                                                 | 2/62 [01:01<29:44, 29.75s/it]"
     ]
    },
    {
     "name": "stderr",
     "output_type": "stream",
     "text": [
      "\r",
      "Burn3:   5%|████████                                                                                                                                                               | 3/62 [01:57<41:16, 41.97s/it]"
     ]
    },
    {
     "name": "stderr",
     "output_type": "stream",
     "text": [
      "\r",
      "Burn4:   5%|████████                                                                                                                                                               | 3/62 [01:57<41:16, 41.97s/it]"
     ]
    },
    {
     "name": "stderr",
     "output_type": "stream",
     "text": [
      "\r",
      "Burn4:   6%|██████████▊                                                                                                                                                            | 4/62 [02:23<34:22, 35.55s/it]"
     ]
    },
    {
     "name": "stderr",
     "output_type": "stream",
     "text": [
      "\r",
      "Burn5:   6%|██████████▊                                                                                                                                                            | 4/62 [02:23<34:22, 35.55s/it]"
     ]
    },
    {
     "name": "stderr",
     "output_type": "stream",
     "text": [
      "\r",
      "Burn5:   8%|█████████████▍                                                                                                                                                         | 5/62 [02:48<30:15, 31.85s/it]"
     ]
    },
    {
     "name": "stderr",
     "output_type": "stream",
     "text": [
      "\r",
      "Burn6:   8%|█████████████▍                                                                                                                                                         | 5/62 [02:48<30:15, 31.85s/it]"
     ]
    },
    {
     "name": "stderr",
     "output_type": "stream",
     "text": [
      "\r",
      "Burn6:  10%|████████████████▏                                                                                                                                                      | 6/62 [03:45<37:26, 40.11s/it]"
     ]
    },
    {
     "name": "stderr",
     "output_type": "stream",
     "text": [
      "\r",
      "A1:  10%|████████████████▍                                                                                                                                                         | 6/62 [03:45<37:26, 40.11s/it]"
     ]
    },
    {
     "name": "stderr",
     "output_type": "stream",
     "text": [
      "\r",
      "A1:  11%|███████████████████▏                                                                                                                                                      | 7/62 [04:07<31:24, 34.27s/it]"
     ]
    },
    {
     "name": "stderr",
     "output_type": "stream",
     "text": [
      "\r",
      "A2:  11%|███████████████████▏                                                                                                                                                      | 7/62 [04:07<31:24, 34.27s/it]"
     ]
    },
    {
     "name": "stderr",
     "output_type": "stream",
     "text": [
      "\r",
      "A2:  13%|█████████████████████▉                                                                                                                                                    | 8/62 [04:29<27:21, 30.40s/it]"
     ]
    },
    {
     "name": "stderr",
     "output_type": "stream",
     "text": [
      "\r",
      "A3:  13%|█████████████████████▉                                                                                                                                                    | 8/62 [04:29<27:21, 30.40s/it]"
     ]
    },
    {
     "name": "stderr",
     "output_type": "stream",
     "text": [
      "\r",
      "A3:  15%|████████████████████████▋                                                                                                                                                 | 9/62 [04:57<26:07, 29.58s/it]"
     ]
    },
    {
     "name": "stderr",
     "output_type": "stream",
     "text": [
      "\r",
      "A4:  15%|████████████████████████▋                                                                                                                                                 | 9/62 [04:57<26:07, 29.58s/it]"
     ]
    },
    {
     "name": "stderr",
     "output_type": "stream",
     "text": [
      "\r",
      "A4:  16%|███████████████████████████▎                                                                                                                                             | 10/62 [05:23<24:45, 28.56s/it]"
     ]
    },
    {
     "name": "stderr",
     "output_type": "stream",
     "text": [
      "\r",
      "A5:  16%|███████████████████████████▎                                                                                                                                             | 10/62 [05:23<24:45, 28.56s/it]"
     ]
    },
    {
     "name": "stderr",
     "output_type": "stream",
     "text": [
      "\r",
      "A5:  18%|█████████████████████████████▉                                                                                                                                           | 11/62 [05:48<23:23, 27.53s/it]"
     ]
    },
    {
     "name": "stderr",
     "output_type": "stream",
     "text": [
      "\r",
      "A6:  18%|█████████████████████████████▉                                                                                                                                           | 11/62 [05:48<23:23, 27.53s/it]"
     ]
    },
    {
     "name": "stderr",
     "output_type": "stream",
     "text": [
      "\r",
      "A6:  19%|████████████████████████████████▋                                                                                                                                        | 12/62 [06:13<22:20, 26.81s/it]"
     ]
    },
    {
     "name": "stderr",
     "output_type": "stream",
     "text": [
      "\r",
      "B1:  19%|████████████████████████████████▋                                                                                                                                        | 12/62 [06:13<22:20, 26.81s/it]"
     ]
    },
    {
     "name": "stderr",
     "output_type": "stream",
     "text": [
      "\r",
      "B1:  21%|███████████████████████████████████▍                                                                                                                                     | 13/62 [06:38<21:20, 26.14s/it]"
     ]
    },
    {
     "name": "stderr",
     "output_type": "stream",
     "text": [
      "\r",
      "B2:  21%|███████████████████████████████████▍                                                                                                                                     | 13/62 [06:38<21:20, 26.14s/it]"
     ]
    },
    {
     "name": "stderr",
     "output_type": "stream",
     "text": [
      "\r",
      "B2:  23%|██████████████████████████████████████▏                                                                                                                                  | 14/62 [07:03<20:40, 25.84s/it]"
     ]
    },
    {
     "name": "stderr",
     "output_type": "stream",
     "text": [
      "\r",
      "B3:  23%|██████████████████████████████████████▏                                                                                                                                  | 14/62 [07:03<20:40, 25.84s/it]"
     ]
    },
    {
     "name": "stderr",
     "output_type": "stream",
     "text": [
      "\r",
      "B3:  24%|████████████████████████████████████████▉                                                                                                                                | 15/62 [07:25<19:15, 24.59s/it]"
     ]
    },
    {
     "name": "stderr",
     "output_type": "stream",
     "text": [
      "\r",
      "B4:  24%|████████████████████████████████████████▉                                                                                                                                | 15/62 [07:25<19:15, 24.59s/it]"
     ]
    },
    {
     "name": "stderr",
     "output_type": "stream",
     "text": [
      "\r",
      "B4:  26%|███████████████████████████████████████████▌                                                                                                                             | 16/62 [07:47<18:18, 23.89s/it]"
     ]
    },
    {
     "name": "stderr",
     "output_type": "stream",
     "text": [
      "\r",
      "B5:  26%|███████████████████████████████████████████▌                                                                                                                             | 16/62 [07:47<18:18, 23.89s/it]"
     ]
    },
    {
     "name": "stderr",
     "output_type": "stream",
     "text": [
      "\r",
      "B5:  27%|██████████████████████████████████████████████▎                                                                                                                          | 17/62 [08:11<17:50, 23.79s/it]"
     ]
    },
    {
     "name": "stderr",
     "output_type": "stream",
     "text": [
      "\r",
      "C1:  27%|██████████████████████████████████████████████▎                                                                                                                          | 17/62 [08:11<17:50, 23.79s/it]"
     ]
    },
    {
     "name": "stderr",
     "output_type": "stream",
     "text": [
      "\r",
      "C1:  29%|█████████████████████████████████████████████████                                                                                                                        | 18/62 [08:37<18:00, 24.56s/it]"
     ]
    },
    {
     "name": "stderr",
     "output_type": "stream",
     "text": [
      "\r",
      "C2:  29%|█████████████████████████████████████████████████                                                                                                                        | 18/62 [08:37<18:00, 24.56s/it]"
     ]
    },
    {
     "name": "stderr",
     "output_type": "stream",
     "text": [
      "\r",
      "C2:  31%|███████████████████████████████████████████████████▊                                                                                                                     | 19/62 [08:58<16:48, 23.45s/it]"
     ]
    },
    {
     "name": "stderr",
     "output_type": "stream",
     "text": [
      "\r",
      "C3:  31%|███████████████████████████████████████████████████▊                                                                                                                     | 19/62 [08:58<16:48, 23.45s/it]"
     ]
    },
    {
     "name": "stderr",
     "output_type": "stream",
     "text": [
      "\r",
      "C3:  32%|██████████████████████████████████████████████████████▌                                                                                                                  | 20/62 [09:20<16:04, 22.95s/it]"
     ]
    },
    {
     "name": "stderr",
     "output_type": "stream",
     "text": [
      "\r",
      "C4:  32%|██████████████████████████████████████████████████████▌                                                                                                                  | 20/62 [09:20<16:04, 22.95s/it]"
     ]
    },
    {
     "name": "stderr",
     "output_type": "stream",
     "text": [
      "\r",
      "C4:  34%|█████████████████████████████████████████████████████████▏                                                                                                               | 21/62 [09:42<15:35, 22.82s/it]"
     ]
    },
    {
     "name": "stderr",
     "output_type": "stream",
     "text": [
      "\r",
      "C5:  34%|█████████████████████████████████████████████████████████▏                                                                                                               | 21/62 [09:42<15:35, 22.82s/it]"
     ]
    },
    {
     "name": "stderr",
     "output_type": "stream",
     "text": [
      "\r",
      "C5:  35%|███████████████████████████████████████████████████████████▉                                                                                                             | 22/62 [10:07<15:43, 23.58s/it]"
     ]
    },
    {
     "name": "stderr",
     "output_type": "stream",
     "text": [
      "\r",
      "C6:  35%|███████████████████████████████████████████████████████████▉                                                                                                             | 22/62 [10:07<15:43, 23.58s/it]"
     ]
    },
    {
     "name": "stderr",
     "output_type": "stream",
     "text": [
      "\r",
      "C6:  37%|██████████████████████████████████████████████████████████████▋                                                                                                          | 23/62 [10:29<14:58, 23.04s/it]"
     ]
    },
    {
     "name": "stderr",
     "output_type": "stream",
     "text": [
      "\r",
      "C7:  37%|██████████████████████████████████████████████████████████████▋                                                                                                          | 23/62 [10:29<14:58, 23.04s/it]"
     ]
    },
    {
     "name": "stderr",
     "output_type": "stream",
     "text": [
      "\r",
      "C7:  39%|█████████████████████████████████████████████████████████████████▍                                                                                                       | 24/62 [10:53<14:49, 23.40s/it]"
     ]
    },
    {
     "name": "stderr",
     "output_type": "stream",
     "text": [
      "\r",
      "C8:  39%|█████████████████████████████████████████████████████████████████▍                                                                                                       | 24/62 [10:53<14:49, 23.40s/it]"
     ]
    },
    {
     "name": "stderr",
     "output_type": "stream",
     "text": [
      "\r",
      "C8:  40%|████████████████████████████████████████████████████████████████████▏                                                                                                    | 25/62 [11:18<14:39, 23.78s/it]"
     ]
    },
    {
     "name": "stderr",
     "output_type": "stream",
     "text": [
      "\r",
      "C9:  40%|████████████████████████████████████████████████████████████████████▏                                                                                                    | 25/62 [11:18<14:39, 23.78s/it]"
     ]
    },
    {
     "name": "stderr",
     "output_type": "stream",
     "text": [
      "\r",
      "C9:  42%|██████████████████████████████████████████████████████████████████████▊                                                                                                  | 26/62 [11:41<14:01, 23.37s/it]"
     ]
    },
    {
     "name": "stderr",
     "output_type": "stream",
     "text": [
      "\r",
      "C10:  42%|██████████████████████████████████████████████████████████████████████▍                                                                                                 | 26/62 [11:41<14:01, 23.37s/it]"
     ]
    },
    {
     "name": "stderr",
     "output_type": "stream",
     "text": [
      "\r",
      "C10:  44%|█████████████████████████████████████████████████████████████████████████▏                                                                                              | 27/62 [12:05<13:53, 23.81s/it]"
     ]
    },
    {
     "name": "stderr",
     "output_type": "stream",
     "text": [
      "\r",
      "C11:  44%|█████████████████████████████████████████████████████████████████████████▏                                                                                              | 27/62 [12:05<13:53, 23.81s/it]"
     ]
    },
    {
     "name": "stderr",
     "output_type": "stream",
     "text": [
      "\r",
      "C11:  45%|███████████████████████████████████████████████████████████████████████████▊                                                                                            | 28/62 [12:27<13:09, 23.22s/it]"
     ]
    },
    {
     "name": "stderr",
     "output_type": "stream",
     "text": [
      "\r",
      "C12:  45%|███████████████████████████████████████████████████████████████████████████▊                                                                                            | 28/62 [12:27<13:09, 23.22s/it]"
     ]
    },
    {
     "name": "stderr",
     "output_type": "stream",
     "text": [
      "\r",
      "C12:  47%|██████████████████████████████████████████████████████████████████████████████▌                                                                                         | 29/62 [12:49<12:27, 22.66s/it]"
     ]
    },
    {
     "name": "stderr",
     "output_type": "stream",
     "text": [
      "\r",
      "C13:  47%|██████████████████████████████████████████████████████████████████████████████▌                                                                                         | 29/62 [12:49<12:27, 22.66s/it]"
     ]
    },
    {
     "name": "stderr",
     "output_type": "stream",
     "text": [
      "\r",
      "C13:  48%|█████████████████████████████████████████████████████████████████████████████████▎                                                                                      | 30/62 [13:12<12:12, 22.90s/it]"
     ]
    },
    {
     "name": "stderr",
     "output_type": "stream",
     "text": [
      "\r",
      "C14:  48%|█████████████████████████████████████████████████████████████████████████████████▎                                                                                      | 30/62 [13:12<12:12, 22.90s/it]"
     ]
    },
    {
     "name": "stderr",
     "output_type": "stream",
     "text": [
      "\r",
      "C14:  50%|████████████████████████████████████████████████████████████████████████████████████                                                                                    | 31/62 [13:34<11:40, 22.59s/it]"
     ]
    },
    {
     "name": "stderr",
     "output_type": "stream",
     "text": [
      "\r",
      "D1:  50%|████████████████████████████████████████████████████████████████████████████████████▌                                                                                    | 31/62 [13:34<11:40, 22.59s/it]"
     ]
    },
    {
     "name": "stderr",
     "output_type": "stream",
     "text": [
      "\r",
      "D1:  52%|███████████████████████████████████████████████████████████████████████████████████████▏                                                                                 | 32/62 [13:58<11:31, 23.06s/it]"
     ]
    },
    {
     "name": "stderr",
     "output_type": "stream",
     "text": [
      "\r",
      "D2:  52%|███████████████████████████████████████████████████████████████████████████████████████▏                                                                                 | 32/62 [13:58<11:31, 23.06s/it]"
     ]
    },
    {
     "name": "stderr",
     "output_type": "stream",
     "text": [
      "\r",
      "D2:  53%|█████████████████████████████████████████████████████████████████████████████████████████▉                                                                               | 33/62 [14:20<11:00, 22.79s/it]"
     ]
    },
    {
     "name": "stderr",
     "output_type": "stream",
     "text": [
      "\r",
      "D3:  53%|█████████████████████████████████████████████████████████████████████████████████████████▉                                                                               | 33/62 [14:20<11:00, 22.79s/it]"
     ]
    },
    {
     "name": "stderr",
     "output_type": "stream",
     "text": [
      "\r",
      "D3:  55%|████████████████████████████████████████████████████████████████████████████████████████████▋                                                                            | 34/62 [14:44<10:46, 23.09s/it]"
     ]
    },
    {
     "name": "stderr",
     "output_type": "stream",
     "text": [
      "\r",
      "D4:  55%|████████████████████████████████████████████████████████████████████████████████████████████▋                                                                            | 34/62 [14:44<10:46, 23.09s/it]"
     ]
    },
    {
     "name": "stderr",
     "output_type": "stream",
     "text": [
      "\r",
      "D4:  56%|███████████████████████████████████████████████████████████████████████████████████████████████▍                                                                         | 35/62 [15:09<10:37, 23.61s/it]"
     ]
    },
    {
     "name": "stderr",
     "output_type": "stream",
     "text": [
      "\r",
      "D5:  56%|███████████████████████████████████████████████████████████████████████████████████████████████▍                                                                         | 35/62 [15:09<10:37, 23.61s/it]"
     ]
    },
    {
     "name": "stderr",
     "output_type": "stream",
     "text": [
      "\r",
      "D5:  58%|██████████████████████████████████████████████████████████████████████████████████████████████████▏                                                                      | 36/62 [15:31<10:02, 23.16s/it]"
     ]
    },
    {
     "name": "stderr",
     "output_type": "stream",
     "text": [
      "\r",
      "D6:  58%|██████████████████████████████████████████████████████████████████████████████████████████████████▏                                                                      | 36/62 [15:31<10:02, 23.16s/it]"
     ]
    },
    {
     "name": "stderr",
     "output_type": "stream",
     "text": [
      "\r",
      "D6:  60%|████████████████████████████████████████████████████████████████████████████████████████████████████▊                                                                    | 37/62 [15:56<09:53, 23.76s/it]"
     ]
    },
    {
     "name": "stderr",
     "output_type": "stream",
     "text": [
      "\r",
      "D7:  60%|████████████████████████████████████████████████████████████████████████████████████████████████████▊                                                                    | 37/62 [15:56<09:53, 23.76s/it]"
     ]
    },
    {
     "name": "stderr",
     "output_type": "stream",
     "text": [
      "\r",
      "D7:  61%|███████████████████████████████████████████████████████████████████████████████████████████████████████▌                                                                 | 38/62 [16:18<09:19, 23.33s/it]"
     ]
    },
    {
     "name": "stderr",
     "output_type": "stream",
     "text": [
      "\r",
      "D8:  61%|███████████████████████████████████████████████████████████████████████████████████████████████████████▌                                                                 | 38/62 [16:18<09:19, 23.33s/it]"
     ]
    },
    {
     "name": "stderr",
     "output_type": "stream",
     "text": [
      "\r",
      "D8:  63%|██████████████████████████████████████████████████████████████████████████████████████████████████████████▎                                                              | 39/62 [16:41<08:54, 23.23s/it]"
     ]
    },
    {
     "name": "stderr",
     "output_type": "stream",
     "text": [
      "\r",
      "D9:  63%|██████████████████████████████████████████████████████████████████████████████████████████████████████████▎                                                              | 39/62 [16:41<08:54, 23.23s/it]"
     ]
    },
    {
     "name": "stderr",
     "output_type": "stream",
     "text": [
      "\r",
      "D9:  65%|█████████████████████████████████████████████████████████████████████████████████████████████████████████████                                                            | 40/62 [17:07<08:44, 23.83s/it]"
     ]
    },
    {
     "name": "stderr",
     "output_type": "stream",
     "text": [
      "\r",
      "D10:  65%|████████████████████████████████████████████████████████████████████████████████████████████████████████████▍                                                           | 40/62 [17:07<08:44, 23.83s/it]"
     ]
    },
    {
     "name": "stderr",
     "output_type": "stream",
     "text": [
      "\r",
      "D10:  66%|███████████████████████████████████████████████████████████████████████████████████████████████████████████████                                                         | 41/62 [17:29<08:08, 23.28s/it]"
     ]
    },
    {
     "name": "stderr",
     "output_type": "stream",
     "text": [
      "\r",
      "D11:  66%|███████████████████████████████████████████████████████████████████████████████████████████████████████████████                                                         | 41/62 [17:29<08:08, 23.28s/it]"
     ]
    },
    {
     "name": "stderr",
     "output_type": "stream",
     "text": [
      "\r",
      "D11:  68%|█████████████████████████████████████████████████████████████████████████████████████████████████████████████████▊                                                      | 42/62 [17:52<07:45, 23.28s/it]"
     ]
    },
    {
     "name": "stderr",
     "output_type": "stream",
     "text": [
      "\r",
      "D12:  68%|█████████████████████████████████████████████████████████████████████████████████████████████████████████████████▊                                                      | 42/62 [17:52<07:45, 23.28s/it]"
     ]
    },
    {
     "name": "stderr",
     "output_type": "stream",
     "text": [
      "\r",
      "D12:  69%|████████████████████████████████████████████████████████████████████████████████████████████████████████████████████▌                                                   | 43/62 [18:16<07:24, 23.42s/it]"
     ]
    },
    {
     "name": "stderr",
     "output_type": "stream",
     "text": [
      "\r",
      "D13:  69%|████████████████████████████████████████████████████████████████████████████████████████████████████████████████████▌                                                   | 43/62 [18:16<07:24, 23.42s/it]"
     ]
    },
    {
     "name": "stderr",
     "output_type": "stream",
     "text": [
      "\r",
      "D13:  71%|███████████████████████████████████████████████████████████████████████████████████████████████████████████████████████▏                                                | 44/62 [18:38<06:53, 22.98s/it]"
     ]
    },
    {
     "name": "stderr",
     "output_type": "stream",
     "text": [
      "\r",
      "D14:  71%|███████████████████████████████████████████████████████████████████████████████████████████████████████████████████████▏                                                | 44/62 [18:38<06:53, 22.98s/it]"
     ]
    },
    {
     "name": "stderr",
     "output_type": "stream",
     "text": [
      "\r",
      "D14:  73%|█████████████████████████████████████████████████████████████████████████████████████████████████████████████████████████▉                                              | 45/62 [19:00<06:26, 22.72s/it]"
     ]
    },
    {
     "name": "stderr",
     "output_type": "stream",
     "text": [
      "\r",
      "E1:  73%|██████████████████████████████████████████████████████████████████████████████████████████████████████████████████████████▋                                              | 45/62 [19:00<06:26, 22.72s/it]"
     ]
    },
    {
     "name": "stderr",
     "output_type": "stream",
     "text": [
      "\r",
      "E1:  74%|█████████████████████████████████████████████████████████████████████████████████████████████████████████████████████████████▍                                           | 46/62 [19:25<06:15, 23.47s/it]"
     ]
    },
    {
     "name": "stderr",
     "output_type": "stream",
     "text": [
      "\r",
      "E2:  74%|█████████████████████████████████████████████████████████████████████████████████████████████████████████████████████████████▍                                           | 46/62 [19:25<06:15, 23.47s/it]"
     ]
    },
    {
     "name": "stderr",
     "output_type": "stream",
     "text": [
      "\r",
      "E2:  76%|████████████████████████████████████████████████████████████████████████████████████████████████████████████████████████████████                                         | 47/62 [19:50<05:57, 23.84s/it]"
     ]
    },
    {
     "name": "stderr",
     "output_type": "stream",
     "text": [
      "\r",
      "E3:  76%|████████████████████████████████████████████████████████████████████████████████████████████████████████████████████████████████                                         | 47/62 [19:50<05:57, 23.84s/it]"
     ]
    },
    {
     "name": "stderr",
     "output_type": "stream",
     "text": [
      "\r",
      "E3:  77%|██████████████████████████████████████████████████████████████████████████████████████████████████████████████████████████████████▊                                      | 48/62 [20:11<05:23, 23.10s/it]"
     ]
    },
    {
     "name": "stderr",
     "output_type": "stream",
     "text": [
      "\r",
      "E4:  77%|██████████████████████████████████████████████████████████████████████████████████████████████████████████████████████████████████▊                                      | 48/62 [20:11<05:23, 23.10s/it]"
     ]
    },
    {
     "name": "stderr",
     "output_type": "stream",
     "text": [
      "\r",
      "E4:  79%|█████████████████████████████████████████████████████████████████████████████████████████████████████████████████████████████████████▌                                   | 49/62 [20:37<05:09, 23.81s/it]"
     ]
    },
    {
     "name": "stderr",
     "output_type": "stream",
     "text": [
      "\r",
      "E5:  79%|█████████████████████████████████████████████████████████████████████████████████████████████████████████████████████████████████████▌                                   | 49/62 [20:37<05:09, 23.81s/it]"
     ]
    },
    {
     "name": "stderr",
     "output_type": "stream",
     "text": [
      "\r",
      "E5:  81%|████████████████████████████████████████████████████████████████████████████████████████████████████████████████████████████████████████▎                                | 50/62 [20:59<04:42, 23.50s/it]"
     ]
    },
    {
     "name": "stderr",
     "output_type": "stream",
     "text": [
      "\r",
      "F1:  81%|████████████████████████████████████████████████████████████████████████████████████████████████████████████████████████████████████████▎                                | 50/62 [20:59<04:42, 23.50s/it]"
     ]
    },
    {
     "name": "stderr",
     "output_type": "stream",
     "text": [
      "\r",
      "F1:  82%|███████████████████████████████████████████████████████████████████████████████████████████████████████████████████████████████████████████                              | 51/62 [21:23<04:20, 23.71s/it]"
     ]
    },
    {
     "name": "stderr",
     "output_type": "stream",
     "text": [
      "\r",
      "F2:  82%|███████████████████████████████████████████████████████████████████████████████████████████████████████████████████████████████████████████                              | 51/62 [21:23<04:20, 23.71s/it]"
     ]
    },
    {
     "name": "stderr",
     "output_type": "stream",
     "text": [
      "\r",
      "F2:  84%|█████████████████████████████████████████████████████████████████████████████████████████████████████████████████████████████████████████████▋                           | 52/62 [21:48<03:58, 23.86s/it]"
     ]
    },
    {
     "name": "stderr",
     "output_type": "stream",
     "text": [
      "\r",
      "F3:  84%|█████████████████████████████████████████████████████████████████████████████████████████████████████████████████████████████████████████████▋                           | 52/62 [21:48<03:58, 23.86s/it]"
     ]
    },
    {
     "name": "stderr",
     "output_type": "stream",
     "text": [
      "\r",
      "F3:  85%|████████████████████████████████████████████████████████████████████████████████████████████████████████████████████████████████████████████████▍                        | 53/62 [22:09<03:28, 23.14s/it]"
     ]
    },
    {
     "name": "stderr",
     "output_type": "stream",
     "text": [
      "\r",
      "F4:  85%|████████████████████████████████████████████████████████████████████████████████████████████████████████████████████████████████████████████████▍                        | 53/62 [22:09<03:28, 23.14s/it]"
     ]
    },
    {
     "name": "stderr",
     "output_type": "stream",
     "text": [
      "\r",
      "F4:  87%|███████████████████████████████████████████████████████████████████████████████████████████████████████████████████████████████████████████████████▏                     | 54/62 [22:33<03:06, 23.34s/it]"
     ]
    },
    {
     "name": "stderr",
     "output_type": "stream",
     "text": [
      "\r",
      "F5:  87%|███████████████████████████████████████████████████████████████████████████████████████████████████████████████████████████████████████████████████▏                     | 54/62 [22:33<03:06, 23.34s/it]"
     ]
    },
    {
     "name": "stderr",
     "output_type": "stream",
     "text": [
      "\r",
      "F5:  89%|█████████████████████████████████████████████████████████████████████████████████████████████████████████████████████████████████████████████████████▉                   | 55/62 [22:54<02:39, 22.77s/it]"
     ]
    },
    {
     "name": "stderr",
     "output_type": "stream",
     "text": [
      "\r",
      "F6:  89%|█████████████████████████████████████████████████████████████████████████████████████████████████████████████████████████████████████████████████████▉                   | 55/62 [22:54<02:39, 22.77s/it]"
     ]
    },
    {
     "name": "stderr",
     "output_type": "stream",
     "text": [
      "\r",
      "F6:  90%|████████████████████████████████████████████████████████████████████████████████████████████████████████████████████████████████████████████████████████▋                | 56/62 [23:18<02:17, 22.94s/it]"
     ]
    },
    {
     "name": "stderr",
     "output_type": "stream",
     "text": [
      "\r",
      "G1:  90%|████████████████████████████████████████████████████████████████████████████████████████████████████████████████████████████████████████████████████████▋                | 56/62 [23:18<02:17, 22.94s/it]"
     ]
    },
    {
     "name": "stderr",
     "output_type": "stream",
     "text": [
      "\r",
      "G1:  92%|███████████████████████████████████████████████████████████████████████████████████████████████████████████████████████████████████████████████████████████▎             | 57/62 [23:41<01:54, 22.99s/it]"
     ]
    },
    {
     "name": "stderr",
     "output_type": "stream",
     "text": [
      "\r",
      "G2:  92%|███████████████████████████████████████████████████████████████████████████████████████████████████████████████████████████████████████████████████████████▎             | 57/62 [23:41<01:54, 22.99s/it]"
     ]
    },
    {
     "name": "stderr",
     "output_type": "stream",
     "text": [
      "\r",
      "G2:  94%|██████████████████████████████████████████████████████████████████████████████████████████████████████████████████████████████████████████████████████████████           | 58/62 [24:06<01:34, 23.70s/it]"
     ]
    },
    {
     "name": "stderr",
     "output_type": "stream",
     "text": [
      "\r",
      "G3:  94%|██████████████████████████████████████████████████████████████████████████████████████████████████████████████████████████████████████████████████████████████           | 58/62 [24:06<01:34, 23.70s/it]"
     ]
    },
    {
     "name": "stderr",
     "output_type": "stream",
     "text": [
      "\r",
      "G3:  95%|████████████████████████████████████████████████████████████████████████████████████████████████████████████████████████████████████████████████████████████████▊        | 59/62 [24:28<01:09, 23.18s/it]"
     ]
    },
    {
     "name": "stderr",
     "output_type": "stream",
     "text": [
      "\r",
      "G4:  95%|████████████████████████████████████████████████████████████████████████████████████████████████████████████████████████████████████████████████████████████████▊        | 59/62 [24:28<01:09, 23.18s/it]"
     ]
    },
    {
     "name": "stderr",
     "output_type": "stream",
     "text": [
      "\r",
      "G4:  97%|███████████████████████████████████████████████████████████████████████████████████████████████████████████████████████████████████████████████████████████████████▌     | 60/62 [24:53<00:47, 23.75s/it]"
     ]
    },
    {
     "name": "stderr",
     "output_type": "stream",
     "text": [
      "\r",
      "G5:  97%|███████████████████████████████████████████████████████████████████████████████████████████████████████████████████████████████████████████████████████████████████▌     | 60/62 [24:53<00:47, 23.75s/it]"
     ]
    },
    {
     "name": "stderr",
     "output_type": "stream",
     "text": [
      "\r",
      "G5:  98%|██████████████████████████████████████████████████████████████████████████████████████████████████████████████████████████████████████████████████████████████████████▎  | 61/62 [25:20<00:24, 24.53s/it]"
     ]
    },
    {
     "name": "stderr",
     "output_type": "stream",
     "text": [
      "\r",
      "G6:  98%|██████████████████████████████████████████████████████████████████████████████████████████████████████████████████████████████████████████████████████████████████████▎  | 61/62 [25:20<00:24, 24.53s/it]"
     ]
    },
    {
     "name": "stderr",
     "output_type": "stream",
     "text": [
      "\r",
      "G6: 100%|█████████████████████████████████████████████████████████████████████████████████████████████████████████████████████████████████████████████████████████████████████████| 62/62 [25:44<00:00, 24.52s/it]"
     ]
    },
    {
     "name": "stderr",
     "output_type": "stream",
     "text": [
      "\r",
      "G6: 100%|█████████████████████████████████████████████████████████████████████████████████████████████████████████████████████████████████████████████████████████████████████████| 62/62 [25:44<00:00, 24.91s/it]"
     ]
    },
    {
     "name": "stderr",
     "output_type": "stream",
     "text": [
      "\n"
     ]
    }
   ],
   "source": [
    "# Load modules\n",
    "with celltrip.utility.general.open_s3_or_local('../data/dyngen/dyngen_tfs.json', 'rb') as f:\n",
    "    tf_modules = json.load(f)\n",
    "    tf_modules.pop('NaN')\n",
    "\n",
    "# Params\n",
    "np.random.seed(42)\n",
    "sim_time = 128.\n",
    "\n",
    "# Mute warnings (array wrap and indexing)\n",
    "import warnings\n",
    "warnings.simplefilter('ignore')\n",
    "\n",
    "# Create anndata\n",
    "ad_pert = ad.AnnData(obs=adatas[0].obs, var=pd.DataFrame(index=[f'Feature {i}' for i in range(env.dim)]))\n",
    "# ad_pert0 = ad.AnnData(obs=adatas[0].obs, var=adatas[0].var)\n",
    "# ad_pert1 = ad.AnnData(obs=adatas[1].obs, var=adatas[1].var)\n",
    "def add_layers(states, gene):\n",
    "    ad_pert.layers[gene] = states\n",
    "    # ad_pert0.layers[gene] = states_0\n",
    "    # ad_pert1.layers[gene] = states_1\n",
    "\n",
    "# Add results\n",
    "results = []\n",
    "def add_record(states, states_0, states_1, gene, ct):\n",
    "    results.append({\n",
    "        'Gene': gene, 'Cell Type': ct,\n",
    "        'Effect Size (Latent)': np.square(states[-1] - states[0]).mean(),\n",
    "        'Trajectory Length (Latent)': np.square(states[1:] - states[:-1]).mean(axis=(-2, -1)).sum(),\n",
    "        'Effect Size (Modality 0)': np.square(states_0[-1] - states_0[0]).mean(),\n",
    "        'Trajectory Length (Modality 0)': np.square(states_0[1:] - states_0[:-1]).mean(axis=(-2, -1)).sum(),\n",
    "        'Effect Size (Modality 1)': np.square(states_1[-1] - states_1[0]).mean(),\n",
    "        'Trajectory Length (Modality 1)': np.square(states_1[1:] - states_1[:-1]).mean(axis=(-2, -1)).sum()})\n",
    "    \n",
    "# Reset function\n",
    "def reset_env(env, steady_pos, steady_vel, modal_dict={}):\n",
    "    env.set_max_time(sim_time).reset()  # TODO: Maybe longer?, early stopping?\n",
    "    env.set_positions(steady_pos)\n",
    "    env.set_velocities(steady_vel)  # Maybe 0 manually?\n",
    "    for k, v in modal_dict.items():\n",
    "        env.modalities[k] = v\n",
    "\n",
    "# Running function\n",
    "def run_and_record(samples, env, policy, preprocessing, gene, gene_idx):\n",
    "    # Run and impute\n",
    "    states = celltrip.train.simulate_until_completion(\n",
    "        env, policy,\n",
    "        env_hooks=[\n",
    "            celltrip.utility.hooks.clamp_inverted_features_hook(\n",
    "                gene_idx, preprocessing, feature_targets=0., modality_idx=0),\n",
    "        ],\n",
    "        action_hooks=[\n",
    "            celltrip.utility.hooks.move_toward_targets_hook(\n",
    "                gene_idx, feature_targets=0., pinning=policy.pinning[0],\n",
    "                preprocessing=preprocessing, modality_idx=0,\n",
    "                factor=1, device=env.device),\n",
    "        ],\n",
    "        skip_states=100, store_states='cpu')[-1]\n",
    "    states_pos = states[..., :env.dim]\n",
    "    with torch.no_grad():\n",
    "        imputed_states_0 = policy.pinning[0](states_pos.to('cuda')).detach().cpu().numpy()\n",
    "        imputed_states_1 = policy.pinning[1](states_pos.to('cuda')).detach().cpu().numpy()\n",
    "    imputed_states_0, = preprocessing.inverse_transform(imputed_states_0, subset_modality=0)\n",
    "    imputed_states_1, = preprocessing.inverse_transform(imputed_states_1, subset_modality=1)\n",
    "    # Record\n",
    "    add_layers(states_pos.numpy()[-1], gene)  # , imputed_states_0[-1], imputed_states_1[-1]\n",
    "    add_record(states_pos.numpy(), imputed_states_0, imputed_states_1, gene, 'All')\n",
    "    for ct in adatas[0][samples].obs['traj_sim'].unique():\n",
    "        add_record(\n",
    "            states_pos[:, adatas[0][samples].obs['traj_sim']==ct].numpy(),\n",
    "            imputed_states_0[:, adatas[0][samples].obs['traj_sim']==ct],\n",
    "            imputed_states_1[:, adatas[0][samples].obs['traj_sim']==ct],\n",
    "            gene, ct)\n",
    "\n",
    "# Subset and preprocess the data\n",
    "samples = adatas[0].obs.index\n",
    "raw_m1 = celltrip.utility.processing.chunk_X(adatas[0][samples], chunk_size=2_000)\n",
    "m1, m2 = [\n",
    "    celltrip.utility.processing.chunk_X(\n",
    "        ad[samples], chunk_size=2_000,\n",
    "        func=lambda x: preprocessing.transform(x, subset_modality=i)[0])\n",
    "        for i, ad in enumerate(adatas)]\n",
    "\n",
    "# Initialize environment\n",
    "env = celltrip.environment.EnvironmentBase(\n",
    "    torch.tensor(m1), torch.tensor(m2), compute_rewards=False, dim=env.dim).eval(time_scale=1).to('cuda')\n",
    "\n",
    "# Simulate to steady state\n",
    "env.reset()\n",
    "celltrip.train.simulate_until_completion(env, policy)\n",
    "steady_pos, steady_vel = (env.pos, env.vel)\n",
    "\n",
    "# Run control\n",
    "reset_env(env, steady_pos, steady_vel)\n",
    "add_layers(steady_pos.cpu().numpy(), 'Steady')\n",
    "run_and_record(samples, env, policy, preprocessing, 'Control', [])\n",
    "\n",
    "# Perturb\n",
    "for module, genes in (pbar := tqdm.tqdm(tf_modules.items())):\n",
    "    # Get gene idx and run\n",
    "    pbar.set_description(module)\n",
    "    gene_idx = np.argwhere(np.isin(adatas[0].var_names, genes)).flatten()\n",
    "    reset_env(env, steady_pos, steady_vel)  # {0: torch.tensor(m1).cuda()}\n",
    "    run_and_record(samples, env, policy, preprocessing, module, gene_idx)\n",
    "\n",
    "# Convert and save\n",
    "pd.DataFrame(results).to_csv('../plots/dyngen/knockdown_full.csv', index=None)\n",
    "ad_pert.write_h5ad('../plots/dyngen/knockdown_full_results.h5ad')\n"
   ]
  },
  {
   "cell_type": "code",
   "execution_count": 6,
   "id": "d109e867",
   "metadata": {
    "execution": {
     "iopub.execute_input": "2025-10-15T22:53:35.526562Z",
     "iopub.status.busy": "2025-10-15T22:53:35.526404Z",
     "iopub.status.idle": "2025-10-15T22:53:36.344428Z",
     "shell.execute_reply": "2025-10-15T22:53:36.343942Z"
    }
   },
   "outputs": [],
   "source": [
    "# ad_pert = ad.read_h5ad('../plots/dyngen/knockdown_full_results.h5ad')\n",
    "# control_gex, = preprocessing.inverse_transform(policy.pinning[0](torch.tensor(ad_pert.layers['Control']).cuda()).detach().cpu().numpy(), subset_modality=0)\n",
    "# pert_gex, = preprocessing.inverse_transform(policy.pinning[0](torch.tensor(ad_pert.layers['D2']).cuda()).detach().cpu().numpy(), subset_modality=0)\n",
    "# prioritized_genes = adatas[0].var.index[np.abs(pert_gex - control_gex).mean(axis=0).argsort()[::-1]].to_numpy()"
   ]
  }
 ],
 "metadata": {
  "kernelspec": {
   "display_name": "ct",
   "language": "python",
   "name": "python3"
  },
  "language_info": {
   "codemirror_mode": {
    "name": "ipython",
    "version": 3
   },
   "file_extension": ".py",
   "mimetype": "text/x-python",
   "name": "python",
   "nbconvert_exporter": "python",
   "pygments_lexer": "ipython3",
   "version": "3.10.16"
  }
 },
 "nbformat": 4,
 "nbformat_minor": 5
}
