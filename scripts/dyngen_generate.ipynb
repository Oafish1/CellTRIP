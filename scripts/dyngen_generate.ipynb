{
 "cells": [
  {
   "cell_type": "code",
   "execution_count": 1,
   "id": "1bc6db96",
   "metadata": {
    "execution": {
     "iopub.execute_input": "2025-09-21T18:05:49.563963Z",
     "iopub.status.busy": "2025-09-21T18:05:49.563581Z",
     "iopub.status.idle": "2025-09-21T18:05:49.665702Z",
     "shell.execute_reply": "2025-09-21T18:05:49.665293Z"
    }
   },
   "outputs": [],
   "source": [
    "%load_ext autoreload\n",
    "%autoreload 2\n"
   ]
  },
  {
   "cell_type": "code",
   "execution_count": 2,
   "id": "b2754518",
   "metadata": {
    "execution": {
     "iopub.execute_input": "2025-09-21T18:05:49.667646Z",
     "iopub.status.busy": "2025-09-21T18:05:49.667482Z",
     "iopub.status.idle": "2025-09-21T18:05:52.450354Z",
     "shell.execute_reply": "2025-09-21T18:05:52.449843Z"
    }
   },
   "outputs": [],
   "source": [
    "import os\n",
    "\n",
    "import anndata as ad\n",
    "import numpy as np\n",
    "import pandas as pd\n",
    "import sklearn\n",
    "import torch\n",
    "import tqdm\n",
    "\n",
    "import celltrip\n",
    "\n",
    "os.environ['AWS_PROFILE'] = 'waisman-admin'\n"
   ]
  },
  {
   "cell_type": "markdown",
   "id": "5a1aac9c",
   "metadata": {},
   "source": [
    "# Load Data and Policy"
   ]
  },
  {
   "cell_type": "code",
   "execution_count": null,
   "id": "6367c9c1",
   "metadata": {
    "execution": {
     "iopub.execute_input": "2025-09-21T18:05:52.452383Z",
     "iopub.status.busy": "2025-09-21T18:05:52.452212Z",
     "iopub.status.idle": "2025-09-21T18:05:56.516868Z",
     "shell.execute_reply": "2025-09-21T18:05:56.516364Z"
    }
   },
   "outputs": [],
   "source": [
    "# Read data files\n",
    "# adata_prefix = 's3://nkalafut-celltrip/Dyngen'\n",
    "adata_prefix = '../data/Dyngen'\n",
    "adatas = celltrip.utility.processing.read_adatas(\n",
    "    's3://nkalafut-celltrip/dyngen/logcounts.h5ad',\n",
    "    's3://nkalafut-celltrip/dyngen/counts_protein.h5ad',\n",
    "    backed=True)\n",
    "# Model location and name (should be prefix for .weights, .pre, and .mask file)\n",
    "prefix, training_step = 's3://nkalafut-celltrip/checkpoints/Dyngen-250920', 800\n",
    "# Generate or load preprocessing\n",
    "preprocessing = celltrip.utility.processing.Preprocessing().load(f'{prefix}.pre')\n",
    "with celltrip.utility.general.open_s3_or_local(f'{prefix}.mask', 'rb') as f:\n",
    "    mask = np.loadtxt(f).astype(bool)\n",
    "adatas[0].obs['Training'] = mask\n",
    "# Create sample env (kind of a dumb workaround, TODO)\n",
    "m1, m2 = [preprocessing.transform(ad[:2].X, subset_modality=i)[0] for i, ad in enumerate(adatas)]\n",
    "env = celltrip.environment.EnvironmentBase(\n",
    "    torch.tensor(m1), torch.tensor(m2), compute_rewards=False, dim=8).eval().to('cuda')\n",
    "# Load policy\n",
    "policy = celltrip.policy.create_agent_from_env(\n",
    "    env, forward_batch_size=1_000, vision_size=1_000).eval().to('cuda')\n",
    "policy.load_checkpoint(f'{prefix}-{training_step:04}.weights');\n"
   ]
  },
  {
   "cell_type": "markdown",
   "id": "f37705ce",
   "metadata": {},
   "source": [
    "# Perform Knockdown"
   ]
  },
  {
   "cell_type": "code",
   "execution_count": null,
   "id": "fca63f76",
   "metadata": {
    "execution": {
     "iopub.execute_input": "2025-09-21T18:05:56.519145Z",
     "iopub.status.busy": "2025-09-21T18:05:56.518720Z",
     "iopub.status.idle": "2025-09-21T19:31:32.947457Z",
     "shell.execute_reply": "2025-09-21T19:31:32.946926Z"
    }
   },
   "outputs": [
    {
     "name": "stderr",
     "output_type": "stream",
     "text": [
      "\r\n",
      "  0%|                                                                                                                                                                                              | 0/2400 [00:00<?, ?it/s]"
     ]
    },
    {
     "name": "stderr",
     "output_type": "stream",
     "text": [
      "\r\n",
      "  0%|▋                                                                                                                                                                                  | 10/2400 [00:20<1:22:30,  2.07s/it]"
     ]
    },
    {
     "name": "stderr",
     "output_type": "stream",
     "text": [
      "\r\n",
      "  1%|█▍                                                                                                                                                                                 | 20/2400 [00:41<1:22:02,  2.07s/it]"
     ]
    },
    {
     "name": "stderr",
     "output_type": "stream",
     "text": [
      "\r\n",
      "  1%|██▏                                                                                                                                                                                | 30/2400 [01:02<1:21:47,  2.07s/it]"
     ]
    },
    {
     "name": "stderr",
     "output_type": "stream",
     "text": [
      "\r\n",
      "  2%|██▉                                                                                                                                                                                | 40/2400 [01:22<1:21:28,  2.07s/it]"
     ]
    },
    {
     "name": "stderr",
     "output_type": "stream",
     "text": [
      "\r\n",
      "  2%|███▋                                                                                                                                                                               | 50/2400 [01:43<1:21:11,  2.07s/it]"
     ]
    },
    {
     "name": "stderr",
     "output_type": "stream",
     "text": [
      "\r\n",
      "  2%|████▍                                                                                                                                                                              | 60/2400 [02:04<1:20:54,  2.07s/it]"
     ]
    },
    {
     "name": "stderr",
     "output_type": "stream",
     "text": [
      "\r\n",
      "  3%|█████▏                                                                                                                                                                             | 70/2400 [02:25<1:20:43,  2.08s/it]"
     ]
    },
    {
     "name": "stderr",
     "output_type": "stream",
     "text": [
      "\r\n",
      "  3%|█████▉                                                                                                                                                                             | 80/2400 [02:46<1:20:46,  2.09s/it]"
     ]
    },
    {
     "name": "stderr",
     "output_type": "stream",
     "text": [
      "\r\n",
      "  4%|██████▋                                                                                                                                                                            | 90/2400 [03:07<1:20:56,  2.10s/it]"
     ]
    },
    {
     "name": "stderr",
     "output_type": "stream",
     "text": [
      "\r\n",
      "  4%|███████▍                                                                                                                                                                          | 100/2400 [03:28<1:20:32,  2.10s/it]"
     ]
    },
    {
     "name": "stderr",
     "output_type": "stream",
     "text": [
      "\r\n",
      "  5%|████████▏                                                                                                                                                                         | 110/2400 [03:49<1:20:15,  2.10s/it]"
     ]
    },
    {
     "name": "stderr",
     "output_type": "stream",
     "text": [
      "\r\n",
      "  5%|████████▉                                                                                                                                                                         | 120/2400 [04:10<1:19:48,  2.10s/it]"
     ]
    },
    {
     "name": "stderr",
     "output_type": "stream",
     "text": [
      "\r\n",
      "  5%|█████████▋                                                                                                                                                                        | 130/2400 [04:31<1:19:30,  2.10s/it]"
     ]
    },
    {
     "name": "stderr",
     "output_type": "stream",
     "text": [
      "\r\n",
      "  6%|██████████▍                                                                                                                                                                       | 140/2400 [04:52<1:19:04,  2.10s/it]"
     ]
    },
    {
     "name": "stderr",
     "output_type": "stream",
     "text": [
      "\r\n",
      "  6%|███████████▏                                                                                                                                                                      | 150/2400 [05:13<1:18:48,  2.10s/it]"
     ]
    },
    {
     "name": "stderr",
     "output_type": "stream",
     "text": [
      "\r\n",
      "  7%|███████████▊                                                                                                                                                                      | 160/2400 [05:34<1:18:28,  2.10s/it]"
     ]
    },
    {
     "name": "stderr",
     "output_type": "stream",
     "text": [
      "\r\n",
      "  7%|████████████▌                                                                                                                                                                     | 170/2400 [05:55<1:18:07,  2.10s/it]"
     ]
    },
    {
     "name": "stderr",
     "output_type": "stream",
     "text": [
      "\r\n",
      "  8%|█████████████▎                                                                                                                                                                    | 180/2400 [06:17<1:18:11,  2.11s/it]"
     ]
    },
    {
     "name": "stderr",
     "output_type": "stream",
     "text": [
      "\r\n",
      "  8%|██████████████                                                                                                                                                                    | 190/2400 [06:38<1:18:01,  2.12s/it]"
     ]
    },
    {
     "name": "stderr",
     "output_type": "stream",
     "text": [
      "\r\n",
      "  8%|██████████████▊                                                                                                                                                                   | 200/2400 [06:59<1:17:38,  2.12s/it]"
     ]
    },
    {
     "name": "stderr",
     "output_type": "stream",
     "text": [
      "\r\n",
      "  9%|███████████████▌                                                                                                                                                                  | 210/2400 [07:20<1:17:14,  2.12s/it]"
     ]
    },
    {
     "name": "stderr",
     "output_type": "stream",
     "text": [
      "\r\n",
      "  9%|████████████████▎                                                                                                                                                                 | 220/2400 [07:41<1:16:33,  2.11s/it]"
     ]
    },
    {
     "name": "stderr",
     "output_type": "stream",
     "text": [
      "\r\n",
      " 10%|█████████████████                                                                                                                                                                 | 230/2400 [08:02<1:16:03,  2.10s/it]"
     ]
    },
    {
     "name": "stderr",
     "output_type": "stream",
     "text": [
      "\r\n",
      " 10%|█████████████████▊                                                                                                                                                                | 240/2400 [08:23<1:15:42,  2.10s/it]"
     ]
    },
    {
     "name": "stderr",
     "output_type": "stream",
     "text": [
      "\r\n",
      " 10%|██████████████████▌                                                                                                                                                               | 250/2400 [08:44<1:15:27,  2.11s/it]"
     ]
    },
    {
     "name": "stderr",
     "output_type": "stream",
     "text": [
      "\r\n",
      " 11%|███████████████████▎                                                                                                                                                              | 260/2400 [09:05<1:15:02,  2.10s/it]"
     ]
    },
    {
     "name": "stderr",
     "output_type": "stream",
     "text": [
      "\r\n",
      " 11%|████████████████████                                                                                                                                                              | 270/2400 [09:26<1:14:38,  2.10s/it]"
     ]
    },
    {
     "name": "stderr",
     "output_type": "stream",
     "text": [
      "\r\n",
      " 12%|████████████████████▊                                                                                                                                                             | 280/2400 [09:47<1:14:05,  2.10s/it]"
     ]
    },
    {
     "name": "stderr",
     "output_type": "stream",
     "text": [
      "\r\n",
      " 12%|█████████████████████▌                                                                                                                                                            | 290/2400 [10:08<1:13:32,  2.09s/it]"
     ]
    },
    {
     "name": "stderr",
     "output_type": "stream",
     "text": [
      "\r\n",
      " 12%|██████████████████████▎                                                                                                                                                           | 300/2400 [10:29<1:13:02,  2.09s/it]"
     ]
    },
    {
     "name": "stderr",
     "output_type": "stream",
     "text": [
      "\r\n",
      " 13%|██████████████████████▉                                                                                                                                                           | 310/2400 [10:50<1:13:00,  2.10s/it]"
     ]
    },
    {
     "name": "stderr",
     "output_type": "stream",
     "text": [
      "\r\n",
      " 13%|███████████████████████▋                                                                                                                                                          | 320/2400 [11:11<1:13:20,  2.12s/it]"
     ]
    },
    {
     "name": "stderr",
     "output_type": "stream",
     "text": [
      "\r\n",
      " 14%|████████████████████████▍                                                                                                                                                         | 330/2400 [11:32<1:12:57,  2.11s/it]"
     ]
    },
    {
     "name": "stderr",
     "output_type": "stream",
     "text": [
      "\r\n",
      " 14%|█████████████████████████▏                                                                                                                                                        | 340/2400 [11:54<1:12:50,  2.12s/it]"
     ]
    },
    {
     "name": "stderr",
     "output_type": "stream",
     "text": [
      "\r\n",
      " 15%|█████████████████████████▉                                                                                                                                                        | 350/2400 [12:15<1:12:47,  2.13s/it]"
     ]
    },
    {
     "name": "stderr",
     "output_type": "stream",
     "text": [
      "\r\n",
      " 15%|██████████████████████████▋                                                                                                                                                       | 360/2400 [12:37<1:12:37,  2.14s/it]"
     ]
    },
    {
     "name": "stderr",
     "output_type": "stream",
     "text": [
      "\r\n",
      " 15%|███████████████████████████▍                                                                                                                                                      | 370/2400 [12:58<1:12:25,  2.14s/it]"
     ]
    },
    {
     "name": "stderr",
     "output_type": "stream",
     "text": [
      "\r\n",
      " 16%|████████████████████████████▏                                                                                                                                                     | 380/2400 [13:20<1:12:00,  2.14s/it]"
     ]
    },
    {
     "name": "stderr",
     "output_type": "stream",
     "text": [
      "\r\n",
      " 16%|████████████████████████████▉                                                                                                                                                     | 390/2400 [13:41<1:11:39,  2.14s/it]"
     ]
    },
    {
     "name": "stderr",
     "output_type": "stream",
     "text": [
      "\r\n",
      " 17%|█████████████████████████████▋                                                                                                                                                    | 400/2400 [14:02<1:11:15,  2.14s/it]"
     ]
    },
    {
     "name": "stderr",
     "output_type": "stream",
     "text": [
      "\r\n",
      " 17%|██████████████████████████████▍                                                                                                                                                   | 410/2400 [14:24<1:11:01,  2.14s/it]"
     ]
    },
    {
     "name": "stderr",
     "output_type": "stream",
     "text": [
      "\r\n",
      " 18%|███████████████████████████████▏                                                                                                                                                  | 420/2400 [14:45<1:10:43,  2.14s/it]"
     ]
    },
    {
     "name": "stderr",
     "output_type": "stream",
     "text": [
      "\r\n",
      " 18%|███████████████████████████████▉                                                                                                                                                  | 430/2400 [15:07<1:10:28,  2.15s/it]"
     ]
    },
    {
     "name": "stderr",
     "output_type": "stream",
     "text": [
      "\r\n",
      " 18%|████████████████████████████████▋                                                                                                                                                 | 440/2400 [15:29<1:10:19,  2.15s/it]"
     ]
    },
    {
     "name": "stderr",
     "output_type": "stream",
     "text": [
      "\r\n",
      " 19%|█████████████████████████████████▍                                                                                                                                                | 450/2400 [15:50<1:10:07,  2.16s/it]"
     ]
    },
    {
     "name": "stderr",
     "output_type": "stream",
     "text": [
      "\r\n",
      " 19%|██████████████████████████████████                                                                                                                                                | 460/2400 [16:12<1:09:48,  2.16s/it]"
     ]
    },
    {
     "name": "stderr",
     "output_type": "stream",
     "text": [
      "\r\n",
      " 20%|██████████████████████████████████▊                                                                                                                                               | 470/2400 [16:33<1:09:20,  2.16s/it]"
     ]
    },
    {
     "name": "stderr",
     "output_type": "stream",
     "text": [
      "\r\n",
      " 20%|███████████████████████████████████▌                                                                                                                                              | 480/2400 [16:55<1:09:00,  2.16s/it]"
     ]
    },
    {
     "name": "stderr",
     "output_type": "stream",
     "text": [
      "\r\n",
      " 20%|████████████████████████████████████▎                                                                                                                                             | 490/2400 [17:17<1:08:42,  2.16s/it]"
     ]
    },
    {
     "name": "stderr",
     "output_type": "stream",
     "text": [
      "\r\n",
      " 21%|█████████████████████████████████████                                                                                                                                             | 500/2400 [17:38<1:08:26,  2.16s/it]"
     ]
    },
    {
     "name": "stderr",
     "output_type": "stream",
     "text": [
      "\r\n",
      " 21%|█████████████████████████████████████▊                                                                                                                                            | 510/2400 [18:00<1:08:06,  2.16s/it]"
     ]
    },
    {
     "name": "stderr",
     "output_type": "stream",
     "text": [
      "\r\n",
      " 22%|██████████████████████████████████████▌                                                                                                                                           | 520/2400 [18:22<1:07:46,  2.16s/it]"
     ]
    },
    {
     "name": "stderr",
     "output_type": "stream",
     "text": [
      "\r\n",
      " 22%|███████████████████████████████████████▎                                                                                                                                          | 530/2400 [18:43<1:07:25,  2.16s/it]"
     ]
    },
    {
     "name": "stderr",
     "output_type": "stream",
     "text": [
      "\r\n",
      " 22%|████████████████████████████████████████                                                                                                                                          | 540/2400 [19:05<1:07:00,  2.16s/it]"
     ]
    },
    {
     "name": "stderr",
     "output_type": "stream",
     "text": [
      "\r\n",
      " 23%|████████████████████████████████████████▊                                                                                                                                         | 550/2400 [19:27<1:06:45,  2.17s/it]"
     ]
    },
    {
     "name": "stderr",
     "output_type": "stream",
     "text": [
      "\r\n",
      " 23%|█████████████████████████████████████████▌                                                                                                                                        | 560/2400 [19:48<1:06:27,  2.17s/it]"
     ]
    },
    {
     "name": "stderr",
     "output_type": "stream",
     "text": [
      "\r\n",
      " 24%|██████████████████████████████████████████▎                                                                                                                                       | 570/2400 [20:10<1:06:13,  2.17s/it]"
     ]
    },
    {
     "name": "stderr",
     "output_type": "stream",
     "text": [
      "\r\n",
      " 24%|███████████████████████████████████████████                                                                                                                                       | 580/2400 [20:32<1:06:01,  2.18s/it]"
     ]
    },
    {
     "name": "stderr",
     "output_type": "stream",
     "text": [
      "\r\n",
      " 25%|███████████████████████████████████████████▊                                                                                                                                      | 590/2400 [20:54<1:05:50,  2.18s/it]"
     ]
    },
    {
     "name": "stderr",
     "output_type": "stream",
     "text": [
      "\r\n",
      " 25%|████████████████████████████████████████████▌                                                                                                                                     | 600/2400 [21:16<1:05:15,  2.18s/it]"
     ]
    },
    {
     "name": "stderr",
     "output_type": "stream",
     "text": [
      "\r\n",
      " 25%|█████████████████████████████████████████████▏                                                                                                                                    | 610/2400 [21:37<1:04:45,  2.17s/it]"
     ]
    },
    {
     "name": "stderr",
     "output_type": "stream",
     "text": [
      "\r\n",
      " 26%|█████████████████████████████████████████████▉                                                                                                                                    | 620/2400 [21:59<1:04:23,  2.17s/it]"
     ]
    },
    {
     "name": "stderr",
     "output_type": "stream",
     "text": [
      "\r\n",
      " 26%|██████████████████████████████████████████████▋                                                                                                                                   | 630/2400 [22:20<1:03:55,  2.17s/it]"
     ]
    },
    {
     "name": "stderr",
     "output_type": "stream",
     "text": [
      "\r\n",
      " 27%|███████████████████████████████████████████████▍                                                                                                                                  | 640/2400 [22:42<1:03:26,  2.16s/it]"
     ]
    },
    {
     "name": "stderr",
     "output_type": "stream",
     "text": [
      "\r\n",
      " 27%|████████████████████████████████████████████████▏                                                                                                                                 | 650/2400 [23:04<1:03:11,  2.17s/it]"
     ]
    },
    {
     "name": "stderr",
     "output_type": "stream",
     "text": [
      "\r\n",
      " 28%|████████████████████████████████████████████████▉                                                                                                                                 | 660/2400 [23:25<1:02:38,  2.16s/it]"
     ]
    },
    {
     "name": "stderr",
     "output_type": "stream",
     "text": [
      "\r\n",
      " 28%|█████████████████████████████████████████████████▋                                                                                                                                | 670/2400 [23:46<1:02:02,  2.15s/it]"
     ]
    },
    {
     "name": "stderr",
     "output_type": "stream",
     "text": [
      "\r\n",
      " 28%|██████████████████████████████████████████████████▍                                                                                                                               | 680/2400 [24:08<1:01:32,  2.15s/it]"
     ]
    },
    {
     "name": "stderr",
     "output_type": "stream",
     "text": [
      "\r\n",
      " 29%|███████████████████████████████████████████████████▏                                                                                                                              | 690/2400 [24:29<1:01:06,  2.14s/it]"
     ]
    },
    {
     "name": "stderr",
     "output_type": "stream",
     "text": [
      "\r\n",
      " 29%|███████████████████████████████████████████████████▉                                                                                                                              | 700/2400 [24:51<1:00:43,  2.14s/it]"
     ]
    },
    {
     "name": "stderr",
     "output_type": "stream",
     "text": [
      "\r\n",
      " 30%|████████████████████████████████████████████████████▋                                                                                                                             | 710/2400 [25:12<1:00:39,  2.15s/it]"
     ]
    },
    {
     "name": "stderr",
     "output_type": "stream",
     "text": [
      "\r\n",
      " 30%|█████████████████████████████████████████████████████▍                                                                                                                            | 720/2400 [25:34<1:00:11,  2.15s/it]"
     ]
    },
    {
     "name": "stderr",
     "output_type": "stream",
     "text": [
      "\r\n",
      " 30%|██████████████████████████████████████████████████████▋                                                                                                                             | 730/2400 [25:55<59:43,  2.15s/it]"
     ]
    },
    {
     "name": "stderr",
     "output_type": "stream",
     "text": [
      "\r\n",
      " 31%|███████████████████████████████████████████████████████▌                                                                                                                            | 740/2400 [26:17<59:20,  2.14s/it]"
     ]
    },
    {
     "name": "stderr",
     "output_type": "stream",
     "text": [
      "\r\n",
      " 31%|████████████████████████████████████████████████████████▎                                                                                                                           | 750/2400 [26:38<58:55,  2.14s/it]"
     ]
    },
    {
     "name": "stderr",
     "output_type": "stream",
     "text": [
      "\r\n",
      " 32%|█████████████████████████████████████████████████████████                                                                                                                           | 760/2400 [26:59<58:36,  2.14s/it]"
     ]
    },
    {
     "name": "stderr",
     "output_type": "stream",
     "text": [
      "\r\n",
      " 32%|█████████████████████████████████████████████████████████▊                                                                                                                          | 770/2400 [27:21<58:17,  2.15s/it]"
     ]
    },
    {
     "name": "stderr",
     "output_type": "stream",
     "text": [
      "\r\n",
      " 32%|██████████████████████████████████████████████████████████▌                                                                                                                         | 780/2400 [27:43<58:04,  2.15s/it]"
     ]
    },
    {
     "name": "stderr",
     "output_type": "stream",
     "text": [
      "\r\n",
      " 33%|███████████████████████████████████████████████████████████▎                                                                                                                        | 790/2400 [28:04<57:43,  2.15s/it]"
     ]
    },
    {
     "name": "stderr",
     "output_type": "stream",
     "text": [
      "\r\n",
      " 33%|████████████████████████████████████████████████████████████                                                                                                                        | 800/2400 [28:26<57:24,  2.15s/it]"
     ]
    },
    {
     "name": "stderr",
     "output_type": "stream",
     "text": [
      "\r\n",
      " 34%|████████████████████████████████████████████████████████████▊                                                                                                                       | 810/2400 [28:47<56:55,  2.15s/it]"
     ]
    },
    {
     "name": "stderr",
     "output_type": "stream",
     "text": [
      "\r\n",
      " 34%|█████████████████████████████████████████████████████████████▌                                                                                                                      | 820/2400 [29:08<56:28,  2.14s/it]"
     ]
    },
    {
     "name": "stderr",
     "output_type": "stream",
     "text": [
      "\r\n",
      " 35%|██████████████████████████████████████████████████████████████▎                                                                                                                     | 830/2400 [29:30<56:05,  2.14s/it]"
     ]
    },
    {
     "name": "stderr",
     "output_type": "stream",
     "text": [
      "\r\n",
      " 35%|██████████████████████████████████████████████████████████████▉                                                                                                                     | 840/2400 [29:52<56:00,  2.15s/it]"
     ]
    },
    {
     "name": "stderr",
     "output_type": "stream",
     "text": [
      "\r\n",
      " 35%|███████████████████████████████████████████████████████████████▊                                                                                                                    | 850/2400 [30:13<55:45,  2.16s/it]"
     ]
    },
    {
     "name": "stderr",
     "output_type": "stream",
     "text": [
      "\r\n",
      " 36%|████████████████████████████████████████████████████████████████▌                                                                                                                   | 860/2400 [30:35<55:25,  2.16s/it]"
     ]
    },
    {
     "name": "stderr",
     "output_type": "stream",
     "text": [
      "\r\n",
      " 36%|█████████████████████████████████████████████████████████████████▎                                                                                                                  | 870/2400 [30:56<55:02,  2.16s/it]"
     ]
    },
    {
     "name": "stderr",
     "output_type": "stream",
     "text": [
      "\r\n",
      " 37%|██████████████████████████████████████████████████████████████████                                                                                                                  | 880/2400 [31:18<54:40,  2.16s/it]"
     ]
    },
    {
     "name": "stderr",
     "output_type": "stream",
     "text": [
      "\r\n",
      " 37%|██████████████████████████████████████████████████████████████████▊                                                                                                                 | 890/2400 [31:40<54:17,  2.16s/it]"
     ]
    },
    {
     "name": "stderr",
     "output_type": "stream",
     "text": [
      "\r\n",
      " 38%|███████████████████████████████████████████████████████████████████▌                                                                                                                | 900/2400 [32:01<53:56,  2.16s/it]"
     ]
    },
    {
     "name": "stderr",
     "output_type": "stream",
     "text": [
      "\r\n",
      " 38%|████████████████████████████████████████████████████████████████████▎                                                                                                               | 910/2400 [32:23<53:28,  2.15s/it]"
     ]
    },
    {
     "name": "stderr",
     "output_type": "stream",
     "text": [
      "\r\n",
      " 38%|█████████████████████████████████████████████████████████████████████                                                                                                               | 920/2400 [32:44<53:04,  2.15s/it]"
     ]
    },
    {
     "name": "stderr",
     "output_type": "stream",
     "text": [
      "\r\n",
      " 39%|█████████████████████████████████████████████████████████████████████▊                                                                                                              | 930/2400 [33:05<52:37,  2.15s/it]"
     ]
    },
    {
     "name": "stderr",
     "output_type": "stream",
     "text": [
      "\r\n",
      " 39%|██████████████████████████████████████████████████████████████████████▌                                                                                                             | 940/2400 [33:27<52:18,  2.15s/it]"
     ]
    },
    {
     "name": "stderr",
     "output_type": "stream",
     "text": [
      "\r\n",
      " 40%|███████████████████████████████████████████████████████████████████████▎                                                                                                            | 950/2400 [33:48<51:55,  2.15s/it]"
     ]
    },
    {
     "name": "stderr",
     "output_type": "stream",
     "text": [
      "\r\n",
      " 40%|████████████████████████████████████████████████████████████████████████                                                                                                            | 960/2400 [34:10<51:42,  2.15s/it]"
     ]
    },
    {
     "name": "stderr",
     "output_type": "stream",
     "text": [
      "\r\n",
      " 40%|████████████████████████████████████████████████████████████████████████▊                                                                                                           | 970/2400 [34:32<51:21,  2.15s/it]"
     ]
    },
    {
     "name": "stderr",
     "output_type": "stream",
     "text": [
      "\r\n",
      " 41%|█████████████████████████████████████████████████████████████████████████▌                                                                                                          | 980/2400 [34:53<51:03,  2.16s/it]"
     ]
    },
    {
     "name": "stderr",
     "output_type": "stream",
     "text": [
      "\r\n",
      " 41%|██████████████████████████████████████████████████████████████████████████▎                                                                                                         | 990/2400 [35:15<50:40,  2.16s/it]"
     ]
    },
    {
     "name": "stderr",
     "output_type": "stream",
     "text": [
      "\r\n",
      " 42%|██████████████████████████████████████████████████████████████████████████▌                                                                                                        | 1000/2400 [35:37<50:23,  2.16s/it]"
     ]
    },
    {
     "name": "stderr",
     "output_type": "stream",
     "text": [
      "\r\n",
      " 42%|███████████████████████████████████████████████████████████████████████████▎                                                                                                       | 1010/2400 [35:58<49:58,  2.16s/it]"
     ]
    },
    {
     "name": "stderr",
     "output_type": "stream",
     "text": [
      "\r\n",
      " 42%|████████████████████████████████████████████████████████████████████████████                                                                                                       | 1020/2400 [36:20<49:35,  2.16s/it]"
     ]
    },
    {
     "name": "stderr",
     "output_type": "stream",
     "text": [
      "\r\n",
      " 43%|████████████████████████████████████████████████████████████████████████████▊                                                                                                      | 1030/2400 [36:41<49:12,  2.16s/it]"
     ]
    },
    {
     "name": "stderr",
     "output_type": "stream",
     "text": [
      "\r\n",
      " 43%|█████████████████████████████████████████████████████████████████████████████▌                                                                                                     | 1040/2400 [37:02<48:40,  2.15s/it]"
     ]
    },
    {
     "name": "stderr",
     "output_type": "stream",
     "text": [
      "\r\n",
      " 44%|██████████████████████████████████████████████████████████████████████████████▎                                                                                                    | 1050/2400 [37:24<48:19,  2.15s/it]"
     ]
    },
    {
     "name": "stderr",
     "output_type": "stream",
     "text": [
      "\r\n",
      " 44%|███████████████████████████████████████████████████████████████████████████████                                                                                                    | 1060/2400 [37:45<47:53,  2.14s/it]"
     ]
    },
    {
     "name": "stderr",
     "output_type": "stream",
     "text": [
      "\r\n",
      " 45%|███████████████████████████████████████████████████████████████████████████████▊                                                                                                   | 1070/2400 [38:07<47:31,  2.14s/it]"
     ]
    },
    {
     "name": "stderr",
     "output_type": "stream",
     "text": [
      "\r\n",
      " 45%|████████████████████████████████████████████████████████████████████████████████▌                                                                                                  | 1080/2400 [38:28<47:02,  2.14s/it]"
     ]
    },
    {
     "name": "stderr",
     "output_type": "stream",
     "text": [
      "\r\n",
      " 45%|█████████████████████████████████████████████████████████████████████████████████▎                                                                                                 | 1090/2400 [38:49<46:46,  2.14s/it]"
     ]
    },
    {
     "name": "stderr",
     "output_type": "stream",
     "text": [
      "\r\n",
      " 46%|██████████████████████████████████████████████████████████████████████████████████                                                                                                 | 1100/2400 [39:11<46:14,  2.13s/it]"
     ]
    },
    {
     "name": "stderr",
     "output_type": "stream",
     "text": [
      "\r\n",
      " 46%|██████████████████████████████████████████████████████████████████████████████████▊                                                                                                | 1110/2400 [39:32<45:51,  2.13s/it]"
     ]
    },
    {
     "name": "stderr",
     "output_type": "stream",
     "text": [
      "\r\n",
      " 47%|███████████████████████████████████████████████████████████████████████████████████▌                                                                                               | 1120/2400 [39:53<45:26,  2.13s/it]"
     ]
    },
    {
     "name": "stderr",
     "output_type": "stream",
     "text": [
      "\r\n",
      " 47%|████████████████████████████████████████████████████████████████████████████████████▎                                                                                              | 1130/2400 [40:14<45:04,  2.13s/it]"
     ]
    },
    {
     "name": "stderr",
     "output_type": "stream",
     "text": [
      "\r\n",
      " 48%|█████████████████████████████████████████████████████████████████████████████████████                                                                                              | 1140/2400 [40:36<44:47,  2.13s/it]"
     ]
    },
    {
     "name": "stderr",
     "output_type": "stream",
     "text": [
      "\r\n",
      " 48%|█████████████████████████████████████████████████████████████████████████████████████▊                                                                                             | 1150/2400 [40:57<44:32,  2.14s/it]"
     ]
    },
    {
     "name": "stderr",
     "output_type": "stream",
     "text": [
      "\r\n",
      " 48%|██████████████████████████████████████████████████████████████████████████████████████▌                                                                                            | 1160/2400 [41:19<44:08,  2.14s/it]"
     ]
    },
    {
     "name": "stderr",
     "output_type": "stream",
     "text": [
      "\r\n",
      " 49%|███████████████████████████████████████████████████████████████████████████████████████▎                                                                                           | 1170/2400 [41:40<43:48,  2.14s/it]"
     ]
    },
    {
     "name": "stderr",
     "output_type": "stream",
     "text": [
      "\r\n",
      " 49%|████████████████████████████████████████████████████████████████████████████████████████                                                                                           | 1180/2400 [42:01<43:23,  2.13s/it]"
     ]
    },
    {
     "name": "stderr",
     "output_type": "stream",
     "text": [
      "\r\n",
      " 50%|████████████████████████████████████████████████████████████████████████████████████████▊                                                                                          | 1190/2400 [42:23<42:58,  2.13s/it]"
     ]
    },
    {
     "name": "stderr",
     "output_type": "stream",
     "text": [
      "\r\n",
      " 50%|█████████████████████████████████████████████████████████████████████████████████████████▌                                                                                         | 1200/2400 [42:44<42:34,  2.13s/it]"
     ]
    },
    {
     "name": "stderr",
     "output_type": "stream",
     "text": [
      "\r\n",
      " 50%|██████████████████████████████████████████████████████████████████████████████████████████▏                                                                                        | 1210/2400 [43:05<42:21,  2.14s/it]"
     ]
    },
    {
     "name": "stderr",
     "output_type": "stream",
     "text": [
      "\r\n",
      " 51%|██████████████████████████████████████████████████████████████████████████████████████████▉                                                                                        | 1220/2400 [43:27<42:02,  2.14s/it]"
     ]
    },
    {
     "name": "stderr",
     "output_type": "stream",
     "text": [
      "\r\n",
      " 51%|███████████████████████████████████████████████████████████████████████████████████████████▋                                                                                       | 1230/2400 [43:48<41:34,  2.13s/it]"
     ]
    },
    {
     "name": "stderr",
     "output_type": "stream",
     "text": [
      "\r\n",
      " 52%|████████████████████████████████████████████████████████████████████████████████████████████▍                                                                                      | 1240/2400 [44:09<41:12,  2.13s/it]"
     ]
    },
    {
     "name": "stderr",
     "output_type": "stream",
     "text": [
      "\r\n",
      " 52%|█████████████████████████████████████████████████████████████████████████████████████████████▏                                                                                     | 1250/2400 [44:31<40:55,  2.14s/it]"
     ]
    },
    {
     "name": "stderr",
     "output_type": "stream",
     "text": [
      "\r\n",
      " 52%|█████████████████████████████████████████████████████████████████████████████████████████████▉                                                                                     | 1260/2400 [44:52<40:33,  2.13s/it]"
     ]
    },
    {
     "name": "stderr",
     "output_type": "stream",
     "text": [
      "\r\n",
      " 53%|██████████████████████████████████████████████████████████████████████████████████████████████▋                                                                                    | 1270/2400 [45:13<40:10,  2.13s/it]"
     ]
    },
    {
     "name": "stderr",
     "output_type": "stream",
     "text": [
      "\r\n",
      " 53%|███████████████████████████████████████████████████████████████████████████████████████████████▍                                                                                   | 1280/2400 [45:35<39:49,  2.13s/it]"
     ]
    },
    {
     "name": "stderr",
     "output_type": "stream",
     "text": [
      "\r\n",
      " 54%|████████████████████████████████████████████████████████████████████████████████████████████████▏                                                                                  | 1290/2400 [45:56<39:29,  2.13s/it]"
     ]
    },
    {
     "name": "stderr",
     "output_type": "stream",
     "text": [
      "\r\n",
      " 54%|████████████████████████████████████████████████████████████████████████████████████████████████▉                                                                                  | 1300/2400 [46:17<39:06,  2.13s/it]"
     ]
    },
    {
     "name": "stderr",
     "output_type": "stream",
     "text": [
      "\r\n",
      " 55%|█████████████████████████████████████████████████████████████████████████████████████████████████▋                                                                                 | 1310/2400 [46:39<38:43,  2.13s/it]"
     ]
    },
    {
     "name": "stderr",
     "output_type": "stream",
     "text": [
      "\r\n",
      " 55%|██████████████████████████████████████████████████████████████████████████████████████████████████▍                                                                                | 1320/2400 [47:00<38:25,  2.13s/it]"
     ]
    },
    {
     "name": "stderr",
     "output_type": "stream",
     "text": [
      "\r\n",
      " 55%|███████████████████████████████████████████████████████████████████████████████████████████████████▏                                                                               | 1330/2400 [47:21<38:03,  2.13s/it]"
     ]
    },
    {
     "name": "stderr",
     "output_type": "stream",
     "text": [
      "\r\n",
      " 56%|███████████████████████████████████████████████████████████████████████████████████████████████████▉                                                                               | 1340/2400 [47:43<37:46,  2.14s/it]"
     ]
    },
    {
     "name": "stderr",
     "output_type": "stream",
     "text": [
      "\r\n",
      " 56%|████████████████████████████████████████████████████████████████████████████████████████████████████▋                                                                              | 1350/2400 [48:04<37:23,  2.14s/it]"
     ]
    },
    {
     "name": "stderr",
     "output_type": "stream",
     "text": [
      "\r\n",
      " 57%|█████████████████████████████████████████████████████████████████████████████████████████████████████▍                                                                             | 1360/2400 [48:25<36:59,  2.13s/it]"
     ]
    },
    {
     "name": "stderr",
     "output_type": "stream",
     "text": [
      "\r\n",
      " 57%|██████████████████████████████████████████████████████████████████████████████████████████████████████▏                                                                            | 1370/2400 [48:47<36:37,  2.13s/it]"
     ]
    },
    {
     "name": "stderr",
     "output_type": "stream",
     "text": [
      "\r\n",
      " 57%|██████████████████████████████████████████████████████████████████████████████████████████████████████▉                                                                            | 1380/2400 [49:08<36:17,  2.13s/it]"
     ]
    },
    {
     "name": "stderr",
     "output_type": "stream",
     "text": [
      "\r\n",
      " 58%|███████████████████████████████████████████████████████████████████████████████████████████████████████▋                                                                           | 1390/2400 [49:30<35:56,  2.14s/it]"
     ]
    },
    {
     "name": "stderr",
     "output_type": "stream",
     "text": [
      "\r\n",
      " 58%|████████████████████████████████████████████████████████████████████████████████████████████████████████▍                                                                          | 1400/2400 [49:51<35:34,  2.13s/it]"
     ]
    },
    {
     "name": "stderr",
     "output_type": "stream",
     "text": [
      "\r\n",
      " 59%|█████████████████████████████████████████████████████████████████████████████████████████████████████████▏                                                                         | 1410/2400 [50:12<35:14,  2.14s/it]"
     ]
    },
    {
     "name": "stderr",
     "output_type": "stream",
     "text": [
      "\r\n",
      " 59%|█████████████████████████████████████████████████████████████████████████████████████████████████████████▉                                                                         | 1420/2400 [50:34<34:52,  2.13s/it]"
     ]
    },
    {
     "name": "stderr",
     "output_type": "stream",
     "text": [
      "\r\n",
      " 60%|██████████████████████████████████████████████████████████████████████████████████████████████████████████▋                                                                        | 1430/2400 [50:55<34:29,  2.13s/it]"
     ]
    },
    {
     "name": "stderr",
     "output_type": "stream",
     "text": [
      "\r\n",
      " 60%|███████████████████████████████████████████████████████████████████████████████████████████████████████████▍                                                                       | 1440/2400 [51:16<34:07,  2.13s/it]"
     ]
    },
    {
     "name": "stderr",
     "output_type": "stream",
     "text": [
      "\r\n",
      " 60%|████████████████████████████████████████████████████████████████████████████████████████████████████████████▏                                                                      | 1450/2400 [51:37<33:44,  2.13s/it]"
     ]
    },
    {
     "name": "stderr",
     "output_type": "stream",
     "text": [
      "\r\n",
      " 61%|████████████████████████████████████████████████████████████████████████████████████████████████████████████▉                                                                      | 1460/2400 [51:59<33:30,  2.14s/it]"
     ]
    },
    {
     "name": "stderr",
     "output_type": "stream",
     "text": [
      "\r\n",
      " 61%|█████████████████████████████████████████████████████████████████████████████████████████████████████████████▋                                                                     | 1470/2400 [52:20<33:06,  2.14s/it]"
     ]
    },
    {
     "name": "stderr",
     "output_type": "stream",
     "text": [
      "\r\n",
      " 62%|██████████████████████████████████████████████████████████████████████████████████████████████████████████████▍                                                                    | 1480/2400 [52:42<32:44,  2.14s/it]"
     ]
    },
    {
     "name": "stderr",
     "output_type": "stream",
     "text": [
      "\r\n",
      " 62%|███████████████████████████████████████████████████████████████████████████████████████████████████████████████▏                                                                   | 1490/2400 [53:03<32:27,  2.14s/it]"
     ]
    },
    {
     "name": "stderr",
     "output_type": "stream",
     "text": [
      "\r\n",
      " 62%|███████████████████████████████████████████████████████████████████████████████████████████████████████████████▉                                                                   | 1500/2400 [53:25<32:05,  2.14s/it]"
     ]
    },
    {
     "name": "stderr",
     "output_type": "stream",
     "text": [
      "\r\n",
      " 63%|████████████████████████████████████████████████████████████████████████████████████████████████████████████████▌                                                                  | 1510/2400 [53:46<31:45,  2.14s/it]"
     ]
    },
    {
     "name": "stderr",
     "output_type": "stream",
     "text": [
      "\r\n",
      " 63%|█████████████████████████████████████████████████████████████████████████████████████████████████████████████████▎                                                                 | 1520/2400 [54:07<31:21,  2.14s/it]"
     ]
    },
    {
     "name": "stderr",
     "output_type": "stream",
     "text": [
      "\r\n",
      " 64%|██████████████████████████████████████████████████████████████████████████████████████████████████████████████████                                                                 | 1530/2400 [54:29<30:55,  2.13s/it]"
     ]
    },
    {
     "name": "stderr",
     "output_type": "stream",
     "text": [
      "\r\n",
      " 64%|██████████████████████████████████████████████████████████████████████████████████████████████████████████████████▊                                                                | 1540/2400 [54:50<30:32,  2.13s/it]"
     ]
    },
    {
     "name": "stderr",
     "output_type": "stream",
     "text": [
      "\r\n",
      " 65%|███████████████████████████████████████████████████████████████████████████████████████████████████████████████████▌                                                               | 1550/2400 [55:11<30:08,  2.13s/it]"
     ]
    },
    {
     "name": "stderr",
     "output_type": "stream",
     "text": [
      "\r\n",
      " 65%|████████████████████████████████████████████████████████████████████████████████████████████████████████████████████▎                                                              | 1560/2400 [55:32<29:48,  2.13s/it]"
     ]
    },
    {
     "name": "stderr",
     "output_type": "stream",
     "text": [
      "\r\n",
      " 65%|█████████████████████████████████████████████████████████████████████████████████████████████████████████████████████                                                              | 1570/2400 [55:54<29:25,  2.13s/it]"
     ]
    },
    {
     "name": "stderr",
     "output_type": "stream",
     "text": [
      "\r\n",
      " 66%|█████████████████████████████████████████████████████████████████████████████████████████████████████████████████████▊                                                             | 1580/2400 [56:15<29:03,  2.13s/it]"
     ]
    },
    {
     "name": "stderr",
     "output_type": "stream",
     "text": [
      "\r\n",
      " 66%|██████████████████████████████████████████████████████████████████████████████████████████████████████████████████████▌                                                            | 1590/2400 [56:36<28:45,  2.13s/it]"
     ]
    },
    {
     "name": "stderr",
     "output_type": "stream",
     "text": [
      "\r\n",
      " 67%|███████████████████████████████████████████████████████████████████████████████████████████████████████████████████████▎                                                           | 1600/2400 [56:57<28:23,  2.13s/it]"
     ]
    },
    {
     "name": "stderr",
     "output_type": "stream",
     "text": [
      "\r\n",
      " 67%|████████████████████████████████████████████████████████████████████████████████████████████████████████████████████████                                                           | 1610/2400 [57:19<28:06,  2.13s/it]"
     ]
    },
    {
     "name": "stderr",
     "output_type": "stream",
     "text": [
      "\r\n",
      " 68%|████████████████████████████████████████████████████████████████████████████████████████████████████████████████████████▊                                                          | 1620/2400 [57:40<27:43,  2.13s/it]"
     ]
    },
    {
     "name": "stderr",
     "output_type": "stream",
     "text": [
      "\r\n",
      " 68%|█████████████████████████████████████████████████████████████████████████████████████████████████████████████████████████▌                                                         | 1630/2400 [58:02<27:23,  2.13s/it]"
     ]
    },
    {
     "name": "stderr",
     "output_type": "stream",
     "text": [
      "\r\n",
      " 68%|██████████████████████████████████████████████████████████████████████████████████████████████████████████████████████████▎                                                        | 1640/2400 [58:23<27:03,  2.14s/it]"
     ]
    },
    {
     "name": "stderr",
     "output_type": "stream",
     "text": [
      "\r\n",
      " 69%|███████████████████████████████████████████████████████████████████████████████████████████████████████████████████████████                                                        | 1650/2400 [58:44<26:43,  2.14s/it]"
     ]
    },
    {
     "name": "stderr",
     "output_type": "stream",
     "text": [
      "\r\n",
      " 69%|███████████████████████████████████████████████████████████████████████████████████████████████████████████████████████████▊                                                       | 1660/2400 [59:06<26:19,  2.14s/it]"
     ]
    },
    {
     "name": "stderr",
     "output_type": "stream",
     "text": [
      "\r\n",
      " 70%|████████████████████████████████████████████████████████████████████████████████████████████████████████████████████████████▌                                                      | 1670/2400 [59:27<25:56,  2.13s/it]"
     ]
    },
    {
     "name": "stderr",
     "output_type": "stream",
     "text": [
      "\r\n",
      " 70%|█████████████████████████████████████████████████████████████████████████████████████████████████████████████████████████████▎                                                     | 1680/2400 [59:48<25:35,  2.13s/it]"
     ]
    },
    {
     "name": "stderr",
     "output_type": "stream",
     "text": [
      "\r\n",
      " 70%|████████████████████████████████████████████████████████████████████████████████████████████████████████████████████████████▋                                                    | 1690/2400 [1:00:10<25:13,  2.13s/it]"
     ]
    },
    {
     "name": "stderr",
     "output_type": "stream",
     "text": [
      "\r\n",
      " 71%|█████████████████████████████████████████████████████████████████████████████████████████████████████████████████████████████▍                                                   | 1700/2400 [1:00:31<24:50,  2.13s/it]"
     ]
    },
    {
     "name": "stderr",
     "output_type": "stream",
     "text": [
      "\r\n",
      " 71%|██████████████████████████████████████████████████████████████████████████████████████████████████████████████████████████████                                                   | 1710/2400 [1:00:52<24:33,  2.14s/it]"
     ]
    },
    {
     "name": "stderr",
     "output_type": "stream",
     "text": [
      "\r\n",
      " 72%|██████████████████████████████████████████████████████████████████████████████████████████████████████████████████████████████▊                                                  | 1720/2400 [1:01:14<24:13,  2.14s/it]"
     ]
    },
    {
     "name": "stderr",
     "output_type": "stream",
     "text": [
      "\r\n",
      " 72%|███████████████████████████████████████████████████████████████████████████████████████████████████████████████████████████████▌                                                 | 1730/2400 [1:01:35<23:53,  2.14s/it]"
     ]
    },
    {
     "name": "stderr",
     "output_type": "stream",
     "text": [
      "\r\n",
      " 72%|████████████████████████████████████████████████████████████████████████████████████████████████████████████████████████████████▎                                                | 1740/2400 [1:01:57<23:33,  2.14s/it]"
     ]
    },
    {
     "name": "stderr",
     "output_type": "stream",
     "text": [
      "\r\n",
      " 73%|█████████████████████████████████████████████████████████████████████████████████████████████████████████████████████████████████                                                | 1750/2400 [1:02:18<23:09,  2.14s/it]"
     ]
    },
    {
     "name": "stderr",
     "output_type": "stream",
     "text": [
      "\r\n",
      " 73%|█████████████████████████████████████████████████████████████████████████████████████████████████████████████████████████████████▊                                               | 1760/2400 [1:02:39<22:45,  2.13s/it]"
     ]
    },
    {
     "name": "stderr",
     "output_type": "stream",
     "text": [
      "\r\n",
      " 74%|██████████████████████████████████████████████████████████████████████████████████████████████████████████████████████████████████▌                                              | 1770/2400 [1:03:01<22:26,  2.14s/it]"
     ]
    },
    {
     "name": "stderr",
     "output_type": "stream",
     "text": [
      "\r\n",
      " 74%|███████████████████████████████████████████████████████████████████████████████████████████████████████████████████████████████████▎                                             | 1780/2400 [1:03:22<22:03,  2.14s/it]"
     ]
    },
    {
     "name": "stderr",
     "output_type": "stream",
     "text": [
      "\r\n",
      " 75%|████████████████████████████████████████████████████████████████████████████████████████████████████████████████████████████████████                                             | 1790/2400 [1:03:43<21:43,  2.14s/it]"
     ]
    },
    {
     "name": "stderr",
     "output_type": "stream",
     "text": [
      "\r\n",
      " 75%|████████████████████████████████████████████████████████████████████████████████████████████████████████████████████████████████████▊                                            | 1800/2400 [1:04:05<21:20,  2.13s/it]"
     ]
    },
    {
     "name": "stderr",
     "output_type": "stream",
     "text": [
      "\r\n",
      " 75%|█████████████████████████████████████████████████████████████████████████████████████████████████████████████████████████████████████▍                                           | 1810/2400 [1:04:26<21:00,  2.14s/it]"
     ]
    },
    {
     "name": "stderr",
     "output_type": "stream",
     "text": [
      "\r\n",
      " 76%|██████████████████████████████████████████████████████████████████████████████████████████████████████████████████████████████████████▏                                          | 1820/2400 [1:04:47<20:39,  2.14s/it]"
     ]
    },
    {
     "name": "stderr",
     "output_type": "stream",
     "text": [
      "\r\n",
      " 76%|██████████████████████████████████████████████████████████████████████████████████████████████████████████████████████████████████████▉                                          | 1830/2400 [1:05:09<20:21,  2.14s/it]"
     ]
    },
    {
     "name": "stderr",
     "output_type": "stream",
     "text": [
      "\r\n",
      " 77%|███████████████████████████████████████████████████████████████████████████████████████████████████████████████████████████████████████▋                                         | 1840/2400 [1:05:30<19:57,  2.14s/it]"
     ]
    },
    {
     "name": "stderr",
     "output_type": "stream",
     "text": [
      "\r\n",
      " 77%|████████████████████████████████████████████████████████████████████████████████████████████████████████████████████████████████████████▍                                        | 1850/2400 [1:05:52<19:36,  2.14s/it]"
     ]
    },
    {
     "name": "stderr",
     "output_type": "stream",
     "text": [
      "\r\n",
      " 78%|█████████████████████████████████████████████████████████████████████████████████████████████████████████████████████████████████████████▏                                       | 1860/2400 [1:06:13<19:13,  2.14s/it]"
     ]
    },
    {
     "name": "stderr",
     "output_type": "stream",
     "text": [
      "\r\n",
      " 78%|█████████████████████████████████████████████████████████████████████████████████████████████████████████████████████████████████████████▉                                       | 1870/2400 [1:06:34<18:51,  2.13s/it]"
     ]
    },
    {
     "name": "stderr",
     "output_type": "stream",
     "text": [
      "\r\n",
      " 78%|██████████████████████████████████████████████████████████████████████████████████████████████████████████████████████████████████████████▋                                      | 1880/2400 [1:06:56<18:29,  2.13s/it]"
     ]
    },
    {
     "name": "stderr",
     "output_type": "stream",
     "text": [
      "\r\n",
      " 79%|███████████████████████████████████████████████████████████████████████████████████████████████████████████████████████████████████████████▍                                     | 1890/2400 [1:07:17<18:07,  2.13s/it]"
     ]
    },
    {
     "name": "stderr",
     "output_type": "stream",
     "text": [
      "\r\n",
      " 79%|████████████████████████████████████████████████████████████████████████████████████████████████████████████████████████████████████████████▏                                    | 1900/2400 [1:07:38<17:46,  2.13s/it]"
     ]
    },
    {
     "name": "stderr",
     "output_type": "stream",
     "text": [
      "\r\n",
      " 80%|████████████████████████████████████████████████████████████████████████████████████████████████████████████████████████████████████████████▊                                    | 1910/2400 [1:08:00<17:25,  2.13s/it]"
     ]
    },
    {
     "name": "stderr",
     "output_type": "stream",
     "text": [
      "\r\n",
      " 80%|█████████████████████████████████████████████████████████████████████████████████████████████████████████████████████████████████████████████▌                                   | 1920/2400 [1:08:21<17:04,  2.13s/it]"
     ]
    },
    {
     "name": "stderr",
     "output_type": "stream",
     "text": [
      "\r\n",
      " 80%|██████████████████████████████████████████████████████████████████████████████████████████████████████████████████████████████████████████████▎                                  | 1930/2400 [1:08:42<16:41,  2.13s/it]"
     ]
    },
    {
     "name": "stderr",
     "output_type": "stream",
     "text": [
      "\r\n",
      " 81%|███████████████████████████████████████████████████████████████████████████████████████████████████████████████████████████████████████████████                                  | 1940/2400 [1:09:04<16:23,  2.14s/it]"
     ]
    },
    {
     "name": "stderr",
     "output_type": "stream",
     "text": [
      "\r\n",
      " 81%|███████████████████████████████████████████████████████████████████████████████████████████████████████████████████████████████████████████████▊                                 | 1950/2400 [1:09:25<16:00,  2.14s/it]"
     ]
    },
    {
     "name": "stderr",
     "output_type": "stream",
     "text": [
      "\r\n",
      " 82%|████████████████████████████████████████████████████████████████████████████████████████████████████████████████████████████████████████████████▌                                | 1960/2400 [1:09:46<15:39,  2.14s/it]"
     ]
    },
    {
     "name": "stderr",
     "output_type": "stream",
     "text": [
      "\r\n",
      " 82%|█████████████████████████████████████████████████████████████████████████████████████████████████████████████████████████████████████████████████▎                               | 1970/2400 [1:10:08<15:18,  2.14s/it]"
     ]
    },
    {
     "name": "stderr",
     "output_type": "stream",
     "text": [
      "\r\n",
      " 82%|██████████████████████████████████████████████████████████████████████████████████████████████████████████████████████████████████████████████████                               | 1980/2400 [1:10:29<14:57,  2.14s/it]"
     ]
    },
    {
     "name": "stderr",
     "output_type": "stream",
     "text": [
      "\r\n",
      " 83%|██████████████████████████████████████████████████████████████████████████████████████████████████████████████████████████████████████████████████▊                              | 1990/2400 [1:10:50<14:36,  2.14s/it]"
     ]
    },
    {
     "name": "stderr",
     "output_type": "stream",
     "text": [
      "\r\n",
      " 83%|███████████████████████████████████████████████████████████████████████████████████████████████████████████████████████████████████████████████████▌                             | 2000/2400 [1:11:12<14:14,  2.14s/it]"
     ]
    },
    {
     "name": "stderr",
     "output_type": "stream",
     "text": [
      "\r\n",
      " 84%|████████████████████████████████████████████████████████████████████████████████████████████████████████████████████████████████████████████████████▏                            | 2010/2400 [1:11:33<13:54,  2.14s/it]"
     ]
    },
    {
     "name": "stderr",
     "output_type": "stream",
     "text": [
      "\r\n",
      " 84%|████████████████████████████████████████████████████████████████████████████████████████████████████████████████████████████████████████████████████▉                            | 2020/2400 [1:11:55<13:31,  2.14s/it]"
     ]
    },
    {
     "name": "stderr",
     "output_type": "stream",
     "text": [
      "\r\n",
      " 85%|█████████████████████████████████████████████████████████████████████████████████████████████████████████████████████████████████████████████████████▋                           | 2030/2400 [1:12:16<13:11,  2.14s/it]"
     ]
    },
    {
     "name": "stderr",
     "output_type": "stream",
     "text": [
      "\r\n",
      " 85%|██████████████████████████████████████████████████████████████████████████████████████████████████████████████████████████████████████████████████████▍                          | 2040/2400 [1:12:37<12:49,  2.14s/it]"
     ]
    },
    {
     "name": "stderr",
     "output_type": "stream",
     "text": [
      "\r\n",
      " 85%|███████████████████████████████████████████████████████████████████████████████████████████████████████████████████████████████████████████████████████▏                         | 2050/2400 [1:12:59<12:28,  2.14s/it]"
     ]
    },
    {
     "name": "stderr",
     "output_type": "stream",
     "text": [
      "\r\n",
      " 86%|███████████████████████████████████████████████████████████████████████████████████████████████████████████████████████████████████████████████████████▉                         | 2060/2400 [1:13:20<12:07,  2.14s/it]"
     ]
    },
    {
     "name": "stderr",
     "output_type": "stream",
     "text": [
      "\r\n",
      " 86%|████████████████████████████████████████████████████████████████████████████████████████████████████████████████████████████████████████████████████████▋                        | 2070/2400 [1:13:42<11:47,  2.14s/it]"
     ]
    },
    {
     "name": "stderr",
     "output_type": "stream",
     "text": [
      "\r\n",
      " 87%|█████████████████████████████████████████████████████████████████████████████████████████████████████████████████████████████████████████████████████████▍                       | 2080/2400 [1:14:03<11:26,  2.15s/it]"
     ]
    },
    {
     "name": "stderr",
     "output_type": "stream",
     "text": [
      "\r\n",
      " 87%|██████████████████████████████████████████████████████████████████████████████████████████████████████████████████████████████████████████████████████████▏                      | 2090/2400 [1:14:25<11:04,  2.14s/it]"
     ]
    },
    {
     "name": "stderr",
     "output_type": "stream",
     "text": [
      "\r\n",
      " 88%|██████████████████████████████████████████████████████████████████████████████████████████████████████████████████████████████████████████████████████████▉                      | 2100/2400 [1:14:46<10:42,  2.14s/it]"
     ]
    },
    {
     "name": "stderr",
     "output_type": "stream",
     "text": [
      "\r\n",
      " 88%|███████████████████████████████████████████████████████████████████████████████████████████████████████████████████████████████████████████████████████████▌                     | 2110/2400 [1:15:07<10:21,  2.14s/it]"
     ]
    },
    {
     "name": "stderr",
     "output_type": "stream",
     "text": [
      "\r\n",
      " 88%|████████████████████████████████████████████████████████████████████████████████████████████████████████████████████████████████████████████████████████████▎                    | 2120/2400 [1:15:29<09:59,  2.14s/it]"
     ]
    },
    {
     "name": "stderr",
     "output_type": "stream",
     "text": [
      "\r\n",
      " 89%|█████████████████████████████████████████████████████████████████████████████████████████████████████████████████████████████████████████████████████████████                    | 2130/2400 [1:15:50<09:38,  2.14s/it]"
     ]
    },
    {
     "name": "stderr",
     "output_type": "stream",
     "text": [
      "\r\n",
      " 89%|█████████████████████████████████████████████████████████████████████████████████████████████████████████████████████████████████████████████████████████████▊                   | 2140/2400 [1:16:12<09:16,  2.14s/it]"
     ]
    },
    {
     "name": "stderr",
     "output_type": "stream",
     "text": [
      "\r\n",
      " 90%|██████████████████████████████████████████████████████████████████████████████████████████████████████████████████████████████████████████████████████████████▌                  | 2150/2400 [1:16:33<08:55,  2.14s/it]"
     ]
    },
    {
     "name": "stderr",
     "output_type": "stream",
     "text": [
      "\r\n",
      " 90%|███████████████████████████████████████████████████████████████████████████████████████████████████████████████████████████████████████████████████████████████▎                 | 2160/2400 [1:16:54<08:33,  2.14s/it]"
     ]
    },
    {
     "name": "stderr",
     "output_type": "stream",
     "text": [
      "\r\n",
      " 90%|████████████████████████████████████████████████████████████████████████████████████████████████████████████████████████████████████████████████████████████████                 | 2170/2400 [1:17:16<08:11,  2.14s/it]"
     ]
    },
    {
     "name": "stderr",
     "output_type": "stream",
     "text": [
      "\r\n",
      " 91%|████████████████████████████████████████████████████████████████████████████████████████████████████████████████████████████████████████████████████████████████▊                | 2180/2400 [1:17:37<07:50,  2.14s/it]"
     ]
    },
    {
     "name": "stderr",
     "output_type": "stream",
     "text": [
      "\r\n",
      " 91%|█████████████████████████████████████████████████████████████████████████████████████████████████████████████████████████████████████████████████████████████████▌               | 2190/2400 [1:17:58<07:28,  2.14s/it]"
     ]
    },
    {
     "name": "stderr",
     "output_type": "stream",
     "text": [
      "\r\n",
      " 92%|██████████████████████████████████████████████████████████████████████████████████████████████████████████████████████████████████████████████████████████████████▎              | 2200/2400 [1:18:20<07:06,  2.13s/it]"
     ]
    },
    {
     "name": "stderr",
     "output_type": "stream",
     "text": [
      "\r\n",
      " 92%|██████████████████████████████████████████████████████████████████████████████████████████████████████████████████████████████████████████████████████████████████▉              | 2210/2400 [1:18:41<06:46,  2.14s/it]"
     ]
    },
    {
     "name": "stderr",
     "output_type": "stream",
     "text": [
      "\r\n",
      " 92%|███████████████████████████████████████████████████████████████████████████████████████████████████████████████████████████████████████████████████████████████████▋             | 2220/2400 [1:19:03<06:25,  2.14s/it]"
     ]
    },
    {
     "name": "stderr",
     "output_type": "stream",
     "text": [
      "\r\n",
      " 93%|████████████████████████████████████████████████████████████████████████████████████████████████████████████████████████████████████████████████████████████████████▍            | 2230/2400 [1:19:24<06:03,  2.14s/it]"
     ]
    },
    {
     "name": "stderr",
     "output_type": "stream",
     "text": [
      "\r\n",
      " 93%|█████████████████████████████████████████████████████████████████████████████████████████████████████████████████████████████████████████████████████████████████████▏           | 2240/2400 [1:19:45<05:41,  2.13s/it]"
     ]
    },
    {
     "name": "stderr",
     "output_type": "stream",
     "text": [
      "\r\n",
      " 94%|█████████████████████████████████████████████████████████████████████████████████████████████████████████████████████████████████████████████████████████████████████▉           | 2250/2400 [1:20:06<05:19,  2.13s/it]"
     ]
    },
    {
     "name": "stderr",
     "output_type": "stream",
     "text": [
      "\r\n",
      " 94%|██████████████████████████████████████████████████████████████████████████████████████████████████████████████████████████████████████████████████████████████████████▋          | 2260/2400 [1:20:28<04:58,  2.13s/it]"
     ]
    },
    {
     "name": "stderr",
     "output_type": "stream",
     "text": [
      "\r\n",
      " 95%|███████████████████████████████████████████████████████████████████████████████████████████████████████████████████████████████████████████████████████████████████████▍         | 2270/2400 [1:20:49<04:35,  2.12s/it]"
     ]
    },
    {
     "name": "stderr",
     "output_type": "stream",
     "text": [
      "\r\n",
      " 95%|████████████████████████████████████████████████████████████████████████████████████████████████████████████████████████████████████████████████████████████████████████▏        | 2280/2400 [1:21:10<04:14,  2.12s/it]"
     ]
    },
    {
     "name": "stderr",
     "output_type": "stream",
     "text": [
      "\r\n",
      " 95%|████████████████████████████████████████████████████████████████████████████████████████████████████████████████████████████████████████████████████████████████████████▉        | 2290/2400 [1:21:31<03:53,  2.12s/it]"
     ]
    },
    {
     "name": "stderr",
     "output_type": "stream",
     "text": [
      "\r\n",
      " 96%|█████████████████████████████████████████████████████████████████████████████████████████████████████████████████████████████████████████████████████████████████████████▋       | 2300/2400 [1:21:52<03:32,  2.12s/it]"
     ]
    },
    {
     "name": "stderr",
     "output_type": "stream",
     "text": [
      "\r\n",
      " 96%|██████████████████████████████████████████████████████████████████████████████████████████████████████████████████████████████████████████████████████████████████████████▎      | 2310/2400 [1:22:14<03:11,  2.12s/it]"
     ]
    },
    {
     "name": "stderr",
     "output_type": "stream",
     "text": [
      "\r\n",
      " 97%|███████████████████████████████████████████████████████████████████████████████████████████████████████████████████████████████████████████████████████████████████████████      | 2320/2400 [1:22:35<02:49,  2.12s/it]"
     ]
    },
    {
     "name": "stderr",
     "output_type": "stream",
     "text": [
      "\r\n",
      " 97%|███████████████████████████████████████████████████████████████████████████████████████████████████████████████████████████████████████████████████████████████████████████▊     | 2330/2400 [1:22:57<02:29,  2.13s/it]"
     ]
    },
    {
     "name": "stderr",
     "output_type": "stream",
     "text": [
      "\r\n",
      " 98%|████████████████████████████████████████████████████████████████████████████████████████████████████████████████████████████████████████████████████████████████████████████▌    | 2340/2400 [1:23:18<02:08,  2.14s/it]"
     ]
    },
    {
     "name": "stderr",
     "output_type": "stream",
     "text": [
      "\r\n",
      " 98%|█████████████████████████████████████████████████████████████████████████████████████████████████████████████████████████████████████████████████████████████████████████████▎   | 2350/2400 [1:23:39<01:46,  2.13s/it]"
     ]
    },
    {
     "name": "stderr",
     "output_type": "stream",
     "text": [
      "\r\n",
      " 98%|██████████████████████████████████████████████████████████████████████████████████████████████████████████████████████████████████████████████████████████████████████████████   | 2360/2400 [1:24:00<01:25,  2.13s/it]"
     ]
    },
    {
     "name": "stderr",
     "output_type": "stream",
     "text": [
      "\r\n",
      " 99%|██████████████████████████████████████████████████████████████████████████████████████████████████████████████████████████████████████████████████████████████████████████████▊  | 2370/2400 [1:24:22<01:03,  2.13s/it]"
     ]
    },
    {
     "name": "stderr",
     "output_type": "stream",
     "text": [
      "\r\n",
      " 99%|███████████████████████████████████████████████████████████████████████████████████████████████████████████████████████████████████████████████████████████████████████████████▌ | 2380/2400 [1:24:43<00:42,  2.12s/it]"
     ]
    },
    {
     "name": "stderr",
     "output_type": "stream",
     "text": [
      "\r\n",
      "100%|████████████████████████████████████████████████████████████████████████████████████████████████████████████████████████████████████████████████████████████████████████████████▎| 2390/2400 [1:25:04<00:21,  2.12s/it]"
     ]
    },
    {
     "name": "stderr",
     "output_type": "stream",
     "text": [
      "\r\n",
      "100%|█████████████████████████████████████████████████████████████████████████████████████████████████████████████████████████████████████████████████████████████████████████████████| 2400/2400 [1:25:25<00:00,  2.13s/it]"
     ]
    },
    {
     "name": "stderr",
     "output_type": "stream",
     "text": [
      "\r\n",
      "100%|█████████████████████████████████████████████████████████████████████████████████████████████████████████████████████████████████████████████████████████████████████████████████| 2400/2400 [1:25:25<00:00,  2.14s/it]"
     ]
    },
    {
     "name": "stderr",
     "output_type": "stream",
     "text": [
      "\n"
     ]
    }
   ],
   "source": [
    "# Params\n",
    "np.random.seed(42)\n",
    "genes_to_survey = adatas[0].var_names\n",
    "sim_time = .5\n",
    "\n",
    "# Mute warnings (array wrap and indexing)\n",
    "import warnings\n",
    "warnings.simplefilter('ignore')\n",
    "\n",
    "# Create anndata\n",
    "ad_pert = ad.AnnData(obs=adatas[0].obs, var=pd.DataFrame(index=[f'Feature {i}' for i in range(env.dim)]))\n",
    "# ad_pert0 = ad.AnnData(obs=adatas[0].obs, var=adatas[0].var)\n",
    "# ad_pert1 = ad.AnnData(obs=adatas[1].obs, var=adatas[1].var)\n",
    "def add_layers(states, gene):\n",
    "    ad_pert.layers[gene] = states\n",
    "    # ad_pert0.layers[gene] = states_0\n",
    "    # ad_pert1.layers[gene] = states_1\n",
    "\n",
    "# Add results\n",
    "results = []\n",
    "def add_record(states, states_0, states_1, gene, ct):\n",
    "    results.append({\n",
    "        'Gene': gene, 'Cell Type': ct,\n",
    "        'Effect Size (Latent)': np.square(states[-1] - states[0]).mean(),\n",
    "        'Trajectory Length (Latent)': np.square(states[1:] - states[:-1]).mean(axis=(-2, -1)).sum(),\n",
    "        'Effect Size (Modality 0)': np.square(states_0[-1] - states_0[0]).mean(),\n",
    "        'Trajectory Length (Modality 0)': np.square(states_0[1:] - states_0[:-1]).mean(axis=(-2, -1)).sum(),\n",
    "        'Effect Size (Modality 1)': np.square(states_1[-1] - states_1[0]).mean(),\n",
    "        'Trajectory Length (Modality 1)': np.square(states_1[1:] - states_1[:-1]).mean(axis=(-2, -1)).sum()})\n",
    "    \n",
    "# Reset function\n",
    "def reset_env(env, steady_pos, steady_vel):\n",
    "    env.set_max_time(sim_time).reset()  # TODO: Maybe longer?, early stopping?\n",
    "    env.set_positions(steady_pos)\n",
    "    env.set_velocities(steady_vel)  # Maybe 0 manually?\n",
    "\n",
    "# Running function\n",
    "def run_and_record(samples, env, policy, preprocessing, gene):\n",
    "    # Run and impute\n",
    "    states = celltrip.train.simulate_until_completion(env, policy, store_states='cpu')[-1]\n",
    "    states_pos = states[..., :env.dim]\n",
    "    with torch.no_grad():\n",
    "        imputed_states_0 = policy.pinning[0](states_pos.to('cuda')).detach().cpu().numpy()\n",
    "        imputed_states_1 = policy.pinning[1](states_pos.to('cuda')).detach().cpu().numpy()\n",
    "    imputed_states_0, = preprocessing.inverse_transform(imputed_states_0, subset_modality=0)\n",
    "    imputed_states_1, = preprocessing.inverse_transform(imputed_states_1, subset_modality=1)\n",
    "    # Record\n",
    "    add_layers(states_pos.numpy()[-1], gene)  # , imputed_states_0[-1], imputed_states_1[-1]\n",
    "    add_record(states_pos.numpy(), imputed_states_0, imputed_states_1, gene, 'All')\n",
    "    for ct in adatas[0][samples].obs['traj_sim'].unique():\n",
    "        add_record(\n",
    "            states_pos[:, adatas[0][samples].obs['traj_sim']==ct].numpy(),\n",
    "            imputed_states_0[:, adatas[0][samples].obs['traj_sim']==ct],\n",
    "            imputed_states_1[:, adatas[0][samples].obs['traj_sim']==ct],\n",
    "            gene, ct)\n",
    "\n",
    "# Subset and preprocess the data\n",
    "samples = adatas[0].obs.index\n",
    "raw_m1 = celltrip.utility.processing.chunk_X(adatas[0][samples], chunk_size=2_000)\n",
    "m1, m2 = [\n",
    "    celltrip.utility.processing.chunk_X(\n",
    "        ad[samples], chunk_size=2_000,\n",
    "        func=lambda x: preprocessing.transform(x, subset_modality=i)[0])\n",
    "        for i, ad in enumerate(adatas)]\n",
    "\n",
    "# Initialize environment\n",
    "env = celltrip.environment.EnvironmentBase(\n",
    "    torch.tensor(m1), torch.tensor(m2), compute_rewards=False, dim=8).eval(time_scale=1).to('cuda')\n",
    "\n",
    "# Simulate to steady state\n",
    "env.reset()\n",
    "celltrip.train.simulate_until_completion(env, policy)\n",
    "steady_pos, steady_vel = (env.pos, env.vel)\n",
    "\n",
    "# Run control\n",
    "reset_env(env, steady_pos, steady_vel)\n",
    "add_layers(steady_pos.cpu().numpy(), 'Steady')\n",
    "run_and_record(samples, env, policy, preprocessing, 'Control')\n",
    "\n",
    "# Perturb\n",
    "for gene in tqdm.tqdm(genes_to_survey, miniters=10, maxinterval=30):\n",
    "    # Get gene idx and reset environment\n",
    "    gene_idx = np.argwhere(adatas[0].var_names==gene).flatten()\n",
    "    reset_env(env, steady_pos, steady_vel)\n",
    "\n",
    "    # Apply knockdown\n",
    "    # iso_modality, = preprocessing.transform(raw_m1, subset_features=gene_idx, subset_modality=0)\n",
    "    iso_modality = celltrip.utility.processing.chunk(\n",
    "        raw_m1, chunk_size=2_000, func=lambda x: preprocessing.transform(x, subset_features=[0], subset_modality=0)[0])\n",
    "    iso_modality = torch.tensor(iso_modality).to(env.device)\n",
    "    env.modalities[0] = env.modalities[0] - (iso_modality - 0*iso_modality)\n",
    "\n",
    "    # Simulate and record\n",
    "    run_and_record(samples, env, policy, preprocessing, gene)\n",
    "\n",
    "# Convert and save\n",
    "pd.DataFrame(results).to_csv('../plots/dyngen/knockdown.csv', index=None)\n",
    "ad_pert.write_h5ad('../plots/dyngen/knockdown_results.h5ad')\n",
    "# ad_pert0.write_h5ad('../plots/dyngen/knockdown_results_modality_0.csv')\n",
    "# ad_pert1.write_h5ad('../plots/dyngen/knockdown_results_modality_1.csv')\n"
   ]
  },
  {
   "cell_type": "code",
   "execution_count": null,
   "id": "91dd0a3c",
   "metadata": {},
   "outputs": [],
   "source": [
    "# knockdown = pd.read_csv('../plots/dyngen/knockdown.csv', index_col=None)\n",
    "# # knockdown.groupby(['Gene', 'Cell Type']).first().head(30)\n",
    "# ad_pert = ad.read_h5ad('../plots/dyngen/knockdown_results.h5ad')\n",
    "# ad_pert"
   ]
  }
 ],
 "metadata": {
  "kernelspec": {
   "display_name": "ct",
   "language": "python",
   "name": "python3"
  },
  "language_info": {
   "codemirror_mode": {
    "name": "ipython",
    "version": 3
   },
   "file_extension": ".py",
   "mimetype": "text/x-python",
   "name": "python",
   "nbconvert_exporter": "python",
   "pygments_lexer": "ipython3",
   "version": "3.10.16"
  }
 },
 "nbformat": 4,
 "nbformat_minor": 5
}
