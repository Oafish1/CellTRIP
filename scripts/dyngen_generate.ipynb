{
 "cells": [
  {
   "cell_type": "code",
   "execution_count": 1,
   "id": "1bc6db96",
   "metadata": {
    "execution": {
     "iopub.execute_input": "2025-09-29T07:27:57.038978Z",
     "iopub.status.busy": "2025-09-29T07:27:57.038751Z",
     "iopub.status.idle": "2025-09-29T07:27:57.051749Z",
     "shell.execute_reply": "2025-09-29T07:27:57.051327Z"
    }
   },
   "outputs": [],
   "source": [
    "%load_ext autoreload\n",
    "%autoreload 2\n"
   ]
  },
  {
   "cell_type": "code",
   "execution_count": 2,
   "id": "b2754518",
   "metadata": {
    "execution": {
     "iopub.execute_input": "2025-09-29T07:27:57.053299Z",
     "iopub.status.busy": "2025-09-29T07:27:57.053153Z",
     "iopub.status.idle": "2025-09-29T07:27:59.841230Z",
     "shell.execute_reply": "2025-09-29T07:27:59.840715Z"
    }
   },
   "outputs": [],
   "source": [
    "import os\n",
    "\n",
    "import anndata as ad\n",
    "import numpy as np\n",
    "import pandas as pd\n",
    "import sklearn\n",
    "import torch\n",
    "import tqdm\n",
    "\n",
    "import celltrip\n",
    "\n",
    "os.environ['AWS_PROFILE'] = 'waisman-admin'\n"
   ]
  },
  {
   "cell_type": "markdown",
   "id": "5a1aac9c",
   "metadata": {},
   "source": [
    "# Load Data and Policy"
   ]
  },
  {
   "cell_type": "code",
   "execution_count": 3,
   "id": "6367c9c1",
   "metadata": {
    "execution": {
     "iopub.execute_input": "2025-09-29T07:27:59.843313Z",
     "iopub.status.busy": "2025-09-29T07:27:59.843119Z",
     "iopub.status.idle": "2025-09-29T07:28:04.198388Z",
     "shell.execute_reply": "2025-09-29T07:28:04.197918Z"
    }
   },
   "outputs": [],
   "source": [
    "# Read data files\n",
    "# adata_prefix = 's3://nkalafut-celltrip/Dyngen'\n",
    "adata_prefix = '../data/Dyngen'\n",
    "adatas = celltrip.utility.processing.read_adatas(\n",
    "    's3://nkalafut-celltrip/dyngen/logcounts.h5ad',\n",
    "    's3://nkalafut-celltrip/dyngen/counts_protein.h5ad',\n",
    "    backed=True)\n",
    "# Model location and name (should be prefix for .weights, .pre, and .mask file)\n",
    "prefix, training_step = 's3://nkalafut-celltrip/checkpoints/Dyngen-250920', 800\n",
    "# Generate or load preprocessing\n",
    "preprocessing = celltrip.utility.processing.Preprocessing().load(f'{prefix}.pre')\n",
    "with celltrip.utility.general.open_s3_or_local(f'{prefix}.mask', 'rb') as f:\n",
    "    mask = np.loadtxt(f).astype(bool)\n",
    "adatas[0].obs['Training'] = mask\n",
    "# Create sample env (kind of a dumb workaround, TODO)\n",
    "m1, m2 = [preprocessing.transform(ad[:2].X, subset_modality=i)[0] for i, ad in enumerate(adatas)]\n",
    "env = celltrip.environment.EnvironmentBase(\n",
    "    torch.tensor(m1), torch.tensor(m2), compute_rewards=False, dim=8).eval().to('cuda')\n",
    "# Load policy\n",
    "policy = celltrip.policy.create_agent_from_env(\n",
    "    env, forward_batch_size=1_000, vision_size=1_000).eval().to('cuda')\n",
    "policy.load_checkpoint(f'{prefix}-{training_step:04}.weights');\n"
   ]
  },
  {
   "cell_type": "markdown",
   "id": "f37705ce",
   "metadata": {},
   "source": [
    "# Perform Knockdown"
   ]
  },
  {
   "cell_type": "code",
   "execution_count": null,
   "id": "fca63f76",
   "metadata": {
    "execution": {
     "iopub.execute_input": "2025-09-29T07:28:04.200554Z",
     "iopub.status.busy": "2025-09-29T07:28:04.200220Z",
     "iopub.status.idle": "2025-09-29T09:24:07.239935Z",
     "shell.execute_reply": "2025-09-29T09:24:07.239441Z"
    }
   },
   "outputs": [
    {
     "name": "stderr",
     "output_type": "stream",
     "text": [
      "\r\n",
      "  0%|                                                                                                                                                                                              | 0/2400 [00:00<?, ?it/s]"
     ]
    },
    {
     "name": "stderr",
     "output_type": "stream",
     "text": [
      "\r\n",
      "  0%|▋                                                                                                                                                                                  | 10/2400 [00:29<1:56:29,  2.92s/it]"
     ]
    },
    {
     "name": "stderr",
     "output_type": "stream",
     "text": [
      "\r\n",
      "  1%|█▍                                                                                                                                                                                 | 20/2400 [00:58<1:55:42,  2.92s/it]"
     ]
    },
    {
     "name": "stderr",
     "output_type": "stream",
     "text": [
      "\r\n",
      "  1%|██▏                                                                                                                                                                                | 30/2400 [01:27<1:55:21,  2.92s/it]"
     ]
    },
    {
     "name": "stderr",
     "output_type": "stream",
     "text": [
      "\r\n",
      "  2%|██▉                                                                                                                                                                                | 40/2400 [01:56<1:54:44,  2.92s/it]"
     ]
    },
    {
     "name": "stderr",
     "output_type": "stream",
     "text": [
      "\r\n",
      "  2%|███▋                                                                                                                                                                               | 50/2400 [02:25<1:54:08,  2.91s/it]"
     ]
    },
    {
     "name": "stderr",
     "output_type": "stream",
     "text": [
      "\r\n",
      "  2%|████▍                                                                                                                                                                              | 60/2400 [02:54<1:53:41,  2.91s/it]"
     ]
    },
    {
     "name": "stderr",
     "output_type": "stream",
     "text": [
      "\r\n",
      "  3%|█████▏                                                                                                                                                                             | 70/2400 [03:24<1:53:06,  2.91s/it]"
     ]
    },
    {
     "name": "stderr",
     "output_type": "stream",
     "text": [
      "\r\n",
      "  3%|█████▉                                                                                                                                                                             | 80/2400 [03:53<1:52:36,  2.91s/it]"
     ]
    },
    {
     "name": "stderr",
     "output_type": "stream",
     "text": [
      "\r\n",
      "  4%|██████▋                                                                                                                                                                            | 90/2400 [04:22<1:51:57,  2.91s/it]"
     ]
    },
    {
     "name": "stderr",
     "output_type": "stream",
     "text": [
      "\r\n",
      "  4%|███████▍                                                                                                                                                                          | 100/2400 [04:51<1:51:25,  2.91s/it]"
     ]
    },
    {
     "name": "stderr",
     "output_type": "stream",
     "text": [
      "\r\n",
      "  5%|████████▏                                                                                                                                                                         | 110/2400 [05:20<1:51:03,  2.91s/it]"
     ]
    },
    {
     "name": "stderr",
     "output_type": "stream",
     "text": [
      "\r\n",
      "  5%|████████▉                                                                                                                                                                         | 120/2400 [05:49<1:50:30,  2.91s/it]"
     ]
    },
    {
     "name": "stderr",
     "output_type": "stream",
     "text": [
      "\r\n",
      "  5%|█████████▋                                                                                                                                                                        | 130/2400 [06:18<1:50:04,  2.91s/it]"
     ]
    },
    {
     "name": "stderr",
     "output_type": "stream",
     "text": [
      "\r\n",
      "  6%|██████████▍                                                                                                                                                                       | 140/2400 [06:47<1:49:31,  2.91s/it]"
     ]
    },
    {
     "name": "stderr",
     "output_type": "stream",
     "text": [
      "\r\n",
      "  6%|███████████▏                                                                                                                                                                      | 150/2400 [07:16<1:49:07,  2.91s/it]"
     ]
    },
    {
     "name": "stderr",
     "output_type": "stream",
     "text": [
      "\r\n",
      "  7%|███████████▊                                                                                                                                                                      | 160/2400 [07:45<1:48:35,  2.91s/it]"
     ]
    },
    {
     "name": "stderr",
     "output_type": "stream",
     "text": [
      "\r\n",
      "  7%|████████████▌                                                                                                                                                                     | 170/2400 [08:14<1:48:03,  2.91s/it]"
     ]
    },
    {
     "name": "stderr",
     "output_type": "stream",
     "text": [
      "\r\n",
      "  8%|█████████████▎                                                                                                                                                                    | 180/2400 [08:43<1:47:32,  2.91s/it]"
     ]
    },
    {
     "name": "stderr",
     "output_type": "stream",
     "text": [
      "\r\n",
      "  8%|██████████████                                                                                                                                                                    | 190/2400 [09:12<1:47:01,  2.91s/it]"
     ]
    },
    {
     "name": "stderr",
     "output_type": "stream",
     "text": [
      "\r\n",
      "  8%|██████████████▊                                                                                                                                                                   | 200/2400 [09:42<1:46:35,  2.91s/it]"
     ]
    },
    {
     "name": "stderr",
     "output_type": "stream",
     "text": [
      "\r\n",
      "  9%|███████████████▌                                                                                                                                                                  | 210/2400 [10:11<1:46:11,  2.91s/it]"
     ]
    },
    {
     "name": "stderr",
     "output_type": "stream",
     "text": [
      "\r\n",
      "  9%|████████████████▎                                                                                                                                                                 | 220/2400 [10:40<1:45:42,  2.91s/it]"
     ]
    },
    {
     "name": "stderr",
     "output_type": "stream",
     "text": [
      "\r\n",
      " 10%|█████████████████                                                                                                                                                                 | 230/2400 [11:09<1:45:18,  2.91s/it]"
     ]
    },
    {
     "name": "stderr",
     "output_type": "stream",
     "text": [
      "\r\n",
      " 10%|█████████████████▊                                                                                                                                                                | 240/2400 [11:38<1:44:49,  2.91s/it]"
     ]
    },
    {
     "name": "stderr",
     "output_type": "stream",
     "text": [
      "\r\n",
      " 10%|██████████████████▌                                                                                                                                                               | 250/2400 [12:07<1:44:16,  2.91s/it]"
     ]
    },
    {
     "name": "stderr",
     "output_type": "stream",
     "text": [
      "\r\n",
      " 11%|███████████████████▎                                                                                                                                                              | 260/2400 [12:36<1:43:44,  2.91s/it]"
     ]
    },
    {
     "name": "stderr",
     "output_type": "stream",
     "text": [
      "\r\n",
      " 11%|████████████████████                                                                                                                                                              | 270/2400 [13:05<1:43:09,  2.91s/it]"
     ]
    },
    {
     "name": "stderr",
     "output_type": "stream",
     "text": [
      "\r\n",
      " 12%|████████████████████▊                                                                                                                                                             | 280/2400 [13:34<1:42:32,  2.90s/it]"
     ]
    },
    {
     "name": "stderr",
     "output_type": "stream",
     "text": [
      "\r\n",
      " 12%|█████████████████████▌                                                                                                                                                            | 290/2400 [14:03<1:41:59,  2.90s/it]"
     ]
    },
    {
     "name": "stderr",
     "output_type": "stream",
     "text": [
      "\r\n",
      " 12%|██████████████████████▎                                                                                                                                                           | 300/2400 [14:32<1:41:27,  2.90s/it]"
     ]
    },
    {
     "name": "stderr",
     "output_type": "stream",
     "text": [
      "\r\n",
      " 13%|██████████████████████▉                                                                                                                                                           | 310/2400 [15:01<1:40:54,  2.90s/it]"
     ]
    },
    {
     "name": "stderr",
     "output_type": "stream",
     "text": [
      "\r\n",
      " 13%|███████████████████████▋                                                                                                                                                          | 320/2400 [15:30<1:40:34,  2.90s/it]"
     ]
    },
    {
     "name": "stderr",
     "output_type": "stream",
     "text": [
      "\r\n",
      " 14%|████████████████████████▍                                                                                                                                                         | 330/2400 [15:59<1:40:26,  2.91s/it]"
     ]
    },
    {
     "name": "stderr",
     "output_type": "stream",
     "text": [
      "\r\n",
      " 14%|█████████████████████████▏                                                                                                                                                        | 340/2400 [16:28<1:39:54,  2.91s/it]"
     ]
    },
    {
     "name": "stderr",
     "output_type": "stream",
     "text": [
      "\r\n",
      " 15%|█████████████████████████▉                                                                                                                                                        | 350/2400 [16:58<1:39:25,  2.91s/it]"
     ]
    },
    {
     "name": "stderr",
     "output_type": "stream",
     "text": [
      "\r\n",
      " 15%|██████████████████████████▋                                                                                                                                                       | 360/2400 [17:27<1:38:56,  2.91s/it]"
     ]
    },
    {
     "name": "stderr",
     "output_type": "stream",
     "text": [
      "\r\n",
      " 15%|███████████████████████████▍                                                                                                                                                      | 370/2400 [17:56<1:38:25,  2.91s/it]"
     ]
    },
    {
     "name": "stderr",
     "output_type": "stream",
     "text": [
      "\r\n",
      " 16%|████████████████████████████▏                                                                                                                                                     | 380/2400 [18:25<1:37:58,  2.91s/it]"
     ]
    },
    {
     "name": "stderr",
     "output_type": "stream",
     "text": [
      "\r\n",
      " 16%|████████████████████████████▉                                                                                                                                                     | 390/2400 [18:54<1:37:35,  2.91s/it]"
     ]
    },
    {
     "name": "stderr",
     "output_type": "stream",
     "text": [
      "\r\n",
      " 17%|█████████████████████████████▋                                                                                                                                                    | 400/2400 [19:23<1:37:12,  2.92s/it]"
     ]
    },
    {
     "name": "stderr",
     "output_type": "stream",
     "text": [
      "\r\n",
      " 17%|██████████████████████████████▍                                                                                                                                                   | 410/2400 [19:52<1:36:44,  2.92s/it]"
     ]
    },
    {
     "name": "stderr",
     "output_type": "stream",
     "text": [
      "\r\n",
      " 18%|███████████████████████████████▏                                                                                                                                                  | 420/2400 [20:21<1:36:06,  2.91s/it]"
     ]
    },
    {
     "name": "stderr",
     "output_type": "stream",
     "text": [
      "\r\n",
      " 18%|███████████████████████████████▉                                                                                                                                                  | 430/2400 [20:50<1:35:25,  2.91s/it]"
     ]
    },
    {
     "name": "stderr",
     "output_type": "stream",
     "text": [
      "\r\n",
      " 18%|████████████████████████████████▋                                                                                                                                                 | 440/2400 [21:19<1:34:55,  2.91s/it]"
     ]
    },
    {
     "name": "stderr",
     "output_type": "stream",
     "text": [
      "\r\n",
      " 19%|█████████████████████████████████▍                                                                                                                                                | 450/2400 [21:48<1:34:20,  2.90s/it]"
     ]
    },
    {
     "name": "stderr",
     "output_type": "stream",
     "text": [
      "\r\n",
      " 19%|██████████████████████████████████                                                                                                                                                | 460/2400 [22:18<1:33:58,  2.91s/it]"
     ]
    },
    {
     "name": "stderr",
     "output_type": "stream",
     "text": [
      "\r\n",
      " 20%|██████████████████████████████████▊                                                                                                                                               | 470/2400 [22:47<1:33:31,  2.91s/it]"
     ]
    },
    {
     "name": "stderr",
     "output_type": "stream",
     "text": [
      "\r\n",
      " 20%|███████████████████████████████████▌                                                                                                                                              | 480/2400 [23:16<1:32:59,  2.91s/it]"
     ]
    },
    {
     "name": "stderr",
     "output_type": "stream",
     "text": [
      "\r\n",
      " 20%|████████████████████████████████████▎                                                                                                                                             | 490/2400 [23:45<1:32:21,  2.90s/it]"
     ]
    },
    {
     "name": "stderr",
     "output_type": "stream",
     "text": [
      "\r\n",
      " 21%|█████████████████████████████████████                                                                                                                                             | 500/2400 [24:14<1:31:53,  2.90s/it]"
     ]
    },
    {
     "name": "stderr",
     "output_type": "stream",
     "text": [
      "\r\n",
      " 21%|█████████████████████████████████████▊                                                                                                                                            | 510/2400 [24:43<1:31:16,  2.90s/it]"
     ]
    },
    {
     "name": "stderr",
     "output_type": "stream",
     "text": [
      "\r\n",
      " 22%|██████████████████████████████████████▌                                                                                                                                           | 520/2400 [25:12<1:30:49,  2.90s/it]"
     ]
    },
    {
     "name": "stderr",
     "output_type": "stream",
     "text": [
      "\r\n",
      " 22%|███████████████████████████████████████▎                                                                                                                                          | 530/2400 [25:41<1:30:21,  2.90s/it]"
     ]
    },
    {
     "name": "stderr",
     "output_type": "stream",
     "text": [
      "\r\n",
      " 22%|████████████████████████████████████████                                                                                                                                          | 540/2400 [26:10<1:29:54,  2.90s/it]"
     ]
    },
    {
     "name": "stderr",
     "output_type": "stream",
     "text": [
      "\r\n",
      " 23%|████████████████████████████████████████▊                                                                                                                                         | 550/2400 [26:39<1:29:26,  2.90s/it]"
     ]
    },
    {
     "name": "stderr",
     "output_type": "stream",
     "text": [
      "\r\n",
      " 23%|█████████████████████████████████████████▌                                                                                                                                        | 560/2400 [27:08<1:29:01,  2.90s/it]"
     ]
    },
    {
     "name": "stderr",
     "output_type": "stream",
     "text": [
      "\r\n",
      " 24%|██████████████████████████████████████████▎                                                                                                                                       | 570/2400 [27:37<1:28:27,  2.90s/it]"
     ]
    },
    {
     "name": "stderr",
     "output_type": "stream",
     "text": [
      "\r\n",
      " 24%|███████████████████████████████████████████                                                                                                                                       | 580/2400 [28:06<1:28:05,  2.90s/it]"
     ]
    },
    {
     "name": "stderr",
     "output_type": "stream",
     "text": [
      "\r\n",
      " 25%|███████████████████████████████████████████▊                                                                                                                                      | 590/2400 [28:35<1:27:30,  2.90s/it]"
     ]
    },
    {
     "name": "stderr",
     "output_type": "stream",
     "text": [
      "\r\n",
      " 25%|████████████████████████████████████████████▌                                                                                                                                     | 600/2400 [29:04<1:27:02,  2.90s/it]"
     ]
    },
    {
     "name": "stderr",
     "output_type": "stream",
     "text": [
      "\r\n",
      " 25%|█████████████████████████████████████████████▏                                                                                                                                    | 610/2400 [29:33<1:26:42,  2.91s/it]"
     ]
    },
    {
     "name": "stderr",
     "output_type": "stream",
     "text": [
      "\r\n",
      " 26%|█████████████████████████████████████████████▉                                                                                                                                    | 620/2400 [30:02<1:26:13,  2.91s/it]"
     ]
    },
    {
     "name": "stderr",
     "output_type": "stream",
     "text": [
      "\r\n",
      " 26%|██████████████████████████████████████████████▋                                                                                                                                   | 630/2400 [30:31<1:25:44,  2.91s/it]"
     ]
    },
    {
     "name": "stderr",
     "output_type": "stream",
     "text": [
      "\r\n",
      " 27%|███████████████████████████████████████████████▍                                                                                                                                  | 640/2400 [31:00<1:25:18,  2.91s/it]"
     ]
    },
    {
     "name": "stderr",
     "output_type": "stream",
     "text": [
      "\r\n",
      " 27%|████████████████████████████████████████████████▏                                                                                                                                 | 650/2400 [31:29<1:24:51,  2.91s/it]"
     ]
    },
    {
     "name": "stderr",
     "output_type": "stream",
     "text": [
      "\r\n",
      " 28%|████████████████████████████████████████████████▉                                                                                                                                 | 660/2400 [31:58<1:24:19,  2.91s/it]"
     ]
    },
    {
     "name": "stderr",
     "output_type": "stream",
     "text": [
      "\r\n",
      " 28%|█████████████████████████████████████████████████▋                                                                                                                                | 670/2400 [32:27<1:23:45,  2.90s/it]"
     ]
    },
    {
     "name": "stderr",
     "output_type": "stream",
     "text": [
      "\r\n",
      " 28%|██████████████████████████████████████████████████▍                                                                                                                               | 680/2400 [32:56<1:23:14,  2.90s/it]"
     ]
    },
    {
     "name": "stderr",
     "output_type": "stream",
     "text": [
      "\r\n",
      " 29%|███████████████████████████████████████████████████▏                                                                                                                              | 690/2400 [33:25<1:22:49,  2.91s/it]"
     ]
    },
    {
     "name": "stderr",
     "output_type": "stream",
     "text": [
      "\r\n",
      " 29%|███████████████████████████████████████████████████▉                                                                                                                              | 700/2400 [33:54<1:22:19,  2.91s/it]"
     ]
    },
    {
     "name": "stderr",
     "output_type": "stream",
     "text": [
      "\r\n",
      " 30%|████████████████████████████████████████████████████▋                                                                                                                             | 710/2400 [34:24<1:21:54,  2.91s/it]"
     ]
    },
    {
     "name": "stderr",
     "output_type": "stream",
     "text": [
      "\r\n",
      " 30%|█████████████████████████████████████████████████████▍                                                                                                                            | 720/2400 [34:52<1:21:17,  2.90s/it]"
     ]
    },
    {
     "name": "stderr",
     "output_type": "stream",
     "text": [
      "\r\n",
      " 30%|██████████████████████████████████████████████████████▏                                                                                                                           | 730/2400 [35:21<1:20:45,  2.90s/it]"
     ]
    },
    {
     "name": "stderr",
     "output_type": "stream",
     "text": [
      "\r\n",
      " 31%|██████████████████████████████████████████████████████▉                                                                                                                           | 740/2400 [35:50<1:20:12,  2.90s/it]"
     ]
    },
    {
     "name": "stderr",
     "output_type": "stream",
     "text": [
      "\r\n",
      " 31%|███████████████████████████████████████████████████████▋                                                                                                                          | 750/2400 [36:19<1:19:38,  2.90s/it]"
     ]
    },
    {
     "name": "stderr",
     "output_type": "stream",
     "text": [
      "\r\n",
      " 32%|████████████████████████████████████████████████████████▎                                                                                                                         | 760/2400 [36:48<1:19:05,  2.89s/it]"
     ]
    },
    {
     "name": "stderr",
     "output_type": "stream",
     "text": [
      "\r\n",
      " 32%|█████████████████████████████████████████████████████████                                                                                                                         | 770/2400 [37:17<1:18:35,  2.89s/it]"
     ]
    },
    {
     "name": "stderr",
     "output_type": "stream",
     "text": [
      "\r\n",
      " 32%|█████████████████████████████████████████████████████████▊                                                                                                                        | 780/2400 [37:46<1:18:07,  2.89s/it]"
     ]
    },
    {
     "name": "stderr",
     "output_type": "stream",
     "text": [
      "\r\n",
      " 33%|██████████████████████████████████████████████████████████▌                                                                                                                       | 790/2400 [38:15<1:17:33,  2.89s/it]"
     ]
    },
    {
     "name": "stderr",
     "output_type": "stream",
     "text": [
      "\r\n",
      " 33%|███████████████████████████████████████████████████████████▎                                                                                                                      | 800/2400 [38:44<1:17:06,  2.89s/it]"
     ]
    },
    {
     "name": "stderr",
     "output_type": "stream",
     "text": [
      "\r\n",
      " 34%|████████████████████████████████████████████████████████████                                                                                                                      | 810/2400 [39:13<1:16:35,  2.89s/it]"
     ]
    },
    {
     "name": "stderr",
     "output_type": "stream",
     "text": [
      "\r\n",
      " 34%|████████████████████████████████████████████████████████████▊                                                                                                                     | 820/2400 [39:41<1:16:02,  2.89s/it]"
     ]
    },
    {
     "name": "stderr",
     "output_type": "stream",
     "text": [
      "\r\n",
      " 35%|█████████████████████████████████████████████████████████████▌                                                                                                                    | 830/2400 [40:11<1:15:42,  2.89s/it]"
     ]
    },
    {
     "name": "stderr",
     "output_type": "stream",
     "text": [
      "\r\n",
      " 35%|██████████████████████████████████████████████████████████████▎                                                                                                                   | 840/2400 [40:39<1:15:10,  2.89s/it]"
     ]
    },
    {
     "name": "stderr",
     "output_type": "stream",
     "text": [
      "\r\n",
      " 35%|███████████████████████████████████████████████████████████████                                                                                                                   | 850/2400 [41:08<1:14:39,  2.89s/it]"
     ]
    },
    {
     "name": "stderr",
     "output_type": "stream",
     "text": [
      "\r\n",
      " 36%|███████████████████████████████████████████████████████████████▊                                                                                                                  | 860/2400 [41:37<1:14:05,  2.89s/it]"
     ]
    },
    {
     "name": "stderr",
     "output_type": "stream",
     "text": [
      "\r\n",
      " 36%|████████████████████████████████████████████████████████████████▌                                                                                                                 | 870/2400 [42:06<1:13:34,  2.89s/it]"
     ]
    },
    {
     "name": "stderr",
     "output_type": "stream",
     "text": [
      "\r\n",
      " 37%|█████████████████████████████████████████████████████████████████▎                                                                                                                | 880/2400 [42:35<1:13:09,  2.89s/it]"
     ]
    },
    {
     "name": "stderr",
     "output_type": "stream",
     "text": [
      "\r\n",
      " 37%|██████████████████████████████████████████████████████████████████                                                                                                                | 890/2400 [43:04<1:12:42,  2.89s/it]"
     ]
    },
    {
     "name": "stderr",
     "output_type": "stream",
     "text": [
      "\r\n",
      " 38%|██████████████████████████████████████████████████████████████████▊                                                                                                               | 900/2400 [43:33<1:12:11,  2.89s/it]"
     ]
    },
    {
     "name": "stderr",
     "output_type": "stream",
     "text": [
      "\r\n",
      " 38%|███████████████████████████████████████████████████████████████████▍                                                                                                              | 910/2400 [44:01<1:11:41,  2.89s/it]"
     ]
    },
    {
     "name": "stderr",
     "output_type": "stream",
     "text": [
      "\r\n",
      " 38%|████████████████████████████████████████████████████████████████████▏                                                                                                             | 920/2400 [44:30<1:11:13,  2.89s/it]"
     ]
    },
    {
     "name": "stderr",
     "output_type": "stream",
     "text": [
      "\r\n",
      " 39%|████████████████████████████████████████████████████████████████████▉                                                                                                             | 930/2400 [44:59<1:10:43,  2.89s/it]"
     ]
    },
    {
     "name": "stderr",
     "output_type": "stream",
     "text": [
      "\r\n",
      " 39%|█████████████████████████████████████████████████████████████████████▋                                                                                                            | 940/2400 [45:28<1:10:13,  2.89s/it]"
     ]
    },
    {
     "name": "stderr",
     "output_type": "stream",
     "text": [
      "\r\n",
      " 40%|██████████████████████████████████████████████████████████████████████▍                                                                                                           | 950/2400 [45:57<1:09:50,  2.89s/it]"
     ]
    },
    {
     "name": "stderr",
     "output_type": "stream",
     "text": [
      "\r\n",
      " 40%|███████████████████████████████████████████████████████████████████████▏                                                                                                          | 960/2400 [46:26<1:09:26,  2.89s/it]"
     ]
    },
    {
     "name": "stderr",
     "output_type": "stream",
     "text": [
      "\r\n",
      " 40%|███████████████████████████████████████████████████████████████████████▉                                                                                                          | 970/2400 [46:55<1:08:56,  2.89s/it]"
     ]
    },
    {
     "name": "stderr",
     "output_type": "stream",
     "text": [
      "\r\n",
      " 41%|████████████████████████████████████████████████████████████████████████▋                                                                                                         | 980/2400 [47:24<1:08:28,  2.89s/it]"
     ]
    },
    {
     "name": "stderr",
     "output_type": "stream",
     "text": [
      "\r\n",
      " 41%|█████████████████████████████████████████████████████████████████████████▍                                                                                                        | 990/2400 [47:53<1:07:58,  2.89s/it]"
     ]
    },
    {
     "name": "stderr",
     "output_type": "stream",
     "text": [
      "\r\n",
      " 42%|█████████████████████████████████████████████████████████████████████████▊                                                                                                       | 1000/2400 [48:22<1:07:34,  2.90s/it]"
     ]
    },
    {
     "name": "stderr",
     "output_type": "stream",
     "text": [
      "\r\n",
      " 42%|██████████████████████████████████████████████████████████████████████████▍                                                                                                      | 1010/2400 [48:51<1:07:04,  2.90s/it]"
     ]
    },
    {
     "name": "stderr",
     "output_type": "stream",
     "text": [
      "\r\n",
      " 42%|███████████████████████████████████████████████████████████████████████████▏                                                                                                     | 1020/2400 [49:20<1:06:32,  2.89s/it]"
     ]
    },
    {
     "name": "stderr",
     "output_type": "stream",
     "text": [
      "\r\n",
      " 43%|███████████████████████████████████████████████████████████████████████████▉                                                                                                     | 1030/2400 [49:49<1:05:59,  2.89s/it]"
     ]
    },
    {
     "name": "stderr",
     "output_type": "stream",
     "text": [
      "\r\n",
      " 43%|████████████████████████████████████████████████████████████████████████████▋                                                                                                    | 1040/2400 [50:17<1:05:29,  2.89s/it]"
     ]
    },
    {
     "name": "stderr",
     "output_type": "stream",
     "text": [
      "\r\n",
      " 44%|█████████████████████████████████████████████████████████████████████████████▍                                                                                                   | 1050/2400 [50:46<1:04:57,  2.89s/it]"
     ]
    },
    {
     "name": "stderr",
     "output_type": "stream",
     "text": [
      "\r\n",
      " 44%|██████████████████████████████████████████████████████████████████████████████▏                                                                                                  | 1060/2400 [51:15<1:04:25,  2.88s/it]"
     ]
    },
    {
     "name": "stderr",
     "output_type": "stream",
     "text": [
      "\r\n",
      " 45%|██████████████████████████████████████████████████████████████████████████████▉                                                                                                  | 1070/2400 [51:44<1:03:57,  2.89s/it]"
     ]
    },
    {
     "name": "stderr",
     "output_type": "stream",
     "text": [
      "\r\n",
      " 45%|███████████████████████████████████████████████████████████████████████████████▋                                                                                                 | 1080/2400 [52:13<1:03:29,  2.89s/it]"
     ]
    },
    {
     "name": "stderr",
     "output_type": "stream",
     "text": [
      "\r\n",
      " 45%|████████████████████████████████████████████████████████████████████████████████▍                                                                                                | 1090/2400 [52:42<1:03:05,  2.89s/it]"
     ]
    },
    {
     "name": "stderr",
     "output_type": "stream",
     "text": [
      "\r\n",
      " 46%|█████████████████████████████████████████████████████████████████████████████████▏                                                                                               | 1100/2400 [53:10<1:02:32,  2.89s/it]"
     ]
    },
    {
     "name": "stderr",
     "output_type": "stream",
     "text": [
      "\r\n",
      " 46%|█████████████████████████████████████████████████████████████████████████████████▊                                                                                               | 1110/2400 [53:39<1:02:02,  2.89s/it]"
     ]
    },
    {
     "name": "stderr",
     "output_type": "stream",
     "text": [
      "\r\n",
      " 47%|██████████████████████████████████████████████████████████████████████████████████▌                                                                                              | 1120/2400 [54:08<1:01:32,  2.88s/it]"
     ]
    },
    {
     "name": "stderr",
     "output_type": "stream",
     "text": [
      "\r\n",
      " 47%|███████████████████████████████████████████████████████████████████████████████████▎                                                                                             | 1130/2400 [54:37<1:01:01,  2.88s/it]"
     ]
    },
    {
     "name": "stderr",
     "output_type": "stream",
     "text": [
      "\r\n",
      " 48%|████████████████████████████████████████████████████████████████████████████████████                                                                                             | 1140/2400 [55:06<1:00:32,  2.88s/it]"
     ]
    },
    {
     "name": "stderr",
     "output_type": "stream",
     "text": [
      "\r\n",
      " 48%|████████████████████████████████████████████████████████████████████████████████████▊                                                                                            | 1150/2400 [55:35<1:00:05,  2.88s/it]"
     ]
    },
    {
     "name": "stderr",
     "output_type": "stream",
     "text": [
      "\r\n",
      " 48%|██████████████████████████████████████████████████████████████████████████████████████▌                                                                                            | 1160/2400 [56:04<59:39,  2.89s/it]"
     ]
    },
    {
     "name": "stderr",
     "output_type": "stream",
     "text": [
      "\r\n",
      " 49%|███████████████████████████████████████████████████████████████████████████████████████▎                                                                                           | 1170/2400 [56:32<59:08,  2.88s/it]"
     ]
    },
    {
     "name": "stderr",
     "output_type": "stream",
     "text": [
      "\r\n",
      " 49%|████████████████████████████████████████████████████████████████████████████████████████                                                                                           | 1180/2400 [57:01<58:37,  2.88s/it]"
     ]
    },
    {
     "name": "stderr",
     "output_type": "stream",
     "text": [
      "\r\n",
      " 50%|████████████████████████████████████████████████████████████████████████████████████████▊                                                                                          | 1190/2400 [57:30<58:09,  2.88s/it]"
     ]
    },
    {
     "name": "stderr",
     "output_type": "stream",
     "text": [
      "\r\n",
      " 50%|█████████████████████████████████████████████████████████████████████████████████████████▌                                                                                         | 1200/2400 [57:59<57:41,  2.88s/it]"
     ]
    },
    {
     "name": "stderr",
     "output_type": "stream",
     "text": [
      "\r\n",
      " 50%|██████████████████████████████████████████████████████████████████████████████████████████▏                                                                                        | 1210/2400 [58:28<57:14,  2.89s/it]"
     ]
    },
    {
     "name": "stderr",
     "output_type": "stream",
     "text": [
      "\r\n",
      " 51%|██████████████████████████████████████████████████████████████████████████████████████████▉                                                                                        | 1220/2400 [58:57<56:48,  2.89s/it]"
     ]
    },
    {
     "name": "stderr",
     "output_type": "stream",
     "text": [
      "\r\n",
      " 51%|███████████████████████████████████████████████████████████████████████████████████████████▋                                                                                       | 1230/2400 [59:26<56:18,  2.89s/it]"
     ]
    },
    {
     "name": "stderr",
     "output_type": "stream",
     "text": [
      "\r\n",
      " 52%|████████████████████████████████████████████████████████████████████████████████████████████▍                                                                                      | 1240/2400 [59:54<55:46,  2.89s/it]"
     ]
    },
    {
     "name": "stderr",
     "output_type": "stream",
     "text": [
      "\r\n",
      " 52%|████████████████████████████████████████████████████████████████████████████████████████████▏                                                                                    | 1250/2400 [1:00:23<55:16,  2.88s/it]"
     ]
    },
    {
     "name": "stderr",
     "output_type": "stream",
     "text": [
      "\r\n",
      " 52%|████████████████████████████████████████████████████████████████████████████████████████████▉                                                                                    | 1260/2400 [1:00:52<54:48,  2.88s/it]"
     ]
    },
    {
     "name": "stderr",
     "output_type": "stream",
     "text": [
      "\r\n",
      " 53%|█████████████████████████████████████████████████████████████████████████████████████████████▋                                                                                   | 1270/2400 [1:01:21<54:17,  2.88s/it]"
     ]
    },
    {
     "name": "stderr",
     "output_type": "stream",
     "text": [
      "\r\n",
      " 53%|██████████████████████████████████████████████████████████████████████████████████████████████▍                                                                                  | 1280/2400 [1:01:50<53:48,  2.88s/it]"
     ]
    },
    {
     "name": "stderr",
     "output_type": "stream",
     "text": [
      "\r\n",
      " 54%|███████████████████████████████████████████████████████████████████████████████████████████████▏                                                                                 | 1290/2400 [1:02:18<53:19,  2.88s/it]"
     ]
    },
    {
     "name": "stderr",
     "output_type": "stream",
     "text": [
      "\r\n",
      " 54%|███████████████████████████████████████████████████████████████████████████████████████████████▉                                                                                 | 1300/2400 [1:02:47<52:50,  2.88s/it]"
     ]
    },
    {
     "name": "stderr",
     "output_type": "stream",
     "text": [
      "\r\n",
      " 55%|████████████████████████████████████████████████████████████████████████████████████████████████▌                                                                                | 1310/2400 [1:03:16<52:21,  2.88s/it]"
     ]
    },
    {
     "name": "stderr",
     "output_type": "stream",
     "text": [
      "\r\n",
      " 55%|█████████████████████████████████████████████████████████████████████████████████████████████████▎                                                                               | 1320/2400 [1:03:45<51:48,  2.88s/it]"
     ]
    },
    {
     "name": "stderr",
     "output_type": "stream",
     "text": [
      "\r\n",
      " 55%|██████████████████████████████████████████████████████████████████████████████████████████████████                                                                               | 1330/2400 [1:04:14<51:20,  2.88s/it]"
     ]
    },
    {
     "name": "stderr",
     "output_type": "stream",
     "text": [
      "\r\n",
      " 56%|██████████████████████████████████████████████████████████████████████████████████████████████████▊                                                                              | 1340/2400 [1:04:42<50:51,  2.88s/it]"
     ]
    },
    {
     "name": "stderr",
     "output_type": "stream",
     "text": [
      "\r\n",
      " 56%|███████████████████████████████████████████████████████████████████████████████████████████████████▌                                                                             | 1350/2400 [1:05:11<50:29,  2.89s/it]"
     ]
    },
    {
     "name": "stderr",
     "output_type": "stream",
     "text": [
      "\r\n",
      " 57%|████████████████████████████████████████████████████████████████████████████████████████████████████▎                                                                            | 1360/2400 [1:05:40<50:00,  2.88s/it]"
     ]
    },
    {
     "name": "stderr",
     "output_type": "stream",
     "text": [
      "\r\n",
      " 57%|█████████████████████████████████████████████████████████████████████████████████████████████████████                                                                            | 1370/2400 [1:06:09<49:30,  2.88s/it]"
     ]
    },
    {
     "name": "stderr",
     "output_type": "stream",
     "text": [
      "\r\n",
      " 57%|█████████████████████████████████████████████████████████████████████████████████████████████████████▊                                                                           | 1380/2400 [1:06:38<48:59,  2.88s/it]"
     ]
    },
    {
     "name": "stderr",
     "output_type": "stream",
     "text": [
      "\r\n",
      " 58%|██████████████████████████████████████████████████████████████████████████████████████████████████████▌                                                                          | 1390/2400 [1:07:07<48:31,  2.88s/it]"
     ]
    },
    {
     "name": "stderr",
     "output_type": "stream",
     "text": [
      "\r\n",
      " 58%|███████████████████████████████████████████████████████████████████████████████████████████████████████▎                                                                         | 1400/2400 [1:07:36<48:02,  2.88s/it]"
     ]
    },
    {
     "name": "stderr",
     "output_type": "stream",
     "text": [
      "\r\n",
      " 59%|███████████████████████████████████████████████████████████████████████████████████████████████████████▉                                                                         | 1410/2400 [1:08:04<47:35,  2.88s/it]"
     ]
    },
    {
     "name": "stderr",
     "output_type": "stream",
     "text": [
      "\r\n",
      " 59%|████████████████████████████████████████████████████████████████████████████████████████████████████████▋                                                                        | 1420/2400 [1:08:33<47:06,  2.88s/it]"
     ]
    },
    {
     "name": "stderr",
     "output_type": "stream",
     "text": [
      "\r\n",
      " 60%|█████████████████████████████████████████████████████████████████████████████████████████████████████████▍                                                                       | 1430/2400 [1:09:02<46:40,  2.89s/it]"
     ]
    },
    {
     "name": "stderr",
     "output_type": "stream",
     "text": [
      "\r\n",
      " 60%|██████████████████████████████████████████████████████████████████████████████████████████████████████████▏                                                                      | 1440/2400 [1:09:31<46:12,  2.89s/it]"
     ]
    },
    {
     "name": "stderr",
     "output_type": "stream",
     "text": [
      "\r\n",
      " 60%|██████████████████████████████████████████████████████████████████████████████████████████████████████████▉                                                                      | 1450/2400 [1:10:00<45:44,  2.89s/it]"
     ]
    },
    {
     "name": "stderr",
     "output_type": "stream",
     "text": [
      "\r\n",
      " 61%|███████████████████████████████████████████████████████████████████████████████████████████████████████████▋                                                                     | 1460/2400 [1:10:29<45:14,  2.89s/it]"
     ]
    },
    {
     "name": "stderr",
     "output_type": "stream",
     "text": [
      "\r\n",
      " 61%|████████████████████████████████████████████████████████████████████████████████████████████████████████████▍                                                                    | 1470/2400 [1:10:58<44:47,  2.89s/it]"
     ]
    },
    {
     "name": "stderr",
     "output_type": "stream",
     "text": [
      "\r\n",
      " 62%|█████████████████████████████████████████████████████████████████████████████████████████████████████████████▏                                                                   | 1480/2400 [1:11:27<44:23,  2.89s/it]"
     ]
    },
    {
     "name": "stderr",
     "output_type": "stream",
     "text": [
      "\r\n",
      " 62%|█████████████████████████████████████████████████████████████████████████████████████████████████████████████▉                                                                   | 1490/2400 [1:11:56<43:54,  2.89s/it]"
     ]
    },
    {
     "name": "stderr",
     "output_type": "stream",
     "text": [
      "\r\n",
      " 62%|██████████████████████████████████████████████████████████████████████████████████████████████████████████████▋                                                                  | 1500/2400 [1:12:25<43:23,  2.89s/it]"
     ]
    },
    {
     "name": "stderr",
     "output_type": "stream",
     "text": [
      "\r\n",
      " 63%|███████████████████████████████████████████████████████████████████████████████████████████████████████████████▎                                                                 | 1510/2400 [1:12:54<42:56,  2.89s/it]"
     ]
    },
    {
     "name": "stderr",
     "output_type": "stream",
     "text": [
      "\r\n",
      " 63%|████████████████████████████████████████████████████████████████████████████████████████████████████████████████                                                                 | 1520/2400 [1:13:23<42:29,  2.90s/it]"
     ]
    },
    {
     "name": "stderr",
     "output_type": "stream",
     "text": [
      "\r\n",
      " 64%|████████████████████████████████████████████████████████████████████████████████████████████████████████████████▊                                                                | 1530/2400 [1:13:52<42:00,  2.90s/it]"
     ]
    },
    {
     "name": "stderr",
     "output_type": "stream",
     "text": [
      "\r\n",
      " 64%|█████████████████████████████████████████████████████████████████████████████████████████████████████████████████▌                                                               | 1540/2400 [1:14:21<41:33,  2.90s/it]"
     ]
    },
    {
     "name": "stderr",
     "output_type": "stream",
     "text": [
      "\r\n",
      " 65%|██████████████████████████████████████████████████████████████████████████████████████████████████████████████████▎                                                              | 1550/2400 [1:14:50<41:02,  2.90s/it]"
     ]
    },
    {
     "name": "stderr",
     "output_type": "stream",
     "text": [
      "\r\n",
      " 65%|███████████████████████████████████████████████████████████████████████████████████████████████████████████████████                                                              | 1560/2400 [1:15:18<40:30,  2.89s/it]"
     ]
    },
    {
     "name": "stderr",
     "output_type": "stream",
     "text": [
      "\r\n",
      " 65%|███████████████████████████████████████████████████████████████████████████████████████████████████████████████████▊                                                             | 1570/2400 [1:15:47<39:59,  2.89s/it]"
     ]
    },
    {
     "name": "stderr",
     "output_type": "stream",
     "text": [
      "\r\n",
      " 66%|████████████████████████████████████████████████████████████████████████████████████████████████████████████████████▌                                                            | 1580/2400 [1:16:16<39:28,  2.89s/it]"
     ]
    },
    {
     "name": "stderr",
     "output_type": "stream",
     "text": [
      "\r\n",
      " 66%|█████████████████████████████████████████████████████████████████████████████████████████████████████████████████████▎                                                           | 1590/2400 [1:16:45<38:58,  2.89s/it]"
     ]
    },
    {
     "name": "stderr",
     "output_type": "stream",
     "text": [
      "\r\n",
      " 67%|██████████████████████████████████████████████████████████████████████████████████████████████████████████████████████                                                           | 1600/2400 [1:17:14<38:29,  2.89s/it]"
     ]
    },
    {
     "name": "stderr",
     "output_type": "stream",
     "text": [
      "\r\n",
      " 67%|██████████████████████████████████████████████████████████████████████████████████████████████████████████████████████▋                                                          | 1610/2400 [1:17:43<38:03,  2.89s/it]"
     ]
    },
    {
     "name": "stderr",
     "output_type": "stream",
     "text": [
      "\r\n",
      " 68%|███████████████████████████████████████████████████████████████████████████████████████████████████████████████████████▍                                                         | 1620/2400 [1:18:12<37:37,  2.89s/it]"
     ]
    },
    {
     "name": "stderr",
     "output_type": "stream",
     "text": [
      "\r\n",
      " 68%|████████████████████████████████████████████████████████████████████████████████████████████████████████████████████████▏                                                        | 1630/2400 [1:18:41<37:09,  2.90s/it]"
     ]
    },
    {
     "name": "stderr",
     "output_type": "stream",
     "text": [
      "\r\n",
      " 68%|████████████████████████████████████████████████████████████████████████████████████████████████████████████████████████▉                                                        | 1640/2400 [1:19:10<36:37,  2.89s/it]"
     ]
    },
    {
     "name": "stderr",
     "output_type": "stream",
     "text": [
      "\r\n",
      " 69%|█████████████████████████████████████████████████████████████████████████████████████████████████████████████████████████▋                                                       | 1650/2400 [1:19:39<36:10,  2.89s/it]"
     ]
    },
    {
     "name": "stderr",
     "output_type": "stream",
     "text": [
      "\r\n",
      " 69%|██████████████████████████████████████████████████████████████████████████████████████████████████████████████████████████▍                                                      | 1660/2400 [1:20:08<35:40,  2.89s/it]"
     ]
    },
    {
     "name": "stderr",
     "output_type": "stream",
     "text": [
      "\r\n",
      " 70%|███████████████████████████████████████████████████████████████████████████████████████████████████████████████████████████▏                                                     | 1670/2400 [1:20:36<35:08,  2.89s/it]"
     ]
    },
    {
     "name": "stderr",
     "output_type": "stream",
     "text": [
      "\r\n",
      " 70%|███████████████████████████████████████████████████████████████████████████████████████████████████████████████████████████▉                                                     | 1680/2400 [1:21:05<34:38,  2.89s/it]"
     ]
    },
    {
     "name": "stderr",
     "output_type": "stream",
     "text": [
      "\r\n",
      " 70%|████████████████████████████████████████████████████████████████████████████████████████████████████████████████████████████▋                                                    | 1690/2400 [1:21:34<34:10,  2.89s/it]"
     ]
    },
    {
     "name": "stderr",
     "output_type": "stream",
     "text": [
      "\r\n",
      " 71%|█████████████████████████████████████████████████████████████████████████████████████████████████████████████████████████████▍                                                   | 1700/2400 [1:22:03<33:40,  2.89s/it]"
     ]
    },
    {
     "name": "stderr",
     "output_type": "stream",
     "text": [
      "\r\n",
      " 71%|██████████████████████████████████████████████████████████████████████████████████████████████████████████████████████████████                                                   | 1710/2400 [1:22:32<33:11,  2.89s/it]"
     ]
    },
    {
     "name": "stderr",
     "output_type": "stream",
     "text": [
      "\r\n",
      " 72%|██████████████████████████████████████████████████████████████████████████████████████████████████████████████████████████████▊                                                  | 1720/2400 [1:23:01<32:45,  2.89s/it]"
     ]
    },
    {
     "name": "stderr",
     "output_type": "stream",
     "text": [
      "\r\n",
      " 72%|███████████████████████████████████████████████████████████████████████████████████████████████████████████████████████████████▌                                                 | 1730/2400 [1:23:30<32:20,  2.90s/it]"
     ]
    },
    {
     "name": "stderr",
     "output_type": "stream",
     "text": [
      "\r\n",
      " 72%|████████████████████████████████████████████████████████████████████████████████████████████████████████████████████████████████▎                                                | 1740/2400 [1:23:59<31:50,  2.89s/it]"
     ]
    },
    {
     "name": "stderr",
     "output_type": "stream",
     "text": [
      "\r\n",
      " 73%|█████████████████████████████████████████████████████████████████████████████████████████████████████████████████████████████████                                                | 1750/2400 [1:24:28<31:22,  2.90s/it]"
     ]
    },
    {
     "name": "stderr",
     "output_type": "stream",
     "text": [
      "\r\n",
      " 73%|█████████████████████████████████████████████████████████████████████████████████████████████████████████████████████████████████▊                                               | 1760/2400 [1:24:57<30:51,  2.89s/it]"
     ]
    },
    {
     "name": "stderr",
     "output_type": "stream",
     "text": [
      "\r\n",
      " 74%|██████████████████████████████████████████████████████████████████████████████████████████████████████████████████████████████████▌                                              | 1770/2400 [1:25:26<30:23,  2.89s/it]"
     ]
    },
    {
     "name": "stderr",
     "output_type": "stream",
     "text": [
      "\r\n",
      " 74%|███████████████████████████████████████████████████████████████████████████████████████████████████████████████████████████████████▎                                             | 1780/2400 [1:25:55<29:56,  2.90s/it]"
     ]
    },
    {
     "name": "stderr",
     "output_type": "stream",
     "text": [
      "\r\n",
      " 75%|████████████████████████████████████████████████████████████████████████████████████████████████████████████████████████████████████                                             | 1790/2400 [1:26:24<29:28,  2.90s/it]"
     ]
    },
    {
     "name": "stderr",
     "output_type": "stream",
     "text": [
      "\r\n",
      " 75%|████████████████████████████████████████████████████████████████████████████████████████████████████████████████████████████████████▊                                            | 1800/2400 [1:26:53<29:00,  2.90s/it]"
     ]
    },
    {
     "name": "stderr",
     "output_type": "stream",
     "text": [
      "\r\n",
      " 75%|█████████████████████████████████████████████████████████████████████████████████████████████████████████████████████████████████████▍                                           | 1810/2400 [1:27:22<28:31,  2.90s/it]"
     ]
    },
    {
     "name": "stderr",
     "output_type": "stream",
     "text": [
      "\r\n",
      " 76%|██████████████████████████████████████████████████████████████████████████████████████████████████████████████████████████████████████▏                                          | 1820/2400 [1:27:51<28:02,  2.90s/it]"
     ]
    },
    {
     "name": "stderr",
     "output_type": "stream",
     "text": [
      "\r\n",
      " 76%|██████████████████████████████████████████████████████████████████████████████████████████████████████████████████████████████████████▉                                          | 1830/2400 [1:28:20<27:32,  2.90s/it]"
     ]
    },
    {
     "name": "stderr",
     "output_type": "stream",
     "text": [
      "\r\n",
      " 77%|███████████████████████████████████████████████████████████████████████████████████████████████████████████████████████████████████████▋                                         | 1840/2400 [1:28:49<27:04,  2.90s/it]"
     ]
    },
    {
     "name": "stderr",
     "output_type": "stream",
     "text": [
      "\r\n",
      " 77%|████████████████████████████████████████████████████████████████████████████████████████████████████████████████████████████████████████▍                                        | 1850/2400 [1:29:18<26:35,  2.90s/it]"
     ]
    },
    {
     "name": "stderr",
     "output_type": "stream",
     "text": [
      "\r\n",
      " 78%|█████████████████████████████████████████████████████████████████████████████████████████████████████████████████████████████████████████▏                                       | 1860/2400 [1:29:47<26:06,  2.90s/it]"
     ]
    },
    {
     "name": "stderr",
     "output_type": "stream",
     "text": [
      "\r\n",
      " 78%|█████████████████████████████████████████████████████████████████████████████████████████████████████████████████████████████████████████▉                                       | 1870/2400 [1:30:16<25:34,  2.90s/it]"
     ]
    },
    {
     "name": "stderr",
     "output_type": "stream",
     "text": [
      "\r\n",
      " 78%|██████████████████████████████████████████████████████████████████████████████████████████████████████████████████████████████████████████▋                                      | 1880/2400 [1:30:44<25:03,  2.89s/it]"
     ]
    },
    {
     "name": "stderr",
     "output_type": "stream",
     "text": [
      "\r\n",
      " 79%|███████████████████████████████████████████████████████████████████████████████████████████████████████████████████████████████████████████▍                                     | 1890/2400 [1:31:13<24:33,  2.89s/it]"
     ]
    },
    {
     "name": "stderr",
     "output_type": "stream",
     "text": [
      "\r\n",
      " 79%|████████████████████████████████████████████████████████████████████████████████████████████████████████████████████████████████████████████▏                                    | 1900/2400 [1:31:42<24:03,  2.89s/it]"
     ]
    },
    {
     "name": "stderr",
     "output_type": "stream",
     "text": [
      "\r\n",
      " 80%|████████████████████████████████████████████████████████████████████████████████████████████████████████████████████████████████████████████▊                                    | 1910/2400 [1:32:11<23:35,  2.89s/it]"
     ]
    },
    {
     "name": "stderr",
     "output_type": "stream",
     "text": [
      "\r\n",
      " 80%|█████████████████████████████████████████████████████████████████████████████████████████████████████████████████████████████████████████████▌                                   | 1920/2400 [1:32:40<23:06,  2.89s/it]"
     ]
    },
    {
     "name": "stderr",
     "output_type": "stream",
     "text": [
      "\r\n",
      " 80%|██████████████████████████████████████████████████████████████████████████████████████████████████████████████████████████████████████████████▎                                  | 1930/2400 [1:33:09<22:38,  2.89s/it]"
     ]
    },
    {
     "name": "stderr",
     "output_type": "stream",
     "text": [
      "\r\n",
      " 81%|███████████████████████████████████████████████████████████████████████████████████████████████████████████████████████████████████████████████                                  | 1940/2400 [1:33:38<22:08,  2.89s/it]"
     ]
    },
    {
     "name": "stderr",
     "output_type": "stream",
     "text": [
      "\r\n",
      " 81%|███████████████████████████████████████████████████████████████████████████████████████████████████████████████████████████████████████████████▊                                 | 1950/2400 [1:34:07<21:40,  2.89s/it]"
     ]
    },
    {
     "name": "stderr",
     "output_type": "stream",
     "text": [
      "\r\n",
      " 82%|████████████████████████████████████████████████████████████████████████████████████████████████████████████████████████████████████████████████▌                                | 1960/2400 [1:34:35<21:10,  2.89s/it]"
     ]
    },
    {
     "name": "stderr",
     "output_type": "stream",
     "text": [
      "\r\n",
      " 82%|█████████████████████████████████████████████████████████████████████████████████████████████████████████████████████████████████████████████████▎                               | 1970/2400 [1:35:04<20:41,  2.89s/it]"
     ]
    },
    {
     "name": "stderr",
     "output_type": "stream",
     "text": [
      "\r\n",
      " 82%|██████████████████████████████████████████████████████████████████████████████████████████████████████████████████████████████████████████████████                               | 1980/2400 [1:35:33<20:13,  2.89s/it]"
     ]
    },
    {
     "name": "stderr",
     "output_type": "stream",
     "text": [
      "\r\n",
      " 83%|██████████████████████████████████████████████████████████████████████████████████████████████████████████████████████████████████████████████████▊                              | 1990/2400 [1:36:02<19:47,  2.90s/it]"
     ]
    },
    {
     "name": "stderr",
     "output_type": "stream",
     "text": [
      "\r\n",
      " 83%|███████████████████████████████████████████████████████████████████████████████████████████████████████████████████████████████████████████████████▌                             | 2000/2400 [1:36:31<19:18,  2.90s/it]"
     ]
    },
    {
     "name": "stderr",
     "output_type": "stream",
     "text": [
      "\r\n",
      " 84%|████████████████████████████████████████████████████████████████████████████████████████████████████████████████████████████████████████████████████▏                            | 2010/2400 [1:37:00<18:48,  2.89s/it]"
     ]
    },
    {
     "name": "stderr",
     "output_type": "stream",
     "text": [
      "\r\n",
      " 84%|████████████████████████████████████████████████████████████████████████████████████████████████████████████████████████████████████████████████████▉                            | 2020/2400 [1:37:29<18:20,  2.89s/it]"
     ]
    },
    {
     "name": "stderr",
     "output_type": "stream",
     "text": [
      "\r\n",
      " 85%|█████████████████████████████████████████████████████████████████████████████████████████████████████████████████████████████████████████████████████▋                           | 2030/2400 [1:37:58<17:51,  2.90s/it]"
     ]
    },
    {
     "name": "stderr",
     "output_type": "stream",
     "text": [
      "\r\n",
      " 85%|██████████████████████████████████████████████████████████████████████████████████████████████████████████████████████████████████████████████████████▍                          | 2040/2400 [1:38:27<17:23,  2.90s/it]"
     ]
    },
    {
     "name": "stderr",
     "output_type": "stream",
     "text": [
      "\r\n",
      " 85%|███████████████████████████████████████████████████████████████████████████████████████████████████████████████████████████████████████████████████████▏                         | 2050/2400 [1:38:56<16:54,  2.90s/it]"
     ]
    },
    {
     "name": "stderr",
     "output_type": "stream",
     "text": [
      "\r\n",
      " 86%|███████████████████████████████████████████████████████████████████████████████████████████████████████████████████████████████████████████████████████▉                         | 2060/2400 [1:39:25<16:25,  2.90s/it]"
     ]
    },
    {
     "name": "stderr",
     "output_type": "stream",
     "text": [
      "\r\n",
      " 86%|████████████████████████████████████████████████████████████████████████████████████████████████████████████████████████████████████████████████████████▋                        | 2070/2400 [1:39:54<15:58,  2.90s/it]"
     ]
    },
    {
     "name": "stderr",
     "output_type": "stream",
     "text": [
      "\r\n",
      " 87%|█████████████████████████████████████████████████████████████████████████████████████████████████████████████████████████████████████████████████████████▍                       | 2080/2400 [1:40:23<15:29,  2.91s/it]"
     ]
    },
    {
     "name": "stderr",
     "output_type": "stream",
     "text": [
      "\r\n",
      " 87%|██████████████████████████████████████████████████████████████████████████████████████████████████████████████████████████████████████████████████████████▏                      | 2090/2400 [1:40:52<15:00,  2.90s/it]"
     ]
    },
    {
     "name": "stderr",
     "output_type": "stream",
     "text": [
      "\r\n",
      " 88%|██████████████████████████████████████████████████████████████████████████████████████████████████████████████████████████████████████████████████████████▉                      | 2100/2400 [1:41:21<14:30,  2.90s/it]"
     ]
    },
    {
     "name": "stderr",
     "output_type": "stream",
     "text": [
      "\r\n",
      " 88%|███████████████████████████████████████████████████████████████████████████████████████████████████████████████████████████████████████████████████████████▌                     | 2110/2400 [1:41:50<14:02,  2.90s/it]"
     ]
    },
    {
     "name": "stderr",
     "output_type": "stream",
     "text": [
      "\r\n",
      " 88%|████████████████████████████████████████████████████████████████████████████████████████████████████████████████████████████████████████████████████████████▎                    | 2120/2400 [1:42:19<13:32,  2.90s/it]"
     ]
    },
    {
     "name": "stderr",
     "output_type": "stream",
     "text": [
      "\r\n",
      " 89%|█████████████████████████████████████████████████████████████████████████████████████████████████████████████████████████████████████████████████████████████                    | 2130/2400 [1:42:48<13:02,  2.90s/it]"
     ]
    },
    {
     "name": "stderr",
     "output_type": "stream",
     "text": [
      "\r\n",
      " 89%|█████████████████████████████████████████████████████████████████████████████████████████████████████████████████████████████████████████████████████████████▊                   | 2140/2400 [1:43:17<12:33,  2.90s/it]"
     ]
    },
    {
     "name": "stderr",
     "output_type": "stream",
     "text": [
      "\r\n",
      " 90%|██████████████████████████████████████████████████████████████████████████████████████████████████████████████████████████████████████████████████████████████▌                  | 2150/2400 [1:43:46<12:04,  2.90s/it]"
     ]
    },
    {
     "name": "stderr",
     "output_type": "stream",
     "text": [
      "\r\n",
      " 90%|███████████████████████████████████████████████████████████████████████████████████████████████████████████████████████████████████████████████████████████████▎                 | 2160/2400 [1:44:15<11:35,  2.90s/it]"
     ]
    },
    {
     "name": "stderr",
     "output_type": "stream",
     "text": [
      "\r\n",
      " 90%|████████████████████████████████████████████████████████████████████████████████████████████████████████████████████████████████████████████████████████████████                 | 2170/2400 [1:44:44<11:06,  2.90s/it]"
     ]
    },
    {
     "name": "stderr",
     "output_type": "stream",
     "text": [
      "\r\n",
      " 91%|████████████████████████████████████████████████████████████████████████████████████████████████████████████████████████████████████████████████████████████████▊                | 2180/2400 [1:45:13<10:36,  2.90s/it]"
     ]
    },
    {
     "name": "stderr",
     "output_type": "stream",
     "text": [
      "\r\n",
      " 91%|█████████████████████████████████████████████████████████████████████████████████████████████████████████████████████████████████████████████████████████████████▌               | 2190/2400 [1:45:42<10:07,  2.89s/it]"
     ]
    },
    {
     "name": "stderr",
     "output_type": "stream",
     "text": [
      "\r\n",
      " 92%|██████████████████████████████████████████████████████████████████████████████████████████████████████████████████████████████████████████████████████████████████▎              | 2200/2400 [1:46:11<09:39,  2.90s/it]"
     ]
    },
    {
     "name": "stderr",
     "output_type": "stream",
     "text": [
      "\r\n",
      " 92%|██████████████████████████████████████████████████████████████████████████████████████████████████████████████████████████████████████████████████████████████████▉              | 2210/2400 [1:46:40<09:10,  2.90s/it]"
     ]
    },
    {
     "name": "stderr",
     "output_type": "stream",
     "text": [
      "\r\n",
      " 92%|███████████████████████████████████████████████████████████████████████████████████████████████████████████████████████████████████████████████████████████████████▋             | 2220/2400 [1:47:09<08:41,  2.90s/it]"
     ]
    },
    {
     "name": "stderr",
     "output_type": "stream",
     "text": [
      "\r\n",
      " 93%|████████████████████████████████████████████████████████████████████████████████████████████████████████████████████████████████████████████████████████████████████▍            | 2230/2400 [1:47:38<08:13,  2.90s/it]"
     ]
    },
    {
     "name": "stderr",
     "output_type": "stream",
     "text": [
      "\r\n",
      " 93%|█████████████████████████████████████████████████████████████████████████████████████████████████████████████████████████████████████████████████████████████████████▏           | 2240/2400 [1:48:07<07:44,  2.90s/it]"
     ]
    },
    {
     "name": "stderr",
     "output_type": "stream",
     "text": [
      "\r\n",
      " 94%|█████████████████████████████████████████████████████████████████████████████████████████████████████████████████████████████████████████████████████████████████████▉           | 2250/2400 [1:48:36<07:14,  2.90s/it]"
     ]
    },
    {
     "name": "stderr",
     "output_type": "stream",
     "text": [
      "\r\n",
      " 94%|██████████████████████████████████████████████████████████████████████████████████████████████████████████████████████████████████████████████████████████████████████▋          | 2260/2400 [1:49:05<06:46,  2.90s/it]"
     ]
    },
    {
     "name": "stderr",
     "output_type": "stream",
     "text": [
      "\r\n",
      " 95%|███████████████████████████████████████████████████████████████████████████████████████████████████████████████████████████████████████████████████████████████████████▍         | 2270/2400 [1:49:34<06:16,  2.90s/it]"
     ]
    },
    {
     "name": "stderr",
     "output_type": "stream",
     "text": [
      "\r\n",
      " 95%|████████████████████████████████████████████████████████████████████████████████████████████████████████████████████████████████████████████████████████████████████████▏        | 2280/2400 [1:50:03<05:47,  2.90s/it]"
     ]
    },
    {
     "name": "stderr",
     "output_type": "stream",
     "text": [
      "\r\n",
      " 95%|████████████████████████████████████████████████████████████████████████████████████████████████████████████████████████████████████████████████████████████████████████▉        | 2290/2400 [1:50:32<05:18,  2.90s/it]"
     ]
    },
    {
     "name": "stderr",
     "output_type": "stream",
     "text": [
      "\r\n",
      " 96%|█████████████████████████████████████████████████████████████████████████████████████████████████████████████████████████████████████████████████████████████████████████▋       | 2300/2400 [1:51:01<04:49,  2.90s/it]"
     ]
    },
    {
     "name": "stderr",
     "output_type": "stream",
     "text": [
      "\r\n",
      " 96%|██████████████████████████████████████████████████████████████████████████████████████████████████████████████████████████████████████████████████████████████████████████▎      | 2310/2400 [1:51:30<04:20,  2.90s/it]"
     ]
    },
    {
     "name": "stderr",
     "output_type": "stream",
     "text": [
      "\r\n",
      " 97%|███████████████████████████████████████████████████████████████████████████████████████████████████████████████████████████████████████████████████████████████████████████      | 2320/2400 [1:51:59<03:51,  2.90s/it]"
     ]
    },
    {
     "name": "stderr",
     "output_type": "stream",
     "text": [
      "\r\n",
      " 97%|███████████████████████████████████████████████████████████████████████████████████████████████████████████████████████████████████████████████████████████████████████████▊     | 2330/2400 [1:52:28<03:22,  2.90s/it]"
     ]
    },
    {
     "name": "stderr",
     "output_type": "stream",
     "text": [
      "\r\n",
      " 98%|████████████████████████████████████████████████████████████████████████████████████████████████████████████████████████████████████████████████████████████████████████████▌    | 2340/2400 [1:52:57<02:53,  2.90s/it]"
     ]
    },
    {
     "name": "stderr",
     "output_type": "stream",
     "text": [
      "\r\n",
      " 98%|█████████████████████████████████████████████████████████████████████████████████████████████████████████████████████████████████████████████████████████████████████████████▎   | 2350/2400 [1:53:26<02:24,  2.90s/it]"
     ]
    },
    {
     "name": "stderr",
     "output_type": "stream",
     "text": [
      "\r\n",
      " 98%|██████████████████████████████████████████████████████████████████████████████████████████████████████████████████████████████████████████████████████████████████████████████   | 2360/2400 [1:53:55<01:56,  2.91s/it]"
     ]
    },
    {
     "name": "stderr",
     "output_type": "stream",
     "text": [
      "\r\n",
      " 99%|██████████████████████████████████████████████████████████████████████████████████████████████████████████████████████████████████████████████████████████████████████████████▊  | 2370/2400 [1:54:24<01:27,  2.91s/it]"
     ]
    },
    {
     "name": "stderr",
     "output_type": "stream",
     "text": [
      "\r\n",
      " 99%|███████████████████████████████████████████████████████████████████████████████████████████████████████████████████████████████████████████████████████████████████████████████▌ | 2380/2400 [1:54:53<00:58,  2.91s/it]"
     ]
    },
    {
     "name": "stderr",
     "output_type": "stream",
     "text": [
      "\r\n",
      "100%|████████████████████████████████████████████████████████████████████████████████████████████████████████████████████████████████████████████████████████████████████████████████▎| 2390/2400 [1:55:22<00:29,  2.90s/it]"
     ]
    },
    {
     "name": "stderr",
     "output_type": "stream",
     "text": [
      "\r\n",
      "100%|█████████████████████████████████████████████████████████████████████████████████████████████████████████████████████████████████████████████████████████████████████████████████| 2400/2400 [1:55:51<00:00,  2.91s/it]"
     ]
    },
    {
     "name": "stderr",
     "output_type": "stream",
     "text": [
      "\r\n",
      "100%|█████████████████████████████████████████████████████████████████████████████████████████████████████████████████████████████████████████████████████████████████████████████████| 2400/2400 [1:55:51<00:00,  2.90s/it]"
     ]
    },
    {
     "name": "stderr",
     "output_type": "stream",
     "text": [
      "\n"
     ]
    }
   ],
   "source": [
    "# Params\n",
    "np.random.seed(42)\n",
    "genes_to_survey = adatas[0].var_names\n",
    "sim_time = 5.\n",
    "\n",
    "# Mute warnings (array wrap and indexing)\n",
    "import warnings\n",
    "warnings.simplefilter('ignore')\n",
    "\n",
    "# Create anndata\n",
    "ad_pert = ad.AnnData(obs=adatas[0].obs, var=pd.DataFrame(index=[f'Feature {i}' for i in range(env.dim)]))\n",
    "# ad_pert0 = ad.AnnData(obs=adatas[0].obs, var=adatas[0].var)\n",
    "# ad_pert1 = ad.AnnData(obs=adatas[1].obs, var=adatas[1].var)\n",
    "def add_layers(states, gene):\n",
    "    ad_pert.layers[gene] = states\n",
    "    # ad_pert0.layers[gene] = states_0\n",
    "    # ad_pert1.layers[gene] = states_1\n",
    "\n",
    "# Add results\n",
    "results = []\n",
    "def add_record(states, states_0, states_1, gene, ct):\n",
    "    results.append({\n",
    "        'Gene': gene, 'Cell Type': ct,\n",
    "        'Effect Size (Latent)': np.square(states[-1] - states[0]).mean(),\n",
    "        'Trajectory Length (Latent)': np.square(states[1:] - states[:-1]).mean(axis=(-2, -1)).sum(),\n",
    "        'Effect Size (Modality 0)': np.square(states_0[-1] - states_0[0]).mean(),\n",
    "        'Trajectory Length (Modality 0)': np.square(states_0[1:] - states_0[:-1]).mean(axis=(-2, -1)).sum(),\n",
    "        'Effect Size (Modality 1)': np.square(states_1[-1] - states_1[0]).mean(),\n",
    "        'Trajectory Length (Modality 1)': np.square(states_1[1:] - states_1[:-1]).mean(axis=(-2, -1)).sum()})\n",
    "    \n",
    "# Reset function\n",
    "def reset_env(env, steady_pos, steady_vel, modal_dict={}):\n",
    "    env.set_max_time(sim_time).reset()  # TODO: Maybe longer?, early stopping?\n",
    "    env.set_positions(steady_pos)\n",
    "    env.set_velocities(steady_vel)  # Maybe 0 manually?\n",
    "    for k, v in modal_dict.items():\n",
    "        env.modalities[k] = v\n",
    "\n",
    "# Running function\n",
    "def run_and_record(samples, env, policy, preprocessing, gene):\n",
    "    # Run and impute\n",
    "    states = celltrip.train.simulate_until_completion(env, policy, store_states='cpu')[-1]\n",
    "    states_pos = states[..., :env.dim]\n",
    "    with torch.no_grad():\n",
    "        imputed_states_0 = policy.pinning[0](states_pos.to('cuda')).detach().cpu().numpy()\n",
    "        imputed_states_1 = policy.pinning[1](states_pos.to('cuda')).detach().cpu().numpy()\n",
    "    imputed_states_0, = preprocessing.inverse_transform(imputed_states_0, subset_modality=0)\n",
    "    imputed_states_1, = preprocessing.inverse_transform(imputed_states_1, subset_modality=1)\n",
    "    # Record\n",
    "    add_layers(states_pos.numpy()[-1], gene)  # , imputed_states_0[-1], imputed_states_1[-1]\n",
    "    add_record(states_pos.numpy(), imputed_states_0, imputed_states_1, gene, 'All')\n",
    "    for ct in adatas[0][samples].obs['traj_sim'].unique():\n",
    "        add_record(\n",
    "            states_pos[:, adatas[0][samples].obs['traj_sim']==ct].numpy(),\n",
    "            imputed_states_0[:, adatas[0][samples].obs['traj_sim']==ct],\n",
    "            imputed_states_1[:, adatas[0][samples].obs['traj_sim']==ct],\n",
    "            gene, ct)\n",
    "\n",
    "# Subset and preprocess the data\n",
    "samples = adatas[0].obs.index\n",
    "raw_m1 = celltrip.utility.processing.chunk_X(adatas[0][samples], chunk_size=2_000)\n",
    "m1, m2 = [\n",
    "    celltrip.utility.processing.chunk_X(\n",
    "        ad[samples], chunk_size=2_000,\n",
    "        func=lambda x: preprocessing.transform(x, subset_modality=i)[0])\n",
    "        for i, ad in enumerate(adatas)]\n",
    "\n",
    "# Initialize environment\n",
    "env = celltrip.environment.EnvironmentBase(\n",
    "    torch.tensor(m1), torch.tensor(m2), compute_rewards=False, dim=8).eval(time_scale=1).to('cuda')\n",
    "\n",
    "# Simulate to steady state\n",
    "env.reset()\n",
    "celltrip.train.simulate_until_completion(env, policy)\n",
    "steady_pos, steady_vel = (env.pos, env.vel)\n",
    "\n",
    "# Run control\n",
    "reset_env(env, steady_pos, steady_vel)\n",
    "add_layers(steady_pos.cpu().numpy(), 'Steady')\n",
    "run_and_record(samples, env, policy, preprocessing, 'Control')\n",
    "\n",
    "# Perturb\n",
    "for gene in tqdm.tqdm(genes_to_survey, miniters=10, maxinterval=30):\n",
    "    # Get gene idx and reset environment\n",
    "    gene_idx = np.argwhere(adatas[0].var_names==gene).flatten()\n",
    "    reset_env(env, steady_pos, steady_vel)  # {0: torch.tensor(m1).cuda()}\n",
    "\n",
    "    # Apply knockdown\n",
    "    # iso_modality, = preprocessing.transform(raw_m1, subset_features=gene_idx, subset_modality=0)\n",
    "    iso_modality = celltrip.utility.processing.chunk(\n",
    "        raw_m1, chunk_size=2_000, func=lambda x: preprocessing.transform(x, subset_features=gene_idx, subset_modality=0)[0])\n",
    "    iso_modality = torch.tensor(iso_modality).to(env.device)\n",
    "    modal_change = (iso_modality - 0*iso_modality)  # Coeff is for overexp anal\n",
    "    env.modalities[0] = env.modalities[0] - modal_change\n",
    "\n",
    "    # Simulate and record\n",
    "    run_and_record(samples, env, policy, preprocessing, gene)\n",
    "    env.modalities[0] = env.modalities[0] + modal_change\n",
    "\n",
    "# Convert and save\n",
    "pd.DataFrame(results).to_csv('../plots/dyngen/knockdown.csv', index=None)\n",
    "ad_pert.write_h5ad('../plots/dyngen/knockdown_results.h5ad')\n",
    "# ad_pert0.write_h5ad('../plots/dyngen/knockdown_results_modality_0.csv')\n",
    "# ad_pert1.write_h5ad('../plots/dyngen/knockdown_results_modality_1.csv')\n"
   ]
  },
  {
   "cell_type": "code",
   "execution_count": 5,
   "id": "91dd0a3c",
   "metadata": {
    "execution": {
     "iopub.execute_input": "2025-09-29T09:24:07.242121Z",
     "iopub.status.busy": "2025-09-29T09:24:07.241934Z",
     "iopub.status.idle": "2025-09-29T09:24:07.268215Z",
     "shell.execute_reply": "2025-09-29T09:24:07.267799Z"
    }
   },
   "outputs": [],
   "source": [
    "# knockdown = pd.read_csv('../plots/dyngen/knockdown.csv', index_col=None)\n",
    "# # knockdown.groupby(['Gene', 'Cell Type']).first().head(30)\n",
    "# ad_pert = ad.read_h5ad('../plots/dyngen/knockdown_results.h5ad')\n",
    "# ad_pert\n"
   ]
  }
 ],
 "metadata": {
  "kernelspec": {
   "display_name": "ct",
   "language": "python",
   "name": "python3"
  },
  "language_info": {
   "codemirror_mode": {
    "name": "ipython",
    "version": 3
   },
   "file_extension": ".py",
   "mimetype": "text/x-python",
   "name": "python",
   "nbconvert_exporter": "python",
   "pygments_lexer": "ipython3",
   "version": "3.10.16"
  }
 },
 "nbformat": 4,
 "nbformat_minor": 5
}
