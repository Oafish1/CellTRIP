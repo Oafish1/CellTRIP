{
 "cells": [
  {
   "cell_type": "code",
   "execution_count": 1,
   "id": "1bc6db96",
   "metadata": {
    "execution": {
     "iopub.execute_input": "2025-10-21T00:42:29.040158Z",
     "iopub.status.busy": "2025-10-21T00:42:29.039976Z",
     "iopub.status.idle": "2025-10-21T00:42:29.056219Z",
     "shell.execute_reply": "2025-10-21T00:42:29.055671Z"
    }
   },
   "outputs": [],
   "source": [
    "%load_ext autoreload\n",
    "%autoreload 2\n"
   ]
  },
  {
   "cell_type": "code",
   "execution_count": 2,
   "id": "b2754518",
   "metadata": {
    "execution": {
     "iopub.execute_input": "2025-10-21T00:42:29.058339Z",
     "iopub.status.busy": "2025-10-21T00:42:29.057988Z",
     "iopub.status.idle": "2025-10-21T00:42:43.062052Z",
     "shell.execute_reply": "2025-10-21T00:42:43.057990Z"
    }
   },
   "outputs": [],
   "source": [
    "import os\n",
    "\n",
    "import matplotlib as mpl\n",
    "import matplotlib.pyplot as plt\n",
    "import numpy as np\n",
    "import pandas as pd\n",
    "import scipy\n",
    "import seaborn as sns\n",
    "import sklearn\n",
    "import torch\n",
    "import tqdm\n",
    "import umap\n",
    "\n",
    "import celltrip\n",
    "\n",
    "# os.environ['CUDA_LAUNCH_BLOCKING'] = \"1\"\n"
   ]
  },
  {
   "cell_type": "markdown",
   "id": "5a1aac9c",
   "metadata": {},
   "source": [
    "# Load Data and Policy"
   ]
  },
  {
   "cell_type": "code",
   "execution_count": 3,
   "id": "6367c9c1",
   "metadata": {
    "execution": {
     "iopub.execute_input": "2025-10-21T00:42:43.069513Z",
     "iopub.status.busy": "2025-10-21T00:42:43.069155Z",
     "iopub.status.idle": "2025-10-21T00:43:15.498628Z",
     "shell.execute_reply": "2025-10-21T00:43:15.498016Z"
    }
   },
   "outputs": [],
   "source": [
    "# Read data files\n",
    "# adata, = celltrip.utility.processing.read_adatas('../data/VirtualCell/expression.h5ad', backed=True)\n",
    "adata, = celltrip.utility.processing.read_adatas('s3://nkalafut-celltrip/VirtualCell/expression.h5ad', backed=True)\n",
    "# Model location and name (should be prefix for .weights, .pre, and .mask file)\n",
    "# prefix, training_step = 's3://nkalafut-celltrip/checkpoints/vcc-251001', 800  # No mask\n",
    "# prefix, training_step = 's3://nkalafut-celltrip/checkpoints/vcc-251006', 800  # Normal\n",
    "# prefix, training_step = 's3://nkalafut-celltrip/checkpoints/vcc-251007', 800  # 16 dim - Not much diff. betw. runs\n",
    "# prefix, training_step = 's3://nkalafut-celltrip/checkpoints/vcc-251007-celllog', 800  # 16 dim - sample and log norm\n",
    "prefix, training_step = 's3://nkalafut-celltrip/checkpoints/vcc-251007-celllog-32', 800  # 32 dim\n",
    "# prefix, training_step = 's3://nkalafut-celltrip/checkpoints/vcc-251008-celllog-64', 800  # 64 dim, 1024 PCA\n",
    "# Generate or load preprocessing\n",
    "preprocessing = celltrip.utility.processing.Preprocessing().load(f'{prefix}.pre')\n",
    "with celltrip.utility.general.open_s3_or_local(f'{prefix}.mask', 'rb') as f:\n",
    "    mask = np.loadtxt(f).astype(bool)\n",
    "# assert (adata.obs['training'] == mask).all()\n",
    "# Create sample env (kind of a dumb workaround, TODO)\n",
    "m1, = preprocessing.transform([adata[:2].X])\n",
    "env = celltrip.environment.EnvironmentBase(\n",
    "    torch.tensor(m1), compute_rewards=False, dim=32).eval().to('cuda')\n",
    "# Load policy\n",
    "policy = celltrip.policy.create_agent_from_env(\n",
    "    env, forward_batch_size=100, vision_size=1_000).eval().to('cuda')  # TODO Forward batch size reduced\n",
    "policy.load_checkpoint(f'{prefix}-{training_step:04}.weights');\n"
   ]
  },
  {
   "cell_type": "code",
   "execution_count": 4,
   "id": "342ebece",
   "metadata": {
    "execution": {
     "iopub.execute_input": "2025-10-21T00:43:15.501097Z",
     "iopub.status.busy": "2025-10-21T00:43:15.500530Z",
     "iopub.status.idle": "2025-10-21T00:43:16.138935Z",
     "shell.execute_reply": "2025-10-21T00:43:16.135864Z"
    }
   },
   "outputs": [],
   "source": [
    "preprocessing_nopca = celltrip.utility.processing.Preprocessing().load(f'{prefix}.pre')\n",
    "preprocessing_nopca.pca_dim = None\n"
   ]
  },
  {
   "cell_type": "markdown",
   "id": "ff9367fa",
   "metadata": {},
   "source": [
    "# Generate Steady State"
   ]
  },
  {
   "cell_type": "code",
   "execution_count": null,
   "id": "4a556b65",
   "metadata": {
    "execution": {
     "iopub.execute_input": "2025-10-21T00:43:16.143338Z",
     "iopub.status.busy": "2025-10-21T00:43:16.143128Z",
     "iopub.status.idle": "2025-10-21T00:43:16.209290Z",
     "shell.execute_reply": "2025-10-21T00:43:16.208679Z"
    }
   },
   "outputs": [],
   "source": [
    "# # Get random sample\n",
    "# np.random.seed(42)\n",
    "# sample_idx = np.sort(np.random.choice(adata.obs.shape[0], 10_000, replace=False))\n",
    "# m1_raw = celltrip.utility.processing.chunk(adata[sample_idx].X, chunk_size=2_000)\n",
    "# m1, = preprocessing.transform([m1_raw])\n"
   ]
  },
  {
   "cell_type": "code",
   "execution_count": 6,
   "id": "62e9837f",
   "metadata": {
    "execution": {
     "iopub.execute_input": "2025-10-21T00:43:16.216043Z",
     "iopub.status.busy": "2025-10-21T00:43:16.215588Z",
     "iopub.status.idle": "2025-10-21T00:43:16.454550Z",
     "shell.execute_reply": "2025-10-21T00:43:16.453968Z"
    }
   },
   "outputs": [],
   "source": [
    "# # Create environment\n",
    "# env = celltrip.environment.EnvironmentBase(\n",
    "#     torch.tensor(m1), compute_rewards=False, dim=8).eval(time_scale=1).to('cuda')\n",
    "\n",
    "# # Simulate\n",
    "# ret = celltrip.train.simulate_until_completion(env, policy, skip_states=100, store_states='cpu', progress_bar=True)\n",
    "# steady_state = ret[-1][-1, :, :env.dim]\n",
    "# # target_state = env.modalities[env.target_modalities[0]].cpu()\n",
    "\n",
    "# # Impute\n",
    "# with torch.no_grad():\n",
    "#     imputed_steady_state = policy.pinning[0](steady_state.to('cuda')).detach().cpu().numpy()\n",
    "# imputed_steady_state, = preprocessing.inverse_transform([imputed_steady_state])\n",
    "\n",
    "# # Compute accuracy\n",
    "# mse = np.square(m1_raw - imputed_steady_state).mean()\n",
    "# print(f'MSE: {mse:.3f}')\n"
   ]
  },
  {
   "cell_type": "code",
   "execution_count": 7,
   "id": "a3d05b0d",
   "metadata": {
    "execution": {
     "iopub.execute_input": "2025-10-21T00:43:16.460065Z",
     "iopub.status.busy": "2025-10-21T00:43:16.459860Z",
     "iopub.status.idle": "2025-10-21T00:43:16.706667Z",
     "shell.execute_reply": "2025-10-21T00:43:16.706067Z"
    }
   },
   "outputs": [],
   "source": [
    "# # Latent space plot\n",
    "# red = umap.UMAP(random_state=42)\n",
    "# df = pd.DataFrame(index=sample_idx)\n",
    "# df[['X_lat', 'Y_lat']] = red.fit_transform(steady_state)\n",
    "# df['Target'] = adata[sample_idx].obs['target_gene'].to_numpy()\n",
    "# df['Select Targets'] = df['Target']\n",
    "# df.loc[~df['Target'].isin(['TMSB4X', 'EWSR1', 'non-targeting']), 'Select Targets'] = 'Other'\n",
    "# fig, ax = plt.subplots(1, 1, figsize=(5, 5))\n",
    "# sns.scatterplot(df, x='X_lat', y='Y_lat', hue='Select Targets', s=5, legend=True, ax=ax)\n"
   ]
  },
  {
   "cell_type": "markdown",
   "id": "514c2efb",
   "metadata": {},
   "source": [
    "# Predict Perturbation Outcomes"
   ]
  },
  {
   "cell_type": "code",
   "execution_count": null,
   "id": "dc839e19",
   "metadata": {
    "execution": {
     "iopub.execute_input": "2025-10-21T00:43:16.709405Z",
     "iopub.status.busy": "2025-10-21T00:43:16.708929Z",
     "iopub.status.idle": "2025-10-21T00:47:15.662187Z",
     "shell.execute_reply": "2025-10-21T00:47:15.661437Z"
    }
   },
   "outputs": [
    {
     "name": "stderr",
     "output_type": "stream",
     "text": [
      "\r\n",
      "0it [00:00, ?it/s]"
     ]
    },
    {
     "name": "stderr",
     "output_type": "stream",
     "text": [
      "\r\n",
      "1it [00:03,  3.76s/it]"
     ]
    },
    {
     "name": "stderr",
     "output_type": "stream",
     "text": [
      "\r\n",
      "5it [00:03,  1.71it/s]"
     ]
    },
    {
     "name": "stderr",
     "output_type": "stream",
     "text": [
      "\r\n",
      "13it [00:03,  5.58it/s]"
     ]
    },
    {
     "name": "stderr",
     "output_type": "stream",
     "text": [
      "\r\n",
      "22it [00:04, 11.06it/s]"
     ]
    },
    {
     "name": "stderr",
     "output_type": "stream",
     "text": [
      "\r\n",
      "31it [00:04, 17.62it/s]"
     ]
    },
    {
     "name": "stderr",
     "output_type": "stream",
     "text": [
      "\r\n",
      "40it [00:04, 25.08it/s]"
     ]
    },
    {
     "name": "stderr",
     "output_type": "stream",
     "text": [
      "\r\n",
      "48it [00:04, 32.22it/s]"
     ]
    },
    {
     "name": "stderr",
     "output_type": "stream",
     "text": [
      "\r\n",
      "56it [00:04, 39.56it/s]"
     ]
    },
    {
     "name": "stderr",
     "output_type": "stream",
     "text": [
      "\r\n",
      "64it [00:04, 46.49it/s]"
     ]
    },
    {
     "name": "stderr",
     "output_type": "stream",
     "text": [
      "\r\n",
      "72it [00:04, 52.80it/s]"
     ]
    },
    {
     "name": "stderr",
     "output_type": "stream",
     "text": [
      "\r\n",
      "80it [00:04, 58.24it/s]"
     ]
    },
    {
     "name": "stderr",
     "output_type": "stream",
     "text": [
      "\r\n",
      "88it [00:04, 62.66it/s]"
     ]
    },
    {
     "name": "stderr",
     "output_type": "stream",
     "text": [
      "\r\n",
      "96it [00:05, 66.60it/s]"
     ]
    },
    {
     "name": "stderr",
     "output_type": "stream",
     "text": [
      "\r\n",
      "104it [00:05, 66.55it/s]"
     ]
    },
    {
     "name": "stderr",
     "output_type": "stream",
     "text": [
      "\r\n",
      "112it [00:05, 42.38it/s]"
     ]
    },
    {
     "name": "stderr",
     "output_type": "stream",
     "text": [
      "\r\n",
      "118it [00:05, 36.42it/s]"
     ]
    },
    {
     "name": "stderr",
     "output_type": "stream",
     "text": [
      "\r\n",
      "126it [00:05, 43.35it/s]"
     ]
    },
    {
     "name": "stderr",
     "output_type": "stream",
     "text": [
      "\r\n",
      "134it [00:05, 49.52it/s]"
     ]
    },
    {
     "name": "stderr",
     "output_type": "stream",
     "text": [
      "\r\n",
      "142it [00:06, 56.09it/s]"
     ]
    },
    {
     "name": "stderr",
     "output_type": "stream",
     "text": [
      "\r\n",
      "150it [00:06, 61.12it/s]"
     ]
    },
    {
     "name": "stderr",
     "output_type": "stream",
     "text": [
      "\r\n",
      "158it [00:06, 65.50it/s]"
     ]
    },
    {
     "name": "stderr",
     "output_type": "stream",
     "text": [
      "\r\n",
      "166it [00:06, 68.56it/s]"
     ]
    },
    {
     "name": "stderr",
     "output_type": "stream",
     "text": [
      "\r\n",
      "174it [00:06, 70.76it/s]"
     ]
    },
    {
     "name": "stderr",
     "output_type": "stream",
     "text": [
      "\r\n",
      "182it [00:06, 73.24it/s]"
     ]
    },
    {
     "name": "stderr",
     "output_type": "stream",
     "text": [
      "\r\n",
      "190it [00:06, 74.85it/s]"
     ]
    },
    {
     "name": "stderr",
     "output_type": "stream",
     "text": [
      "\r\n",
      "198it [00:06, 75.55it/s]"
     ]
    },
    {
     "name": "stderr",
     "output_type": "stream",
     "text": [
      "\r\n",
      "206it [00:06, 76.19it/s]"
     ]
    },
    {
     "name": "stderr",
     "output_type": "stream",
     "text": [
      "\r\n",
      "214it [00:06, 76.41it/s]"
     ]
    },
    {
     "name": "stderr",
     "output_type": "stream",
     "text": [
      "\r\n",
      "222it [00:07, 59.38it/s]"
     ]
    },
    {
     "name": "stderr",
     "output_type": "stream",
     "text": [
      "\r\n",
      "229it [00:07, 42.29it/s]"
     ]
    },
    {
     "name": "stderr",
     "output_type": "stream",
     "text": [
      "\r\n",
      "235it [00:07, 39.95it/s]"
     ]
    },
    {
     "name": "stderr",
     "output_type": "stream",
     "text": [
      "\r\n",
      "243it [00:07, 47.27it/s]"
     ]
    },
    {
     "name": "stderr",
     "output_type": "stream",
     "text": [
      "\r\n",
      "251it [00:07, 53.76it/s]"
     ]
    },
    {
     "name": "stderr",
     "output_type": "stream",
     "text": [
      "\r\n",
      "259it [00:07, 59.86it/s]"
     ]
    },
    {
     "name": "stderr",
     "output_type": "stream",
     "text": [
      "\r\n",
      "267it [00:08, 64.74it/s]"
     ]
    },
    {
     "name": "stderr",
     "output_type": "stream",
     "text": [
      "\r\n",
      "275it [00:08, 68.19it/s]"
     ]
    },
    {
     "name": "stderr",
     "output_type": "stream",
     "text": [
      "\r\n",
      "284it [00:08, 72.08it/s]"
     ]
    },
    {
     "name": "stderr",
     "output_type": "stream",
     "text": [
      "\r\n",
      "293it [00:08, 74.58it/s]"
     ]
    },
    {
     "name": "stderr",
     "output_type": "stream",
     "text": [
      "\r\n",
      "301it [00:08, 75.77it/s]"
     ]
    },
    {
     "name": "stderr",
     "output_type": "stream",
     "text": [
      "\r\n",
      "309it [00:08, 76.16it/s]"
     ]
    },
    {
     "name": "stderr",
     "output_type": "stream",
     "text": [
      "\r\n",
      "318it [00:08, 77.84it/s]"
     ]
    },
    {
     "name": "stderr",
     "output_type": "stream",
     "text": [
      "\r\n",
      "327it [00:08, 77.14it/s]"
     ]
    },
    {
     "name": "stderr",
     "output_type": "stream",
     "text": [
      "\r\n",
      "335it [00:09, 50.45it/s]"
     ]
    },
    {
     "name": "stderr",
     "output_type": "stream",
     "text": [
      "\r\n",
      "342it [00:09, 47.05it/s]"
     ]
    },
    {
     "name": "stderr",
     "output_type": "stream",
     "text": [
      "\r\n",
      "348it [00:09, 44.27it/s]"
     ]
    },
    {
     "name": "stderr",
     "output_type": "stream",
     "text": [
      "\r\n",
      "357it [00:09, 52.24it/s]"
     ]
    },
    {
     "name": "stderr",
     "output_type": "stream",
     "text": [
      "\r\n",
      "365it [00:09, 58.36it/s]"
     ]
    },
    {
     "name": "stderr",
     "output_type": "stream",
     "text": [
      "\r\n",
      "373it [00:09, 63.34it/s]"
     ]
    },
    {
     "name": "stderr",
     "output_type": "stream",
     "text": [
      "\r\n",
      "381it [00:09, 67.53it/s]"
     ]
    },
    {
     "name": "stderr",
     "output_type": "stream",
     "text": [
      "\r\n",
      "389it [00:09, 70.52it/s]"
     ]
    },
    {
     "name": "stderr",
     "output_type": "stream",
     "text": [
      "\r\n",
      "397it [00:10, 72.19it/s]"
     ]
    },
    {
     "name": "stderr",
     "output_type": "stream",
     "text": [
      "\r\n",
      "405it [00:10, 74.03it/s]"
     ]
    },
    {
     "name": "stderr",
     "output_type": "stream",
     "text": [
      "\r\n",
      "413it [00:10, 75.62it/s]"
     ]
    },
    {
     "name": "stderr",
     "output_type": "stream",
     "text": [
      "\r\n",
      "421it [00:10, 76.77it/s]"
     ]
    },
    {
     "name": "stderr",
     "output_type": "stream",
     "text": [
      "\r\n",
      "429it [00:10, 76.53it/s]"
     ]
    },
    {
     "name": "stderr",
     "output_type": "stream",
     "text": [
      "\r\n",
      "437it [00:10, 76.69it/s]"
     ]
    },
    {
     "name": "stderr",
     "output_type": "stream",
     "text": [
      "\r\n",
      "445it [00:10, 67.57it/s]"
     ]
    },
    {
     "name": "stderr",
     "output_type": "stream",
     "text": [
      "\r\n",
      "452it [00:10, 57.00it/s]"
     ]
    },
    {
     "name": "stderr",
     "output_type": "stream",
     "text": [
      "\r\n",
      "459it [00:11, 48.06it/s]"
     ]
    },
    {
     "name": "stderr",
     "output_type": "stream",
     "text": [
      "\r\n",
      "465it [00:11, 46.88it/s]"
     ]
    },
    {
     "name": "stderr",
     "output_type": "stream",
     "text": [
      "\r\n",
      "471it [00:11, 48.33it/s]"
     ]
    },
    {
     "name": "stderr",
     "output_type": "stream",
     "text": [
      "\r\n",
      "477it [00:11, 49.53it/s]"
     ]
    },
    {
     "name": "stderr",
     "output_type": "stream",
     "text": [
      "\r\n",
      "485it [00:11, 56.52it/s]"
     ]
    },
    {
     "name": "stderr",
     "output_type": "stream",
     "text": [
      "\r\n",
      "493it [00:11, 61.67it/s]"
     ]
    },
    {
     "name": "stderr",
     "output_type": "stream",
     "text": [
      "\r\n",
      "501it [00:11, 65.56it/s]"
     ]
    },
    {
     "name": "stderr",
     "output_type": "stream",
     "text": [
      "\r\n",
      "509it [00:11, 68.62it/s]"
     ]
    },
    {
     "name": "stderr",
     "output_type": "stream",
     "text": [
      "\r\n",
      "517it [00:12, 71.57it/s]"
     ]
    },
    {
     "name": "stderr",
     "output_type": "stream",
     "text": [
      "\r\n",
      "525it [00:12, 73.69it/s]"
     ]
    },
    {
     "name": "stderr",
     "output_type": "stream",
     "text": [
      "\r\n",
      "533it [00:12, 74.79it/s]"
     ]
    },
    {
     "name": "stderr",
     "output_type": "stream",
     "text": [
      "\r\n",
      "541it [00:12, 75.56it/s]"
     ]
    },
    {
     "name": "stderr",
     "output_type": "stream",
     "text": [
      "\r\n",
      "549it [00:12, 76.75it/s]"
     ]
    },
    {
     "name": "stderr",
     "output_type": "stream",
     "text": [
      "\r\n",
      "557it [00:12, 76.96it/s]"
     ]
    },
    {
     "name": "stderr",
     "output_type": "stream",
     "text": [
      "\r\n",
      "565it [00:12, 77.59it/s]"
     ]
    },
    {
     "name": "stderr",
     "output_type": "stream",
     "text": [
      "\r\n",
      "573it [00:12, 63.06it/s]"
     ]
    },
    {
     "name": "stderr",
     "output_type": "stream",
     "text": [
      "\r\n",
      "580it [00:13, 47.58it/s]"
     ]
    },
    {
     "name": "stderr",
     "output_type": "stream",
     "text": [
      "\r\n",
      "586it [00:13, 43.01it/s]"
     ]
    },
    {
     "name": "stderr",
     "output_type": "stream",
     "text": [
      "\r\n",
      "594it [00:13, 49.78it/s]"
     ]
    },
    {
     "name": "stderr",
     "output_type": "stream",
     "text": [
      "\r\n",
      "602it [00:13, 56.37it/s]"
     ]
    },
    {
     "name": "stderr",
     "output_type": "stream",
     "text": [
      "\r\n",
      "610it [00:13, 61.51it/s]"
     ]
    },
    {
     "name": "stderr",
     "output_type": "stream",
     "text": [
      "\r\n",
      "618it [00:13, 65.58it/s]"
     ]
    },
    {
     "name": "stderr",
     "output_type": "stream",
     "text": [
      "\r\n",
      "626it [00:13, 68.57it/s]"
     ]
    },
    {
     "name": "stderr",
     "output_type": "stream",
     "text": [
      "\r\n",
      "634it [00:13, 71.55it/s]"
     ]
    },
    {
     "name": "stderr",
     "output_type": "stream",
     "text": [
      "\r\n",
      "642it [00:13, 73.17it/s]"
     ]
    },
    {
     "name": "stderr",
     "output_type": "stream",
     "text": [
      "\r\n",
      "650it [00:14, 74.04it/s]"
     ]
    },
    {
     "name": "stderr",
     "output_type": "stream",
     "text": [
      "\r\n",
      "658it [00:14, 75.00it/s]"
     ]
    },
    {
     "name": "stderr",
     "output_type": "stream",
     "text": [
      "\r\n",
      "666it [00:14, 74.42it/s]"
     ]
    },
    {
     "name": "stderr",
     "output_type": "stream",
     "text": [
      "\r\n",
      "675it [00:14, 76.37it/s]"
     ]
    },
    {
     "name": "stderr",
     "output_type": "stream",
     "text": [
      "\r\n",
      "683it [00:14, 69.36it/s]"
     ]
    },
    {
     "name": "stderr",
     "output_type": "stream",
     "text": [
      "\r\n",
      "691it [00:14, 61.68it/s]"
     ]
    },
    {
     "name": "stderr",
     "output_type": "stream",
     "text": [
      "\r\n",
      "698it [00:14, 57.04it/s]"
     ]
    },
    {
     "name": "stderr",
     "output_type": "stream",
     "text": [
      "\r\n",
      "704it [00:14, 55.56it/s]"
     ]
    },
    {
     "name": "stderr",
     "output_type": "stream",
     "text": [
      "\r\n",
      "710it [00:15, 52.94it/s]"
     ]
    },
    {
     "name": "stderr",
     "output_type": "stream",
     "text": [
      "\r\n",
      "718it [00:15, 57.75it/s]"
     ]
    },
    {
     "name": "stderr",
     "output_type": "stream",
     "text": [
      "\r\n",
      "726it [00:15, 61.75it/s]"
     ]
    },
    {
     "name": "stderr",
     "output_type": "stream",
     "text": [
      "\r\n",
      "734it [00:15, 65.56it/s]"
     ]
    },
    {
     "name": "stderr",
     "output_type": "stream",
     "text": [
      "\r\n",
      "742it [00:15, 67.83it/s]"
     ]
    },
    {
     "name": "stderr",
     "output_type": "stream",
     "text": [
      "\r\n",
      "750it [00:15, 69.89it/s]"
     ]
    },
    {
     "name": "stderr",
     "output_type": "stream",
     "text": [
      "\r\n",
      "758it [00:15, 72.56it/s]"
     ]
    },
    {
     "name": "stderr",
     "output_type": "stream",
     "text": [
      "\r\n",
      "766it [00:15, 74.04it/s]"
     ]
    },
    {
     "name": "stderr",
     "output_type": "stream",
     "text": [
      "\r\n",
      "775it [00:15, 75.51it/s]"
     ]
    },
    {
     "name": "stderr",
     "output_type": "stream",
     "text": [
      "\r\n",
      "783it [00:16, 76.04it/s]"
     ]
    },
    {
     "name": "stderr",
     "output_type": "stream",
     "text": [
      "\r\n",
      "791it [00:16, 75.71it/s]"
     ]
    },
    {
     "name": "stderr",
     "output_type": "stream",
     "text": [
      "\r\n",
      "799it [00:16, 76.25it/s]"
     ]
    },
    {
     "name": "stderr",
     "output_type": "stream",
     "text": [
      "\r\n",
      "807it [00:16, 70.69it/s]"
     ]
    },
    {
     "name": "stderr",
     "output_type": "stream",
     "text": [
      "\r\n",
      "815it [00:16, 49.13it/s]"
     ]
    },
    {
     "name": "stderr",
     "output_type": "stream",
     "text": [
      "\r\n",
      "821it [00:16, 47.19it/s]"
     ]
    },
    {
     "name": "stderr",
     "output_type": "stream",
     "text": [
      "\r\n",
      "827it [00:17, 41.63it/s]"
     ]
    },
    {
     "name": "stderr",
     "output_type": "stream",
     "text": [
      "\r\n",
      "834it [00:17, 47.25it/s]"
     ]
    },
    {
     "name": "stderr",
     "output_type": "stream",
     "text": [
      "\r\n",
      "842it [00:17, 54.29it/s]"
     ]
    },
    {
     "name": "stderr",
     "output_type": "stream",
     "text": [
      "\r\n",
      "850it [00:17, 60.12it/s]"
     ]
    },
    {
     "name": "stderr",
     "output_type": "stream",
     "text": [
      "\r\n",
      "858it [00:17, 64.69it/s]"
     ]
    },
    {
     "name": "stderr",
     "output_type": "stream",
     "text": [
      "\r\n",
      "866it [00:17, 67.76it/s]"
     ]
    },
    {
     "name": "stderr",
     "output_type": "stream",
     "text": [
      "\r\n",
      "874it [00:17, 70.02it/s]"
     ]
    },
    {
     "name": "stderr",
     "output_type": "stream",
     "text": [
      "\r\n",
      "882it [00:17, 71.77it/s]"
     ]
    },
    {
     "name": "stderr",
     "output_type": "stream",
     "text": [
      "\r\n",
      "890it [00:17, 72.98it/s]"
     ]
    },
    {
     "name": "stderr",
     "output_type": "stream",
     "text": [
      "\r\n",
      "898it [00:17, 73.82it/s]"
     ]
    },
    {
     "name": "stderr",
     "output_type": "stream",
     "text": [
      "\r\n",
      "906it [00:18, 74.36it/s]"
     ]
    },
    {
     "name": "stderr",
     "output_type": "stream",
     "text": [
      "\r\n",
      "914it [00:18, 75.00it/s]"
     ]
    },
    {
     "name": "stderr",
     "output_type": "stream",
     "text": [
      "\r\n",
      "922it [00:18, 64.66it/s]"
     ]
    },
    {
     "name": "stderr",
     "output_type": "stream",
     "text": [
      "\r\n",
      "929it [00:18, 43.95it/s]"
     ]
    },
    {
     "name": "stderr",
     "output_type": "stream",
     "text": [
      "\r\n",
      "935it [00:18, 44.18it/s]"
     ]
    },
    {
     "name": "stderr",
     "output_type": "stream",
     "text": [
      "\r\n",
      "941it [00:18, 46.21it/s]"
     ]
    },
    {
     "name": "stderr",
     "output_type": "stream",
     "text": [
      "\r\n",
      "949it [00:18, 52.99it/s]"
     ]
    },
    {
     "name": "stderr",
     "output_type": "stream",
     "text": [
      "\r\n",
      "957it [00:19, 59.23it/s]"
     ]
    },
    {
     "name": "stderr",
     "output_type": "stream",
     "text": [
      "\r\n",
      "965it [00:19, 64.24it/s]"
     ]
    },
    {
     "name": "stderr",
     "output_type": "stream",
     "text": [
      "\r\n",
      "973it [00:19, 68.00it/s]"
     ]
    },
    {
     "name": "stderr",
     "output_type": "stream",
     "text": [
      "\r\n",
      "981it [00:19, 71.17it/s]"
     ]
    },
    {
     "name": "stderr",
     "output_type": "stream",
     "text": [
      "\r\n",
      "989it [00:19, 73.58it/s]"
     ]
    },
    {
     "name": "stderr",
     "output_type": "stream",
     "text": [
      "\r\n",
      "997it [00:19, 75.36it/s]"
     ]
    },
    {
     "name": "stderr",
     "output_type": "stream",
     "text": [
      "\r\n",
      "1005it [00:19, 76.43it/s]"
     ]
    },
    {
     "name": "stderr",
     "output_type": "stream",
     "text": [
      "\r\n",
      "1013it [00:19, 77.27it/s]"
     ]
    },
    {
     "name": "stderr",
     "output_type": "stream",
     "text": [
      "\r\n",
      "1022it [00:19, 78.73it/s]"
     ]
    },
    {
     "name": "stderr",
     "output_type": "stream",
     "text": [
      "\r\n",
      "1031it [00:19, 80.19it/s]"
     ]
    },
    {
     "name": "stderr",
     "output_type": "stream",
     "text": [
      "\r\n",
      "1040it [00:20, 75.17it/s]"
     ]
    },
    {
     "name": "stderr",
     "output_type": "stream",
     "text": [
      "\r\n",
      "1048it [00:20, 66.14it/s]"
     ]
    },
    {
     "name": "stderr",
     "output_type": "stream",
     "text": [
      "\r\n",
      "1055it [00:20, 61.08it/s]"
     ]
    },
    {
     "name": "stderr",
     "output_type": "stream",
     "text": [
      "\r\n",
      "1062it [00:20, 54.53it/s]"
     ]
    },
    {
     "name": "stderr",
     "output_type": "stream",
     "text": [
      "\r\n",
      "1068it [00:20, 55.09it/s]"
     ]
    },
    {
     "name": "stderr",
     "output_type": "stream",
     "text": [
      "\r\n",
      "1077it [00:20, 61.99it/s]"
     ]
    },
    {
     "name": "stderr",
     "output_type": "stream",
     "text": [
      "\r\n",
      "1086it [00:20, 67.36it/s]"
     ]
    },
    {
     "name": "stderr",
     "output_type": "stream",
     "text": [
      "\r\n",
      "1094it [00:21, 70.67it/s]"
     ]
    },
    {
     "name": "stderr",
     "output_type": "stream",
     "text": [
      "\r\n",
      "1102it [00:21, 73.16it/s]"
     ]
    },
    {
     "name": "stderr",
     "output_type": "stream",
     "text": [
      "\r\n",
      "1110it [00:21, 74.93it/s]"
     ]
    },
    {
     "name": "stderr",
     "output_type": "stream",
     "text": [
      "\r\n",
      "1119it [00:21, 77.41it/s]"
     ]
    },
    {
     "name": "stderr",
     "output_type": "stream",
     "text": [
      "\r\n",
      "1128it [00:21, 78.55it/s]"
     ]
    },
    {
     "name": "stderr",
     "output_type": "stream",
     "text": [
      "\r\n",
      "1136it [00:21, 78.89it/s]"
     ]
    },
    {
     "name": "stderr",
     "output_type": "stream",
     "text": [
      "\r\n",
      "1145it [00:21, 79.09it/s]"
     ]
    },
    {
     "name": "stderr",
     "output_type": "stream",
     "text": [
      "\r\n",
      "1154it [00:21, 79.50it/s]"
     ]
    },
    {
     "name": "stderr",
     "output_type": "stream",
     "text": [
      "\r\n",
      "1162it [00:21, 78.68it/s]"
     ]
    },
    {
     "name": "stderr",
     "output_type": "stream",
     "text": [
      "\r\n",
      "1170it [00:22, 71.75it/s]"
     ]
    },
    {
     "name": "stderr",
     "output_type": "stream",
     "text": [
      "\r\n",
      "1178it [00:22, 64.10it/s]"
     ]
    },
    {
     "name": "stderr",
     "output_type": "stream",
     "text": [
      "\r\n",
      "1185it [00:22, 59.70it/s]"
     ]
    },
    {
     "name": "stderr",
     "output_type": "stream",
     "text": [
      "\r\n",
      "1192it [00:22, 50.79it/s]"
     ]
    },
    {
     "name": "stderr",
     "output_type": "stream",
     "text": [
      "\r\n",
      "1198it [00:22, 49.21it/s]"
     ]
    },
    {
     "name": "stderr",
     "output_type": "stream",
     "text": [
      "\r\n",
      "1206it [00:22, 55.22it/s]"
     ]
    },
    {
     "name": "stderr",
     "output_type": "stream",
     "text": [
      "\r\n",
      "1214it [00:22, 61.13it/s]"
     ]
    },
    {
     "name": "stderr",
     "output_type": "stream",
     "text": [
      "\r\n",
      "1222it [00:22, 65.84it/s]"
     ]
    },
    {
     "name": "stderr",
     "output_type": "stream",
     "text": [
      "\r\n",
      "1230it [00:23, 69.46it/s]"
     ]
    },
    {
     "name": "stderr",
     "output_type": "stream",
     "text": [
      "\r\n",
      "1238it [00:23, 70.91it/s]"
     ]
    },
    {
     "name": "stderr",
     "output_type": "stream",
     "text": [
      "\r\n",
      "1246it [00:23, 73.25it/s]"
     ]
    },
    {
     "name": "stderr",
     "output_type": "stream",
     "text": [
      "\r\n",
      "1254it [00:23, 73.52it/s]"
     ]
    },
    {
     "name": "stderr",
     "output_type": "stream",
     "text": [
      "\r\n",
      "1262it [00:23, 75.21it/s]"
     ]
    },
    {
     "name": "stderr",
     "output_type": "stream",
     "text": [
      "\r\n",
      "1270it [00:23, 75.55it/s]"
     ]
    },
    {
     "name": "stderr",
     "output_type": "stream",
     "text": [
      "\r\n",
      "1278it [00:23, 76.21it/s]"
     ]
    },
    {
     "name": "stderr",
     "output_type": "stream",
     "text": [
      "\r\n",
      "1281it [00:23, 54.02it/s]"
     ]
    },
    {
     "name": "stderr",
     "output_type": "stream",
     "text": [
      "\n"
     ]
    },
    {
     "name": "stdout",
     "output_type": "stream",
     "text": [
      "Mean Velocity: 0.006\n"
     ]
    }
   ],
   "source": [
    "# Get non-targeting\n",
    "non_targeting_sample_idx = np.argwhere(adata.obs['target_gene']=='non-targeting').flatten()\n",
    "np.random.seed(42)\n",
    "non_targeting_sample_idx = np.sort(np.random.choice(non_targeting_sample_idx, 500, replace=False))  # Subsample for performance\n",
    "non_targeting_raw = celltrip.utility.processing.chunk(adata[non_targeting_sample_idx].X, chunk_size=2_000)\n",
    "non_targeting_trans, = preprocessing.transform([non_targeting_raw])\n",
    "\n",
    "# Create environment\n",
    "env = (\n",
    "    celltrip.environment.EnvironmentBase(\n",
    "        torch.tensor(non_targeting_trans), compute_rewards=False, dim=env.dim)\n",
    "        .eval(time_scale=1)\n",
    "        .set_incorporation_params(retention=1., binding=1.)  # Nothing at all\n",
    "        .to('cuda'))\n",
    "\n",
    "# Simulate (Runs at around .61x realtime on 38k cells!)\n",
    "ret = celltrip.train.simulate_until_completion(env, policy, skip_states=100, store_states='cpu', progress_bar=True)\n",
    "non_targeting_steady_state = ret[-1][-1]\n",
    "print(f'Mean Velocity: {env.vel.abs().mean(dim=-1).mean():.3f}')\n",
    "\n",
    "# Simulate with incorporation\n",
    "# env.reset().set_state(non_targeting_steady_state.to('cuda'))\n",
    "# ret = celltrip.train.simulate_until_completion(env, policy, incorporate_predictions=False, skip_states=100, store_states='cpu', progress_bar=True)\n",
    "# env.solidify_offsets()\n",
    "# non_targeting_steady_state = ret[-1][-1]\n",
    "# print(env.vel.abs().mean(dim=-1).mean())\n",
    "\n",
    "# Impute\n",
    "with torch.no_grad():\n",
    "    imputed_non_targeting_steady_state = policy.pinning[0](non_targeting_steady_state[..., :env.dim].to('cuda')).detach().cpu().numpy()\n",
    "imputed_non_targeting_steady_state, = preprocessing.inverse_transform([imputed_non_targeting_steady_state])\n"
   ]
  },
  {
   "cell_type": "code",
   "execution_count": null,
   "id": "61eaca61",
   "metadata": {
    "execution": {
     "iopub.execute_input": "2025-10-21T00:47:15.665231Z",
     "iopub.status.busy": "2025-10-21T00:47:15.664957Z",
     "iopub.status.idle": "2025-10-21T00:56:55.370269Z",
     "shell.execute_reply": "2025-10-21T00:56:55.369683Z"
    }
   },
   "outputs": [
    {
     "name": "stderr",
     "output_type": "stream",
     "text": [
      "\r\n",
      "  0%|                                                                                                                                                                                               | 0/22 [00:00<?, ?it/s]"
     ]
    },
    {
     "name": "stderr",
     "output_type": "stream",
     "text": [
      "\r\n",
      "_ctl_pre:   0%|                                                                                                                                                                                     | 0/22 [00:00<?, ?it/s]"
     ]
    },
    {
     "name": "stderr",
     "output_type": "stream",
     "text": [
      "\r\n",
      "_ctl_post:   0%|                                                                                                                                                                                    | 0/22 [00:00<?, ?it/s]"
     ]
    },
    {
     "name": "stdout",
     "output_type": "stream",
     "text": [
      "Mean Velocity: 0.006\n"
     ]
    },
    {
     "name": "stderr",
     "output_type": "stream",
     "text": [
      "\r\n",
      "_ctl_post:   9%|███████████████▋                                                                                                                                                            | 2/22 [00:19<03:15,  9.76s/it]"
     ]
    },
    {
     "name": "stderr",
     "output_type": "stream",
     "text": [
      "\r\n",
      "TMSB4X:   9%|███████████████▉                                                                                                                                                               | 2/22 [00:19<03:15,  9.76s/it]"
     ]
    },
    {
     "name": "stdout",
     "output_type": "stream",
     "text": [
      "Mean Velocity: 0.868\n"
     ]
    },
    {
     "name": "stderr",
     "output_type": "stream",
     "text": [
      "\r\n",
      "TMSB4X:  14%|███████████████████████▊                                                                                                                                                       | 3/22 [00:55<06:32, 20.66s/it]"
     ]
    },
    {
     "name": "stderr",
     "output_type": "stream",
     "text": [
      "\r\n",
      "PRCP:  14%|████████████████████████▏                                                                                                                                                        | 3/22 [00:55<06:32, 20.66s/it]"
     ]
    },
    {
     "name": "stdout",
     "output_type": "stream",
     "text": [
      "Mean Velocity: 0.861\n"
     ]
    },
    {
     "name": "stderr",
     "output_type": "stream",
     "text": [
      "\r\n",
      "PRCP:  18%|████████████████████████████████▏                                                                                                                                                | 4/22 [01:28<07:33, 25.21s/it]"
     ]
    },
    {
     "name": "stderr",
     "output_type": "stream",
     "text": [
      "\r\n",
      "TADA1:  18%|████████████████████████████████                                                                                                                                                | 4/22 [01:28<07:33, 25.21s/it]"
     ]
    },
    {
     "name": "stdout",
     "output_type": "stream",
     "text": [
      "Mean Velocity: 0.583\n"
     ]
    },
    {
     "name": "stderr",
     "output_type": "stream",
     "text": [
      "\r\n",
      "TADA1:  23%|████████████████████████████████████████                                                                                                                                        | 5/22 [01:59<07:42, 27.22s/it]"
     ]
    },
    {
     "name": "stderr",
     "output_type": "stream",
     "text": [
      "\r\n",
      "HIRA:  23%|████████████████████████████████████████▏                                                                                                                                        | 5/22 [01:59<07:42, 27.22s/it]"
     ]
    },
    {
     "name": "stdout",
     "output_type": "stream",
     "text": [
      "Mean Velocity: 0.910\n"
     ]
    },
    {
     "name": "stderr",
     "output_type": "stream",
     "text": [
      "\r\n",
      "HIRA:  27%|████████████████████████████████████████████████▎                                                                                                                                | 6/22 [02:28<07:26, 27.89s/it]"
     ]
    },
    {
     "name": "stderr",
     "output_type": "stream",
     "text": [
      "\r\n",
      "IGF2R:  27%|████████████████████████████████████████████████                                                                                                                                | 6/22 [02:28<07:26, 27.89s/it]"
     ]
    },
    {
     "name": "stdout",
     "output_type": "stream",
     "text": [
      "Mean Velocity: 0.879\n"
     ]
    },
    {
     "name": "stderr",
     "output_type": "stream",
     "text": [
      "\r\n",
      "IGF2R:  32%|████████████████████████████████████████████████████████                                                                                                                        | 7/22 [02:56<07:00, 28.06s/it]"
     ]
    },
    {
     "name": "stderr",
     "output_type": "stream",
     "text": [
      "\r\n",
      "NCK2:  32%|████████████████████████████████████████████████████████▎                                                                                                                        | 7/22 [02:56<07:00, 28.06s/it]"
     ]
    },
    {
     "name": "stdout",
     "output_type": "stream",
     "text": [
      "Mean Velocity: 0.746\n"
     ]
    },
    {
     "name": "stderr",
     "output_type": "stream",
     "text": [
      "\r\n",
      "NCK2:  36%|████████████████████████████████████████████████████████████████▎                                                                                                                | 8/22 [03:25<06:33, 28.09s/it]"
     ]
    },
    {
     "name": "stderr",
     "output_type": "stream",
     "text": [
      "\r\n",
      "MED13:  36%|████████████████████████████████████████████████████████████████                                                                                                                | 8/22 [03:25<06:33, 28.09s/it]"
     ]
    },
    {
     "name": "stdout",
     "output_type": "stream",
     "text": [
      "Mean Velocity: 0.752\n"
     ]
    },
    {
     "name": "stderr",
     "output_type": "stream",
     "text": [
      "\r\n",
      "MED13:  41%|████████████████████████████████████████████████████████████████████████                                                                                                        | 9/22 [03:52<06:03, 27.96s/it]"
     ]
    },
    {
     "name": "stderr",
     "output_type": "stream",
     "text": [
      "\r\n",
      "MED12:  41%|████████████████████████████████████████████████████████████████████████                                                                                                        | 9/22 [03:52<06:03, 27.96s/it]"
     ]
    },
    {
     "name": "stdout",
     "output_type": "stream",
     "text": [
      "Mean Velocity: 0.855\n"
     ]
    },
    {
     "name": "stderr",
     "output_type": "stream",
     "text": [
      "\r\n",
      "MED12:  45%|███████████████████████████████████████████████████████████████████████████████▌                                                                                               | 10/22 [04:20<05:33, 27.78s/it]"
     ]
    },
    {
     "name": "stderr",
     "output_type": "stream",
     "text": [
      "\r\n",
      "STAT1:  45%|███████████████████████████████████████████████████████████████████████████████▌                                                                                               | 10/22 [04:20<05:33, 27.78s/it]"
     ]
    },
    {
     "name": "stdout",
     "output_type": "stream",
     "text": [
      "Mean Velocity: 0.648\n"
     ]
    },
    {
     "name": "stderr",
     "output_type": "stream",
     "text": [
      "\r\n",
      "STAT1:  50%|███████████████████████████████████████████████████████████████████████████████████████▌                                                                                       | 11/22 [04:47<05:02, 27.50s/it]"
     ]
    },
    {
     "name": "stderr",
     "output_type": "stream",
     "text": [
      "\r\n",
      "USP22:  50%|███████████████████████████████████████████████████████████████████████████████████████▌                                                                                       | 11/22 [04:47<05:02, 27.50s/it]"
     ]
    },
    {
     "name": "stdout",
     "output_type": "stream",
     "text": [
      "Mean Velocity: 0.825\n"
     ]
    },
    {
     "name": "stderr",
     "output_type": "stream",
     "text": [
      "\r\n",
      "USP22:  55%|███████████████████████████████████████████████████████████████████████████████████████████████▍                                                                               | 12/22 [05:14<04:33, 27.37s/it]"
     ]
    },
    {
     "name": "stderr",
     "output_type": "stream",
     "text": [
      "\r\n",
      "MED13L:  55%|██████████████████████████████████████████████████████████████████████████████████████████████▉                                                                               | 12/22 [05:14<04:33, 27.37s/it]"
     ]
    },
    {
     "name": "stdout",
     "output_type": "stream",
     "text": [
      "Mean Velocity: 0.633\n"
     ]
    },
    {
     "name": "stderr",
     "output_type": "stream",
     "text": [
      "\r\n",
      "MED13L:  59%|██████████████████████████████████████████████████████████████████████████████████████████████████████▊                                                                       | 13/22 [05:40<04:03, 27.08s/it]"
     ]
    },
    {
     "name": "stderr",
     "output_type": "stream",
     "text": [
      "\r\n",
      "TET1:  59%|████████████████████████████████████████████████████████████████████████████████████████████████████████                                                                        | 13/22 [05:40<04:03, 27.08s/it]"
     ]
    },
    {
     "name": "stdout",
     "output_type": "stream",
     "text": [
      "Mean Velocity: 0.926\n"
     ]
    },
    {
     "name": "stderr",
     "output_type": "stream",
     "text": [
      "\r\n",
      "TET1:  64%|████████████████████████████████████████████████████████████████████████████████████████████████████████████████                                                                | 14/22 [06:07<03:36, 27.05s/it]"
     ]
    },
    {
     "name": "stderr",
     "output_type": "stream",
     "text": [
      "\r\n",
      "KIF1B:  64%|███████████████████████████████████████████████████████████████████████████████████████████████████████████████▎                                                               | 14/22 [06:07<03:36, 27.05s/it]"
     ]
    },
    {
     "name": "stdout",
     "output_type": "stream",
     "text": [
      "Mean Velocity: 0.832\n"
     ]
    },
    {
     "name": "stderr",
     "output_type": "stream",
     "text": [
      "\r\n",
      "KIF1B:  68%|███████████████████████████████████████████████████████████████████████████████████████████████████████████████████████▎                                                       | 15/22 [06:33<03:08, 26.89s/it]"
     ]
    },
    {
     "name": "stderr",
     "output_type": "stream",
     "text": [
      "\r\n",
      "SRC:  68%|████████████████████████████████████████████████████████████████████████████████████████████████████████████████████████▋                                                        | 15/22 [06:33<03:08, 26.89s/it]"
     ]
    },
    {
     "name": "stdout",
     "output_type": "stream",
     "text": [
      "Mean Velocity: 0.819\n"
     ]
    },
    {
     "name": "stderr",
     "output_type": "stream",
     "text": [
      "\r\n",
      "SRC:  73%|████████████████████████████████████████████████████████████████████████████████████████████████████████████████████████████████▋                                                | 16/22 [07:00<02:40, 26.79s/it]"
     ]
    },
    {
     "name": "stderr",
     "output_type": "stream",
     "text": [
      "\r\n",
      "PBX1:  73%|████████████████████████████████████████████████████████████████████████████████████████████████████████████████████████████████                                                | 16/22 [07:00<02:40, 26.79s/it]"
     ]
    },
    {
     "name": "stdout",
     "output_type": "stream",
     "text": [
      "Mean Velocity: 0.896\n"
     ]
    },
    {
     "name": "stderr",
     "output_type": "stream",
     "text": [
      "\r\n",
      "PBX1:  77%|████████████████████████████████████████████████████████████████████████████████████████████████████████████████████████████████████████                                        | 17/22 [07:27<02:13, 26.76s/it]"
     ]
    },
    {
     "name": "stderr",
     "output_type": "stream",
     "text": [
      "\r\n",
      "CAST:  77%|████████████████████████████████████████████████████████████████████████████████████████████████████████████████████████████████████████                                        | 17/22 [07:27<02:13, 26.76s/it]"
     ]
    },
    {
     "name": "stdout",
     "output_type": "stream",
     "text": [
      "Mean Velocity: 0.854\n"
     ]
    },
    {
     "name": "stderr",
     "output_type": "stream",
     "text": [
      "\r\n",
      "CAST:  82%|████████████████████████████████████████████████████████████████████████████████████████████████████████████████████████████████████████████████                                | 18/22 [07:53<01:46, 26.57s/it]"
     ]
    },
    {
     "name": "stderr",
     "output_type": "stream",
     "text": [
      "\r\n",
      "IDE:  82%|████████████████████████████████████████████████████████████████████████████████████████████████████████████████████████████████████████████████▊                                | 18/22 [07:53<01:46, 26.57s/it]"
     ]
    },
    {
     "name": "stdout",
     "output_type": "stream",
     "text": [
      "Mean Velocity: 0.572\n"
     ]
    },
    {
     "name": "stderr",
     "output_type": "stream",
     "text": [
      "\r\n",
      "IDE:  86%|████████████████████████████████████████████████████████████████████████████████████████████████████████████████████████████████████████████████████████▊                        | 19/22 [08:19<01:19, 26.46s/it]"
     ]
    },
    {
     "name": "stderr",
     "output_type": "stream",
     "text": [
      "\r\n",
      "MAPKAPK2:  86%|████████████████████████████████████████████████████████████████████████████████████████████████████████████████████████████████████████████████████▌                       | 19/22 [08:19<01:19, 26.46s/it]"
     ]
    },
    {
     "name": "stdout",
     "output_type": "stream",
     "text": [
      "Mean Velocity: 0.877\n"
     ]
    },
    {
     "name": "stderr",
     "output_type": "stream",
     "text": [
      "\r\n",
      "MAPKAPK2:  91%|████████████████████████████████████████████████████████████████████████████████████████████████████████████████████████████████████████████████████████████▎               | 20/22 [08:45<00:52, 26.38s/it]"
     ]
    },
    {
     "name": "stderr",
     "output_type": "stream",
     "text": [
      "\r\n",
      "PTPN1:  91%|███████████████████████████████████████████████████████████████████████████████████████████████████████████████████████████████████████████████████████████████                | 20/22 [08:45<00:52, 26.38s/it]"
     ]
    },
    {
     "name": "stdout",
     "output_type": "stream",
     "text": [
      "Mean Velocity: 0.481\n"
     ]
    },
    {
     "name": "stderr",
     "output_type": "stream",
     "text": [
      "\r\n",
      "PTPN1:  95%|███████████████████████████████████████████████████████████████████████████████████████████████████████████████████████████████████████████████████████████████████████        | 21/22 [09:11<00:26, 26.32s/it]"
     ]
    },
    {
     "name": "stderr",
     "output_type": "stream",
     "text": [
      "\r\n",
      "KDM2B:  95%|███████████████████████████████████████████████████████████████████████████████████████████████████████████████████████████████████████████████████████████████████████        | 21/22 [09:11<00:26, 26.32s/it]"
     ]
    },
    {
     "name": "stdout",
     "output_type": "stream",
     "text": [
      "Mean Velocity: 0.886\n"
     ]
    },
    {
     "name": "stderr",
     "output_type": "stream",
     "text": [
      "\r\n",
      "KDM2B: 100%|███████████████████████████████████████████████████████████████████████████████████████████████████████████████████████████████████████████████████████████████████████████████| 22/22 [09:38<00:00, 26.29s/it]"
     ]
    },
    {
     "name": "stderr",
     "output_type": "stream",
     "text": [
      "\r\n",
      "KDM2B: 100%|███████████████████████████████████████████████████████████████████████████████████████████████████████████████████████████████████████████████████████████████████████████████| 22/22 [09:38<00:00, 26.28s/it]"
     ]
    },
    {
     "name": "stderr",
     "output_type": "stream",
     "text": [
      "\n"
     ]
    }
   ],
   "source": [
    "imputed_means, raw_means = [], []\n",
    "num_genes = 20\n",
    "gene_list = ['_ctl_pre', '_ctl_post'] + adata.obs.loc[adata.obs['target_gene']!='non-targeting'].groupby('target_gene', observed=True).size().sort_values(ascending=False).index.to_numpy()[:num_genes].tolist()\n",
    "for gene in (pbar := tqdm.tqdm(gene_list)):\n",
    "    # Update pbar\n",
    "    pbar.set_description(gene)\n",
    "\n",
    "    # Find gene\n",
    "    if gene == '_ctl_pre':\n",
    "        # imputed_means.append(preprocessing_nopca.transform([imputed_non_targeting_steady_state])[0].mean(axis=0))\n",
    "        # raw_means.append(preprocessing_nopca.transform([non_targeting_raw])[0].mean(axis=0))\n",
    "        imputed_means.append(imputed_non_targeting_steady_state.mean(axis=0))\n",
    "        raw_means.append(non_targeting_raw.mean(axis=0))\n",
    "        continue\n",
    "    elif gene == '_ctl_post':\n",
    "        gene_idx = []\n",
    "    else:\n",
    "        gene_idx = np.argwhere(adata.var.index == gene).flatten()\n",
    "        assert len(gene_idx) == 1\n",
    "\n",
    "    # # Get perturbation (~65s)\n",
    "    # iso_modality = celltrip.utility.processing.chunk(\n",
    "    #     non_targeting_raw, chunk_size=2_000, func=lambda x: preprocessing.transform(x, subset_modality=0, subset_features=gene_idx)[0])\n",
    "    # iso_modality = torch.tensor(iso_modality).to('cuda')\n",
    "    # env.offset = -iso_modality\n",
    "\n",
    "    # Reset environment and simulate\n",
    "    env.reset().set_state(non_targeting_steady_state.to('cuda'))\n",
    "    ret = celltrip.train.simulate_until_completion(\n",
    "        env, policy,\n",
    "        incorporate_predictions=False,\n",
    "        env_hooks=[\n",
    "            # celltrip.utility.hooks.clamp_input_features_hook(\n",
    "            #     gene_idx, preprocessing, feature_targets=0., modality_idx=0, device=env.device),\n",
    "            celltrip.utility.hooks.clamp_inverted_features_hook(\n",
    "                gene_idx, preprocessing, feature_targets=0., modality_idx=0),\n",
    "        ],\n",
    "        action_hooks=[\n",
    "            celltrip.utility.hooks.move_toward_targets_hook(\n",
    "                gene_idx, feature_targets=0., pinning=policy.pinning[0],\n",
    "                preprocessing=preprocessing, modality_idx=0,\n",
    "                factor=1, device=env.device),\n",
    "        ],  # Factor 1e4\n",
    "        skip_states=100, store_states='cpu', progress_bar=False)\n",
    "    gene_steady_state = ret[-1][-1]\n",
    "    print(f'Mean Velocity: {env.vel.abs().mean(dim=-1).mean():.3f}')\n",
    "\n",
    "    # Impute\n",
    "    with torch.no_grad():\n",
    "        imputed_gene_steady_state = policy.pinning[0](gene_steady_state[..., :env.dim].to('cuda')).detach().cpu().numpy()\n",
    "    imputed_gene_steady_state, = preprocessing.inverse_transform([imputed_gene_steady_state])\n",
    "\n",
    "    # Get true perturbed data\n",
    "    if gene == '_ctl_post':\n",
    "        gene_raw = non_targeting_raw\n",
    "    else:\n",
    "        gene_sample_idx = np.argwhere(adata.obs['target_gene']==gene).flatten()\n",
    "        gene_raw = celltrip.utility.processing.chunk(adata[gene_sample_idx].X, chunk_size=2_000)\n",
    "    \n",
    "    # Record\n",
    "    # imputed_means.append(preprocessing_nopca.transform([imputed_gene_steady_state])[0].mean(axis=0))\n",
    "    # raw_means.append(preprocessing_nopca.transform([gene_raw])[0].mean(axis=0))\n",
    "    imputed_means.append(imputed_gene_steady_state.mean(axis=0))\n",
    "    raw_means.append(gene_raw.mean(axis=0))\n",
    "\n",
    "# Aggregate\n",
    "imputed_means = np.stack(imputed_means, axis=0)\n",
    "imputed_means = pd.DataFrame(imputed_means, index=gene_list, columns=adata.var.index.to_numpy())\n",
    "raw_means = np.stack(raw_means, axis=0)  # np.concatenate(raw_means, axis=0)\n",
    "raw_means = pd.DataFrame(raw_means, index=gene_list, columns=adata.var.index.to_numpy())\n",
    "\n",
    "# Save\n",
    "imputed_means.to_csv('../plots/vcc/imputed_means.csv')\n",
    "raw_means.to_csv('../plots/vcc/raw_means.csv')\n"
   ]
  },
  {
   "cell_type": "markdown",
   "id": "fd55fd63",
   "metadata": {},
   "source": [
    "# Visualize Perturbation Results"
   ]
  },
  {
   "cell_type": "code",
   "execution_count": 28,
   "id": "1fbd60e1",
   "metadata": {
    "execution": {
     "iopub.execute_input": "2025-10-21T00:56:55.372589Z",
     "iopub.status.busy": "2025-10-21T00:56:55.372255Z",
     "iopub.status.idle": "2025-10-21T00:56:56.807710Z",
     "shell.execute_reply": "2025-10-21T00:56:56.807112Z"
    }
   },
   "outputs": [
    {
     "data": {
      "image/png": "[encoded data removed]",
      "text/plain": [
       "<Figure size 700x500 with 2 Axes>"
      ]
     },
     "metadata": {},
     "output_type": "display_data"
    }
   ],
   "source": [
    "# Load\n",
    "imputed_means = pd.read_csv('../plots/vcc/imputed_means.csv', index_col=0)\n",
    "raw_means = pd.read_csv('../plots/vcc/raw_means.csv', index_col=0).iloc[:imputed_means.shape[0]]\n",
    "\n",
    "# Transform\n",
    "# imputed_means[:], = preprocessing_nopca.inverse_transform([imputed_means.to_numpy()])\n",
    "# raw_means[:], = preprocessing_nopca.inverse_transform([raw_means.to_numpy()])\n",
    "\n",
    "# Lose information from PCA\n",
    "# raw_means[:], = preprocessing.inverse_transform(preprocessing.transform([raw_means.to_numpy()]))  # Invalid if log\n",
    "# raw_means[:], = preprocessing_nopca.transform(preprocessing.inverse_transform(preprocessing.transform(preprocessing_nopca.inverse_transform([raw_means.to_numpy()]))))\n",
    "\n",
    "# Get differences\n",
    "imputed_mean_diffs = imputed_means.iloc[2:] - imputed_means.loc['_ctl_post']\n",
    "# imputed_mean_diffs = imputed_means.iloc[2:] - imputed_means.loc['_ctl_pre']\n",
    "# imputed_mean_diffs = imputed_means.iloc[2:] - raw_means.loc['_ctl_post']\n",
    "raw_mean_diffs = raw_means.iloc[2:] - raw_means.loc['_ctl_post']\n",
    "\n",
    "# Get 1k highly variant genes\n",
    "assert preprocessing.filter_mask[0] is None\n",
    "# high_var_idx = preprocessing.standardize_std[0][0].argsort()[::-1][:1000]\n",
    "high_var_idx = np.array(np.argsort(np.std(adata.X[:1000].log1p().todense(), axis=0))).flatten()[::-1][:200]\n",
    "high_var_genes = adata.var.index[high_var_idx]\n",
    "\n",
    "# Compute correlations\n",
    "cross_correlation = np.corrcoef(imputed_mean_diffs, raw_mean_diffs)[:imputed_mean_diffs.shape[0], -raw_mean_diffs.shape[0]:]\n",
    "# cross_correlation = np.corrcoef(imputed_mean_diffs[high_var_genes], raw_mean_diffs[high_var_genes])[:imputed_mean_diffs.shape[0], -raw_mean_diffs.shape[0]:]\n",
    "cross_correlation = pd.DataFrame(cross_correlation, index=imputed_mean_diffs.index, columns=raw_mean_diffs.index)\n",
    "\n",
    "# Dendogram sorting\n",
    "# dist = scipy.spatial.distance.pdist(cross_correlation.T)\n",
    "# linkage = scipy.cluster.hierarchy.linkage(dist, method='ward')\n",
    "# ordered_linkage = scipy.cluster.hierarchy.optimal_leaf_ordering(linkage, dist)\n",
    "# ordered_leaves = scipy.cluster.hierarchy.leaves_list(ordered_linkage)\n",
    "# cross_correlation = cross_correlation.iloc[ordered_leaves, ordered_leaves]\n",
    "\n",
    "# Format correlation matrix\n",
    "cross_correlation_scaled_col = (cross_correlation - np.min(cross_correlation, axis=0)) / (np.max(cross_correlation, axis=0) - np.min(cross_correlation, axis=0))\n",
    "cross_correlation_scaled_row = (cross_correlation - np.min(cross_correlation, axis=1)) / (np.max(cross_correlation, axis=1) - np.min(cross_correlation, axis=1))\n",
    "cross_correlation_rank = cross_correlation.shape[0] - np.argsort(np.argsort(cross_correlation, axis=0), axis=0)\n",
    "cross_correlation_rank = pd.DataFrame(cross_correlation_rank, index=imputed_mean_diffs.index, columns=raw_mean_diffs.index)\n",
    "\n",
    "# Diagonal summary\n",
    "pert_summary = pd.DataFrame({\n",
    "    'Gene': cross_correlation.index,\n",
    "    'Rank': np.diag(cross_correlation_rank),\n",
    "    'Correlation': np.diag(cross_correlation),\n",
    "    'Observed Expression': raw_means.loc['_ctl_post', raw_mean_diffs.index],\n",
    "    'Observed Knockdown': np.diag(raw_mean_diffs[raw_mean_diffs.index]),\n",
    "    'Observed Knocked Expression': raw_means.loc['_ctl_post', raw_mean_diffs.index] + np.diag(raw_mean_diffs[raw_mean_diffs.index]),\n",
    "    'Observed Knockdown Rank': 1 + np.diag(np.argsort(np.argsort(raw_mean_diffs[raw_mean_diffs.index], axis=0), axis=0)),\n",
    "    'Imputed Expression': imputed_means.loc['_ctl_post', imputed_mean_diffs.index],\n",
    "    'Imputed Knockdown': np.diag(imputed_mean_diffs[imputed_mean_diffs.index]),\n",
    "    'Imputed Knocked Expression': imputed_means.loc['_ctl_post', imputed_mean_diffs.index] + np.diag(imputed_mean_diffs[imputed_mean_diffs.index]),\n",
    "    'Imputed Knockdown Rank': 1 + np.diag(np.argsort(np.argsort(imputed_mean_diffs[imputed_mean_diffs.index], axis=0), axis=0))})\n",
    "pert_summary['Ratio'] = pert_summary['Imputed Knockdown'] / pert_summary['Observed Knockdown']\n",
    "\n",
    "# Plot\n",
    "fig, ax = plt.subplots(1, 1, figsize=(7, 5))\n",
    "sns.heatmap(cross_correlation, cmap='vlag_r', vmin=-1, vmax=1, ax=ax)\n",
    "# sns.heatmap(cross_correlation_scaled_col, cmap='Blues', vmin=0, vmax=1, ax=ax)\n",
    "# sns.heatmap(cross_correlation_scaled_row, cmap='Blues', vmin=0, vmax=1, ax=ax)\n",
    "# sns.heatmap(cross_correlation_rank, cmap='Blues_r', vmin=1, vmax=cross_correlation.shape[0], ax=ax)\n",
    "ax.plot([0, cross_correlation.shape[0]], [0, cross_correlation.shape[0]], lw=.2, color='black')\n",
    "ax.set(xlabel='True Delta', ylabel='Predicted Delta')\n",
    "ax.set_xticklabels(ax.get_xticklabels(), rotation=90)\n",
    "ax.set_yticklabels(ax.get_yticklabels(), rotation=0)\n",
    "ax.set_aspect('equal')\n"
   ]
  },
  {
   "cell_type": "code",
   "execution_count": 29,
   "id": "482c5f31",
   "metadata": {
    "execution": {
     "iopub.execute_input": "2025-10-21T00:56:56.809520Z",
     "iopub.status.busy": "2025-10-21T00:56:56.809335Z",
     "iopub.status.idle": "2025-10-21T00:56:56.860209Z",
     "shell.execute_reply": "2025-10-21T00:56:56.859670Z"
    }
   },
   "outputs": [
    {
     "data": {
      "text/html": [
       "<div>\n",
       "<style scoped>\n",
       "    .dataframe tbody tr th:only-of-type {\n",
       "        vertical-align: middle;\n",
       "    }\n",
       "\n",
       "    .dataframe tbody tr th {\n",
       "        vertical-align: top;\n",
       "    }\n",
       "\n",
       "    .dataframe thead th {\n",
       "        text-align: right;\n",
       "    }\n",
       "</style>\n",
       "<table border=\"1\" class=\"dataframe\">\n",
       "  <thead>\n",
       "    <tr style=\"text-align: right;\">\n",
       "      <th></th>\n",
       "      <th>Gene</th>\n",
       "      <th>Rank</th>\n",
       "      <th>Correlation</th>\n",
       "      <th>Observed Expression</th>\n",
       "      <th>Observed Knockdown</th>\n",
       "      <th>Observed Knocked Expression</th>\n",
       "      <th>Observed Knockdown Rank</th>\n",
       "      <th>Imputed Expression</th>\n",
       "      <th>Imputed Knockdown</th>\n",
       "      <th>Imputed Knocked Expression</th>\n",
       "      <th>Imputed Knockdown Rank</th>\n",
       "      <th>Ratio</th>\n",
       "    </tr>\n",
       "  </thead>\n",
       "  <tbody>\n",
       "    <tr>\n",
       "      <th>TMSB4X</th>\n",
       "      <td>TMSB4X</td>\n",
       "      <td>2</td>\n",
       "      <td>0.174869</td>\n",
       "      <td>135.356030</td>\n",
       "      <td>-128.957514</td>\n",
       "      <td>6.398516</td>\n",
       "      <td>1</td>\n",
       "      <td>23.761063</td>\n",
       "      <td>-23.754186</td>\n",
       "      <td>0.006877</td>\n",
       "      <td>1</td>\n",
       "      <td>0.184202</td>\n",
       "    </tr>\n",
       "    <tr>\n",
       "      <th>PRCP</th>\n",
       "      <td>PRCP</td>\n",
       "      <td>16</td>\n",
       "      <td>-0.120982</td>\n",
       "      <td>6.184002</td>\n",
       "      <td>-5.831656</td>\n",
       "      <td>0.352347</td>\n",
       "      <td>1</td>\n",
       "      <td>0.958156</td>\n",
       "      <td>-0.958287</td>\n",
       "      <td>-0.000131</td>\n",
       "      <td>1</td>\n",
       "      <td>0.164325</td>\n",
       "    </tr>\n",
       "    <tr>\n",
       "      <th>TADA1</th>\n",
       "      <td>TADA1</td>\n",
       "      <td>2</td>\n",
       "      <td>0.276568</td>\n",
       "      <td>1.153998</td>\n",
       "      <td>-1.100962</td>\n",
       "      <td>0.053036</td>\n",
       "      <td>1</td>\n",
       "      <td>0.191706</td>\n",
       "      <td>-0.191769</td>\n",
       "      <td>-0.000063</td>\n",
       "      <td>1</td>\n",
       "      <td>0.174183</td>\n",
       "    </tr>\n",
       "    <tr>\n",
       "      <th>HIRA</th>\n",
       "      <td>HIRA</td>\n",
       "      <td>2</td>\n",
       "      <td>0.303835</td>\n",
       "      <td>9.302001</td>\n",
       "      <td>-1.225353</td>\n",
       "      <td>8.076648</td>\n",
       "      <td>1</td>\n",
       "      <td>1.546351</td>\n",
       "      <td>-1.545570</td>\n",
       "      <td>0.000781</td>\n",
       "      <td>1</td>\n",
       "      <td>1.261326</td>\n",
       "    </tr>\n",
       "    <tr>\n",
       "      <th>IGF2R</th>\n",
       "      <td>IGF2R</td>\n",
       "      <td>4</td>\n",
       "      <td>0.155170</td>\n",
       "      <td>3.721999</td>\n",
       "      <td>-3.375907</td>\n",
       "      <td>0.346092</td>\n",
       "      <td>1</td>\n",
       "      <td>0.554573</td>\n",
       "      <td>-0.554491</td>\n",
       "      <td>0.000082</td>\n",
       "      <td>1</td>\n",
       "      <td>0.164249</td>\n",
       "    </tr>\n",
       "    <tr>\n",
       "      <th>NCK2</th>\n",
       "      <td>NCK2</td>\n",
       "      <td>16</td>\n",
       "      <td>-0.123065</td>\n",
       "      <td>2.059996</td>\n",
       "      <td>-1.954500</td>\n",
       "      <td>0.105497</td>\n",
       "      <td>1</td>\n",
       "      <td>0.332475</td>\n",
       "      <td>-0.332497</td>\n",
       "      <td>-0.000022</td>\n",
       "      <td>1</td>\n",
       "      <td>0.170119</td>\n",
       "    </tr>\n",
       "    <tr>\n",
       "      <th>MED13</th>\n",
       "      <td>MED13</td>\n",
       "      <td>9</td>\n",
       "      <td>-0.013263</td>\n",
       "      <td>6.088000</td>\n",
       "      <td>-5.761844</td>\n",
       "      <td>0.326157</td>\n",
       "      <td>1</td>\n",
       "      <td>1.030891</td>\n",
       "      <td>-1.030907</td>\n",
       "      <td>-0.000016</td>\n",
       "      <td>1</td>\n",
       "      <td>0.178920</td>\n",
       "    </tr>\n",
       "    <tr>\n",
       "      <th>MED12</th>\n",
       "      <td>MED12</td>\n",
       "      <td>1</td>\n",
       "      <td>0.303800</td>\n",
       "      <td>4.383997</td>\n",
       "      <td>-4.195639</td>\n",
       "      <td>0.188358</td>\n",
       "      <td>1</td>\n",
       "      <td>0.620615</td>\n",
       "      <td>-0.620145</td>\n",
       "      <td>0.000470</td>\n",
       "      <td>1</td>\n",
       "      <td>0.147807</td>\n",
       "    </tr>\n",
       "    <tr>\n",
       "      <th>STAT1</th>\n",
       "      <td>STAT1</td>\n",
       "      <td>4</td>\n",
       "      <td>0.099195</td>\n",
       "      <td>3.175997</td>\n",
       "      <td>-2.997096</td>\n",
       "      <td>0.178901</td>\n",
       "      <td>1</td>\n",
       "      <td>0.570323</td>\n",
       "      <td>-0.570024</td>\n",
       "      <td>0.000299</td>\n",
       "      <td>1</td>\n",
       "      <td>0.190192</td>\n",
       "    </tr>\n",
       "    <tr>\n",
       "      <th>USP22</th>\n",
       "      <td>USP22</td>\n",
       "      <td>12</td>\n",
       "      <td>-0.090180</td>\n",
       "      <td>20.932000</td>\n",
       "      <td>-20.000250</td>\n",
       "      <td>0.931750</td>\n",
       "      <td>1</td>\n",
       "      <td>3.582980</td>\n",
       "      <td>-3.582943</td>\n",
       "      <td>0.000037</td>\n",
       "      <td>1</td>\n",
       "      <td>0.179145</td>\n",
       "    </tr>\n",
       "    <tr>\n",
       "      <th>MED13L</th>\n",
       "      <td>MED13L</td>\n",
       "      <td>18</td>\n",
       "      <td>-0.374589</td>\n",
       "      <td>2.287998</td>\n",
       "      <td>-2.145026</td>\n",
       "      <td>0.142973</td>\n",
       "      <td>1</td>\n",
       "      <td>0.393613</td>\n",
       "      <td>-0.393589</td>\n",
       "      <td>0.000024</td>\n",
       "      <td>1</td>\n",
       "      <td>0.183489</td>\n",
       "    </tr>\n",
       "    <tr>\n",
       "      <th>TET1</th>\n",
       "      <td>TET1</td>\n",
       "      <td>1</td>\n",
       "      <td>0.177864</td>\n",
       "      <td>12.528000</td>\n",
       "      <td>-10.707557</td>\n",
       "      <td>1.820443</td>\n",
       "      <td>1</td>\n",
       "      <td>2.304091</td>\n",
       "      <td>-2.303643</td>\n",
       "      <td>0.000448</td>\n",
       "      <td>2</td>\n",
       "      <td>0.215142</td>\n",
       "    </tr>\n",
       "    <tr>\n",
       "      <th>KIF1B</th>\n",
       "      <td>KIF1B</td>\n",
       "      <td>6</td>\n",
       "      <td>-0.004234</td>\n",
       "      <td>14.508013</td>\n",
       "      <td>-13.780554</td>\n",
       "      <td>0.727459</td>\n",
       "      <td>1</td>\n",
       "      <td>2.354338</td>\n",
       "      <td>-2.354577</td>\n",
       "      <td>-0.000239</td>\n",
       "      <td>1</td>\n",
       "      <td>0.170862</td>\n",
       "    </tr>\n",
       "    <tr>\n",
       "      <th>SRC</th>\n",
       "      <td>SRC</td>\n",
       "      <td>20</td>\n",
       "      <td>-0.342018</td>\n",
       "      <td>3.601998</td>\n",
       "      <td>-3.314440</td>\n",
       "      <td>0.287557</td>\n",
       "      <td>1</td>\n",
       "      <td>0.620119</td>\n",
       "      <td>-0.620016</td>\n",
       "      <td>0.000103</td>\n",
       "      <td>1</td>\n",
       "      <td>0.187065</td>\n",
       "    </tr>\n",
       "    <tr>\n",
       "      <th>PBX1</th>\n",
       "      <td>PBX1</td>\n",
       "      <td>20</td>\n",
       "      <td>-0.184081</td>\n",
       "      <td>13.075999</td>\n",
       "      <td>-12.229484</td>\n",
       "      <td>0.846515</td>\n",
       "      <td>1</td>\n",
       "      <td>2.370427</td>\n",
       "      <td>-2.369107</td>\n",
       "      <td>0.001320</td>\n",
       "      <td>1</td>\n",
       "      <td>0.193721</td>\n",
       "    </tr>\n",
       "    <tr>\n",
       "      <th>CAST</th>\n",
       "      <td>CAST</td>\n",
       "      <td>20</td>\n",
       "      <td>-0.365667</td>\n",
       "      <td>2.694000</td>\n",
       "      <td>-1.219743</td>\n",
       "      <td>1.474257</td>\n",
       "      <td>1</td>\n",
       "      <td>0.493653</td>\n",
       "      <td>-0.493474</td>\n",
       "      <td>0.000179</td>\n",
       "      <td>2</td>\n",
       "      <td>0.404572</td>\n",
       "    </tr>\n",
       "    <tr>\n",
       "      <th>IDE</th>\n",
       "      <td>IDE</td>\n",
       "      <td>15</td>\n",
       "      <td>-0.152333</td>\n",
       "      <td>5.176003</td>\n",
       "      <td>-4.908209</td>\n",
       "      <td>0.267794</td>\n",
       "      <td>1</td>\n",
       "      <td>0.860140</td>\n",
       "      <td>-0.859817</td>\n",
       "      <td>0.000323</td>\n",
       "      <td>1</td>\n",
       "      <td>0.175179</td>\n",
       "    </tr>\n",
       "    <tr>\n",
       "      <th>MAPKAPK2</th>\n",
       "      <td>MAPKAPK2</td>\n",
       "      <td>3</td>\n",
       "      <td>0.077293</td>\n",
       "      <td>4.279998</td>\n",
       "      <td>-4.069615</td>\n",
       "      <td>0.210383</td>\n",
       "      <td>1</td>\n",
       "      <td>0.742956</td>\n",
       "      <td>-0.743333</td>\n",
       "      <td>-0.000377</td>\n",
       "      <td>2</td>\n",
       "      <td>0.182654</td>\n",
       "    </tr>\n",
       "    <tr>\n",
       "      <th>PTPN1</th>\n",
       "      <td>PTPN1</td>\n",
       "      <td>4</td>\n",
       "      <td>0.031365</td>\n",
       "      <td>4.970002</td>\n",
       "      <td>-4.766357</td>\n",
       "      <td>0.203645</td>\n",
       "      <td>1</td>\n",
       "      <td>0.851559</td>\n",
       "      <td>-0.851489</td>\n",
       "      <td>0.000070</td>\n",
       "      <td>1</td>\n",
       "      <td>0.178646</td>\n",
       "    </tr>\n",
       "    <tr>\n",
       "      <th>KDM2B</th>\n",
       "      <td>KDM2B</td>\n",
       "      <td>9</td>\n",
       "      <td>0.102205</td>\n",
       "      <td>8.434004</td>\n",
       "      <td>-6.383103</td>\n",
       "      <td>2.050901</td>\n",
       "      <td>1</td>\n",
       "      <td>1.481838</td>\n",
       "      <td>-1.480436</td>\n",
       "      <td>0.001402</td>\n",
       "      <td>1</td>\n",
       "      <td>0.231930</td>\n",
       "    </tr>\n",
       "  </tbody>\n",
       "</table>\n",
       "</div>"
      ],
      "text/plain": [
       "              Gene  Rank  Correlation  Observed Expression  \\\n",
       "TMSB4X      TMSB4X     2     0.174869           135.356030   \n",
       "PRCP          PRCP    16    -0.120982             6.184002   \n",
       "TADA1        TADA1     2     0.276568             1.153998   \n",
       "HIRA          HIRA     2     0.303835             9.302001   \n",
       "IGF2R        IGF2R     4     0.155170             3.721999   \n",
       "NCK2          NCK2    16    -0.123065             2.059996   \n",
       "MED13        MED13     9    -0.013263             6.088000   \n",
       "MED12        MED12     1     0.303800             4.383997   \n",
       "STAT1        STAT1     4     0.099195             3.175997   \n",
       "USP22        USP22    12    -0.090180            20.932000   \n",
       "MED13L      MED13L    18    -0.374589             2.287998   \n",
       "TET1          TET1     1     0.177864            12.528000   \n",
       "KIF1B        KIF1B     6    -0.004234            14.508013   \n",
       "SRC            SRC    20    -0.342018             3.601998   \n",
       "PBX1          PBX1    20    -0.184081            13.075999   \n",
       "CAST          CAST    20    -0.365667             2.694000   \n",
       "IDE            IDE    15    -0.152333             5.176003   \n",
       "MAPKAPK2  MAPKAPK2     3     0.077293             4.279998   \n",
       "PTPN1        PTPN1     4     0.031365             4.970002   \n",
       "KDM2B        KDM2B     9     0.102205             8.434004   \n",
       "\n",
       "          Observed Knockdown  Observed Knocked Expression  \\\n",
       "TMSB4X           -128.957514                     6.398516   \n",
       "PRCP               -5.831656                     0.352347   \n",
       "TADA1              -1.100962                     0.053036   \n",
       "HIRA               -1.225353                     8.076648   \n",
       "IGF2R              -3.375907                     0.346092   \n",
       "NCK2               -1.954500                     0.105497   \n",
       "MED13              -5.761844                     0.326157   \n",
       "MED12              -4.195639                     0.188358   \n",
       "STAT1              -2.997096                     0.178901   \n",
       "USP22             -20.000250                     0.931750   \n",
       "MED13L             -2.145026                     0.142973   \n",
       "TET1              -10.707557                     1.820443   \n",
       "KIF1B             -13.780554                     0.727459   \n",
       "SRC                -3.314440                     0.287557   \n",
       "PBX1              -12.229484                     0.846515   \n",
       "CAST               -1.219743                     1.474257   \n",
       "IDE                -4.908209                     0.267794   \n",
       "MAPKAPK2           -4.069615                     0.210383   \n",
       "PTPN1              -4.766357                     0.203645   \n",
       "KDM2B              -6.383103                     2.050901   \n",
       "\n",
       "          Observed Knockdown Rank  Imputed Expression  Imputed Knockdown  \\\n",
       "TMSB4X                          1           23.761063         -23.754186   \n",
       "PRCP                            1            0.958156          -0.958287   \n",
       "TADA1                           1            0.191706          -0.191769   \n",
       "HIRA                            1            1.546351          -1.545570   \n",
       "IGF2R                           1            0.554573          -0.554491   \n",
       "NCK2                            1            0.332475          -0.332497   \n",
       "MED13                           1            1.030891          -1.030907   \n",
       "MED12                           1            0.620615          -0.620145   \n",
       "STAT1                           1            0.570323          -0.570024   \n",
       "USP22                           1            3.582980          -3.582943   \n",
       "MED13L                          1            0.393613          -0.393589   \n",
       "TET1                            1            2.304091          -2.303643   \n",
       "KIF1B                           1            2.354338          -2.354577   \n",
       "SRC                             1            0.620119          -0.620016   \n",
       "PBX1                            1            2.370427          -2.369107   \n",
       "CAST                            1            0.493653          -0.493474   \n",
       "IDE                             1            0.860140          -0.859817   \n",
       "MAPKAPK2                        1            0.742956          -0.743333   \n",
       "PTPN1                           1            0.851559          -0.851489   \n",
       "KDM2B                           1            1.481838          -1.480436   \n",
       "\n",
       "          Imputed Knocked Expression  Imputed Knockdown Rank     Ratio  \n",
       "TMSB4X                      0.006877                       1  0.184202  \n",
       "PRCP                       -0.000131                       1  0.164325  \n",
       "TADA1                      -0.000063                       1  0.174183  \n",
       "HIRA                        0.000781                       1  1.261326  \n",
       "IGF2R                       0.000082                       1  0.164249  \n",
       "NCK2                       -0.000022                       1  0.170119  \n",
       "MED13                      -0.000016                       1  0.178920  \n",
       "MED12                       0.000470                       1  0.147807  \n",
       "STAT1                       0.000299                       1  0.190192  \n",
       "USP22                       0.000037                       1  0.179145  \n",
       "MED13L                      0.000024                       1  0.183489  \n",
       "TET1                        0.000448                       2  0.215142  \n",
       "KIF1B                      -0.000239                       1  0.170862  \n",
       "SRC                         0.000103                       1  0.187065  \n",
       "PBX1                        0.001320                       1  0.193721  \n",
       "CAST                        0.000179                       2  0.404572  \n",
       "IDE                         0.000323                       1  0.175179  \n",
       "MAPKAPK2                   -0.000377                       2  0.182654  \n",
       "PTPN1                       0.000070                       1  0.178646  \n",
       "KDM2B                       0.001402                       1  0.231930  "
      ]
     },
     "execution_count": 29,
     "metadata": {},
     "output_type": "execute_result"
    }
   ],
   "source": [
    "pert_summary\n"
   ]
  },
  {
   "cell_type": "code",
   "execution_count": 30,
   "id": "7e3aa738",
   "metadata": {
    "execution": {
     "iopub.execute_input": "2025-10-21T00:56:56.861949Z",
     "iopub.status.busy": "2025-10-21T00:56:56.861772Z",
     "iopub.status.idle": "2025-10-21T00:56:57.009601Z",
     "shell.execute_reply": "2025-10-21T00:56:57.009049Z"
    }
   },
   "outputs": [
    {
     "data": {
      "image/png": "[encoded data removed]",
      "text/plain": [
       "<Figure size 500x300 with 1 Axes>"
      ]
     },
     "metadata": {},
     "output_type": "display_data"
    }
   ],
   "source": [
    "# Get hit df\n",
    "df = pd.DataFrame({'Rank': 1+np.arange(pert_summary.shape[0])})\n",
    "df['Hits'] = df['Rank'].apply(lambda r: (pert_summary['Rank'] <= r).sum())\n",
    "df['Hit Percentage'] = df['Hits'] / pert_summary.shape[0]\n",
    "auc = df['Hit Percentage'].mean()  # * (df.shape[0]/(df.shape[0]+1))\n",
    "\n",
    "# Plot\n",
    "fig, ax = plt.subplots(1, 1, figsize=(5, 3))\n",
    "sns.lineplot(df, x='Rank', y='Hit Percentage', lw=2, marker='.', markersize=10, markeredgecolor='none', color='black', ax=ax)\n",
    "sns.despine(ax=ax)\n",
    "ax.set_xlim(left=0)\n",
    "ax.set_ylim(-.02, 1.02)\n",
    "ax.set_xticks([1]+np.arange(5, pert_summary.shape[0]+5, 5).tolist())\n",
    "ax.yaxis.set_major_formatter(mpl.ticker.PercentFormatter(1.))\n",
    "ax.text(.02, .98, f'Mean Hit: {auc:.3f}', ha='left', va='top', fontsize='medium', transform=ax.transAxes)\n",
    "ax.plot([0, pert_summary.shape[0]], [0, 1], ls='--', lw=1, color='black');\n"
   ]
  },
  {
   "cell_type": "code",
   "execution_count": 32,
   "id": "53af8577",
   "metadata": {
    "execution": {
     "iopub.execute_input": "2025-10-21T00:56:57.011831Z",
     "iopub.status.busy": "2025-10-21T00:56:57.011611Z",
     "iopub.status.idle": "2025-10-21T00:56:57.233700Z",
     "shell.execute_reply": "2025-10-21T00:56:57.233125Z"
    }
   },
   "outputs": [
    {
     "name": "stderr",
     "output_type": "stream",
     "text": [
      "/tmp/ipykernel_3288/2494286718.py:14: UserWarning: Attempting to set identical low and high ylims makes transformation singular; automatically expanding.\n",
      "  ax.set_ylim(-max_ylim, max_ylim)\n"
     ]
    },
    {
     "data": {
      "image/png": "[encoded data removed]",
      "text/plain": [
       "<Figure size 500x300 with 1 Axes>"
      ]
     },
     "metadata": {},
     "output_type": "display_data"
    }
   ],
   "source": [
    "# Get hit df\n",
    "df = pd.DataFrame({'Diagonal': np.arange(-pert_summary.shape[0]+1, pert_summary.shape[0])})\n",
    "diag_corr = [np.diag(np.roll(cross_correlation, i, axis=0)).mean() for i in range(cross_correlation.shape[0])]\n",
    "df['Mean Correlation'] = diag_corr[:0:-1] + diag_corr\n",
    "\n",
    "# Plot\n",
    "fig, ax = plt.subplots(1, 1, figsize=(5, 3))\n",
    "bar = sns.barplot(df, x='Diagonal', y='Mean Correlation', color='black', edgecolor='black', ax=ax)\n",
    "# Highlight\n",
    "ax.patches[len(diag_corr)-1].set(color='red', edgecolor='red')\n",
    "# Styling\n",
    "sns.despine(ax=ax)\n",
    "max_ylim = max(*ax.get_ylim())\n",
    "ax.set_ylim(-max_ylim, max_ylim)\n",
    "xticks = np.arange(0, len(diag_corr), 5)\n",
    "xticks = np.concat([-xticks[:0:-1], xticks])\n",
    "ax.set(xticks=xticks+df['Diagonal'].max(), xticklabels=xticks);\n"
   ]
  },
  {
   "cell_type": "code",
   "execution_count": 33,
   "id": "a847b078",
   "metadata": {
    "execution": {
     "iopub.execute_input": "2025-10-21T00:56:57.235708Z",
     "iopub.status.busy": "2025-10-21T00:56:57.235478Z",
     "iopub.status.idle": "2025-10-21T00:56:57.735304Z",
     "shell.execute_reply": "2025-10-21T00:56:57.734679Z"
    }
   },
   "outputs": [
    {
     "name": "stderr",
     "output_type": "stream",
     "text": [
      "/tmp/ipykernel_3288/2340559097.py:15: UserWarning: \n",
      "The palette list has fewer values (1) than needed (4) and will cycle, which may produce an uninterpretable plot.\n",
      "  bar = sns.barplot(df.loc[df['Type'].str.endswith('Expression')], x='Gene', y='Value', hue='Type', dodge=False, palette=['lightblue'], edgecolor='none', width=.8, ax=ax)\n",
      "/tmp/ipykernel_3288/2340559097.py:16: UserWarning: \n",
      "The palette list has fewer values (1) than needed (2) and will cycle, which may produce an uninterpretable plot.\n",
      "  bar = sns.barplot(df.loc[df['Type'].str.endswith('Knocked Expression')], x='Gene', y='Value', hue='Type', dodge=False, palette=['lightcoral'], edgecolor='none', width=.4, ax=ax)\n"
     ]
    },
    {
     "data": {
      "image/png": "[encoded data removed]",
      "text/plain": [
       "<Figure size 500x300 with 1 Axes>"
      ]
     },
     "metadata": {},
     "output_type": "display_data"
    }
   ],
   "source": [
    "# Pivot\n",
    "df = pert_summary.melt(\n",
    "    id_vars='Gene',\n",
    "    value_vars=[\n",
    "        'Observed Expression', 'Imputed Expression',\n",
    "        # 'Observed Knockdown', 'Imputed Knockdown',\n",
    "        'Observed Knocked Expression', 'Imputed Knocked Expression'],\n",
    "    var_name='Type', value_name='Value').sort_values('Value', ascending=False)\n",
    "df.loc[df['Type'].str.startswith('Imputed'), 'Value'] *= -1\n",
    "\n",
    "# Plot\n",
    "fig, ax = plt.subplots(1, 1, figsize=(5, 3))\n",
    "# bar = sns.barplot(df.loc[df['Type'].str.endswith('Observed')], x='Gene', y='Value', hue='Type', dodge=False, palette=['lightblue', 'lightblue'], edgecolor='none', width=.8, ax=ax)\n",
    "# bar = sns.barplot(df.loc[df['Type'].str.startswith('Imputed')], x='Gene', y='Value', hue='Type', dodge=False, palette=['lightcoral', 'lightcoral'], edgecolor='none', width=.4, ax=ax)\n",
    "bar = sns.barplot(df.loc[df['Type'].str.endswith('Expression')], x='Gene', y='Value', hue='Type', dodge=False, palette=['lightblue'], edgecolor='none', width=.8, ax=ax)\n",
    "bar = sns.barplot(df.loc[df['Type'].str.endswith('Knocked Expression')], x='Gene', y='Value', hue='Type', dodge=False, palette=['lightcoral'], edgecolor='none', width=.4, ax=ax)\n",
    "# bar.get_legend().set_title('')\n",
    "ax.set_yscale('symlog', linthresh=10)\n",
    "ax.axhline(y=0, lw=1., color='black')\n",
    "yticks = [-100, -10, -5, 0, 5, 10, 100]\n",
    "ax.set(yticks=yticks, yticklabels=np.abs(yticks))\n",
    "ax.set_xticks(ax.get_xticks())\n",
    "ax.set_xticklabels(ax.get_xticklabels(), rotation=90)\n",
    "# Styling\n",
    "sns.despine(bottom=True, ax=ax)\n",
    "ax.tick_params(axis='x', which='major', length=0)\n",
    "ax.set_ylabel(None)\n",
    "# ax.text(-.12, .75, 'Expression', ha='right', va='center', rotation=90, transform=ax.transAxes)\n",
    "# ax.text(-.12, .25, 'Knockdown', ha='right', va='center', rotation=90, transform=ax.transAxes)\n",
    "ax.text(-.12, .75, 'Observed', ha='right', va='center', rotation=90, transform=ax.transAxes)\n",
    "ax.text(-.12, .25, 'Imputed', ha='right', va='center', rotation=90, transform=ax.transAxes)\n",
    "# Legend\n",
    "patches = [\n",
    "    mpl.patches.Patch(facecolor='lightblue', edgecolor='none'),\n",
    "    mpl.patches.Patch(facecolor='lightcoral', edgecolor='none')]\n",
    "# labels = ['Observed', 'Imputed']\n",
    "labels = ['Control', 'Knocked']\n",
    "ax.legend(patches, labels, loc='lower right');\n"
   ]
  }
 ],
 "metadata": {
  "kernelspec": {
   "display_name": "celltrip",
   "language": "python",
   "name": "python3"
  },
  "language_info": {
   "codemirror_mode": {
    "name": "ipython",
    "version": 3
   },
   "file_extension": ".py",
   "mimetype": "text/x-python",
   "name": "python",
   "nbconvert_exporter": "python",
   "pygments_lexer": "ipython3",
   "version": "3.10.18"
  }
 },
 "nbformat": 4,
 "nbformat_minor": 5
}
