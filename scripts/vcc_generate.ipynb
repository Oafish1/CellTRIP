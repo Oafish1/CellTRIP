{
 "cells": [
  {
   "cell_type": "code",
   "execution_count": 1,
   "id": "1bc6db96",
   "metadata": {
    "execution": {
     "iopub.execute_input": "2025-10-15T00:43:43.546499Z",
     "iopub.status.busy": "2025-10-15T00:43:43.546018Z",
     "iopub.status.idle": "2025-10-15T00:43:43.568710Z",
     "shell.execute_reply": "2025-10-15T00:43:43.568152Z"
    }
   },
   "outputs": [],
   "source": [
    "%load_ext autoreload\n",
    "%autoreload 2\n"
   ]
  },
  {
   "cell_type": "code",
   "execution_count": 2,
   "id": "b2754518",
   "metadata": {
    "execution": {
     "iopub.execute_input": "2025-10-15T00:43:43.571518Z",
     "iopub.status.busy": "2025-10-15T00:43:43.571179Z",
     "iopub.status.idle": "2025-10-15T00:43:50.987333Z",
     "shell.execute_reply": "2025-10-15T00:43:50.986735Z"
    }
   },
   "outputs": [],
   "source": [
    "import os\n",
    "\n",
    "import matplotlib as mpl\n",
    "import matplotlib.pyplot as plt\n",
    "import numpy as np\n",
    "import pandas as pd\n",
    "import scipy\n",
    "import seaborn as sns\n",
    "import sklearn\n",
    "import torch\n",
    "import tqdm\n",
    "import umap\n",
    "\n",
    "import celltrip\n",
    "\n",
    "os.environ['AWS_PROFILE'] = 'waisman-admin'\n",
    "# os.environ['CUDA_LAUNCH_BLOCKING'] = \"1\"\n"
   ]
  },
  {
   "cell_type": "markdown",
   "id": "5a1aac9c",
   "metadata": {},
   "source": [
    "# Load Data and Policy"
   ]
  },
  {
   "cell_type": "code",
   "execution_count": 3,
   "id": "6367c9c1",
   "metadata": {
    "execution": {
     "iopub.execute_input": "2025-10-15T00:43:50.989559Z",
     "iopub.status.busy": "2025-10-15T00:43:50.989333Z",
     "iopub.status.idle": "2025-10-15T00:44:35.417529Z",
     "shell.execute_reply": "2025-10-15T00:44:35.417051Z"
    }
   },
   "outputs": [],
   "source": [
    "# Read data files\n",
    "adata, = celltrip.utility.processing.read_adatas('../data/VirtualCell/expression.h5ad', backed=True)  # 's3://nkalafut-celltrip/VirtualCell/expression.h5ad'\n",
    "# Model location and name (should be prefix for .weights, .pre, and .mask file)\n",
    "# prefix, training_step = 's3://nkalafut-celltrip/checkpoints/vcc-251001', 800  # No mask\n",
    "# prefix, training_step = 's3://nkalafut-celltrip/checkpoints/vcc-251006', 800  # Normal\n",
    "# prefix, training_step = 's3://nkalafut-celltrip/checkpoints/vcc-251007', 800  # 16 dim - Not much diff. betw. runs\n",
    "# prefix, training_step = 's3://nkalafut-celltrip/checkpoints/vcc-251007-celllog', 800  # 16 dim - sample and log norm\n",
    "prefix, training_step = 's3://nkalafut-celltrip/checkpoints/vcc-251007-celllog-32', 800  # 32 dim\n",
    "# prefix, training_step = 's3://nkalafut-celltrip/checkpoints/vcc-251008-celllog-64', 800  # 64 dim, 1024 PCA\n",
    "# Generate or load preprocessing\n",
    "preprocessing = celltrip.utility.processing.Preprocessing().load(f'{prefix}.pre')\n",
    "with celltrip.utility.general.open_s3_or_local(f'{prefix}.mask', 'rb') as f:\n",
    "    mask = np.loadtxt(f).astype(bool)\n",
    "# assert (adata.obs['training'] == mask).all()\n",
    "# Create sample env (kind of a dumb workaround, TODO)\n",
    "m1, = preprocessing.transform([adata[:2].X])\n",
    "env = celltrip.environment.EnvironmentBase(\n",
    "    torch.tensor(m1), compute_rewards=False, dim=32).eval().to('cuda')\n",
    "# Load policy\n",
    "policy = celltrip.policy.create_agent_from_env(\n",
    "    env, forward_batch_size=100, vision_size=1_000).eval().to('cuda')  # TODO Forward batch size reduced\n",
    "policy.load_checkpoint(f'{prefix}-{training_step:04}.weights');\n"
   ]
  },
  {
   "cell_type": "code",
   "execution_count": 4,
   "id": "342ebece",
   "metadata": {
    "execution": {
     "iopub.execute_input": "2025-10-15T00:44:35.419639Z",
     "iopub.status.busy": "2025-10-15T00:44:35.419268Z",
     "iopub.status.idle": "2025-10-15T00:44:36.287707Z",
     "shell.execute_reply": "2025-10-15T00:44:36.287181Z"
    }
   },
   "outputs": [],
   "source": [
    "preprocessing_nopca = celltrip.utility.processing.Preprocessing().load(f'{prefix}.pre')\n",
    "preprocessing_nopca.pca_dim = None\n"
   ]
  },
  {
   "cell_type": "markdown",
   "id": "ff9367fa",
   "metadata": {},
   "source": [
    "# Generate Steady State"
   ]
  },
  {
   "cell_type": "code",
   "execution_count": 5,
   "id": "4a556b65",
   "metadata": {
    "execution": {
     "iopub.execute_input": "2025-10-15T00:44:36.289676Z",
     "iopub.status.busy": "2025-10-15T00:44:36.289509Z",
     "iopub.status.idle": "2025-10-15T00:44:36.316969Z",
     "shell.execute_reply": "2025-10-15T00:44:36.316424Z"
    }
   },
   "outputs": [],
   "source": [
    "# # Get random sample\n",
    "# np.random.seed(42)\n",
    "# sample_idx = np.sort(np.random.choice(adata.obs.shape[0], 10_000, replace=False))\n",
    "# m1_raw = celltrip.utility.processing.chunk(adata.X[sample_idx], chunk_size=2_000)\n",
    "# m1, = preprocessing.transform([m1_raw])\n"
   ]
  },
  {
   "cell_type": "code",
   "execution_count": 6,
   "id": "62e9837f",
   "metadata": {
    "execution": {
     "iopub.execute_input": "2025-10-15T00:44:36.318807Z",
     "iopub.status.busy": "2025-10-15T00:44:36.318640Z",
     "iopub.status.idle": "2025-10-15T00:44:36.410814Z",
     "shell.execute_reply": "2025-10-15T00:44:36.410345Z"
    }
   },
   "outputs": [],
   "source": [
    "# # Create environment\n",
    "# env = celltrip.environment.EnvironmentBase(\n",
    "#     torch.tensor(m1), compute_rewards=False, dim=8).eval(time_scale=1).to('cuda')\n",
    "\n",
    "# # Simulate\n",
    "# ret = celltrip.train.simulate_until_completion(env, policy, skip_states=100, store_states='cpu', progress_bar=True)\n",
    "# steady_state = ret[-1][-1, :, :env.dim]\n",
    "# # target_state = env.modalities[env.target_modalities[0]].cpu()\n",
    "\n",
    "# # Impute\n",
    "# with torch.no_grad():\n",
    "#     imputed_steady_state = policy.pinning[0](steady_state.to('cuda')).detach().cpu().numpy()\n",
    "# imputed_steady_state, = preprocessing.inverse_transform([imputed_steady_state])\n",
    "\n",
    "# # Compute accuracy\n",
    "# mse = np.square(m1_raw - imputed_steady_state).mean()\n",
    "# print(f'MSE: {mse:.3f}')\n"
   ]
  },
  {
   "cell_type": "code",
   "execution_count": 7,
   "id": "a3d05b0d",
   "metadata": {
    "execution": {
     "iopub.execute_input": "2025-10-15T00:44:36.412766Z",
     "iopub.status.busy": "2025-10-15T00:44:36.412594Z",
     "iopub.status.idle": "2025-10-15T00:44:36.511185Z",
     "shell.execute_reply": "2025-10-15T00:44:36.510681Z"
    }
   },
   "outputs": [],
   "source": [
    "# # Latent space plot\n",
    "# red = umap.UMAP(random_state=42)\n",
    "# df = pd.DataFrame(index=sample_idx)\n",
    "# df[['X_lat', 'Y_lat']] = red.fit_transform(steady_state)\n",
    "# df['Target'] = adata[sample_idx].obs['target_gene'].to_numpy()\n",
    "# df['Select Targets'] = df['Target']\n",
    "# df.loc[~df['Target'].isin(['TMSB4X', 'EWSR1', 'non-targeting']), 'Select Targets'] = 'Other'\n",
    "# fig, ax = plt.subplots(1, 1, figsize=(5, 5))\n",
    "# sns.scatterplot(df, x='X_lat', y='Y_lat', hue='Select Targets', s=5, legend=True, ax=ax)\n"
   ]
  },
  {
   "cell_type": "markdown",
   "id": "514c2efb",
   "metadata": {},
   "source": [
    "# Predict Perturbation Outcomes"
   ]
  },
  {
   "cell_type": "code",
   "execution_count": null,
   "id": "dc839e19",
   "metadata": {
    "execution": {
     "iopub.execute_input": "2025-10-15T00:44:36.596440Z",
     "iopub.status.busy": "2025-10-15T00:44:36.596267Z",
     "iopub.status.idle": "2025-10-15T00:45:08.468223Z",
     "shell.execute_reply": "2025-10-15T00:45:08.467765Z"
    }
   },
   "outputs": [
    {
     "name": "stderr",
     "output_type": "stream",
     "text": [
      "1281it [00:06, 191.14it/s]\n"
     ]
    },
    {
     "name": "stdout",
     "output_type": "stream",
     "text": [
      "Mean Velocity: 0.006\n"
     ]
    }
   ],
   "source": [
    "# Get non-targeting\n",
    "non_targeting_sample_idx = np.argwhere(adata.obs['target_gene']=='non-targeting').flatten()\n",
    "np.random.seed(42)\n",
    "non_targeting_sample_idx = np.sort(np.random.choice(non_targeting_sample_idx, 5_000, replace=False))  # Subsample for performance\n",
    "non_targeting_raw = celltrip.utility.processing.chunk(adata.X[non_targeting_sample_idx], chunk_size=2_000)\n",
    "non_targeting_trans, = preprocessing.transform([non_targeting_raw])\n",
    "\n",
    "# Create environment\n",
    "env = (\n",
    "    celltrip.environment.EnvironmentBase(\n",
    "        torch.tensor(non_targeting_trans), compute_rewards=False, dim=env.dim)\n",
    "        .eval(time_scale=1)\n",
    "        .set_incorporation_params(retention=1., binding=1.)  # Nothing at all\n",
    "        .to('cuda'))\n",
    "\n",
    "# Simulate (Runs at around .61x realtime on 38k cells!)\n",
    "ret = celltrip.train.simulate_until_completion(env, policy, skip_states=100, store_states='cpu', progress_bar=True)\n",
    "non_targeting_steady_state = ret[-1][-1]\n",
    "print(f'Mean Velocity: {env.vel.abs().mean(dim=-1).mean():.3f}')\n",
    "\n",
    "# Simulate with incorporation\n",
    "# env.reset().set_state(non_targeting_steady_state.to('cuda'))\n",
    "# ret = celltrip.train.simulate_until_completion(env, policy, incorporate_predictions=False, skip_states=100, store_states='cpu', progress_bar=True)\n",
    "# env.solidify_offsets()\n",
    "# non_targeting_steady_state = ret[-1][-1]\n",
    "# print(env.vel.abs().mean(dim=-1).mean())\n",
    "\n",
    "# Impute\n",
    "with torch.no_grad():\n",
    "    imputed_non_targeting_steady_state = policy.pinning[0](non_targeting_steady_state[..., :env.dim].to('cuda')).detach().cpu().numpy()\n",
    "imputed_non_targeting_steady_state, = preprocessing.inverse_transform([imputed_non_targeting_steady_state])\n"
   ]
  },
  {
   "cell_type": "code",
   "execution_count": null,
   "id": "61eaca61",
   "metadata": {
    "execution": {
     "iopub.execute_input": "2025-10-15T00:45:08.715644Z",
     "iopub.status.busy": "2025-10-15T00:45:08.715472Z",
     "iopub.status.idle": "2025-10-15T01:16:02.807911Z",
     "shell.execute_reply": "2025-10-15T01:16:02.807367Z"
    }
   },
   "outputs": [
    {
     "name": "stderr",
     "output_type": "stream",
     "text": [
      "TMSB4X:   9%|▉         | 2/22 [00:06<01:03,  3.17s/it]   "
     ]
    },
    {
     "name": "stdout",
     "output_type": "stream",
     "text": [
      "Mean Velocity: 0.006\n"
     ]
    },
    {
     "name": "stderr",
     "output_type": "stream",
     "text": [
      "PRCP:  14%|█▎        | 3/22 [00:17<02:02,  6.43s/it]  "
     ]
    },
    {
     "name": "stdout",
     "output_type": "stream",
     "text": [
      "Mean Velocity: 0.770\n"
     ]
    },
    {
     "name": "stderr",
     "output_type": "stream",
     "text": [
      "TADA1:  18%|█▊        | 4/22 [00:28<02:28,  8.28s/it]"
     ]
    },
    {
     "name": "stdout",
     "output_type": "stream",
     "text": [
      "Mean Velocity: 0.918\n"
     ]
    },
    {
     "name": "stderr",
     "output_type": "stream",
     "text": [
      "HIRA:  23%|██▎       | 5/22 [00:39<02:38,  9.32s/it] "
     ]
    },
    {
     "name": "stdout",
     "output_type": "stream",
     "text": [
      "Mean Velocity: 0.818\n"
     ]
    },
    {
     "name": "stderr",
     "output_type": "stream",
     "text": [
      "IGF2R:  27%|██▋       | 6/22 [00:51<02:38,  9.93s/it]"
     ]
    },
    {
     "name": "stdout",
     "output_type": "stream",
     "text": [
      "Mean Velocity: 0.929\n"
     ]
    },
    {
     "name": "stderr",
     "output_type": "stream",
     "text": [
      "NCK2:  32%|███▏      | 7/22 [01:02<02:33, 10.24s/it] "
     ]
    },
    {
     "name": "stdout",
     "output_type": "stream",
     "text": [
      "Mean Velocity: 0.932\n"
     ]
    },
    {
     "name": "stderr",
     "output_type": "stream",
     "text": [
      "MED13:  36%|███▋      | 8/22 [01:13<02:27, 10.56s/it]"
     ]
    },
    {
     "name": "stdout",
     "output_type": "stream",
     "text": [
      "Mean Velocity: 0.862\n"
     ]
    },
    {
     "name": "stderr",
     "output_type": "stream",
     "text": [
      "MED12:  41%|████      | 9/22 [01:24<02:18, 10.67s/it]"
     ]
    },
    {
     "name": "stdout",
     "output_type": "stream",
     "text": [
      "Mean Velocity: 0.857\n"
     ]
    },
    {
     "name": "stderr",
     "output_type": "stream",
     "text": [
      "STAT1:  45%|████▌     | 10/22 [01:36<02:12, 11.03s/it]"
     ]
    },
    {
     "name": "stdout",
     "output_type": "stream",
     "text": [
      "Mean Velocity: 0.941\n"
     ]
    },
    {
     "name": "stderr",
     "output_type": "stream",
     "text": [
      "USP22:  50%|█████     | 11/22 [01:48<02:06, 11.49s/it]"
     ]
    },
    {
     "name": "stdout",
     "output_type": "stream",
     "text": [
      "Mean Velocity: 0.865\n"
     ]
    },
    {
     "name": "stderr",
     "output_type": "stream",
     "text": [
      "MED13L:  55%|█████▍    | 12/22 [01:59<01:53, 11.37s/it]"
     ]
    },
    {
     "name": "stdout",
     "output_type": "stream",
     "text": [
      "Mean Velocity: 0.842\n"
     ]
    },
    {
     "name": "stderr",
     "output_type": "stream",
     "text": [
      "TET1:  59%|█████▉    | 13/22 [02:10<01:40, 11.19s/it]  "
     ]
    },
    {
     "name": "stdout",
     "output_type": "stream",
     "text": [
      "Mean Velocity: 0.803\n"
     ]
    },
    {
     "name": "stderr",
     "output_type": "stream",
     "text": [
      "KIF1B:  64%|██████▎   | 14/22 [02:21<01:28, 11.06s/it]"
     ]
    },
    {
     "name": "stdout",
     "output_type": "stream",
     "text": [
      "Mean Velocity: 0.771\n"
     ]
    },
    {
     "name": "stderr",
     "output_type": "stream",
     "text": [
      "SRC:  68%|██████▊   | 15/22 [02:32<01:18, 11.15s/it]  "
     ]
    },
    {
     "name": "stdout",
     "output_type": "stream",
     "text": [
      "Mean Velocity: 0.879\n"
     ]
    },
    {
     "name": "stderr",
     "output_type": "stream",
     "text": [
      "PBX1:  73%|███████▎  | 16/22 [02:44<01:08, 11.35s/it]"
     ]
    },
    {
     "name": "stdout",
     "output_type": "stream",
     "text": [
      "Mean Velocity: 0.863\n"
     ]
    },
    {
     "name": "stderr",
     "output_type": "stream",
     "text": [
      "CAST:  77%|███████▋  | 17/22 [02:55<00:55, 11.15s/it]"
     ]
    },
    {
     "name": "stdout",
     "output_type": "stream",
     "text": [
      "Mean Velocity: 0.862\n"
     ]
    },
    {
     "name": "stderr",
     "output_type": "stream",
     "text": [
      "IDE:  82%|████████▏ | 18/22 [03:06<00:44, 11.16s/it] "
     ]
    },
    {
     "name": "stdout",
     "output_type": "stream",
     "text": [
      "Mean Velocity: 0.917\n"
     ]
    },
    {
     "name": "stderr",
     "output_type": "stream",
     "text": [
      "MAPKAPK2:  86%|████████▋ | 19/22 [03:17<00:33, 11.06s/it]"
     ]
    },
    {
     "name": "stdout",
     "output_type": "stream",
     "text": [
      "Mean Velocity: 0.820\n"
     ]
    },
    {
     "name": "stderr",
     "output_type": "stream",
     "text": [
      "PTPN1:  91%|█████████ | 20/22 [03:28<00:22, 11.15s/it]   "
     ]
    },
    {
     "name": "stdout",
     "output_type": "stream",
     "text": [
      "Mean Velocity: 0.870\n"
     ]
    },
    {
     "name": "stderr",
     "output_type": "stream",
     "text": [
      "KDM2B:  95%|█████████▌| 21/22 [03:40<00:11, 11.34s/it]"
     ]
    },
    {
     "name": "stdout",
     "output_type": "stream",
     "text": [
      "Mean Velocity: 0.797\n"
     ]
    },
    {
     "name": "stderr",
     "output_type": "stream",
     "text": [
      "KDM2B: 100%|██████████| 22/22 [03:51<00:00, 10.51s/it]"
     ]
    },
    {
     "name": "stdout",
     "output_type": "stream",
     "text": [
      "Mean Velocity: 0.822\n"
     ]
    },
    {
     "name": "stderr",
     "output_type": "stream",
     "text": [
      "\n"
     ]
    }
   ],
   "source": [
    "imputed_means, raw_means = [], []\n",
    "num_genes = 80\n",
    "gene_list = ['_ctl_pre', '_ctl_post'] + adata.obs.loc[adata.obs['target_gene']!='non-targeting'].groupby('target_gene', observed=True).size().sort_values(ascending=False).index.to_numpy()[:num_genes].tolist()\n",
    "# imputed_non_targeting_steady_state_mean = imputed_non_targeting_steady_state.mean(axis=0)\n",
    "# non_targeting_raw_mean = non_targeting_raw.mean(axis=0)\n",
    "for gene in (pbar := tqdm.tqdm(gene_list)):\n",
    "    # Update pbar\n",
    "    pbar.set_description(gene)\n",
    "\n",
    "    # Find gene\n",
    "    if gene == '_ctl_pre':\n",
    "        # imputed_means.append(preprocessing_nopca.transform([imputed_non_targeting_steady_state])[0].mean(axis=0))\n",
    "        # raw_means.append(preprocessing_nopca.transform([non_targeting_raw])[0].mean(axis=0))\n",
    "        imputed_means.append(imputed_non_targeting_steady_state.mean(axis=0))\n",
    "        raw_means.append(non_targeting_raw.mean(axis=0))\n",
    "        continue\n",
    "    elif gene == '_ctl_post':\n",
    "        gene_idx = []\n",
    "    else:\n",
    "        gene_idx = np.argwhere(adata.var.index == gene).flatten()\n",
    "        assert len(gene_idx) == 1\n",
    "\n",
    "    # # Get perturbation (~65s)\n",
    "    # # iso_modality = preprocessing.transform(non_targeting_raw, subset_modality=0, subset_features=gene_idx)\n",
    "    # iso_modality = celltrip.utility.processing.chunk(\n",
    "    #     non_targeting_raw, chunk_size=2_000, func=lambda x: preprocessing.transform(x, subset_modality=0, subset_features=gene_idx)[0])\n",
    "    # iso_modality = torch.tensor(iso_modality).to('cuda')\n",
    "\n",
    "    # Reset environment and simulate\n",
    "    env.reset().set_state(non_targeting_steady_state.to('cuda'))\n",
    "    # env.modalities[0] = torch.tensor(non_targeting_trans).to('cuda')\n",
    "    # env.modalities[0] = env.modalities[0] - iso_modality  # Knockdown - NOTE: If `pre_log` and nonzero knockdown, then need to do zero knockdown + other\n",
    "    ret = celltrip.train.simulate_until_completion(\n",
    "        env, policy,\n",
    "        incorporate_predictions=False,\n",
    "        env_hooks=[\n",
    "            # celltrip.utility.hooks.clamp_input_features_hook(\n",
    "            #     gene_idx, preprocessing, feature_targets=0., modality_idx=0, device=env.device),\n",
    "            celltrip.utility.hooks.clamp_inverted_features_hook(\n",
    "                gene_idx, preprocessing, feature_targets=0., modality_idx=0),\n",
    "        ],\n",
    "        action_hooks=[\n",
    "            celltrip.utility.hooks.move_toward_targets_hook(\n",
    "                gene_idx, feature_targets=0., pinning=policy.pinning[0],\n",
    "                preprocessing=preprocessing, modality_idx=0,\n",
    "                factor=1, device=env.device),\n",
    "        ],  # Factor 1e4\n",
    "        skip_states=100, store_states='cpu', progress_bar=False)\n",
    "    gene_steady_state = ret[-1][-1]\n",
    "    print(f'Mean Velocity: {env.vel.abs().mean(dim=-1).mean():.3f}')\n",
    "\n",
    "    # Impute\n",
    "    with torch.no_grad():\n",
    "        imputed_gene_steady_state = policy.pinning[0](gene_steady_state[..., :env.dim].to('cuda')).detach().cpu().numpy()\n",
    "    imputed_gene_steady_state, = preprocessing.inverse_transform([imputed_gene_steady_state])\n",
    "\n",
    "    # Get true perturbed data\n",
    "    if gene == '_ctl_post':\n",
    "        gene_raw = non_targeting_raw\n",
    "    else:\n",
    "        gene_sample_idx = np.argwhere(adata.obs['target_gene']==gene).flatten()\n",
    "        # gene_raw = celltrip.utility.processing.chunk(adata.X[gene_sample_idx], chunk_size=2_000)\n",
    "        # gene_trans, = preprocessing.transform([gene_raw])\n",
    "    \n",
    "    # Record\n",
    "    # imputed_means.append(preprocessing_nopca.transform([imputed_gene_steady_state])[0].mean(axis=0))\n",
    "    # raw_means.append(preprocessing_nopca.transform([gene_raw])[0].mean(axis=0))\n",
    "    imputed_means.append(imputed_gene_steady_state.mean(axis=0))\n",
    "    raw_means.append(gene_raw.mean(axis=0))\n",
    "\n",
    "# Aggregate\n",
    "imputed_means = np.stack(imputed_means, axis=0)\n",
    "imputed_means = pd.DataFrame(imputed_means, index=gene_list, columns=adata.var.index.to_numpy())\n",
    "raw_means = np.stack(raw_means, axis=0)  # np.concatenate(raw_means, axis=0)\n",
    "raw_means = pd.DataFrame(raw_means, index=gene_list, columns=adata.var.index.to_numpy())\n",
    "\n",
    "# Save\n",
    "imputed_means.to_csv('../plots/vcc/imputed_means.csv')\n",
    "raw_means.to_csv('../plots/vcc/raw_means.csv')\n"
   ]
  },
  {
   "cell_type": "markdown",
   "id": "fd55fd63",
   "metadata": {},
   "source": [
    "# Visualize Perturbation Results"
   ]
  },
  {
   "cell_type": "code",
   "execution_count": 13,
   "id": "1fbd60e1",
   "metadata": {
    "execution": {
     "iopub.execute_input": "2025-10-15T01:16:02.856216Z",
     "iopub.status.busy": "2025-10-15T01:16:02.856020Z",
     "iopub.status.idle": "2025-10-15T01:16:12.179779Z",
     "shell.execute_reply": "2025-10-15T01:16:12.179217Z"
    }
   },
   "outputs": [
    {
     "data": {
      "image/png": "[encoded data removed]",
      "text/plain": [
       "<Figure size 700x500 with 2 Axes>"
      ]
     },
     "metadata": {},
     "output_type": "display_data"
    }
   ],
   "source": [
    "# Load\n",
    "imputed_means = pd.read_csv('../plots/vcc/imputed_means.csv', index_col=0)\n",
    "raw_means = pd.read_csv('../plots/vcc/raw_means.csv', index_col=0).iloc[:imputed_means.shape[0]]\n",
    "\n",
    "# Transform\n",
    "# imputed_means[:], = preprocessing_nopca.inverse_transform([imputed_means.to_numpy()])\n",
    "# raw_means[:], = preprocessing_nopca.inverse_transform([raw_means.to_numpy()])\n",
    "\n",
    "# Lose information from PCA\n",
    "# raw_means[:], = preprocessing.inverse_transform(preprocessing.transform([raw_means.to_numpy()]))  # Invalid if log\n",
    "# raw_means[:], = preprocessing_nopca.transform(preprocessing.inverse_transform(preprocessing.transform(preprocessing_nopca.inverse_transform([raw_means.to_numpy()]))))\n",
    "\n",
    "# Get differences\n",
    "imputed_mean_diffs = imputed_means.iloc[2:] - imputed_means.loc['_ctl_post']\n",
    "# imputed_mean_diffs = imputed_means.iloc[2:] - imputed_means.loc['_ctl_pre']\n",
    "# imputed_mean_diffs = imputed_means.iloc[2:] - raw_means.loc['_ctl_post']\n",
    "raw_mean_diffs = raw_means.iloc[2:] - raw_means.loc['_ctl_post']\n",
    "\n",
    "# Get 1k highly variant genes\n",
    "assert preprocessing.filter_mask[0] is None\n",
    "# high_var_idx = preprocessing.standardize_std[0][0].argsort()[::-1][:1000]\n",
    "high_var_idx = np.array(np.argsort(np.std(adata.X[:1000].log1p().todense(), axis=0))).flatten()[::-1][:200]\n",
    "high_var_genes = adata.var.index[high_var_idx]\n",
    "\n",
    "# Compute correlations\n",
    "cross_correlation = np.corrcoef(imputed_mean_diffs, raw_mean_diffs)[:imputed_mean_diffs.shape[0], -raw_mean_diffs.shape[0]:]\n",
    "# cross_correlation = np.corrcoef(imputed_mean_diffs[high_var_genes], raw_mean_diffs[high_var_genes])[:imputed_mean_diffs.shape[0], -raw_mean_diffs.shape[0]:]\n",
    "cross_correlation = pd.DataFrame(cross_correlation, index=imputed_mean_diffs.index, columns=raw_mean_diffs.index)\n",
    "\n",
    "# Dendogram sorting\n",
    "# dist = scipy.spatial.distance.pdist(cross_correlation.T)\n",
    "# linkage = scipy.cluster.hierarchy.linkage(dist, method='ward')\n",
    "# ordered_linkage = scipy.cluster.hierarchy.optimal_leaf_ordering(linkage, dist)\n",
    "# ordered_leaves = scipy.cluster.hierarchy.leaves_list(ordered_linkage)\n",
    "# cross_correlation = cross_correlation.iloc[ordered_leaves, ordered_leaves]\n",
    "\n",
    "# Format correlation matrix\n",
    "cross_correlation_scaled_col = (cross_correlation - np.min(cross_correlation, axis=0)) / (np.max(cross_correlation, axis=0) - np.min(cross_correlation, axis=0))\n",
    "cross_correlation_scaled_row = (cross_correlation - np.min(cross_correlation, axis=1)) / (np.max(cross_correlation, axis=1) - np.min(cross_correlation, axis=1))\n",
    "cross_correlation_rank = cross_correlation.shape[0] - np.argsort(np.argsort(cross_correlation, axis=0), axis=0)\n",
    "cross_correlation_rank = pd.DataFrame(cross_correlation_rank, index=imputed_mean_diffs.index, columns=raw_mean_diffs.index)\n",
    "\n",
    "# Diagonal summary\n",
    "pert_summary = pd.DataFrame({\n",
    "    'Gene': cross_correlation.index,\n",
    "    'Rank': np.diag(cross_correlation_rank),\n",
    "    'Correlation': np.diag(cross_correlation),\n",
    "    'Observed Expression': raw_means.loc['_ctl_post', raw_mean_diffs.index],\n",
    "    'Observed Knockdown': np.diag(raw_mean_diffs[raw_mean_diffs.index]),\n",
    "    'Observed Knocked Expression': raw_means.loc['_ctl_post', raw_mean_diffs.index] + np.diag(raw_mean_diffs[raw_mean_diffs.index]),\n",
    "    'Observed Knockdown Rank': 1 + np.diag(np.argsort(np.argsort(raw_mean_diffs[raw_mean_diffs.index], axis=0), axis=0)),\n",
    "    'Imputed Expression': imputed_means.loc['_ctl_post', imputed_mean_diffs.index],\n",
    "    'Imputed Knockdown': np.diag(imputed_mean_diffs[imputed_mean_diffs.index]),\n",
    "    'Imputed Knocked Expression': imputed_means.loc['_ctl_post', imputed_mean_diffs.index] + np.diag(imputed_mean_diffs[imputed_mean_diffs.index]),\n",
    "    'Imputed Knockdown Rank': 1 + np.diag(np.argsort(np.argsort(imputed_mean_diffs[imputed_mean_diffs.index], axis=0), axis=0))})\n",
    "pert_summary['Ratio'] = pert_summary['Imputed Knockdown'] / pert_summary['Observed Knockdown']\n",
    "\n",
    "# Plot\n",
    "fig, ax = plt.subplots(1, 1, figsize=(7, 5))\n",
    "sns.heatmap(cross_correlation, cmap='vlag_r', vmin=-1, vmax=1, ax=ax)\n",
    "# sns.heatmap(cross_correlation_scaled_col, cmap='Blues', vmin=0, vmax=1, ax=ax)\n",
    "# sns.heatmap(cross_correlation_scaled_row, cmap='Blues', vmin=0, vmax=1, ax=ax)\n",
    "# sns.heatmap(cross_correlation_rank, cmap='Blues_r', vmin=1, vmax=cross_correlation.shape[0], ax=ax)\n",
    "ax.plot([0, cross_correlation.shape[0]], [0, cross_correlation.shape[0]], lw=.2, color='black')\n",
    "ax.set(xlabel='True Delta', ylabel='Predicted Delta')\n",
    "ax.set_xticklabels(ax.get_xticklabels(), rotation=90)\n",
    "ax.set_yticklabels(ax.get_yticklabels(), rotation=0)\n",
    "ax.set_aspect('equal')\n"
   ]
  },
  {
   "cell_type": "code",
   "execution_count": 14,
   "id": "482c5f31",
   "metadata": {
    "execution": {
     "iopub.execute_input": "2025-10-15T01:16:12.182535Z",
     "iopub.status.busy": "2025-10-15T01:16:12.182169Z",
     "iopub.status.idle": "2025-10-15T01:16:12.268692Z",
     "shell.execute_reply": "2025-10-15T01:16:12.268115Z"
    }
   },
   "outputs": [
    {
     "data": {
      "text/html": [
       "<div>\n",
       "<style scoped>\n",
       "    .dataframe tbody tr th:only-of-type {\n",
       "        vertical-align: middle;\n",
       "    }\n",
       "\n",
       "    .dataframe tbody tr th {\n",
       "        vertical-align: top;\n",
       "    }\n",
       "\n",
       "    .dataframe thead th {\n",
       "        text-align: right;\n",
       "    }\n",
       "</style>\n",
       "<table border=\"1\" class=\"dataframe\">\n",
       "  <thead>\n",
       "    <tr style=\"text-align: right;\">\n",
       "      <th></th>\n",
       "      <th>Gene</th>\n",
       "      <th>Rank</th>\n",
       "      <th>Correlation</th>\n",
       "      <th>Observed Expression</th>\n",
       "      <th>Observed Knockdown</th>\n",
       "      <th>Observed Knocked Expression</th>\n",
       "      <th>Observed Knockdown Rank</th>\n",
       "      <th>Imputed Expression</th>\n",
       "      <th>Imputed Knockdown</th>\n",
       "      <th>Imputed Knocked Expression</th>\n",
       "      <th>Imputed Knockdown Rank</th>\n",
       "      <th>Ratio</th>\n",
       "    </tr>\n",
       "  </thead>\n",
       "  <tbody>\n",
       "    <tr>\n",
       "      <th>TMSB4X</th>\n",
       "      <td>TMSB4X</td>\n",
       "      <td>1</td>\n",
       "      <td>0.210848</td>\n",
       "      <td>135.356030</td>\n",
       "      <td>-128.957514</td>\n",
       "      <td>6.398516</td>\n",
       "      <td>1</td>\n",
       "      <td>23.627354</td>\n",
       "      <td>-23.581304</td>\n",
       "      <td>0.046050</td>\n",
       "      <td>1</td>\n",
       "      <td>0.182861</td>\n",
       "    </tr>\n",
       "    <tr>\n",
       "      <th>PRCP</th>\n",
       "      <td>PRCP</td>\n",
       "      <td>16</td>\n",
       "      <td>-0.151592</td>\n",
       "      <td>6.184002</td>\n",
       "      <td>-5.831656</td>\n",
       "      <td>0.352347</td>\n",
       "      <td>1</td>\n",
       "      <td>0.961928</td>\n",
       "      <td>-0.959177</td>\n",
       "      <td>0.002751</td>\n",
       "      <td>1</td>\n",
       "      <td>0.164478</td>\n",
       "    </tr>\n",
       "    <tr>\n",
       "      <th>TADA1</th>\n",
       "      <td>TADA1</td>\n",
       "      <td>3</td>\n",
       "      <td>0.215473</td>\n",
       "      <td>1.153998</td>\n",
       "      <td>-1.100962</td>\n",
       "      <td>0.053036</td>\n",
       "      <td>1</td>\n",
       "      <td>0.190379</td>\n",
       "      <td>-0.190607</td>\n",
       "      <td>-0.000228</td>\n",
       "      <td>1</td>\n",
       "      <td>0.173128</td>\n",
       "    </tr>\n",
       "    <tr>\n",
       "      <th>HIRA</th>\n",
       "      <td>HIRA</td>\n",
       "      <td>2</td>\n",
       "      <td>0.303991</td>\n",
       "      <td>9.302001</td>\n",
       "      <td>-1.225353</td>\n",
       "      <td>8.076648</td>\n",
       "      <td>1</td>\n",
       "      <td>1.536897</td>\n",
       "      <td>-1.529909</td>\n",
       "      <td>0.006988</td>\n",
       "      <td>1</td>\n",
       "      <td>1.248546</td>\n",
       "    </tr>\n",
       "    <tr>\n",
       "      <th>IGF2R</th>\n",
       "      <td>IGF2R</td>\n",
       "      <td>3</td>\n",
       "      <td>0.173823</td>\n",
       "      <td>3.721999</td>\n",
       "      <td>-3.375907</td>\n",
       "      <td>0.346092</td>\n",
       "      <td>1</td>\n",
       "      <td>0.559888</td>\n",
       "      <td>-0.559313</td>\n",
       "      <td>0.000575</td>\n",
       "      <td>1</td>\n",
       "      <td>0.165678</td>\n",
       "    </tr>\n",
       "    <tr>\n",
       "      <th>NCK2</th>\n",
       "      <td>NCK2</td>\n",
       "      <td>15</td>\n",
       "      <td>-0.098264</td>\n",
       "      <td>2.059996</td>\n",
       "      <td>-1.954500</td>\n",
       "      <td>0.105497</td>\n",
       "      <td>1</td>\n",
       "      <td>0.331417</td>\n",
       "      <td>-0.331051</td>\n",
       "      <td>0.000366</td>\n",
       "      <td>1</td>\n",
       "      <td>0.169379</td>\n",
       "    </tr>\n",
       "    <tr>\n",
       "      <th>MED13</th>\n",
       "      <td>MED13</td>\n",
       "      <td>8</td>\n",
       "      <td>0.014330</td>\n",
       "      <td>6.088000</td>\n",
       "      <td>-5.761844</td>\n",
       "      <td>0.326157</td>\n",
       "      <td>1</td>\n",
       "      <td>1.040839</td>\n",
       "      <td>-1.040206</td>\n",
       "      <td>0.000633</td>\n",
       "      <td>1</td>\n",
       "      <td>0.180534</td>\n",
       "    </tr>\n",
       "    <tr>\n",
       "      <th>MED12</th>\n",
       "      <td>MED12</td>\n",
       "      <td>2</td>\n",
       "      <td>0.238586</td>\n",
       "      <td>4.383997</td>\n",
       "      <td>-4.195639</td>\n",
       "      <td>0.188358</td>\n",
       "      <td>1</td>\n",
       "      <td>0.621471</td>\n",
       "      <td>-0.620419</td>\n",
       "      <td>0.001052</td>\n",
       "      <td>1</td>\n",
       "      <td>0.147872</td>\n",
       "    </tr>\n",
       "    <tr>\n",
       "      <th>STAT1</th>\n",
       "      <td>STAT1</td>\n",
       "      <td>8</td>\n",
       "      <td>0.035545</td>\n",
       "      <td>3.175997</td>\n",
       "      <td>-2.997096</td>\n",
       "      <td>0.178901</td>\n",
       "      <td>1</td>\n",
       "      <td>0.568249</td>\n",
       "      <td>-0.567680</td>\n",
       "      <td>0.000569</td>\n",
       "      <td>1</td>\n",
       "      <td>0.189410</td>\n",
       "    </tr>\n",
       "    <tr>\n",
       "      <th>USP22</th>\n",
       "      <td>USP22</td>\n",
       "      <td>14</td>\n",
       "      <td>-0.129008</td>\n",
       "      <td>20.932000</td>\n",
       "      <td>-20.000250</td>\n",
       "      <td>0.931750</td>\n",
       "      <td>1</td>\n",
       "      <td>3.596261</td>\n",
       "      <td>-3.585242</td>\n",
       "      <td>0.011019</td>\n",
       "      <td>1</td>\n",
       "      <td>0.179260</td>\n",
       "    </tr>\n",
       "    <tr>\n",
       "      <th>MED13L</th>\n",
       "      <td>MED13L</td>\n",
       "      <td>13</td>\n",
       "      <td>-0.122709</td>\n",
       "      <td>2.287998</td>\n",
       "      <td>-2.145026</td>\n",
       "      <td>0.142973</td>\n",
       "      <td>1</td>\n",
       "      <td>0.396568</td>\n",
       "      <td>-0.396052</td>\n",
       "      <td>0.000516</td>\n",
       "      <td>1</td>\n",
       "      <td>0.184637</td>\n",
       "    </tr>\n",
       "    <tr>\n",
       "      <th>TET1</th>\n",
       "      <td>TET1</td>\n",
       "      <td>1</td>\n",
       "      <td>0.198551</td>\n",
       "      <td>12.528000</td>\n",
       "      <td>-10.707557</td>\n",
       "      <td>1.820443</td>\n",
       "      <td>1</td>\n",
       "      <td>2.319894</td>\n",
       "      <td>-2.312057</td>\n",
       "      <td>0.007836</td>\n",
       "      <td>2</td>\n",
       "      <td>0.215928</td>\n",
       "    </tr>\n",
       "    <tr>\n",
       "      <th>KIF1B</th>\n",
       "      <td>KIF1B</td>\n",
       "      <td>5</td>\n",
       "      <td>-0.024201</td>\n",
       "      <td>14.508013</td>\n",
       "      <td>-13.780554</td>\n",
       "      <td>0.727459</td>\n",
       "      <td>1</td>\n",
       "      <td>2.348511</td>\n",
       "      <td>-2.343642</td>\n",
       "      <td>0.004869</td>\n",
       "      <td>1</td>\n",
       "      <td>0.170069</td>\n",
       "    </tr>\n",
       "    <tr>\n",
       "      <th>SRC</th>\n",
       "      <td>SRC</td>\n",
       "      <td>18</td>\n",
       "      <td>-0.279082</td>\n",
       "      <td>3.601998</td>\n",
       "      <td>-3.314440</td>\n",
       "      <td>0.287557</td>\n",
       "      <td>1</td>\n",
       "      <td>0.622186</td>\n",
       "      <td>-0.620254</td>\n",
       "      <td>0.001931</td>\n",
       "      <td>1</td>\n",
       "      <td>0.187137</td>\n",
       "    </tr>\n",
       "    <tr>\n",
       "      <th>PBX1</th>\n",
       "      <td>PBX1</td>\n",
       "      <td>20</td>\n",
       "      <td>-0.177067</td>\n",
       "      <td>13.075999</td>\n",
       "      <td>-12.229484</td>\n",
       "      <td>0.846515</td>\n",
       "      <td>1</td>\n",
       "      <td>2.376154</td>\n",
       "      <td>-2.359476</td>\n",
       "      <td>0.016678</td>\n",
       "      <td>1</td>\n",
       "      <td>0.192933</td>\n",
       "    </tr>\n",
       "    <tr>\n",
       "      <th>CAST</th>\n",
       "      <td>CAST</td>\n",
       "      <td>20</td>\n",
       "      <td>-0.364193</td>\n",
       "      <td>2.694000</td>\n",
       "      <td>-1.219743</td>\n",
       "      <td>1.474257</td>\n",
       "      <td>1</td>\n",
       "      <td>0.498448</td>\n",
       "      <td>-0.498370</td>\n",
       "      <td>0.000078</td>\n",
       "      <td>2</td>\n",
       "      <td>0.408586</td>\n",
       "    </tr>\n",
       "    <tr>\n",
       "      <th>IDE</th>\n",
       "      <td>IDE</td>\n",
       "      <td>12</td>\n",
       "      <td>-0.093209</td>\n",
       "      <td>5.176003</td>\n",
       "      <td>-4.908209</td>\n",
       "      <td>0.267794</td>\n",
       "      <td>1</td>\n",
       "      <td>0.860089</td>\n",
       "      <td>-0.859786</td>\n",
       "      <td>0.000303</td>\n",
       "      <td>1</td>\n",
       "      <td>0.175173</td>\n",
       "    </tr>\n",
       "    <tr>\n",
       "      <th>MAPKAPK2</th>\n",
       "      <td>MAPKAPK2</td>\n",
       "      <td>6</td>\n",
       "      <td>0.027887</td>\n",
       "      <td>4.279998</td>\n",
       "      <td>-4.069615</td>\n",
       "      <td>0.210383</td>\n",
       "      <td>1</td>\n",
       "      <td>0.738962</td>\n",
       "      <td>-0.722810</td>\n",
       "      <td>0.016152</td>\n",
       "      <td>3</td>\n",
       "      <td>0.177611</td>\n",
       "    </tr>\n",
       "    <tr>\n",
       "      <th>PTPN1</th>\n",
       "      <td>PTPN1</td>\n",
       "      <td>3</td>\n",
       "      <td>0.048019</td>\n",
       "      <td>4.970002</td>\n",
       "      <td>-4.766357</td>\n",
       "      <td>0.203645</td>\n",
       "      <td>1</td>\n",
       "      <td>0.845600</td>\n",
       "      <td>-0.845735</td>\n",
       "      <td>-0.000135</td>\n",
       "      <td>1</td>\n",
       "      <td>0.177438</td>\n",
       "    </tr>\n",
       "    <tr>\n",
       "      <th>KDM2B</th>\n",
       "      <td>KDM2B</td>\n",
       "      <td>7</td>\n",
       "      <td>0.140729</td>\n",
       "      <td>8.434004</td>\n",
       "      <td>-6.383103</td>\n",
       "      <td>2.050901</td>\n",
       "      <td>1</td>\n",
       "      <td>1.496995</td>\n",
       "      <td>-1.474806</td>\n",
       "      <td>0.022189</td>\n",
       "      <td>1</td>\n",
       "      <td>0.231048</td>\n",
       "    </tr>\n",
       "  </tbody>\n",
       "</table>\n",
       "</div>"
      ],
      "text/plain": [
       "              Gene  Rank  Correlation  Observed Expression  \\\n",
       "TMSB4X      TMSB4X     1     0.210848           135.356030   \n",
       "PRCP          PRCP    16    -0.151592             6.184002   \n",
       "TADA1        TADA1     3     0.215473             1.153998   \n",
       "HIRA          HIRA     2     0.303991             9.302001   \n",
       "IGF2R        IGF2R     3     0.173823             3.721999   \n",
       "NCK2          NCK2    15    -0.098264             2.059996   \n",
       "MED13        MED13     8     0.014330             6.088000   \n",
       "MED12        MED12     2     0.238586             4.383997   \n",
       "STAT1        STAT1     8     0.035545             3.175997   \n",
       "USP22        USP22    14    -0.129008            20.932000   \n",
       "MED13L      MED13L    13    -0.122709             2.287998   \n",
       "TET1          TET1     1     0.198551            12.528000   \n",
       "KIF1B        KIF1B     5    -0.024201            14.508013   \n",
       "SRC            SRC    18    -0.279082             3.601998   \n",
       "PBX1          PBX1    20    -0.177067            13.075999   \n",
       "CAST          CAST    20    -0.364193             2.694000   \n",
       "IDE            IDE    12    -0.093209             5.176003   \n",
       "MAPKAPK2  MAPKAPK2     6     0.027887             4.279998   \n",
       "PTPN1        PTPN1     3     0.048019             4.970002   \n",
       "KDM2B        KDM2B     7     0.140729             8.434004   \n",
       "\n",
       "          Observed Knockdown  Observed Knocked Expression  \\\n",
       "TMSB4X           -128.957514                     6.398516   \n",
       "PRCP               -5.831656                     0.352347   \n",
       "TADA1              -1.100962                     0.053036   \n",
       "HIRA               -1.225353                     8.076648   \n",
       "IGF2R              -3.375907                     0.346092   \n",
       "NCK2               -1.954500                     0.105497   \n",
       "MED13              -5.761844                     0.326157   \n",
       "MED12              -4.195639                     0.188358   \n",
       "STAT1              -2.997096                     0.178901   \n",
       "USP22             -20.000250                     0.931750   \n",
       "MED13L             -2.145026                     0.142973   \n",
       "TET1              -10.707557                     1.820443   \n",
       "KIF1B             -13.780554                     0.727459   \n",
       "SRC                -3.314440                     0.287557   \n",
       "PBX1              -12.229484                     0.846515   \n",
       "CAST               -1.219743                     1.474257   \n",
       "IDE                -4.908209                     0.267794   \n",
       "MAPKAPK2           -4.069615                     0.210383   \n",
       "PTPN1              -4.766357                     0.203645   \n",
       "KDM2B              -6.383103                     2.050901   \n",
       "\n",
       "          Observed Knockdown Rank  Imputed Expression  Imputed Knockdown  \\\n",
       "TMSB4X                          1           23.627354         -23.581304   \n",
       "PRCP                            1            0.961928          -0.959177   \n",
       "TADA1                           1            0.190379          -0.190607   \n",
       "HIRA                            1            1.536897          -1.529909   \n",
       "IGF2R                           1            0.559888          -0.559313   \n",
       "NCK2                            1            0.331417          -0.331051   \n",
       "MED13                           1            1.040839          -1.040206   \n",
       "MED12                           1            0.621471          -0.620419   \n",
       "STAT1                           1            0.568249          -0.567680   \n",
       "USP22                           1            3.596261          -3.585242   \n",
       "MED13L                          1            0.396568          -0.396052   \n",
       "TET1                            1            2.319894          -2.312057   \n",
       "KIF1B                           1            2.348511          -2.343642   \n",
       "SRC                             1            0.622186          -0.620254   \n",
       "PBX1                            1            2.376154          -2.359476   \n",
       "CAST                            1            0.498448          -0.498370   \n",
       "IDE                             1            0.860089          -0.859786   \n",
       "MAPKAPK2                        1            0.738962          -0.722810   \n",
       "PTPN1                           1            0.845600          -0.845735   \n",
       "KDM2B                           1            1.496995          -1.474806   \n",
       "\n",
       "          Imputed Knocked Expression  Imputed Knockdown Rank     Ratio  \n",
       "TMSB4X                      0.046050                       1  0.182861  \n",
       "PRCP                        0.002751                       1  0.164478  \n",
       "TADA1                      -0.000228                       1  0.173128  \n",
       "HIRA                        0.006988                       1  1.248546  \n",
       "IGF2R                       0.000575                       1  0.165678  \n",
       "NCK2                        0.000366                       1  0.169379  \n",
       "MED13                       0.000633                       1  0.180534  \n",
       "MED12                       0.001052                       1  0.147872  \n",
       "STAT1                       0.000569                       1  0.189410  \n",
       "USP22                       0.011019                       1  0.179260  \n",
       "MED13L                      0.000516                       1  0.184637  \n",
       "TET1                        0.007836                       2  0.215928  \n",
       "KIF1B                       0.004869                       1  0.170069  \n",
       "SRC                         0.001931                       1  0.187137  \n",
       "PBX1                        0.016678                       1  0.192933  \n",
       "CAST                        0.000078                       2  0.408586  \n",
       "IDE                         0.000303                       1  0.175173  \n",
       "MAPKAPK2                    0.016152                       3  0.177611  \n",
       "PTPN1                      -0.000135                       1  0.177438  \n",
       "KDM2B                       0.022189                       1  0.231048  "
      ]
     },
     "execution_count": 14,
     "metadata": {},
     "output_type": "execute_result"
    }
   ],
   "source": [
    "pert_summary\n"
   ]
  },
  {
   "cell_type": "code",
   "execution_count": 15,
   "id": "7e3aa738",
   "metadata": {
    "execution": {
     "iopub.execute_input": "2025-10-15T01:16:12.271475Z",
     "iopub.status.busy": "2025-10-15T01:16:12.271147Z",
     "iopub.status.idle": "2025-10-15T01:16:12.580497Z",
     "shell.execute_reply": "2025-10-15T01:16:12.579931Z"
    }
   },
   "outputs": [
    {
     "data": {
      "image/png": "[encoded data removed]",
      "text/plain": [
       "<Figure size 500x300 with 1 Axes>"
      ]
     },
     "metadata": {},
     "output_type": "display_data"
    }
   ],
   "source": [
    "# Get hit df\n",
    "df = pd.DataFrame({'Rank': 1+np.arange(pert_summary.shape[0])})\n",
    "df['Hits'] = df['Rank'].apply(lambda r: (pert_summary['Rank'] <= r).sum())\n",
    "df['Hit Percentage'] = df['Hits'] / pert_summary.shape[0]\n",
    "auc = df['Hit Percentage'].mean()  # * (df.shape[0]/(df.shape[0]+1))\n",
    "\n",
    "# Plot\n",
    "fig, ax = plt.subplots(1, 1, figsize=(5, 3))\n",
    "sns.lineplot(df, x='Rank', y='Hit Percentage', lw=2, marker='.', markersize=10, markeredgecolor='none', color='black', ax=ax)\n",
    "sns.despine(ax=ax)\n",
    "ax.set_xlim(left=0)\n",
    "ax.set_ylim(-.02, 1.02)\n",
    "ax.set_xticks([1]+np.arange(5, pert_summary.shape[0]+5, 5).tolist())\n",
    "ax.yaxis.set_major_formatter(mpl.ticker.PercentFormatter(1.))\n",
    "ax.text(.02, .98, f'Mean Hit: {auc:.3f}', ha='left', va='top', fontsize='medium', transform=ax.transAxes)\n",
    "ax.plot([0, pert_summary.shape[0]], [0, 1], ls='--', lw=1, color='black');\n"
   ]
  },
  {
   "cell_type": "code",
   "execution_count": 16,
   "id": "53af8577",
   "metadata": {
    "execution": {
     "iopub.execute_input": "2025-10-15T01:16:12.582378Z",
     "iopub.status.busy": "2025-10-15T01:16:12.582170Z",
     "iopub.status.idle": "2025-10-15T01:16:13.402235Z",
     "shell.execute_reply": "2025-10-15T01:16:13.401621Z"
    }
   },
   "outputs": [
    {
     "data": {
      "image/png": "[encoded data removed]",
      "text/plain": [
       "<Figure size 500x300 with 1 Axes>"
      ]
     },
     "metadata": {},
     "output_type": "display_data"
    }
   ],
   "source": [
    "# Get hit df\n",
    "df = pd.DataFrame({'Diagonal': np.arange(-pert_summary.shape[0]+1, pert_summary.shape[0])})\n",
    "diag_corr = [np.diag(np.roll(cross_correlation, i, axis=0)).mean() for i in range(cross_correlation.shape[0])]\n",
    "df['Mean Correlation'] = diag_corr[:0:-1] + diag_corr\n",
    "\n",
    "# Plot\n",
    "fig, ax = plt.subplots(1, 1, figsize=(5, 3))\n",
    "bar = sns.barplot(df, x='Diagonal', y='Mean Correlation', color='black', edgecolor='black', ax=ax)\n",
    "# Highlight\n",
    "ax.patches[len(diag_corr)-1].set(color='red', edgecolor='red')\n",
    "# Styling\n",
    "sns.despine(ax=ax)\n",
    "max_ylim = max(*ax.get_ylim())\n",
    "ax.set_ylim(-max_ylim, max_ylim)\n",
    "xticks = np.arange(0, len(diag_corr), 5)\n",
    "xticks = np.concat([-xticks[:0:-1], xticks])\n",
    "ax.set(xticks=xticks+df['Diagonal'].max(), xticklabels=xticks);\n"
   ]
  },
  {
   "cell_type": "code",
   "execution_count": 9,
   "id": "a847b078",
   "metadata": {
    "execution": {
     "iopub.execute_input": "2025-10-15T01:16:13.404507Z",
     "iopub.status.busy": "2025-10-15T01:16:13.404221Z",
     "iopub.status.idle": "2025-10-15T01:16:13.759644Z",
     "shell.execute_reply": "2025-10-15T01:16:13.758905Z"
    }
   },
   "outputs": [
    {
     "name": "stderr",
     "output_type": "stream",
     "text": [
      "/tmp/ipykernel_90025/2340559097.py:15: UserWarning: \n",
      "The palette list has fewer values (1) than needed (4) and will cycle, which may produce an uninterpretable plot.\n",
      "  bar = sns.barplot(df.loc[df['Type'].str.endswith('Expression')], x='Gene', y='Value', hue='Type', dodge=False, palette=['lightblue'], edgecolor='none', width=.8, ax=ax)\n",
      "/tmp/ipykernel_90025/2340559097.py:16: UserWarning: \n",
      "The palette list has fewer values (1) than needed (2) and will cycle, which may produce an uninterpretable plot.\n",
      "  bar = sns.barplot(df.loc[df['Type'].str.endswith('Knocked Expression')], x='Gene', y='Value', hue='Type', dodge=False, palette=['lightcoral'], edgecolor='none', width=.4, ax=ax)\n"
     ]
    },
    {
     "data": {
      "image/png": "[encoded data removed]",
      "text/plain": [
       "<Figure size 500x300 with 1 Axes>"
      ]
     },
     "metadata": {},
     "output_type": "display_data"
    }
   ],
   "source": [
    "# Pivot\n",
    "df = pert_summary.melt(\n",
    "    id_vars='Gene',\n",
    "    value_vars=[\n",
    "        'Observed Expression', 'Imputed Expression',\n",
    "        # 'Observed Knockdown', 'Imputed Knockdown',\n",
    "        'Observed Knocked Expression', 'Imputed Knocked Expression'],\n",
    "    var_name='Type', value_name='Value').sort_values('Value', ascending=False)\n",
    "df.loc[df['Type'].str.startswith('Imputed'), 'Value'] *= -1\n",
    "\n",
    "# Plot\n",
    "fig, ax = plt.subplots(1, 1, figsize=(5, 3))\n",
    "# bar = sns.barplot(df.loc[df['Type'].str.endswith('Observed')], x='Gene', y='Value', hue='Type', dodge=False, palette=['lightblue', 'lightblue'], edgecolor='none', width=.8, ax=ax)\n",
    "# bar = sns.barplot(df.loc[df['Type'].str.startswith('Imputed')], x='Gene', y='Value', hue='Type', dodge=False, palette=['lightcoral', 'lightcoral'], edgecolor='none', width=.4, ax=ax)\n",
    "bar = sns.barplot(df.loc[df['Type'].str.endswith('Expression')], x='Gene', y='Value', hue='Type', dodge=False, palette=['lightblue'], edgecolor='none', width=.8, ax=ax)\n",
    "bar = sns.barplot(df.loc[df['Type'].str.endswith('Knocked Expression')], x='Gene', y='Value', hue='Type', dodge=False, palette=['lightcoral'], edgecolor='none', width=.4, ax=ax)\n",
    "# bar.get_legend().set_title('')\n",
    "ax.set_yscale('symlog', linthresh=10)\n",
    "ax.axhline(y=0, lw=1., color='black')\n",
    "yticks = [-100, -10, -5, 0, 5, 10, 100]\n",
    "ax.set(yticks=yticks, yticklabels=np.abs(yticks))\n",
    "ax.set_xticks(ax.get_xticks())\n",
    "ax.set_xticklabels(ax.get_xticklabels(), rotation=90)\n",
    "# Styling\n",
    "sns.despine(bottom=True, ax=ax)\n",
    "ax.tick_params(axis='x', which='major', length=0)\n",
    "ax.set_ylabel(None)\n",
    "# ax.text(-.12, .75, 'Expression', ha='right', va='center', rotation=90, transform=ax.transAxes)\n",
    "# ax.text(-.12, .25, 'Knockdown', ha='right', va='center', rotation=90, transform=ax.transAxes)\n",
    "ax.text(-.12, .75, 'Observed', ha='right', va='center', rotation=90, transform=ax.transAxes)\n",
    "ax.text(-.12, .25, 'Imputed', ha='right', va='center', rotation=90, transform=ax.transAxes)\n",
    "# Legend\n",
    "patches = [\n",
    "    mpl.patches.Patch(facecolor='lightblue', edgecolor='none'),\n",
    "    mpl.patches.Patch(facecolor='lightcoral', edgecolor='none')]\n",
    "# labels = ['Observed', 'Imputed']\n",
    "labels = ['Control', 'Knocked']\n",
    "ax.legend(patches, labels, loc='lower right');\n"
   ]
  }
 ],
 "metadata": {
  "kernelspec": {
   "display_name": "ct",
   "language": "python",
   "name": "python3"
  },
  "language_info": {
   "codemirror_mode": {
    "name": "ipython",
    "version": 3
   },
   "file_extension": ".py",
   "mimetype": "text/x-python",
   "name": "python",
   "nbconvert_exporter": "python",
   "pygments_lexer": "ipython3",
   "version": "3.10.16"
  }
 },
 "nbformat": 4,
 "nbformat_minor": 5
}
