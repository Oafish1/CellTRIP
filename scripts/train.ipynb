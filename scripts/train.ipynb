{
 "cells": [
  {
   "cell_type": "code",
   "execution_count": null,
   "metadata": {},
   "outputs": [],
   "source": [
    "%load_ext autoreload\n",
    "%autoreload 2\n"
   ]
  },
  {
   "cell_type": "markdown",
   "metadata": {},
   "source": [
    "- Save preprocessing\n",
    "- Early stopping for `train_celltrip` based on action_std and/or KL\n",
    "- Maybe [this](https://arxiv.org/abs/2102.09430) but probably not\n",
    "- [EFS on clusters maybe](https://docs.ray.io/en/latest/cluster/vms/user-guides/launching-clusters/aws.html#start-ray-with-the-ray-cluster-launcher)"
   ]
  },
  {
   "cell_type": "code",
   "execution_count": null,
   "metadata": {},
   "outputs": [],
   "source": [
    "import argparse\n",
    "import os\n",
    "import random\n",
    "\n",
    "import ray\n",
    "\n",
    "import celltrip\n",
    "\n",
    "# Detect Cython\n",
    "CYTHON_ACTIVE = os.path.splitext(celltrip.utility.general.__file__)[1] in ('.c', '.so')\n",
    "print(f'Cython is{\" not\" if not CYTHON_ACTIVE else \"\"} active')\n"
   ]
  },
  {
   "cell_type": "markdown",
   "metadata": {},
   "source": [
    "# Arguments"
   ]
  },
  {
   "cell_type": "code",
   "execution_count": 13,
   "metadata": {},
   "outputs": [
    {
     "name": "stdout",
     "output_type": "stream",
     "text": [
      "python train.py s3://nkalafut-celltrip/scGLUE/Chen-2019-RNA.h5ad s3://nkalafut-celltrip/scGLUE/Chen-2019-ATAC.h5ad --input_modalities 0 --target_modalities 0 --backed --dim 32 --train_split .8 --num_gpus 2 --num_learners 2 --num_runners 2 --update_timesteps 1_000_000 --max_timesteps 1_000_000_000 --dont_sync_across_nodes --logfile s3://nkalafut-celltrip/logs/light-all-1M-scglue-32-long-ent0-normfix-longer.log --flush_iterations 1 --checkpoint_dir s3://nkalafut-celltrip/checkpoints --checkpoint_name light-all-1M-scglue-32-long-ent0-normfix-longer\n"
     ]
    }
   ],
   "source": [
    "# Arguments\n",
    "# NOTE: It is not recommended to use s3 with credentials unless the creds are permanent, the bucket is public, or this is run on AWS\n",
    "parser = argparse.ArgumentParser(description='Train CellTRIP model', formatter_class=argparse.ArgumentDefaultsHelpFormatter)\n",
    "\n",
    "# Reading\n",
    "group = parser.add_argument_group('Input')\n",
    "group.add_argument('input_files', type=str, nargs='*', help='h5ad files to be used for input')\n",
    "group.add_argument('--merge_files', type=str, action='append', nargs='+', help='h5ad files to merge as input')\n",
    "group.add_argument('--partition_cols', type=str, action='append', nargs='+', help='Columns for data partitioning, found in `adata.obs` DataFrame')\n",
    "group.add_argument('--backed', action='store_true', help='Read data directly from disk or s3, saving memory at the cost of time')\n",
    "group.add_argument('--input_modalities', type=int, nargs='+', help='Input modalities to give to CellTRIP')\n",
    "group.add_argument('--target_modalities', type=int, nargs='+', help='Target modalities to emulate, dictates environment reward')\n",
    "# Algorithm\n",
    "group = parser.add_argument_group('Algorithm')\n",
    "group.add_argument('--dim', type=int, default=16, help='Dimensions in the output latent space')\n",
    "group.add_argument('--train_split', type=float, default=1., help='Fraction of input data to use as training')\n",
    "# Computation\n",
    "group = parser.add_argument_group('Computation')\n",
    "group.add_argument('--num_gpus', type=int, default=1, help='Number of GPUs to use during computation')\n",
    "group.add_argument('--num_learners', type=int, default=1, help='Number of learners used in backward computation, cannot exceed GPUs')\n",
    "group.add_argument('--num_runners', type=int, default=1, help='Number of workers for environment simulation')\n",
    "# Training\n",
    "group = parser.add_argument_group('Training')\n",
    "group.add_argument('--update_timesteps', type=int, default=int(1e6), help='Number of timesteps recorded before each update')\n",
    "group.add_argument('--max_timesteps', type=int, default=int(2e9), help='Maximum number of timesteps to compute before exiting')\n",
    "group.add_argument('--dont_sync_across_nodes', action='store_true', help='Avoid memory sync across nodes, saving overhead time at the cost of stability')\n",
    "# File saves\n",
    "group = parser.add_argument_group('Logging')\n",
    "group.add_argument('--logfile', type=str, default='cli', help='Location for log file, can be `cli`, `<local_file>`, or `<s3 location>`')\n",
    "group.add_argument('--flush_iterations', default=25, type=int, help='Number of iterations to wait before flushing logs')\n",
    "group.add_argument('--checkpoint', type=str, help='Checkpoint to use for initializing model')\n",
    "group.add_argument('--checkpoint_iterations', type=int, default=100, help='Number of updates to wait before recording checkpoints')\n",
    "group.add_argument('--checkpoint_dir', type=str, default='./checkpoints', help='Directory for checkpoints')\n",
    "group.add_argument('--checkpoint_name', type=str, help='Run name, for checkpointing')\n",
    "\n",
    "# Notebook defaults and script handling\n",
    "if not celltrip.utility.notebook.is_notebook():\n",
    "    # ray job submit -- python train.py...\n",
    "    config = parser.parse_args()\n",
    "else:\n",
    "    experiment_name = 'light-all-1M-scglue-32-long-ent0-normfix-longer'\n",
    "    command = (\n",
    "        # f's3://nkalafut-celltrip/MERFISH/expression.h5ad s3://nkalafut-celltrip/MERFISH/spatial.h5ad --target_modalities 1 '\n",
    "        # f's3://nkalafut-celltrip/scGLUE/Chen-2019-RNA.h5ad s3://nkalafut-celltrip/scGLUE/Chen-2019-ATAC.h5ad '\n",
    "        f's3://nkalafut-celltrip/scGLUE/Chen-2019-RNA.h5ad s3://nkalafut-celltrip/scGLUE/Chen-2019-ATAC.h5ad --input_modalities 0 --target_modalities 0 '\n",
    "        # f'../data/scglue/Chen-2019-RNA.h5ad ../data/scglue/Chen-2019-ATAC.h5ad --input_modalities 0 --target_modalities 0 '\n",
    "        f'--backed '\n",
    "        f'--dim 32 '\n",
    "        f'--train_split .8 '\n",
    "        f'--num_gpus 2 --num_learners 2 --num_runners 2 '\n",
    "        # f'--update_timesteps 1_000_000 '\n",
    "        # f'--max_timesteps 250_000_000 '\n",
    "        f'--update_timesteps 1_000_000 '\n",
    "        f'--max_timesteps 1_000_000_000 '\n",
    "        # f'--update_timesteps 100_000 '\n",
    "        # f'--max_timesteps 100_000_000 '\n",
    "        f'--dont_sync_across_nodes '\n",
    "        f'--logfile s3://nkalafut-celltrip/logs/{experiment_name}.log '\n",
    "        f'--flush_iterations 1 '\n",
    "        # f'--checkpoint s3://nkalafut-celltrip/checkpoints/doubled-allloss-0100.weights '\n",
    "        f'--checkpoint_dir s3://nkalafut-celltrip/checkpoints '\n",
    "        f'--checkpoint_name {experiment_name}')\n",
    "    config = parser.parse_args(command.split(' '))\n",
    "    print(f'python train.py {command}')\n",
    "    \n",
    "# Defaults\n",
    "if config.checkpoint_name is None:\n",
    "    config.checkpoint_name = f'RUN_{random.randint(0, 2**32):0>10}'\n",
    "    print(f'Run Name: {config.checkpoint_name}')\n",
    "# print(config)  # CLI\n"
   ]
  },
  {
   "cell_type": "markdown",
   "metadata": {},
   "source": [
    "# Deploy Remotely"
   ]
  },
  {
   "cell_type": "code",
   "execution_count": null,
   "metadata": {},
   "outputs": [],
   "source": [
    "# # Start Ray\n",
    "# ray.shutdown()\n",
    "# a = ray.init(\n",
    "#     # address='ray://100.85.187.118:10001',\n",
    "#     address='ray://localhost:10001',\n",
    "#     runtime_env={\n",
    "#         'py_modules': [celltrip],\n",
    "#         'pip': '../requirements.txt',\n",
    "#         'env_vars': {\n",
    "#             # **access_keys,\n",
    "#             'RAY_DEDUP_LOGS': '0'}},\n",
    "#         # 'NCCL_SOCKET_IFNAME': 'tailscale',  # lo,en,wls,docker,tailscale\n",
    "#     _system_config={'enable_worker_prestart': True})  # Doesn't really work for scripts\n"
   ]
  },
  {
   "cell_type": "code",
   "execution_count": null,
   "metadata": {},
   "outputs": [],
   "source": [
    "# @ray.remote(num_cpus=1e-4)\n",
    "# def train(config):\n",
    "#     import celltrip\n",
    "\n",
    "#     # Initialization\n",
    "#     dataloader_kwargs = {'mask': config.train_split}  # {'num_nodes': 20, 'pca_dim': 128}\n",
    "#     environment_kwargs = {\n",
    "#         'input_modalities': config.input_modalities,\n",
    "#         'target_modalities': config.target_modalities, 'dim': config.dim}\n",
    "#     initializers = celltrip.train.get_initializers(\n",
    "#         input_files=config.input_files, merge_files=config.merge_files,\n",
    "#         backed=config.backed, dataloader_kwargs=dataloader_kwargs,\n",
    "#         memory_kwargs={'device': 'cuda:0'},  # Skips casting, cutting time significantly for relatively small batch sizes\n",
    "#         environment_kwargs=environment_kwargs)\n",
    "\n",
    "#     # Stages\n",
    "#     stage_functions = []\n",
    "\n",
    "#     # Run function\n",
    "#     celltrip.train.train_celltrip(\n",
    "#         initializers=initializers,\n",
    "#         num_gpus=config.num_gpus, num_learners=config.num_learners,\n",
    "#         num_runners=config.num_runners, max_timesteps=config.max_timesteps,\n",
    "#         update_timesteps=config.update_timesteps, sync_across_nodes=not config.dont_sync_across_nodes,\n",
    "#         flush_iterations=config.flush_iterations,\n",
    "#         checkpoint_iterations=config.checkpoint_iterations, checkpoint_dir=config.checkpoint_dir,\n",
    "#         checkpoint=config.checkpoint, checkpoint_name=config.checkpoint_name,\n",
    "#         stage_functions=stage_functions, logfile=config.logfile)\n",
    "\n",
    "# ray.get(train.remote(config))\n"
   ]
  },
  {
   "cell_type": "markdown",
   "metadata": {},
   "source": [
    "# Run Locally"
   ]
  },
  {
   "cell_type": "code",
   "execution_count": null,
   "metadata": {},
   "outputs": [],
   "source": [
    "import numpy as np\n",
    "import torch\n",
    "torch.random.manual_seed(42)\n",
    "np.random.seed(42)\n",
    "\n",
    "# Initialize locally\n",
    "os.environ['AWS_PROFILE'] = 'waisman-admin'\n",
    "\n",
    "dataloader_kwargs = {'num_nodes': [2**9, 2**11], 'mask': config.train_split}  # {'num_nodes': [2**9, 2**11], 'pca_dim': 128}\n",
    "environment_kwargs = {\n",
    "    'input_modalities': config.input_modalities,\n",
    "    'target_modalities': config.target_modalities, 'dim': config.dim}\n",
    "env_init, policy_init, memory_init = celltrip.train.get_initializers(\n",
    "    input_files=config.input_files, merge_files=config.merge_files,\n",
    "    backed=config.backed, dataloader_kwargs=dataloader_kwargs,\n",
    "    policy_kwargs={'minibatch_size': 10_000},\n",
    "    # memory_kwargs={'device': 'cuda:0'},  # Skips casting, cutting time significantly for relatively small batch sizes\n",
    "    environment_kwargs=environment_kwargs)\n",
    "# del env\n",
    "\n",
    "# Environment\n",
    "# os.environ['CUDA_LAUNCH_BLOCKING']='1'\n",
    "try: env\n",
    "except: env = env_init().to('cuda')\n",
    "\n",
    "# Policy\n",
    "policy = policy_init(env).to('cuda')\n",
    "\n",
    "# Memory\n",
    "memory = memory_init(policy)\n"
   ]
  },
  {
   "cell_type": "code",
   "execution_count": null,
   "metadata": {},
   "outputs": [],
   "source": [
    "# # Forward\n",
    "# import line_profiler\n",
    "# memory.mark_sampled()\n",
    "# memory.cleanup()\n",
    "# prof = line_profiler.LineProfiler(\n",
    "#     celltrip.train.simulate_until_completion,\n",
    "#     celltrip.policy.PPO.forward,\n",
    "#     celltrip.policy.EntitySelfAttentionLite.forward,\n",
    "#     celltrip.policy.ResidualAttention.forward,\n",
    "#     celltrip.environment.EnvironmentBase.step)\n",
    "# ret = prof.runcall(celltrip.train.simulate_until_completion, env, policy, memory, max_memories=config.update_timesteps, reset_on_finish=True)\n",
    "# print('ROLLOUT: ' + f'total: {ret[2]:.3f}, ' + ', '.join([f'{k}: {v:.3f}' for k, v in ret[3].items()]))\n",
    "# # memory.feed_new(policy.reward_standardization)\n",
    "# memory.compute_advantages()  # moving_standardization=policy.reward_standardization\n",
    "# prof.print_stats(output_unit=1)\n"
   ]
  },
  {
   "cell_type": "code",
   "execution_count": null,
   "metadata": {},
   "outputs": [],
   "source": [
    "# idx = np.sort(np.random.choice(len(memory), 10_000, replace=False))\n",
    "# a = memory[idx]\n",
    "\n",
    "# list_num = idx // a['states'][1].shape[1]\n",
    "# in_list_num = np.mod(idx, a['states'][1].shape[1])\n",
    "# check_idx = 2\n",
    "\n",
    "# a['states'][0]\n",
    "# memory.storage['states'][list_num[check_idx]][in_list_num[check_idx]]\n",
    "\n",
    "# a['states'][1]\n",
    "# memory.storage['states'][list_num[check_idx]]\n",
    "\n",
    "# a['advantages'][check_idx]\n",
    "# memory.storage['advantages'][list_num[check_idx]][in_list_num[check_idx]]\n",
    "\n",
    "# a['states'][2]"
   ]
  },
  {
   "cell_type": "code",
   "execution_count": null,
   "metadata": {},
   "outputs": [],
   "source": [
    "# # Memory pull\n",
    "# memory[0]\n",
    "# import line_profiler\n",
    "# prof = line_profiler.LineProfiler(\n",
    "#     celltrip.memory.AdvancedMemoryBuffer.fast_sample)\n",
    "# ret = prof.runcall(memory.__getitem__, np.random.choice(len(memory), 10_000, replace=False))\n",
    "# memory.compute_advantages()  # moving_standardization=policy.reward_standardizatio\n",
    "# prof.print_stats(output_unit=1)\n"
   ]
  },
  {
   "cell_type": "code",
   "execution_count": null,
   "metadata": {},
   "outputs": [],
   "source": [
    "# # Updates\n",
    "# import line_profiler\n",
    "# prof = line_profiler.LineProfiler(\n",
    "#     # memory.fast_sample, policy.actor_critic.forward,\n",
    "#     celltrip.policy.ResidualAttentionBlock.forward,\n",
    "#     policy.calculate_losses, policy.update,\n",
    "#     celltrip.memory.AdvancedMemoryBuffer.__getitem__)\n",
    "# ret = prof.runcall(policy.update, memory, verbose=True)\n",
    "# print('UPDATE: ' + ', '.join([f'{k}: {v:.3f}' for ret_dict in ret[1:] for k, v in ret_dict.items()]))\n",
    "# prof.print_stats(output_unit=1)\n"
   ]
  },
  {
   "cell_type": "code",
   "execution_count": null,
   "metadata": {},
   "outputs": [],
   "source": [
    "for _ in range(int(config.max_timesteps / config.update_timesteps)):\n",
    "    # Forward\n",
    "    memory.mark_sampled()\n",
    "    memory.cleanup()\n",
    "    ret = celltrip.train.simulate_until_completion(\n",
    "        env, policy, memory,\n",
    "        max_memories=config.update_timesteps,\n",
    "        # max_timesteps=100,\n",
    "        reset_on_finish=True)\n",
    "    print('ROLLOUT: ' + f'iterations: {ret[0]: 5.0f}, ' + f'total: {ret[2]: 5.3f}, ' + ', '.join([f'{k}: {v: 5.3f}' for k, v in ret[3].items()]))\n",
    "    memory.compute_advantages()\n",
    "\n",
    "    # Update\n",
    "    # NOTE: Training often only improves when PopArt and actual distribution match\n",
    "    ret = policy.update(memory, verbose=False)\n",
    "    print('UPDATE: ' + ', '.join([f'{k}: {v: 5.3f}' for ret_dict in ret[1:] for k, v in ret_dict.items()]))\n"
   ]
  },
  {
   "cell_type": "code",
   "execution_count": null,
   "metadata": {},
   "outputs": [],
   "source": [
    "# TODO: Add evaluation to train.py"
   ]
  },
  {
   "cell_type": "code",
   "execution_count": null,
   "metadata": {},
   "outputs": [],
   "source": [
    "# idx = np.random.choice(100_000, 20)\n",
    "# a = memory.fast_sample(chosen=idx, flatten=False)\n",
    "# b = memory.fast_sample(chosen=idx, flatten=True)"
   ]
  },
  {
   "cell_type": "code",
   "execution_count": null,
   "metadata": {},
   "outputs": [],
   "source": [
    "# env.max_timesteps = 1_000\n",
    "env.reset()\n",
    "memory = memory_init(policy)\n",
    "ret = celltrip.train.simulate_until_completion(env, policy, memory, store_states=True)\n",
    "steady_states = ret[-1].cpu()\n",
    "ret\n"
   ]
  },
  {
   "cell_type": "code",
   "execution_count": null,
   "metadata": {},
   "outputs": [],
   "source": [
    "env.get_distance_match().mean()\n"
   ]
  },
  {
   "cell_type": "code",
   "execution_count": null,
   "metadata": {},
   "outputs": [],
   "source": [
    "steady_states[-1, :, :env.dim]"
   ]
  },
  {
   "cell_type": "code",
   "execution_count": null,
   "metadata": {},
   "outputs": [],
   "source": [
    "steady_states[-1, :, env.dim:]\n"
   ]
  },
  {
   "cell_type": "code",
   "execution_count": null,
   "metadata": {},
   "outputs": [],
   "source": [
    "np.linalg.norm(memory.storage['actions'][-1]-1, axis=-1)\n"
   ]
  },
  {
   "cell_type": "code",
   "execution_count": null,
   "metadata": {},
   "outputs": [],
   "source": [
    "import matplotlib.pyplot as plt\n",
    "import seaborn as sns\n",
    "import umap\n",
    "\n",
    "# Get data and types\n",
    "# raw = env.dataloader.adatas[0][env.keys].X\n",
    "raw = steady_states[-1, :, :env.dim]\n",
    "reducer = umap.UMAP(n_neighbors=100)\n",
    "\n",
    "# Transform\n",
    "transformed = reducer.fit_transform(raw)\n",
    "# transformed = raw[:, :2]\n",
    "# transformed = raw[:, 1:3]\n",
    "# types = env.dataloader.adatas[0].obs.loc[env.keys, 'layer'].to_numpy()\n",
    "types = env.dataloader.adatas[0].obs.loc[env.keys, 'cell_type'].to_numpy()\n",
    "\n",
    "# Plot\n",
    "fig, ax = plt.subplots(figsize=(4, 4))\n",
    "for t in np.unique(types):\n",
    "    ax.scatter(*transformed[types==t].T, s=2)\n",
    "sns.despine(left=True, bottom=True, ax=ax)\n",
    "# ax.set_xticks([])\n",
    "# ax.set_yticks([])\n",
    "# ax.add_patch(plt.Circle((0, 0), env.pos_bound, facecolor='none', edgecolor='black'))\n",
    "fig.show()\n"
   ]
  },
  {
   "cell_type": "code",
   "execution_count": null,
   "metadata": {},
   "outputs": [],
   "source": [
    "modalities = env.get_modalities()\n"
   ]
  },
  {
   "cell_type": "code",
   "execution_count": null,
   "metadata": {},
   "outputs": [],
   "source": [
    "import matplotlib.pyplot as plt\n",
    "import seaborn as sns\n",
    "import umap\n",
    "\n",
    "# Get data and types\n",
    "# raw = env.dataloader.adatas[0][env.keys].X\n",
    "raw = modalities[1].cpu()\n",
    "reducer = umap.UMAP()\n",
    "\n",
    "# Transform\n",
    "transformed = reducer.fit_transform(raw)\n",
    "types = env.dataloader.adatas[0].obs.loc[env.keys, 'cell_type'].to_numpy()\n",
    "\n",
    "# Plot\n",
    "fig, ax = plt.subplots(figsize=(4, 4))\n",
    "for t in np.unique(types):\n",
    "    ax.scatter(*transformed[types==t].T, s=2)\n",
    "sns.despine(left=True, bottom=True, ax=ax)\n",
    "fig.show()\n"
   ]
  }
 ],
 "metadata": {
  "kernelspec": {
   "display_name": "ct",
   "language": "python",
   "name": "python3"
  },
  "language_info": {
   "codemirror_mode": {
    "name": "ipython",
    "version": 3
   },
   "file_extension": ".py",
   "mimetype": "text/x-python",
   "name": "python",
   "nbconvert_exporter": "python",
   "pygments_lexer": "ipython3",
   "version": "3.10.16"
  }
 },
 "nbformat": 4,
 "nbformat_minor": 2
}
