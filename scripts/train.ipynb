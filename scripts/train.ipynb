{
 "cells": [
  {
   "cell_type": "code",
   "execution_count": null,
   "metadata": {},
   "outputs": [],
   "source": [
    "# %load_ext autoreload\n",
    "# %autoreload 2\n"
   ]
  },
  {
   "cell_type": "code",
   "execution_count": 2,
   "metadata": {},
   "outputs": [],
   "source": [
    "import time\n",
    "\n",
    "import ray\n",
    "\n",
    "import celltrip\n"
   ]
  },
  {
   "cell_type": "code",
   "execution_count": null,
   "metadata": {},
   "outputs": [],
   "source": [
    "ray.shutdown()\n",
    "ray.init(\n",
    "    address='ray://127.0.0.1:10001',\n",
    "    runtime_env={\n",
    "        'env_vars': {\n",
    "            'RAY_DEDUP_LOGS': '0',\n",
    "            # Irregular node fixes\n",
    "            # NOTE: Important, NCCL will timeout if network device is non-standard\n",
    "            # 'CUDA_LAUNCH_BLOCKING': '1',  # Slow, only for compatibility with X windows\n",
    "            # 'NCCL_SOCKET_IFNAME': 'tailscale',  # lo,en,wls,docker,tailscale\n",
    "            # 'NCCL_IB_DISABLE': '1',\n",
    "            # 'NCCL_CUMEM_ENABLE': '0',\n",
    "            # 'NCCL_DEBUG': 'INFO',\n",
    "        }\n",
    "    }\n",
    ")\n"
   ]
  },
  {
   "cell_type": "code",
   "execution_count": null,
   "metadata": {},
   "outputs": [],
   "source": [
    "def env_init(parent_dir=False):\n",
    "    # Create dataloader\n",
    "    fnames = ['./data/MERFISH/expression.h5ad', './data/MERFISH/spatial.h5ad']\n",
    "    if parent_dir: fnames = ['.' + f for f in fnames]\n",
    "    partition_cols = None  # 'layer'\n",
    "    adatas = celltrip.utility.processing.read_adatas(*fnames, on_disk=False)\n",
    "    celltrip.utility.processing.test_adatas(*adatas, partition_cols=partition_cols)\n",
    "    dataloader = celltrip.utility.processing.PreprocessFromAnnData(\n",
    "        *adatas, partition_cols=partition_cols,  num_nodes=200,\n",
    "        pca_dim=128, seed=42)\n",
    "    # modalities, adata_obs, adata_vars = dataloader.sample()\n",
    "    # Return env\n",
    "    return celltrip.environment.EnvironmentBase(\n",
    "        dataloader, dim=3, penalty_bound=1)\n",
    "\n",
    "# Default 25Gb Forward, 14Gb Update, at max capacity\n",
    "policy_init = lambda env: celltrip.policy.PPO(\n",
    "    2*env.dim, env.dataloader.modal_dims, env.dim)  # update_iterations=2, minibatch_size=3e3,\n",
    "\n",
    "memory_init = lambda policy: celltrip.memory.AdvancedMemoryBuffer(\n",
    "    sum(policy.modal_dims), split_args=policy.split_args)  # prune=100\n",
    "\n",
    "initializers = (env_init, policy_init, memory_init)\n",
    "\n",
    "stage_functions = [\n",
    "    lambda w: w.env.set_rewards(penalty_velocity=1, penalty_action=1),\n",
    "    lambda w: w.env.set_rewards(reward_origin=1),\n",
    "    lambda w: w.env.set_rewards(reward_origin=0, reward_distance=1),\n",
    "]\n"
   ]
  },
  {
   "cell_type": "code",
   "execution_count": null,
   "metadata": {},
   "outputs": [],
   "source": [
    "start = time.perf_counter()\n",
    "# rollout_kwargs={'dummy': True}, update_kwargs={'update_iterations': 5}, sync_across_nodes=False\n",
    "workers = ray.get(celltrip.train.train_celltrip.remote(\n",
    "    initializers=initializers,\n",
    "    num_gpus=2,\n",
    "    num_learners=2,\n",
    "    num_runners=4,\n",
    "    stage_functions=stage_functions))\n",
    "print(time.perf_counter() - start)\n"
   ]
  },
  {
   "cell_type": "code",
   "execution_count": null,
   "metadata": {},
   "outputs": [
    {
     "name": "stderr",
     "output_type": "stream",
     "text": [
      "/home/thema/repos/inept/celltrip/utility/processing.py:104: RuntimeWarning: Modality 1 too small for PCA (2 features), skipping\n",
      "  warnings.warn(\n"
     ]
    },
    {
     "data": {
      "text/plain": [
       "200000"
      ]
     },
     "execution_count": 11,
     "metadata": {},
     "output_type": "execute_result"
    }
   ],
   "source": [
    "# env = env_init(parent_dir=True).to('cuda')\n",
    "# policy = policy_init(env).to('cuda')\n",
    "# memory = memory_init(policy)\n",
    "# celltrip.train.simulate_until_completion(env, policy, memory)\n",
    "# memory.propagate_rewards()\n",
    "# memory.normalize_rewards()\n",
    "# # memory.fast_sample(10_000, shuffle=False)\n",
    "# len(memory)\n"
   ]
  },
  {
   "cell_type": "code",
   "execution_count": null,
   "metadata": {},
   "outputs": [],
   "source": [
    "# memory.mark_sampled()\n",
    "# env.reset()\n",
    "# celltrip.train.simulate_until_completion(env, policy, memory)\n",
    "# memory.propagate_rewards()\n",
    "# memory.adjust_rewards()\n"
   ]
  }
 ],
 "metadata": {
  "kernelspec": {
   "display_name": "ct",
   "language": "python",
   "name": "python3"
  },
  "language_info": {
   "codemirror_mode": {
    "name": "ipython",
    "version": 3
   },
   "file_extension": ".py",
   "mimetype": "text/x-python",
   "name": "python",
   "nbconvert_exporter": "python",
   "pygments_lexer": "ipython3",
   "version": "3.10.16"
  }
 },
 "nbformat": 4,
 "nbformat_minor": 2
}
