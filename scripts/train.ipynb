{
 "cells": [
  {
   "cell_type": "code",
   "execution_count": 1,
   "metadata": {},
   "outputs": [],
   "source": [
    "%load_ext autoreload\n",
    "%autoreload 2\n"
   ]
  },
  {
   "cell_type": "markdown",
   "metadata": {},
   "source": [
    "- Sometimes model will be chaotic if it finds how to early-finish early on, if so, it waits until action_std is lower to implement\n",
    "- Train/test\n",
    "- Save preprocessing\n",
    "- Early stopping for `train_celltrip` based on action_std and/or KL\n",
    "- Maybe [this](https://arxiv.org/abs/2102.09430) but probably not\n",
    "- [EFS on clusters maybe](https://docs.ray.io/en/latest/cluster/vms/user-guides/launching-clusters/aws.html#start-ray-with-the-ray-cluster-launcher)"
   ]
  },
  {
   "cell_type": "code",
   "execution_count": 2,
   "metadata": {},
   "outputs": [
    {
     "name": "stdout",
     "output_type": "stream",
     "text": [
      "Cython is not active\n"
     ]
    }
   ],
   "source": [
    "import argparse\n",
    "import os\n",
    "import random\n",
    "\n",
    "import ray\n",
    "\n",
    "import celltrip\n",
    "\n",
    "# Detect Cython\n",
    "CYTHON_ACTIVE = os.path.splitext(celltrip.utility.general.__file__)[1] in ('.c', '.so')\n",
    "print(f'Cython is{\" not\" if not CYTHON_ACTIVE else \"\"} active')\n"
   ]
  },
  {
   "cell_type": "code",
   "execution_count": 3,
   "metadata": {},
   "outputs": [
    {
     "name": "stdout",
     "output_type": "stream",
     "text": [
      "python train.py s3://nkalafut-celltrip/MERFISH/expression.h5ad s3://nkalafut-celltrip/MERFISH/spatial.h5ad --backed --target_modalities 1 --num_gpus 3 --num_learners 2 --num_runners 9 --steps 9000 --max_updates 50 --dont_sync_across_nodes --logfile s3://nkalafut-celltrip/logs/3gpu-new.log --checkpoint_dir s3://nkalafut-celltrip/checkpoints --checkpoint_name 3gpu-new\n"
     ]
    }
   ],
   "source": [
    "# Arguments\n",
    "# NOTE: It is not recommended to use s3 with credentials unless the creds are permanent, the bucket is public, or this is run on AWS\n",
    "parser = argparse.ArgumentParser(description='Train CellTRIP model', formatter_class=argparse.ArgumentDefaultsHelpFormatter)\n",
    "\n",
    "# Reading\n",
    "group = parser.add_argument_group('Input')\n",
    "group.add_argument('input_files', type=str, nargs='*', help='h5ad files to be used for input')\n",
    "group.add_argument('--merge_files', type=str, action='append', nargs='+', help='h5ad files to merge as input')\n",
    "group.add_argument('--partition_cols', type=str, action='append', nargs='+', help='Columns for data partitioning, found in `adata.obs` DataFrame')\n",
    "group.add_argument('--backed', action='store_true', help='Read data directly from disk or s3, saving memory at the cost of time')\n",
    "group.add_argument('--input_modalities', type=int, nargs='+', help='Input modalities to give to CellTRIP')\n",
    "group.add_argument('--target_modalities', type=int, nargs='+', help='Target modalities to emulate, dictates environment reward')\n",
    "# Computation\n",
    "group = parser.add_argument_group('Computation')\n",
    "group.add_argument('--num_gpus', type=int, default=1, help='Number of GPUs to use during computation')\n",
    "group.add_argument('--num_learners', type=int, default=1, help='Number of learners used in backward computation, cannot exceed GPUs')\n",
    "group.add_argument('--num_runners', type=int, default=1, help='Number of workers for environment simulation')\n",
    "# Training\n",
    "group = parser.add_argument_group('Training')\n",
    "group.add_argument('--steps', type=int, default=int(2.5e3), help='Number of steps recorded before each update')\n",
    "group.add_argument('--max_updates', type=int, default=200, help='Maximum number of policy updates to compute before exiting')\n",
    "group.add_argument('--dont_sync_across_nodes', action='store_true', help='Avoid memory sync across nodes, saving overhead time at the cost of stability')\n",
    "# File saves\n",
    "group = parser.add_argument_group('Logging')\n",
    "group.add_argument('--logfile', type=str, default='cli', help='Location for log file, can be `cli`, `<local_file>`, or `<s3 location>`')\n",
    "group.add_argument('--flush_iterations', type=int, help='Number of iterations to wait before flushing logs')\n",
    "group.add_argument('--checkpoint', type=str, help='Checkpoint to use for initializing model')\n",
    "group.add_argument('--checkpoint_iterations', type=int, default=20, help='Number of iterations to wait before recording checkpoints')\n",
    "group.add_argument('--checkpoint_dir', type=str, default='./checkpoints', help='Directory for checkpoints')\n",
    "group.add_argument('--checkpoint_name', type=str, help='Run name, for checkpointing')\n",
    "\n",
    "# Notebook defaults and script handling\n",
    "if not celltrip.utility.notebook.is_notebook():\n",
    "    # ray job submit -- python train.py...\n",
    "    config = parser.parse_args()\n",
    "else:\n",
    "    experiment_name = '3gpu-new'\n",
    "    command = (\n",
    "        f's3://nkalafut-celltrip/MERFISH/expression.h5ad s3://nkalafut-celltrip/MERFISH/spatial.h5ad '\n",
    "        # f'/home/nck/repos/INEPT/data/MERFISH/expression.h5ad /home/nck/repos/INEPT/data/MERFISH/spatial.h5ad '\n",
    "        f'--backed '\n",
    "        f'--target_modalities 1 '\n",
    "        f'--num_gpus 3 --num_learners 2 --num_runners 9 '\n",
    "        f'--steps 9000 '\n",
    "        f'--max_updates 50 '\n",
    "        f'--dont_sync_across_nodes '\n",
    "        f'--logfile s3://nkalafut-celltrip/logs/{experiment_name}.log '\n",
    "        # f'--checkpoint s3://nkalafut-celltrip/checkpoints/3gpu-1k-0100.weights '\n",
    "        f'--checkpoint_dir s3://nkalafut-celltrip/checkpoints '\n",
    "        f'--checkpoint_name {experiment_name}')\n",
    "    config = parser.parse_args(command.split(' '))\n",
    "    print(f'python train.py {command}')\n",
    "    \n",
    "# Defaults\n",
    "if config.checkpoint_name is None:\n",
    "    config.checkpoint_name = f'RUN_{random.randint(0, 2**32):0>10}'\n",
    "    print(f'Run Name: {config.checkpoint_name}')\n",
    "# print(config)  # CLI\n"
   ]
  },
  {
   "cell_type": "code",
   "execution_count": 4,
   "metadata": {},
   "outputs": [],
   "source": [
    "# # Start Ray\n",
    "# ray.shutdown()\n",
    "# a = ray.init(\n",
    "#     # address='ray://100.85.187.118:10001',\n",
    "#     address='ray://localhost:10001',\n",
    "#     runtime_env={\n",
    "#         'py_modules': [celltrip],\n",
    "#         'pip': '../requirements.txt',\n",
    "#         'env_vars': {\n",
    "#             # **access_keys,\n",
    "#             'RAY_DEDUP_LOGS': '0'}},\n",
    "#         # 'NCCL_SOCKET_IFNAME': 'tailscale',  # lo,en,wls,docker,tailscale\n",
    "#     _system_config={'enable_worker_prestart': True})  # Doesn't really work for scripts\n"
   ]
  },
  {
   "cell_type": "code",
   "execution_count": 5,
   "metadata": {},
   "outputs": [],
   "source": [
    "# @ray.remote(num_cpus=1e-4)\n",
    "# def train(config):\n",
    "#     import celltrip\n",
    "\n",
    "#     # Initialization\n",
    "#     dataloader_kwargs = {'num_nodes': 20, 'pca_dim': 128}\n",
    "#     environment_kwargs = {\n",
    "#         'input_modalities': config.input_modalities,\n",
    "#         'target_modalities': config.target_modalities, 'dim': 3}\n",
    "#     initializers = celltrip.train.get_initializers(\n",
    "#         input_files=config.input_files, merge_files=config.merge_files,\n",
    "#         backed=config.backed, dataloader_kwargs=dataloader_kwargs,\n",
    "#         environment_kwargs=environment_kwargs)\n",
    "\n",
    "#     stage_functions = [\n",
    "#         # lambda w: w.env.set_rewards(penalty_velocity=1, penalty_action=1),\n",
    "#         # lambda w: w.env.set_rewards(reward_origin=1),\n",
    "#         # lambda w: w.env.set_rewards(reward_origin=0, reward_distance=1),\n",
    "#         lambda w: w.env.dataloader.preprocessing.set_num_nodes(500),\n",
    "#         lambda w: w.env.dataloader.preprocessing.set_num_nodes(1000),\n",
    "#         lambda w: w.env.dataloader.preprocessing.set_num_nodes(2000),\n",
    "#         lambda w: w.env.dataloader.preprocessing.set_num_nodes(3000),\n",
    "#     ]\n",
    "\n",
    "#     # Run function\n",
    "#     celltrip.train.train_celltrip(\n",
    "#         initializers=initializers,\n",
    "#         num_gpus=config.num_gpus, num_learners=config.num_learners,\n",
    "#         num_runners=config.num_runners, max_updates=config.max_updates,\n",
    "#         sync_across_nodes=not config.dont_sync_across_nodes,\n",
    "#         checkpoint_iterations=config.checkpoint_iterations, checkpoint_dir=config.checkpoint_dir,\n",
    "#         checkpoint=config.checkpoint, checkpoint_name=config.checkpoint_name,\n",
    "#         stage_functions=stage_functions, logfile=config.logfile)\n",
    "\n",
    "# ray.get(train.remote(config))\n"
   ]
  },
  {
   "cell_type": "code",
   "execution_count": 6,
   "metadata": {},
   "outputs": [],
   "source": [
    "# # Get AWS keys\n",
    "# import boto3\n",
    "# os.environ['AWS_PROFILE'] = 'waisman-admin'\n",
    "# session = boto3.Session()\n",
    "# creds = session.get_credentials()\n",
    "# access_keys = {\n",
    "#     'AWS_ACCESS_KEY_ID': creds.access_key,\n",
    "#     'AWS_SECRET_ACCESS_KEY': creds.secret_key,\n",
    "#     'AWS_DEFAULT_REGION': 'us-east-2'}\n",
    "\n",
    "# # Check s3\n",
    "# import os\n",
    "# import s3fs\n",
    "# os.environ['AWS_PROFILE'] = 'waisman-admin'\n",
    "# s3 = s3fs.S3FileSystem(skip_instance_cache=True)\n",
    "# s3.ls('s3://nkalafut-celltrip')\n"
   ]
  },
  {
   "cell_type": "code",
   "execution_count": 147,
   "metadata": {},
   "outputs": [],
   "source": [
    "import numpy as np\n",
    "import torch\n",
    "torch.random.manual_seed(42)\n",
    "np.random.seed(42)\n",
    "\n",
    "# Initialize locally\n",
    "os.environ['AWS_PROFILE'] = 'waisman-admin'\n",
    "dataloader_kwargs = {'num_nodes': 2000, 'pca_dim': 128}\n",
    "environment_kwargs = {\n",
    "    'input_modalities': config.input_modalities,\n",
    "    'target_modalities': config.target_modalities, 'dim': 3}\n",
    "env_init, policy_init, memory_init = celltrip.train.get_initializers(\n",
    "    input_files=config.input_files, merge_files=config.merge_files,\n",
    "    backed=config.backed, policy_kwargs={'minibatch_size': 2_000},\n",
    "    dataloader_kwargs=dataloader_kwargs,\n",
    "    environment_kwargs=environment_kwargs)\n",
    "# env = env_init().to('cuda')\n",
    "# policy = policy_init(env).to('cuda')\n",
    "# memory = memory_init(policy)\n",
    "# celltrip.train.simulate_until_completion(env, policy, memory)\n",
    "# memory.compute_advantages()\n",
    "# policy.update(memory)\n"
   ]
  },
  {
   "cell_type": "code",
   "execution_count": 148,
   "metadata": {},
   "outputs": [],
   "source": [
    "# os.environ['CUDA_LAUNCH_BLOCKING']='1'\n",
    "try: env\n",
    "except: env = env_init().to('cuda')\n",
    "# policy.split_args['max_nodes'] = 2000\n",
    "# policy.forward_batch_size = 2000\n"
   ]
  },
  {
   "cell_type": "code",
   "execution_count": 149,
   "metadata": {},
   "outputs": [],
   "source": [
    "policy = policy_init(env).to('cuda')\n"
   ]
  },
  {
   "cell_type": "code",
   "execution_count": 150,
   "metadata": {},
   "outputs": [],
   "source": [
    "memory = memory_init(policy)"
   ]
  },
  {
   "cell_type": "code",
   "execution_count": 151,
   "metadata": {},
   "outputs": [
    {
     "name": "stdout",
     "output_type": "stream",
     "text": [
      "distance: 0.000, origin: 0.000, bound: -11830.500, velocity: 0.000, action: -529.502\n"
     ]
    }
   ],
   "source": [
    "# Forward\n",
    "import line_profiler\n",
    "memory.mark_sampled()\n",
    "prof = line_profiler.LineProfiler(\n",
    "    celltrip.train.simulate_until_completion,\n",
    "    celltrip.policy.PPO.forward, celltrip.policy.EntitySelfAttentionLite.forward, celltrip.policy.ResidualAttentionBlock.forward,\n",
    "    celltrip.environment.EnvironmentBase.step)\n",
    "while memory.get_new_steps() < 500:\n",
    "    env.reset()\n",
    "    ret = prof.runcall(celltrip.train.simulate_until_completion, env, policy, memory)\n",
    "    print(', '.join([f'{k}: {v:.3f}' for k, v in ret[2].items()]))\n",
    "memory.compute_advantages()\n",
    "# prof.print_stats(output_unit=1)\n"
   ]
  },
  {
   "cell_type": "code",
   "execution_count": null,
   "metadata": {},
   "outputs": [],
   "source": [
    "# Pull from memory\n",
    "import line_profiler\n",
    "prof = line_profiler.LineProfiler(\n",
    "    celltrip.memory.AdvancedMemoryBuffer.fast_sample,\n",
    "    celltrip.memory.AdvancedMemoryBuffer._concat_states)\n",
    "ret = prof.runcall(memory.fast_sample, 512, shuffle=False, max_samples_per_state=np.inf)\n",
    "# prof.print_stats(output_unit=1)"
   ]
  },
  {
   "cell_type": "code",
   "execution_count": 152,
   "metadata": {},
   "outputs": [
    {
     "name": "stderr",
     "output_type": "stream",
     "text": [
      "/home/thema/repos/inept/celltrip/policy.py:1346: UserWarning: No group \"learners\" found.\n",
      "  warnings.warn(f'No group \"{group}\" found.')\n"
     ]
    },
    {
     "name": "stdout",
     "output_type": "stream",
     "text": [
      "Iteration 01 - Total (3.438) + PPO (-0.000) + critic (6.875) + entropy (-0.067) + KL (0.000) :: Log STD (0.000) :: Advantage STD (1.724)\n",
      "Iteration 05 - Total (1.065) + PPO (0.000) + critic (2.128) + entropy (-0.067) + KL (0.000) :: Log STD (0.001) :: Advantage STD (4.493)\n",
      "Iteration 10 - Total (0.738) + PPO (-0.000) + critic (1.476) + entropy (-0.067) + KL (0.000) :: Log STD (0.002) :: Advantage STD (6.842)\n",
      "Iteration 20 - Total (0.082) + PPO (0.000) + critic (0.164) + entropy (-0.067) + KL (0.000) :: Log STD (0.003) :: Advantage STD (11.539)\n",
      "Iteration 30 - Total (0.173) + PPO (-0.000) + critic (0.347) + entropy (-0.067) + KL (0.000) :: Log STD (0.003) :: Advantage STD (18.471)\n",
      "Iteration 40 - Total (0.063) + PPO (0.000) + critic (0.126) + entropy (-0.067) + KL (0.000) :: Log STD (0.004) :: Advantage STD (22.667)\n",
      "Iteration 50 - Total (0.036) + PPO (0.000) + critic (0.071) + entropy (-0.067) + KL (0.000) :: Log STD (0.005) :: Advantage STD (27.673)\n",
      "Iteration 60 - Total (0.068) + PPO (-0.001) + critic (0.137) + entropy (-0.067) + KL (0.000) :: Log STD (0.005) :: Advantage STD (33.862)\n",
      "Iteration 70 - Total (0.018) + PPO (0.000) + critic (0.035) + entropy (-0.067) + KL (0.000) :: Log STD (0.005) :: Advantage STD (39.655)\n",
      "Iteration 80 - Total (0.037) + PPO (0.000) + critic (0.074) + entropy (-0.067) + KL (0.000) :: Log STD (0.005) :: Advantage STD (45.198)\n",
      "Total: 0.263, PPO: -0.000, critic: 0.527, entropy: -0.067, KL: 0.000\n"
     ]
    }
   ],
   "source": [
    "# Update\n",
    "import line_profiler\n",
    "import numpy as np\n",
    "prof = line_profiler.LineProfiler(policy.update, memory.fast_sample, celltrip.utility.processing.split_state)\n",
    "ret = prof.runcall(policy.update, memory, verbose=True)\n",
    "print(', '.join([f'{k}: {v:.3f}' for k, v in ret[1].items()]))\n",
    "# prof.print_stats(output_unit=1)\n"
   ]
  },
  {
   "cell_type": "code",
   "execution_count": null,
   "metadata": {},
   "outputs": [
    {
     "name": "stdout",
     "output_type": "stream",
     "text": [
      "distance: 0.000, origin: 0.000, bound: -9877.500, velocity: 0.000, action: -525.941\n",
      "distance: 0.000, origin: 0.000, bound: -9904.500, velocity: 0.000, action: -525.150\n",
      "distance: 0.000, origin: 0.000, bound: -8975.000, velocity: 0.000, action: -522.411\n"
     ]
    }
   ],
   "source": [
    "while True:\n",
    "    # Forward\n",
    "    import line_profiler\n",
    "    memory.mark_sampled()\n",
    "    prof = line_profiler.LineProfiler(\n",
    "        celltrip.train.simulate_until_completion,\n",
    "        celltrip.policy.PPO.forward, celltrip.policy.EntitySelfAttentionLite.forward, celltrip.policy.ResidualAttention.forward,\n",
    "        celltrip.environment.EnvironmentBase.step)\n",
    "    while memory.get_new_steps() < 2_500:\n",
    "        env.reset()\n",
    "        ret = prof.runcall(celltrip.train.simulate_until_completion, env, policy, memory)\n",
    "        print(', '.join([f'{k}: {v:.3f}' for k, v in ret[2].items()]))\n",
    "    memory.compute_advantages()\n",
    "    # prof.print_stats(output_unit=1)\n",
    "\n",
    "    # Update\n",
    "    import line_profiler\n",
    "    prof = line_profiler.LineProfiler(policy.update, memory.fast_sample, celltrip.utility.processing.split_state)\n",
    "    ret = prof.runcall(policy.update, memory, verbose=False)\n",
    "    print(', '.join([f'{k}: {v:.3f}' for k, v in ret[1].items()]))\n",
    "    # prof.print_stats(output_unit=1)\n"
   ]
  }
 ],
 "metadata": {
  "kernelspec": {
   "display_name": "ct",
   "language": "python",
   "name": "python3"
  },
  "language_info": {
   "codemirror_mode": {
    "name": "ipython",
    "version": 3
   },
   "file_extension": ".py",
   "mimetype": "text/x-python",
   "name": "python",
   "nbconvert_exporter": "python",
   "pygments_lexer": "ipython3",
   "version": "3.10.16"
  }
 },
 "nbformat": 4,
 "nbformat_minor": 2
}
