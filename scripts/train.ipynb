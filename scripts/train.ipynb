{
 "cells": [
  {
   "cell_type": "code",
   "execution_count": 2,
   "metadata": {},
   "outputs": [],
   "source": [
    "%load_ext autoreload\n",
    "%autoreload 2\n"
   ]
  },
  {
   "cell_type": "markdown",
   "metadata": {},
   "source": [
    "- Save preprocessing\n",
    "- Early stopping for `train_celltrip` based on action_std and/or KL\n",
    "- Maybe [this](https://arxiv.org/abs/2102.09430) but probably not\n",
    "- [EFS on clusters maybe](https://docs.ray.io/en/latest/cluster/vms/user-guides/launching-clusters/aws.html#start-ray-with-the-ray-cluster-launcher)"
   ]
  },
  {
   "cell_type": "code",
   "execution_count": 3,
   "metadata": {},
   "outputs": [
    {
     "name": "stdout",
     "output_type": "stream",
     "text": [
      "Cython is not active\n"
     ]
    }
   ],
   "source": [
    "import argparse\n",
    "import os\n",
    "import random\n",
    "\n",
    "import ray\n",
    "\n",
    "import celltrip\n",
    "\n",
    "# Detect Cython\n",
    "CYTHON_ACTIVE = os.path.splitext(celltrip.utility.general.__file__)[1] in ('.c', '.so')\n",
    "print(f'Cython is{\" not\" if not CYTHON_ACTIVE else \"\"} active')\n"
   ]
  },
  {
   "cell_type": "markdown",
   "metadata": {},
   "source": [
    "# Arguments"
   ]
  },
  {
   "cell_type": "code",
   "execution_count": 12,
   "metadata": {},
   "outputs": [
    {
     "name": "stdout",
     "output_type": "stream",
     "text": [
      "python train.py --merge_files s3://nkalafut-celltrip/Flysta3D/E14-16h_a_expression.h5ad s3://nkalafut-celltrip/Flysta3D/E16-18h_a_expression.h5ad s3://nkalafut-celltrip/Flysta3D/L1_a_expression.h5ad s3://nkalafut-celltrip/Flysta3D/L2_a_expression.h5ad s3://nkalafut-celltrip/Flysta3D/L3_b_expression.h5ad --merge_files s3://nkalafut-celltrip/Flysta3D/E14-16h_a_spatial.h5ad s3://nkalafut-celltrip/Flysta3D/E16-18h_a_spatial.h5ad s3://nkalafut-celltrip/Flysta3D/L1_a_spatial.h5ad s3://nkalafut-celltrip/Flysta3D/L2_a_spatial.h5ad s3://nkalafut-celltrip/Flysta3D/L3_b_spatial.h5ad --target_modalities 1 --partition_cols slice_ID --backed --dim 2 --train_split .8 --num_gpus 2 --num_learners 2 --num_runners 2 --update_timesteps 1_000_000 --max_timesteps 200_000_000 --dont_sync_across_nodes --logfile s3://nkalafut-celltrip/logs/flysta3d.log --flush_iterations 1 --checkpoint_iterations 25 --checkpoint_dir s3://nkalafut-celltrip/checkpoints --checkpoint_name flysta3d\n"
     ]
    }
   ],
   "source": [
    "# Arguments\n",
    "# NOTE: It is not recommended to use s3 with credentials unless the creds are permanent, the bucket is public, or this is run on AWS\n",
    "parser = argparse.ArgumentParser(description='Train CellTRIP model', formatter_class=argparse.ArgumentDefaultsHelpFormatter)\n",
    "\n",
    "# Reading\n",
    "group = parser.add_argument_group('Input')\n",
    "group.add_argument('input_files', type=str, nargs='*', help='h5ad files to be used for input')\n",
    "group.add_argument('--merge_files', type=str, action='append', nargs='+', help='h5ad files to merge as input')\n",
    "group.add_argument('--partition_cols', type=str, action='append', nargs='+', help='Columns for data partitioning, found in `adata.obs` DataFrame')\n",
    "group.add_argument('--backed', action='store_true', help='Read data directly from disk or s3, saving memory at the cost of time')\n",
    "group.add_argument('--input_modalities', type=int, nargs='+', help='Input modalities to give to CellTRIP')\n",
    "group.add_argument('--target_modalities', type=int, nargs='+', help='Target modalities to emulate, dictates environment reward')\n",
    "# Algorithm\n",
    "group = parser.add_argument_group('Algorithm')\n",
    "group.add_argument('--dim', type=int, default=16, help='Dimensions in the output latent space')\n",
    "group.add_argument('--train_split', type=float, default=1., help='Fraction of input data to use as training')\n",
    "# Computation\n",
    "group = parser.add_argument_group('Computation')\n",
    "group.add_argument('--num_gpus', type=int, default=1, help='Number of GPUs to use during computation')\n",
    "group.add_argument('--num_learners', type=int, default=1, help='Number of learners used in backward computation, cannot exceed GPUs')\n",
    "group.add_argument('--num_runners', type=int, default=1, help='Number of workers for environment simulation')\n",
    "# Training\n",
    "group = parser.add_argument_group('Training')\n",
    "group.add_argument('--update_timesteps', type=int, default=int(1e6), help='Number of timesteps recorded before each update')\n",
    "group.add_argument('--max_timesteps', type=int, default=int(2e9), help='Maximum number of timesteps to compute before exiting')\n",
    "group.add_argument('--dont_sync_across_nodes', action='store_true', help='Avoid memory sync across nodes, saving overhead time at the cost of stability')\n",
    "# File saves\n",
    "group = parser.add_argument_group('Logging')\n",
    "group.add_argument('--logfile', type=str, default='cli', help='Location for log file, can be `cli`, `<local_file>`, or `<s3 location>`')\n",
    "group.add_argument('--flush_iterations', default=25, type=int, help='Number of iterations to wait before flushing logs')\n",
    "group.add_argument('--checkpoint', type=str, help='Checkpoint to use for initializing model')\n",
    "group.add_argument('--checkpoint_iterations', type=int, default=100, help='Number of updates to wait before recording checkpoints')\n",
    "group.add_argument('--checkpoint_dir', type=str, default='./checkpoints', help='Directory for checkpoints')\n",
    "group.add_argument('--checkpoint_name', type=str, help='Run name, for checkpointing')\n",
    "\n",
    "# Notebook defaults and script handling\n",
    "if not celltrip.utility.notebook.is_notebook():\n",
    "    # ray job submit -- python train.py...\n",
    "    config = parser.parse_args()\n",
    "else:\n",
    "    # experiment_name = 'scglue-both-new'\n",
    "    experiment_name = 'flysta3d'\n",
    "    command = (\n",
    "        # MERFISH\n",
    "        # f's3://nkalafut-celltrip/MERFISH/expression.h5ad s3://nkalafut-celltrip/MERFISH/spatial.h5ad --target_modalities 1 '\n",
    "        # scGLUE\n",
    "        # f's3://nkalafut-celltrip/scGLUE/Chen-2019-RNA.h5ad s3://nkalafut-celltrip/scGLUE/Chen-2019-ATAC.h5ad '\n",
    "        # f's3://nkalafut-celltrip/scGLUE/Chen-2019-RNA.h5ad s3://nkalafut-celltrip/scGLUE/Chen-2019-ATAC.h5ad --input_modalities 0 --target_modalities 0 '\n",
    "        # f'../data/scglue/Chen-2019-RNA.h5ad ../data/scglue/Chen-2019-ATAC.h5ad --input_modalities 0 --target_modalities 0 '\n",
    "        # Flysta3D\n",
    "        ' '.join([f'--merge_files ' + ' ' .join([f's3://nkalafut-celltrip/Flysta3D/{p}_{m}.h5ad' for p in ('E14-16h_a', 'E16-18h_a', 'L1_a', 'L2_a', 'L3_b')]) for m in ('expression', 'spatial')]) + ' '\n",
    "        + '--target_modalities 1 '\n",
    "        f'--partition_cols slice_ID '\n",
    "        # Tahoe-100M\n",
    "        # '--merge_files ' + ' '.join('[f's3://nkalafut-celltrip/Tahoe/plate{i}_filt_Vevo_Tahoe100M_WServicesFrom_ParseGigalab.h5ad' for i in range(1, 15)]) + ' '\n",
    "        # f'--partition_cols sample '\n",
    "        # scMultiSim\n",
    "        # f's3://nkalafut-celltrip/scMultiSim/expression.h5ad s3://nkalafut-celltrip/scMultiSim/peaks.h5ad '\n",
    "        # TemporalBrain\n",
    "        # f's3://nkalafut-celltrip/TemporalBrain/expression.h5ad s3://nkalafut-celltrip/TemporalBrain/peaks.h5ad '\n",
    "        # f'--partition_cols \"Donor ID\" '\n",
    "\n",
    "        f'--backed '\n",
    "        f'--dim 2 '\n",
    "        f'--train_split .8 '\n",
    "        f'--num_gpus 2 --num_learners 2 --num_runners 2 '\n",
    "        # f'--update_timesteps 1_000_000 '\n",
    "        # f'--max_timesteps 250_000_000 '\n",
    "        f'--update_timesteps 1_000_000 '\n",
    "        f'--max_timesteps 200_000_000 '\n",
    "        # f'--update_timesteps 100_000 '\n",
    "        # f'--max_timesteps 100_000_000 '\n",
    "        f'--dont_sync_across_nodes '\n",
    "        f'--logfile s3://nkalafut-celltrip/logs/{experiment_name}.log '\n",
    "        f'--flush_iterations 1 '\n",
    "        # f'--checkpoint s3://nkalafut-celltrip/checkpoints/merfish-new-0200.weights '\n",
    "        f'--checkpoint_iterations 25 '\n",
    "        f'--checkpoint_dir s3://nkalafut-celltrip/checkpoints '\n",
    "        f'--checkpoint_name {experiment_name}')\n",
    "    config = parser.parse_args(command.split(' '))\n",
    "    print(f'python train.py {command}')\n",
    "    \n",
    "# Defaults\n",
    "if config.checkpoint_name is None:\n",
    "    config.checkpoint_name = f'RUN_{random.randint(0, 2**32):0>10}'\n",
    "    print(f'Run Name: {config.checkpoint_name}')\n",
    "# print(config)  # CLI\n"
   ]
  },
  {
   "cell_type": "markdown",
   "metadata": {},
   "source": [
    "# Deploy Remotely"
   ]
  },
  {
   "cell_type": "code",
   "execution_count": 4,
   "metadata": {},
   "outputs": [],
   "source": [
    "# # Start Ray\n",
    "# ray.shutdown()\n",
    "# a = ray.init(\n",
    "#     # address='ray://100.85.187.118:10001',\n",
    "#     address='ray://localhost:10001',\n",
    "#     runtime_env={\n",
    "#         'py_modules': [celltrip],\n",
    "#         'pip': '../requirements.txt',\n",
    "#         'env_vars': {\n",
    "#             # **access_keys,\n",
    "#             'RAY_DEDUP_LOGS': '0'}},\n",
    "#         # 'NCCL_SOCKET_IFNAME': 'tailscale',  # lo,en,wls,docker,tailscale\n",
    "#     _system_config={'enable_worker_prestart': True})  # Doesn't really work for scripts\n"
   ]
  },
  {
   "cell_type": "code",
   "execution_count": 5,
   "metadata": {},
   "outputs": [],
   "source": [
    "# @ray.remote(num_cpus=1e-4)\n",
    "# def train(config):\n",
    "#     import celltrip\n",
    "\n",
    "#     # Initialization\n",
    "#     dataloader_kwargs = {'num_nodes': [2**9, 2**11], 'mask': config.train_split}  # {'num_nodes': 20, 'pca_dim': 128}\n",
    "#     environment_kwargs = {\n",
    "#         'input_modalities': config.input_modalities,\n",
    "#         'target_modalities': config.target_modalities, 'dim': config.dim}\n",
    "#     initializers = celltrip.train.get_initializers(\n",
    "#         input_files=config.input_files, merge_files=config.merge_files,\n",
    "#         backed=config.backed, dataloader_kwargs=dataloader_kwargs,\n",
    "#         memory_kwargs={'device': 'cuda:0'},  # Skips casting, cutting time significantly for relatively small batch sizes\n",
    "#         environment_kwargs=environment_kwargs)\n",
    "\n",
    "#     # Stages\n",
    "#     stage_functions = []\n",
    "\n",
    "#     # Run function\n",
    "#     celltrip.train.train_celltrip(\n",
    "#         initializers=initializers,\n",
    "#         num_gpus=config.num_gpus, num_learners=config.num_learners,\n",
    "#         num_runners=config.num_runners, max_timesteps=config.max_timesteps,\n",
    "#         update_timesteps=config.update_timesteps, sync_across_nodes=not config.dont_sync_across_nodes,\n",
    "#         flush_iterations=config.flush_iterations,\n",
    "#         checkpoint_iterations=config.checkpoint_iterations, checkpoint_dir=config.checkpoint_dir,\n",
    "#         checkpoint=config.checkpoint, checkpoint_name=config.checkpoint_name,\n",
    "#         stage_functions=stage_functions, logfile=config.logfile)\n",
    "\n",
    "# ray.get(train.remote(config))\n"
   ]
  },
  {
   "cell_type": "markdown",
   "metadata": {},
   "source": [
    "# Run Locally"
   ]
  },
  {
   "cell_type": "code",
   "execution_count": null,
   "metadata": {},
   "outputs": [],
   "source": [
    "config.update_timesteps = 100_000\n",
    "config.max_timesteps = 30_000_000"
   ]
  },
  {
   "cell_type": "code",
   "execution_count": 7,
   "metadata": {},
   "outputs": [],
   "source": [
    "import numpy as np\n",
    "import torch\n",
    "torch.random.manual_seed(42)\n",
    "np.random.seed(42)\n",
    "\n",
    "# Initialize locally\n",
    "os.environ['AWS_PROFILE'] = 'waisman-admin'\n",
    "\n",
    "dataloader_kwargs = {'num_nodes': [2**9, 2**11], 'mask': config.train_split}  # {'num_nodes': [2**9, 2**11], 'pca_dim': 128}\n",
    "environment_kwargs = {\n",
    "    'input_modalities': config.input_modalities,\n",
    "    'target_modalities': config.target_modalities, 'dim': config.dim}\n",
    "env_init, policy_init, memory_init = celltrip.train.get_initializers(\n",
    "    input_files=config.input_files, merge_files=config.merge_files,\n",
    "    backed=config.backed, dataloader_kwargs=dataloader_kwargs,\n",
    "    policy_kwargs={'minibatch_size': 10_000},\n",
    "    # memory_kwargs={'device': 'cuda:0'},  # Skips casting, cutting time significantly for relatively small batch sizes\n",
    "    environment_kwargs=environment_kwargs)\n",
    "# del env\n",
    "\n",
    "# Environment\n",
    "# os.environ['CUDA_LAUNCH_BLOCKING']='1'\n",
    "try: env\n",
    "except: env = env_init().to('cuda')\n",
    "\n",
    "# Policy\n",
    "policy = policy_init(env).to('cuda')\n",
    "\n",
    "# Memory\n",
    "memory = memory_init(policy)\n"
   ]
  },
  {
   "cell_type": "code",
   "execution_count": 8,
   "metadata": {},
   "outputs": [],
   "source": [
    "# import numpy as np\n",
    "# import torch\n",
    "\n",
    "# X = 5*torch.rand(1000, 8)\n",
    "# Y = 5*torch.rand(1000, 256)\n",
    "# X_norm_scaled = torch.linalg.matrix_norm(X) * np.sqrt(Y.shape[1]/X.shape[1])\n",
    "# Y_norm = torch.linalg.matrix_norm(Y)\n",
    "# # X_norm_scaled = Y_norm = 1\n",
    "\n",
    "# # Distance method\n",
    "# # dist = ((torch.cdist(X, X) - torch.cdist(Y, Y))/np.sqrt(X.shape[0])).square().mean(dim=-1)\n",
    "\n",
    "# # Least squares method\n",
    "# C = torch.linalg.lstsq(X, Y / Y_norm).solution\n",
    "# (torch.matmul(X, C) * X_norm_scaled - Y).square().mean(dim=-1)"
   ]
  },
  {
   "cell_type": "code",
   "execution_count": 9,
   "metadata": {},
   "outputs": [],
   "source": [
    "# # Forward\n",
    "# import line_profiler\n",
    "# memory.mark_sampled()\n",
    "# memory.cleanup()\n",
    "# prof = line_profiler.LineProfiler(\n",
    "#     celltrip.train.simulate_until_completion,\n",
    "#     celltrip.policy.PPO.forward,\n",
    "#     celltrip.policy.EntitySelfAttentionLite.forward,\n",
    "#     celltrip.policy.ResidualAttention.forward,\n",
    "#     celltrip.environment.EnvironmentBase.step)\n",
    "# ret = prof.runcall(celltrip.train.simulate_until_completion, env, policy, memory, max_memories=config.update_timesteps, reset_on_finish=True)\n",
    "# print('ROLLOUT: ' + f'total: {ret[2]:.3f}, ' + ', '.join([f'{k}: {v:.3f}' for k, v in ret[3].items()]))\n",
    "# # memory.feed_new(policy.reward_standardization)\n",
    "# memory.compute_advantages()  # moving_standardization=policy.reward_standardization\n",
    "# prof.print_stats(output_unit=1)\n"
   ]
  },
  {
   "cell_type": "code",
   "execution_count": 10,
   "metadata": {},
   "outputs": [],
   "source": [
    "# idx = np.sort(np.random.choice(len(memory), 10_000, replace=False))\n",
    "# a = memory[idx]\n",
    "\n",
    "# list_num = idx // a['states'][1].shape[1]\n",
    "# in_list_num = np.mod(idx, a['states'][1].shape[1])\n",
    "# check_idx = 2\n",
    "\n",
    "# a['states'][0]\n",
    "# memory.storage['states'][list_num[check_idx]][in_list_num[check_idx]]\n",
    "\n",
    "# a['states'][1]\n",
    "# memory.storage['states'][list_num[check_idx]]\n",
    "\n",
    "# a['advantages'][check_idx]\n",
    "# memory.storage['advantages'][list_num[check_idx]][in_list_num[check_idx]]\n",
    "\n",
    "# a['states'][2]\n"
   ]
  },
  {
   "cell_type": "code",
   "execution_count": 11,
   "metadata": {},
   "outputs": [],
   "source": [
    "# # Memory pull\n",
    "# memory[0]\n",
    "# import line_profiler\n",
    "# prof = line_profiler.LineProfiler(\n",
    "#     celltrip.memory.AdvancedMemoryBuffer.fast_sample)\n",
    "# ret = prof.runcall(memory.__getitem__, np.random.choice(len(memory), 10_000, replace=False))\n",
    "# memory.compute_advantages()  # moving_standardization=policy.reward_standardizatio\n",
    "# prof.print_stats(output_unit=1)\n"
   ]
  },
  {
   "cell_type": "code",
   "execution_count": 12,
   "metadata": {},
   "outputs": [],
   "source": [
    "# # Updates\n",
    "# import line_profiler\n",
    "# prof = line_profiler.LineProfiler(\n",
    "#     # memory.fast_sample, policy.actor_critic.forward,\n",
    "#     celltrip.policy.ResidualAttentionBlock.forward,\n",
    "#     policy.calculate_losses, policy.update,\n",
    "#     celltrip.memory.AdvancedMemoryBuffer.__getitem__)\n",
    "# ret = prof.runcall(policy.update, memory, verbose=True)\n",
    "# print('UPDATE: ' + ', '.join([f'{k}: {v:.3f}' for ret_dict in ret[1:] for k, v in ret_dict.items()]))\n",
    "# prof.print_stats(output_unit=1)\n"
   ]
  },
  {
   "cell_type": "code",
   "execution_count": null,
   "metadata": {},
   "outputs": [
    {
     "name": "stdout",
     "output_type": "stream",
     "text": [
      "ROLLOUT: iterations:    62, total:  1.746, distance:  0.000, expvar:  3.006, origin:  0.000, bound:  0.000, velocity: -1.198, action: -0.062\n",
      "UPDATE: Total:  0.486, PPO:  0.213, critic:  0.281, entropy: -7.734, KL:  0.566, Moving Return Mean: -0.030, Moving Return STD:  0.900, Return Mean: -0.087, Return STD:  0.668, Explained Variance:  0.213\n",
      "ROLLOUT: iterations:    62, total:  2.330, distance:  0.000, expvar:  3.499, origin:  0.000, bound:  0.000, velocity: -1.107, action: -0.062\n",
      "UPDATE: Total:  0.579, PPO:  0.165, critic:  0.422, entropy: -7.612, KL:  0.376, Moving Return Mean: -0.168, Moving Return STD:  0.947, Return Mean: -0.395, Return STD:  1.129, Explained Variance:  0.467\n",
      "ROLLOUT: iterations:    62, total: -11.585, distance:  0.000, expvar: -10.232, origin:  0.000, bound:  0.000, velocity: -1.291, action: -0.062\n",
      "UPDATE: Total:  0.677, PPO:  0.111, critic:  0.573, entropy: -7.380, KL:  0.225, Moving Return Mean: -1.949, Moving Return STD:  2.704, Return Mean: -5.236, Return STD:  2.454, Explained Variance:  0.072\n",
      "ROLLOUT: iterations:    62, total: -51.960, distance:  0.000, expvar: -50.424, origin:  0.000, bound:  0.000, velocity: -1.474, action: -0.062\n",
      "UPDATE: Total:  0.825, PPO:  0.113, critic:  0.719, entropy: -6.874, KL:  0.207, Moving Return Mean: -8.282, Moving Return STD:  8.682, Return Mean: -18.120, Return STD:  9.174, Explained Variance:  0.202\n",
      "ROLLOUT: iterations:    62, total: -134.131, distance:  0.000, expvar: -132.582, origin:  0.000, bound:  0.000, velocity: -1.487, action: -0.062\n",
      "UPDATE: Total:  0.706, PPO:  0.100, critic:  0.612, entropy: -6.838, KL:  0.210, Moving Return Mean: -23.871, Moving Return STD:  22.073, Return Mean: -46.779, Return STD:  24.075, Explained Variance:  0.365\n",
      "ROLLOUT: iterations:    62, total: -272.001, distance:  0.000, expvar: -270.460, origin:  0.000, bound:  0.000, velocity: -1.479, action: -0.062\n",
      "UPDATE: Total:  0.623, PPO:  0.066, critic:  0.564, entropy: -6.971, KL:  0.145, Moving Return Mean: -55.107, Moving Return STD:  45.342, Return Mean: -98.628, Return STD:  48.694, Explained Variance:  0.437\n",
      "ROLLOUT: iterations:    62, total: -479.983, distance:  0.000, expvar: -478.418, origin:  0.000, bound:  0.000, velocity: -1.503, action: -0.062\n",
      "UPDATE: Total:  0.526, PPO:  0.065, critic:  0.468, entropy: -6.876, KL:  0.167, Moving Return Mean: -109.504, Moving Return STD:  81.506, Return Mean: -182.586, Return STD:  86.753, Explained Variance:  0.517\n",
      "ROLLOUT: iterations:    62, total: -773.080, distance:  0.000, expvar: -771.519, origin:  0.000, bound:  0.000, velocity: -1.499, action: -0.062\n",
      "UPDATE: Total:  0.461, PPO:  0.041, critic:  0.427, entropy: -6.994, KL:  0.133, Moving Return Mean: -196.783, Moving Return STD:  133.409, Return Mean: -311.606, Return STD:  138.024, Explained Variance:  0.539\n",
      "ROLLOUT: iterations:    62, total: -1161.546, distance:  0.000, expvar: -1160.010, origin:  0.000, bound:  0.000, velocity: -1.474, action: -0.062\n",
      "UPDATE: Total:  0.452, PPO:  0.041, critic:  0.418, entropy: -7.025, KL:  0.147, Moving Return Mean: -324.807, Moving Return STD:  201.204, Return Mean: -487.542, Return STD:  205.909, Explained Variance:  0.543\n",
      "ROLLOUT: iterations:    62, total: -1660.746, distance:  0.000, expvar: -1659.181, origin:  0.000, bound:  0.000, velocity: -1.504, action: -0.062\n",
      "UPDATE: Total:  0.392, PPO:  0.031, critic:  0.369, entropy: -6.894, KL:  0.151, Moving Return Mean: -504.852, Moving Return STD:  289.972, Return Mean: -732.760, Return STD:  293.166, Explained Variance:  0.554\n",
      "ROLLOUT: iterations:    62, total: -2165.579, distance:  0.000, expvar: -2163.922, origin:  0.000, bound:  0.000, velocity: -1.595, action: -0.062\n",
      "UPDATE: Total:  0.396, PPO:  0.023, critic:  0.380, entropy: -6.746, KL:  0.163, Moving Return Mean: -737.300, Moving Return STD:  390.260, Return Mean: -1018.282, Return STD:  390.739, Explained Variance:  0.518\n",
      "ROLLOUT: iterations:    83, total:  2.005, distance:  0.000, expvar:  4.058, origin:  0.000, bound:  0.000, velocity: -1.970, action: -0.083\n",
      "UPDATE: Total:  0.347, PPO:  0.071, critic:  0.283, entropy: -7.150, KL:  0.140, Moving Return Mean: -1072.290, Moving Return STD:  486.427, Return Mean: -1512.652, Return STD:  319.355, Explained Variance:  0.086\n",
      "ROLLOUT: iterations:    80, total: -2.206, distance:  0.000, expvar: -0.108, origin:  0.000, bound:  0.000, velocity: -2.018, action: -0.080\n",
      "UPDATE: Total:  0.233, PPO:  0.026, critic:  0.214, entropy: -6.899, KL:  0.035, Moving Return Mean: -1429.726, Moving Return STD:  487.150, Return Mean: -1794.627, Return STD:  243.150, Explained Variance: -0.043\n",
      "ROLLOUT: iterations:    74, total:  2.563, distance:  0.000, expvar:  4.555, origin:  0.000, bound:  0.000, velocity: -1.919, action: -0.074\n",
      "UPDATE: Total:  0.053, PPO:  0.014, critic:  0.046, entropy: -6.723, KL:  0.021, Moving Return Mean: -1579.725, Moving Return STD:  367.136, Return Mean: -1598.346, Return STD:  52.186, Explained Variance: -0.166\n",
      "ROLLOUT: iterations:    74, total: -16.810, distance:  0.000, expvar: -15.002, origin:  0.000, bound:  0.000, velocity: -1.735, action: -0.074\n",
      "UPDATE: Total:  0.107, PPO:  0.022, critic:  0.092, entropy: -7.128, KL:  0.027, Moving Return Mean: -1499.214, Moving Return STD:  264.204, Return Mean: -1329.055, Return STD:  48.987, Explained Variance:  0.095\n",
      "ROLLOUT: iterations:    74, total: -82.124, distance:  0.000, expvar: -80.689, origin:  0.000, bound:  0.000, velocity: -1.360, action: -0.074\n",
      "UPDATE: Total:  0.035, PPO:  0.007, critic:  0.036, entropy: -7.763, KL:  0.013, Moving Return Mean: -1301.166, Moving Return STD:  254.264, Return Mean: -1043.863, Return STD:  42.468, Explained Variance: -0.064\n",
      "ROLLOUT: iterations:    74, total: -205.398, distance:  0.000, expvar: -203.930, origin:  0.000, bound:  0.000, velocity: -1.395, action: -0.074\n",
      "UPDATE: Total:  0.022, PPO:  0.001, critic:  0.029, entropy: -7.712, KL:  0.006, Moving Return Mean: -1118.448, Moving Return STD:  225.783, Return Mean: -955.984, Return STD:  36.582, Explained Variance:  0.071\n",
      "ROLLOUT: iterations:    74, total: -402.959, distance:  0.000, expvar: -401.479, origin:  0.000, bound:  0.000, velocity: -1.406, action: -0.074\n",
      "UPDATE: Total:  0.015, PPO: -0.000, critic:  0.023, entropy: -7.684, KL:  0.006, Moving Return Mean: -1014.809, Moving Return STD:  169.951, Return Mean: -935.001, Return STD:  31.541, Explained Variance:  0.289\n",
      "ROLLOUT: iterations:    74, total: -691.536, distance:  0.000, expvar: -690.040, origin:  0.000, bound:  0.000, velocity: -1.421, action: -0.074\n",
      "UPDATE: Total:  0.029, PPO: -0.001, critic:  0.038, entropy: -7.569, KL:  0.006, Moving Return Mean: -1004.068, Moving Return STD:  119.727, Return Mean: -1042.840, Return STD:  40.054, Explained Variance:  0.572\n",
      "ROLLOUT: iterations:    74, total: -1088.867, distance:  0.000, expvar: -1087.376, origin:  0.000, bound:  0.000, velocity: -1.417, action: -0.074\n",
      "UPDATE: Total:  0.092, PPO:  0.009, critic:  0.091, entropy: -7.467, KL:  0.016, Moving Return Mean: -1120.722, Moving Return STD:  157.340, Return Mean: -1318.201, Return STD:  54.615, Explained Variance:  0.505\n",
      "ROLLOUT: iterations:    74, total: -1608.888, distance:  0.000, expvar: -1607.386, origin:  0.000, bound:  0.000, velocity: -1.428, action: -0.074\n",
      "UPDATE: Total:  0.095, PPO:  0.013, critic:  0.089, entropy: -7.389, KL:  0.021, Moving Return Mean: -1353.419, Moving Return STD:  245.795, Return Mean: -1657.604, Return STD:  64.857, Explained Variance:  0.306\n",
      "ROLLOUT: iterations:    74, total: -2260.300, distance:  0.000, expvar: -2258.893, origin:  0.000, bound:  0.000, velocity: -1.334, action: -0.074\n",
      "UPDATE: Total:  0.129, PPO:  0.021, critic:  0.115, entropy: -7.419, KL:  0.029, Moving Return Mean: -1655.189, Moving Return STD:  320.088, Return Mean: -2013.745, Return STD:  83.431, Explained Variance:  0.122\n",
      "ROLLOUT: iterations:    74, total: -3049.305, distance:  0.000, expvar: -3047.879, origin:  0.000, bound:  0.000, velocity: -1.352, action: -0.074\n",
      "UPDATE: Total:  0.132, PPO:  0.020, critic:  0.120, entropy: -7.237, KL:  0.027, Moving Return Mean: -2022.174, Moving Return STD:  399.394, Return Mean: -2466.712, Return STD:  113.388, Explained Variance:  0.032\n",
      "ROLLOUT: iterations:    74, total: -3987.157, distance:  0.000, expvar: -3985.762, origin:  0.000, bound:  0.000, velocity: -1.322, action: -0.074\n",
      "UPDATE: Total:  0.174, PPO:  0.033, critic:  0.148, entropy: -7.081, KL:  0.043, Moving Return Mean: -2479.704, Moving Return STD:  499.875, Return Mean: -3035.769, Return STD:  149.718, Explained Variance: -0.009\n",
      "ROLLOUT: iterations:    74, total: -5071.992, distance:  0.000, expvar: -5070.655, origin:  0.000, bound:  0.000, velocity: -1.265, action: -0.074\n",
      "UPDATE: Total:  0.177, PPO:  0.022, critic:  0.162, entropy: -6.925, KL:  0.030, Moving Return Mean: -3036.632, Moving Return STD:  613.179, Return Mean: -3702.337, Return STD:  204.166, Explained Variance: -0.019\n",
      "ROLLOUT: iterations:    71, total: -2649.951, distance:  0.000, expvar: -2648.585, origin:  0.000, bound:  0.000, velocity: -1.294, action: -0.071\n",
      "UPDATE: Total:  1.243, PPO:  0.185, critic:  1.065, entropy: -7.564, KL:  0.408, Moving Return Mean: -3126.328, Moving Return STD:  925.791, Return Mean: -2803.211, Return STD:  1310.936, Explained Variance:  0.065\n",
      "ROLLOUT: iterations:    69, total:  2.527, distance:  0.000, expvar:  3.872, origin:  0.000, bound:  0.000, velocity: -1.276, action: -0.069\n",
      "UPDATE: Total: -0.005, PPO: -0.001, critic:  0.004, entropy: -7.713, KL:  0.003, Moving Return Mean: -2527.174, Moving Return STD:  1092.150, Return Mean: -1605.641, Return STD:  90.042, Explained Variance:  0.425\n",
      "ROLLOUT: iterations:    69, total: -6.393, distance:  0.000, expvar: -5.002, origin:  0.000, bound:  0.000, velocity: -1.322, action: -0.069\n",
      "UPDATE: Total: -0.002, PPO: -0.001, critic:  0.007, entropy: -7.515, KL:  0.004, Moving Return Mean: -2139.837, Moving Return STD:  803.349, Return Mean: -2076.334, Return STD:  174.571, Explained Variance:  0.818\n",
      "ROLLOUT: iterations:    57, total: -9.367, distance:  0.000, expvar: -8.194, origin:  0.000, bound:  0.000, velocity: -1.117, action: -0.057\n",
      "UPDATE: Total:  0.762, PPO:  0.027, critic:  0.742, entropy: -7.473, KL:  0.094, Moving Return Mean: -1997.191, Moving Return STD:  714.534, Return Mean: -1767.760, Return STD:  792.305, Explained Variance:  0.084\n",
      "ROLLOUT: iterations:    50, total:  1.839, distance:  0.000, expvar:  2.828, origin:  0.000, bound:  0.000, velocity: -0.939, action: -0.050\n",
      "UPDATE: Total: -0.007, PPO: -0.002, critic:  0.002, entropy: -7.552, KL:  0.004, Moving Return Mean: -1708.843, Moving Return STD:  667.875, Return Mean: -1320.555, Return STD:  117.960, Explained Variance:  0.894\n",
      "ROLLOUT: iterations:    50, total:  0.629, distance:  0.000, expvar:  1.741, origin:  0.000, bound:  0.000, velocity: -1.061, action: -0.050\n",
      "UPDATE: Total:  0.000, PPO: -0.000, critic:  0.008, entropy: -7.286, KL:  0.005, Moving Return Mean: -1691.775, Moving Return STD:  496.853, Return Mean: -1948.674, Return STD:  128.334, Explained Variance:  0.906\n",
      "ROLLOUT: iterations:    50, total: -8.286, distance:  0.000, expvar: -7.232, origin:  0.000, bound:  0.000, velocity: -1.005, action: -0.050\n",
      "UPDATE: Total:  0.030, PPO:  0.002, critic:  0.036, entropy: -7.286, KL:  0.007, Moving Return Mean: -1935.216, Moving Return STD:  395.741, Return Mean: -2215.877, Return STD:  114.893, Explained Variance:  0.718\n",
      "ROLLOUT: iterations:    50, total: -28.461, distance:  0.000, expvar: -27.455, origin:  0.000, bound:  0.000, velocity: -0.956, action: -0.050\n",
      "UPDATE: Total:  0.089, PPO:  0.004, critic:  0.091, entropy: -7.241, KL:  0.010, Moving Return Mean: -2178.570, Moving Return STD:  342.711, Return Mean: -2441.322, Return STD:  122.392, Explained Variance:  0.514\n",
      "ROLLOUT: iterations:    50, total: -62.930, distance:  0.000, expvar: -61.916, origin:  0.000, bound:  0.000, velocity: -0.964, action: -0.050\n",
      "UPDATE: Total:  0.086, PPO:  0.003, critic:  0.090, entropy: -7.045, KL:  0.008, Moving Return Mean: -2439.192, Moving Return STD:  337.023, Return Mean: -2748.836, Return STD:  137.439, Explained Variance:  0.788\n",
      "ROLLOUT: iterations:    50, total: -115.182, distance:  0.000, expvar: -114.146, origin:  0.000, bound:  0.000, velocity: -0.986, action: -0.050\n",
      "UPDATE: Total:  0.109, PPO:  0.003, critic:  0.112, entropy: -6.786, KL:  0.009, Moving Return Mean: -2741.254, Moving Return STD:  364.336, Return Mean: -3096.311, Return STD:  151.643, Explained Variance:  0.722\n",
      "ROLLOUT: iterations:    50, total: -189.315, distance:  0.000, expvar: -188.258, origin:  0.000, bound:  0.000, velocity: -1.006, action: -0.050\n",
      "UPDATE: Total:  0.125, PPO:  0.005, critic:  0.127, entropy: -6.516, KL:  0.010, Moving Return Mean: -3035.331, Moving Return STD:  364.717, Return Mean: -3340.977, Return STD:  155.937, Explained Variance:  0.672\n",
      "ROLLOUT: iterations:    50, total: -289.279, distance:  0.000, expvar: -288.194, origin:  0.000, bound:  0.000, velocity: -1.036, action: -0.050\n",
      "UPDATE: Total:  0.164, PPO:  0.008, critic:  0.162, entropy: -6.211, KL:  0.014, Moving Return Mean: -3340.610, Moving Return STD:  382.113, Return Mean: -3704.914, Return STD:  165.002, Explained Variance:  0.586\n",
      "ROLLOUT: iterations:    50, total: -419.546, distance:  0.000, expvar: -418.428, origin:  0.000, bound:  0.000, velocity: -1.068, action: -0.050\n",
      "UPDATE: Total:  0.106, PPO:  0.004, critic:  0.109, entropy: -5.885, KL:  0.008, Moving Return Mean: -3695.584, Moving Return STD:  423.292, Return Mean: -4112.534, Return STD:  178.436, Explained Variance:  0.750\n",
      "ROLLOUT: iterations:    50, total: -585.918, distance:  0.000, expvar: -584.746, origin:  0.000, bound:  0.000, velocity: -1.122, action: -0.050\n",
      "UPDATE: Total:  0.135, PPO:  0.006, critic:  0.134, entropy: -5.658, KL:  0.012, Moving Return Mean: -4042.323, Moving Return STD:  426.807, Return Mean: -4403.969, Return STD:  177.935, Explained Variance:  0.566\n",
      "ROLLOUT: iterations:    50, total: -797.067, distance:  0.000, expvar: -795.831, origin:  0.000, bound:  0.000, velocity: -1.186, action: -0.050\n",
      "UPDATE: Total:  0.083, PPO:  0.001, critic:  0.088, entropy: -5.345, KL:  0.005, Moving Return Mean: -4411.563, Moving Return STD:  457.542, Return Mean: -4858.188, Return STD:  203.523, Explained Variance:  0.807\n",
      "ROLLOUT: iterations:    50, total: -1059.258, distance:  0.000, expvar: -1057.994, origin:  0.000, bound:  0.000, velocity: -1.214, action: -0.050\n"
     ]
    }
   ],
   "source": [
    "for _ in range(int(config.max_timesteps / config.update_timesteps)):\n",
    "    # Forward\n",
    "    memory.mark_sampled()\n",
    "    memory.cleanup()\n",
    "    ret = celltrip.train.simulate_until_completion(\n",
    "        env, policy, memory,\n",
    "        max_memories=config.update_timesteps,\n",
    "        # max_timesteps=100,\n",
    "        reset_on_finish=True)\n",
    "    print('ROLLOUT: ' + f'iterations: {ret[0]: 5.0f}, ' + f'total: {ret[2]: 5.3f}, ' + ', '.join([f'{k}: {v: 5.3f}' for k, v in ret[3].items()]))\n",
    "    memory.compute_advantages()\n",
    "\n",
    "    # Update\n",
    "    # NOTE: Training often only improves when PopArt and actual distribution match\n",
    "    ret = policy.update(memory, verbose=False)\n",
    "    print('UPDATE: ' + ', '.join([f'{k}: {v: 5.3f}' for ret_dict in ret[1:] for k, v in ret_dict.items()]))\n"
   ]
  },
  {
   "cell_type": "code",
   "execution_count": null,
   "metadata": {},
   "outputs": [],
   "source": [
    "# TODO: Add evaluation to train.py\n"
   ]
  },
  {
   "cell_type": "code",
   "execution_count": null,
   "metadata": {},
   "outputs": [],
   "source": [
    "# idx = np.random.choice(100_000, 20)\n",
    "# a = memory.fast_sample(chosen=idx, flatten=False)\n",
    "# b = memory.fast_sample(chosen=idx, flatten=True)\n"
   ]
  },
  {
   "cell_type": "code",
   "execution_count": null,
   "metadata": {},
   "outputs": [],
   "source": [
    "# env.max_timesteps = 1_000\n",
    "env.reset()\n",
    "memory = memory_init(policy)\n",
    "ret = celltrip.train.simulate_until_completion(env, policy, memory, store_states=True)\n",
    "steady_states = ret[-1].cpu()\n",
    "ret\n"
   ]
  },
  {
   "cell_type": "code",
   "execution_count": null,
   "metadata": {},
   "outputs": [],
   "source": [
    "env.get_distance_match().mean()\n"
   ]
  },
  {
   "cell_type": "code",
   "execution_count": null,
   "metadata": {},
   "outputs": [],
   "source": [
    "steady_states[-1, :, :env.dim]\n"
   ]
  },
  {
   "cell_type": "code",
   "execution_count": null,
   "metadata": {},
   "outputs": [],
   "source": [
    "steady_states[-1, :, env.dim:]\n"
   ]
  },
  {
   "cell_type": "code",
   "execution_count": null,
   "metadata": {},
   "outputs": [],
   "source": [
    "np.linalg.norm(memory.storage['actions'][-1]-1, axis=-1)\n"
   ]
  },
  {
   "cell_type": "code",
   "execution_count": null,
   "metadata": {},
   "outputs": [],
   "source": [
    "import matplotlib.pyplot as plt\n",
    "import seaborn as sns\n",
    "import umap\n",
    "\n",
    "# Get data and types\n",
    "# raw = env.dataloader.adatas[0][env.keys].X\n",
    "raw = steady_states[-1, :, :env.dim]\n",
    "reducer = umap.UMAP(n_neighbors=100)\n",
    "\n",
    "# Transform\n",
    "transformed = reducer.fit_transform(raw)\n",
    "# transformed = raw[:, :2]\n",
    "# transformed = raw[:, 1:3]\n",
    "# types = env.dataloader.adatas[0].obs.loc[env.keys, 'layer'].to_numpy()\n",
    "types = env.dataloader.adatas[0].obs.loc[env.keys, 'cell_type'].to_numpy()\n",
    "\n",
    "# Plot\n",
    "fig, ax = plt.subplots(figsize=(4, 4))\n",
    "for t in np.unique(types):\n",
    "    ax.scatter(*transformed[types==t].T, s=2)\n",
    "sns.despine(left=True, bottom=True, ax=ax)\n",
    "# ax.set_xticks([])\n",
    "# ax.set_yticks([])\n",
    "# ax.add_patch(plt.Circle((0, 0), env.pos_bound, facecolor='none', edgecolor='black'))\n",
    "fig.show()\n"
   ]
  },
  {
   "cell_type": "code",
   "execution_count": null,
   "metadata": {},
   "outputs": [],
   "source": [
    "modalities = env.get_modalities()\n"
   ]
  },
  {
   "cell_type": "code",
   "execution_count": null,
   "metadata": {},
   "outputs": [],
   "source": [
    "import matplotlib.pyplot as plt\n",
    "import seaborn as sns\n",
    "import umap\n",
    "\n",
    "# Get data and types\n",
    "# raw = env.dataloader.adatas[0][env.keys].X\n",
    "raw = modalities[1].cpu()\n",
    "reducer = umap.UMAP()\n",
    "\n",
    "# Transform\n",
    "transformed = reducer.fit_transform(raw)\n",
    "types = env.dataloader.adatas[0].obs.loc[env.keys, 'cell_type'].to_numpy()\n",
    "\n",
    "# Plot\n",
    "fig, ax = plt.subplots(figsize=(4, 4))\n",
    "for t in np.unique(types):\n",
    "    ax.scatter(*transformed[types==t].T, s=2)\n",
    "sns.despine(left=True, bottom=True, ax=ax)\n",
    "fig.show()\n"
   ]
  }
 ],
 "metadata": {
  "kernelspec": {
   "display_name": "ct",
   "language": "python",
   "name": "python3"
  },
  "language_info": {
   "codemirror_mode": {
    "name": "ipython",
    "version": 3
   },
   "file_extension": ".py",
   "mimetype": "text/x-python",
   "name": "python",
   "nbconvert_exporter": "python",
   "pygments_lexer": "ipython3",
   "version": "3.10.16"
  }
 },
 "nbformat": 4,
 "nbformat_minor": 2
}
