{
 "cells": [
  {
   "cell_type": "code",
   "execution_count": 1,
   "metadata": {},
   "outputs": [],
   "source": [
    "import numpy as np\n",
    "import torch\n",
    "\n",
    "import inspect\n",
    "import os\n",
    "import sys\n",
    "\n",
    "sys.path.insert(0, os.path.abspath('../examples'))\n",
    "import data\n",
    "\n",
    "DEVICE = 'cuda:0' if torch.cuda.is_available() else 'cpu'\n",
    "BASE_FOLDER = os.path.abspath('')\n",
    "DATA_FOLDER = os.path.join(BASE_FOLDER, '../data')"
   ]
  },
  {
   "cell_type": "markdown",
   "metadata": {},
   "source": [
    "### Data Setup"
   ]
  },
  {
   "cell_type": "code",
   "execution_count": 2,
   "metadata": {},
   "outputs": [],
   "source": [
    "# Parameters\n",
    "dataset_name = 'ISS'\n",
    "dimensions = 16\n",
    "seed = 42\n",
    "\n",
    "# Derivatives\n",
    "RUN_FOLDER = os.path.join(BASE_FOLDER, 'runs', dataset_name)"
   ]
  },
  {
   "cell_type": "code",
   "execution_count": 3,
   "metadata": {},
   "outputs": [],
   "source": [
    "# Load data and save to file\n",
    "modalities, types, features = data.load_data(dataset_name, DATA_FOLDER)\n",
    "\n",
    "if not os.path.exists(RUN_FOLDER): os.mkdir(RUN_FOLDER)\n",
    "for i in range(len(modalities)):\n",
    "    modality = modalities[i]\n",
    "\n",
    "    # Regular matrices (ManiNetCluster)\n",
    "    np.savetxt(os.path.join(RUN_FOLDER, f'X{i+1}.txt'), modality, delimiter='\\t')\n",
    "\n",
    "    # Similarity matrices (MMD-MA)\n",
    "    modality_z = modality - modality.mean(axis=0, keepdims=True) / modality.std(axis=0, keepdims=True)\n",
    "    similarity = np.matmul(modality_z, modality_z.T)\n",
    "    np.savetxt(os.path.join(RUN_FOLDER, f'X{i+1}_sim.tsv'), similarity, delimiter='\\t')"
   ]
  },
  {
   "cell_type": "markdown",
   "metadata": {},
   "source": [
    "### Methods\n",
    "Arranged from fastest to slowest"
   ]
  },
  {
   "cell_type": "code",
   "execution_count": 4,
   "metadata": {},
   "outputs": [],
   "source": [
    "# LMA\n",
    "# https://github.com/namtk/ManiNetCluster/tree/master/inst/python\n",
    "new_wd = os.path.join(RUN_FOLDER, 'LMA')\n",
    "if not os.path.exists(new_wd): os.mkdir(new_wd)\n",
    "os.chdir(new_wd)\n",
    "\n",
    "!conda run -n maninetcluster python {os.path.join(BASE_FOLDER, 'maninetcluster_helper.py')} {os.path.join(RUN_FOLDER, 'X1.txt')} {os.path.join(RUN_FOLDER, 'X2.txt')} --align lma -p {dimensions}\n",
    "\n",
    "os.chdir(BASE_FOLDER)"
   ]
  },
  {
   "cell_type": "code",
   "execution_count": 6,
   "metadata": {},
   "outputs": [],
   "source": [
    "# CCA\n",
    "# https://github.com/namtk/ManiNetCluster/tree/master/inst/python\n",
    "new_wd = os.path.join(RUN_FOLDER, 'CCA')\n",
    "if not os.path.exists(new_wd): os.mkdir(new_wd)\n",
    "os.chdir(new_wd)\n",
    "\n",
    "!conda run -n maninetcluster python {os.path.join(BASE_FOLDER, 'maninetcluster_helper.py')} {os.path.join(RUN_FOLDER, 'X1.txt')} {os.path.join(RUN_FOLDER, 'X2.txt')} --align cca -p {dimensions}\n",
    "\n",
    "os.chdir(BASE_FOLDER)"
   ]
  },
  {
   "cell_type": "code",
   "execution_count": 5,
   "metadata": {},
   "outputs": [],
   "source": [
    "# NLMA\n",
    "# https://github.com/namtk/ManiNetCluster/tree/master/inst/python\n",
    "new_wd = os.path.join(RUN_FOLDER, 'NLMA')\n",
    "if not os.path.exists(new_wd): os.mkdir(new_wd)\n",
    "os.chdir(new_wd)\n",
    "\n",
    "!conda run -n maninetcluster python {os.path.join(BASE_FOLDER, 'maninetcluster_helper.py')} {os.path.join(RUN_FOLDER, 'X1.txt')} {os.path.join(RUN_FOLDER, 'X2.txt')} --align nlma -p {dimensions}\n",
    "\n",
    "os.chdir(BASE_FOLDER)"
   ]
  },
  {
   "cell_type": "code",
   "execution_count": 7,
   "metadata": {},
   "outputs": [
    {
     "name": "stdout",
     "output_type": "stream",
     "text": [
      "^C\n",
      "Traceback (most recent call last):\n",
      "  File \"/home/thema/repos/inept/other_methods/mmd_helper.py\", line 4, in <module>\n",
      "    alpha = np.loadtxt('alpha_hat_42_10000.txt')  # Hard-coded\n",
      "  File \"/home/thema/miniconda3/envs/inept/lib/python3.10/site-packages/numpy/lib/npyio.py\", line 1373, in loadtxt\n",
      "    arr = _read(fname, dtype=dtype, comment=comment, delimiter=delimiter,\n",
      "  File \"/home/thema/miniconda3/envs/inept/lib/python3.10/site-packages/numpy/lib/npyio.py\", line 992, in _read\n",
      "    fh = np.lib._datasource.open(fname, 'rt', encoding=encoding)\n",
      "  File \"/home/thema/miniconda3/envs/inept/lib/python3.10/site-packages/numpy/lib/_datasource.py\", line 193, in open\n",
      "    return ds.open(path, mode, encoding=encoding, newline=newline)\n",
      "  File \"/home/thema/miniconda3/envs/inept/lib/python3.10/site-packages/numpy/lib/_datasource.py\", line 533, in open\n",
      "    raise FileNotFoundError(f\"{path} not found.\")\n",
      "FileNotFoundError: alpha_hat_42_10000.txt not found.\n"
     ]
    }
   ],
   "source": [
    "# MMD-MA\n",
    "# https://bitbucket.org/noblelab/2019_mmd_wabi/src/master/manifoldAlignDistortionPen_mmd_multipleStarts.py\n",
    "new_wd = os.path.join(RUN_FOLDER, 'MMD-MA')\n",
    "if not os.path.exists(new_wd): os.mkdir(new_wd)\n",
    "os.chdir(new_wd)\n",
    "\n",
    "!conda run -n mmdma python {os.path.join(BASE_FOLDER, 'MMD-MA/manifoldAlignDistortionPen_mmd_multipleStarts.py')} {os.path.join(RUN_FOLDER, 'X1_sim.tsv')} {os.path.join(RUN_FOLDER, 'X2_sim.tsv')} --seed {seed} --p {dimensions}\n",
    "!python {os.path.join(BASE_FOLDER, 'mmd_helper.py')}\n",
    "\n",
    "os.chdir(BASE_FOLDER)"
   ]
  }
 ],
 "metadata": {
  "kernelspec": {
   "display_name": "inept",
   "language": "python",
   "name": "python3"
  },
  "language_info": {
   "codemirror_mode": {
    "name": "ipython",
    "version": 3
   },
   "file_extension": ".py",
   "mimetype": "text/x-python",
   "name": "python",
   "nbconvert_exporter": "python",
   "pygments_lexer": "ipython3",
   "version": "3.10.14"
  }
 },
 "nbformat": 4,
 "nbformat_minor": 2
}
